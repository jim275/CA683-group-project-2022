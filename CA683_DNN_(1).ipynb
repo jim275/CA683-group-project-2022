{
  "nbformat": 4,
  "nbformat_minor": 0,
  "metadata": {
    "colab": {
      "name": "CA683 DNN .ipynb",
      "provenance": [],
      "collapsed_sections": [
        "szeeQrxUiI5O",
        "9U4UVH2tiR59",
        "ZFmM3eyrWSmD",
        "Z2hq4azLZP0q",
        "fPTlbO4fi89J",
        "T7-vFlYIqkdH",
        "QsfhNofwqxHX",
        "8HV78KRBq6w7",
        "_DtYRqYgrEDd",
        "7m_mQ38dtgRo",
        "Poobt2fy5GqN",
        "dG_T2CK7_a5X",
        "ML2YnC8B_a5Z",
        "rfIHgF-j_a5a",
        "dYgubRIt_a5e",
        "JacxnjhB_a5f",
        "W6m9Et_v_a5g",
        "iPkCNr9h_a5h",
        "kYc-RI4M_a5h",
        "wsJhPpSU_a5j",
        "ts91q6K2_a5l",
        "vjGQGY5tBHGK",
        "zWE5_IATBHGM",
        "DeQKOckkBHGO",
        "qSKwefFlBHGT",
        "D-2NLIKTBHGV",
        "6h0GX1OzBHGZ",
        "at_zulqLBHGb",
        "p7rBMxdbBHGd",
        "PulpoSo1BHGe",
        "PXoO-diEFc02",
        "9efkUu_qFc03",
        "DKjkUQIGFc03",
        "EB_AiHNfFc08",
        "RMY7KSveFc0_",
        "9LmMygiwFc1B",
        "iO-aTOWRFc1C",
        "Z_VPS7aoFc1D",
        "y_4S_lixFc1E",
        "I68LpnuKFc1G",
        "0gcDab-GG-Ld",
        "T_Bgs1olG-Le",
        "9lkxn1y3G-Lf",
        "o61RcWc4G-Lq",
        "BqblYh8lG-Lq",
        "lHAj7siVG-Ls",
        "uUp6SYq9G-Lt",
        "JHloOz2-Hbx5",
        "XdI6eCNKHbx6",
        "wVeP2pQFHbx7",
        "3bPFpTUiHbyB",
        "gMpxqcvmHbyD",
        "oaQskrmKHbyE",
        "3gSY3U8kHbyF",
        "jpLkBOhyHbyF",
        "W7s-pDCpHbyH",
        "bM5TCLfiHbyO",
        "9Hn6odfsJfgs",
        "G9SinMkZJfgt",
        "gdsUo3M2Jfgy",
        "_ycFHlDOJfg4",
        "adEZpVNHJfg4",
        "is9SxqGVJfg6",
        "ycj8kR_5Jfg7"
      ]
    },
    "kernelspec": {
      "name": "python3",
      "display_name": "Python 3"
    },
    "language_info": {
      "name": "python"
    }
  },
  "cells": [
    {
      "cell_type": "markdown",
      "source": [
        "#Imports,reading data and checking correlation"
      ],
      "metadata": {
        "id": "fXnvBLDysEgb"
      }
    },
    {
      "cell_type": "markdown",
      "source": [
        "##importing libraries, reading data"
      ],
      "metadata": {
        "id": "szeeQrxUiI5O"
      }
    },
    {
      "cell_type": "code",
      "execution_count": null,
      "metadata": {
        "id": "QMHHG7znF4S3",
        "colab": {
          "base_uri": "https://localhost:8080/"
        },
        "outputId": "3583ffd6-ce9d-412c-81f5-4ae264e47d1e"
      },
      "outputs": [
        {
          "output_type": "stream",
          "name": "stderr",
          "text": [
            "/usr/local/lib/python3.7/dist-packages/statsmodels/tools/_testing.py:19: FutureWarning: pandas.util.testing is deprecated. Use the functions in the public API at pandas.testing instead.\n",
            "  import pandas.util.testing as tm\n"
          ]
        }
      ],
      "source": [
        "import pandas as pd\n",
        "import numpy as np\n",
        "from sklearn import preprocessing\n",
        "import seaborn as sns\n",
        "from statsmodels.compat import lzip\n",
        "import statsmodels.formula.api as sm\n",
        "import statsmodels.stats.stattools as st\n",
        "import statsmodels.stats.api as sms\n",
        "from sklearn.model_selection import train_test_split\n",
        "from sklearn.linear_model import LogisticRegression\n",
        "from sklearn.linear_model import LinearRegression\n",
        "from sklearn.metrics import r2_score\n",
        "import matplotlib.pyplot as plt\n",
        "import os\n",
        "import tensorflow as tf"
      ]
    },
    {
      "cell_type": "code",
      "source": [
        "#mount google drive\n",
        "from google.colab import drive\n",
        "drive.mount('/content/drive')\n",
        "#change directory and show files in it \n",
        "import os\n",
        "os.chdir(\"/content/drive/MyDrive/data for project ca683\")"
      ],
      "metadata": {
        "colab": {
          "base_uri": "https://localhost:8080/"
        },
        "id": "rfW77-CgF5-t",
        "outputId": "e5509156-8bea-4802-ca15-c2ec776c40c9"
      },
      "execution_count": null,
      "outputs": [
        {
          "output_type": "stream",
          "name": "stdout",
          "text": [
            "Mounted at /content/drive\n"
          ]
        }
      ]
    },
    {
      "cell_type": "code",
      "source": [
        "df = pd.read_csv('Accidents0515.csv')"
      ],
      "metadata": {
        "id": "jr6fjvgHF_9g"
      },
      "execution_count": null,
      "outputs": []
    },
    {
      "cell_type": "markdown",
      "source": [
        "## checking correlation between features and Accident severity (label)"
      ],
      "metadata": {
        "id": "9U4UVH2tiR59"
      }
    },
    {
      "cell_type": "code",
      "source": [
        "corr = df.corr()['Accident_Severity']"
      ],
      "metadata": {
        "id": "plT_3JbYT9TP"
      },
      "execution_count": null,
      "outputs": []
    },
    {
      "cell_type": "code",
      "source": [
        "corr[corr.values>.01]"
      ],
      "metadata": {
        "colab": {
          "base_uri": "https://localhost:8080/"
        },
        "id": "odmkJnL3ULYF",
        "outputId": "d4b10815-eba3-45ad-fa25-6ac2c24fe44f"
      },
      "execution_count": null,
      "outputs": [
        {
          "output_type": "execute_result",
          "data": {
            "text/plain": [
              "Location_Easting_OSGR                          0.016804\n",
              "Longitude                                      0.017292\n",
              "Accident_Severity                              1.000000\n",
              "Number_of_Vehicles                             0.074930\n",
              "1st_Road_Class                                 0.011923\n",
              "Junction_Detail                                0.045896\n",
              "Junction_Control                               0.068979\n",
              "2nd_Road_Class                                 0.064740\n",
              "2nd_Road_Number                                0.025432\n",
              "Weather_Conditions                             0.021672\n",
              "Did_Police_Officer_Attend_Scene_of_Accident    0.115559\n",
              "Name: Accident_Severity, dtype: float64"
            ]
          },
          "metadata": {},
          "execution_count": 5
        }
      ]
    },
    {
      "cell_type": "code",
      "source": [
        "corr[corr.values<-.03]"
      ],
      "metadata": {
        "colab": {
          "base_uri": "https://localhost:8080/"
        },
        "id": "1fW2UTGuihZl",
        "outputId": "44187a76-990b-4cf8-e62b-50a76fc64c44"
      },
      "execution_count": null,
      "outputs": [
        {
          "output_type": "execute_result",
          "data": {
            "text/plain": [
              "Location_Northing_OSGR       -0.032726\n",
              "Latitude                     -0.032694\n",
              "Police_Force                 -0.036083\n",
              "Number_of_Casualties         -0.084122\n",
              "Local_Authority_(District)   -0.036683\n",
              "Road_Type                    -0.038998\n",
              "Speed_limit                  -0.080647\n",
              "Light_Conditions             -0.063286\n",
              "Urban_or_Rural_Area          -0.083913\n",
              "Name: Accident_Severity, dtype: float64"
            ]
          },
          "metadata": {},
          "execution_count": 6
        }
      ]
    },
    {
      "cell_type": "markdown",
      "source": [
        "#DNN Iteration 1 - Features: 'Weather_Conditions','Speed_limit'"
      ],
      "metadata": {
        "id": "ZFmM3eyrWSmD"
      }
    },
    {
      "cell_type": "markdown",
      "source": [
        "##Features"
      ],
      "metadata": {
        "id": "Z2hq4azLZP0q"
      }
    },
    {
      "cell_type": "markdown",
      "source": [
        "###Seleceting Features, checking correlation between them, cleaning missing data"
      ],
      "metadata": {
        "id": "fPTlbO4fi89J"
      }
    },
    {
      "cell_type": "code",
      "source": [
        "df_features = df[['Weather_Conditions', 'Speed_limit', 'Accident_Severity']]"
      ],
      "metadata": {
        "id": "8YPaOyXSGCqv"
      },
      "execution_count": null,
      "outputs": []
    },
    {
      "cell_type": "code",
      "source": [
        "#checking correlation between features\n",
        "df_features.corr()\n",
        "sns.heatmap(df_features.corr())"
      ],
      "metadata": {
        "colab": {
          "base_uri": "https://localhost:8080/",
          "height": 288
        },
        "id": "mpYjZOSqGJUH",
        "outputId": "77886d15-b5ef-4f14-d8ef-d7adada198b9"
      },
      "execution_count": null,
      "outputs": [
        {
          "output_type": "execute_result",
          "data": {
            "text/plain": [
              "<matplotlib.axes._subplots.AxesSubplot at 0x7f94a4eeb450>"
            ]
          },
          "metadata": {},
          "execution_count": 621
        },
        {
          "output_type": "display_data",
          "data": {
            "text/plain": [
              "<Figure size 432x288 with 2 Axes>"
            ],
            "image/png": "[encoded data removed]"
          },
          "metadata": {
            "needs_background": "light"
          }
        }
      ]
    },
    {
      "cell_type": "code",
      "source": [
        "#checking which values have missing data, note missing data is recorded as -1\n",
        "df_features.min()"
      ],
      "metadata": {
        "colab": {
          "base_uri": "https://localhost:8080/"
        },
        "id": "zTylPeM6GMbu",
        "outputId": "5a2adae3-afda-4234-e72c-a5e68c0b70e5"
      },
      "execution_count": null,
      "outputs": [
        {
          "output_type": "execute_result",
          "data": {
            "text/plain": [
              "Weather_Conditions   -1\n",
              "Speed_limit           0\n",
              "Accident_Severity     1\n",
              "dtype: int64"
            ]
          },
          "metadata": {},
          "execution_count": 687
        }
      ]
    },
    {
      "cell_type": "code",
      "source": [
        "#there are 161 accident that do not have recorded weather conditions, will drop these\n",
        "df_features['Weather_Conditions'][df_features['Weather_Conditions']==-1].count()"
      ],
      "metadata": {
        "colab": {
          "base_uri": "https://localhost:8080/"
        },
        "id": "N5eepXtIGQKz",
        "outputId": "66a4526f-f62f-402b-f7d3-624a8576d39f"
      },
      "execution_count": null,
      "outputs": [
        {
          "output_type": "execute_result",
          "data": {
            "text/plain": [
              "161"
            ]
          },
          "metadata": {},
          "execution_count": 688
        }
      ]
    },
    {
      "cell_type": "code",
      "source": [
        "#removing all rows with (missing) data\n",
        "df_features = df_features[df_features['Weather_Conditions']!=-1]\n",
        "df_features = df_features[df_features['Speed_limit']!=0]"
      ],
      "metadata": {
        "id": "zXR2v671GR1d"
      },
      "execution_count": null,
      "outputs": []
    },
    {
      "cell_type": "code",
      "source": [
        "#bucketising weather condtion into 2 bins\n",
        "df_features['Weather_Conditions'] = df_features['Weather_Conditions'].replace(1,0)\n",
        "df_features['Weather_Conditions'] = df_features['Weather_Conditions'].replace(4,0)\n",
        "df_features['Weather_Conditions'] = df_features['Weather_Conditions'].replace(5,0)\n",
        "df_features['Weather_Conditions'] = df_features['Weather_Conditions'].replace(7,0)\n",
        "df_features['Weather_Conditions']= df_features['Weather_Conditions'].replace(2,1)\n",
        "df_features['Weather_Conditions']= df_features['Weather_Conditions'].replace(3,1)\n",
        "df_features['Weather_Conditions'] = df_features['Weather_Conditions'].replace(6,1)\n",
        "df_features['Weather_Conditions'] = df_features['Weather_Conditions'].replace(8,1)\n",
        "df_features['Weather_Conditions'] = df_features['Weather_Conditions'].replace(9,1)"
      ],
      "metadata": {
        "id": "gkW3sXWoUayt"
      },
      "execution_count": null,
      "outputs": []
    },
    {
      "cell_type": "code",
      "source": [
        "df_features['Weather_Conditions'].unique()"
      ],
      "metadata": {
        "colab": {
          "base_uri": "https://localhost:8080/"
        },
        "id": "76N6T2pJVmYJ",
        "outputId": "2ede8d01-a8c8-4c52-b6dc-e868ed5c2a7c"
      },
      "execution_count": null,
      "outputs": [
        {
          "output_type": "execute_result",
          "data": {
            "text/plain": [
              "array([1, 0])"
            ]
          },
          "metadata": {},
          "execution_count": 692
        }
      ]
    },
    {
      "cell_type": "markdown",
      "source": [
        "### Cleaning Label (accident severity) so that there are 2 classes instead of 3"
      ],
      "metadata": {
        "id": "T7-vFlYIqkdH"
      }
    },
    {
      "cell_type": "code",
      "source": [
        "#check count for each level of accident deverity\n",
        "df_features['Accident_Severity'].value_counts()"
      ],
      "metadata": {
        "colab": {
          "base_uri": "https://localhost:8080/"
        },
        "id": "xrp3iXSWGVom",
        "outputId": "edfdd94d-3b7f-4ffa-dc62-0f1787eb5ba3"
      },
      "execution_count": null,
      "outputs": [
        {
          "output_type": "execute_result",
          "data": {
            "text/plain": [
              "3    1515429\n",
              "2     242067\n",
              "1      22995\n",
              "Name: Accident_Severity, dtype: int64"
            ]
          },
          "metadata": {},
          "execution_count": 694
        }
      ]
    },
    {
      "cell_type": "code",
      "source": [
        "#replace all accident severities where severiry is 2 or 3 and group them into 1 bucket (non-fatal)\n",
        "df_features['Accident_Severity'] = df_features['Accident_Severity'].replace(2,0)\n",
        "df_features['Accident_Severity'] = df_features['Accident_Severity'].replace(3,0)"
      ],
      "metadata": {
        "id": "S46-vEt-IIdt"
      },
      "execution_count": null,
      "outputs": []
    },
    {
      "cell_type": "code",
      "source": [
        "#create 2 dataframe, 1 for each class, and print the size each\n",
        "class_1 = df_features[df_features['Accident_Severity'] == 1]\n",
        "class_0 = df_features[df_features['Accident_Severity'] == 0]\n",
        "print('class 1 (fatal):', len(class_1))\n",
        "print('class 0 (non-fatal):', len(class_0))"
      ],
      "metadata": {
        "colab": {
          "base_uri": "https://localhost:8080/"
        },
        "id": "Si2pFQVpGYed",
        "outputId": "4bb51f4d-2f50-4256-a018-2291e7545775"
      },
      "execution_count": null,
      "outputs": [
        {
          "output_type": "stream",
          "name": "stdout",
          "text": [
            "class 1 (fatal): 22995\n",
            "class 0 (non-fatal): 1757496\n"
          ]
        }
      ]
    },
    {
      "cell_type": "markdown",
      "source": [
        "###Accounting for imbalance in the dataset by undersampling"
      ],
      "metadata": {
        "id": "QsfhNofwqxHX"
      }
    },
    {
      "cell_type": "code",
      "source": [
        "#get the length of the dataset for each class/label\n",
        "class_count_0, class_count_1 = df_features['Accident_Severity'].value_counts()"
      ],
      "metadata": {
        "id": "jlbwQRYkGXO7"
      },
      "execution_count": null,
      "outputs": []
    },
    {
      "cell_type": "code",
      "source": [
        "#undersampling of class 0 to balance the count of data for each class/label\n",
        "class_0_under = class_0.sample(class_count_1)\n",
        "df_features_under = pd.concat([class_0_under, class_1], axis=0)"
      ],
      "metadata": {
        "id": "rcfNAlgKGZ45"
      },
      "execution_count": null,
      "outputs": []
    },
    {
      "cell_type": "code",
      "source": [
        "#print the size of the new dataset for each class/label after undersampling\n",
        "class_1 = df_features_under[df_features_under['Accident_Severity'] == 1]\n",
        "class_0 = df_features_under[df_features_under['Accident_Severity'] == 0]\n",
        "print('class 1 (fatal):', len(class_1))\n",
        "print('class 0 (non-fatal):', len(class_0))"
      ],
      "metadata": {
        "colab": {
          "base_uri": "https://localhost:8080/"
        },
        "id": "KW-bGJSdGbPy",
        "outputId": "76f02ad8-11c0-4ce3-ccfa-4478fee62d61"
      },
      "execution_count": null,
      "outputs": [
        {
          "output_type": "stream",
          "name": "stdout",
          "text": [
            "class 1 (fatal): 22995\n",
            "class 0 (non-fatal): 22995\n"
          ]
        }
      ]
    },
    {
      "cell_type": "markdown",
      "source": [
        "###splitting the dataset in training and test datasets"
      ],
      "metadata": {
        "id": "8HV78KRBq6w7"
      }
    },
    {
      "cell_type": "code",
      "source": [
        "#splitting the dataset into training and test sets\n",
        "train_features_under, test_features_under = train_test_split(df_features_under, test_size=0.25)"
      ],
      "metadata": {
        "id": "4jG6VXFgBkb5"
      },
      "execution_count": null,
      "outputs": []
    },
    {
      "cell_type": "code",
      "source": [
        "#pop out the label column from the train and test undersampled datasets\n",
        "train_label_under = train_features_under.pop('Accident_Severity')\n",
        "test_label_under = test_features_under.pop('Accident_Severity')"
      ],
      "metadata": {
        "id": "1BaT8flCBkb8"
      },
      "execution_count": null,
      "outputs": []
    },
    {
      "cell_type": "markdown",
      "source": [
        "## DNN Classifier"
      ],
      "metadata": {
        "id": "YAO07jYS_Ot3"
      }
    },
    {
      "cell_type": "markdown",
      "source": [
        "###defining input function, creating classifier, training classifer"
      ],
      "metadata": {
        "id": "_DtYRqYgrEDd"
      }
    },
    {
      "cell_type": "code",
      "source": [
        "def input_fn(features, labels, training=True, batch_size=344):\n",
        "    # Convert the inputs to a Dataset.\n",
        "    dataset = tf.data.Dataset.from_tensor_slices((dict(features), labels))\n",
        "    # Shuffle and repeat if you are in training mode.\n",
        "    if training:\n",
        "        dataset = dataset.shuffle(1000).repeat()\n",
        "    return dataset.batch(batch_size)"
      ],
      "metadata": {
        "id": "xF5Afw1RBkb-"
      },
      "execution_count": null,
      "outputs": []
    },
    {
      "cell_type": "code",
      "source": [
        "# creating a tensorflow Feature column list\n",
        "my_feature_columns = []\n",
        "for key in train_features_under.keys():\n",
        "    my_feature_columns.append(tf.feature_column.numeric_column(key=key))\n",
        "my_feature_columns"
      ],
      "metadata": {
        "colab": {
          "base_uri": "https://localhost:8080/"
        },
        "outputId": "781d48ef-753f-44e1-93d1-d9c389199dc3",
        "id": "JdrP9-6xBkb_"
      },
      "execution_count": null,
      "outputs": [
        {
          "output_type": "execute_result",
          "data": {
            "text/plain": [
              "[NumericColumn(key='Weather_Conditions', shape=(1,), default_value=None, dtype=tf.float32, normalizer_fn=None),\n",
              " NumericColumn(key='Speed_limit', shape=(1,), default_value=None, dtype=tf.float32, normalizer_fn=None)]"
            ]
          },
          "metadata": {},
          "execution_count": 703
        }
      ]
    },
    {
      "cell_type": "code",
      "source": [
        "# Build a DNN with 2 hidden layers with 30 and 10 hidden nodes each.\n",
        "classifier = tf.estimator.DNNClassifier(\n",
        "    feature_columns=my_feature_columns,\n",
        "    # Two hidden layers of 30 and 10 nodes respectively.\n",
        "    hidden_units=[30, 10],\n",
        "    # The model must choose between 2 classes.\n",
        "    n_classes=2)"
      ],
      "metadata": {
        "colab": {
          "base_uri": "https://localhost:8080/"
        },
        "outputId": "fdedd92e-fb5e-4f39-9778-6c6f2d955580",
        "id": "PgxqnyxhBkcA"
      },
      "execution_count": null,
      "outputs": [
        {
          "output_type": "stream",
          "name": "stdout",
          "text": [
            "INFO:tensorflow:Using default config.\n",
            "WARNING:tensorflow:Using temporary folder as model directory: /tmp/tmp4a2q8as5\n",
            "INFO:tensorflow:Using config: {'_model_dir': '/tmp/tmp4a2q8as5', '_tf_random_seed': None, '_save_summary_steps': 100, '_save_checkpoints_steps': None, '_save_checkpoints_secs': 600, '_session_config': allow_soft_placement: true\n",
            "graph_options {\n",
            "  rewrite_options {\n",
            "    meta_optimizer_iterations: ONE\n",
            "  }\n",
            "}\n",
            ", '_keep_checkpoint_max': 5, '_keep_checkpoint_every_n_hours': 10000, '_log_step_count_steps': 100, '_train_distribute': None, '_device_fn': None, '_protocol': None, '_eval_distribute': None, '_experimental_distribute': None, '_experimental_max_worker_delay_secs': None, '_session_creation_timeout_secs': 7200, '_checkpoint_save_graph_def': True, '_service': None, '_cluster_spec': ClusterSpec({}), '_task_type': 'worker', '_task_id': 0, '_global_id_in_cluster': 0, '_master': '', '_evaluation_master': '', '_is_chief': True, '_num_ps_replicas': 0, '_num_worker_replicas': 1}\n"
          ]
        }
      ]
    },
    {
      "cell_type": "code",
      "source": [
        "classifier.train(input_fn=lambda: input_fn(train_features_under, train_label_under, training=True),steps=5000)\n",
        "# We include a lambda to avoid creating an inner function "
      ],
      "metadata": {
        "colab": {
          "base_uri": "https://localhost:8080/"
        },
        "outputId": "c101b6b6-5233-4105-f718-93b20d18927a",
        "id": "GCygWhEgBkcB"
      },
      "execution_count": null,
      "outputs": [
        {
          "output_type": "stream",
          "name": "stdout",
          "text": [
            "INFO:tensorflow:Calling model_fn.\n",
            "INFO:tensorflow:Done calling model_fn.\n",
            "INFO:tensorflow:Create CheckpointSaverHook.\n",
            "INFO:tensorflow:Graph was finalized.\n",
            "INFO:tensorflow:Running local_init_op.\n",
            "INFO:tensorflow:Done running local_init_op.\n",
            "INFO:tensorflow:Calling checkpoint listeners before saving checkpoint 0...\n",
            "INFO:tensorflow:Saving checkpoints for 0 into /tmp/tmp4a2q8as5/model.ckpt.\n",
            "INFO:tensorflow:Calling checkpoint listeners after saving checkpoint 0...\n",
            "INFO:tensorflow:loss = 0.6943212, step = 0\n",
            "INFO:tensorflow:global_step/sec: 300.194\n",
            "INFO:tensorflow:loss = 0.6895874, step = 100 (0.339 sec)\n",
            "INFO:tensorflow:global_step/sec: 368.563\n",
            "INFO:tensorflow:loss = 0.6780583, step = 200 (0.270 sec)\n",
            "INFO:tensorflow:global_step/sec: 360.419\n",
            "INFO:tensorflow:loss = 0.68036836, step = 300 (0.275 sec)\n",
            "INFO:tensorflow:global_step/sec: 378.702\n",
            "INFO:tensorflow:loss = 0.6815298, step = 400 (0.268 sec)\n",
            "INFO:tensorflow:global_step/sec: 372.512\n",
            "INFO:tensorflow:loss = 0.6789994, step = 500 (0.267 sec)\n",
            "INFO:tensorflow:global_step/sec: 375.275\n",
            "INFO:tensorflow:loss = 0.6799778, step = 600 (0.269 sec)\n",
            "INFO:tensorflow:global_step/sec: 335.192\n",
            "INFO:tensorflow:loss = 0.67267954, step = 700 (0.298 sec)\n",
            "INFO:tensorflow:global_step/sec: 375.313\n",
            "INFO:tensorflow:loss = 0.68037164, step = 800 (0.264 sec)\n",
            "INFO:tensorflow:global_step/sec: 364.917\n",
            "INFO:tensorflow:loss = 0.67933196, step = 900 (0.273 sec)\n",
            "INFO:tensorflow:global_step/sec: 363.006\n",
            "INFO:tensorflow:loss = 0.6698948, step = 1000 (0.278 sec)\n",
            "INFO:tensorflow:global_step/sec: 363.312\n",
            "INFO:tensorflow:loss = 0.67191285, step = 1100 (0.272 sec)\n",
            "INFO:tensorflow:global_step/sec: 364.73\n",
            "INFO:tensorflow:loss = 0.6845986, step = 1200 (0.278 sec)\n",
            "INFO:tensorflow:global_step/sec: 353.226\n",
            "INFO:tensorflow:loss = 0.6765795, step = 1300 (0.283 sec)\n",
            "INFO:tensorflow:global_step/sec: 359.908\n",
            "INFO:tensorflow:loss = 0.668991, step = 1400 (0.278 sec)\n",
            "INFO:tensorflow:global_step/sec: 356.939\n",
            "INFO:tensorflow:loss = 0.6852746, step = 1500 (0.280 sec)\n",
            "INFO:tensorflow:global_step/sec: 373.426\n",
            "INFO:tensorflow:loss = 0.6707176, step = 1600 (0.268 sec)\n",
            "INFO:tensorflow:global_step/sec: 398.183\n",
            "INFO:tensorflow:loss = 0.6774368, step = 1700 (0.251 sec)\n",
            "INFO:tensorflow:global_step/sec: 392.28\n",
            "INFO:tensorflow:loss = 0.6863485, step = 1800 (0.255 sec)\n",
            "INFO:tensorflow:global_step/sec: 398.661\n",
            "INFO:tensorflow:loss = 0.6736892, step = 1900 (0.251 sec)\n",
            "INFO:tensorflow:global_step/sec: 339.952\n",
            "INFO:tensorflow:loss = 0.6903605, step = 2000 (0.294 sec)\n",
            "INFO:tensorflow:global_step/sec: 328.995\n",
            "INFO:tensorflow:loss = 0.67886466, step = 2100 (0.304 sec)\n",
            "INFO:tensorflow:global_step/sec: 345.728\n",
            "INFO:tensorflow:loss = 0.6713551, step = 2200 (0.289 sec)\n",
            "INFO:tensorflow:global_step/sec: 370.987\n",
            "INFO:tensorflow:loss = 0.670853, step = 2300 (0.267 sec)\n",
            "INFO:tensorflow:global_step/sec: 375.185\n",
            "INFO:tensorflow:loss = 0.6728801, step = 2400 (0.267 sec)\n",
            "INFO:tensorflow:global_step/sec: 370.911\n",
            "INFO:tensorflow:loss = 0.6710932, step = 2500 (0.275 sec)\n",
            "INFO:tensorflow:global_step/sec: 350.162\n",
            "INFO:tensorflow:loss = 0.68044466, step = 2600 (0.282 sec)\n",
            "INFO:tensorflow:global_step/sec: 372.284\n",
            "INFO:tensorflow:loss = 0.6763053, step = 2700 (0.270 sec)\n",
            "INFO:tensorflow:global_step/sec: 369.743\n",
            "INFO:tensorflow:loss = 0.67520666, step = 2800 (0.268 sec)\n",
            "INFO:tensorflow:global_step/sec: 335.44\n",
            "INFO:tensorflow:loss = 0.6687878, step = 2900 (0.300 sec)\n",
            "INFO:tensorflow:global_step/sec: 382.183\n",
            "INFO:tensorflow:loss = 0.6742182, step = 3000 (0.262 sec)\n",
            "INFO:tensorflow:global_step/sec: 398.78\n",
            "INFO:tensorflow:loss = 0.6761849, step = 3100 (0.250 sec)\n",
            "INFO:tensorflow:global_step/sec: 354.174\n",
            "INFO:tensorflow:loss = 0.6769205, step = 3200 (0.283 sec)\n",
            "INFO:tensorflow:global_step/sec: 380.098\n",
            "INFO:tensorflow:loss = 0.6722925, step = 3300 (0.264 sec)\n",
            "INFO:tensorflow:global_step/sec: 389.577\n",
            "INFO:tensorflow:loss = 0.68225366, step = 3400 (0.257 sec)\n",
            "INFO:tensorflow:global_step/sec: 378.898\n",
            "INFO:tensorflow:loss = 0.6748334, step = 3500 (0.260 sec)\n",
            "INFO:tensorflow:global_step/sec: 373.718\n",
            "INFO:tensorflow:loss = 0.67574024, step = 3600 (0.269 sec)\n",
            "INFO:tensorflow:global_step/sec: 394.891\n",
            "INFO:tensorflow:loss = 0.6716703, step = 3700 (0.251 sec)\n",
            "INFO:tensorflow:global_step/sec: 372.127\n",
            "INFO:tensorflow:loss = 0.670435, step = 3800 (0.272 sec)\n",
            "INFO:tensorflow:global_step/sec: 368.453\n",
            "INFO:tensorflow:loss = 0.6695, step = 3900 (0.271 sec)\n",
            "INFO:tensorflow:global_step/sec: 358.312\n",
            "INFO:tensorflow:loss = 0.67542845, step = 4000 (0.280 sec)\n",
            "INFO:tensorflow:global_step/sec: 360.936\n",
            "INFO:tensorflow:loss = 0.674424, step = 4100 (0.276 sec)\n",
            "INFO:tensorflow:global_step/sec: 372.531\n",
            "INFO:tensorflow:loss = 0.6712122, step = 4200 (0.266 sec)\n",
            "INFO:tensorflow:global_step/sec: 384.177\n",
            "INFO:tensorflow:loss = 0.67111135, step = 4300 (0.263 sec)\n",
            "INFO:tensorflow:global_step/sec: 353.101\n",
            "INFO:tensorflow:loss = 0.6763076, step = 4400 (0.280 sec)\n",
            "INFO:tensorflow:global_step/sec: 356.527\n",
            "INFO:tensorflow:loss = 0.6818332, step = 4500 (0.284 sec)\n",
            "INFO:tensorflow:global_step/sec: 341.503\n",
            "INFO:tensorflow:loss = 0.6698149, step = 4600 (0.290 sec)\n",
            "INFO:tensorflow:global_step/sec: 381.16\n",
            "INFO:tensorflow:loss = 0.66672623, step = 4700 (0.264 sec)\n",
            "INFO:tensorflow:global_step/sec: 377.897\n",
            "INFO:tensorflow:loss = 0.6697531, step = 4800 (0.266 sec)\n",
            "INFO:tensorflow:global_step/sec: 376.287\n",
            "INFO:tensorflow:loss = 0.6654955, step = 4900 (0.264 sec)\n",
            "INFO:tensorflow:Calling checkpoint listeners before saving checkpoint 5000...\n",
            "INFO:tensorflow:Saving checkpoints for 5000 into /tmp/tmp4a2q8as5/model.ckpt.\n",
            "INFO:tensorflow:Calling checkpoint listeners after saving checkpoint 5000...\n",
            "INFO:tensorflow:Loss for final step: 0.6676445.\n"
          ]
        },
        {
          "output_type": "execute_result",
          "data": {
            "text/plain": [
              "<tensorflow_estimator.python.estimator.canned.dnn.DNNClassifierV2 at 0x7f94c4ac4a50>"
            ]
          },
          "metadata": {},
          "execution_count": 705
        }
      ]
    },
    {
      "cell_type": "markdown",
      "source": [
        "###Evaluating Classifier"
      ],
      "metadata": {
        "id": "7m_mQ38dtgRo"
      }
    },
    {
      "cell_type": "code",
      "source": [
        "#determine the accurracy of th classifier\n",
        "eval_result = classifier.evaluate(\n",
        "    input_fn=lambda: input_fn(test_features_under, test_label_under, training=False))\n",
        "print('\\nTest set accuracy: {accuracy:0.3f}\\n'.format(**eval_result))"
      ],
      "metadata": {
        "colab": {
          "base_uri": "https://localhost:8080/"
        },
        "outputId": "f4d66528-8490-4009-de49-fd93e8089dc6",
        "id": "syOAkL5FBkcC"
      },
      "execution_count": null,
      "outputs": [
        {
          "output_type": "stream",
          "name": "stdout",
          "text": [
            "INFO:tensorflow:Calling model_fn.\n",
            "INFO:tensorflow:Done calling model_fn.\n",
            "INFO:tensorflow:Starting evaluation at 2022-04-03T22:04:09\n",
            "INFO:tensorflow:Graph was finalized.\n",
            "INFO:tensorflow:Restoring parameters from /tmp/tmp4a2q8as5/model.ckpt-5000\n",
            "INFO:tensorflow:Running local_init_op.\n",
            "INFO:tensorflow:Done running local_init_op.\n",
            "INFO:tensorflow:Inference Time : 0.73896s\n",
            "INFO:tensorflow:Finished evaluation at 2022-04-03-22:04:10\n",
            "INFO:tensorflow:Saving dict for global step 5000: accuracy = 0.6682032, accuracy_baseline = 0.5058271, auc = 0.6837756, auc_precision_recall = 0.63947046, average_loss = 0.6663864, global_step = 5000, label/mean = 0.4941729, loss = 0.66651005, precision = 0.66175705, prediction/mean = 0.5293326, recall = 0.6721225\n",
            "INFO:tensorflow:Saving 'checkpoint_path' summary for global step 5000: /tmp/tmp4a2q8as5/model.ckpt-5000\n",
            "\n",
            "Test set accuracy: 0.668\n",
            "\n"
          ]
        }
      ]
    },
    {
      "cell_type": "code",
      "source": [
        "#create predictions list for all test set\n",
        "predictions_under = list(classifier.predict(input_fn=lambda: input_fn(test_features_under, test_label_under, training=False)))"
      ],
      "metadata": {
        "outputId": "9195e3e8-f4f4-42ce-e849-0e0a38f47aa5",
        "colab": {
          "base_uri": "https://localhost:8080/"
        },
        "id": "y-dTV-wCBkcD"
      },
      "execution_count": null,
      "outputs": [
        {
          "output_type": "stream",
          "name": "stdout",
          "text": [
            "INFO:tensorflow:Calling model_fn.\n",
            "INFO:tensorflow:Done calling model_fn.\n",
            "INFO:tensorflow:Graph was finalized.\n",
            "INFO:tensorflow:Restoring parameters from /tmp/tmp4a2q8as5/model.ckpt-5000\n",
            "INFO:tensorflow:Running local_init_op.\n",
            "INFO:tensorflow:Done running local_init_op.\n"
          ]
        }
      ]
    },
    {
      "cell_type": "code",
      "source": [
        "#create a dataframe of predictions for test set\n",
        "df_predictions = pd.DataFrame(predictions_under)"
      ],
      "metadata": {
        "id": "0REokFMWEz8b"
      },
      "execution_count": null,
      "outputs": []
    },
    {
      "cell_type": "markdown",
      "source": [
        "###Plot of Results"
      ],
      "metadata": {
        "id": "Poobt2fy5GqN"
      }
    },
    {
      "cell_type": "code",
      "source": [
        "#add the actual matches to the prediciton dataframe\n",
        "df_predictions['actual label']=test_label_under.values"
      ],
      "metadata": {
        "id": "gxx64qCXSjMl"
      },
      "execution_count": null,
      "outputs": []
    },
    {
      "cell_type": "code",
      "source": [
        "#add the class predicitons from the DNN to the dataframe\n",
        "df_predictions['predicted label']=pd.DataFrame.from_records(df_predictions['class_ids'])"
      ],
      "metadata": {
        "id": "PBWF_w1jV3uf"
      },
      "execution_count": null,
      "outputs": []
    },
    {
      "cell_type": "code",
      "source": [
        "#add a binary column to show if the dnn predictions were correct\n",
        "df_predictions['match?']=df_predictions['predicted label']-df_predictions['actual label']\n",
        "df_predictions['match?']=df_predictions['match?'].replace(0,'match')\n",
        "df_predictions['match?']=df_predictions['match?'].replace(-1,'not match')\n",
        "df_predictions['match?']=df_predictions['match?'].replace(1,'not match')"
      ],
      "metadata": {
        "id": "Hv9wqseOSmk4"
      },
      "execution_count": null,
      "outputs": []
    },
    {
      "cell_type": "code",
      "source": [
        "#view the prdictions dataframe\n",
        "a=df_predictions[df_predictions['actual label']==1]\n",
        "a"
      ],
      "metadata": {
        "colab": {
          "base_uri": "https://localhost:8080/",
          "height": 424
        },
        "id": "Z400MOZZYj20",
        "outputId": "1802a95c-ace6-4f08-f5c4-659203706341"
      },
      "execution_count": null,
      "outputs": [
        {
          "output_type": "execute_result",
          "data": {
            "text/plain": [
              "               logits      logistic             probabilities class_ids  \\\n",
              "3        [0.34476355]   [0.5853472]   [0.41465282, 0.5853472]       [1]   \n",
              "4      [-0.093798846]  [0.47656748]  [0.52343255, 0.47656745]       [0]   \n",
              "7         [0.3135307]   [0.5777468]  [0.42225322, 0.57774687]       [1]   \n",
              "10     [-0.093798846]  [0.47656748]  [0.52343255, 0.47656745]       [0]   \n",
              "12       [0.34476355]   [0.5853472]   [0.41465282, 0.5853472]       [1]   \n",
              "...               ...           ...                       ...       ...   \n",
              "11489  [-0.062566966]  [0.48436338]   [0.5156366, 0.48436332]       [0]   \n",
              "11492  [-0.062566966]  [0.48436338]   [0.5156366, 0.48436332]       [0]   \n",
              "11493    [0.34476355]   [0.5853472]   [0.41465282, 0.5853472]       [1]   \n",
              "11494    [0.34476355]   [0.5853472]   [0.41465282, 0.5853472]       [1]   \n",
              "11496    [0.34475973]   [0.5853462]   [0.41465378, 0.5853463]       [1]   \n",
              "\n",
              "      classes all_class_ids   all_classes  actual label  predicted label  \\\n",
              "3      [b'1']        [0, 1]  [b'0', b'1']             1                1   \n",
              "4      [b'0']        [0, 1]  [b'0', b'1']             1                0   \n",
              "7      [b'1']        [0, 1]  [b'0', b'1']             1                1   \n",
              "10     [b'0']        [0, 1]  [b'0', b'1']             1                0   \n",
              "12     [b'1']        [0, 1]  [b'0', b'1']             1                1   \n",
              "...       ...           ...           ...           ...              ...   \n",
              "11489  [b'0']        [0, 1]  [b'0', b'1']             1                0   \n",
              "11492  [b'0']        [0, 1]  [b'0', b'1']             1                0   \n",
              "11493  [b'1']        [0, 1]  [b'0', b'1']             1                1   \n",
              "11494  [b'1']        [0, 1]  [b'0', b'1']             1                1   \n",
              "11496  [b'1']        [0, 1]  [b'0', b'1']             1                1   \n",
              "\n",
              "          match?  \n",
              "3          match  \n",
              "4      not match  \n",
              "7          match  \n",
              "10     not match  \n",
              "12         match  \n",
              "...          ...  \n",
              "11489  not match  \n",
              "11492  not match  \n",
              "11493      match  \n",
              "11494      match  \n",
              "11496      match  \n",
              "\n",
              "[5682 rows x 10 columns]"
            ],
            "text/html": [
              "\n",
              "  <div id=\"df-3bfb710e-447a-4a74-8b67-6ee51713dfd1\">\n",
              "    <div class=\"colab-df-container\">\n",
              "      <div>\n",
              "<style scoped>\n",
              "    .dataframe tbody tr th:only-of-type {\n",
              "        vertical-align: middle;\n",
              "    }\n",
              "\n",
              "    .dataframe tbody tr th {\n",
              "        vertical-align: top;\n",
              "    }\n",
              "\n",
              "    .dataframe thead th {\n",
              "        text-align: right;\n",
              "    }\n",
              "</style>\n",
              "<table border=\"1\" class=\"dataframe\">\n",
              "  <thead>\n",
              "    <tr style=\"text-align: right;\">\n",
              "      <th></th>\n",
              "      <th>logits</th>\n",
              "      <th>logistic</th>\n",
              "      <th>probabilities</th>\n",
              "      <th>class_ids</th>\n",
              "      <th>classes</th>\n",
              "      <th>all_class_ids</th>\n",
              "      <th>all_classes</th>\n",
              "      <th>actual label</th>\n",
              "      <th>predicted label</th>\n",
              "      <th>match?</th>\n",
              "    </tr>\n",
              "  </thead>\n",
              "  <tbody>\n",
              "    <tr>\n",
              "      <th>3</th>\n",
              "      <td>[0.34476355]</td>\n",
              "      <td>[0.5853472]</td>\n",
              "      <td>[0.41465282, 0.5853472]</td>\n",
              "      <td>[1]</td>\n",
              "      <td>[b'1']</td>\n",
              "      <td>[0, 1]</td>\n",
              "      <td>[b'0', b'1']</td>\n",
              "      <td>1</td>\n",
              "      <td>1</td>\n",
              "      <td>match</td>\n",
              "    </tr>\n",
              "    <tr>\n",
              "      <th>4</th>\n",
              "      <td>[-0.093798846]</td>\n",
              "      <td>[0.47656748]</td>\n",
              "      <td>[0.52343255, 0.47656745]</td>\n",
              "      <td>[0]</td>\n",
              "      <td>[b'0']</td>\n",
              "      <td>[0, 1]</td>\n",
              "      <td>[b'0', b'1']</td>\n",
              "      <td>1</td>\n",
              "      <td>0</td>\n",
              "      <td>not match</td>\n",
              "    </tr>\n",
              "    <tr>\n",
              "      <th>7</th>\n",
              "      <td>[0.3135307]</td>\n",
              "      <td>[0.5777468]</td>\n",
              "      <td>[0.42225322, 0.57774687]</td>\n",
              "      <td>[1]</td>\n",
              "      <td>[b'1']</td>\n",
              "      <td>[0, 1]</td>\n",
              "      <td>[b'0', b'1']</td>\n",
              "      <td>1</td>\n",
              "      <td>1</td>\n",
              "      <td>match</td>\n",
              "    </tr>\n",
              "    <tr>\n",
              "      <th>10</th>\n",
              "      <td>[-0.093798846]</td>\n",
              "      <td>[0.47656748]</td>\n",
              "      <td>[0.52343255, 0.47656745]</td>\n",
              "      <td>[0]</td>\n",
              "      <td>[b'0']</td>\n",
              "      <td>[0, 1]</td>\n",
              "      <td>[b'0', b'1']</td>\n",
              "      <td>1</td>\n",
              "      <td>0</td>\n",
              "      <td>not match</td>\n",
              "    </tr>\n",
              "    <tr>\n",
              "      <th>12</th>\n",
              "      <td>[0.34476355]</td>\n",
              "      <td>[0.5853472]</td>\n",
              "      <td>[0.41465282, 0.5853472]</td>\n",
              "      <td>[1]</td>\n",
              "      <td>[b'1']</td>\n",
              "      <td>[0, 1]</td>\n",
              "      <td>[b'0', b'1']</td>\n",
              "      <td>1</td>\n",
              "      <td>1</td>\n",
              "      <td>match</td>\n",
              "    </tr>\n",
              "    <tr>\n",
              "      <th>...</th>\n",
              "      <td>...</td>\n",
              "      <td>...</td>\n",
              "      <td>...</td>\n",
              "      <td>...</td>\n",
              "      <td>...</td>\n",
              "      <td>...</td>\n",
              "      <td>...</td>\n",
              "      <td>...</td>\n",
              "      <td>...</td>\n",
              "      <td>...</td>\n",
              "    </tr>\n",
              "    <tr>\n",
              "      <th>11489</th>\n",
              "      <td>[-0.062566966]</td>\n",
              "      <td>[0.48436338]</td>\n",
              "      <td>[0.5156366, 0.48436332]</td>\n",
              "      <td>[0]</td>\n",
              "      <td>[b'0']</td>\n",
              "      <td>[0, 1]</td>\n",
              "      <td>[b'0', b'1']</td>\n",
              "      <td>1</td>\n",
              "      <td>0</td>\n",
              "      <td>not match</td>\n",
              "    </tr>\n",
              "    <tr>\n",
              "      <th>11492</th>\n",
              "      <td>[-0.062566966]</td>\n",
              "      <td>[0.48436338]</td>\n",
              "      <td>[0.5156366, 0.48436332]</td>\n",
              "      <td>[0]</td>\n",
              "      <td>[b'0']</td>\n",
              "      <td>[0, 1]</td>\n",
              "      <td>[b'0', b'1']</td>\n",
              "      <td>1</td>\n",
              "      <td>0</td>\n",
              "      <td>not match</td>\n",
              "    </tr>\n",
              "    <tr>\n",
              "      <th>11493</th>\n",
              "      <td>[0.34476355]</td>\n",
              "      <td>[0.5853472]</td>\n",
              "      <td>[0.41465282, 0.5853472]</td>\n",
              "      <td>[1]</td>\n",
              "      <td>[b'1']</td>\n",
              "      <td>[0, 1]</td>\n",
              "      <td>[b'0', b'1']</td>\n",
              "      <td>1</td>\n",
              "      <td>1</td>\n",
              "      <td>match</td>\n",
              "    </tr>\n",
              "    <tr>\n",
              "      <th>11494</th>\n",
              "      <td>[0.34476355]</td>\n",
              "      <td>[0.5853472]</td>\n",
              "      <td>[0.41465282, 0.5853472]</td>\n",
              "      <td>[1]</td>\n",
              "      <td>[b'1']</td>\n",
              "      <td>[0, 1]</td>\n",
              "      <td>[b'0', b'1']</td>\n",
              "      <td>1</td>\n",
              "      <td>1</td>\n",
              "      <td>match</td>\n",
              "    </tr>\n",
              "    <tr>\n",
              "      <th>11496</th>\n",
              "      <td>[0.34475973]</td>\n",
              "      <td>[0.5853462]</td>\n",
              "      <td>[0.41465378, 0.5853463]</td>\n",
              "      <td>[1]</td>\n",
              "      <td>[b'1']</td>\n",
              "      <td>[0, 1]</td>\n",
              "      <td>[b'0', b'1']</td>\n",
              "      <td>1</td>\n",
              "      <td>1</td>\n",
              "      <td>match</td>\n",
              "    </tr>\n",
              "  </tbody>\n",
              "</table>\n",
              "<p>5682 rows × 10 columns</p>\n",
              "</div>\n",
              "      <button class=\"colab-df-convert\" onclick=\"convertToInteractive('df-3bfb710e-447a-4a74-8b67-6ee51713dfd1')\"\n",
              "              title=\"Convert this dataframe to an interactive table.\"\n",
              "              style=\"display:none;\">\n",
              "        \n",
              "  <svg xmlns=\"http://www.w3.org/2000/svg\" height=\"24px\"viewBox=\"0 0 24 24\"\n",
              "       width=\"24px\">\n",
              "    <path d=\"M0 0h24v24H0V0z\" fill=\"none\"/>\n",
              "    <path d=\"M18.56 5.44l.94 2.06.94-2.06 2.06-.94-2.06-.94-.94-2.06-.94 2.06-2.06.94zm-11 1L8.5 8.5l.94-2.06 2.06-.94-2.06-.94L8.5 2.5l-.94 2.06-2.06.94zm10 10l.94 2.06.94-2.06 2.06-.94-2.06-.94-.94-2.06-.94 2.06-2.06.94z\"/><path d=\"M17.41 7.96l-1.37-1.37c-.4-.4-.92-.59-1.43-.59-.52 0-1.04.2-1.43.59L10.3 9.45l-7.72 7.72c-.78.78-.78 2.05 0 2.83L4 21.41c.39.39.9.59 1.41.59.51 0 1.02-.2 1.41-.59l7.78-7.78 2.81-2.81c.8-.78.8-2.07 0-2.86zM5.41 20L4 18.59l7.72-7.72 1.47 1.35L5.41 20z\"/>\n",
              "  </svg>\n",
              "      </button>\n",
              "      \n",
              "  <style>\n",
              "    .colab-df-container {\n",
              "      display:flex;\n",
              "      flex-wrap:wrap;\n",
              "      gap: 12px;\n",
              "    }\n",
              "\n",
              "    .colab-df-convert {\n",
              "      background-color: #E8F0FE;\n",
              "      border: none;\n",
              "      border-radius: 50%;\n",
              "      cursor: pointer;\n",
              "      display: none;\n",
              "      fill: #1967D2;\n",
              "      height: 32px;\n",
              "      padding: 0 0 0 0;\n",
              "      width: 32px;\n",
              "    }\n",
              "\n",
              "    .colab-df-convert:hover {\n",
              "      background-color: #E2EBFA;\n",
              "      box-shadow: 0px 1px 2px rgba(60, 64, 67, 0.3), 0px 1px 3px 1px rgba(60, 64, 67, 0.15);\n",
              "      fill: #174EA6;\n",
              "    }\n",
              "\n",
              "    [theme=dark] .colab-df-convert {\n",
              "      background-color: #3B4455;\n",
              "      fill: #D2E3FC;\n",
              "    }\n",
              "\n",
              "    [theme=dark] .colab-df-convert:hover {\n",
              "      background-color: #434B5C;\n",
              "      box-shadow: 0px 1px 3px 1px rgba(0, 0, 0, 0.15);\n",
              "      filter: drop-shadow(0px 1px 2px rgba(0, 0, 0, 0.3));\n",
              "      fill: #FFFFFF;\n",
              "    }\n",
              "  </style>\n",
              "\n",
              "      <script>\n",
              "        const buttonEl =\n",
              "          document.querySelector('#df-3bfb710e-447a-4a74-8b67-6ee51713dfd1 button.colab-df-convert');\n",
              "        buttonEl.style.display =\n",
              "          google.colab.kernel.accessAllowed ? 'block' : 'none';\n",
              "\n",
              "        async function convertToInteractive(key) {\n",
              "          const element = document.querySelector('#df-3bfb710e-447a-4a74-8b67-6ee51713dfd1');\n",
              "          const dataTable =\n",
              "            await google.colab.kernel.invokeFunction('convertToInteractive',\n",
              "                                                     [key], {});\n",
              "          if (!dataTable) return;\n",
              "\n",
              "          const docLinkHtml = 'Like what you see? Visit the ' +\n",
              "            '<a target=\"_blank\" href=https://colab.research.google.com/notebooks/data_table.ipynb>data table notebook</a>'\n",
              "            + ' to learn more about interactive tables.';\n",
              "          element.innerHTML = '';\n",
              "          dataTable['output_type'] = 'display_data';\n",
              "          await google.colab.output.renderOutput(dataTable, element);\n",
              "          const docLink = document.createElement('div');\n",
              "          docLink.innerHTML = docLinkHtml;\n",
              "          element.appendChild(docLink);\n",
              "        }\n",
              "      </script>\n",
              "    </div>\n",
              "  </div>\n",
              "  "
            ]
          },
          "metadata": {},
          "execution_count": 732
        }
      ]
    },
    {
      "cell_type": "code",
      "source": [
        "#create a new dataframe showing only the correct predictions\n",
        "correct_predictions = df_predictions[df_predictions['match?']=='match']\n",
        "#get the count of the correct predctions for eah label\n",
        "correct_pred_count_label_0 , correct_pred_count_label_1 = correct_predictions['predicted label'].value_counts()\n",
        "#get the actual label count for each label\n",
        "actual_count_label_0 , actual_count_label_1 = df_predictions['actual label'].value_counts()"
      ],
      "metadata": {
        "id": "hrRL4FhdYlli"
      },
      "execution_count": null,
      "outputs": []
    },
    {
      "cell_type": "code",
      "source": [
        "#get the accuracy of each labels predictions\n",
        "accuracy_label_0,accuracy_label_1 = correct_pred_count_label_0/actual_count_label_0 , correct_pred_count_label_1/actual_count_label_1\n",
        "accuracy=accuracy_label_0*100,accuracy_label_1*100\n",
        "accuracy=pd.Series(accuracy)\n",
        "print('Accuracy of label 0 (non-fatal): ', accuracy_label_0, '\\nAccuracy of label 1 (fatal): ', accuracy_label_1)"
      ],
      "metadata": {
        "colab": {
          "base_uri": "https://localhost:8080/"
        },
        "id": "nyPLvxHzaZFI",
        "outputId": "286096e1-de85-4312-cde4-53037dd5df3f"
      },
      "execution_count": null,
      "outputs": [
        {
          "output_type": "stream",
          "name": "stdout",
          "text": [
            "Accuracy of label 0 (non-fatal):  0.6643741403026134 \n",
            "Accuracy of label 1 (fatal):  0.6721224920802534\n"
          ]
        }
      ]
    },
    {
      "cell_type": "code",
      "source": [
        "#plot the accuracy of each labels predictions\n",
        "fig, axes = plt.subplots(figsize=(18, 10))\n",
        "accuracy.plot(kind='barh')\n",
        "plt.yticks((0,1), ('non-Fatal accident', 'Fatal accident'))\n",
        "plt.xticks((0,10,20,30,40,50,60), ('0%', '10%','20%','30%','40%','50%','60%'))\n",
        "plt.xlabel('prectange accuracy')\n",
        "plt.title('percentage accuracy for each class/label')"
      ],
      "metadata": {
        "colab": {
          "base_uri": "https://localhost:8080/",
          "height": 639
        },
        "id": "RUctVVxqa6Vo",
        "outputId": "65c64660-3bbe-4d3a-ad90-3bb4d93195c1"
      },
      "execution_count": null,
      "outputs": [
        {
          "output_type": "execute_result",
          "data": {
            "text/plain": [
              "Text(0.5, 1.0, 'percentage accuracy for each class/label')"
            ]
          },
          "metadata": {},
          "execution_count": 715
        },
        {
          "output_type": "display_data",
          "data": {
            "text/plain": [
              "<Figure size 1296x720 with 1 Axes>"
            ],
            "image/png": "[encoded data removed]"
          },
          "metadata": {
            "needs_background": "light"
          }
        }
      ]
    },
    {
      "cell_type": "markdown",
      "source": [
        "#Iteration 2 - 'Weather_Conditions', 'Light_Conditions','Speed_limit'"
      ],
      "metadata": {
        "id": "dG_T2CK7_a5X"
      }
    },
    {
      "cell_type": "markdown",
      "source": [
        "##Features"
      ],
      "metadata": {
        "id": "ML2YnC8B_a5Z"
      }
    },
    {
      "cell_type": "markdown",
      "source": [
        "###Seleceting Features, checking correlation between them, cleaning missing data"
      ],
      "metadata": {
        "id": "rfIHgF-j_a5a"
      }
    },
    {
      "cell_type": "code",
      "source": [
        "df_features = df[['Weather_Conditions', 'Light_Conditions','Speed_limit','Accident_Severity']]"
      ],
      "metadata": {
        "id": "ZFTxgttM_a5a"
      },
      "execution_count": null,
      "outputs": []
    },
    {
      "cell_type": "code",
      "source": [
        "#checking correlation between features\n",
        "df_features.corr()\n",
        "sns.heatmap(df_features.corr())"
      ],
      "metadata": {
        "colab": {
          "base_uri": "https://localhost:8080/",
          "height": 73
        },
        "outputId": "bab602b9-4c05-45a2-a999-6d5c00e1b57c",
        "id": "V3ra5dZc_a5c"
      },
      "execution_count": null,
      "outputs": [
        {
          "output_type": "execute_result",
          "data": {
            "text/plain": [
              "<matplotlib.axes._subplots.AxesSubplot at 0x7f94c6b58910>"
            ]
          },
          "metadata": {},
          "execution_count": 111
        },
        {
          "output_type": "display_data",
          "data": {
            "text/plain": [
              "<Figure size 432x288 with 2 Axes>"
            ],
            "image/png": "[encoded data removed]"
          },
          "metadata": {
            "needs_background": "light"
          }
        }
      ]
    },
    {
      "cell_type": "code",
      "source": [
        "#checking which values have missing data, note missing data is recorded as -1\n",
        "df_features.min()"
      ],
      "metadata": {
        "colab": {
          "base_uri": "https://localhost:8080/"
        },
        "outputId": "df1e5801-1db1-405d-d49c-0ab7cb4274da",
        "id": "RNCdbczJ_a5c"
      },
      "execution_count": null,
      "outputs": [
        {
          "output_type": "execute_result",
          "data": {
            "text/plain": [
              "Weather_Conditions   -1\n",
              "Light_Conditions      1\n",
              "Speed_limit           0\n",
              "Accident_Severity     1\n",
              "dtype: int64"
            ]
          },
          "metadata": {},
          "execution_count": 112
        }
      ]
    },
    {
      "cell_type": "code",
      "source": [
        "#there are 161 accident that do not have recorded weather conditions, will drop these\n",
        "df_features['Weather_Conditions'][df_features['Weather_Conditions']==-1].count()"
      ],
      "metadata": {
        "colab": {
          "base_uri": "https://localhost:8080/"
        },
        "outputId": "ddb17eb7-8193-4ef2-9efc-b026123d58c0",
        "id": "08GsFgIW_a5d"
      },
      "execution_count": null,
      "outputs": [
        {
          "output_type": "execute_result",
          "data": {
            "text/plain": [
              "161"
            ]
          },
          "metadata": {},
          "execution_count": 113
        }
      ]
    },
    {
      "cell_type": "code",
      "source": [
        "#removing all rows with (missing) data\n",
        "df_features = df_features[df_features['Weather_Conditions']!=-1]\n",
        "df_features = df_features[df_features['Speed_limit']!=0]"
      ],
      "metadata": {
        "id": "shbWdLAj_a5d"
      },
      "execution_count": null,
      "outputs": []
    },
    {
      "cell_type": "markdown",
      "source": [
        "df_features.count()"
      ],
      "metadata": {
        "id": "d5LF_-Zs_a5e"
      }
    },
    {
      "cell_type": "markdown",
      "source": [
        "### Cleaning Label (accident severity) so that there are 2 classes instead of 3"
      ],
      "metadata": {
        "id": "dYgubRIt_a5e"
      }
    },
    {
      "cell_type": "code",
      "source": [
        "#check count for each level of accident deverity\n",
        "df_features['Accident_Severity'].value_counts()"
      ],
      "metadata": {
        "colab": {
          "base_uri": "https://localhost:8080/"
        },
        "outputId": "11634b90-6c7c-40ba-d484-26e16225ca9a",
        "id": "FpV0VYii_a5e"
      },
      "execution_count": null,
      "outputs": [
        {
          "output_type": "execute_result",
          "data": {
            "text/plain": [
              "3    1515429\n",
              "2     242067\n",
              "1      22995\n",
              "Name: Accident_Severity, dtype: int64"
            ]
          },
          "metadata": {},
          "execution_count": 115
        }
      ]
    },
    {
      "cell_type": "code",
      "source": [
        "#replace all accident severities where severiry is 2 or 3 and group them into 1 bucket (non-fatal)\n",
        "df_features['Accident_Severity'] = df_features['Accident_Severity'].replace(2,0)\n",
        "df_features['Accident_Severity'] = df_features['Accident_Severity'].replace(3,0)"
      ],
      "metadata": {
        "id": "DrrIKj46_a5e",
        "colab": {
          "base_uri": "https://localhost:8080/"
        },
        "outputId": "e62e0de7-a978-452f-a6d3-09de4ec38faf"
      },
      "execution_count": null,
      "outputs": [
        {
          "output_type": "stream",
          "name": "stderr",
          "text": [
            "/usr/local/lib/python3.7/dist-packages/ipykernel_launcher.py:2: SettingWithCopyWarning: \n",
            "A value is trying to be set on a copy of a slice from a DataFrame.\n",
            "Try using .loc[row_indexer,col_indexer] = value instead\n",
            "\n",
            "See the caveats in the documentation: https://pandas.pydata.org/pandas-docs/stable/user_guide/indexing.html#returning-a-view-versus-a-copy\n",
            "  \n",
            "/usr/local/lib/python3.7/dist-packages/ipykernel_launcher.py:3: SettingWithCopyWarning: \n",
            "A value is trying to be set on a copy of a slice from a DataFrame.\n",
            "Try using .loc[row_indexer,col_indexer] = value instead\n",
            "\n",
            "See the caveats in the documentation: https://pandas.pydata.org/pandas-docs/stable/user_guide/indexing.html#returning-a-view-versus-a-copy\n",
            "  This is separate from the ipykernel package so we can avoid doing imports until\n"
          ]
        }
      ]
    },
    {
      "cell_type": "code",
      "source": [
        "#create 2 dataframe, 1 for each class, and print the size each\n",
        "class_1 = df_features[df_features['Accident_Severity'] == 1]\n",
        "class_0 = df_features[df_features['Accident_Severity'] == 0]\n",
        "print('class 1 (fatal):', len(class_1))\n",
        "print('class 0 (non-fatal):', len(class_0))"
      ],
      "metadata": {
        "colab": {
          "base_uri": "https://localhost:8080/"
        },
        "outputId": "daf1bbb3-22d0-4532-bbb1-6a8358b2ae9d",
        "id": "C9ey_f3n_a5f"
      },
      "execution_count": null,
      "outputs": [
        {
          "output_type": "stream",
          "name": "stdout",
          "text": [
            "class 1 (fatal): 22995\n",
            "class 0 (non-fatal): 1757496\n"
          ]
        }
      ]
    },
    {
      "cell_type": "code",
      "source": [
        ""
      ],
      "metadata": {
        "id": "i60FAuzG_38J"
      },
      "execution_count": null,
      "outputs": []
    },
    {
      "cell_type": "markdown",
      "source": [
        "###Accounting for imbalance in the dataset by undersampling"
      ],
      "metadata": {
        "id": "JacxnjhB_a5f"
      }
    },
    {
      "cell_type": "code",
      "source": [
        "#get the length of the dataset for each class/label\n",
        "class_count_0, class_count_1 = df_features['Accident_Severity'].value_counts()"
      ],
      "metadata": {
        "id": "-7WcZSLZ_a5f"
      },
      "execution_count": null,
      "outputs": []
    },
    {
      "cell_type": "code",
      "source": [
        "#undersampling of class 0 to balance the count of data for each class/label\n",
        "class_0_under = class_0.sample(class_count_1)\n",
        "df_features_under = pd.concat([class_0_under, class_1], axis=0)"
      ],
      "metadata": {
        "id": "P56rZDK5_a5g"
      },
      "execution_count": null,
      "outputs": []
    },
    {
      "cell_type": "code",
      "source": [
        "#print the size of the new dataset for each class/label after undersampling\n",
        "class_1 = df_features_under[df_features_under['Accident_Severity'] == 1]\n",
        "class_0 = df_features_under[df_features_under['Accident_Severity'] == 0]\n",
        "print('class 1 (fatal):', len(class_1))\n",
        "print('class 0 (non-fatal):', len(class_0))"
      ],
      "metadata": {
        "colab": {
          "base_uri": "https://localhost:8080/"
        },
        "outputId": "4200fe31-4618-4ef2-d96c-27b1bfff471c",
        "id": "Cn_tzYbS_a5g"
      },
      "execution_count": null,
      "outputs": [
        {
          "output_type": "stream",
          "name": "stdout",
          "text": [
            "class 1 (fatal): 22995\n",
            "class 0 (non-fatal): 22995\n"
          ]
        }
      ]
    },
    {
      "cell_type": "markdown",
      "source": [
        "###splitting the dataset in training and test datasets"
      ],
      "metadata": {
        "id": "W6m9Et_v_a5g"
      }
    },
    {
      "cell_type": "code",
      "source": [
        "#splitting the dataset into training and test sets\n",
        "train_features_under, test_features_under = train_test_split(df_features_under, test_size=0.25)"
      ],
      "metadata": {
        "id": "Q1Y-c-T7_a5h"
      },
      "execution_count": null,
      "outputs": []
    },
    {
      "cell_type": "code",
      "source": [
        "#pop out the label column from the train and test undersampled datasets\n",
        "train_label_under = train_features_under.pop('Accident_Severity')\n",
        "test_label_under = test_features_under.pop('Accident_Severity')"
      ],
      "metadata": {
        "id": "DqNs9GXq_a5h"
      },
      "execution_count": null,
      "outputs": []
    },
    {
      "cell_type": "markdown",
      "source": [
        "## DNN Classifier"
      ],
      "metadata": {
        "id": "iPkCNr9h_a5h"
      }
    },
    {
      "cell_type": "markdown",
      "source": [
        "###defining input function, creating classifier, training classifer"
      ],
      "metadata": {
        "id": "kYc-RI4M_a5h"
      }
    },
    {
      "cell_type": "code",
      "source": [
        "def input_fn(features, labels, training=True, batch_size=344):\n",
        "    # Convert the inputs to a Dataset.\n",
        "    dataset = tf.data.Dataset.from_tensor_slices((dict(features), labels))\n",
        "    # Shuffle and repeat if you are in training mode.\n",
        "    if training:\n",
        "        dataset = dataset.shuffle(1000).repeat()\n",
        "    return dataset.batch(batch_size)"
      ],
      "metadata": {
        "id": "Eg6D2vuL_a5i"
      },
      "execution_count": null,
      "outputs": []
    },
    {
      "cell_type": "code",
      "source": [
        "# creating a tensorflow Feature column list\n",
        "my_feature_columns = []\n",
        "for key in train_features_under.keys():\n",
        "    my_feature_columns.append(tf.feature_column.numeric_column(key=key))\n",
        "my_feature_columns"
      ],
      "metadata": {
        "colab": {
          "base_uri": "https://localhost:8080/"
        },
        "outputId": "e156c650-2439-4547-a8e0-773be7c034e9",
        "id": "7aKVzPRJ_a5i"
      },
      "execution_count": null,
      "outputs": [
        {
          "output_type": "execute_result",
          "data": {
            "text/plain": [
              "[NumericColumn(key='Weather_Conditions', shape=(1,), default_value=None, dtype=tf.float32, normalizer_fn=None),\n",
              " NumericColumn(key='Light_Conditions', shape=(1,), default_value=None, dtype=tf.float32, normalizer_fn=None),\n",
              " NumericColumn(key='Speed_limit', shape=(1,), default_value=None, dtype=tf.float32, normalizer_fn=None)]"
            ]
          },
          "metadata": {},
          "execution_count": 124
        }
      ]
    },
    {
      "cell_type": "code",
      "source": [
        "# Build a DNN with 2 hidden layers with 30 and 10 hidden nodes each.\n",
        "classifier = tf.estimator.DNNClassifier(\n",
        "    feature_columns=my_feature_columns,\n",
        "    # Two hidden layers of 30 and 10 nodes respectively.\n",
        "    hidden_units=[30, 10],\n",
        "    # The model must choose between 2 classes.\n",
        "    n_classes=2)"
      ],
      "metadata": {
        "colab": {
          "base_uri": "https://localhost:8080/"
        },
        "outputId": "9be2adf6-15c6-4aff-ddf5-1c23617aa082",
        "id": "Wp813v2e_a5i"
      },
      "execution_count": null,
      "outputs": [
        {
          "output_type": "stream",
          "name": "stdout",
          "text": [
            "INFO:tensorflow:Using default config.\n",
            "WARNING:tensorflow:Using temporary folder as model directory: /tmp/tmpfthq6098\n",
            "INFO:tensorflow:Using config: {'_model_dir': '/tmp/tmpfthq6098', '_tf_random_seed': None, '_save_summary_steps': 100, '_save_checkpoints_steps': None, '_save_checkpoints_secs': 600, '_session_config': allow_soft_placement: true\n",
            "graph_options {\n",
            "  rewrite_options {\n",
            "    meta_optimizer_iterations: ONE\n",
            "  }\n",
            "}\n",
            ", '_keep_checkpoint_max': 5, '_keep_checkpoint_every_n_hours': 10000, '_log_step_count_steps': 100, '_train_distribute': None, '_device_fn': None, '_protocol': None, '_eval_distribute': None, '_experimental_distribute': None, '_experimental_max_worker_delay_secs': None, '_session_creation_timeout_secs': 7200, '_checkpoint_save_graph_def': True, '_service': None, '_cluster_spec': ClusterSpec({}), '_task_type': 'worker', '_task_id': 0, '_global_id_in_cluster': 0, '_master': '', '_evaluation_master': '', '_is_chief': True, '_num_ps_replicas': 0, '_num_worker_replicas': 1}\n"
          ]
        }
      ]
    },
    {
      "cell_type": "code",
      "source": [
        "classifier.train(input_fn=lambda: input_fn(train_features_under, train_label_under, training=True),steps=1000)\n",
        "# We include a lambda to avoid creating an inner function previously"
      ],
      "metadata": {
        "colab": {
          "base_uri": "https://localhost:8080/"
        },
        "outputId": "17cfba05-0841-4f30-a30d-40d2f81a98f2",
        "id": "EZRwz7Ki_a5j"
      },
      "execution_count": null,
      "outputs": [
        {
          "output_type": "stream",
          "name": "stdout",
          "text": [
            "INFO:tensorflow:Calling model_fn.\n",
            "INFO:tensorflow:Done calling model_fn.\n",
            "INFO:tensorflow:Create CheckpointSaverHook.\n",
            "INFO:tensorflow:Graph was finalized.\n",
            "INFO:tensorflow:Running local_init_op.\n",
            "INFO:tensorflow:Done running local_init_op.\n",
            "INFO:tensorflow:Calling checkpoint listeners before saving checkpoint 0...\n",
            "INFO:tensorflow:Saving checkpoints for 0 into /tmp/tmpfthq6098/model.ckpt.\n",
            "INFO:tensorflow:Calling checkpoint listeners after saving checkpoint 0...\n",
            "INFO:tensorflow:loss = 7.4784856, step = 0\n",
            "INFO:tensorflow:global_step/sec: 264.515\n",
            "INFO:tensorflow:loss = 2.7558503, step = 100 (0.382 sec)\n",
            "INFO:tensorflow:global_step/sec: 337.571\n",
            "INFO:tensorflow:loss = 1.1053634, step = 200 (0.298 sec)\n",
            "INFO:tensorflow:global_step/sec: 328.121\n",
            "INFO:tensorflow:loss = 0.671809, step = 300 (0.303 sec)\n",
            "INFO:tensorflow:global_step/sec: 339.006\n",
            "INFO:tensorflow:loss = 0.689614, step = 400 (0.296 sec)\n",
            "INFO:tensorflow:global_step/sec: 340.968\n",
            "INFO:tensorflow:loss = 0.6877387, step = 500 (0.292 sec)\n",
            "INFO:tensorflow:global_step/sec: 349.273\n",
            "INFO:tensorflow:loss = 0.6818515, step = 600 (0.287 sec)\n",
            "INFO:tensorflow:global_step/sec: 333.274\n",
            "INFO:tensorflow:loss = 0.6841273, step = 700 (0.298 sec)\n",
            "INFO:tensorflow:global_step/sec: 212.387\n",
            "INFO:tensorflow:loss = 0.67254627, step = 800 (0.470 sec)\n",
            "INFO:tensorflow:global_step/sec: 107.531\n",
            "INFO:tensorflow:loss = 0.67135715, step = 900 (0.930 sec)\n",
            "INFO:tensorflow:Calling checkpoint listeners before saving checkpoint 1000...\n",
            "INFO:tensorflow:Saving checkpoints for 1000 into /tmp/tmpfthq6098/model.ckpt.\n",
            "INFO:tensorflow:Calling checkpoint listeners after saving checkpoint 1000...\n",
            "INFO:tensorflow:Loss for final step: 0.68121994.\n"
          ]
        },
        {
          "output_type": "execute_result",
          "data": {
            "text/plain": [
              "<tensorflow_estimator.python.estimator.canned.dnn.DNNClassifierV2 at 0x7f94c582c950>"
            ]
          },
          "metadata": {},
          "execution_count": 126
        }
      ]
    },
    {
      "cell_type": "markdown",
      "source": [
        "###Evaluating Classifier"
      ],
      "metadata": {
        "id": "wsJhPpSU_a5j"
      }
    },
    {
      "cell_type": "code",
      "source": [
        "#determine the accurracy of th classifier\n",
        "eval_result = classifier.evaluate(\n",
        "    input_fn=lambda: input_fn(test_features_under, test_label_under, training=False))\n",
        "print('\\nTest set accuracy: {accuracy:0.3f}\\n'.format(**eval_result))"
      ],
      "metadata": {
        "colab": {
          "base_uri": "https://localhost:8080/"
        },
        "outputId": "4b7f1915-2041-441a-e406-c6e813ba3180",
        "id": "5-n7J_zN_a5j"
      },
      "execution_count": null,
      "outputs": [
        {
          "output_type": "stream",
          "name": "stdout",
          "text": [
            "INFO:tensorflow:Calling model_fn.\n",
            "INFO:tensorflow:Done calling model_fn.\n",
            "INFO:tensorflow:Starting evaluation at 2022-04-03T20:54:18\n",
            "INFO:tensorflow:Graph was finalized.\n",
            "INFO:tensorflow:Restoring parameters from /tmp/tmpfthq6098/model.ckpt-1000\n",
            "INFO:tensorflow:Running local_init_op.\n",
            "INFO:tensorflow:Done running local_init_op.\n",
            "INFO:tensorflow:Inference Time : 0.81262s\n",
            "INFO:tensorflow:Finished evaluation at 2022-04-03-20:54:19\n",
            "INFO:tensorflow:Saving dict for global step 1000: accuracy = 0.5281788, accuracy_baseline = 0.50321794, auc = 0.6235275, auc_precision_recall = 0.6014335, average_loss = 0.67574084, global_step = 1000, label/mean = 0.50321794, loss = 0.67573535, precision = 0.5206877, prediction/mean = 0.53674823, recall = 0.7851711\n",
            "INFO:tensorflow:Saving 'checkpoint_path' summary for global step 1000: /tmp/tmpfthq6098/model.ckpt-1000\n",
            "\n",
            "Test set accuracy: 0.528\n",
            "\n"
          ]
        }
      ]
    },
    {
      "cell_type": "code",
      "source": [
        "#create predictions list for all test set\n",
        "predictions_under = list(classifier.predict(input_fn=lambda: input_fn(test_features_under, test_label_under, training=False)))"
      ],
      "metadata": {
        "outputId": "34909166-48c9-46c7-dc92-b005df55ac3d",
        "colab": {
          "base_uri": "https://localhost:8080/"
        },
        "id": "GnmBpzgS_a5k"
      },
      "execution_count": null,
      "outputs": [
        {
          "output_type": "stream",
          "name": "stdout",
          "text": [
            "INFO:tensorflow:Calling model_fn.\n",
            "INFO:tensorflow:Done calling model_fn.\n",
            "INFO:tensorflow:Graph was finalized.\n",
            "INFO:tensorflow:Restoring parameters from /tmp/tmpfthq6098/model.ckpt-1000\n",
            "INFO:tensorflow:Running local_init_op.\n",
            "INFO:tensorflow:Done running local_init_op.\n"
          ]
        }
      ]
    },
    {
      "cell_type": "code",
      "source": [
        "#create a dataframe of predictions for test set\n",
        "df_predictions = pd.DataFrame(predictions_under)"
      ],
      "metadata": {
        "id": "aItcfZNN_a5k"
      },
      "execution_count": null,
      "outputs": []
    },
    {
      "cell_type": "markdown",
      "source": [
        "###Plot of Results"
      ],
      "metadata": {
        "id": "ts91q6K2_a5l"
      }
    },
    {
      "cell_type": "code",
      "source": [
        "#add the actual matches to the prediciton dataframe\n",
        "df_predictions['actual label']=test_label_under.values"
      ],
      "metadata": {
        "id": "FEo5GMY3_a5l"
      },
      "execution_count": null,
      "outputs": []
    },
    {
      "cell_type": "code",
      "source": [
        "#add the class predicitons from the DNN to the dataframe\n",
        "df_predictions['predicted label']=pd.DataFrame.from_records(df_predictions['class_ids'])"
      ],
      "metadata": {
        "id": "-PybUwov_a5l"
      },
      "execution_count": null,
      "outputs": []
    },
    {
      "cell_type": "code",
      "source": [
        "#add a binary column to show if the dnn predictions were correct\n",
        "df_predictions['match?']=df_predictions['predicted label']-df_predictions['actual label']\n",
        "df_predictions['match?']=df_predictions['match?'].replace(0,'match')\n",
        "df_predictions['match?']=df_predictions['match?'].replace(-1,'not match')\n",
        "df_predictions['match?']=df_predictions['match?'].replace(1,'not match')"
      ],
      "metadata": {
        "id": "U53B19vJ_a5l"
      },
      "execution_count": null,
      "outputs": []
    },
    {
      "cell_type": "code",
      "source": [
        "#view the prdictions dataframe\n",
        "df_predictions.head()"
      ],
      "metadata": {
        "colab": {
          "base_uri": "https://localhost:8080/",
          "height": 374
        },
        "outputId": "20ea11da-4e9d-4138-b484-e718091ec4bc",
        "id": "7reJrYY4_a5m"
      },
      "execution_count": null,
      "outputs": [
        {
          "output_type": "execute_result",
          "data": {
            "text/plain": [
              "          logits     logistic             probabilities class_ids classes  \\\n",
              "0   [0.18222898]  [0.5454316]   [0.45456845, 0.5454316]       [1]  [b'1']   \n",
              "1    [0.6473179]  [0.6564058]   [0.34359422, 0.6564058]       [1]  [b'1']   \n",
              "2   [0.06222656]  [0.5155516]  [0.48444834, 0.51555157]       [1]  [b'1']   \n",
              "3  [0.027198788]  [0.5067993]   [0.49320072, 0.5067993]       [1]  [b'1']   \n",
              "4  [0.027198788]  [0.5067993]   [0.49320072, 0.5067993]       [1]  [b'1']   \n",
              "\n",
              "  all_class_ids   all_classes  actual label  predicted label     match?  \n",
              "0        [0, 1]  [b'0', b'1']             0                1  not match  \n",
              "1        [0, 1]  [b'0', b'1']             0                1  not match  \n",
              "2        [0, 1]  [b'0', b'1']             0                1  not match  \n",
              "3        [0, 1]  [b'0', b'1']             1                1      match  \n",
              "4        [0, 1]  [b'0', b'1']             0                1  not match  "
            ],
            "text/html": [
              "\n",
              "  <div id=\"df-5928e7c5-8dc2-4878-910c-af721b20292b\">\n",
              "    <div class=\"colab-df-container\">\n",
              "      <div>\n",
              "<style scoped>\n",
              "    .dataframe tbody tr th:only-of-type {\n",
              "        vertical-align: middle;\n",
              "    }\n",
              "\n",
              "    .dataframe tbody tr th {\n",
              "        vertical-align: top;\n",
              "    }\n",
              "\n",
              "    .dataframe thead th {\n",
              "        text-align: right;\n",
              "    }\n",
              "</style>\n",
              "<table border=\"1\" class=\"dataframe\">\n",
              "  <thead>\n",
              "    <tr style=\"text-align: right;\">\n",
              "      <th></th>\n",
              "      <th>logits</th>\n",
              "      <th>logistic</th>\n",
              "      <th>probabilities</th>\n",
              "      <th>class_ids</th>\n",
              "      <th>classes</th>\n",
              "      <th>all_class_ids</th>\n",
              "      <th>all_classes</th>\n",
              "      <th>actual label</th>\n",
              "      <th>predicted label</th>\n",
              "      <th>match?</th>\n",
              "    </tr>\n",
              "  </thead>\n",
              "  <tbody>\n",
              "    <tr>\n",
              "      <th>0</th>\n",
              "      <td>[0.18222898]</td>\n",
              "      <td>[0.5454316]</td>\n",
              "      <td>[0.45456845, 0.5454316]</td>\n",
              "      <td>[1]</td>\n",
              "      <td>[b'1']</td>\n",
              "      <td>[0, 1]</td>\n",
              "      <td>[b'0', b'1']</td>\n",
              "      <td>0</td>\n",
              "      <td>1</td>\n",
              "      <td>not match</td>\n",
              "    </tr>\n",
              "    <tr>\n",
              "      <th>1</th>\n",
              "      <td>[0.6473179]</td>\n",
              "      <td>[0.6564058]</td>\n",
              "      <td>[0.34359422, 0.6564058]</td>\n",
              "      <td>[1]</td>\n",
              "      <td>[b'1']</td>\n",
              "      <td>[0, 1]</td>\n",
              "      <td>[b'0', b'1']</td>\n",
              "      <td>0</td>\n",
              "      <td>1</td>\n",
              "      <td>not match</td>\n",
              "    </tr>\n",
              "    <tr>\n",
              "      <th>2</th>\n",
              "      <td>[0.06222656]</td>\n",
              "      <td>[0.5155516]</td>\n",
              "      <td>[0.48444834, 0.51555157]</td>\n",
              "      <td>[1]</td>\n",
              "      <td>[b'1']</td>\n",
              "      <td>[0, 1]</td>\n",
              "      <td>[b'0', b'1']</td>\n",
              "      <td>0</td>\n",
              "      <td>1</td>\n",
              "      <td>not match</td>\n",
              "    </tr>\n",
              "    <tr>\n",
              "      <th>3</th>\n",
              "      <td>[0.027198788]</td>\n",
              "      <td>[0.5067993]</td>\n",
              "      <td>[0.49320072, 0.5067993]</td>\n",
              "      <td>[1]</td>\n",
              "      <td>[b'1']</td>\n",
              "      <td>[0, 1]</td>\n",
              "      <td>[b'0', b'1']</td>\n",
              "      <td>1</td>\n",
              "      <td>1</td>\n",
              "      <td>match</td>\n",
              "    </tr>\n",
              "    <tr>\n",
              "      <th>4</th>\n",
              "      <td>[0.027198788]</td>\n",
              "      <td>[0.5067993]</td>\n",
              "      <td>[0.49320072, 0.5067993]</td>\n",
              "      <td>[1]</td>\n",
              "      <td>[b'1']</td>\n",
              "      <td>[0, 1]</td>\n",
              "      <td>[b'0', b'1']</td>\n",
              "      <td>0</td>\n",
              "      <td>1</td>\n",
              "      <td>not match</td>\n",
              "    </tr>\n",
              "  </tbody>\n",
              "</table>\n",
              "</div>\n",
              "      <button class=\"colab-df-convert\" onclick=\"convertToInteractive('df-5928e7c5-8dc2-4878-910c-af721b20292b')\"\n",
              "              title=\"Convert this dataframe to an interactive table.\"\n",
              "              style=\"display:none;\">\n",
              "        \n",
              "  <svg xmlns=\"http://www.w3.org/2000/svg\" height=\"24px\"viewBox=\"0 0 24 24\"\n",
              "       width=\"24px\">\n",
              "    <path d=\"M0 0h24v24H0V0z\" fill=\"none\"/>\n",
              "    <path d=\"M18.56 5.44l.94 2.06.94-2.06 2.06-.94-2.06-.94-.94-2.06-.94 2.06-2.06.94zm-11 1L8.5 8.5l.94-2.06 2.06-.94-2.06-.94L8.5 2.5l-.94 2.06-2.06.94zm10 10l.94 2.06.94-2.06 2.06-.94-2.06-.94-.94-2.06-.94 2.06-2.06.94z\"/><path d=\"M17.41 7.96l-1.37-1.37c-.4-.4-.92-.59-1.43-.59-.52 0-1.04.2-1.43.59L10.3 9.45l-7.72 7.72c-.78.78-.78 2.05 0 2.83L4 21.41c.39.39.9.59 1.41.59.51 0 1.02-.2 1.41-.59l7.78-7.78 2.81-2.81c.8-.78.8-2.07 0-2.86zM5.41 20L4 18.59l7.72-7.72 1.47 1.35L5.41 20z\"/>\n",
              "  </svg>\n",
              "      </button>\n",
              "      \n",
              "  <style>\n",
              "    .colab-df-container {\n",
              "      display:flex;\n",
              "      flex-wrap:wrap;\n",
              "      gap: 12px;\n",
              "    }\n",
              "\n",
              "    .colab-df-convert {\n",
              "      background-color: #E8F0FE;\n",
              "      border: none;\n",
              "      border-radius: 50%;\n",
              "      cursor: pointer;\n",
              "      display: none;\n",
              "      fill: #1967D2;\n",
              "      height: 32px;\n",
              "      padding: 0 0 0 0;\n",
              "      width: 32px;\n",
              "    }\n",
              "\n",
              "    .colab-df-convert:hover {\n",
              "      background-color: #E2EBFA;\n",
              "      box-shadow: 0px 1px 2px rgba(60, 64, 67, 0.3), 0px 1px 3px 1px rgba(60, 64, 67, 0.15);\n",
              "      fill: #174EA6;\n",
              "    }\n",
              "\n",
              "    [theme=dark] .colab-df-convert {\n",
              "      background-color: #3B4455;\n",
              "      fill: #D2E3FC;\n",
              "    }\n",
              "\n",
              "    [theme=dark] .colab-df-convert:hover {\n",
              "      background-color: #434B5C;\n",
              "      box-shadow: 0px 1px 3px 1px rgba(0, 0, 0, 0.15);\n",
              "      filter: drop-shadow(0px 1px 2px rgba(0, 0, 0, 0.3));\n",
              "      fill: #FFFFFF;\n",
              "    }\n",
              "  </style>\n",
              "\n",
              "      <script>\n",
              "        const buttonEl =\n",
              "          document.querySelector('#df-5928e7c5-8dc2-4878-910c-af721b20292b button.colab-df-convert');\n",
              "        buttonEl.style.display =\n",
              "          google.colab.kernel.accessAllowed ? 'block' : 'none';\n",
              "\n",
              "        async function convertToInteractive(key) {\n",
              "          const element = document.querySelector('#df-5928e7c5-8dc2-4878-910c-af721b20292b');\n",
              "          const dataTable =\n",
              "            await google.colab.kernel.invokeFunction('convertToInteractive',\n",
              "                                                     [key], {});\n",
              "          if (!dataTable) return;\n",
              "\n",
              "          const docLinkHtml = 'Like what you see? Visit the ' +\n",
              "            '<a target=\"_blank\" href=https://colab.research.google.com/notebooks/data_table.ipynb>data table notebook</a>'\n",
              "            + ' to learn more about interactive tables.';\n",
              "          element.innerHTML = '';\n",
              "          dataTable['output_type'] = 'display_data';\n",
              "          await google.colab.output.renderOutput(dataTable, element);\n",
              "          const docLink = document.createElement('div');\n",
              "          docLink.innerHTML = docLinkHtml;\n",
              "          element.appendChild(docLink);\n",
              "        }\n",
              "      </script>\n",
              "    </div>\n",
              "  </div>\n",
              "  "
            ]
          },
          "metadata": {},
          "execution_count": 133
        }
      ]
    },
    {
      "cell_type": "code",
      "source": [
        "#create a new dataframe showing only the correct predictions\n",
        "correct_predictions = df_predictions[df_predictions['match?']=='match']\n",
        "#get the count of the correct predctions for eah label\n",
        "correct_pred_count_label_0 , correct_pred_count_label_1 = correct_predictions['predicted label'].value_counts()\n",
        "#get the actual label count for each label\n",
        "actual_count_label_0 , actual_count_label_1 = df_predictions['actual label'].value_counts()"
      ],
      "metadata": {
        "id": "nqD7mevd_a5m"
      },
      "execution_count": null,
      "outputs": []
    },
    {
      "cell_type": "code",
      "source": [
        "#get the accuracy of each labels predictions\n",
        "accuracy_label_0,accuracy_label_1 = correct_pred_count_label_0/actual_count_label_0 , correct_pred_count_label_1/actual_count_label_1\n",
        "accuracy=accuracy_label_0*100,accuracy_label_1*100\n",
        "accuracy=pd.Series(accuracy)\n",
        "print('Accuracy of label 0 (non-fatal): ', accuracy_label_0, '\\nAccuracy of label 1 (fatal): ', accuracy_label_1)"
      ],
      "metadata": {
        "colab": {
          "base_uri": "https://localhost:8080/"
        },
        "outputId": "33ae82e2-543e-4db3-d74d-e7142b7d1be9",
        "id": "T0_TptLm_a5m"
      },
      "execution_count": null,
      "outputs": [
        {
          "output_type": "stream",
          "name": "stdout",
          "text": [
            "Accuracy of label 0 (non-fatal):  0.785171102661597 \n",
            "Accuracy of label 1 (fatal):  0.26785714285714285\n"
          ]
        }
      ]
    },
    {
      "cell_type": "code",
      "source": [
        "#plot the accuracy of each labels predictions\n",
        "fig, axes = plt.subplots(figsize=(18, 10))\n",
        "accuracy.plot(kind='barh')\n",
        "plt.yticks((0,1), ('non-Fatal accident', 'Fatal accident'))\n",
        "plt.xticks((0,10,20,30,40,50,60), ('0%', '10%','20%','30%','40%','50%','60%'))\n",
        "plt.xlabel('prectange accuracy')\n",
        "plt.title('percentage accuracy for each class/label')"
      ],
      "metadata": {
        "colab": {
          "base_uri": "https://localhost:8080/",
          "height": 73
        },
        "outputId": "67d90ad6-d36f-45a2-a334-bfc987b50d21",
        "id": "IvI5Xg7o_a5o"
      },
      "execution_count": null,
      "outputs": [
        {
          "output_type": "execute_result",
          "data": {
            "text/plain": [
              "Text(0.5, 1.0, 'percentage accuracy for each class/label')"
            ]
          },
          "metadata": {},
          "execution_count": 136
        },
        {
          "output_type": "display_data",
          "data": {
            "text/plain": [
              "<Figure size 1296x720 with 1 Axes>"
            ],
            "image/png": "[encoded data removed]"
          },
          "metadata": {
            "needs_background": "light"
          }
        }
      ]
    },
    {
      "cell_type": "markdown",
      "source": [
        "#Iteration 3 - 'Weather_Conditions', 'Local_Authority_(District)','Speed_limit'"
      ],
      "metadata": {
        "id": "vjGQGY5tBHGK"
      }
    },
    {
      "cell_type": "markdown",
      "source": [
        "##Features"
      ],
      "metadata": {
        "id": "zWE5_IATBHGM"
      }
    },
    {
      "cell_type": "markdown",
      "source": [
        "###Seleceting Features, checking correlation between them, cleaning missing data"
      ],
      "metadata": {
        "id": "DeQKOckkBHGO"
      }
    },
    {
      "cell_type": "code",
      "source": [
        "df_features = df[['Weather_Conditions', 'Local_Authority_(District)','Speed_limit','Accident_Severity']]\n",
        "df_features = df_features.rename(columns={'Local_Authority_(District)':'district'})"
      ],
      "metadata": {
        "id": "0WshyjKeBHGP"
      },
      "execution_count": null,
      "outputs": []
    },
    {
      "cell_type": "code",
      "source": [
        "#checking correlation between features\n",
        "df_features.corr()\n",
        "sns.heatmap(df_features.corr())"
      ],
      "metadata": {
        "colab": {
          "base_uri": "https://localhost:8080/",
          "height": 73
        },
        "outputId": "7a0bfd2c-489e-42e9-ebb7-e847acf03821",
        "id": "u0EsIOamBHGQ"
      },
      "execution_count": null,
      "outputs": [
        {
          "output_type": "execute_result",
          "data": {
            "text/plain": [
              "<matplotlib.axes._subplots.AxesSubplot at 0x7f74d59c9410>"
            ]
          },
          "metadata": {},
          "execution_count": 811
        },
        {
          "output_type": "display_data",
          "data": {
            "text/plain": [
              "<Figure size 432x288 with 2 Axes>"
            ],
            "image/png": "[encoded data removed]"
          },
          "metadata": {
            "needs_background": "light"
          }
        }
      ]
    },
    {
      "cell_type": "code",
      "source": [
        "#checking which values have missing data, note missing data is recorded as -1\n",
        "df_features.min()"
      ],
      "metadata": {
        "colab": {
          "base_uri": "https://localhost:8080/"
        },
        "outputId": "6e345bf1-7d90-409d-f487-3e7e0d9e2df4",
        "id": "qkVDbi1ABHGR"
      },
      "execution_count": null,
      "outputs": [
        {
          "output_type": "execute_result",
          "data": {
            "text/plain": [
              "Weather_Conditions   -1\n",
              "district              1\n",
              "Speed_limit           0\n",
              "Accident_Severity     1\n",
              "dtype: int64"
            ]
          },
          "metadata": {},
          "execution_count": 812
        }
      ]
    },
    {
      "cell_type": "code",
      "source": [
        "#there are 161 accident that do not have recorded weather conditions, will drop these\n",
        "df_features['Weather_Conditions'][df_features['Weather_Conditions']==-1].count()"
      ],
      "metadata": {
        "colab": {
          "base_uri": "https://localhost:8080/"
        },
        "outputId": "3b8ce2ad-f397-43cb-ca7e-405fe42b44ce",
        "id": "9lGDXEs6BHGR"
      },
      "execution_count": null,
      "outputs": [
        {
          "output_type": "execute_result",
          "data": {
            "text/plain": [
              "161"
            ]
          },
          "metadata": {},
          "execution_count": 813
        }
      ]
    },
    {
      "cell_type": "code",
      "source": [
        "#removing all rows with (missing) data\n",
        "df_features = df_features[df_features['Weather_Conditions']!=-1]\n",
        "df_features = df_features[df_features['Speed_limit']!=0]"
      ],
      "metadata": {
        "id": "JavDOicmBHGS"
      },
      "execution_count": null,
      "outputs": []
    },
    {
      "cell_type": "markdown",
      "source": [
        "df_features.count()"
      ],
      "metadata": {
        "id": "D_FR8LyIBHGT"
      }
    },
    {
      "cell_type": "markdown",
      "source": [
        "### Cleaning Label (accident severity) so that there are 2 classes instead of 3"
      ],
      "metadata": {
        "id": "qSKwefFlBHGT"
      }
    },
    {
      "cell_type": "code",
      "source": [
        "#check count for each level of accident deverity\n",
        "df_features['Accident_Severity'].value_counts()"
      ],
      "metadata": {
        "colab": {
          "base_uri": "https://localhost:8080/"
        },
        "outputId": "653ed04d-9ba6-4ab2-fdd8-c1ae45020758",
        "id": "vSuNbA19BHGU"
      },
      "execution_count": null,
      "outputs": [
        {
          "output_type": "execute_result",
          "data": {
            "text/plain": [
              "3    1515429\n",
              "2     242067\n",
              "1      22995\n",
              "Name: Accident_Severity, dtype: int64"
            ]
          },
          "metadata": {},
          "execution_count": 815
        }
      ]
    },
    {
      "cell_type": "code",
      "source": [
        "#replace all accident severities where severiry is 2 or 3 and group them into 1 bucket (non-fatal)\n",
        "df_features['Accident_Severity'] = df_features['Accident_Severity'].replace(2,0)\n",
        "df_features['Accident_Severity'] = df_features['Accident_Severity'].replace(3,0)"
      ],
      "metadata": {
        "id": "9HVTKR5ABHGU"
      },
      "execution_count": null,
      "outputs": []
    },
    {
      "cell_type": "code",
      "source": [
        "#create 2 dataframe, 1 for each class, and print the size each\n",
        "class_1 = df_features[df_features['Accident_Severity'] == 1]\n",
        "class_0 = df_features[df_features['Accident_Severity'] == 0]\n",
        "print('class 1 (fatal):', len(class_1))\n",
        "print('class 0 (non-fatal):', len(class_0))"
      ],
      "metadata": {
        "colab": {
          "base_uri": "https://localhost:8080/"
        },
        "outputId": "e432b1e4-5f13-4a6f-dbe6-187921b718b4",
        "id": "zj_TZDOiBHGV"
      },
      "execution_count": null,
      "outputs": [
        {
          "output_type": "stream",
          "name": "stdout",
          "text": [
            "class 1 (fatal): 22995\n",
            "class 0 (non-fatal): 1757496\n"
          ]
        }
      ]
    },
    {
      "cell_type": "markdown",
      "source": [
        "###Accounting for imbalance in the dataset by undersampling"
      ],
      "metadata": {
        "id": "D-2NLIKTBHGV"
      }
    },
    {
      "cell_type": "code",
      "source": [
        "#get the length of the dataset for each class/label\n",
        "class_count_0, class_count_1 = df_features['Accident_Severity'].value_counts()"
      ],
      "metadata": {
        "id": "fsN1tEjkBHGV"
      },
      "execution_count": null,
      "outputs": []
    },
    {
      "cell_type": "code",
      "source": [
        "#undersampling of class 0 to balance the count of data for each class/label\n",
        "class_0_under = class_0.sample(class_count_1)\n",
        "df_features_under = pd.concat([class_0_under, class_1], axis=0)"
      ],
      "metadata": {
        "id": "shFmk8ZcBHGX"
      },
      "execution_count": null,
      "outputs": []
    },
    {
      "cell_type": "code",
      "source": [
        "#print the size of the new dataset for each class/label after undersampling\n",
        "class_1 = df_features_under[df_features_under['Accident_Severity'] == 1]\n",
        "class_0 = df_features_under[df_features_under['Accident_Severity'] == 0]\n",
        "print('class 1 (fatal):', len(class_1))\n",
        "print('class 0 (non-fatal):', len(class_0))"
      ],
      "metadata": {
        "colab": {
          "base_uri": "https://localhost:8080/"
        },
        "outputId": "037ccba4-1d3d-4ac3-ac00-aa74f667fa07",
        "id": "mdSQ97nJBHGX"
      },
      "execution_count": null,
      "outputs": [
        {
          "output_type": "stream",
          "name": "stdout",
          "text": [
            "class 1 (fatal): 22995\n",
            "class 0 (non-fatal): 22995\n"
          ]
        }
      ]
    },
    {
      "cell_type": "markdown",
      "source": [
        "###splitting the dataset in training and test datasets"
      ],
      "metadata": {
        "id": "6h0GX1OzBHGZ"
      }
    },
    {
      "cell_type": "code",
      "source": [
        "#splitting the dataset into training and test sets\n",
        "train_features_under, test_features_under = train_test_split(df_features_under, test_size=0.25)"
      ],
      "metadata": {
        "id": "0IUtqvIpBHGZ"
      },
      "execution_count": null,
      "outputs": []
    },
    {
      "cell_type": "code",
      "source": [
        "#pop out the label column from the train and test undersampled datasets\n",
        "train_label_under = train_features_under.pop('Accident_Severity')\n",
        "test_label_under = test_features_under.pop('Accident_Severity')"
      ],
      "metadata": {
        "id": "R2KVXFbdBHGZ"
      },
      "execution_count": null,
      "outputs": []
    },
    {
      "cell_type": "markdown",
      "source": [
        "## DNN Classifier"
      ],
      "metadata": {
        "id": "IoCAXcHdBHGZ"
      }
    },
    {
      "cell_type": "markdown",
      "source": [
        "###defining input function, creating classifier, training classifer"
      ],
      "metadata": {
        "id": "at_zulqLBHGb"
      }
    },
    {
      "cell_type": "code",
      "source": [
        "def input_fn(features, labels, training=True, batch_size=344):\n",
        "    # Convert the inputs to a Dataset.\n",
        "    dataset = tf.data.Dataset.from_tensor_slices((dict(features), labels))\n",
        "    # Shuffle and repeat if you are in training mode.\n",
        "    if training:\n",
        "        dataset = dataset.shuffle(1000).repeat()\n",
        "    return dataset.batch(batch_size)"
      ],
      "metadata": {
        "id": "zTQ1tGAQBHGb"
      },
      "execution_count": null,
      "outputs": []
    },
    {
      "cell_type": "code",
      "source": [
        "# creating a tensorflow Feature column list\n",
        "my_feature_columns = []\n",
        "for key in train_features_under.keys():\n",
        "    my_feature_columns.append(tf.feature_column.numeric_column(key=key))\n",
        "my_feature_columns"
      ],
      "metadata": {
        "colab": {
          "base_uri": "https://localhost:8080/"
        },
        "outputId": "dbae1f6c-e67f-4a5f-f06f-124ad940012a",
        "id": "vU5g5VuMBHGb"
      },
      "execution_count": null,
      "outputs": [
        {
          "output_type": "execute_result",
          "data": {
            "text/plain": [
              "[NumericColumn(key='Weather_Conditions', shape=(1,), default_value=None, dtype=tf.float32, normalizer_fn=None),\n",
              " NumericColumn(key='district', shape=(1,), default_value=None, dtype=tf.float32, normalizer_fn=None),\n",
              " NumericColumn(key='Speed_limit', shape=(1,), default_value=None, dtype=tf.float32, normalizer_fn=None)]"
            ]
          },
          "metadata": {},
          "execution_count": 824
        }
      ]
    },
    {
      "cell_type": "code",
      "source": [
        "# Build a DNN with 2 hidden layers with 30 and 10 hidden nodes each.\n",
        "classifier = tf.estimator.DNNClassifier(\n",
        "    feature_columns=my_feature_columns,\n",
        "    # Two hidden layers of 30 and 10 nodes respectively.\n",
        "    hidden_units=[30, 10],\n",
        "    # The model must choose between 2 classes.\n",
        "    n_classes=2)"
      ],
      "metadata": {
        "colab": {
          "base_uri": "https://localhost:8080/"
        },
        "outputId": "09aa873f-531f-407a-beac-69c8043a5c30",
        "id": "evocTzvVBHGc"
      },
      "execution_count": null,
      "outputs": [
        {
          "output_type": "stream",
          "name": "stdout",
          "text": [
            "INFO:tensorflow:Using default config.\n",
            "WARNING:tensorflow:Using temporary folder as model directory: /tmp/tmp9l2p86q1\n",
            "INFO:tensorflow:Using config: {'_model_dir': '/tmp/tmp9l2p86q1', '_tf_random_seed': None, '_save_summary_steps': 100, '_save_checkpoints_steps': None, '_save_checkpoints_secs': 600, '_session_config': allow_soft_placement: true\n",
            "graph_options {\n",
            "  rewrite_options {\n",
            "    meta_optimizer_iterations: ONE\n",
            "  }\n",
            "}\n",
            ", '_keep_checkpoint_max': 5, '_keep_checkpoint_every_n_hours': 10000, '_log_step_count_steps': 100, '_train_distribute': None, '_device_fn': None, '_protocol': None, '_eval_distribute': None, '_experimental_distribute': None, '_experimental_max_worker_delay_secs': None, '_session_creation_timeout_secs': 7200, '_checkpoint_save_graph_def': True, '_service': None, '_cluster_spec': ClusterSpec({}), '_task_type': 'worker', '_task_id': 0, '_global_id_in_cluster': 0, '_master': '', '_evaluation_master': '', '_is_chief': True, '_num_ps_replicas': 0, '_num_worker_replicas': 1}\n"
          ]
        }
      ]
    },
    {
      "cell_type": "code",
      "source": [
        "classifier.train(input_fn=lambda: input_fn(train_features_under, train_label_under, training=True),steps=5000)\n",
        "# We include a lambda to avoid creating an inner function previously"
      ],
      "metadata": {
        "colab": {
          "base_uri": "https://localhost:8080/"
        },
        "outputId": "d23c60af-3b19-4d99-bd8f-3ba257b129eb",
        "id": "QVya3eT-BHGc"
      },
      "execution_count": null,
      "outputs": [
        {
          "output_type": "stream",
          "name": "stdout",
          "text": [
            "INFO:tensorflow:Calling model_fn.\n",
            "INFO:tensorflow:Done calling model_fn.\n",
            "INFO:tensorflow:Create CheckpointSaverHook.\n",
            "INFO:tensorflow:Graph was finalized.\n",
            "INFO:tensorflow:Restoring parameters from /tmp/tmp9l2p86q1/model.ckpt-5000\n",
            "INFO:tensorflow:Running local_init_op.\n",
            "INFO:tensorflow:Done running local_init_op.\n",
            "INFO:tensorflow:Calling checkpoint listeners before saving checkpoint 5000...\n",
            "INFO:tensorflow:Saving checkpoints for 5000 into /tmp/tmp9l2p86q1/model.ckpt.\n",
            "INFO:tensorflow:Calling checkpoint listeners after saving checkpoint 5000...\n",
            "INFO:tensorflow:loss = 0.6779279, step = 5000\n",
            "INFO:tensorflow:global_step/sec: 292.985\n",
            "INFO:tensorflow:loss = 0.66504884, step = 5100 (0.345 sec)\n",
            "INFO:tensorflow:global_step/sec: 367.576\n",
            "INFO:tensorflow:loss = 0.67332464, step = 5200 (0.271 sec)\n",
            "INFO:tensorflow:global_step/sec: 394.708\n",
            "INFO:tensorflow:loss = 0.67707276, step = 5300 (0.254 sec)\n",
            "INFO:tensorflow:global_step/sec: 372.458\n",
            "INFO:tensorflow:loss = 0.6867147, step = 5400 (0.270 sec)\n",
            "INFO:tensorflow:global_step/sec: 387.071\n",
            "INFO:tensorflow:loss = 0.6657639, step = 5500 (0.258 sec)\n",
            "INFO:tensorflow:global_step/sec: 365.33\n",
            "INFO:tensorflow:loss = 0.6852746, step = 5600 (0.271 sec)\n",
            "INFO:tensorflow:global_step/sec: 368.388\n",
            "INFO:tensorflow:loss = 0.6766338, step = 5700 (0.274 sec)\n",
            "INFO:tensorflow:global_step/sec: 391.517\n",
            "INFO:tensorflow:loss = 0.68588114, step = 5800 (0.258 sec)\n",
            "INFO:tensorflow:global_step/sec: 378.686\n",
            "INFO:tensorflow:loss = 0.68922746, step = 5900 (0.259 sec)\n",
            "INFO:tensorflow:global_step/sec: 400.057\n",
            "INFO:tensorflow:loss = 0.67512053, step = 6000 (0.253 sec)\n",
            "INFO:tensorflow:global_step/sec: 392.176\n",
            "INFO:tensorflow:loss = 0.6713162, step = 6100 (0.252 sec)\n",
            "INFO:tensorflow:global_step/sec: 393.404\n",
            "INFO:tensorflow:loss = 0.6765034, step = 6200 (0.256 sec)\n",
            "INFO:tensorflow:global_step/sec: 382.944\n",
            "INFO:tensorflow:loss = 0.6585467, step = 6300 (0.261 sec)\n",
            "INFO:tensorflow:global_step/sec: 368.967\n",
            "INFO:tensorflow:loss = 0.67151386, step = 6400 (0.272 sec)\n",
            "INFO:tensorflow:global_step/sec: 374.435\n",
            "INFO:tensorflow:loss = 0.68554527, step = 6500 (0.264 sec)\n",
            "INFO:tensorflow:global_step/sec: 377.756\n",
            "INFO:tensorflow:loss = 0.6651546, step = 6600 (0.268 sec)\n",
            "INFO:tensorflow:global_step/sec: 362.313\n",
            "INFO:tensorflow:loss = 0.64939404, step = 6700 (0.272 sec)\n",
            "INFO:tensorflow:global_step/sec: 370.528\n",
            "INFO:tensorflow:loss = 0.6792177, step = 6800 (0.273 sec)\n",
            "INFO:tensorflow:global_step/sec: 366.752\n",
            "INFO:tensorflow:loss = 0.65832824, step = 6900 (0.270 sec)\n",
            "INFO:tensorflow:global_step/sec: 371.432\n",
            "INFO:tensorflow:loss = 0.6664879, step = 7000 (0.269 sec)\n",
            "INFO:tensorflow:global_step/sec: 384.613\n",
            "INFO:tensorflow:loss = 0.6760159, step = 7100 (0.260 sec)\n",
            "INFO:tensorflow:global_step/sec: 357.107\n",
            "INFO:tensorflow:loss = 0.6659906, step = 7200 (0.284 sec)\n",
            "INFO:tensorflow:global_step/sec: 334.144\n",
            "INFO:tensorflow:loss = 0.6670416, step = 7300 (0.299 sec)\n",
            "INFO:tensorflow:global_step/sec: 373.66\n",
            "INFO:tensorflow:loss = 0.67189574, step = 7400 (0.266 sec)\n",
            "INFO:tensorflow:global_step/sec: 357.076\n",
            "INFO:tensorflow:loss = 0.6353347, step = 7500 (0.281 sec)\n",
            "INFO:tensorflow:global_step/sec: 345.469\n",
            "INFO:tensorflow:loss = 0.6509861, step = 7600 (0.289 sec)\n",
            "INFO:tensorflow:global_step/sec: 384.074\n",
            "INFO:tensorflow:loss = 0.66017354, step = 7700 (0.261 sec)\n",
            "INFO:tensorflow:global_step/sec: 380.214\n",
            "INFO:tensorflow:loss = 0.65891045, step = 7800 (0.262 sec)\n",
            "INFO:tensorflow:global_step/sec: 374.115\n",
            "INFO:tensorflow:loss = 0.6752147, step = 7900 (0.268 sec)\n",
            "INFO:tensorflow:global_step/sec: 374.276\n",
            "INFO:tensorflow:loss = 0.647685, step = 8000 (0.264 sec)\n",
            "INFO:tensorflow:global_step/sec: 393.409\n",
            "INFO:tensorflow:loss = 0.670666, step = 8100 (0.258 sec)\n",
            "INFO:tensorflow:global_step/sec: 386.418\n",
            "INFO:tensorflow:loss = 0.65109545, step = 8200 (0.258 sec)\n",
            "INFO:tensorflow:global_step/sec: 381.661\n",
            "INFO:tensorflow:loss = 0.6625891, step = 8300 (0.263 sec)\n",
            "INFO:tensorflow:global_step/sec: 378.65\n",
            "INFO:tensorflow:loss = 0.643323, step = 8400 (0.264 sec)\n",
            "INFO:tensorflow:global_step/sec: 368.16\n",
            "INFO:tensorflow:loss = 0.6527266, step = 8500 (0.268 sec)\n",
            "INFO:tensorflow:global_step/sec: 386.539\n",
            "INFO:tensorflow:loss = 0.66433704, step = 8600 (0.261 sec)\n",
            "INFO:tensorflow:global_step/sec: 390.181\n",
            "INFO:tensorflow:loss = 0.66272026, step = 8700 (0.257 sec)\n",
            "INFO:tensorflow:global_step/sec: 362.698\n",
            "INFO:tensorflow:loss = 0.65472275, step = 8800 (0.276 sec)\n",
            "INFO:tensorflow:global_step/sec: 360.768\n",
            "INFO:tensorflow:loss = 0.6703884, step = 8900 (0.274 sec)\n",
            "INFO:tensorflow:global_step/sec: 366.909\n",
            "INFO:tensorflow:loss = 0.68990517, step = 9000 (0.276 sec)\n",
            "INFO:tensorflow:global_step/sec: 382.802\n",
            "INFO:tensorflow:loss = 0.67419565, step = 9100 (0.258 sec)\n",
            "INFO:tensorflow:global_step/sec: 368.755\n",
            "INFO:tensorflow:loss = 0.665402, step = 9200 (0.274 sec)\n",
            "INFO:tensorflow:global_step/sec: 361.91\n",
            "INFO:tensorflow:loss = 0.6725967, step = 9300 (0.276 sec)\n",
            "INFO:tensorflow:global_step/sec: 367.955\n",
            "INFO:tensorflow:loss = 0.65444493, step = 9400 (0.273 sec)\n",
            "INFO:tensorflow:global_step/sec: 381.429\n",
            "INFO:tensorflow:loss = 0.6683446, step = 9500 (0.262 sec)\n",
            "INFO:tensorflow:global_step/sec: 386.012\n",
            "INFO:tensorflow:loss = 0.6671057, step = 9600 (0.258 sec)\n",
            "INFO:tensorflow:global_step/sec: 384.905\n",
            "INFO:tensorflow:loss = 0.65673196, step = 9700 (0.261 sec)\n",
            "INFO:tensorflow:global_step/sec: 375.175\n",
            "INFO:tensorflow:loss = 0.6604393, step = 9800 (0.263 sec)\n",
            "INFO:tensorflow:global_step/sec: 384.717\n",
            "INFO:tensorflow:loss = 0.66629845, step = 9900 (0.262 sec)\n",
            "INFO:tensorflow:Calling checkpoint listeners before saving checkpoint 10000...\n",
            "INFO:tensorflow:Saving checkpoints for 10000 into /tmp/tmp9l2p86q1/model.ckpt.\n",
            "INFO:tensorflow:Calling checkpoint listeners after saving checkpoint 10000...\n",
            "INFO:tensorflow:Loss for final step: 0.6591946.\n"
          ]
        },
        {
          "output_type": "execute_result",
          "data": {
            "text/plain": [
              "<tensorflow_estimator.python.estimator.canned.dnn.DNNClassifierV2 at 0x7f74dbce9950>"
            ]
          },
          "metadata": {},
          "execution_count": 839
        }
      ]
    },
    {
      "cell_type": "markdown",
      "source": [
        "###Evaluating Classifier"
      ],
      "metadata": {
        "id": "p7rBMxdbBHGd"
      }
    },
    {
      "cell_type": "code",
      "source": [
        "#determine the accurracy of th classifier\n",
        "eval_result = classifier.evaluate(\n",
        "    input_fn=lambda: input_fn(test_features_under, test_label_under, training=False))\n",
        "print('\\nTest set accuracy: {accuracy:0.3f}\\n'.format(**eval_result))"
      ],
      "metadata": {
        "colab": {
          "base_uri": "https://localhost:8080/"
        },
        "outputId": "98a6b357-16d8-4592-9ea4-579e6b8a1fb4",
        "id": "IQq20Mu1BHGd"
      },
      "execution_count": null,
      "outputs": [
        {
          "output_type": "stream",
          "name": "stdout",
          "text": [
            "INFO:tensorflow:Calling model_fn.\n",
            "INFO:tensorflow:Done calling model_fn.\n",
            "INFO:tensorflow:Starting evaluation at 2022-03-26T16:25:04\n",
            "INFO:tensorflow:Graph was finalized.\n",
            "INFO:tensorflow:Restoring parameters from /tmp/tmp9l2p86q1/model.ckpt-10000\n",
            "INFO:tensorflow:Running local_init_op.\n",
            "INFO:tensorflow:Done running local_init_op.\n",
            "INFO:tensorflow:Inference Time : 0.67605s\n",
            "INFO:tensorflow:Finished evaluation at 2022-03-26-16:25:05\n",
            "INFO:tensorflow:Saving dict for global step 10000: accuracy = 0.6221082, accuracy_baseline = 0.5043486, auc = 0.6590688, auc_precision_recall = 0.63611317, average_loss = 0.6592431, global_step = 10000, label/mean = 0.5043486, loss = 0.65972984, precision = 0.6118806, prediction/mean = 0.5292163, recall = 0.68563545\n",
            "INFO:tensorflow:Saving 'checkpoint_path' summary for global step 10000: /tmp/tmp9l2p86q1/model.ckpt-10000\n",
            "\n",
            "Test set accuracy: 0.622\n",
            "\n"
          ]
        }
      ]
    },
    {
      "cell_type": "code",
      "source": [
        "#create predictions list for all test set\n",
        "predictions_under = list(classifier.predict(input_fn=lambda: input_fn(test_features_under, test_label_under, training=False)))"
      ],
      "metadata": {
        "outputId": "7f25bd6c-0128-4272-a244-725dadee3365",
        "colab": {
          "base_uri": "https://localhost:8080/"
        },
        "id": "5mtfxqP7BHGe"
      },
      "execution_count": null,
      "outputs": [
        {
          "output_type": "stream",
          "name": "stdout",
          "text": [
            "INFO:tensorflow:Calling model_fn.\n",
            "INFO:tensorflow:Done calling model_fn.\n",
            "INFO:tensorflow:Graph was finalized.\n",
            "INFO:tensorflow:Restoring parameters from /tmp/tmp9l2p86q1/model.ckpt-10000\n",
            "INFO:tensorflow:Running local_init_op.\n",
            "INFO:tensorflow:Done running local_init_op.\n"
          ]
        }
      ]
    },
    {
      "cell_type": "code",
      "source": [
        "#create a dataframe of predictions for test set\n",
        "df_predictions = pd.DataFrame(predictions_under)"
      ],
      "metadata": {
        "id": "7R16NvV-BHGe"
      },
      "execution_count": null,
      "outputs": []
    },
    {
      "cell_type": "markdown",
      "source": [
        "###Plot of Results"
      ],
      "metadata": {
        "id": "PulpoSo1BHGe"
      }
    },
    {
      "cell_type": "code",
      "source": [
        "#add the actual matches to the prediciton dataframe\n",
        "df_predictions['actual label']=test_label_under.values"
      ],
      "metadata": {
        "id": "-Ci2MOVxBHGe"
      },
      "execution_count": null,
      "outputs": []
    },
    {
      "cell_type": "code",
      "source": [
        "#add the class predicitons from the DNN to the dataframe\n",
        "df_predictions['predicted label']=pd.DataFrame.from_records(df_predictions['class_ids'])"
      ],
      "metadata": {
        "id": "VU8conT-BHGf"
      },
      "execution_count": null,
      "outputs": []
    },
    {
      "cell_type": "code",
      "source": [
        "#add a binary column to show if the dnn predictions were correct\n",
        "df_predictions['match?']=df_predictions['predicted label']-df_predictions['actual label']\n",
        "df_predictions['match?']=df_predictions['match?'].replace(0,'match')\n",
        "df_predictions['match?']=df_predictions['match?'].replace(-1,'not match')\n",
        "df_predictions['match?']=df_predictions['match?'].replace(1,'not match')"
      ],
      "metadata": {
        "id": "AFTatxa7BHGf"
      },
      "execution_count": null,
      "outputs": []
    },
    {
      "cell_type": "code",
      "source": [
        "#view the prdictions dataframe\n",
        "df_predictions.head()"
      ],
      "metadata": {
        "colab": {
          "base_uri": "https://localhost:8080/",
          "height": 206
        },
        "outputId": "4804d469-90bc-4ab6-d339-4f108b011b1d",
        "id": "olen7lB9BHGg"
      },
      "execution_count": null,
      "outputs": [
        {
          "output_type": "execute_result",
          "data": {
            "text/plain": [
              "         logits      logistic             probabilities class_ids classes  \\\n",
              "0  [-0.3391452]  [0.41601714]   [0.5839829, 0.41601717]       [0]  [b'0']   \n",
              "1  [0.64586884]   [0.6560789]   [0.3439211, 0.65607893]       [1]  [b'1']   \n",
              "2  [-1.0125974]  [0.26647186]   [0.7335282, 0.26647183]       [0]  [b'0']   \n",
              "3   [-1.023959]  [0.26425695]  [0.73574305, 0.26425692]       [0]  [b'0']   \n",
              "4  [0.11738118]  [0.52931166]  [0.47068837, 0.52931166]       [1]  [b'1']   \n",
              "\n",
              "  all_class_ids   all_classes  actual label  predicted label     match?  \n",
              "0        [0, 1]  [b'0', b'1']             1                0  not match  \n",
              "1        [0, 1]  [b'0', b'1']             1                1      match  \n",
              "2        [0, 1]  [b'0', b'1']             0                0      match  \n",
              "3        [0, 1]  [b'0', b'1']             1                0  not match  \n",
              "4        [0, 1]  [b'0', b'1']             1                1      match  "
            ],
            "text/html": [
              "\n",
              "  <div id=\"df-1bf3628a-d62e-49d3-a8a4-1a88b756a55a\">\n",
              "    <div class=\"colab-df-container\">\n",
              "      <div>\n",
              "<style scoped>\n",
              "    .dataframe tbody tr th:only-of-type {\n",
              "        vertical-align: middle;\n",
              "    }\n",
              "\n",
              "    .dataframe tbody tr th {\n",
              "        vertical-align: top;\n",
              "    }\n",
              "\n",
              "    .dataframe thead th {\n",
              "        text-align: right;\n",
              "    }\n",
              "</style>\n",
              "<table border=\"1\" class=\"dataframe\">\n",
              "  <thead>\n",
              "    <tr style=\"text-align: right;\">\n",
              "      <th></th>\n",
              "      <th>logits</th>\n",
              "      <th>logistic</th>\n",
              "      <th>probabilities</th>\n",
              "      <th>class_ids</th>\n",
              "      <th>classes</th>\n",
              "      <th>all_class_ids</th>\n",
              "      <th>all_classes</th>\n",
              "      <th>actual label</th>\n",
              "      <th>predicted label</th>\n",
              "      <th>match?</th>\n",
              "    </tr>\n",
              "  </thead>\n",
              "  <tbody>\n",
              "    <tr>\n",
              "      <th>0</th>\n",
              "      <td>[-0.3391452]</td>\n",
              "      <td>[0.41601714]</td>\n",
              "      <td>[0.5839829, 0.41601717]</td>\n",
              "      <td>[0]</td>\n",
              "      <td>[b'0']</td>\n",
              "      <td>[0, 1]</td>\n",
              "      <td>[b'0', b'1']</td>\n",
              "      <td>1</td>\n",
              "      <td>0</td>\n",
              "      <td>not match</td>\n",
              "    </tr>\n",
              "    <tr>\n",
              "      <th>1</th>\n",
              "      <td>[0.64586884]</td>\n",
              "      <td>[0.6560789]</td>\n",
              "      <td>[0.3439211, 0.65607893]</td>\n",
              "      <td>[1]</td>\n",
              "      <td>[b'1']</td>\n",
              "      <td>[0, 1]</td>\n",
              "      <td>[b'0', b'1']</td>\n",
              "      <td>1</td>\n",
              "      <td>1</td>\n",
              "      <td>match</td>\n",
              "    </tr>\n",
              "    <tr>\n",
              "      <th>2</th>\n",
              "      <td>[-1.0125974]</td>\n",
              "      <td>[0.26647186]</td>\n",
              "      <td>[0.7335282, 0.26647183]</td>\n",
              "      <td>[0]</td>\n",
              "      <td>[b'0']</td>\n",
              "      <td>[0, 1]</td>\n",
              "      <td>[b'0', b'1']</td>\n",
              "      <td>0</td>\n",
              "      <td>0</td>\n",
              "      <td>match</td>\n",
              "    </tr>\n",
              "    <tr>\n",
              "      <th>3</th>\n",
              "      <td>[-1.023959]</td>\n",
              "      <td>[0.26425695]</td>\n",
              "      <td>[0.73574305, 0.26425692]</td>\n",
              "      <td>[0]</td>\n",
              "      <td>[b'0']</td>\n",
              "      <td>[0, 1]</td>\n",
              "      <td>[b'0', b'1']</td>\n",
              "      <td>1</td>\n",
              "      <td>0</td>\n",
              "      <td>not match</td>\n",
              "    </tr>\n",
              "    <tr>\n",
              "      <th>4</th>\n",
              "      <td>[0.11738118]</td>\n",
              "      <td>[0.52931166]</td>\n",
              "      <td>[0.47068837, 0.52931166]</td>\n",
              "      <td>[1]</td>\n",
              "      <td>[b'1']</td>\n",
              "      <td>[0, 1]</td>\n",
              "      <td>[b'0', b'1']</td>\n",
              "      <td>1</td>\n",
              "      <td>1</td>\n",
              "      <td>match</td>\n",
              "    </tr>\n",
              "  </tbody>\n",
              "</table>\n",
              "</div>\n",
              "      <button class=\"colab-df-convert\" onclick=\"convertToInteractive('df-1bf3628a-d62e-49d3-a8a4-1a88b756a55a')\"\n",
              "              title=\"Convert this dataframe to an interactive table.\"\n",
              "              style=\"display:none;\">\n",
              "        \n",
              "  <svg xmlns=\"http://www.w3.org/2000/svg\" height=\"24px\"viewBox=\"0 0 24 24\"\n",
              "       width=\"24px\">\n",
              "    <path d=\"M0 0h24v24H0V0z\" fill=\"none\"/>\n",
              "    <path d=\"M18.56 5.44l.94 2.06.94-2.06 2.06-.94-2.06-.94-.94-2.06-.94 2.06-2.06.94zm-11 1L8.5 8.5l.94-2.06 2.06-.94-2.06-.94L8.5 2.5l-.94 2.06-2.06.94zm10 10l.94 2.06.94-2.06 2.06-.94-2.06-.94-.94-2.06-.94 2.06-2.06.94z\"/><path d=\"M17.41 7.96l-1.37-1.37c-.4-.4-.92-.59-1.43-.59-.52 0-1.04.2-1.43.59L10.3 9.45l-7.72 7.72c-.78.78-.78 2.05 0 2.83L4 21.41c.39.39.9.59 1.41.59.51 0 1.02-.2 1.41-.59l7.78-7.78 2.81-2.81c.8-.78.8-2.07 0-2.86zM5.41 20L4 18.59l7.72-7.72 1.47 1.35L5.41 20z\"/>\n",
              "  </svg>\n",
              "      </button>\n",
              "      \n",
              "  <style>\n",
              "    .colab-df-container {\n",
              "      display:flex;\n",
              "      flex-wrap:wrap;\n",
              "      gap: 12px;\n",
              "    }\n",
              "\n",
              "    .colab-df-convert {\n",
              "      background-color: #E8F0FE;\n",
              "      border: none;\n",
              "      border-radius: 50%;\n",
              "      cursor: pointer;\n",
              "      display: none;\n",
              "      fill: #1967D2;\n",
              "      height: 32px;\n",
              "      padding: 0 0 0 0;\n",
              "      width: 32px;\n",
              "    }\n",
              "\n",
              "    .colab-df-convert:hover {\n",
              "      background-color: #E2EBFA;\n",
              "      box-shadow: 0px 1px 2px rgba(60, 64, 67, 0.3), 0px 1px 3px 1px rgba(60, 64, 67, 0.15);\n",
              "      fill: #174EA6;\n",
              "    }\n",
              "\n",
              "    [theme=dark] .colab-df-convert {\n",
              "      background-color: #3B4455;\n",
              "      fill: #D2E3FC;\n",
              "    }\n",
              "\n",
              "    [theme=dark] .colab-df-convert:hover {\n",
              "      background-color: #434B5C;\n",
              "      box-shadow: 0px 1px 3px 1px rgba(0, 0, 0, 0.15);\n",
              "      filter: drop-shadow(0px 1px 2px rgba(0, 0, 0, 0.3));\n",
              "      fill: #FFFFFF;\n",
              "    }\n",
              "  </style>\n",
              "\n",
              "      <script>\n",
              "        const buttonEl =\n",
              "          document.querySelector('#df-1bf3628a-d62e-49d3-a8a4-1a88b756a55a button.colab-df-convert');\n",
              "        buttonEl.style.display =\n",
              "          google.colab.kernel.accessAllowed ? 'block' : 'none';\n",
              "\n",
              "        async function convertToInteractive(key) {\n",
              "          const element = document.querySelector('#df-1bf3628a-d62e-49d3-a8a4-1a88b756a55a');\n",
              "          const dataTable =\n",
              "            await google.colab.kernel.invokeFunction('convertToInteractive',\n",
              "                                                     [key], {});\n",
              "          if (!dataTable) return;\n",
              "\n",
              "          const docLinkHtml = 'Like what you see? Visit the ' +\n",
              "            '<a target=\"_blank\" href=https://colab.research.google.com/notebooks/data_table.ipynb>data table notebook</a>'\n",
              "            + ' to learn more about interactive tables.';\n",
              "          element.innerHTML = '';\n",
              "          dataTable['output_type'] = 'display_data';\n",
              "          await google.colab.output.renderOutput(dataTable, element);\n",
              "          const docLink = document.createElement('div');\n",
              "          docLink.innerHTML = docLinkHtml;\n",
              "          element.appendChild(docLink);\n",
              "        }\n",
              "      </script>\n",
              "    </div>\n",
              "  </div>\n",
              "  "
            ]
          },
          "metadata": {},
          "execution_count": 846
        }
      ]
    },
    {
      "cell_type": "code",
      "source": [
        "#create a new dataframe showing only the correct predictions\n",
        "correct_predictions = df_predictions[df_predictions['match?']=='match']\n",
        "#get the count of the correct predctions for eah label\n",
        "correct_pred_count_label_0 , correct_pred_count_label_1 = correct_predictions['predicted label'].value_counts()\n",
        "#get the actual label count for each label\n",
        "actual_count_label_0 , actual_count_label_1 = df_predictions['actual label'].value_counts()"
      ],
      "metadata": {
        "id": "eV6xJTpUBHGg"
      },
      "execution_count": null,
      "outputs": []
    },
    {
      "cell_type": "code",
      "source": [
        "#get the accuracy of each labels predictions\n",
        "accuracy_label_0,accuracy_label_1 = correct_pred_count_label_0/actual_count_label_0 , correct_pred_count_label_1/actual_count_label_1\n",
        "accuracy=accuracy_label_0*100,accuracy_label_1*100\n",
        "accuracy=pd.Series(accuracy)\n",
        "print('Accuracy of label 0 (non-fatal): ', accuracy_label_0, '\\nAccuracy of label 1 (fatal): ', accuracy_label_1)"
      ],
      "metadata": {
        "colab": {
          "base_uri": "https://localhost:8080/"
        },
        "outputId": "7c445975-b82d-4d6d-a3a1-6216f621a3eb",
        "id": "eH9yLCqFBHGg"
      },
      "execution_count": null,
      "outputs": [
        {
          "output_type": "stream",
          "name": "stdout",
          "text": [
            "Accuracy of label 0 (non-fatal):  0.6856354543886877 \n",
            "Accuracy of label 1 (fatal):  0.5574662221442358\n"
          ]
        }
      ]
    },
    {
      "cell_type": "code",
      "source": [
        "#plot the accuracy of each labels predictions\n",
        "fig, axes = plt.subplots(figsize=(18, 10))\n",
        "accuracy.plot(kind='barh')\n",
        "plt.yticks((0,1), ('non-Fatal accident', 'Fatal accident'))\n",
        "plt.xticks((0,10,20,30,40,50,60), ('0%', '10%','20%','30%','40%','50%','60%'))\n",
        "plt.xlabel('prectange accuracy')\n",
        "plt.title('percentage accuracy for each class/label')"
      ],
      "metadata": {
        "colab": {
          "base_uri": "https://localhost:8080/",
          "height": 639
        },
        "outputId": "0976c904-6bb6-47b9-c7e7-307569614c7a",
        "id": "XOaShmklBHGh"
      },
      "execution_count": null,
      "outputs": [
        {
          "output_type": "execute_result",
          "data": {
            "text/plain": [
              "Text(0.5, 1.0, 'percentage accuracy for each class/label')"
            ]
          },
          "metadata": {},
          "execution_count": 854
        },
        {
          "output_type": "display_data",
          "data": {
            "text/plain": [
              "<Figure size 1296x720 with 1 Axes>"
            ],
            "image/png": "[encoded data removed]"
          },
          "metadata": {
            "needs_background": "light"
          }
        }
      ]
    },
    {
      "cell_type": "markdown",
      "source": [
        "#Iteration 4 - 'Weather_Conditions','Speed_limit', 'Day_of_Week'"
      ],
      "metadata": {
        "id": "PXoO-diEFc02"
      }
    },
    {
      "cell_type": "markdown",
      "source": [
        "##Features"
      ],
      "metadata": {
        "id": "9efkUu_qFc03"
      }
    },
    {
      "cell_type": "markdown",
      "source": [
        "###Seleceting Features, checking correlation between them, cleaning missing data"
      ],
      "metadata": {
        "id": "DKjkUQIGFc03"
      }
    },
    {
      "cell_type": "code",
      "source": [
        "df_features = df[['Weather_Conditions','Speed_limit', 'Day_of_Week','Accident_Severity']]"
      ],
      "metadata": {
        "id": "ZeMVhPpTFc04"
      },
      "execution_count": null,
      "outputs": []
    },
    {
      "cell_type": "code",
      "source": [
        "#checking correlation between features\n",
        "df_features.corr()\n",
        "sns.heatmap(df_features.corr())"
      ],
      "metadata": {
        "colab": {
          "base_uri": "https://localhost:8080/",
          "height": 73
        },
        "outputId": "d87652e8-1d67-44ac-85a3-dd254c974629",
        "id": "FaOhwdzMFc05"
      },
      "execution_count": null,
      "outputs": [
        {
          "output_type": "execute_result",
          "data": {
            "text/plain": [
              "<matplotlib.axes._subplots.AxesSubplot at 0x7f22304cedd0>"
            ]
          },
          "metadata": {},
          "execution_count": 139
        },
        {
          "output_type": "display_data",
          "data": {
            "text/plain": [
              "<Figure size 432x288 with 2 Axes>"
            ],
            "image/png": "[encoded data removed]"
          },
          "metadata": {
            "needs_background": "light"
          }
        }
      ]
    },
    {
      "cell_type": "code",
      "source": [
        "#checking which values have missing data, note missing data is recorded as -1\n",
        "df_features.min()"
      ],
      "metadata": {
        "colab": {
          "base_uri": "https://localhost:8080/"
        },
        "outputId": "698dad9c-057a-4b21-dfa5-96cc49146d11",
        "id": "nHFJ-7dsFc05"
      },
      "execution_count": null,
      "outputs": [
        {
          "output_type": "execute_result",
          "data": {
            "text/plain": [
              "Weather_Conditions   -1\n",
              "Speed_limit           0\n",
              "Day_of_Week           1\n",
              "Accident_Severity     1\n",
              "dtype: int64"
            ]
          },
          "metadata": {},
          "execution_count": 140
        }
      ]
    },
    {
      "cell_type": "code",
      "source": [
        "#there are 161 accident that do not have recorded weather conditions, will drop these\n",
        "df_features['Weather_Conditions'][df_features['Weather_Conditions']==-1].count()"
      ],
      "metadata": {
        "colab": {
          "base_uri": "https://localhost:8080/"
        },
        "outputId": "bec508fd-cc87-493c-d181-3dd0d99e806e",
        "id": "0p6sC6PIFc06"
      },
      "execution_count": null,
      "outputs": [
        {
          "output_type": "execute_result",
          "data": {
            "text/plain": [
              "161"
            ]
          },
          "metadata": {},
          "execution_count": 141
        }
      ]
    },
    {
      "cell_type": "code",
      "source": [
        "#removing all rows with (missing) data\n",
        "df_features = df_features[df_features['Weather_Conditions']!=-1]\n",
        "df_features = df_features[df_features['Speed_limit']!=0]"
      ],
      "metadata": {
        "id": "Mab_jy8cFc07"
      },
      "execution_count": null,
      "outputs": []
    },
    {
      "cell_type": "markdown",
      "source": [
        "df_features.count()"
      ],
      "metadata": {
        "id": "zIrioitkFc07"
      }
    },
    {
      "cell_type": "markdown",
      "source": [
        "### Cleaning Label (accident severity) so that there are 2 classes instead of 3"
      ],
      "metadata": {
        "id": "EB_AiHNfFc08"
      }
    },
    {
      "cell_type": "code",
      "source": [
        "#check count for each level of accident deverity\n",
        "df_features['Accident_Severity'].value_counts()"
      ],
      "metadata": {
        "colab": {
          "base_uri": "https://localhost:8080/"
        },
        "outputId": "374f6722-c0de-44cf-f1bd-3f199aedd732",
        "id": "ShiRDkkqFc09"
      },
      "execution_count": null,
      "outputs": [
        {
          "output_type": "execute_result",
          "data": {
            "text/plain": [
              "3    1515429\n",
              "2     242067\n",
              "1      22995\n",
              "Name: Accident_Severity, dtype: int64"
            ]
          },
          "metadata": {},
          "execution_count": 143
        }
      ]
    },
    {
      "cell_type": "code",
      "source": [
        "#replace all accident severities where severiry is 2 or 3 and group them into 1 bucket (non-fatal)\n",
        "df_features['Accident_Severity'] = df_features['Accident_Severity'].replace(2,0)\n",
        "df_features['Accident_Severity'] = df_features['Accident_Severity'].replace(3,0)"
      ],
      "metadata": {
        "id": "CFzDjw_cFc0-"
      },
      "execution_count": null,
      "outputs": []
    },
    {
      "cell_type": "code",
      "source": [
        "#create 2 dataframe, 1 for each class, and print the size each\n",
        "class_1 = df_features[df_features['Accident_Severity'] == 1]\n",
        "class_0 = df_features[df_features['Accident_Severity'] == 0]\n",
        "print('class 1 (fatal):', len(class_1))\n",
        "print('class 0 (non-fatal):', len(class_0))"
      ],
      "metadata": {
        "colab": {
          "base_uri": "https://localhost:8080/"
        },
        "outputId": "1410c0fd-feaa-4ad9-b8a9-d834074a3d5b",
        "id": "xxSoa_hoFc0-"
      },
      "execution_count": null,
      "outputs": [
        {
          "output_type": "stream",
          "name": "stdout",
          "text": [
            "class 1 (fatal): 22995\n",
            "class 0 (non-fatal): 1757496\n"
          ]
        }
      ]
    },
    {
      "cell_type": "markdown",
      "source": [
        "###Accounting for imbalance in the dataset by undersampling"
      ],
      "metadata": {
        "id": "RMY7KSveFc0_"
      }
    },
    {
      "cell_type": "code",
      "source": [
        "#get the length of the dataset for each class/label\n",
        "class_count_0, class_count_1 = df_features['Accident_Severity'].value_counts()"
      ],
      "metadata": {
        "id": "89f3Q8P9Fc1A"
      },
      "execution_count": null,
      "outputs": []
    },
    {
      "cell_type": "code",
      "source": [
        "#undersampling of class 0 to balance the count of data for each class/label\n",
        "class_0_under = class_0.sample(class_count_1)\n",
        "df_features_under = pd.concat([class_0_under, class_1], axis=0)"
      ],
      "metadata": {
        "id": "zDMdEsBcFc1A"
      },
      "execution_count": null,
      "outputs": []
    },
    {
      "cell_type": "code",
      "source": [
        "#print the size of the new dataset for each class/label after undersampling\n",
        "class_1 = df_features_under[df_features_under['Accident_Severity'] == 1]\n",
        "class_0 = df_features_under[df_features_under['Accident_Severity'] == 0]\n",
        "print('class 1 (fatal):', len(class_1))\n",
        "print('class 0 (non-fatal):', len(class_0))"
      ],
      "metadata": {
        "colab": {
          "base_uri": "https://localhost:8080/"
        },
        "outputId": "b8fdf3af-f908-4fb3-85c1-6631797eb102",
        "id": "xvXZ4vqcFc1B"
      },
      "execution_count": null,
      "outputs": [
        {
          "output_type": "stream",
          "name": "stdout",
          "text": [
            "class 1 (fatal): 22995\n",
            "class 0 (non-fatal): 22995\n"
          ]
        }
      ]
    },
    {
      "cell_type": "markdown",
      "source": [
        "###splitting the dataset in training and test datasets"
      ],
      "metadata": {
        "id": "9LmMygiwFc1B"
      }
    },
    {
      "cell_type": "code",
      "source": [
        "#splitting the dataset into training and test sets\n",
        "train_features_under, test_features_under = train_test_split(df_features_under, test_size=0.25)"
      ],
      "metadata": {
        "id": "iZy3SNgHFc1B"
      },
      "execution_count": null,
      "outputs": []
    },
    {
      "cell_type": "code",
      "source": [
        "#pop out the label column from the train and test undersampled datasets\n",
        "train_label_under = train_features_under.pop('Accident_Severity')\n",
        "test_label_under = test_features_under.pop('Accident_Severity')"
      ],
      "metadata": {
        "id": "WJvU3DCqFc1C"
      },
      "execution_count": null,
      "outputs": []
    },
    {
      "cell_type": "markdown",
      "source": [
        "## DNN Classifier"
      ],
      "metadata": {
        "id": "iO-aTOWRFc1C"
      }
    },
    {
      "cell_type": "markdown",
      "source": [
        "###defining input function, creating classifier, training classifer"
      ],
      "metadata": {
        "id": "Z_VPS7aoFc1D"
      }
    },
    {
      "cell_type": "code",
      "source": [
        "def input_fn(features, labels, training=True, batch_size=344):\n",
        "    # Convert the inputs to a Dataset.\n",
        "    dataset = tf.data.Dataset.from_tensor_slices((dict(features), labels))\n",
        "    # Shuffle and repeat if you are in training mode.\n",
        "    if training:\n",
        "        dataset = dataset.shuffle(1000).repeat()\n",
        "    return dataset.batch(batch_size)"
      ],
      "metadata": {
        "id": "S9l0rcpyFc1D"
      },
      "execution_count": null,
      "outputs": []
    },
    {
      "cell_type": "code",
      "source": [
        "# creating a tensorflow Feature column list\n",
        "my_feature_columns = []\n",
        "for key in train_features_under.keys():\n",
        "    my_feature_columns.append(tf.feature_column.numeric_column(key=key))\n",
        "my_feature_columns"
      ],
      "metadata": {
        "colab": {
          "base_uri": "https://localhost:8080/"
        },
        "outputId": "709e610e-f846-4e9b-8dfa-d4a48fc3764d",
        "id": "zcyun9j_Fc1D"
      },
      "execution_count": null,
      "outputs": [
        {
          "output_type": "execute_result",
          "data": {
            "text/plain": [
              "[NumericColumn(key='Weather_Conditions', shape=(1,), default_value=None, dtype=tf.float32, normalizer_fn=None),\n",
              " NumericColumn(key='Speed_limit', shape=(1,), default_value=None, dtype=tf.float32, normalizer_fn=None),\n",
              " NumericColumn(key='Day_of_Week', shape=(1,), default_value=None, dtype=tf.float32, normalizer_fn=None)]"
            ]
          },
          "metadata": {},
          "execution_count": 194
        }
      ]
    },
    {
      "cell_type": "code",
      "source": [
        "# Build a DNN with 2 hidden layers with 30 and 10 hidden nodes each.\n",
        "classifier = tf.estimator.DNNClassifier(\n",
        "    feature_columns=my_feature_columns,\n",
        "    # Two hidden layers of 30 and 10 nodes respectively.\n",
        "    hidden_units=[30, 10],\n",
        "    # The model must choose between 2 classes.\n",
        "    n_classes=2)"
      ],
      "metadata": {
        "colab": {
          "base_uri": "https://localhost:8080/"
        },
        "outputId": "d7984123-9e1b-4f90-d32c-7cdb7a5502ef",
        "id": "6M0o0JSCFc1E"
      },
      "execution_count": null,
      "outputs": [
        {
          "output_type": "stream",
          "name": "stdout",
          "text": [
            "INFO:tensorflow:Using default config.\n",
            "WARNING:tensorflow:Using temporary folder as model directory: /tmp/tmp_dm3pyni\n",
            "INFO:tensorflow:Using config: {'_model_dir': '/tmp/tmp_dm3pyni', '_tf_random_seed': None, '_save_summary_steps': 100, '_save_checkpoints_steps': None, '_save_checkpoints_secs': 600, '_session_config': allow_soft_placement: true\n",
            "graph_options {\n",
            "  rewrite_options {\n",
            "    meta_optimizer_iterations: ONE\n",
            "  }\n",
            "}\n",
            ", '_keep_checkpoint_max': 5, '_keep_checkpoint_every_n_hours': 10000, '_log_step_count_steps': 100, '_train_distribute': None, '_device_fn': None, '_protocol': None, '_eval_distribute': None, '_experimental_distribute': None, '_experimental_max_worker_delay_secs': None, '_session_creation_timeout_secs': 7200, '_checkpoint_save_graph_def': True, '_service': None, '_cluster_spec': ClusterSpec({}), '_task_type': 'worker', '_task_id': 0, '_global_id_in_cluster': 0, '_master': '', '_evaluation_master': '', '_is_chief': True, '_num_ps_replicas': 0, '_num_worker_replicas': 1}\n"
          ]
        }
      ]
    },
    {
      "cell_type": "code",
      "source": [
        "classifier.train(input_fn=lambda: input_fn(train_features_under, train_label_under, training=True),steps=2000)\n",
        "# We include a lambda to avoid creating an inner function "
      ],
      "metadata": {
        "colab": {
          "base_uri": "https://localhost:8080/"
        },
        "outputId": "221704d8-51f3-498a-b80c-004cea063d87",
        "id": "Ex6zN7hNFc1E"
      },
      "execution_count": null,
      "outputs": [
        {
          "output_type": "stream",
          "name": "stdout",
          "text": [
            "INFO:tensorflow:Calling model_fn.\n",
            "INFO:tensorflow:Done calling model_fn.\n",
            "INFO:tensorflow:Create CheckpointSaverHook.\n",
            "INFO:tensorflow:Graph was finalized.\n",
            "INFO:tensorflow:Restoring parameters from /tmp/tmp_dm3pyni/model.ckpt-2000\n",
            "INFO:tensorflow:Running local_init_op.\n",
            "INFO:tensorflow:Done running local_init_op.\n",
            "INFO:tensorflow:Calling checkpoint listeners before saving checkpoint 2000...\n",
            "INFO:tensorflow:Saving checkpoints for 2000 into /tmp/tmp_dm3pyni/model.ckpt.\n",
            "INFO:tensorflow:Calling checkpoint listeners after saving checkpoint 2000...\n",
            "INFO:tensorflow:loss = 0.64827144, step = 2000\n",
            "INFO:tensorflow:global_step/sec: 367.664\n",
            "INFO:tensorflow:loss = 0.6568535, step = 2100 (0.277 sec)\n",
            "INFO:tensorflow:global_step/sec: 475.35\n",
            "INFO:tensorflow:loss = 0.67439246, step = 2200 (0.207 sec)\n",
            "INFO:tensorflow:global_step/sec: 493.846\n",
            "INFO:tensorflow:loss = 0.64421374, step = 2300 (0.205 sec)\n",
            "INFO:tensorflow:global_step/sec: 469.718\n",
            "INFO:tensorflow:loss = 0.65210176, step = 2400 (0.212 sec)\n",
            "INFO:tensorflow:global_step/sec: 490.226\n",
            "INFO:tensorflow:loss = 0.6522607, step = 2500 (0.205 sec)\n",
            "INFO:tensorflow:global_step/sec: 456.775\n",
            "INFO:tensorflow:loss = 0.6561525, step = 2600 (0.216 sec)\n",
            "INFO:tensorflow:global_step/sec: 467.3\n",
            "INFO:tensorflow:loss = 0.6426141, step = 2700 (0.217 sec)\n",
            "INFO:tensorflow:global_step/sec: 481.872\n",
            "INFO:tensorflow:loss = 0.64642507, step = 2800 (0.207 sec)\n",
            "INFO:tensorflow:global_step/sec: 474.856\n",
            "INFO:tensorflow:loss = 0.6521715, step = 2900 (0.209 sec)\n",
            "INFO:tensorflow:global_step/sec: 454.688\n",
            "INFO:tensorflow:loss = 0.65999544, step = 3000 (0.219 sec)\n",
            "INFO:tensorflow:global_step/sec: 493.56\n",
            "INFO:tensorflow:loss = 0.6501629, step = 3100 (0.202 sec)\n",
            "INFO:tensorflow:global_step/sec: 485.739\n",
            "INFO:tensorflow:loss = 0.65323853, step = 3200 (0.209 sec)\n",
            "INFO:tensorflow:global_step/sec: 506.583\n",
            "INFO:tensorflow:loss = 0.6442878, step = 3300 (0.197 sec)\n",
            "INFO:tensorflow:global_step/sec: 463.667\n",
            "INFO:tensorflow:loss = 0.65448964, step = 3400 (0.215 sec)\n",
            "INFO:tensorflow:global_step/sec: 444.489\n",
            "INFO:tensorflow:loss = 0.6569153, step = 3500 (0.222 sec)\n",
            "INFO:tensorflow:global_step/sec: 445.778\n",
            "INFO:tensorflow:loss = 0.6399598, step = 3600 (0.228 sec)\n",
            "INFO:tensorflow:global_step/sec: 479.816\n",
            "INFO:tensorflow:loss = 0.6567375, step = 3700 (0.206 sec)\n",
            "INFO:tensorflow:global_step/sec: 480.112\n",
            "INFO:tensorflow:loss = 0.6559775, step = 3800 (0.209 sec)\n",
            "INFO:tensorflow:global_step/sec: 469.16\n",
            "INFO:tensorflow:loss = 0.6616855, step = 3900 (0.214 sec)\n",
            "INFO:tensorflow:Calling checkpoint listeners before saving checkpoint 4000...\n",
            "INFO:tensorflow:Saving checkpoints for 4000 into /tmp/tmp_dm3pyni/model.ckpt.\n",
            "INFO:tensorflow:Calling checkpoint listeners after saving checkpoint 4000...\n",
            "INFO:tensorflow:Loss for final step: 0.6630957.\n"
          ]
        },
        {
          "output_type": "execute_result",
          "data": {
            "text/plain": [
              "<tensorflow_estimator.python.estimator.canned.dnn.DNNClassifierV2 at 0x7f222fb54d90>"
            ]
          },
          "metadata": {},
          "execution_count": 209
        }
      ]
    },
    {
      "cell_type": "markdown",
      "source": [
        "###Evaluating Classifier"
      ],
      "metadata": {
        "id": "y_4S_lixFc1E"
      }
    },
    {
      "cell_type": "code",
      "source": [
        "#determine the accurracy of th classifier\n",
        "eval_result = classifier.evaluate(\n",
        "    input_fn=lambda: input_fn(test_features_under, test_label_under, training=False))\n",
        "print('\\nTest set accuracy: {accuracy:0.3f}\\n'.format(**eval_result))"
      ],
      "metadata": {
        "colab": {
          "base_uri": "https://localhost:8080/"
        },
        "outputId": "add3a405-920a-4453-e117-f8fd44b46e89",
        "id": "tKokwrBYFc1F"
      },
      "execution_count": null,
      "outputs": [
        {
          "output_type": "stream",
          "name": "stdout",
          "text": [
            "INFO:tensorflow:Calling model_fn.\n",
            "INFO:tensorflow:Done calling model_fn.\n",
            "INFO:tensorflow:Starting evaluation at 2022-03-26T16:41:13\n",
            "INFO:tensorflow:Graph was finalized.\n",
            "INFO:tensorflow:Restoring parameters from /tmp/tmp_dm3pyni/model.ckpt-4000\n",
            "INFO:tensorflow:Running local_init_op.\n",
            "INFO:tensorflow:Done running local_init_op.\n",
            "INFO:tensorflow:Inference Time : 0.52482s\n",
            "INFO:tensorflow:Finished evaluation at 2022-03-26-16:41:13\n",
            "INFO:tensorflow:Saving dict for global step 4000: accuracy = 0.6267177, accuracy_baseline = 0.5021743, auc = 0.6647515, auc_precision_recall = 0.64488995, average_loss = 0.6544166, global_step = 4000, label/mean = 0.4978257, loss = 0.6540678, precision = 0.6124019, prediction/mean = 0.5253167, recall = 0.6815164\n",
            "INFO:tensorflow:Saving 'checkpoint_path' summary for global step 4000: /tmp/tmp_dm3pyni/model.ckpt-4000\n",
            "\n",
            "Test set accuracy: 0.627\n",
            "\n"
          ]
        }
      ]
    },
    {
      "cell_type": "code",
      "source": [
        "#create predictions list for all test set\n",
        "predictions_under = list(classifier.predict(input_fn=lambda: input_fn(test_features_under, test_label_under, training=False)))"
      ],
      "metadata": {
        "outputId": "5e098621-cbd9-4729-d386-8abc51384d7c",
        "colab": {
          "base_uri": "https://localhost:8080/"
        },
        "id": "n5oxhL2DFc1F"
      },
      "execution_count": null,
      "outputs": [
        {
          "output_type": "stream",
          "name": "stdout",
          "text": [
            "INFO:tensorflow:Calling model_fn.\n",
            "INFO:tensorflow:Done calling model_fn.\n",
            "INFO:tensorflow:Graph was finalized.\n",
            "INFO:tensorflow:Restoring parameters from /tmp/tmp_dm3pyni/model.ckpt-4000\n",
            "INFO:tensorflow:Running local_init_op.\n",
            "INFO:tensorflow:Done running local_init_op.\n"
          ]
        }
      ]
    },
    {
      "cell_type": "code",
      "source": [
        "#create a dataframe of predictions for test set\n",
        "df_predictions = pd.DataFrame(predictions_under)"
      ],
      "metadata": {
        "id": "wU-J4L09Fc1G"
      },
      "execution_count": null,
      "outputs": []
    },
    {
      "cell_type": "markdown",
      "source": [
        "###Plot of Results"
      ],
      "metadata": {
        "id": "I68LpnuKFc1G"
      }
    },
    {
      "cell_type": "code",
      "source": [
        "#add the actual matches to the prediciton dataframe\n",
        "df_predictions['actual label']=test_label_under.values"
      ],
      "metadata": {
        "id": "MfbqIpIvFc1G"
      },
      "execution_count": null,
      "outputs": []
    },
    {
      "cell_type": "code",
      "source": [
        "#add the class predicitons from the DNN to the dataframe\n",
        "df_predictions['predicted label']=pd.DataFrame.from_records(df_predictions['class_ids'])"
      ],
      "metadata": {
        "id": "WKz3fcuCFc1H"
      },
      "execution_count": null,
      "outputs": []
    },
    {
      "cell_type": "code",
      "source": [
        "#add a binary column to show if the dnn predictions were correct\n",
        "df_predictions['match?']=df_predictions['predicted label']-df_predictions['actual label']\n",
        "df_predictions['match?']=df_predictions['match?'].replace(0,'match')\n",
        "df_predictions['match?']=df_predictions['match?'].replace(-1,'not match')\n",
        "df_predictions['match?']=df_predictions['match?'].replace(1,'not match')"
      ],
      "metadata": {
        "id": "mrRj8ya1Fc1H"
      },
      "execution_count": null,
      "outputs": []
    },
    {
      "cell_type": "code",
      "source": [
        "#view the prdictions dataframe\n",
        "df_predictions.head()"
      ],
      "metadata": {
        "colab": {
          "base_uri": "https://localhost:8080/",
          "height": 206
        },
        "outputId": "bfa6510f-23c2-40b7-e993-dbaa42de0367",
        "id": "SA_kOo_pFc1H"
      },
      "execution_count": null,
      "outputs": [
        {
          "output_type": "execute_result",
          "data": {
            "text/plain": [
              "          logits      logistic             probabilities class_ids classes  \\\n",
              "0  [-0.28904212]   [0.4282384]   [0.5717616, 0.42823836]       [0]  [b'0']   \n",
              "1    [0.6930474]  [0.66664445]   [0.33335552, 0.6666445]       [1]  [b'1']   \n",
              "2   [-0.5142714]  [0.37419277]    [0.6258072, 0.3741927]       [0]  [b'0']   \n",
              "3  [-0.28904212]   [0.4282384]   [0.5717616, 0.42823836]       [0]  [b'0']   \n",
              "4  [-0.18493474]  [0.45389766]  [0.54610234, 0.45389763]       [0]  [b'0']   \n",
              "\n",
              "  all_class_ids   all_classes  actual label  predicted label     match?  \n",
              "0        [0, 1]  [b'0', b'1']             1                0  not match  \n",
              "1        [0, 1]  [b'0', b'1']             0                1  not match  \n",
              "2        [0, 1]  [b'0', b'1']             0                0      match  \n",
              "3        [0, 1]  [b'0', b'1']             1                0  not match  \n",
              "4        [0, 1]  [b'0', b'1']             0                0      match  "
            ],
            "text/html": [
              "\n",
              "  <div id=\"df-526ccd17-2575-4d51-a86c-16fa55209344\">\n",
              "    <div class=\"colab-df-container\">\n",
              "      <div>\n",
              "<style scoped>\n",
              "    .dataframe tbody tr th:only-of-type {\n",
              "        vertical-align: middle;\n",
              "    }\n",
              "\n",
              "    .dataframe tbody tr th {\n",
              "        vertical-align: top;\n",
              "    }\n",
              "\n",
              "    .dataframe thead th {\n",
              "        text-align: right;\n",
              "    }\n",
              "</style>\n",
              "<table border=\"1\" class=\"dataframe\">\n",
              "  <thead>\n",
              "    <tr style=\"text-align: right;\">\n",
              "      <th></th>\n",
              "      <th>logits</th>\n",
              "      <th>logistic</th>\n",
              "      <th>probabilities</th>\n",
              "      <th>class_ids</th>\n",
              "      <th>classes</th>\n",
              "      <th>all_class_ids</th>\n",
              "      <th>all_classes</th>\n",
              "      <th>actual label</th>\n",
              "      <th>predicted label</th>\n",
              "      <th>match?</th>\n",
              "    </tr>\n",
              "  </thead>\n",
              "  <tbody>\n",
              "    <tr>\n",
              "      <th>0</th>\n",
              "      <td>[-0.28904212]</td>\n",
              "      <td>[0.4282384]</td>\n",
              "      <td>[0.5717616, 0.42823836]</td>\n",
              "      <td>[0]</td>\n",
              "      <td>[b'0']</td>\n",
              "      <td>[0, 1]</td>\n",
              "      <td>[b'0', b'1']</td>\n",
              "      <td>1</td>\n",
              "      <td>0</td>\n",
              "      <td>not match</td>\n",
              "    </tr>\n",
              "    <tr>\n",
              "      <th>1</th>\n",
              "      <td>[0.6930474]</td>\n",
              "      <td>[0.66664445]</td>\n",
              "      <td>[0.33335552, 0.6666445]</td>\n",
              "      <td>[1]</td>\n",
              "      <td>[b'1']</td>\n",
              "      <td>[0, 1]</td>\n",
              "      <td>[b'0', b'1']</td>\n",
              "      <td>0</td>\n",
              "      <td>1</td>\n",
              "      <td>not match</td>\n",
              "    </tr>\n",
              "    <tr>\n",
              "      <th>2</th>\n",
              "      <td>[-0.5142714]</td>\n",
              "      <td>[0.37419277]</td>\n",
              "      <td>[0.6258072, 0.3741927]</td>\n",
              "      <td>[0]</td>\n",
              "      <td>[b'0']</td>\n",
              "      <td>[0, 1]</td>\n",
              "      <td>[b'0', b'1']</td>\n",
              "      <td>0</td>\n",
              "      <td>0</td>\n",
              "      <td>match</td>\n",
              "    </tr>\n",
              "    <tr>\n",
              "      <th>3</th>\n",
              "      <td>[-0.28904212]</td>\n",
              "      <td>[0.4282384]</td>\n",
              "      <td>[0.5717616, 0.42823836]</td>\n",
              "      <td>[0]</td>\n",
              "      <td>[b'0']</td>\n",
              "      <td>[0, 1]</td>\n",
              "      <td>[b'0', b'1']</td>\n",
              "      <td>1</td>\n",
              "      <td>0</td>\n",
              "      <td>not match</td>\n",
              "    </tr>\n",
              "    <tr>\n",
              "      <th>4</th>\n",
              "      <td>[-0.18493474]</td>\n",
              "      <td>[0.45389766]</td>\n",
              "      <td>[0.54610234, 0.45389763]</td>\n",
              "      <td>[0]</td>\n",
              "      <td>[b'0']</td>\n",
              "      <td>[0, 1]</td>\n",
              "      <td>[b'0', b'1']</td>\n",
              "      <td>0</td>\n",
              "      <td>0</td>\n",
              "      <td>match</td>\n",
              "    </tr>\n",
              "  </tbody>\n",
              "</table>\n",
              "</div>\n",
              "      <button class=\"colab-df-convert\" onclick=\"convertToInteractive('df-526ccd17-2575-4d51-a86c-16fa55209344')\"\n",
              "              title=\"Convert this dataframe to an interactive table.\"\n",
              "              style=\"display:none;\">\n",
              "        \n",
              "  <svg xmlns=\"http://www.w3.org/2000/svg\" height=\"24px\"viewBox=\"0 0 24 24\"\n",
              "       width=\"24px\">\n",
              "    <path d=\"M0 0h24v24H0V0z\" fill=\"none\"/>\n",
              "    <path d=\"M18.56 5.44l.94 2.06.94-2.06 2.06-.94-2.06-.94-.94-2.06-.94 2.06-2.06.94zm-11 1L8.5 8.5l.94-2.06 2.06-.94-2.06-.94L8.5 2.5l-.94 2.06-2.06.94zm10 10l.94 2.06.94-2.06 2.06-.94-2.06-.94-.94-2.06-.94 2.06-2.06.94z\"/><path d=\"M17.41 7.96l-1.37-1.37c-.4-.4-.92-.59-1.43-.59-.52 0-1.04.2-1.43.59L10.3 9.45l-7.72 7.72c-.78.78-.78 2.05 0 2.83L4 21.41c.39.39.9.59 1.41.59.51 0 1.02-.2 1.41-.59l7.78-7.78 2.81-2.81c.8-.78.8-2.07 0-2.86zM5.41 20L4 18.59l7.72-7.72 1.47 1.35L5.41 20z\"/>\n",
              "  </svg>\n",
              "      </button>\n",
              "      \n",
              "  <style>\n",
              "    .colab-df-container {\n",
              "      display:flex;\n",
              "      flex-wrap:wrap;\n",
              "      gap: 12px;\n",
              "    }\n",
              "\n",
              "    .colab-df-convert {\n",
              "      background-color: #E8F0FE;\n",
              "      border: none;\n",
              "      border-radius: 50%;\n",
              "      cursor: pointer;\n",
              "      display: none;\n",
              "      fill: #1967D2;\n",
              "      height: 32px;\n",
              "      padding: 0 0 0 0;\n",
              "      width: 32px;\n",
              "    }\n",
              "\n",
              "    .colab-df-convert:hover {\n",
              "      background-color: #E2EBFA;\n",
              "      box-shadow: 0px 1px 2px rgba(60, 64, 67, 0.3), 0px 1px 3px 1px rgba(60, 64, 67, 0.15);\n",
              "      fill: #174EA6;\n",
              "    }\n",
              "\n",
              "    [theme=dark] .colab-df-convert {\n",
              "      background-color: #3B4455;\n",
              "      fill: #D2E3FC;\n",
              "    }\n",
              "\n",
              "    [theme=dark] .colab-df-convert:hover {\n",
              "      background-color: #434B5C;\n",
              "      box-shadow: 0px 1px 3px 1px rgba(0, 0, 0, 0.15);\n",
              "      filter: drop-shadow(0px 1px 2px rgba(0, 0, 0, 0.3));\n",
              "      fill: #FFFFFF;\n",
              "    }\n",
              "  </style>\n",
              "\n",
              "      <script>\n",
              "        const buttonEl =\n",
              "          document.querySelector('#df-526ccd17-2575-4d51-a86c-16fa55209344 button.colab-df-convert');\n",
              "        buttonEl.style.display =\n",
              "          google.colab.kernel.accessAllowed ? 'block' : 'none';\n",
              "\n",
              "        async function convertToInteractive(key) {\n",
              "          const element = document.querySelector('#df-526ccd17-2575-4d51-a86c-16fa55209344');\n",
              "          const dataTable =\n",
              "            await google.colab.kernel.invokeFunction('convertToInteractive',\n",
              "                                                     [key], {});\n",
              "          if (!dataTable) return;\n",
              "\n",
              "          const docLinkHtml = 'Like what you see? Visit the ' +\n",
              "            '<a target=\"_blank\" href=https://colab.research.google.com/notebooks/data_table.ipynb>data table notebook</a>'\n",
              "            + ' to learn more about interactive tables.';\n",
              "          element.innerHTML = '';\n",
              "          dataTable['output_type'] = 'display_data';\n",
              "          await google.colab.output.renderOutput(dataTable, element);\n",
              "          const docLink = document.createElement('div');\n",
              "          docLink.innerHTML = docLinkHtml;\n",
              "          element.appendChild(docLink);\n",
              "        }\n",
              "      </script>\n",
              "    </div>\n",
              "  </div>\n",
              "  "
            ]
          },
          "metadata": {},
          "execution_count": 216
        }
      ]
    },
    {
      "cell_type": "code",
      "source": [
        "#create a new dataframe showing only the correct predictions\n",
        "correct_predictions = df_predictions[df_predictions['match?']=='match']\n",
        "#get the count of the correct predctions for eah label\n",
        "correct_pred_count_label_0 , correct_pred_count_label_1 = correct_predictions['predicted label'].value_counts()\n",
        "#get the actual label count for each label\n",
        "actual_count_label_0 , actual_count_label_1 = df_predictions['actual label'].value_counts()"
      ],
      "metadata": {
        "id": "OXNb_ukgFc1I"
      },
      "execution_count": null,
      "outputs": []
    },
    {
      "cell_type": "code",
      "source": [
        "#get the accuracy of each labels predictions\n",
        "accuracy_label_0,accuracy_label_1 = correct_pred_count_label_0/actual_count_label_0 , correct_pred_count_label_1/actual_count_label_1\n",
        "accuracy=accuracy_label_0*100,accuracy_label_1*100\n",
        "accuracy=pd.Series(accuracy)\n",
        "print('Accuracy of label 0 (non-fatal): ', accuracy_label_0, '\\nAccuracy of label 1 (fatal): ', accuracy_label_1)"
      ],
      "metadata": {
        "colab": {
          "base_uri": "https://localhost:8080/"
        },
        "outputId": "f59736da-4535-4ef6-b1dd-932194790678",
        "id": "lsBFf6O3Fc1I"
      },
      "execution_count": null,
      "outputs": [
        {
          "output_type": "stream",
          "name": "stdout",
          "text": [
            "Accuracy of label 0 (non-fatal):  0.6756148250779356 \n",
            "Accuracy of label 1 (fatal):  0.577393431167016\n"
          ]
        }
      ]
    },
    {
      "cell_type": "code",
      "source": [
        "#plot the accuracy of each labels predictions\n",
        "fig, axes = plt.subplots(figsize=(18, 10))\n",
        "accuracy.plot(kind='barh')\n",
        "plt.yticks((0,1), ('non-Fatal accident', 'Fatal accident'))\n",
        "plt.xticks((0,10,20,30,40,50,60), ('0%', '10%','20%','30%','40%','50%','60%'))\n",
        "plt.xlabel('prectange accuracy')\n",
        "plt.title('percentage accuracy for each class/label')"
      ],
      "metadata": {
        "colab": {
          "base_uri": "https://localhost:8080/",
          "height": 639
        },
        "outputId": "9f3b5159-2fb3-4613-9e04-ad582dbd00d3",
        "id": "J2R03YyYFc1J"
      },
      "execution_count": null,
      "outputs": [
        {
          "output_type": "execute_result",
          "data": {
            "text/plain": [
              "Text(0.5, 1.0, 'percentage accuracy for each class/label')"
            ]
          },
          "metadata": {},
          "execution_count": 219
        },
        {
          "output_type": "display_data",
          "data": {
            "text/plain": [
              "<Figure size 1296x720 with 1 Axes>"
            ],
            "image/png": "[encoded data removed]"
          },
          "metadata": {
            "needs_background": "light"
          }
        }
      ]
    },
    {
      "cell_type": "markdown",
      "source": [
        "#Iteration 5 - 'Weather_Conditions'"
      ],
      "metadata": {
        "id": "0gcDab-GG-Ld"
      }
    },
    {
      "cell_type": "markdown",
      "source": [
        "##Features"
      ],
      "metadata": {
        "id": "T_Bgs1olG-Le"
      }
    },
    {
      "cell_type": "markdown",
      "source": [
        "###Seleceting Features, checking correlation between them, cleaning missing data"
      ],
      "metadata": {
        "id": "9lkxn1y3G-Lf"
      }
    },
    {
      "cell_type": "code",
      "source": [
        "df_features = df[['Weather_Conditions','Accident_Severity']]"
      ],
      "metadata": {
        "id": "XYyK8-3VG-Lf"
      },
      "execution_count": null,
      "outputs": []
    },
    {
      "cell_type": "code",
      "source": [
        "#checking correlation between features\n",
        "df_features.corr()\n",
        "sns.heatmap(df_features.corr())"
      ],
      "metadata": {
        "colab": {
          "base_uri": "https://localhost:8080/",
          "height": 73
        },
        "outputId": "193906b7-1dda-465b-fe45-ef9eb1e72a3f",
        "id": "jl30dI4lG-Lg"
      },
      "execution_count": null,
      "outputs": [
        {
          "output_type": "execute_result",
          "data": {
            "text/plain": [
              "<matplotlib.axes._subplots.AxesSubplot at 0x7f22306e13d0>"
            ]
          },
          "metadata": {},
          "execution_count": 248
        },
        {
          "output_type": "display_data",
          "data": {
            "text/plain": [
              "<Figure size 432x288 with 2 Axes>"
            ],
            "image/png": "[encoded data removed]"
          },
          "metadata": {
            "needs_background": "light"
          }
        }
      ]
    },
    {
      "cell_type": "code",
      "source": [
        "#checking which values have missing data, note missing data is recorded as -1\n",
        "df_features.min()"
      ],
      "metadata": {
        "colab": {
          "base_uri": "https://localhost:8080/"
        },
        "outputId": "b70fdf89-c322-423b-83d5-71b8172e88ce",
        "id": "q9IeKu68G-Lh"
      },
      "execution_count": null,
      "outputs": [
        {
          "output_type": "execute_result",
          "data": {
            "text/plain": [
              "Weather_Conditions   -1\n",
              "Accident_Severity     1\n",
              "dtype: int64"
            ]
          },
          "metadata": {},
          "execution_count": 249
        }
      ]
    },
    {
      "cell_type": "code",
      "source": [
        "#there are 161 accident that do not have recorded weather conditions, will drop these\n",
        "df_features['Weather_Conditions'][df_features['Weather_Conditions']==-1].count()"
      ],
      "metadata": {
        "colab": {
          "base_uri": "https://localhost:8080/"
        },
        "outputId": "44b2c09a-baab-44aa-aa8b-742d8243c2df",
        "id": "iixAv5qcG-Lh"
      },
      "execution_count": null,
      "outputs": [
        {
          "output_type": "execute_result",
          "data": {
            "text/plain": [
              "161"
            ]
          },
          "metadata": {},
          "execution_count": 250
        }
      ]
    },
    {
      "cell_type": "code",
      "source": [
        "#removing all rows with (missing) data\n",
        "df_features = df_features[df_features['Weather_Conditions']!=-1]\n",
        "#df_features = df_features[df_features['Speed_limit']!=0]"
      ],
      "metadata": {
        "id": "-IqxJ6T8G-Li"
      },
      "execution_count": null,
      "outputs": []
    },
    {
      "cell_type": "markdown",
      "source": [
        "df_features.count()"
      ],
      "metadata": {
        "id": "eVfA_33kG-Ll"
      }
    },
    {
      "cell_type": "markdown",
      "source": [
        "### Cleaning Label (accident severity) so that there are 2 classes instead of 3"
      ],
      "metadata": {
        "id": "l1wJjmnpG-Ll"
      }
    },
    {
      "cell_type": "code",
      "source": [
        "#check count for each level of accident deverity\n",
        "df_features['Accident_Severity'].value_counts()"
      ],
      "metadata": {
        "colab": {
          "base_uri": "https://localhost:8080/"
        },
        "outputId": "75c22356-678b-4c5a-d8a5-07c3c23975e5",
        "id": "kzRDsEriG-Lm"
      },
      "execution_count": null,
      "outputs": [
        {
          "output_type": "execute_result",
          "data": {
            "text/plain": [
              "3    1515430\n",
              "2     242067\n",
              "1      22995\n",
              "Name: Accident_Severity, dtype: int64"
            ]
          },
          "metadata": {},
          "execution_count": 252
        }
      ]
    },
    {
      "cell_type": "code",
      "source": [
        "#replace all accident severities where severiry is 2 or 3 and group them into 1 bucket (non-fatal)\n",
        "df_features['Accident_Severity'] = df_features['Accident_Severity'].replace(2,0)\n",
        "df_features['Accident_Severity'] = df_features['Accident_Severity'].replace(3,0)"
      ],
      "metadata": {
        "colab": {
          "base_uri": "https://localhost:8080/"
        },
        "id": "yk9gqycJG-Lm",
        "outputId": "5ef3b57d-5d0b-4103-c136-7622e7539f9c"
      },
      "execution_count": null,
      "outputs": [
        {
          "output_type": "stream",
          "name": "stderr",
          "text": [
            "/usr/local/lib/python3.7/dist-packages/ipykernel_launcher.py:2: SettingWithCopyWarning: \n",
            "A value is trying to be set on a copy of a slice from a DataFrame.\n",
            "Try using .loc[row_indexer,col_indexer] = value instead\n",
            "\n",
            "See the caveats in the documentation: https://pandas.pydata.org/pandas-docs/stable/user_guide/indexing.html#returning-a-view-versus-a-copy\n",
            "  \n"
          ]
        }
      ]
    },
    {
      "cell_type": "code",
      "source": [
        "#create 2 dataframe, 1 for each class, and print the size each\n",
        "class_1 = df_features[df_features['Accident_Severity'] == 1]\n",
        "class_0 = df_features[df_features['Accident_Severity'] == 0]\n",
        "print('class 1 (fatal):', len(class_1))\n",
        "print('class 0 (non-fatal):', len(class_0))"
      ],
      "metadata": {
        "colab": {
          "base_uri": "https://localhost:8080/"
        },
        "outputId": "380358fd-1a05-4eda-b723-1321d8c7aa5b",
        "id": "R3YLoFK9G-Ln"
      },
      "execution_count": null,
      "outputs": [
        {
          "output_type": "stream",
          "name": "stdout",
          "text": [
            "class 1 (fatal): 22995\n",
            "class 0 (non-fatal): 1757497\n"
          ]
        }
      ]
    },
    {
      "cell_type": "markdown",
      "source": [
        "###Accounting for imbalance in the dataset by undersampling"
      ],
      "metadata": {
        "id": "v6J3tQHbG-Ln"
      }
    },
    {
      "cell_type": "code",
      "source": [
        "#get the length of the dataset for each class/label\n",
        "class_count_0, class_count_1 = df_features['Accident_Severity'].value_counts()"
      ],
      "metadata": {
        "id": "X_Kny5HHG-Ln"
      },
      "execution_count": null,
      "outputs": []
    },
    {
      "cell_type": "code",
      "source": [
        "#undersampling of class 0 to balance the count of data for each class/label\n",
        "class_0_under = class_0.sample(class_count_1)\n",
        "df_features_under = pd.concat([class_0_under, class_1], axis=0)"
      ],
      "metadata": {
        "id": "UJiNo2UtG-Lo"
      },
      "execution_count": null,
      "outputs": []
    },
    {
      "cell_type": "code",
      "source": [
        "#print the size of the new dataset for each class/label after undersampling\n",
        "class_1 = df_features_under[df_features_under['Accident_Severity'] == 1]\n",
        "class_0 = df_features_under[df_features_under['Accident_Severity'] == 0]\n",
        "print('class 1 (fatal):', len(class_1))\n",
        "print('class 0 (non-fatal):', len(class_0))"
      ],
      "metadata": {
        "colab": {
          "base_uri": "https://localhost:8080/"
        },
        "outputId": "8d1a9aa7-81ab-4aef-c22c-a61bcd4fe6c8",
        "id": "0eyLLnGSG-Lo"
      },
      "execution_count": null,
      "outputs": [
        {
          "output_type": "stream",
          "name": "stdout",
          "text": [
            "class 1 (fatal): 22995\n",
            "class 0 (non-fatal): 22995\n"
          ]
        }
      ]
    },
    {
      "cell_type": "markdown",
      "source": [
        "###splitting the dataset in training and test datasets"
      ],
      "metadata": {
        "id": "jn3-5sdCG-Lp"
      }
    },
    {
      "cell_type": "code",
      "source": [
        "#splitting the dataset into training and test sets\n",
        "train_features_under, test_features_under = train_test_split(df_features_under, test_size=0.25)"
      ],
      "metadata": {
        "id": "hVQ88kc6G-Lp"
      },
      "execution_count": null,
      "outputs": []
    },
    {
      "cell_type": "code",
      "source": [
        "#pop out the label column from the train and test undersampled datasets\n",
        "train_label_under = train_features_under.pop('Accident_Severity')\n",
        "test_label_under = test_features_under.pop('Accident_Severity')"
      ],
      "metadata": {
        "id": "-nUfj494G-Lq"
      },
      "execution_count": null,
      "outputs": []
    },
    {
      "cell_type": "markdown",
      "source": [
        "## DNN Classifier"
      ],
      "metadata": {
        "id": "o61RcWc4G-Lq"
      }
    },
    {
      "cell_type": "markdown",
      "source": [
        "###defining input function, creating classifier, training classifer"
      ],
      "metadata": {
        "id": "BqblYh8lG-Lq"
      }
    },
    {
      "cell_type": "code",
      "source": [
        "def input_fn(features, labels, training=True, batch_size=344):\n",
        "    # Convert the inputs to a Dataset.\n",
        "    dataset = tf.data.Dataset.from_tensor_slices((dict(features), labels))\n",
        "    # Shuffle and repeat if you are in training mode.\n",
        "    if training:\n",
        "        dataset = dataset.shuffle(1000).repeat()\n",
        "    return dataset.batch(batch_size)"
      ],
      "metadata": {
        "id": "g2LWRA_CG-Lq"
      },
      "execution_count": null,
      "outputs": []
    },
    {
      "cell_type": "code",
      "source": [
        "# creating a tensorflow Feature column list\n",
        "my_feature_columns = []\n",
        "for key in train_features_under.keys():\n",
        "    my_feature_columns.append(tf.feature_column.numeric_column(key=key))\n",
        "my_feature_columns"
      ],
      "metadata": {
        "colab": {
          "base_uri": "https://localhost:8080/"
        },
        "outputId": "29876c03-d92b-4b60-e425-378a05e7d55a",
        "id": "yDZBlQRTG-Lr"
      },
      "execution_count": null,
      "outputs": [
        {
          "output_type": "execute_result",
          "data": {
            "text/plain": [
              "[NumericColumn(key='Weather_Conditions', shape=(1,), default_value=None, dtype=tf.float32, normalizer_fn=None)]"
            ]
          },
          "metadata": {},
          "execution_count": 261
        }
      ]
    },
    {
      "cell_type": "code",
      "source": [
        "# Build a DNN with 2 hidden layers with 30 and 10 hidden nodes each.\n",
        "classifier = tf.estimator.DNNClassifier(\n",
        "    feature_columns=my_feature_columns,\n",
        "    # Two hidden layers of 30 and 10 nodes respectively.\n",
        "    hidden_units=[30, 10],\n",
        "    # The model must choose between 2 classes.\n",
        "    n_classes=2)"
      ],
      "metadata": {
        "colab": {
          "base_uri": "https://localhost:8080/"
        },
        "outputId": "a7a88fb3-cccd-4d99-cd37-2be6d7d60d51",
        "id": "uq31AgAeG-Lr"
      },
      "execution_count": null,
      "outputs": [
        {
          "output_type": "stream",
          "name": "stdout",
          "text": [
            "INFO:tensorflow:Using default config.\n",
            "WARNING:tensorflow:Using temporary folder as model directory: /tmp/tmp1kkz0041\n",
            "INFO:tensorflow:Using config: {'_model_dir': '/tmp/tmp1kkz0041', '_tf_random_seed': None, '_save_summary_steps': 100, '_save_checkpoints_steps': None, '_save_checkpoints_secs': 600, '_session_config': allow_soft_placement: true\n",
            "graph_options {\n",
            "  rewrite_options {\n",
            "    meta_optimizer_iterations: ONE\n",
            "  }\n",
            "}\n",
            ", '_keep_checkpoint_max': 5, '_keep_checkpoint_every_n_hours': 10000, '_log_step_count_steps': 100, '_train_distribute': None, '_device_fn': None, '_protocol': None, '_eval_distribute': None, '_experimental_distribute': None, '_experimental_max_worker_delay_secs': None, '_session_creation_timeout_secs': 7200, '_checkpoint_save_graph_def': True, '_service': None, '_cluster_spec': ClusterSpec({}), '_task_type': 'worker', '_task_id': 0, '_global_id_in_cluster': 0, '_master': '', '_evaluation_master': '', '_is_chief': True, '_num_ps_replicas': 0, '_num_worker_replicas': 1}\n"
          ]
        }
      ]
    },
    {
      "cell_type": "code",
      "source": [
        "classifier.train(input_fn=lambda: input_fn(train_features_under, train_label_under, training=True),steps=5000)\n",
        "# We include a lambda to avoid creating an inner function "
      ],
      "metadata": {
        "colab": {
          "base_uri": "https://localhost:8080/"
        },
        "outputId": "77add0ae-1269-4656-e876-edf341bed634",
        "id": "gtpxzY1uG-Lr"
      },
      "execution_count": null,
      "outputs": [
        {
          "output_type": "stream",
          "name": "stdout",
          "text": [
            "INFO:tensorflow:Calling model_fn.\n",
            "INFO:tensorflow:Done calling model_fn.\n",
            "INFO:tensorflow:Create CheckpointSaverHook.\n",
            "INFO:tensorflow:Graph was finalized.\n",
            "INFO:tensorflow:Running local_init_op.\n",
            "INFO:tensorflow:Done running local_init_op.\n",
            "INFO:tensorflow:Calling checkpoint listeners before saving checkpoint 0...\n",
            "INFO:tensorflow:Saving checkpoints for 0 into /tmp/tmp1kkz0041/model.ckpt.\n",
            "INFO:tensorflow:Calling checkpoint listeners after saving checkpoint 0...\n",
            "INFO:tensorflow:loss = 0.70474756, step = 0\n",
            "WARNING:tensorflow:It seems that global step (tf.train.get_global_step) has not been increased. Current value (could be stable): 64 vs previous value: 64. You could increase the global step by passing tf.train.get_global_step() to Optimizer.apply_gradients or Optimizer.minimize.\n",
            "INFO:tensorflow:global_step/sec: 435.541\n",
            "INFO:tensorflow:loss = 0.69713235, step = 100 (0.234 sec)\n",
            "INFO:tensorflow:global_step/sec: 577.703\n",
            "INFO:tensorflow:loss = 0.6932862, step = 200 (0.173 sec)\n",
            "INFO:tensorflow:global_step/sec: 563.495\n",
            "INFO:tensorflow:loss = 0.692989, step = 300 (0.178 sec)\n",
            "INFO:tensorflow:global_step/sec: 550.403\n",
            "INFO:tensorflow:loss = 0.69356793, step = 400 (0.181 sec)\n",
            "INFO:tensorflow:global_step/sec: 582.548\n",
            "INFO:tensorflow:loss = 0.69353443, step = 500 (0.174 sec)\n",
            "INFO:tensorflow:global_step/sec: 576.187\n",
            "INFO:tensorflow:loss = 0.69247544, step = 600 (0.171 sec)\n",
            "INFO:tensorflow:global_step/sec: 556.312\n",
            "INFO:tensorflow:loss = 0.6931597, step = 700 (0.180 sec)\n",
            "INFO:tensorflow:global_step/sec: 584.608\n",
            "INFO:tensorflow:loss = 0.69248384, step = 800 (0.171 sec)\n",
            "INFO:tensorflow:global_step/sec: 558.687\n",
            "INFO:tensorflow:loss = 0.69196564, step = 900 (0.177 sec)\n",
            "INFO:tensorflow:global_step/sec: 576.142\n",
            "INFO:tensorflow:loss = 0.6925225, step = 1000 (0.173 sec)\n",
            "INFO:tensorflow:global_step/sec: 569.183\n",
            "INFO:tensorflow:loss = 0.6927012, step = 1100 (0.175 sec)\n",
            "INFO:tensorflow:global_step/sec: 588.673\n",
            "INFO:tensorflow:loss = 0.692711, step = 1200 (0.173 sec)\n",
            "INFO:tensorflow:global_step/sec: 587.792\n",
            "INFO:tensorflow:loss = 0.6936627, step = 1300 (0.170 sec)\n",
            "INFO:tensorflow:global_step/sec: 563.181\n",
            "INFO:tensorflow:loss = 0.69380367, step = 1400 (0.176 sec)\n",
            "INFO:tensorflow:global_step/sec: 582.512\n",
            "INFO:tensorflow:loss = 0.6920838, step = 1500 (0.171 sec)\n",
            "INFO:tensorflow:global_step/sec: 567.314\n",
            "INFO:tensorflow:loss = 0.6923587, step = 1600 (0.175 sec)\n",
            "INFO:tensorflow:global_step/sec: 589.531\n",
            "INFO:tensorflow:loss = 0.69338405, step = 1700 (0.172 sec)\n",
            "INFO:tensorflow:global_step/sec: 562.741\n",
            "INFO:tensorflow:loss = 0.69464535, step = 1800 (0.175 sec)\n",
            "INFO:tensorflow:global_step/sec: 537.334\n",
            "INFO:tensorflow:loss = 0.6931647, step = 1900 (0.196 sec)\n",
            "INFO:tensorflow:global_step/sec: 521.272\n",
            "INFO:tensorflow:loss = 0.69381917, step = 2000 (0.186 sec)\n",
            "INFO:tensorflow:global_step/sec: 527.827\n",
            "INFO:tensorflow:loss = 0.6931193, step = 2100 (0.189 sec)\n",
            "INFO:tensorflow:global_step/sec: 580.18\n",
            "INFO:tensorflow:loss = 0.6915569, step = 2200 (0.173 sec)\n",
            "INFO:tensorflow:global_step/sec: 564.264\n",
            "INFO:tensorflow:loss = 0.693882, step = 2300 (0.176 sec)\n",
            "INFO:tensorflow:global_step/sec: 555.963\n",
            "INFO:tensorflow:loss = 0.69256413, step = 2400 (0.181 sec)\n",
            "INFO:tensorflow:global_step/sec: 584.67\n",
            "INFO:tensorflow:loss = 0.6921709, step = 2500 (0.171 sec)\n",
            "INFO:tensorflow:global_step/sec: 585.775\n",
            "INFO:tensorflow:loss = 0.69201136, step = 2600 (0.168 sec)\n",
            "INFO:tensorflow:global_step/sec: 514.98\n",
            "INFO:tensorflow:loss = 0.69223076, step = 2700 (0.194 sec)\n",
            "INFO:tensorflow:global_step/sec: 573.751\n",
            "INFO:tensorflow:loss = 0.693825, step = 2800 (0.176 sec)\n",
            "INFO:tensorflow:global_step/sec: 564.268\n",
            "INFO:tensorflow:loss = 0.69306403, step = 2900 (0.177 sec)\n",
            "INFO:tensorflow:global_step/sec: 584.243\n",
            "INFO:tensorflow:loss = 0.69458497, step = 3000 (0.169 sec)\n",
            "INFO:tensorflow:global_step/sec: 565.61\n",
            "INFO:tensorflow:loss = 0.692482, step = 3100 (0.177 sec)\n",
            "INFO:tensorflow:global_step/sec: 589.315\n",
            "INFO:tensorflow:loss = 0.6920512, step = 3200 (0.172 sec)\n",
            "INFO:tensorflow:global_step/sec: 545.055\n",
            "INFO:tensorflow:loss = 0.6915281, step = 3300 (0.181 sec)\n",
            "INFO:tensorflow:global_step/sec: 584.39\n",
            "INFO:tensorflow:loss = 0.69536203, step = 3400 (0.171 sec)\n",
            "INFO:tensorflow:global_step/sec: 592.161\n",
            "INFO:tensorflow:loss = 0.6926565, step = 3500 (0.169 sec)\n",
            "INFO:tensorflow:global_step/sec: 590.636\n",
            "INFO:tensorflow:loss = 0.6921873, step = 3600 (0.170 sec)\n",
            "INFO:tensorflow:global_step/sec: 607.426\n",
            "INFO:tensorflow:loss = 0.69238096, step = 3700 (0.165 sec)\n",
            "INFO:tensorflow:global_step/sec: 581.276\n",
            "INFO:tensorflow:loss = 0.69325894, step = 3800 (0.172 sec)\n",
            "INFO:tensorflow:global_step/sec: 587.39\n",
            "INFO:tensorflow:loss = 0.6917377, step = 3900 (0.174 sec)\n",
            "INFO:tensorflow:global_step/sec: 594.402\n",
            "INFO:tensorflow:loss = 0.6946628, step = 4000 (0.169 sec)\n",
            "INFO:tensorflow:global_step/sec: 572.862\n",
            "INFO:tensorflow:loss = 0.6930551, step = 4100 (0.171 sec)\n",
            "INFO:tensorflow:global_step/sec: 555.953\n",
            "INFO:tensorflow:loss = 0.69262046, step = 4200 (0.183 sec)\n",
            "INFO:tensorflow:global_step/sec: 569.727\n",
            "INFO:tensorflow:loss = 0.694254, step = 4300 (0.174 sec)\n",
            "INFO:tensorflow:global_step/sec: 557.728\n",
            "INFO:tensorflow:loss = 0.6914233, step = 4400 (0.182 sec)\n",
            "INFO:tensorflow:global_step/sec: 541.716\n",
            "INFO:tensorflow:loss = 0.69231725, step = 4500 (0.181 sec)\n",
            "INFO:tensorflow:global_step/sec: 549.188\n",
            "INFO:tensorflow:loss = 0.6936949, step = 4600 (0.182 sec)\n",
            "INFO:tensorflow:global_step/sec: 577.894\n",
            "INFO:tensorflow:loss = 0.6923915, step = 4700 (0.175 sec)\n",
            "INFO:tensorflow:global_step/sec: 542.42\n",
            "INFO:tensorflow:loss = 0.6922664, step = 4800 (0.185 sec)\n",
            "INFO:tensorflow:global_step/sec: 586.077\n",
            "INFO:tensorflow:loss = 0.692936, step = 4900 (0.168 sec)\n",
            "INFO:tensorflow:Calling checkpoint listeners before saving checkpoint 5000...\n",
            "INFO:tensorflow:Saving checkpoints for 5000 into /tmp/tmp1kkz0041/model.ckpt.\n",
            "INFO:tensorflow:Calling checkpoint listeners after saving checkpoint 5000...\n",
            "INFO:tensorflow:Loss for final step: 0.6936974.\n"
          ]
        },
        {
          "output_type": "execute_result",
          "data": {
            "text/plain": [
              "<tensorflow_estimator.python.estimator.canned.dnn.DNNClassifierV2 at 0x7f223423e650>"
            ]
          },
          "metadata": {},
          "execution_count": 263
        }
      ]
    },
    {
      "cell_type": "markdown",
      "source": [
        "###Evaluating Classifier"
      ],
      "metadata": {
        "id": "lHAj7siVG-Ls"
      }
    },
    {
      "cell_type": "code",
      "source": [
        "#determine the accurracy of th classifier\n",
        "eval_result = classifier.evaluate(\n",
        "    input_fn=lambda: input_fn(test_features_under, test_label_under, training=False))\n",
        "print('\\nTest set accuracy: {accuracy:0.3f}\\n'.format(**eval_result))"
      ],
      "metadata": {
        "colab": {
          "base_uri": "https://localhost:8080/"
        },
        "outputId": "19a1fba7-e456-4597-df1b-14a0bd94aaef",
        "id": "UNEsm0XUG-Ls"
      },
      "execution_count": null,
      "outputs": [
        {
          "output_type": "stream",
          "name": "stdout",
          "text": [
            "INFO:tensorflow:Calling model_fn.\n",
            "INFO:tensorflow:Done calling model_fn.\n",
            "INFO:tensorflow:Starting evaluation at 2022-03-26T16:44:24\n",
            "INFO:tensorflow:Graph was finalized.\n",
            "INFO:tensorflow:Restoring parameters from /tmp/tmp1kkz0041/model.ckpt-5000\n",
            "INFO:tensorflow:Running local_init_op.\n",
            "INFO:tensorflow:Done running local_init_op.\n",
            "INFO:tensorflow:Inference Time : 0.52556s\n",
            "INFO:tensorflow:Finished evaluation at 2022-03-26-16:44:24\n",
            "INFO:tensorflow:Saving dict for global step 5000: accuracy = 0.51356757, accuracy_baseline = 0.5046095, auc = 0.5164937, auc_precision_recall = 0.5046074, average_loss = 0.69267344, global_step = 5000, label/mean = 0.4953905, loss = 0.6926561, precision = 0.5055394, prediction/mean = 0.49980763, recall = 0.8251405\n",
            "INFO:tensorflow:Saving 'checkpoint_path' summary for global step 5000: /tmp/tmp1kkz0041/model.ckpt-5000\n",
            "\n",
            "Test set accuracy: 0.514\n",
            "\n"
          ]
        }
      ]
    },
    {
      "cell_type": "code",
      "source": [
        "#create predictions list for all test set\n",
        "predictions_under = list(classifier.predict(input_fn=lambda: input_fn(test_features_under, test_label_under, training=False)))"
      ],
      "metadata": {
        "outputId": "52083bbe-f554-46cf-927b-b83432a4fa2b",
        "colab": {
          "base_uri": "https://localhost:8080/"
        },
        "id": "sIT4KouoG-Lt"
      },
      "execution_count": null,
      "outputs": [
        {
          "output_type": "stream",
          "name": "stdout",
          "text": [
            "INFO:tensorflow:Calling model_fn.\n",
            "INFO:tensorflow:Done calling model_fn.\n",
            "INFO:tensorflow:Graph was finalized.\n",
            "INFO:tensorflow:Restoring parameters from /tmp/tmp1kkz0041/model.ckpt-5000\n",
            "INFO:tensorflow:Running local_init_op.\n",
            "INFO:tensorflow:Done running local_init_op.\n"
          ]
        }
      ]
    },
    {
      "cell_type": "code",
      "source": [
        "#create a dataframe of predictions for test set\n",
        "df_predictions = pd.DataFrame(predictions_under)"
      ],
      "metadata": {
        "id": "-DK2iiCSG-Lt"
      },
      "execution_count": null,
      "outputs": []
    },
    {
      "cell_type": "markdown",
      "source": [
        "###Plot of Results"
      ],
      "metadata": {
        "id": "uUp6SYq9G-Lt"
      }
    },
    {
      "cell_type": "code",
      "source": [
        "#add the actual matches to the prediciton dataframe\n",
        "df_predictions['actual label']=test_label_under.values"
      ],
      "metadata": {
        "id": "lfP3RGA_G-Lu"
      },
      "execution_count": null,
      "outputs": []
    },
    {
      "cell_type": "code",
      "source": [
        "#add the class predicitons from the DNN to the dataframe\n",
        "df_predictions['predicted label']=pd.DataFrame.from_records(df_predictions['class_ids'])"
      ],
      "metadata": {
        "id": "j0VZZYBRG-Lu"
      },
      "execution_count": null,
      "outputs": []
    },
    {
      "cell_type": "code",
      "source": [
        "#add a binary column to show if the dnn predictions were correct\n",
        "df_predictions['match?']=df_predictions['predicted label']-df_predictions['actual label']\n",
        "df_predictions['match?']=df_predictions['match?'].replace(0,'match')\n",
        "df_predictions['match?']=df_predictions['match?'].replace(-1,'not match')\n",
        "df_predictions['match?']=df_predictions['match?'].replace(1,'not match')"
      ],
      "metadata": {
        "id": "I4g2G7vMG-Lu"
      },
      "execution_count": null,
      "outputs": []
    },
    {
      "cell_type": "code",
      "source": [
        "#view the prdictions dataframe\n",
        "df_predictions.head()"
      ],
      "metadata": {
        "colab": {
          "base_uri": "https://localhost:8080/",
          "height": 206
        },
        "outputId": "6fedbc5b-1c87-4187-db23-decffcef4586",
        "id": "4L3kc9KgG-Lv"
      },
      "execution_count": null,
      "outputs": [
        {
          "output_type": "execute_result",
          "data": {
            "text/plain": [
              "          logits     logistic           probabilities class_ids classes  \\\n",
              "0  [0.012208205]   [0.503052]  [0.496948, 0.50305206]       [1]  [b'1']   \n",
              "1  [0.012208205]   [0.503052]  [0.496948, 0.50305206]       [1]  [b'1']   \n",
              "2  [-0.18512656]  [0.4538501]  [0.5461499, 0.4538501]       [0]  [b'0']   \n",
              "3  [0.012208205]   [0.503052]  [0.496948, 0.50305206]       [1]  [b'1']   \n",
              "4  [0.012208205]   [0.503052]  [0.496948, 0.50305206]       [1]  [b'1']   \n",
              "\n",
              "  all_class_ids   all_classes  actual label  predicted label     match?  \n",
              "0        [0, 1]  [b'0', b'1']             0                1  not match  \n",
              "1        [0, 1]  [b'0', b'1']             0                1  not match  \n",
              "2        [0, 1]  [b'0', b'1']             1                0  not match  \n",
              "3        [0, 1]  [b'0', b'1']             1                1      match  \n",
              "4        [0, 1]  [b'0', b'1']             1                1      match  "
            ],
            "text/html": [
              "\n",
              "  <div id=\"df-e86ef1c0-cfda-4306-8124-79d2743bfcc3\">\n",
              "    <div class=\"colab-df-container\">\n",
              "      <div>\n",
              "<style scoped>\n",
              "    .dataframe tbody tr th:only-of-type {\n",
              "        vertical-align: middle;\n",
              "    }\n",
              "\n",
              "    .dataframe tbody tr th {\n",
              "        vertical-align: top;\n",
              "    }\n",
              "\n",
              "    .dataframe thead th {\n",
              "        text-align: right;\n",
              "    }\n",
              "</style>\n",
              "<table border=\"1\" class=\"dataframe\">\n",
              "  <thead>\n",
              "    <tr style=\"text-align: right;\">\n",
              "      <th></th>\n",
              "      <th>logits</th>\n",
              "      <th>logistic</th>\n",
              "      <th>probabilities</th>\n",
              "      <th>class_ids</th>\n",
              "      <th>classes</th>\n",
              "      <th>all_class_ids</th>\n",
              "      <th>all_classes</th>\n",
              "      <th>actual label</th>\n",
              "      <th>predicted label</th>\n",
              "      <th>match?</th>\n",
              "    </tr>\n",
              "  </thead>\n",
              "  <tbody>\n",
              "    <tr>\n",
              "      <th>0</th>\n",
              "      <td>[0.012208205]</td>\n",
              "      <td>[0.503052]</td>\n",
              "      <td>[0.496948, 0.50305206]</td>\n",
              "      <td>[1]</td>\n",
              "      <td>[b'1']</td>\n",
              "      <td>[0, 1]</td>\n",
              "      <td>[b'0', b'1']</td>\n",
              "      <td>0</td>\n",
              "      <td>1</td>\n",
              "      <td>not match</td>\n",
              "    </tr>\n",
              "    <tr>\n",
              "      <th>1</th>\n",
              "      <td>[0.012208205]</td>\n",
              "      <td>[0.503052]</td>\n",
              "      <td>[0.496948, 0.50305206]</td>\n",
              "      <td>[1]</td>\n",
              "      <td>[b'1']</td>\n",
              "      <td>[0, 1]</td>\n",
              "      <td>[b'0', b'1']</td>\n",
              "      <td>0</td>\n",
              "      <td>1</td>\n",
              "      <td>not match</td>\n",
              "    </tr>\n",
              "    <tr>\n",
              "      <th>2</th>\n",
              "      <td>[-0.18512656]</td>\n",
              "      <td>[0.4538501]</td>\n",
              "      <td>[0.5461499, 0.4538501]</td>\n",
              "      <td>[0]</td>\n",
              "      <td>[b'0']</td>\n",
              "      <td>[0, 1]</td>\n",
              "      <td>[b'0', b'1']</td>\n",
              "      <td>1</td>\n",
              "      <td>0</td>\n",
              "      <td>not match</td>\n",
              "    </tr>\n",
              "    <tr>\n",
              "      <th>3</th>\n",
              "      <td>[0.012208205]</td>\n",
              "      <td>[0.503052]</td>\n",
              "      <td>[0.496948, 0.50305206]</td>\n",
              "      <td>[1]</td>\n",
              "      <td>[b'1']</td>\n",
              "      <td>[0, 1]</td>\n",
              "      <td>[b'0', b'1']</td>\n",
              "      <td>1</td>\n",
              "      <td>1</td>\n",
              "      <td>match</td>\n",
              "    </tr>\n",
              "    <tr>\n",
              "      <th>4</th>\n",
              "      <td>[0.012208205]</td>\n",
              "      <td>[0.503052]</td>\n",
              "      <td>[0.496948, 0.50305206]</td>\n",
              "      <td>[1]</td>\n",
              "      <td>[b'1']</td>\n",
              "      <td>[0, 1]</td>\n",
              "      <td>[b'0', b'1']</td>\n",
              "      <td>1</td>\n",
              "      <td>1</td>\n",
              "      <td>match</td>\n",
              "    </tr>\n",
              "  </tbody>\n",
              "</table>\n",
              "</div>\n",
              "      <button class=\"colab-df-convert\" onclick=\"convertToInteractive('df-e86ef1c0-cfda-4306-8124-79d2743bfcc3')\"\n",
              "              title=\"Convert this dataframe to an interactive table.\"\n",
              "              style=\"display:none;\">\n",
              "        \n",
              "  <svg xmlns=\"http://www.w3.org/2000/svg\" height=\"24px\"viewBox=\"0 0 24 24\"\n",
              "       width=\"24px\">\n",
              "    <path d=\"M0 0h24v24H0V0z\" fill=\"none\"/>\n",
              "    <path d=\"M18.56 5.44l.94 2.06.94-2.06 2.06-.94-2.06-.94-.94-2.06-.94 2.06-2.06.94zm-11 1L8.5 8.5l.94-2.06 2.06-.94-2.06-.94L8.5 2.5l-.94 2.06-2.06.94zm10 10l.94 2.06.94-2.06 2.06-.94-2.06-.94-.94-2.06-.94 2.06-2.06.94z\"/><path d=\"M17.41 7.96l-1.37-1.37c-.4-.4-.92-.59-1.43-.59-.52 0-1.04.2-1.43.59L10.3 9.45l-7.72 7.72c-.78.78-.78 2.05 0 2.83L4 21.41c.39.39.9.59 1.41.59.51 0 1.02-.2 1.41-.59l7.78-7.78 2.81-2.81c.8-.78.8-2.07 0-2.86zM5.41 20L4 18.59l7.72-7.72 1.47 1.35L5.41 20z\"/>\n",
              "  </svg>\n",
              "      </button>\n",
              "      \n",
              "  <style>\n",
              "    .colab-df-container {\n",
              "      display:flex;\n",
              "      flex-wrap:wrap;\n",
              "      gap: 12px;\n",
              "    }\n",
              "\n",
              "    .colab-df-convert {\n",
              "      background-color: #E8F0FE;\n",
              "      border: none;\n",
              "      border-radius: 50%;\n",
              "      cursor: pointer;\n",
              "      display: none;\n",
              "      fill: #1967D2;\n",
              "      height: 32px;\n",
              "      padding: 0 0 0 0;\n",
              "      width: 32px;\n",
              "    }\n",
              "\n",
              "    .colab-df-convert:hover {\n",
              "      background-color: #E2EBFA;\n",
              "      box-shadow: 0px 1px 2px rgba(60, 64, 67, 0.3), 0px 1px 3px 1px rgba(60, 64, 67, 0.15);\n",
              "      fill: #174EA6;\n",
              "    }\n",
              "\n",
              "    [theme=dark] .colab-df-convert {\n",
              "      background-color: #3B4455;\n",
              "      fill: #D2E3FC;\n",
              "    }\n",
              "\n",
              "    [theme=dark] .colab-df-convert:hover {\n",
              "      background-color: #434B5C;\n",
              "      box-shadow: 0px 1px 3px 1px rgba(0, 0, 0, 0.15);\n",
              "      filter: drop-shadow(0px 1px 2px rgba(0, 0, 0, 0.3));\n",
              "      fill: #FFFFFF;\n",
              "    }\n",
              "  </style>\n",
              "\n",
              "      <script>\n",
              "        const buttonEl =\n",
              "          document.querySelector('#df-e86ef1c0-cfda-4306-8124-79d2743bfcc3 button.colab-df-convert');\n",
              "        buttonEl.style.display =\n",
              "          google.colab.kernel.accessAllowed ? 'block' : 'none';\n",
              "\n",
              "        async function convertToInteractive(key) {\n",
              "          const element = document.querySelector('#df-e86ef1c0-cfda-4306-8124-79d2743bfcc3');\n",
              "          const dataTable =\n",
              "            await google.colab.kernel.invokeFunction('convertToInteractive',\n",
              "                                                     [key], {});\n",
              "          if (!dataTable) return;\n",
              "\n",
              "          const docLinkHtml = 'Like what you see? Visit the ' +\n",
              "            '<a target=\"_blank\" href=https://colab.research.google.com/notebooks/data_table.ipynb>data table notebook</a>'\n",
              "            + ' to learn more about interactive tables.';\n",
              "          element.innerHTML = '';\n",
              "          dataTable['output_type'] = 'display_data';\n",
              "          await google.colab.output.renderOutput(dataTable, element);\n",
              "          const docLink = document.createElement('div');\n",
              "          docLink.innerHTML = docLinkHtml;\n",
              "          element.appendChild(docLink);\n",
              "        }\n",
              "      </script>\n",
              "    </div>\n",
              "  </div>\n",
              "  "
            ]
          },
          "metadata": {},
          "execution_count": 270
        }
      ]
    },
    {
      "cell_type": "code",
      "source": [
        "#create a new dataframe showing only the correct predictions\n",
        "correct_predictions = df_predictions[df_predictions['match?']=='match']\n",
        "#get the count of the correct predctions for eah label\n",
        "correct_pred_count_label_0 , correct_pred_count_label_1 = correct_predictions['predicted label'].value_counts()\n",
        "#get the actual label count for each label\n",
        "actual_count_label_0 , actual_count_label_1 = df_predictions['actual label'].value_counts()"
      ],
      "metadata": {
        "id": "vB9uvi25G-Lv"
      },
      "execution_count": null,
      "outputs": []
    },
    {
      "cell_type": "code",
      "source": [
        "#get the accuracy of each labels predictions\n",
        "accuracy_label_0,accuracy_label_1 = correct_pred_count_label_0/actual_count_label_0 , correct_pred_count_label_1/actual_count_label_1\n",
        "accuracy=accuracy_label_0*100,accuracy_label_1*100\n",
        "accuracy=pd.Series(accuracy)\n",
        "print('Accuracy of label 0 (non-fatal): ', accuracy_label_0, '\\nAccuracy of label 1 (fatal): ', accuracy_label_1)"
      ],
      "metadata": {
        "colab": {
          "base_uri": "https://localhost:8080/"
        },
        "outputId": "a3d3e665-42f9-4812-bc5f-129fbf8a6925",
        "id": "ubVidU2GG-Lv"
      },
      "execution_count": null,
      "outputs": [
        {
          "output_type": "stream",
          "name": "stdout",
          "text": [
            "Accuracy of label 0 (non-fatal):  0.8100654946570148 \n",
            "Accuracy of label 1 (fatal):  0.21155196629213482\n"
          ]
        }
      ]
    },
    {
      "cell_type": "code",
      "source": [
        "#plot the accuracy of each labels predictions\n",
        "fig, axes = plt.subplots(figsize=(18, 10))\n",
        "accuracy.plot(kind='barh')\n",
        "plt.yticks((0,1), ('non-Fatal accident', 'Fatal accident'))\n",
        "plt.xticks((0,10,20,30,40,50,60), ('0%', '10%','20%','30%','40%','50%','60%'))\n",
        "plt.xlabel('prectange accuracy')\n",
        "plt.title('percentage accuracy for each class/label')"
      ],
      "metadata": {
        "colab": {
          "base_uri": "https://localhost:8080/",
          "height": 639
        },
        "outputId": "14916d5e-5d33-4145-e3b5-92a1dcbab8dd",
        "id": "mqy9zIKyG-Lw"
      },
      "execution_count": null,
      "outputs": [
        {
          "output_type": "execute_result",
          "data": {
            "text/plain": [
              "Text(0.5, 1.0, 'percentage accuracy for each class/label')"
            ]
          },
          "metadata": {},
          "execution_count": 273
        },
        {
          "output_type": "display_data",
          "data": {
            "text/plain": [
              "<Figure size 1296x720 with 1 Axes>"
            ],
            "image/png": "[encoded data removed]"
          },
          "metadata": {
            "needs_background": "light"
          }
        }
      ]
    },
    {
      "cell_type": "markdown",
      "source": [
        "#Iteration 6 - 'Speed_limit'"
      ],
      "metadata": {
        "id": "JHloOz2-Hbx5"
      }
    },
    {
      "cell_type": "markdown",
      "source": [
        "##Features"
      ],
      "metadata": {
        "id": "XdI6eCNKHbx6"
      }
    },
    {
      "cell_type": "markdown",
      "source": [
        "###Seleceting Features, checking correlation between them, cleaning missing data"
      ],
      "metadata": {
        "id": "wVeP2pQFHbx7"
      }
    },
    {
      "cell_type": "code",
      "source": [
        "df_features = df[['Speed_limit','Accident_Severity']]"
      ],
      "metadata": {
        "id": "GdtTHQZwHbx8"
      },
      "execution_count": null,
      "outputs": []
    },
    {
      "cell_type": "code",
      "source": [
        "#checking correlation between features\n",
        "df_features.corr()\n",
        "sns.heatmap(df_features.corr())"
      ],
      "metadata": {
        "colab": {
          "base_uri": "https://localhost:8080/",
          "height": 73
        },
        "outputId": "5f6f34f1-02c3-4f0d-8acb-2aeb3cf13e3c",
        "id": "7JwtzR3FHbx9"
      },
      "execution_count": null,
      "outputs": [
        {
          "output_type": "execute_result",
          "data": {
            "text/plain": [
              "<matplotlib.axes._subplots.AxesSubplot at 0x7f94caac0690>"
            ]
          },
          "metadata": {},
          "execution_count": 140
        },
        {
          "output_type": "display_data",
          "data": {
            "text/plain": [
              "<Figure size 432x288 with 2 Axes>"
            ],
            "image/png": "[encoded data removed]"
          },
          "metadata": {
            "needs_background": "light"
          }
        }
      ]
    },
    {
      "cell_type": "code",
      "source": [
        "#checking which values have missing data, note missing data is recorded as -1\n",
        "df_features.min()"
      ],
      "metadata": {
        "colab": {
          "base_uri": "https://localhost:8080/"
        },
        "outputId": "a8bec9b3-5a14-4406-98b3-37af8299f41c",
        "id": "gjOe12YkHbx-"
      },
      "execution_count": null,
      "outputs": [
        {
          "output_type": "execute_result",
          "data": {
            "text/plain": [
              "Speed_limit          0\n",
              "Accident_Severity    1\n",
              "dtype: int64"
            ]
          },
          "metadata": {},
          "execution_count": 141
        }
      ]
    },
    {
      "cell_type": "code",
      "source": [
        "#there are 161 accident that do not have recorded weather conditions, will drop these\n",
        "#df_features['Weather_Conditions'][df_features['Weather_Conditions']==-1].count()"
      ],
      "metadata": {
        "id": "wqd4pbfOHbyA"
      },
      "execution_count": null,
      "outputs": []
    },
    {
      "cell_type": "code",
      "source": [
        "#removing all rows with (missing) data\n",
        "#df_features = df_features[df_features['Weather_Conditions']!=-1]\n",
        "df_features = df_features[df_features['Speed_limit']!=0]"
      ],
      "metadata": {
        "id": "81GUQx9yHbyA"
      },
      "execution_count": null,
      "outputs": []
    },
    {
      "cell_type": "markdown",
      "source": [
        "df_features.count()"
      ],
      "metadata": {
        "id": "FwpEQ-3CHbyB"
      }
    },
    {
      "cell_type": "markdown",
      "source": [
        "### Cleaning Label (accident severity) so that there are 2 classes instead of 3"
      ],
      "metadata": {
        "id": "3bPFpTUiHbyB"
      }
    },
    {
      "cell_type": "code",
      "source": [
        "#check count for each level of accident deverity\n",
        "df_features['Accident_Severity'].value_counts()"
      ],
      "metadata": {
        "colab": {
          "base_uri": "https://localhost:8080/"
        },
        "outputId": "666d7582-4ffc-4768-cd71-decac2270a7d",
        "id": "XdW1_jv1HbyC"
      },
      "execution_count": null,
      "outputs": [
        {
          "output_type": "execute_result",
          "data": {
            "text/plain": [
              "3    1515574\n",
              "2     242080\n",
              "1      22998\n",
              "Name: Accident_Severity, dtype: int64"
            ]
          },
          "metadata": {},
          "execution_count": 144
        }
      ]
    },
    {
      "cell_type": "code",
      "source": [
        "#replace all accident severities where severiry is 2 or 3 and group them into 1 bucket (non-fatal)\n",
        "df_features['Accident_Severity'] = df_features['Accident_Severity'].replace(2,0)\n",
        "df_features['Accident_Severity'] = df_features['Accident_Severity'].replace(3,0)"
      ],
      "metadata": {
        "colab": {
          "base_uri": "https://localhost:8080/"
        },
        "outputId": "be25e951-bf00-4f6c-b77b-59299779a4ed",
        "id": "CHd1tjIcHbyD"
      },
      "execution_count": null,
      "outputs": [
        {
          "output_type": "stream",
          "name": "stderr",
          "text": [
            "/usr/local/lib/python3.7/dist-packages/ipykernel_launcher.py:2: SettingWithCopyWarning: \n",
            "A value is trying to be set on a copy of a slice from a DataFrame.\n",
            "Try using .loc[row_indexer,col_indexer] = value instead\n",
            "\n",
            "See the caveats in the documentation: https://pandas.pydata.org/pandas-docs/stable/user_guide/indexing.html#returning-a-view-versus-a-copy\n",
            "  \n",
            "/usr/local/lib/python3.7/dist-packages/ipykernel_launcher.py:3: SettingWithCopyWarning: \n",
            "A value is trying to be set on a copy of a slice from a DataFrame.\n",
            "Try using .loc[row_indexer,col_indexer] = value instead\n",
            "\n",
            "See the caveats in the documentation: https://pandas.pydata.org/pandas-docs/stable/user_guide/indexing.html#returning-a-view-versus-a-copy\n",
            "  This is separate from the ipykernel package so we can avoid doing imports until\n"
          ]
        }
      ]
    },
    {
      "cell_type": "code",
      "source": [
        "#create 2 dataframe, 1 for each class, and print the size each\n",
        "class_1 = df_features[df_features['Accident_Severity'] == 1]\n",
        "class_0 = df_features[df_features['Accident_Severity'] == 0]\n",
        "print('class 1 (fatal):', len(class_1))\n",
        "print('class 0 (non-fatal):', len(class_0))"
      ],
      "metadata": {
        "colab": {
          "base_uri": "https://localhost:8080/"
        },
        "outputId": "33a1da62-2da4-4832-b1cc-c83443c41e4e",
        "id": "maybb9LEHbyD"
      },
      "execution_count": null,
      "outputs": [
        {
          "output_type": "stream",
          "name": "stdout",
          "text": [
            "class 1 (fatal): 22998\n",
            "class 0 (non-fatal): 1757654\n"
          ]
        }
      ]
    },
    {
      "cell_type": "markdown",
      "source": [
        "###Accounting for imbalance in the dataset by undersampling"
      ],
      "metadata": {
        "id": "gMpxqcvmHbyD"
      }
    },
    {
      "cell_type": "code",
      "source": [
        "#get the length of the dataset for each class/label\n",
        "class_count_0, class_count_1 = df_features['Accident_Severity'].value_counts()"
      ],
      "metadata": {
        "id": "QAu796WWHbyD"
      },
      "execution_count": null,
      "outputs": []
    },
    {
      "cell_type": "code",
      "source": [
        "#undersampling of class 0 to balance the count of data for each class/label\n",
        "class_0_under = class_0.sample(class_count_1)\n",
        "df_features_under = pd.concat([class_0_under, class_1], axis=0)"
      ],
      "metadata": {
        "id": "Ai0MWsm1HbyD"
      },
      "execution_count": null,
      "outputs": []
    },
    {
      "cell_type": "code",
      "source": [
        "#print the size of the new dataset for each class/label after undersampling\n",
        "class_1 = df_features_under[df_features_under['Accident_Severity'] == 1]\n",
        "class_0 = df_features_under[df_features_under['Accident_Severity'] == 0]\n",
        "print('class 1 (fatal):', len(class_1))\n",
        "print('class 0 (non-fatal):', len(class_0))"
      ],
      "metadata": {
        "colab": {
          "base_uri": "https://localhost:8080/"
        },
        "outputId": "e24d845c-941e-4b7f-baa1-5cc131719847",
        "id": "i4tnjKxoHbyE"
      },
      "execution_count": null,
      "outputs": [
        {
          "output_type": "stream",
          "name": "stdout",
          "text": [
            "class 1 (fatal): 22998\n",
            "class 0 (non-fatal): 22998\n"
          ]
        }
      ]
    },
    {
      "cell_type": "markdown",
      "source": [
        "###splitting the dataset in training and test datasets"
      ],
      "metadata": {
        "id": "oaQskrmKHbyE"
      }
    },
    {
      "cell_type": "code",
      "source": [
        "#splitting the dataset into training and test sets\n",
        "train_features_under, test_features_under = train_test_split(df_features_under, test_size=0.25)"
      ],
      "metadata": {
        "id": "s_vzdNklHbyF"
      },
      "execution_count": null,
      "outputs": []
    },
    {
      "cell_type": "code",
      "source": [
        "#pop out the label column from the train and test undersampled datasets\n",
        "train_label_under = train_features_under.pop('Accident_Severity')\n",
        "test_label_under = test_features_under.pop('Accident_Severity')"
      ],
      "metadata": {
        "id": "2kbId5HbHbyF"
      },
      "execution_count": null,
      "outputs": []
    },
    {
      "cell_type": "markdown",
      "source": [
        "## DNN Classifier"
      ],
      "metadata": {
        "id": "3gSY3U8kHbyF"
      }
    },
    {
      "cell_type": "markdown",
      "source": [
        "###defining input function, creating classifier, training classifer"
      ],
      "metadata": {
        "id": "jpLkBOhyHbyF"
      }
    },
    {
      "cell_type": "code",
      "source": [
        "def input_fn(features, labels, training=True, batch_size=344):\n",
        "    # Convert the inputs to a Dataset.\n",
        "    dataset = tf.data.Dataset.from_tensor_slices((dict(features), labels))\n",
        "    # Shuffle and repeat if you are in training mode.\n",
        "    if training:\n",
        "        dataset = dataset.shuffle(1000).repeat()\n",
        "    return dataset.batch(batch_size)"
      ],
      "metadata": {
        "id": "nAy0f7flHbyG"
      },
      "execution_count": null,
      "outputs": []
    },
    {
      "cell_type": "code",
      "source": [
        "# creating a tensorflow Feature column list\n",
        "my_feature_columns = []\n",
        "for key in train_features_under.keys():\n",
        "    my_feature_columns.append(tf.feature_column.numeric_column(key=key))\n",
        "my_feature_columns"
      ],
      "metadata": {
        "colab": {
          "base_uri": "https://localhost:8080/"
        },
        "outputId": "2a2c79b2-6308-4564-daaa-243b9b89bd4c",
        "id": "s9I8xqQ4HbyG"
      },
      "execution_count": null,
      "outputs": [
        {
          "output_type": "execute_result",
          "data": {
            "text/plain": [
              "[NumericColumn(key='Speed_limit', shape=(1,), default_value=None, dtype=tf.float32, normalizer_fn=None)]"
            ]
          },
          "metadata": {},
          "execution_count": 153
        }
      ]
    },
    {
      "cell_type": "code",
      "source": [
        "# Build a DNN with 2 hidden layers with 30 and 10 hidden nodes each.\n",
        "classifier = tf.estimator.DNNClassifier(\n",
        "    feature_columns=my_feature_columns,\n",
        "    # Two hidden layers of 30 and 10 nodes respectively.\n",
        "    hidden_units=[30, 10],\n",
        "    # The model must choose between 2 classes.\n",
        "    n_classes=2)"
      ],
      "metadata": {
        "colab": {
          "base_uri": "https://localhost:8080/"
        },
        "outputId": "59647acb-ec8c-48d7-8b34-06af6ec1686d",
        "id": "2dzfSJjfHbyG"
      },
      "execution_count": null,
      "outputs": [
        {
          "output_type": "stream",
          "name": "stdout",
          "text": [
            "INFO:tensorflow:Using default config.\n",
            "WARNING:tensorflow:Using temporary folder as model directory: /tmp/tmpifot2p3s\n",
            "INFO:tensorflow:Using config: {'_model_dir': '/tmp/tmpifot2p3s', '_tf_random_seed': None, '_save_summary_steps': 100, '_save_checkpoints_steps': None, '_save_checkpoints_secs': 600, '_session_config': allow_soft_placement: true\n",
            "graph_options {\n",
            "  rewrite_options {\n",
            "    meta_optimizer_iterations: ONE\n",
            "  }\n",
            "}\n",
            ", '_keep_checkpoint_max': 5, '_keep_checkpoint_every_n_hours': 10000, '_log_step_count_steps': 100, '_train_distribute': None, '_device_fn': None, '_protocol': None, '_eval_distribute': None, '_experimental_distribute': None, '_experimental_max_worker_delay_secs': None, '_session_creation_timeout_secs': 7200, '_checkpoint_save_graph_def': True, '_service': None, '_cluster_spec': ClusterSpec({}), '_task_type': 'worker', '_task_id': 0, '_global_id_in_cluster': 0, '_master': '', '_evaluation_master': '', '_is_chief': True, '_num_ps_replicas': 0, '_num_worker_replicas': 1}\n"
          ]
        }
      ]
    },
    {
      "cell_type": "code",
      "source": [
        "classifier.train(input_fn=lambda: input_fn(train_features_under, train_label_under, training=True),steps=10000)\n",
        "# We include a lambda to avoid creating an inner function "
      ],
      "metadata": {
        "colab": {
          "base_uri": "https://localhost:8080/"
        },
        "outputId": "7e37b2cf-36df-422a-d6cd-b8f380d3d519",
        "id": "Q23QEg9uHbyH"
      },
      "execution_count": null,
      "outputs": [
        {
          "output_type": "stream",
          "name": "stdout",
          "text": [
            "INFO:tensorflow:Calling model_fn.\n",
            "INFO:tensorflow:Done calling model_fn.\n",
            "INFO:tensorflow:Create CheckpointSaverHook.\n",
            "INFO:tensorflow:Graph was finalized.\n",
            "INFO:tensorflow:Running local_init_op.\n",
            "INFO:tensorflow:Done running local_init_op.\n",
            "INFO:tensorflow:Calling checkpoint listeners before saving checkpoint 0...\n",
            "INFO:tensorflow:Saving checkpoints for 0 into /tmp/tmpifot2p3s/model.ckpt.\n",
            "INFO:tensorflow:Calling checkpoint listeners after saving checkpoint 0...\n",
            "INFO:tensorflow:loss = 1.459595, step = 0\n",
            "INFO:tensorflow:global_step/sec: 344.895\n",
            "INFO:tensorflow:loss = 0.6790743, step = 100 (0.298 sec)\n",
            "INFO:tensorflow:global_step/sec: 450.191\n",
            "INFO:tensorflow:loss = 0.68302155, step = 200 (0.220 sec)\n",
            "INFO:tensorflow:global_step/sec: 433.884\n",
            "INFO:tensorflow:loss = 0.6797348, step = 300 (0.227 sec)\n",
            "INFO:tensorflow:global_step/sec: 470.087\n",
            "INFO:tensorflow:loss = 0.68601114, step = 400 (0.215 sec)\n",
            "INFO:tensorflow:global_step/sec: 466.079\n",
            "INFO:tensorflow:loss = 0.67776775, step = 500 (0.212 sec)\n",
            "INFO:tensorflow:global_step/sec: 462.728\n",
            "INFO:tensorflow:loss = 0.6818575, step = 600 (0.216 sec)\n",
            "INFO:tensorflow:global_step/sec: 449.248\n",
            "INFO:tensorflow:loss = 0.6836216, step = 700 (0.225 sec)\n",
            "INFO:tensorflow:global_step/sec: 431.251\n",
            "INFO:tensorflow:loss = 0.6770809, step = 800 (0.233 sec)\n",
            "INFO:tensorflow:global_step/sec: 456.234\n",
            "INFO:tensorflow:loss = 0.67734855, step = 900 (0.218 sec)\n",
            "INFO:tensorflow:global_step/sec: 482.65\n",
            "INFO:tensorflow:loss = 0.69302934, step = 1000 (0.209 sec)\n",
            "INFO:tensorflow:global_step/sec: 454.575\n",
            "INFO:tensorflow:loss = 0.6803747, step = 1100 (0.216 sec)\n",
            "INFO:tensorflow:global_step/sec: 420.15\n",
            "INFO:tensorflow:loss = 0.6777785, step = 1200 (0.241 sec)\n",
            "INFO:tensorflow:global_step/sec: 458.231\n",
            "INFO:tensorflow:loss = 0.68313116, step = 1300 (0.218 sec)\n",
            "INFO:tensorflow:global_step/sec: 449.802\n",
            "INFO:tensorflow:loss = 0.6856655, step = 1400 (0.220 sec)\n",
            "INFO:tensorflow:global_step/sec: 447.328\n",
            "INFO:tensorflow:loss = 0.67634434, step = 1500 (0.226 sec)\n",
            "INFO:tensorflow:global_step/sec: 474.569\n",
            "INFO:tensorflow:loss = 0.6856818, step = 1600 (0.210 sec)\n",
            "INFO:tensorflow:global_step/sec: 425.978\n",
            "INFO:tensorflow:loss = 0.68102664, step = 1700 (0.239 sec)\n",
            "INFO:tensorflow:global_step/sec: 450.334\n",
            "INFO:tensorflow:loss = 0.6832223, step = 1800 (0.218 sec)\n",
            "INFO:tensorflow:global_step/sec: 476.803\n",
            "INFO:tensorflow:loss = 0.6811007, step = 1900 (0.210 sec)\n",
            "INFO:tensorflow:global_step/sec: 434.789\n",
            "INFO:tensorflow:loss = 0.6797632, step = 2000 (0.230 sec)\n",
            "INFO:tensorflow:global_step/sec: 443.94\n",
            "INFO:tensorflow:loss = 0.66889024, step = 2100 (0.225 sec)\n",
            "INFO:tensorflow:global_step/sec: 446.332\n",
            "INFO:tensorflow:loss = 0.68251616, step = 2200 (0.223 sec)\n",
            "INFO:tensorflow:global_step/sec: 435.767\n",
            "INFO:tensorflow:loss = 0.6851395, step = 2300 (0.229 sec)\n",
            "INFO:tensorflow:global_step/sec: 438.161\n",
            "INFO:tensorflow:loss = 0.6772177, step = 2400 (0.229 sec)\n",
            "INFO:tensorflow:global_step/sec: 470.106\n",
            "INFO:tensorflow:loss = 0.667693, step = 2500 (0.214 sec)\n",
            "INFO:tensorflow:global_step/sec: 419.931\n",
            "INFO:tensorflow:loss = 0.67010593, step = 2600 (0.233 sec)\n",
            "INFO:tensorflow:global_step/sec: 477.833\n",
            "INFO:tensorflow:loss = 0.67372066, step = 2700 (0.212 sec)\n",
            "INFO:tensorflow:global_step/sec: 450.336\n",
            "INFO:tensorflow:loss = 0.68118674, step = 2800 (0.222 sec)\n",
            "INFO:tensorflow:global_step/sec: 453.573\n",
            "INFO:tensorflow:loss = 0.6720123, step = 2900 (0.221 sec)\n",
            "INFO:tensorflow:global_step/sec: 446.47\n",
            "INFO:tensorflow:loss = 0.67416614, step = 3000 (0.226 sec)\n",
            "INFO:tensorflow:global_step/sec: 414.664\n",
            "INFO:tensorflow:loss = 0.6832199, step = 3100 (0.239 sec)\n",
            "INFO:tensorflow:global_step/sec: 452.642\n",
            "INFO:tensorflow:loss = 0.6703381, step = 3200 (0.222 sec)\n",
            "INFO:tensorflow:global_step/sec: 435.09\n",
            "INFO:tensorflow:loss = 0.6691297, step = 3300 (0.229 sec)\n",
            "INFO:tensorflow:global_step/sec: 456.245\n",
            "INFO:tensorflow:loss = 0.6685397, step = 3400 (0.217 sec)\n",
            "INFO:tensorflow:global_step/sec: 407.943\n",
            "INFO:tensorflow:loss = 0.6771329, step = 3500 (0.248 sec)\n",
            "INFO:tensorflow:global_step/sec: 439.617\n",
            "INFO:tensorflow:loss = 0.67297614, step = 3600 (0.228 sec)\n",
            "INFO:tensorflow:global_step/sec: 435.221\n",
            "INFO:tensorflow:loss = 0.66864574, step = 3700 (0.229 sec)\n",
            "INFO:tensorflow:global_step/sec: 439.623\n",
            "INFO:tensorflow:loss = 0.67319864, step = 3800 (0.225 sec)\n",
            "INFO:tensorflow:global_step/sec: 434.662\n",
            "INFO:tensorflow:loss = 0.66970783, step = 3900 (0.230 sec)\n",
            "INFO:tensorflow:global_step/sec: 462.717\n",
            "INFO:tensorflow:loss = 0.6748308, step = 4000 (0.220 sec)\n",
            "INFO:tensorflow:global_step/sec: 413.873\n",
            "INFO:tensorflow:loss = 0.6733806, step = 4100 (0.241 sec)\n",
            "INFO:tensorflow:global_step/sec: 418.874\n",
            "INFO:tensorflow:loss = 0.6678236, step = 4200 (0.239 sec)\n",
            "INFO:tensorflow:global_step/sec: 431.89\n",
            "INFO:tensorflow:loss = 0.6643265, step = 4300 (0.228 sec)\n",
            "INFO:tensorflow:global_step/sec: 413.992\n",
            "INFO:tensorflow:loss = 0.6632507, step = 4400 (0.245 sec)\n",
            "INFO:tensorflow:global_step/sec: 465.446\n",
            "INFO:tensorflow:loss = 0.66420305, step = 4500 (0.212 sec)\n",
            "INFO:tensorflow:global_step/sec: 457.889\n",
            "INFO:tensorflow:loss = 0.66249985, step = 4600 (0.222 sec)\n",
            "INFO:tensorflow:global_step/sec: 456.03\n",
            "INFO:tensorflow:loss = 0.68095505, step = 4700 (0.216 sec)\n",
            "INFO:tensorflow:global_step/sec: 427.174\n",
            "INFO:tensorflow:loss = 0.6672881, step = 4800 (0.238 sec)\n",
            "INFO:tensorflow:global_step/sec: 455.31\n",
            "INFO:tensorflow:loss = 0.6692852, step = 4900 (0.220 sec)\n",
            "INFO:tensorflow:global_step/sec: 446.758\n",
            "INFO:tensorflow:loss = 0.67577887, step = 5000 (0.223 sec)\n",
            "INFO:tensorflow:global_step/sec: 444.754\n",
            "INFO:tensorflow:loss = 0.6669256, step = 5100 (0.226 sec)\n",
            "INFO:tensorflow:global_step/sec: 443.201\n",
            "INFO:tensorflow:loss = 0.6815582, step = 5200 (0.225 sec)\n",
            "INFO:tensorflow:global_step/sec: 410.891\n",
            "INFO:tensorflow:loss = 0.66642934, step = 5300 (0.240 sec)\n",
            "INFO:tensorflow:global_step/sec: 433.848\n",
            "INFO:tensorflow:loss = 0.65950507, step = 5400 (0.234 sec)\n",
            "INFO:tensorflow:global_step/sec: 409.158\n",
            "INFO:tensorflow:loss = 0.67065996, step = 5500 (0.241 sec)\n",
            "INFO:tensorflow:global_step/sec: 417.42\n",
            "INFO:tensorflow:loss = 0.6709974, step = 5600 (0.243 sec)\n",
            "INFO:tensorflow:global_step/sec: 409.851\n",
            "INFO:tensorflow:loss = 0.6638967, step = 5700 (0.244 sec)\n",
            "INFO:tensorflow:global_step/sec: 431.485\n",
            "INFO:tensorflow:loss = 0.6599373, step = 5800 (0.231 sec)\n",
            "INFO:tensorflow:global_step/sec: 433.831\n",
            "INFO:tensorflow:loss = 0.6672342, step = 5900 (0.229 sec)\n",
            "INFO:tensorflow:global_step/sec: 430.615\n",
            "INFO:tensorflow:loss = 0.6795506, step = 6000 (0.236 sec)\n",
            "INFO:tensorflow:global_step/sec: 415.42\n",
            "INFO:tensorflow:loss = 0.66888905, step = 6100 (0.239 sec)\n",
            "INFO:tensorflow:global_step/sec: 389.776\n",
            "INFO:tensorflow:loss = 0.67506903, step = 6200 (0.261 sec)\n",
            "INFO:tensorflow:global_step/sec: 376.362\n",
            "INFO:tensorflow:loss = 0.6649028, step = 6300 (0.260 sec)\n",
            "INFO:tensorflow:global_step/sec: 395.321\n",
            "INFO:tensorflow:loss = 0.67352384, step = 6400 (0.256 sec)\n",
            "INFO:tensorflow:global_step/sec: 425.325\n",
            "INFO:tensorflow:loss = 0.67278534, step = 6500 (0.237 sec)\n",
            "INFO:tensorflow:global_step/sec: 440.502\n",
            "INFO:tensorflow:loss = 0.6658641, step = 6600 (0.222 sec)\n",
            "INFO:tensorflow:global_step/sec: 447.917\n",
            "INFO:tensorflow:loss = 0.6747118, step = 6700 (0.224 sec)\n",
            "INFO:tensorflow:global_step/sec: 431.668\n",
            "INFO:tensorflow:loss = 0.6688939, step = 6800 (0.234 sec)\n",
            "INFO:tensorflow:global_step/sec: 445.491\n",
            "INFO:tensorflow:loss = 0.68341976, step = 6900 (0.221 sec)\n",
            "INFO:tensorflow:global_step/sec: 417.939\n",
            "INFO:tensorflow:loss = 0.66688025, step = 7000 (0.243 sec)\n",
            "INFO:tensorflow:global_step/sec: 436.137\n",
            "INFO:tensorflow:loss = 0.66866827, step = 7100 (0.226 sec)\n",
            "INFO:tensorflow:global_step/sec: 431.727\n",
            "INFO:tensorflow:loss = 0.6583138, step = 7200 (0.235 sec)\n",
            "INFO:tensorflow:global_step/sec: 452.745\n",
            "INFO:tensorflow:loss = 0.6629477, step = 7300 (0.222 sec)\n",
            "INFO:tensorflow:global_step/sec: 453.546\n",
            "INFO:tensorflow:loss = 0.6769456, step = 7400 (0.217 sec)\n",
            "INFO:tensorflow:global_step/sec: 441.582\n",
            "INFO:tensorflow:loss = 0.66060424, step = 7500 (0.229 sec)\n",
            "INFO:tensorflow:global_step/sec: 438.992\n",
            "INFO:tensorflow:loss = 0.67158085, step = 7600 (0.228 sec)\n",
            "INFO:tensorflow:global_step/sec: 451.337\n",
            "INFO:tensorflow:loss = 0.66833156, step = 7700 (0.222 sec)\n",
            "INFO:tensorflow:global_step/sec: 458.35\n",
            "INFO:tensorflow:loss = 0.65968835, step = 7800 (0.217 sec)\n",
            "INFO:tensorflow:global_step/sec: 402.27\n",
            "INFO:tensorflow:loss = 0.6655294, step = 7900 (0.249 sec)\n",
            "INFO:tensorflow:global_step/sec: 432.699\n",
            "INFO:tensorflow:loss = 0.6749968, step = 8000 (0.230 sec)\n",
            "INFO:tensorflow:global_step/sec: 426.429\n",
            "INFO:tensorflow:loss = 0.6727135, step = 8100 (0.236 sec)\n",
            "INFO:tensorflow:global_step/sec: 433.682\n",
            "INFO:tensorflow:loss = 0.6694711, step = 8200 (0.230 sec)\n",
            "INFO:tensorflow:global_step/sec: 423.417\n",
            "INFO:tensorflow:loss = 0.6709431, step = 8300 (0.238 sec)\n",
            "INFO:tensorflow:global_step/sec: 442.163\n",
            "INFO:tensorflow:loss = 0.6615886, step = 8400 (0.225 sec)\n",
            "INFO:tensorflow:global_step/sec: 443.22\n",
            "INFO:tensorflow:loss = 0.6640111, step = 8500 (0.225 sec)\n",
            "INFO:tensorflow:global_step/sec: 441\n",
            "INFO:tensorflow:loss = 0.661794, step = 8600 (0.227 sec)\n",
            "INFO:tensorflow:global_step/sec: 441.278\n",
            "INFO:tensorflow:loss = 0.673855, step = 8700 (0.225 sec)\n",
            "INFO:tensorflow:global_step/sec: 436.798\n",
            "INFO:tensorflow:loss = 0.66345835, step = 8800 (0.229 sec)\n",
            "INFO:tensorflow:global_step/sec: 441.24\n",
            "INFO:tensorflow:loss = 0.65709907, step = 8900 (0.230 sec)\n",
            "INFO:tensorflow:global_step/sec: 421.753\n",
            "INFO:tensorflow:loss = 0.6683466, step = 9000 (0.233 sec)\n",
            "INFO:tensorflow:global_step/sec: 435.36\n",
            "INFO:tensorflow:loss = 0.6573704, step = 9100 (0.233 sec)\n",
            "INFO:tensorflow:global_step/sec: 437.746\n",
            "INFO:tensorflow:loss = 0.66818327, step = 9200 (0.228 sec)\n",
            "INFO:tensorflow:global_step/sec: 467.619\n",
            "INFO:tensorflow:loss = 0.6634357, step = 9300 (0.216 sec)\n",
            "INFO:tensorflow:global_step/sec: 452.362\n",
            "INFO:tensorflow:loss = 0.67160344, step = 9400 (0.218 sec)\n",
            "INFO:tensorflow:global_step/sec: 461.959\n",
            "INFO:tensorflow:loss = 0.6649279, step = 9500 (0.218 sec)\n",
            "INFO:tensorflow:global_step/sec: 455.38\n",
            "INFO:tensorflow:loss = 0.6588106, step = 9600 (0.220 sec)\n",
            "INFO:tensorflow:global_step/sec: 421.246\n",
            "INFO:tensorflow:loss = 0.6600881, step = 9700 (0.238 sec)\n",
            "INFO:tensorflow:global_step/sec: 448.069\n",
            "INFO:tensorflow:loss = 0.6558015, step = 9800 (0.222 sec)\n",
            "INFO:tensorflow:global_step/sec: 439.928\n",
            "INFO:tensorflow:loss = 0.6685622, step = 9900 (0.226 sec)\n",
            "INFO:tensorflow:Calling checkpoint listeners before saving checkpoint 10000...\n",
            "INFO:tensorflow:Saving checkpoints for 10000 into /tmp/tmpifot2p3s/model.ckpt.\n",
            "INFO:tensorflow:Calling checkpoint listeners after saving checkpoint 10000...\n",
            "INFO:tensorflow:Loss for final step: 0.6592292.\n"
          ]
        },
        {
          "output_type": "execute_result",
          "data": {
            "text/plain": [
              "<tensorflow_estimator.python.estimator.canned.dnn.DNNClassifierV2 at 0x7f94caac0e10>"
            ]
          },
          "metadata": {},
          "execution_count": 155
        }
      ]
    },
    {
      "cell_type": "markdown",
      "source": [
        "###Evaluating Classifier"
      ],
      "metadata": {
        "id": "W7s-pDCpHbyH"
      }
    },
    {
      "cell_type": "code",
      "source": [
        "#determine the accurracy of th classifier\n",
        "eval_result = classifier.evaluate(\n",
        "    input_fn=lambda: input_fn(test_features_under, test_label_under, training=False))\n",
        "print('\\nTest set accuracy: {accuracy:0.3f}\\n'.format(**eval_result))"
      ],
      "metadata": {
        "colab": {
          "base_uri": "https://localhost:8080/"
        },
        "outputId": "141bc53d-7522-412d-d5ea-eef70a6f4a07",
        "id": "xa-kCaFzHbyH"
      },
      "execution_count": null,
      "outputs": [
        {
          "output_type": "stream",
          "name": "stdout",
          "text": [
            "INFO:tensorflow:Calling model_fn.\n",
            "INFO:tensorflow:Done calling model_fn.\n",
            "INFO:tensorflow:Starting evaluation at 2022-04-03T20:55:51\n",
            "INFO:tensorflow:Graph was finalized.\n",
            "INFO:tensorflow:Restoring parameters from /tmp/tmpifot2p3s/model.ckpt-10000\n",
            "INFO:tensorflow:Running local_init_op.\n",
            "INFO:tensorflow:Done running local_init_op.\n",
            "INFO:tensorflow:Inference Time : 0.67010s\n",
            "INFO:tensorflow:Finished evaluation at 2022-04-03-20:55:52\n",
            "INFO:tensorflow:Saving dict for global step 10000: accuracy = 0.66284025, accuracy_baseline = 0.50108707, auc = 0.6736135, auc_precision_recall = 0.64047086, average_loss = 0.6624384, global_step = 10000, label/mean = 0.50108707, loss = 0.6624635, precision = 0.66292137, prediction/mean = 0.53411937, recall = 0.6655675\n",
            "INFO:tensorflow:Saving 'checkpoint_path' summary for global step 10000: /tmp/tmpifot2p3s/model.ckpt-10000\n",
            "\n",
            "Test set accuracy: 0.663\n",
            "\n"
          ]
        }
      ]
    },
    {
      "cell_type": "code",
      "source": [
        "#create predictions list for all test set\n",
        "predictions_under = list(classifier.predict(input_fn=lambda: input_fn(test_features_under, test_label_under, training=False)))"
      ],
      "metadata": {
        "outputId": "6217b288-ec2c-4121-ae21-ddd324738532",
        "colab": {
          "base_uri": "https://localhost:8080/"
        },
        "id": "6WkvsbaDHbyJ"
      },
      "execution_count": null,
      "outputs": [
        {
          "output_type": "stream",
          "name": "stdout",
          "text": [
            "INFO:tensorflow:Calling model_fn.\n",
            "INFO:tensorflow:Done calling model_fn.\n",
            "INFO:tensorflow:Graph was finalized.\n",
            "INFO:tensorflow:Restoring parameters from /tmp/tmpifot2p3s/model.ckpt-10000\n",
            "INFO:tensorflow:Running local_init_op.\n",
            "INFO:tensorflow:Done running local_init_op.\n"
          ]
        }
      ]
    },
    {
      "cell_type": "code",
      "source": [
        "#create a dataframe of predictions for test set\n",
        "df_predictions = pd.DataFrame(predictions_under)"
      ],
      "metadata": {
        "id": "EKFusTAYHbyO"
      },
      "execution_count": null,
      "outputs": []
    },
    {
      "cell_type": "markdown",
      "source": [
        "###Plot of Results"
      ],
      "metadata": {
        "id": "bM5TCLfiHbyO"
      }
    },
    {
      "cell_type": "code",
      "source": [
        "#add the actual matches to the prediciton dataframe\n",
        "df_predictions['actual label']=test_label_under.values"
      ],
      "metadata": {
        "id": "q1KC-3h9HbyP"
      },
      "execution_count": null,
      "outputs": []
    },
    {
      "cell_type": "code",
      "source": [
        "#add the class predicitons from the DNN to the dataframe\n",
        "df_predictions['predicted label']=pd.DataFrame.from_records(df_predictions['class_ids'])"
      ],
      "metadata": {
        "id": "F2wDdrnBHbyP"
      },
      "execution_count": null,
      "outputs": []
    },
    {
      "cell_type": "code",
      "source": [
        "#add a binary column to show if the dnn predictions were correct\n",
        "df_predictions['match?']=df_predictions['predicted label']-df_predictions['actual label']\n",
        "df_predictions['match?']=df_predictions['match?'].replace(0,'match')\n",
        "df_predictions['match?']=df_predictions['match?'].replace(-1,'not match')\n",
        "df_predictions['match?']=df_predictions['match?'].replace(1,'not match')"
      ],
      "metadata": {
        "id": "20ZCeoNFHbyP"
      },
      "execution_count": null,
      "outputs": []
    },
    {
      "cell_type": "code",
      "source": [
        "#view the prdictions dataframe\n",
        "a=df_predictions[df_predictions['predicted label']==0]\n",
        "a[a['actual label']==1]"
      ],
      "metadata": {
        "colab": {
          "base_uri": "https://localhost:8080/",
          "height": 424
        },
        "outputId": "1d771b11-e7cf-467a-8b23-78991c733974",
        "id": "0RWUaLPRHbyQ"
      },
      "execution_count": null,
      "outputs": [
        {
          "output_type": "execute_result",
          "data": {
            "text/plain": [
              "               logits      logistic            probabilities class_ids  \\\n",
              "0      [-0.087412536]  [0.47816077]  [0.52183926, 0.4781608]       [0]   \n",
              "7      [-0.087412536]  [0.47816077]  [0.52183926, 0.4781608]       [0]   \n",
              "9      [-0.087412536]  [0.47816077]  [0.52183926, 0.4781608]       [0]   \n",
              "11     [-0.087412536]  [0.47816077]  [0.52183926, 0.4781608]       [0]   \n",
              "13     [-0.087412536]  [0.47816077]  [0.52183926, 0.4781608]       [0]   \n",
              "...               ...           ...                      ...       ...   \n",
              "11428  [-0.087412536]  [0.47816077]  [0.52183926, 0.4781608]       [0]   \n",
              "11438  [-0.087412536]  [0.47816077]  [0.52183926, 0.4781608]       [0]   \n",
              "11468  [-0.087412536]  [0.47816077]  [0.52183926, 0.4781608]       [0]   \n",
              "11486  [-0.087412536]  [0.47816077]  [0.52183926, 0.4781608]       [0]   \n",
              "11492  [-0.087412536]  [0.47816077]  [0.52183926, 0.4781608]       [0]   \n",
              "\n",
              "      classes all_class_ids   all_classes  actual label  predicted label  \\\n",
              "0      [b'0']        [0, 1]  [b'0', b'1']             1                0   \n",
              "7      [b'0']        [0, 1]  [b'0', b'1']             1                0   \n",
              "9      [b'0']        [0, 1]  [b'0', b'1']             1                0   \n",
              "11     [b'0']        [0, 1]  [b'0', b'1']             1                0   \n",
              "13     [b'0']        [0, 1]  [b'0', b'1']             1                0   \n",
              "...       ...           ...           ...           ...              ...   \n",
              "11428  [b'0']        [0, 1]  [b'0', b'1']             1                0   \n",
              "11438  [b'0']        [0, 1]  [b'0', b'1']             1                0   \n",
              "11468  [b'0']        [0, 1]  [b'0', b'1']             1                0   \n",
              "11486  [b'0']        [0, 1]  [b'0', b'1']             1                0   \n",
              "11492  [b'0']        [0, 1]  [b'0', b'1']             1                0   \n",
              "\n",
              "          match?  prob fatal  prob non-fatal  \n",
              "0      not match    0.478161        0.521839  \n",
              "7      not match    0.478161        0.521839  \n",
              "9      not match    0.478161        0.521839  \n",
              "11     not match    0.478161        0.521839  \n",
              "13     not match    0.478161        0.521839  \n",
              "...          ...         ...             ...  \n",
              "11428  not match    0.478161        0.521839  \n",
              "11438  not match    0.478161        0.521839  \n",
              "11468  not match    0.478161        0.521839  \n",
              "11486  not match    0.478161        0.521839  \n",
              "11492  not match    0.478161        0.521839  \n",
              "\n",
              "[1927 rows x 12 columns]"
            ],
            "text/html": [
              "\n",
              "  <div id=\"df-f6ad23aa-c64b-4011-8bd5-3b67dd0c611a\">\n",
              "    <div class=\"colab-df-container\">\n",
              "      <div>\n",
              "<style scoped>\n",
              "    .dataframe tbody tr th:only-of-type {\n",
              "        vertical-align: middle;\n",
              "    }\n",
              "\n",
              "    .dataframe tbody tr th {\n",
              "        vertical-align: top;\n",
              "    }\n",
              "\n",
              "    .dataframe thead th {\n",
              "        text-align: right;\n",
              "    }\n",
              "</style>\n",
              "<table border=\"1\" class=\"dataframe\">\n",
              "  <thead>\n",
              "    <tr style=\"text-align: right;\">\n",
              "      <th></th>\n",
              "      <th>logits</th>\n",
              "      <th>logistic</th>\n",
              "      <th>probabilities</th>\n",
              "      <th>class_ids</th>\n",
              "      <th>classes</th>\n",
              "      <th>all_class_ids</th>\n",
              "      <th>all_classes</th>\n",
              "      <th>actual label</th>\n",
              "      <th>predicted label</th>\n",
              "      <th>match?</th>\n",
              "      <th>prob fatal</th>\n",
              "      <th>prob non-fatal</th>\n",
              "    </tr>\n",
              "  </thead>\n",
              "  <tbody>\n",
              "    <tr>\n",
              "      <th>0</th>\n",
              "      <td>[-0.087412536]</td>\n",
              "      <td>[0.47816077]</td>\n",
              "      <td>[0.52183926, 0.4781608]</td>\n",
              "      <td>[0]</td>\n",
              "      <td>[b'0']</td>\n",
              "      <td>[0, 1]</td>\n",
              "      <td>[b'0', b'1']</td>\n",
              "      <td>1</td>\n",
              "      <td>0</td>\n",
              "      <td>not match</td>\n",
              "      <td>0.478161</td>\n",
              "      <td>0.521839</td>\n",
              "    </tr>\n",
              "    <tr>\n",
              "      <th>7</th>\n",
              "      <td>[-0.087412536]</td>\n",
              "      <td>[0.47816077]</td>\n",
              "      <td>[0.52183926, 0.4781608]</td>\n",
              "      <td>[0]</td>\n",
              "      <td>[b'0']</td>\n",
              "      <td>[0, 1]</td>\n",
              "      <td>[b'0', b'1']</td>\n",
              "      <td>1</td>\n",
              "      <td>0</td>\n",
              "      <td>not match</td>\n",
              "      <td>0.478161</td>\n",
              "      <td>0.521839</td>\n",
              "    </tr>\n",
              "    <tr>\n",
              "      <th>9</th>\n",
              "      <td>[-0.087412536]</td>\n",
              "      <td>[0.47816077]</td>\n",
              "      <td>[0.52183926, 0.4781608]</td>\n",
              "      <td>[0]</td>\n",
              "      <td>[b'0']</td>\n",
              "      <td>[0, 1]</td>\n",
              "      <td>[b'0', b'1']</td>\n",
              "      <td>1</td>\n",
              "      <td>0</td>\n",
              "      <td>not match</td>\n",
              "      <td>0.478161</td>\n",
              "      <td>0.521839</td>\n",
              "    </tr>\n",
              "    <tr>\n",
              "      <th>11</th>\n",
              "      <td>[-0.087412536]</td>\n",
              "      <td>[0.47816077]</td>\n",
              "      <td>[0.52183926, 0.4781608]</td>\n",
              "      <td>[0]</td>\n",
              "      <td>[b'0']</td>\n",
              "      <td>[0, 1]</td>\n",
              "      <td>[b'0', b'1']</td>\n",
              "      <td>1</td>\n",
              "      <td>0</td>\n",
              "      <td>not match</td>\n",
              "      <td>0.478161</td>\n",
              "      <td>0.521839</td>\n",
              "    </tr>\n",
              "    <tr>\n",
              "      <th>13</th>\n",
              "      <td>[-0.087412536]</td>\n",
              "      <td>[0.47816077]</td>\n",
              "      <td>[0.52183926, 0.4781608]</td>\n",
              "      <td>[0]</td>\n",
              "      <td>[b'0']</td>\n",
              "      <td>[0, 1]</td>\n",
              "      <td>[b'0', b'1']</td>\n",
              "      <td>1</td>\n",
              "      <td>0</td>\n",
              "      <td>not match</td>\n",
              "      <td>0.478161</td>\n",
              "      <td>0.521839</td>\n",
              "    </tr>\n",
              "    <tr>\n",
              "      <th>...</th>\n",
              "      <td>...</td>\n",
              "      <td>...</td>\n",
              "      <td>...</td>\n",
              "      <td>...</td>\n",
              "      <td>...</td>\n",
              "      <td>...</td>\n",
              "      <td>...</td>\n",
              "      <td>...</td>\n",
              "      <td>...</td>\n",
              "      <td>...</td>\n",
              "      <td>...</td>\n",
              "      <td>...</td>\n",
              "    </tr>\n",
              "    <tr>\n",
              "      <th>11428</th>\n",
              "      <td>[-0.087412536]</td>\n",
              "      <td>[0.47816077]</td>\n",
              "      <td>[0.52183926, 0.4781608]</td>\n",
              "      <td>[0]</td>\n",
              "      <td>[b'0']</td>\n",
              "      <td>[0, 1]</td>\n",
              "      <td>[b'0', b'1']</td>\n",
              "      <td>1</td>\n",
              "      <td>0</td>\n",
              "      <td>not match</td>\n",
              "      <td>0.478161</td>\n",
              "      <td>0.521839</td>\n",
              "    </tr>\n",
              "    <tr>\n",
              "      <th>11438</th>\n",
              "      <td>[-0.087412536]</td>\n",
              "      <td>[0.47816077]</td>\n",
              "      <td>[0.52183926, 0.4781608]</td>\n",
              "      <td>[0]</td>\n",
              "      <td>[b'0']</td>\n",
              "      <td>[0, 1]</td>\n",
              "      <td>[b'0', b'1']</td>\n",
              "      <td>1</td>\n",
              "      <td>0</td>\n",
              "      <td>not match</td>\n",
              "      <td>0.478161</td>\n",
              "      <td>0.521839</td>\n",
              "    </tr>\n",
              "    <tr>\n",
              "      <th>11468</th>\n",
              "      <td>[-0.087412536]</td>\n",
              "      <td>[0.47816077]</td>\n",
              "      <td>[0.52183926, 0.4781608]</td>\n",
              "      <td>[0]</td>\n",
              "      <td>[b'0']</td>\n",
              "      <td>[0, 1]</td>\n",
              "      <td>[b'0', b'1']</td>\n",
              "      <td>1</td>\n",
              "      <td>0</td>\n",
              "      <td>not match</td>\n",
              "      <td>0.478161</td>\n",
              "      <td>0.521839</td>\n",
              "    </tr>\n",
              "    <tr>\n",
              "      <th>11486</th>\n",
              "      <td>[-0.087412536]</td>\n",
              "      <td>[0.47816077]</td>\n",
              "      <td>[0.52183926, 0.4781608]</td>\n",
              "      <td>[0]</td>\n",
              "      <td>[b'0']</td>\n",
              "      <td>[0, 1]</td>\n",
              "      <td>[b'0', b'1']</td>\n",
              "      <td>1</td>\n",
              "      <td>0</td>\n",
              "      <td>not match</td>\n",
              "      <td>0.478161</td>\n",
              "      <td>0.521839</td>\n",
              "    </tr>\n",
              "    <tr>\n",
              "      <th>11492</th>\n",
              "      <td>[-0.087412536]</td>\n",
              "      <td>[0.47816077]</td>\n",
              "      <td>[0.52183926, 0.4781608]</td>\n",
              "      <td>[0]</td>\n",
              "      <td>[b'0']</td>\n",
              "      <td>[0, 1]</td>\n",
              "      <td>[b'0', b'1']</td>\n",
              "      <td>1</td>\n",
              "      <td>0</td>\n",
              "      <td>not match</td>\n",
              "      <td>0.478161</td>\n",
              "      <td>0.521839</td>\n",
              "    </tr>\n",
              "  </tbody>\n",
              "</table>\n",
              "<p>1927 rows × 12 columns</p>\n",
              "</div>\n",
              "      <button class=\"colab-df-convert\" onclick=\"convertToInteractive('df-f6ad23aa-c64b-4011-8bd5-3b67dd0c611a')\"\n",
              "              title=\"Convert this dataframe to an interactive table.\"\n",
              "              style=\"display:none;\">\n",
              "        \n",
              "  <svg xmlns=\"http://www.w3.org/2000/svg\" height=\"24px\"viewBox=\"0 0 24 24\"\n",
              "       width=\"24px\">\n",
              "    <path d=\"M0 0h24v24H0V0z\" fill=\"none\"/>\n",
              "    <path d=\"M18.56 5.44l.94 2.06.94-2.06 2.06-.94-2.06-.94-.94-2.06-.94 2.06-2.06.94zm-11 1L8.5 8.5l.94-2.06 2.06-.94-2.06-.94L8.5 2.5l-.94 2.06-2.06.94zm10 10l.94 2.06.94-2.06 2.06-.94-2.06-.94-.94-2.06-.94 2.06-2.06.94z\"/><path d=\"M17.41 7.96l-1.37-1.37c-.4-.4-.92-.59-1.43-.59-.52 0-1.04.2-1.43.59L10.3 9.45l-7.72 7.72c-.78.78-.78 2.05 0 2.83L4 21.41c.39.39.9.59 1.41.59.51 0 1.02-.2 1.41-.59l7.78-7.78 2.81-2.81c.8-.78.8-2.07 0-2.86zM5.41 20L4 18.59l7.72-7.72 1.47 1.35L5.41 20z\"/>\n",
              "  </svg>\n",
              "      </button>\n",
              "      \n",
              "  <style>\n",
              "    .colab-df-container {\n",
              "      display:flex;\n",
              "      flex-wrap:wrap;\n",
              "      gap: 12px;\n",
              "    }\n",
              "\n",
              "    .colab-df-convert {\n",
              "      background-color: #E8F0FE;\n",
              "      border: none;\n",
              "      border-radius: 50%;\n",
              "      cursor: pointer;\n",
              "      display: none;\n",
              "      fill: #1967D2;\n",
              "      height: 32px;\n",
              "      padding: 0 0 0 0;\n",
              "      width: 32px;\n",
              "    }\n",
              "\n",
              "    .colab-df-convert:hover {\n",
              "      background-color: #E2EBFA;\n",
              "      box-shadow: 0px 1px 2px rgba(60, 64, 67, 0.3), 0px 1px 3px 1px rgba(60, 64, 67, 0.15);\n",
              "      fill: #174EA6;\n",
              "    }\n",
              "\n",
              "    [theme=dark] .colab-df-convert {\n",
              "      background-color: #3B4455;\n",
              "      fill: #D2E3FC;\n",
              "    }\n",
              "\n",
              "    [theme=dark] .colab-df-convert:hover {\n",
              "      background-color: #434B5C;\n",
              "      box-shadow: 0px 1px 3px 1px rgba(0, 0, 0, 0.15);\n",
              "      filter: drop-shadow(0px 1px 2px rgba(0, 0, 0, 0.3));\n",
              "      fill: #FFFFFF;\n",
              "    }\n",
              "  </style>\n",
              "\n",
              "      <script>\n",
              "        const buttonEl =\n",
              "          document.querySelector('#df-f6ad23aa-c64b-4011-8bd5-3b67dd0c611a button.colab-df-convert');\n",
              "        buttonEl.style.display =\n",
              "          google.colab.kernel.accessAllowed ? 'block' : 'none';\n",
              "\n",
              "        async function convertToInteractive(key) {\n",
              "          const element = document.querySelector('#df-f6ad23aa-c64b-4011-8bd5-3b67dd0c611a');\n",
              "          const dataTable =\n",
              "            await google.colab.kernel.invokeFunction('convertToInteractive',\n",
              "                                                     [key], {});\n",
              "          if (!dataTable) return;\n",
              "\n",
              "          const docLinkHtml = 'Like what you see? Visit the ' +\n",
              "            '<a target=\"_blank\" href=https://colab.research.google.com/notebooks/data_table.ipynb>data table notebook</a>'\n",
              "            + ' to learn more about interactive tables.';\n",
              "          element.innerHTML = '';\n",
              "          dataTable['output_type'] = 'display_data';\n",
              "          await google.colab.output.renderOutput(dataTable, element);\n",
              "          const docLink = document.createElement('div');\n",
              "          docLink.innerHTML = docLinkHtml;\n",
              "          element.appendChild(docLink);\n",
              "        }\n",
              "      </script>\n",
              "    </div>\n",
              "  </div>\n",
              "  "
            ]
          },
          "metadata": {},
          "execution_count": 173
        }
      ]
    },
    {
      "cell_type": "code",
      "source": [
        "#create a new dataframe showing only the correct predictions\n",
        "correct_predictions = df_predictions[df_predictions['match?']=='match']\n",
        "#get the count of the correct predctions for eah label\n",
        "correct_pred_count_label_0 , correct_pred_count_label_1 = correct_predictions['predicted label'].value_counts()\n",
        "#get the actual label count for each label\n",
        "actual_count_label_0 , actual_count_label_1 = df_predictions['actual label'].value_counts()"
      ],
      "metadata": {
        "id": "O3UnEfHsHbyQ"
      },
      "execution_count": null,
      "outputs": []
    },
    {
      "cell_type": "code",
      "source": [
        "#get the accuracy of each labels predictions\n",
        "accuracy_label_0,accuracy_label_1 = correct_pred_count_label_0/actual_count_label_0 , correct_pred_count_label_1/actual_count_label_1\n",
        "accuracy=accuracy_label_0*100,accuracy_label_1*100\n",
        "accuracy=pd.Series(accuracy)\n",
        "print('Accuracy of label 0 (non-fatal): ', accuracy_label_0, '\\nAccuracy of label 1 (fatal): ', accuracy_label_1)"
      ],
      "metadata": {
        "colab": {
          "base_uri": "https://localhost:8080/"
        },
        "outputId": "1b6d2cff-f965-45e7-c20c-b58451b77ba7",
        "id": "qQwKm1oIHbyQ"
      },
      "execution_count": null,
      "outputs": [
        {
          "output_type": "stream",
          "name": "stdout",
          "text": [
            "Accuracy of label 0 (non-fatal):  0.6655675112808053 \n",
            "Accuracy of label 1 (fatal):  0.6601010981349137\n"
          ]
        }
      ]
    },
    {
      "cell_type": "code",
      "source": [
        "#plot the accuracy of each labels predictions\n",
        "fig, axes = plt.subplots(figsize=(18, 10))\n",
        "accuracy.plot(kind='barh')\n",
        "plt.yticks((0,1), ('non-Fatal accident', 'Fatal accident'))\n",
        "plt.xticks((0,10,20,30,40,50,60), ('0%', '10%','20%','30%','40%','50%','60%'))\n",
        "plt.xlabel('prectange accuracy')\n",
        "plt.title('percentage accuracy for each class/label')"
      ],
      "metadata": {
        "colab": {
          "base_uri": "https://localhost:8080/",
          "height": 639
        },
        "outputId": "3593bfd7-6251-4523-a2c7-235ee4426b68",
        "id": "xRT8M9UMHbyQ"
      },
      "execution_count": null,
      "outputs": [
        {
          "output_type": "execute_result",
          "data": {
            "text/plain": [
              "Text(0.5, 1.0, 'percentage accuracy for each class/label')"
            ]
          },
          "metadata": {},
          "execution_count": 165
        },
        {
          "output_type": "display_data",
          "data": {
            "text/plain": [
              "<Figure size 1296x720 with 1 Axes>"
            ],
            "image/png": "[encoded data removed]"
          },
          "metadata": {
            "needs_background": "light"
          }
        }
      ]
    },
    {
      "cell_type": "markdown",
      "source": [
        "#Iteration 7 - 'Speed_limit', 'district'"
      ],
      "metadata": {
        "id": "9Hn6odfsJfgs"
      }
    },
    {
      "cell_type": "markdown",
      "source": [
        "##Features"
      ],
      "metadata": {
        "id": "G9SinMkZJfgt"
      }
    },
    {
      "cell_type": "markdown",
      "source": [
        "###Seleceting Features, checking correlation between them, cleaning missing data"
      ],
      "metadata": {
        "id": "3msLMORXJfgu"
      }
    },
    {
      "cell_type": "code",
      "source": [
        "df_features = df[['Speed_limit', 'Local_Authority_(District)','Accident_Severity']]\n",
        "df_features = df_features.rename(columns={'Local_Authority_(District)':'district'})"
      ],
      "metadata": {
        "id": "2kw6ecx8Jfgu"
      },
      "execution_count": null,
      "outputs": []
    },
    {
      "cell_type": "code",
      "source": [
        "#checking correlation between features\n",
        "df_features.corr()\n",
        "sns.heatmap(df_features.corr())"
      ],
      "metadata": {
        "colab": {
          "base_uri": "https://localhost:8080/",
          "height": 288
        },
        "outputId": "3a3bfc10-b963-4235-f7c3-9e590b18bad8",
        "id": "nl3fLZ5YJfgv"
      },
      "execution_count": null,
      "outputs": [
        {
          "output_type": "execute_result",
          "data": {
            "text/plain": [
              "<matplotlib.axes._subplots.AxesSubplot at 0x7f2208689a50>"
            ]
          },
          "metadata": {},
          "execution_count": 570
        },
        {
          "output_type": "display_data",
          "data": {
            "text/plain": [
              "<Figure size 432x288 with 2 Axes>"
            ],
            "image/png": "[encoded data removed]"
          },
          "metadata": {
            "needs_background": "light"
          }
        }
      ]
    },
    {
      "cell_type": "code",
      "source": [
        "#checking which values have missing data, note missing data is recorded as -1\n",
        "df_features.min()"
      ],
      "metadata": {
        "colab": {
          "base_uri": "https://localhost:8080/"
        },
        "outputId": "b42b74b5-c973-413e-9ac9-f8a977dd7f2d",
        "id": "hThH9xffJfgw"
      },
      "execution_count": null,
      "outputs": [
        {
          "output_type": "execute_result",
          "data": {
            "text/plain": [
              "Speed_limit          0\n",
              "district             1\n",
              "Accident_Severity    1\n",
              "dtype: int64"
            ]
          },
          "metadata": {},
          "execution_count": 571
        }
      ]
    },
    {
      "cell_type": "code",
      "source": [
        "#there are 161 accident that do not have recorded weather conditions, will drop these\n",
        "#df_features['Weather_Conditions'][df_features['Weather_Conditions']==-1].count()"
      ],
      "metadata": {
        "id": "sKB7BwpRJfgx"
      },
      "execution_count": null,
      "outputs": []
    },
    {
      "cell_type": "code",
      "source": [
        "#removing all rows with (missing) data\n",
        "#df_features = df_features[df_features['Weather_Conditions']!=-1]\n",
        "df_features = df_features[df_features['Speed_limit']!=0]"
      ],
      "metadata": {
        "id": "lc2io0V4Jfgx"
      },
      "execution_count": null,
      "outputs": []
    },
    {
      "cell_type": "markdown",
      "source": [
        "df_features.count()"
      ],
      "metadata": {
        "id": "p5wmVKINJfgy"
      }
    },
    {
      "cell_type": "markdown",
      "source": [
        "### Cleaning Label (accident severity) so that there are 2 classes instead of 3"
      ],
      "metadata": {
        "id": "gdsUo3M2Jfgy"
      }
    },
    {
      "cell_type": "code",
      "source": [
        "#check count for each level of accident deverity\n",
        "df_features['Accident_Severity'].value_counts()"
      ],
      "metadata": {
        "colab": {
          "base_uri": "https://localhost:8080/"
        },
        "outputId": "677e3cc9-129b-4077-d4ec-bd59fbc864be",
        "id": "d0hy2hbaJfg0"
      },
      "execution_count": null,
      "outputs": [
        {
          "output_type": "execute_result",
          "data": {
            "text/plain": [
              "3    1515574\n",
              "2     242080\n",
              "1      22998\n",
              "Name: Accident_Severity, dtype: int64"
            ]
          },
          "metadata": {},
          "execution_count": 574
        }
      ]
    },
    {
      "cell_type": "code",
      "source": [
        "#replace all accident severities where severiry is 2 or 3 and group them into 1 bucket (non-fatal)\n",
        "df_features['Accident_Severity'] = df_features['Accident_Severity'].replace(2,0)\n",
        "df_features['Accident_Severity'] = df_features['Accident_Severity'].replace(3,0)"
      ],
      "metadata": {
        "id": "nkcfxpqgJfg0"
      },
      "execution_count": null,
      "outputs": []
    },
    {
      "cell_type": "code",
      "source": [
        "#create 2 dataframe, 1 for each class, and print the size each\n",
        "class_1 = df_features[df_features['Accident_Severity'] == 1]\n",
        "class_0 = df_features[df_features['Accident_Severity'] == 0]\n",
        "print('class 1 (fatal):', len(class_1))\n",
        "print('class 0 (non-fatal):', len(class_0))"
      ],
      "metadata": {
        "colab": {
          "base_uri": "https://localhost:8080/"
        },
        "outputId": "51d59047-d89c-4eac-e79d-d6746eb15632",
        "id": "xF8wfaYIJfg1"
      },
      "execution_count": null,
      "outputs": [
        {
          "output_type": "stream",
          "name": "stdout",
          "text": [
            "class 1 (fatal): 22998\n",
            "class 0 (non-fatal): 1757654\n"
          ]
        }
      ]
    },
    {
      "cell_type": "markdown",
      "source": [
        "###Accounting for imbalance in the dataset by undersampling"
      ],
      "metadata": {
        "id": "0KjDMUlnJfg1"
      }
    },
    {
      "cell_type": "code",
      "source": [
        "#get the length of the dataset for each class/label\n",
        "class_count_0, class_count_1 = df_features['Accident_Severity'].value_counts()"
      ],
      "metadata": {
        "id": "5rvrhxTwJfg1"
      },
      "execution_count": null,
      "outputs": []
    },
    {
      "cell_type": "code",
      "source": [
        "#undersampling of class 0 to balance the count of data for each class/label\n",
        "class_0_under = class_0.sample(class_count_1)\n",
        "df_features_under = pd.concat([class_0_under, class_1], axis=0)"
      ],
      "metadata": {
        "id": "fOokHOCsJfg2"
      },
      "execution_count": null,
      "outputs": []
    },
    {
      "cell_type": "code",
      "source": [
        "#print the size of the new dataset for each class/label after undersampling\n",
        "class_1 = df_features_under[df_features_under['Accident_Severity'] == 1]\n",
        "class_0 = df_features_under[df_features_under['Accident_Severity'] == 0]\n",
        "print('class 1 (fatal):', len(class_1))\n",
        "print('class 0 (non-fatal):', len(class_0))"
      ],
      "metadata": {
        "colab": {
          "base_uri": "https://localhost:8080/"
        },
        "outputId": "99ad90cc-b674-44a1-cfc7-22dfa06be0f0",
        "id": "d9pYHTNWJfg2"
      },
      "execution_count": null,
      "outputs": [
        {
          "output_type": "stream",
          "name": "stdout",
          "text": [
            "class 1 (fatal): 22998\n",
            "class 0 (non-fatal): 22998\n"
          ]
        }
      ]
    },
    {
      "cell_type": "markdown",
      "source": [
        "###splitting the dataset in training and test datasets"
      ],
      "metadata": {
        "id": "IdYCbYR8Jfg2"
      }
    },
    {
      "cell_type": "code",
      "source": [
        "#splitting the dataset into training and test sets\n",
        "train_features_under, test_features_under = train_test_split(df_features_under, test_size=0.25)"
      ],
      "metadata": {
        "id": "uoB-zHskJfg3"
      },
      "execution_count": null,
      "outputs": []
    },
    {
      "cell_type": "code",
      "source": [
        "#pop out the label column from the train and test undersampled datasets\n",
        "train_label_under = train_features_under.pop('Accident_Severity')\n",
        "test_label_under = test_features_under.pop('Accident_Severity')"
      ],
      "metadata": {
        "id": "oI0O9P-YJfg3"
      },
      "execution_count": null,
      "outputs": []
    },
    {
      "cell_type": "markdown",
      "source": [
        "## DNN Classifier"
      ],
      "metadata": {
        "id": "_ycFHlDOJfg4"
      }
    },
    {
      "cell_type": "markdown",
      "source": [
        "###defining input function, creating classifier, training classifer"
      ],
      "metadata": {
        "id": "adEZpVNHJfg4"
      }
    },
    {
      "cell_type": "code",
      "source": [
        "def input_fn(features, labels, training=True, batch_size=344):\n",
        "    # Convert the inputs to a Dataset.\n",
        "    dataset = tf.data.Dataset.from_tensor_slices((dict(features), labels))\n",
        "    # Shuffle and repeat if you are in training mode.\n",
        "    if training:\n",
        "        dataset = dataset.shuffle(1000).repeat()\n",
        "    return dataset.batch(batch_size)"
      ],
      "metadata": {
        "id": "0YIa2nVuJfg4"
      },
      "execution_count": null,
      "outputs": []
    },
    {
      "cell_type": "code",
      "source": [
        "# creating a tensorflow Feature column list\n",
        "my_feature_columns = []\n",
        "for key in train_features_under.keys():\n",
        "    my_feature_columns.append(tf.feature_column.numeric_column(key=key))\n",
        "my_feature_columns"
      ],
      "metadata": {
        "colab": {
          "base_uri": "https://localhost:8080/"
        },
        "outputId": "5d516a64-2709-4c02-9082-8f5e062f9a1e",
        "id": "lZJADMIzJfg5"
      },
      "execution_count": null,
      "outputs": [
        {
          "output_type": "execute_result",
          "data": {
            "text/plain": [
              "[NumericColumn(key='Speed_limit', shape=(1,), default_value=None, dtype=tf.float32, normalizer_fn=None),\n",
              " NumericColumn(key='district', shape=(1,), default_value=None, dtype=tf.float32, normalizer_fn=None)]"
            ]
          },
          "metadata": {},
          "execution_count": 583
        }
      ]
    },
    {
      "cell_type": "code",
      "source": [
        "# Build a DNN with 2 hidden layers with 30 and 10 hidden nodes each.\n",
        "classifier = tf.estimator.DNNClassifier(\n",
        "    feature_columns=my_feature_columns,\n",
        "    # Two hidden layers of 30 and 10 nodes respectively.\n",
        "    hidden_units=[30, 10],\n",
        "    # The model must choose between 2 classes.\n",
        "    n_classes=2)"
      ],
      "metadata": {
        "colab": {
          "base_uri": "https://localhost:8080/"
        },
        "outputId": "bed6c1ef-fb09-4a65-b44d-a7bf5598046c",
        "id": "_uJipr6VJfg5"
      },
      "execution_count": null,
      "outputs": [
        {
          "output_type": "stream",
          "name": "stdout",
          "text": [
            "INFO:tensorflow:Using default config.\n",
            "WARNING:tensorflow:Using temporary folder as model directory: /tmp/tmp25z9i_ud\n",
            "INFO:tensorflow:Using config: {'_model_dir': '/tmp/tmp25z9i_ud', '_tf_random_seed': None, '_save_summary_steps': 100, '_save_checkpoints_steps': None, '_save_checkpoints_secs': 600, '_session_config': allow_soft_placement: true\n",
            "graph_options {\n",
            "  rewrite_options {\n",
            "    meta_optimizer_iterations: ONE\n",
            "  }\n",
            "}\n",
            ", '_keep_checkpoint_max': 5, '_keep_checkpoint_every_n_hours': 10000, '_log_step_count_steps': 100, '_train_distribute': None, '_device_fn': None, '_protocol': None, '_eval_distribute': None, '_experimental_distribute': None, '_experimental_max_worker_delay_secs': None, '_session_creation_timeout_secs': 7200, '_checkpoint_save_graph_def': True, '_service': None, '_cluster_spec': ClusterSpec({}), '_task_type': 'worker', '_task_id': 0, '_global_id_in_cluster': 0, '_master': '', '_evaluation_master': '', '_is_chief': True, '_num_ps_replicas': 0, '_num_worker_replicas': 1}\n"
          ]
        }
      ]
    },
    {
      "cell_type": "code",
      "source": [
        "classifier.train(input_fn=lambda: input_fn(train_features_under, train_label_under, training=True),steps=2000)\n",
        "# We include a lambda to avoid creating an inner function "
      ],
      "metadata": {
        "colab": {
          "base_uri": "https://localhost:8080/"
        },
        "outputId": "ac1dafe9-b0a5-4d8e-93cd-a1d70574487a",
        "id": "Nfkza_FgJfg5"
      },
      "execution_count": null,
      "outputs": [
        {
          "output_type": "stream",
          "name": "stdout",
          "text": [
            "INFO:tensorflow:Calling model_fn.\n",
            "INFO:tensorflow:Done calling model_fn.\n",
            "INFO:tensorflow:Create CheckpointSaverHook.\n",
            "INFO:tensorflow:Graph was finalized.\n",
            "INFO:tensorflow:Running local_init_op.\n",
            "INFO:tensorflow:Done running local_init_op.\n",
            "INFO:tensorflow:Calling checkpoint listeners before saving checkpoint 0...\n",
            "INFO:tensorflow:Saving checkpoints for 0 into /tmp/tmp25z9i_ud/model.ckpt.\n",
            "INFO:tensorflow:Calling checkpoint listeners after saving checkpoint 0...\n",
            "INFO:tensorflow:loss = 3.8365319, step = 0\n",
            "INFO:tensorflow:global_step/sec: 406.495\n",
            "INFO:tensorflow:loss = 0.66069525, step = 100 (0.250 sec)\n",
            "INFO:tensorflow:global_step/sec: 523.466\n",
            "INFO:tensorflow:loss = 0.66006166, step = 200 (0.192 sec)\n",
            "INFO:tensorflow:global_step/sec: 536.433\n",
            "INFO:tensorflow:loss = 0.6899964, step = 300 (0.185 sec)\n",
            "WARNING:tensorflow:It seems that global step (tf.train.get_global_step) has not been increased. Current value (could be stable): 375 vs previous value: 375. You could increase the global step by passing tf.train.get_global_step() to Optimizer.apply_gradients or Optimizer.minimize.\n",
            "INFO:tensorflow:global_step/sec: 496.934\n",
            "INFO:tensorflow:loss = 0.6934933, step = 400 (0.202 sec)\n",
            "INFO:tensorflow:global_step/sec: 527.723\n",
            "INFO:tensorflow:loss = 0.70491016, step = 500 (0.189 sec)\n",
            "INFO:tensorflow:global_step/sec: 515.452\n",
            "INFO:tensorflow:loss = 0.6931292, step = 600 (0.195 sec)\n",
            "INFO:tensorflow:global_step/sec: 502.191\n",
            "INFO:tensorflow:loss = 0.69378126, step = 700 (0.196 sec)\n",
            "INFO:tensorflow:global_step/sec: 539.9\n",
            "INFO:tensorflow:loss = 0.6721892, step = 800 (0.188 sec)\n",
            "INFO:tensorflow:global_step/sec: 537.767\n",
            "INFO:tensorflow:loss = 0.6748437, step = 900 (0.186 sec)\n",
            "INFO:tensorflow:global_step/sec: 504.156\n",
            "INFO:tensorflow:loss = 0.6931606, step = 1000 (0.198 sec)\n",
            "INFO:tensorflow:global_step/sec: 536.596\n",
            "INFO:tensorflow:loss = 0.67118084, step = 1100 (0.184 sec)\n",
            "INFO:tensorflow:global_step/sec: 533.69\n",
            "INFO:tensorflow:loss = 0.6848127, step = 1200 (0.189 sec)\n",
            "INFO:tensorflow:global_step/sec: 534.002\n",
            "INFO:tensorflow:loss = 0.6818205, step = 1300 (0.188 sec)\n",
            "INFO:tensorflow:global_step/sec: 533.404\n",
            "INFO:tensorflow:loss = 0.66569006, step = 1400 (0.192 sec)\n",
            "INFO:tensorflow:global_step/sec: 526.612\n",
            "INFO:tensorflow:loss = 0.6763042, step = 1500 (0.182 sec)\n",
            "INFO:tensorflow:global_step/sec: 490.063\n",
            "INFO:tensorflow:loss = 0.67542833, step = 1600 (0.205 sec)\n",
            "INFO:tensorflow:global_step/sec: 532.217\n",
            "INFO:tensorflow:loss = 0.6929932, step = 1700 (0.190 sec)\n",
            "INFO:tensorflow:global_step/sec: 536.863\n",
            "INFO:tensorflow:loss = 0.6706422, step = 1800 (0.187 sec)\n",
            "INFO:tensorflow:global_step/sec: 514.425\n",
            "INFO:tensorflow:loss = 0.66464067, step = 1900 (0.193 sec)\n",
            "INFO:tensorflow:Calling checkpoint listeners before saving checkpoint 2000...\n",
            "INFO:tensorflow:Saving checkpoints for 2000 into /tmp/tmp25z9i_ud/model.ckpt.\n",
            "INFO:tensorflow:Calling checkpoint listeners after saving checkpoint 2000...\n",
            "INFO:tensorflow:Loss for final step: 0.6804152.\n"
          ]
        },
        {
          "output_type": "execute_result",
          "data": {
            "text/plain": [
              "<tensorflow_estimator.python.estimator.canned.dnn.DNNClassifierV2 at 0x7f2209e1d410>"
            ]
          },
          "metadata": {},
          "execution_count": 585
        }
      ]
    },
    {
      "cell_type": "markdown",
      "source": [
        "###Evaluating Classifier"
      ],
      "metadata": {
        "id": "is9SxqGVJfg6"
      }
    },
    {
      "cell_type": "code",
      "source": [
        "#determine the accurracy of th classifier\n",
        "eval_result = classifier.evaluate(\n",
        "    input_fn=lambda: input_fn(test_features_under, test_label_under, training=False))\n",
        "print('\\nTest set accuracy: {accuracy:0.3f}\\n'.format(**eval_result))"
      ],
      "metadata": {
        "colab": {
          "base_uri": "https://localhost:8080/"
        },
        "outputId": "de36cb0d-085e-4402-eccf-39e9e593b6a8",
        "id": "azwZyiviJfg6"
      },
      "execution_count": null,
      "outputs": [
        {
          "output_type": "stream",
          "name": "stdout",
          "text": [
            "INFO:tensorflow:Calling model_fn.\n",
            "INFO:tensorflow:Done calling model_fn.\n",
            "INFO:tensorflow:Starting evaluation at 2022-03-26T16:57:51\n",
            "INFO:tensorflow:Graph was finalized.\n",
            "INFO:tensorflow:Restoring parameters from /tmp/tmp25z9i_ud/model.ckpt-2000\n",
            "INFO:tensorflow:Running local_init_op.\n",
            "INFO:tensorflow:Done running local_init_op.\n",
            "INFO:tensorflow:Inference Time : 0.49457s\n",
            "INFO:tensorflow:Finished evaluation at 2022-03-26-16:57:52\n",
            "INFO:tensorflow:Saving dict for global step 2000: accuracy = 0.59474736, accuracy_baseline = 0.5001305, auc = 0.65455943, auc_precision_recall = 0.62742674, average_loss = 0.6670738, global_step = 2000, label/mean = 0.5001305, loss = 0.6669917, precision = 0.5669243, prediction/mean = 0.5293427, recall = 0.80351245\n",
            "INFO:tensorflow:Saving 'checkpoint_path' summary for global step 2000: /tmp/tmp25z9i_ud/model.ckpt-2000\n",
            "\n",
            "Test set accuracy: 0.595\n",
            "\n"
          ]
        }
      ]
    },
    {
      "cell_type": "code",
      "source": [
        "#create predictions list for all test set\n",
        "predictions_under = list(classifier.predict(input_fn=lambda: input_fn(test_features_under, test_label_under, training=False)))"
      ],
      "metadata": {
        "outputId": "35e46fcf-d2ec-4a38-d3fc-f0091aadea8e",
        "colab": {
          "base_uri": "https://localhost:8080/"
        },
        "id": "bh0JKyDaJfg6"
      },
      "execution_count": null,
      "outputs": [
        {
          "output_type": "stream",
          "name": "stdout",
          "text": [
            "INFO:tensorflow:Calling model_fn.\n",
            "INFO:tensorflow:Done calling model_fn.\n",
            "INFO:tensorflow:Graph was finalized.\n",
            "INFO:tensorflow:Restoring parameters from /tmp/tmp25z9i_ud/model.ckpt-2000\n",
            "INFO:tensorflow:Running local_init_op.\n",
            "INFO:tensorflow:Done running local_init_op.\n"
          ]
        }
      ]
    },
    {
      "cell_type": "code",
      "source": [
        "#create a dataframe of predictions for test set\n",
        "df_predictions = pd.DataFrame(predictions_under)"
      ],
      "metadata": {
        "id": "FEzMhA72Jfg7"
      },
      "execution_count": null,
      "outputs": []
    },
    {
      "cell_type": "markdown",
      "source": [
        "###Plot of Results"
      ],
      "metadata": {
        "id": "ycj8kR_5Jfg7"
      }
    },
    {
      "cell_type": "code",
      "source": [
        "#add the actual matches to the prediciton dataframe\n",
        "df_predictions['actual label']=test_label_under.values"
      ],
      "metadata": {
        "id": "3L8OxMJEJfg7"
      },
      "execution_count": null,
      "outputs": []
    },
    {
      "cell_type": "code",
      "source": [
        "#add the class predicitons from the DNN to the dataframe\n",
        "df_predictions['predicted label']=pd.DataFrame.from_records(df_predictions['class_ids'])"
      ],
      "metadata": {
        "id": "AITPK55IJfg8"
      },
      "execution_count": null,
      "outputs": []
    },
    {
      "cell_type": "code",
      "source": [
        "#add a binary column to show if the dnn predictions were correct\n",
        "df_predictions['match?']=df_predictions['predicted label']-df_predictions['actual label']\n",
        "df_predictions['match?']=df_predictions['match?'].replace(0,'match')\n",
        "df_predictions['match?']=df_predictions['match?'].replace(-1,'not match')\n",
        "df_predictions['match?']=df_predictions['match?'].replace(1,'not match')"
      ],
      "metadata": {
        "id": "z5sRqhnHJfg8"
      },
      "execution_count": null,
      "outputs": []
    },
    {
      "cell_type": "code",
      "source": [
        "#view the prdictions dataframe\n",
        "df_predictions.head()"
      ],
      "metadata": {
        "colab": {
          "base_uri": "https://localhost:8080/",
          "height": 206
        },
        "outputId": "00d1293f-6248-493a-baf3-c22a293542c3",
        "id": "TGY4w3kAJfg8"
      },
      "execution_count": null,
      "outputs": [
        {
          "output_type": "execute_result",
          "data": {
            "text/plain": [
              "         logits      logistic             probabilities class_ids classes  \\\n",
              "0   [0.4801847]   [0.6177915]   [0.38220853, 0.6177915]       [1]  [b'1']   \n",
              "1  [0.40348163]  [0.59952384]  [0.40047613, 0.59952384]       [1]  [b'1']   \n",
              "2   [0.6813613]   [0.6640425]   [0.33595756, 0.6640425]       [1]  [b'1']   \n",
              "3   [0.5923518]  [0.64390457]   [0.3560954, 0.64390457]       [1]  [b'1']   \n",
              "4  [0.15346965]   [0.5382923]    [0.4617077, 0.5382923]       [1]  [b'1']   \n",
              "\n",
              "  all_class_ids   all_classes  actual label  predicted label     match?  \n",
              "0        [0, 1]  [b'0', b'1']             0                1  not match  \n",
              "1        [0, 1]  [b'0', b'1']             1                1      match  \n",
              "2        [0, 1]  [b'0', b'1']             1                1      match  \n",
              "3        [0, 1]  [b'0', b'1']             0                1  not match  \n",
              "4        [0, 1]  [b'0', b'1']             0                1  not match  "
            ],
            "text/html": [
              "\n",
              "  <div id=\"df-72a0be38-2702-48de-bb21-cf2e49239ecd\">\n",
              "    <div class=\"colab-df-container\">\n",
              "      <div>\n",
              "<style scoped>\n",
              "    .dataframe tbody tr th:only-of-type {\n",
              "        vertical-align: middle;\n",
              "    }\n",
              "\n",
              "    .dataframe tbody tr th {\n",
              "        vertical-align: top;\n",
              "    }\n",
              "\n",
              "    .dataframe thead th {\n",
              "        text-align: right;\n",
              "    }\n",
              "</style>\n",
              "<table border=\"1\" class=\"dataframe\">\n",
              "  <thead>\n",
              "    <tr style=\"text-align: right;\">\n",
              "      <th></th>\n",
              "      <th>logits</th>\n",
              "      <th>logistic</th>\n",
              "      <th>probabilities</th>\n",
              "      <th>class_ids</th>\n",
              "      <th>classes</th>\n",
              "      <th>all_class_ids</th>\n",
              "      <th>all_classes</th>\n",
              "      <th>actual label</th>\n",
              "      <th>predicted label</th>\n",
              "      <th>match?</th>\n",
              "    </tr>\n",
              "  </thead>\n",
              "  <tbody>\n",
              "    <tr>\n",
              "      <th>0</th>\n",
              "      <td>[0.4801847]</td>\n",
              "      <td>[0.6177915]</td>\n",
              "      <td>[0.38220853, 0.6177915]</td>\n",
              "      <td>[1]</td>\n",
              "      <td>[b'1']</td>\n",
              "      <td>[0, 1]</td>\n",
              "      <td>[b'0', b'1']</td>\n",
              "      <td>0</td>\n",
              "      <td>1</td>\n",
              "      <td>not match</td>\n",
              "    </tr>\n",
              "    <tr>\n",
              "      <th>1</th>\n",
              "      <td>[0.40348163]</td>\n",
              "      <td>[0.59952384]</td>\n",
              "      <td>[0.40047613, 0.59952384]</td>\n",
              "      <td>[1]</td>\n",
              "      <td>[b'1']</td>\n",
              "      <td>[0, 1]</td>\n",
              "      <td>[b'0', b'1']</td>\n",
              "      <td>1</td>\n",
              "      <td>1</td>\n",
              "      <td>match</td>\n",
              "    </tr>\n",
              "    <tr>\n",
              "      <th>2</th>\n",
              "      <td>[0.6813613]</td>\n",
              "      <td>[0.6640425]</td>\n",
              "      <td>[0.33595756, 0.6640425]</td>\n",
              "      <td>[1]</td>\n",
              "      <td>[b'1']</td>\n",
              "      <td>[0, 1]</td>\n",
              "      <td>[b'0', b'1']</td>\n",
              "      <td>1</td>\n",
              "      <td>1</td>\n",
              "      <td>match</td>\n",
              "    </tr>\n",
              "    <tr>\n",
              "      <th>3</th>\n",
              "      <td>[0.5923518]</td>\n",
              "      <td>[0.64390457]</td>\n",
              "      <td>[0.3560954, 0.64390457]</td>\n",
              "      <td>[1]</td>\n",
              "      <td>[b'1']</td>\n",
              "      <td>[0, 1]</td>\n",
              "      <td>[b'0', b'1']</td>\n",
              "      <td>0</td>\n",
              "      <td>1</td>\n",
              "      <td>not match</td>\n",
              "    </tr>\n",
              "    <tr>\n",
              "      <th>4</th>\n",
              "      <td>[0.15346965]</td>\n",
              "      <td>[0.5382923]</td>\n",
              "      <td>[0.4617077, 0.5382923]</td>\n",
              "      <td>[1]</td>\n",
              "      <td>[b'1']</td>\n",
              "      <td>[0, 1]</td>\n",
              "      <td>[b'0', b'1']</td>\n",
              "      <td>0</td>\n",
              "      <td>1</td>\n",
              "      <td>not match</td>\n",
              "    </tr>\n",
              "  </tbody>\n",
              "</table>\n",
              "</div>\n",
              "      <button class=\"colab-df-convert\" onclick=\"convertToInteractive('df-72a0be38-2702-48de-bb21-cf2e49239ecd')\"\n",
              "              title=\"Convert this dataframe to an interactive table.\"\n",
              "              style=\"display:none;\">\n",
              "        \n",
              "  <svg xmlns=\"http://www.w3.org/2000/svg\" height=\"24px\"viewBox=\"0 0 24 24\"\n",
              "       width=\"24px\">\n",
              "    <path d=\"M0 0h24v24H0V0z\" fill=\"none\"/>\n",
              "    <path d=\"M18.56 5.44l.94 2.06.94-2.06 2.06-.94-2.06-.94-.94-2.06-.94 2.06-2.06.94zm-11 1L8.5 8.5l.94-2.06 2.06-.94-2.06-.94L8.5 2.5l-.94 2.06-2.06.94zm10 10l.94 2.06.94-2.06 2.06-.94-2.06-.94-.94-2.06-.94 2.06-2.06.94z\"/><path d=\"M17.41 7.96l-1.37-1.37c-.4-.4-.92-.59-1.43-.59-.52 0-1.04.2-1.43.59L10.3 9.45l-7.72 7.72c-.78.78-.78 2.05 0 2.83L4 21.41c.39.39.9.59 1.41.59.51 0 1.02-.2 1.41-.59l7.78-7.78 2.81-2.81c.8-.78.8-2.07 0-2.86zM5.41 20L4 18.59l7.72-7.72 1.47 1.35L5.41 20z\"/>\n",
              "  </svg>\n",
              "      </button>\n",
              "      \n",
              "  <style>\n",
              "    .colab-df-container {\n",
              "      display:flex;\n",
              "      flex-wrap:wrap;\n",
              "      gap: 12px;\n",
              "    }\n",
              "\n",
              "    .colab-df-convert {\n",
              "      background-color: #E8F0FE;\n",
              "      border: none;\n",
              "      border-radius: 50%;\n",
              "      cursor: pointer;\n",
              "      display: none;\n",
              "      fill: #1967D2;\n",
              "      height: 32px;\n",
              "      padding: 0 0 0 0;\n",
              "      width: 32px;\n",
              "    }\n",
              "\n",
              "    .colab-df-convert:hover {\n",
              "      background-color: #E2EBFA;\n",
              "      box-shadow: 0px 1px 2px rgba(60, 64, 67, 0.3), 0px 1px 3px 1px rgba(60, 64, 67, 0.15);\n",
              "      fill: #174EA6;\n",
              "    }\n",
              "\n",
              "    [theme=dark] .colab-df-convert {\n",
              "      background-color: #3B4455;\n",
              "      fill: #D2E3FC;\n",
              "    }\n",
              "\n",
              "    [theme=dark] .colab-df-convert:hover {\n",
              "      background-color: #434B5C;\n",
              "      box-shadow: 0px 1px 3px 1px rgba(0, 0, 0, 0.15);\n",
              "      filter: drop-shadow(0px 1px 2px rgba(0, 0, 0, 0.3));\n",
              "      fill: #FFFFFF;\n",
              "    }\n",
              "  </style>\n",
              "\n",
              "      <script>\n",
              "        const buttonEl =\n",
              "          document.querySelector('#df-72a0be38-2702-48de-bb21-cf2e49239ecd button.colab-df-convert');\n",
              "        buttonEl.style.display =\n",
              "          google.colab.kernel.accessAllowed ? 'block' : 'none';\n",
              "\n",
              "        async function convertToInteractive(key) {\n",
              "          const element = document.querySelector('#df-72a0be38-2702-48de-bb21-cf2e49239ecd');\n",
              "          const dataTable =\n",
              "            await google.colab.kernel.invokeFunction('convertToInteractive',\n",
              "                                                     [key], {});\n",
              "          if (!dataTable) return;\n",
              "\n",
              "          const docLinkHtml = 'Like what you see? Visit the ' +\n",
              "            '<a target=\"_blank\" href=https://colab.research.google.com/notebooks/data_table.ipynb>data table notebook</a>'\n",
              "            + ' to learn more about interactive tables.';\n",
              "          element.innerHTML = '';\n",
              "          dataTable['output_type'] = 'display_data';\n",
              "          await google.colab.output.renderOutput(dataTable, element);\n",
              "          const docLink = document.createElement('div');\n",
              "          docLink.innerHTML = docLinkHtml;\n",
              "          element.appendChild(docLink);\n",
              "        }\n",
              "      </script>\n",
              "    </div>\n",
              "  </div>\n",
              "  "
            ]
          },
          "metadata": {},
          "execution_count": 592
        }
      ]
    },
    {
      "cell_type": "code",
      "source": [
        "#create a new dataframe showing only the correct predictions\n",
        "correct_predictions = df_predictions[df_predictions['match?']=='match']\n",
        "#get the count of the correct predctions for eah label\n",
        "correct_pred_count_label_0 , correct_pred_count_label_1 = correct_predictions['predicted label'].value_counts()\n",
        "#get the actual label count for each label\n",
        "actual_count_label_0 , actual_count_label_1 = df_predictions['actual label'].value_counts()"
      ],
      "metadata": {
        "id": "1MeFfnPxJfg9"
      },
      "execution_count": null,
      "outputs": []
    },
    {
      "cell_type": "code",
      "source": [
        "#get the accuracy of each labels predictions\n",
        "accuracy_label_0,accuracy_label_1 = correct_pred_count_label_0/actual_count_label_0 , correct_pred_count_label_1/actual_count_label_1\n",
        "accuracy=accuracy_label_0*100,accuracy_label_1*100\n",
        "accuracy=pd.Series(accuracy)\n",
        "print('Accuracy of label 0 (non-fatal): ', accuracy_label_0, '\\nAccuracy of label 1 (fatal): ', accuracy_label_1)"
      ],
      "metadata": {
        "colab": {
          "base_uri": "https://localhost:8080/"
        },
        "outputId": "e9be5ae3-b5a6-45b2-bfc6-570ace6405a6",
        "id": "JMh0n5o_Jfg9"
      },
      "execution_count": null,
      "outputs": [
        {
          "output_type": "stream",
          "name": "stdout",
          "text": [
            "Accuracy of label 0 (non-fatal):  0.8035124326204138 \n",
            "Accuracy of label 1 (fatal):  0.3858733472512178\n"
          ]
        }
      ]
    },
    {
      "cell_type": "code",
      "source": [
        "#plot the accuracy of each labels predictions\n",
        "fig, axes = plt.subplots(figsize=(18, 10))\n",
        "accuracy.plot(kind='barh')\n",
        "plt.yticks((0,1), ('non-Fatal accident', 'Fatal accident'))\n",
        "plt.xticks((0,10,20,30,40,50,60), ('0%', '10%','20%','30%','40%','50%','60%'))\n",
        "plt.xlabel('prectange accuracy')\n",
        "plt.title('percentage accuracy for each class/label')"
      ],
      "metadata": {
        "colab": {
          "base_uri": "https://localhost:8080/",
          "height": 639
        },
        "outputId": "bde52036-b1a1-4c60-99db-bea5a499edc7",
        "id": "jpKjeySzJfg9"
      },
      "execution_count": null,
      "outputs": [
        {
          "output_type": "execute_result",
          "data": {
            "text/plain": [
              "Text(0.5, 1.0, 'percentage accuracy for each class/label')"
            ]
          },
          "metadata": {},
          "execution_count": 595
        },
        {
          "output_type": "display_data",
          "data": {
            "text/plain": [
              "<Figure size 1296x720 with 1 Axes>"
            ],
            "image/png": "[encoded data removed]"
          },
          "metadata": {
            "needs_background": "light"
          }
        }
      ]
    }
  ]
}