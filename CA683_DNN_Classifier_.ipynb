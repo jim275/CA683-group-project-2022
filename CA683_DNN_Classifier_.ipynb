{
  "nbformat": 4,
  "nbformat_minor": 0,
  "metadata": {
    "colab": {
      "name": "CA683 DNN Classifier .ipynb",
      "provenance": [],
      "collapsed_sections": [
        "fXnvBLDysEgb",
        "szeeQrxUiI5O",
        "9U4UVH2tiR59",
        "ZFmM3eyrWSmD",
        "Z2hq4azLZP0q",
        "fPTlbO4fi89J",
        "T7-vFlYIqkdH",
        "QsfhNofwqxHX",
        "8HV78KRBq6w7",
        "YAO07jYS_Ot3",
        "_DtYRqYgrEDd",
        "7m_mQ38dtgRo",
        "Poobt2fy5GqN",
        "dG_T2CK7_a5X",
        "ML2YnC8B_a5Z",
        "rfIHgF-j_a5a",
        "dYgubRIt_a5e",
        "JacxnjhB_a5f",
        "W6m9Et_v_a5g",
        "iPkCNr9h_a5h",
        "kYc-RI4M_a5h",
        "wsJhPpSU_a5j",
        "ts91q6K2_a5l",
        "PXoO-diEFc02",
        "9efkUu_qFc03",
        "DKjkUQIGFc03",
        "EB_AiHNfFc08",
        "RMY7KSveFc0_",
        "9LmMygiwFc1B",
        "iO-aTOWRFc1C",
        "Z_VPS7aoFc1D",
        "y_4S_lixFc1E",
        "I68LpnuKFc1G",
        "0gcDab-GG-Ld",
        "T_Bgs1olG-Le",
        "9lkxn1y3G-Lf",
        "l1wJjmnpG-Ll",
        "v6J3tQHbG-Ln",
        "jn3-5sdCG-Lp",
        "o61RcWc4G-Lq",
        "BqblYh8lG-Lq",
        "lHAj7siVG-Ls",
        "uUp6SYq9G-Lt",
        "3lTz0PPspR04",
        "iG6ibP46pR07",
        "TOZPp_7IpR09",
        "iG4_f0O_pR1J",
        "1Z9n0yjopR1M",
        "LoSeeXFDpR1O",
        "OM5sLAKYpR1P",
        "ESSvqWE-pR1Q",
        "xz8ShhM7pR1S",
        "dL9g8Tg9pR1U",
        "JHloOz2-Hbx5",
        "XdI6eCNKHbx6",
        "wVeP2pQFHbx7",
        "3bPFpTUiHbyB",
        "gMpxqcvmHbyD",
        "oaQskrmKHbyE",
        "3gSY3U8kHbyF",
        "jpLkBOhyHbyF",
        "W7s-pDCpHbyH",
        "bM5TCLfiHbyO",
        "9Hn6odfsJfgs",
        "G9SinMkZJfgt",
        "3msLMORXJfgu",
        "gdsUo3M2Jfgy",
        "0KjDMUlnJfg1",
        "IdYCbYR8Jfg2",
        "_ycFHlDOJfg4",
        "adEZpVNHJfg4",
        "is9SxqGVJfg6",
        "ycj8kR_5Jfg7"
      ]
    },
    "kernelspec": {
      "name": "python3",
      "display_name": "Python 3"
    },
    "language_info": {
      "name": "python"
    }
  },
  "cells": [
    {
      "cell_type": "markdown",
      "source": [
        "#Imports,reading data and checking correlation"
      ],
      "metadata": {
        "id": "fXnvBLDysEgb"
      }
    },
    {
      "cell_type": "markdown",
      "source": [
        "##importing libraries, reading data"
      ],
      "metadata": {
        "id": "szeeQrxUiI5O"
      }
    },
    {
      "cell_type": "code",
      "execution_count": null,
      "metadata": {
        "id": "QMHHG7znF4S3",
        "colab": {
          "base_uri": "https://localhost:8080/"
        },
        "outputId": "8cb209b5-2ffe-410b-b373-e7d1273e08a0"
      },
      "outputs": [
        {
          "output_type": "stream",
          "name": "stderr",
          "text": [
            "/usr/local/lib/python3.7/dist-packages/statsmodels/tools/_testing.py:19: FutureWarning: pandas.util.testing is deprecated. Use the functions in the public API at pandas.testing instead.\n",
            "  import pandas.util.testing as tm\n"
          ]
        }
      ],
      "source": [
        "import pandas as pd\n",
        "import numpy as np\n",
        "from sklearn import preprocessing\n",
        "import seaborn as sns\n",
        "from statsmodels.compat import lzip\n",
        "import statsmodels.formula.api as sm\n",
        "import statsmodels.stats.stattools as st\n",
        "import statsmodels.stats.api as sms\n",
        "from sklearn.model_selection import train_test_split\n",
        "from sklearn.linear_model import LogisticRegression\n",
        "from sklearn.linear_model import LinearRegression\n",
        "from sklearn.metrics import r2_score\n",
        "import matplotlib.pyplot as plt\n",
        "import os\n",
        "import tensorflow as tf"
      ]
    },
    {
      "cell_type": "code",
      "source": [
        "#mount google drive\n",
        "from google.colab import drive\n",
        "drive.mount('/content/drive')\n",
        "#change directory and show files in it \n",
        "import os\n",
        "os.chdir(\"/content/drive/MyDrive/data for project ca683\")"
      ],
      "metadata": {
        "colab": {
          "base_uri": "https://localhost:8080/"
        },
        "id": "rfW77-CgF5-t",
        "outputId": "91213733-84a0-4a8d-b188-a091c6c824ee"
      },
      "execution_count": null,
      "outputs": [
        {
          "output_type": "stream",
          "name": "stdout",
          "text": [
            "Mounted at /content/drive\n"
          ]
        }
      ]
    },
    {
      "cell_type": "code",
      "source": [
        "df = pd.read_csv('accidents.csv')"
      ],
      "metadata": {
        "id": "jr6fjvgHF_9g",
        "colab": {
          "base_uri": "https://localhost:8080/"
        },
        "outputId": "1c86ceca-bd62-4c64-f053-b1e561db704a"
      },
      "execution_count": null,
      "outputs": [
        {
          "output_type": "stream",
          "name": "stderr",
          "text": [
            "/usr/local/lib/python3.7/dist-packages/IPython/core/interactiveshell.py:2882: DtypeWarning: Columns (0,2,15,16,35) have mixed types.Specify dtype option on import or set low_memory=False.\n",
            "  exec(code_obj, self.user_global_ns, self.user_ns)\n"
          ]
        }
      ]
    },
    {
      "cell_type": "code",
      "source": [
        "df=df[df['accident_year']>2009]"
      ],
      "metadata": {
        "id": "SQMW4P4XRjfC"
      },
      "execution_count": null,
      "outputs": []
    },
    {
      "cell_type": "markdown",
      "source": [
        "## checking correlation between features and Accident severity (label)"
      ],
      "metadata": {
        "id": "9U4UVH2tiR59"
      }
    },
    {
      "cell_type": "code",
      "source": [
        "corr = df.corr()['accident_severity']"
      ],
      "metadata": {
        "id": "plT_3JbYT9TP"
      },
      "execution_count": 2851,
      "outputs": []
    },
    {
      "cell_type": "code",
      "source": [
        "corr[corr.values>.01]"
      ],
      "metadata": {
        "colab": {
          "base_uri": "https://localhost:8080/"
        },
        "id": "odmkJnL3ULYF",
        "outputId": "e564c762-6fa7-4241-e6be-d5eecab2b405"
      },
      "execution_count": 2852,
      "outputs": [
        {
          "output_type": "execute_result",
          "data": {
            "text/plain": [
              "location_easting_osgr                          0.034544\n",
              "longitude                                      0.034701\n",
              "accident_severity                              1.000000\n",
              "number_of_vehicles                             0.072435\n",
              "junction_detail                                0.033127\n",
              "junction_control                               0.066518\n",
              "second_road_class                              0.059219\n",
              "second_road_number                             0.018898\n",
              "pedestrian_crossing_human_control              0.025103\n",
              "pedestrian_crossing_physical_facilities        0.022361\n",
              "weather_conditions                             0.020590\n",
              "road_surface_conditions                        0.012486\n",
              "special_conditions_at_site                     0.010297\n",
              "did_police_officer_attend_scene_of_accident    0.106049\n",
              "trunk_road_flag                                0.030550\n",
              "Name: accident_severity, dtype: float64"
            ]
          },
          "metadata": {},
          "execution_count": 2852
        }
      ]
    },
    {
      "cell_type": "code",
      "source": [
        "corr[corr.values<-.03]"
      ],
      "metadata": {
        "colab": {
          "base_uri": "https://localhost:8080/"
        },
        "id": "1fW2UTGuihZl",
        "outputId": "9ed09c5f-2a49-4f2e-b5d9-aee627f35d0c"
      },
      "execution_count": 2853,
      "outputs": [
        {
          "output_type": "execute_result",
          "data": {
            "text/plain": [
              "accident_year              -0.055737\n",
              "location_northing_osgr     -0.038916\n",
              "latitude                   -0.038931\n",
              "police_force               -0.051028\n",
              "number_of_casualties       -0.065578\n",
              "local_authority_district   -0.054025\n",
              "road_type                  -0.036812\n",
              "speed_limit                -0.082391\n",
              "light_conditions           -0.052661\n",
              "urban_or_rural_area        -0.088359\n",
              "Name: accident_severity, dtype: float64"
            ]
          },
          "metadata": {},
          "execution_count": 2853
        }
      ]
    },
    {
      "cell_type": "code",
      "source": [
        "df.columns"
      ],
      "metadata": {
        "colab": {
          "base_uri": "https://localhost:8080/"
        },
        "id": "xzWlmJwUX1jZ",
        "outputId": "deeedd61-90dc-4fe1-ce9d-3c6af538be83"
      },
      "execution_count": 2854,
      "outputs": [
        {
          "output_type": "execute_result",
          "data": {
            "text/plain": [
              "Index(['accident_index', 'accident_year', 'accident_reference',\n",
              "       'location_easting_osgr', 'location_northing_osgr', 'longitude',\n",
              "       'latitude', 'police_force', 'accident_severity', 'number_of_vehicles',\n",
              "       'number_of_casualties', 'date', 'day_of_week', 'time',\n",
              "       'local_authority_district', 'local_authority_ons_district',\n",
              "       'local_authority_highway', 'first_road_class', 'first_road_number',\n",
              "       'road_type', 'speed_limit', 'junction_detail', 'junction_control',\n",
              "       'second_road_class', 'second_road_number',\n",
              "       'pedestrian_crossing_human_control',\n",
              "       'pedestrian_crossing_physical_facilities', 'light_conditions',\n",
              "       'weather_conditions', 'road_surface_conditions',\n",
              "       'special_conditions_at_site', 'carriageway_hazards',\n",
              "       'urban_or_rural_area', 'did_police_officer_attend_scene_of_accident',\n",
              "       'trunk_road_flag', 'lsoa_of_accident_location'],\n",
              "      dtype='object')"
            ]
          },
          "metadata": {},
          "execution_count": 2854
        }
      ]
    },
    {
      "cell_type": "code",
      "source": [
        "sns.heatmap(df.corr())"
      ],
      "metadata": {
        "colab": {
          "base_uri": "https://localhost:8080/",
          "height": 73
        },
        "id": "Ta6hHQ5XXiID",
        "outputId": "8bc5fd6c-9afc-4814-ccf0-fcf6ae3035b5"
      },
      "execution_count": 2855,
      "outputs": [
        {
          "output_type": "execute_result",
          "data": {
            "text/plain": [
              "<matplotlib.axes._subplots.AxesSubplot at 0x7f119848d650>"
            ]
          },
          "metadata": {},
          "execution_count": 2855
        },
        {
          "output_type": "display_data",
          "data": {
            "text/plain": [
              "<Figure size 432x288 with 2 Axes>"
            ],
            "image/png": "[encoded data removed]"
          },
          "metadata": {
            "needs_background": "light"
          }
        }
      ]
    },
    {
      "cell_type": "markdown",
      "source": [
        "#DNN Iteration 1 - Features: 'weather_conditions','speed_limit'"
      ],
      "metadata": {
        "id": "ZFmM3eyrWSmD"
      }
    },
    {
      "cell_type": "markdown",
      "source": [
        "##Features"
      ],
      "metadata": {
        "id": "Z2hq4azLZP0q"
      }
    },
    {
      "cell_type": "markdown",
      "source": [
        "###Seleceting Features, checking correlation between them, cleaning missing data"
      ],
      "metadata": {
        "id": "fPTlbO4fi89J"
      }
    },
    {
      "cell_type": "code",
      "source": [
        "df_features = df[['weather_conditions', 'speed_limit', 'accident_severity']]"
      ],
      "metadata": {
        "id": "8YPaOyXSGCqv"
      },
      "execution_count": null,
      "outputs": []
    },
    {
      "cell_type": "code",
      "source": [
        "#checking correlation between features\n",
        "df_features.corr()\n",
        "sns.heatmap(df_features.corr())"
      ],
      "metadata": {
        "colab": {
          "base_uri": "https://localhost:8080/",
          "height": 288
        },
        "id": "mpYjZOSqGJUH",
        "outputId": "2cf26489-2c2a-4be8-cb4d-27598af43fcb"
      },
      "execution_count": null,
      "outputs": [
        {
          "output_type": "execute_result",
          "data": {
            "text/plain": [
              "<matplotlib.axes._subplots.AxesSubplot at 0x7f11e14a4790>"
            ]
          },
          "metadata": {},
          "execution_count": 1114
        },
        {
          "output_type": "display_data",
          "data": {
            "text/plain": [
              "<Figure size 432x288 with 2 Axes>"
            ],
            "image/png": "[encoded data removed]"
          },
          "metadata": {
            "needs_background": "light"
          }
        }
      ]
    },
    {
      "cell_type": "code",
      "source": [
        "#checking which values have missing data, note missing data is recorded as -1\n",
        "df_features.min()"
      ],
      "metadata": {
        "colab": {
          "base_uri": "https://localhost:8080/"
        },
        "id": "zTylPeM6GMbu",
        "outputId": "9642ddcb-371b-4031-8724-26f2ec1a8a2f"
      },
      "execution_count": null,
      "outputs": [
        {
          "output_type": "execute_result",
          "data": {
            "text/plain": [
              "weather_conditions   -1.0\n",
              "speed_limit          -1.0\n",
              "accident_severity     1.0\n",
              "dtype: float64"
            ]
          },
          "metadata": {},
          "execution_count": 1115
        }
      ]
    },
    {
      "cell_type": "code",
      "source": [
        "#removing all rows with (missing) data\n",
        "df_features = df_features[df_features['weather_conditions']!=-1]\n",
        "df_features = df_features[df_features['speed_limit']!=0]\n",
        "df_features = df_features[df_features['speed_limit']!=-1]"
      ],
      "metadata": {
        "id": "zXR2v671GR1d"
      },
      "execution_count": null,
      "outputs": []
    },
    {
      "cell_type": "code",
      "source": [
        "#bucketising weather condtion into 2 bins\n",
        "df_features['weather_conditions'] = df_features['weather_conditions'].replace(1,0)\n",
        "df_features['weather_conditions'] = df_features['weather_conditions'].replace(4,0)\n",
        "df_features['weather_conditions'] = df_features['weather_conditions'].replace(5,0)\n",
        "df_features['weather_conditions'] = df_features['weather_conditions'].replace(7,0)\n",
        "df_features['weather_conditions']= df_features['weather_conditions'].replace(2,1)\n",
        "df_features['weather_conditions']= df_features['weather_conditions'].replace(3,1)\n",
        "df_features['weather_conditions'] = df_features['weather_conditions'].replace(6,1)\n",
        "df_features['weather_conditions'] = df_features['weather_conditions'].replace(8,1)\n",
        "df_features['weather_conditions'] = df_features['weather_conditions'].replace(9,1)"
      ],
      "metadata": {
        "id": "gkW3sXWoUayt"
      },
      "execution_count": null,
      "outputs": []
    },
    {
      "cell_type": "code",
      "source": [
        "df_features['weather_conditions'].unique()"
      ],
      "metadata": {
        "colab": {
          "base_uri": "https://localhost:8080/"
        },
        "id": "76N6T2pJVmYJ",
        "outputId": "cfe376ca-ecc0-4580-eb77-2017954a26be"
      },
      "execution_count": null,
      "outputs": [
        {
          "output_type": "execute_result",
          "data": {
            "text/plain": [
              "array([1, 0])"
            ]
          },
          "metadata": {},
          "execution_count": 1118
        }
      ]
    },
    {
      "cell_type": "markdown",
      "source": [
        "### Cleaning Label (accident severity) so that there are 2 classes instead of 3"
      ],
      "metadata": {
        "id": "T7-vFlYIqkdH"
      }
    },
    {
      "cell_type": "code",
      "source": [
        "#check count for each level of accident deverity\n",
        "df_features['accident_severity'].value_counts()"
      ],
      "metadata": {
        "colab": {
          "base_uri": "https://localhost:8080/"
        },
        "id": "xrp3iXSWGVom",
        "outputId": "2e3258a7-c8b7-4b15-e166-6107450a3515"
      },
      "execution_count": null,
      "outputs": [
        {
          "output_type": "execute_result",
          "data": {
            "text/plain": [
              "3    1225494\n",
              "2     230660\n",
              "1      18134\n",
              "Name: accident_severity, dtype: int64"
            ]
          },
          "metadata": {},
          "execution_count": 1119
        }
      ]
    },
    {
      "cell_type": "code",
      "source": [
        "#replace all accident severities where severiry is 2 or 3 and group them into 1 bucket (non-fatal)\n",
        "df_features['accident_severity'] = df_features['accident_severity'].replace(2,0)\n",
        "df_features['accident_severity'] = df_features['accident_severity'].replace(3,0)"
      ],
      "metadata": {
        "id": "S46-vEt-IIdt"
      },
      "execution_count": null,
      "outputs": []
    },
    {
      "cell_type": "code",
      "source": [
        "#create 2 dataframe, 1 for each class, and print the size each\n",
        "class_1 = df_features[df_features['accident_severity'] == 1]\n",
        "class_0 = df_features[df_features['accident_severity'] == 0]\n",
        "print('class 1 (fatal):', len(class_1))\n",
        "print('class 0 (non-fatal):', len(class_0))"
      ],
      "metadata": {
        "colab": {
          "base_uri": "https://localhost:8080/"
        },
        "id": "Si2pFQVpGYed",
        "outputId": "d5ed88a4-c4bb-4697-ff86-d83655c8b968"
      },
      "execution_count": null,
      "outputs": [
        {
          "output_type": "stream",
          "name": "stdout",
          "text": [
            "class 1 (fatal): 18134\n",
            "class 0 (non-fatal): 1456154\n"
          ]
        }
      ]
    },
    {
      "cell_type": "markdown",
      "source": [
        "###Accounting for imbalance in the dataset by undersampling"
      ],
      "metadata": {
        "id": "QsfhNofwqxHX"
      }
    },
    {
      "cell_type": "code",
      "source": [
        "#get the length of the dataset for each class/label\n",
        "class_count_0, class_count_1 = df_features['accident_severity'].value_counts()"
      ],
      "metadata": {
        "id": "jlbwQRYkGXO7"
      },
      "execution_count": null,
      "outputs": []
    },
    {
      "cell_type": "code",
      "source": [
        "#undersampling of class 0 to balance the count of data for each class/label\n",
        "class_0_under = class_0.sample(class_count_1)\n",
        "df_features_under = pd.concat([class_0_under, class_1], axis=0)"
      ],
      "metadata": {
        "id": "rcfNAlgKGZ45"
      },
      "execution_count": null,
      "outputs": []
    },
    {
      "cell_type": "code",
      "source": [
        "#print the size of the new dataset for each class/label after undersampling\n",
        "class_1 = df_features_under[df_features_under['accident_severity'] == 1]\n",
        "class_0 = df_features_under[df_features_under['accident_severity'] == 0]\n",
        "print('class 1 (fatal):', len(class_1))\n",
        "print('class 0 (non-fatal):', len(class_0))"
      ],
      "metadata": {
        "colab": {
          "base_uri": "https://localhost:8080/"
        },
        "id": "KW-bGJSdGbPy",
        "outputId": "19f465e2-02a9-453f-d480-ff406a311035"
      },
      "execution_count": null,
      "outputs": [
        {
          "output_type": "stream",
          "name": "stdout",
          "text": [
            "class 1 (fatal): 18134\n",
            "class 0 (non-fatal): 18134\n"
          ]
        }
      ]
    },
    {
      "cell_type": "markdown",
      "source": [
        "###splitting the dataset in training and test datasets"
      ],
      "metadata": {
        "id": "8HV78KRBq6w7"
      }
    },
    {
      "cell_type": "code",
      "source": [
        "#splitting the dataset into training and test sets\n",
        "train_features_under, test_features_under = train_test_split(df_features_under, test_size=0.25)"
      ],
      "metadata": {
        "id": "4jG6VXFgBkb5"
      },
      "execution_count": null,
      "outputs": []
    },
    {
      "cell_type": "code",
      "source": [
        "#pop out the label column from the train and test undersampled datasets\n",
        "train_label_under = train_features_under.pop('accident_severity')\n",
        "test_label_under = test_features_under.pop('accident_severity')"
      ],
      "metadata": {
        "id": "1BaT8flCBkb8"
      },
      "execution_count": null,
      "outputs": []
    },
    {
      "cell_type": "markdown",
      "source": [
        "## DNN Classifier"
      ],
      "metadata": {
        "id": "YAO07jYS_Ot3"
      }
    },
    {
      "cell_type": "markdown",
      "source": [
        "###defining input function, creating classifier, training classifer"
      ],
      "metadata": {
        "id": "_DtYRqYgrEDd"
      }
    },
    {
      "cell_type": "code",
      "source": [
        "def input_fn(features, labels, training=True, batch_size=344):\n",
        "    # Convert the inputs to a Dataset.\n",
        "    dataset = tf.data.Dataset.from_tensor_slices((dict(features), labels))\n",
        "    # Shuffle and repeat if you are in training mode.\n",
        "    if training:\n",
        "        dataset = dataset.shuffle(1000).repeat()\n",
        "    return dataset.batch(batch_size)"
      ],
      "metadata": {
        "id": "xF5Afw1RBkb-"
      },
      "execution_count": null,
      "outputs": []
    },
    {
      "cell_type": "code",
      "source": [
        "# creating a tensorflow Feature column list\n",
        "my_feature_columns = []\n",
        "for key in train_features_under.keys():\n",
        "    my_feature_columns.append(tf.feature_column.numeric_column(key=key))\n",
        "my_feature_columns"
      ],
      "metadata": {
        "colab": {
          "base_uri": "https://localhost:8080/"
        },
        "outputId": "6971b37f-21b0-4954-a92e-81e109225235",
        "id": "JdrP9-6xBkb_"
      },
      "execution_count": null,
      "outputs": [
        {
          "output_type": "execute_result",
          "data": {
            "text/plain": [
              "[NumericColumn(key='weather_conditions', shape=(1,), default_value=None, dtype=tf.float32, normalizer_fn=None),\n",
              " NumericColumn(key='speed_limit', shape=(1,), default_value=None, dtype=tf.float32, normalizer_fn=None)]"
            ]
          },
          "metadata": {},
          "execution_count": 1128
        }
      ]
    },
    {
      "cell_type": "code",
      "source": [
        "# Build a DNN with 2 hidden layers with 30 and 10 hidden nodes each.\n",
        "classifier = tf.estimator.DNNClassifier(\n",
        "    feature_columns=my_feature_columns,\n",
        "    # Two hidden layers of 30 and 10 nodes respectively.\n",
        "    hidden_units=[30, 10],\n",
        "    # The model must choose between 2 classes.\n",
        "    n_classes=2)"
      ],
      "metadata": {
        "colab": {
          "base_uri": "https://localhost:8080/"
        },
        "outputId": "4da4d390-0651-468b-f796-79dfa4e8d424",
        "id": "PgxqnyxhBkcA"
      },
      "execution_count": null,
      "outputs": [
        {
          "output_type": "stream",
          "name": "stdout",
          "text": [
            "INFO:tensorflow:Using default config.\n",
            "WARNING:tensorflow:Using temporary folder as model directory: /tmp/tmpe6gz2waf\n",
            "INFO:tensorflow:Using config: {'_model_dir': '/tmp/tmpe6gz2waf', '_tf_random_seed': None, '_save_summary_steps': 100, '_save_checkpoints_steps': None, '_save_checkpoints_secs': 600, '_session_config': allow_soft_placement: true\n",
            "graph_options {\n",
            "  rewrite_options {\n",
            "    meta_optimizer_iterations: ONE\n",
            "  }\n",
            "}\n",
            ", '_keep_checkpoint_max': 5, '_keep_checkpoint_every_n_hours': 10000, '_log_step_count_steps': 100, '_train_distribute': None, '_device_fn': None, '_protocol': None, '_eval_distribute': None, '_experimental_distribute': None, '_experimental_max_worker_delay_secs': None, '_session_creation_timeout_secs': 7200, '_checkpoint_save_graph_def': True, '_service': None, '_cluster_spec': ClusterSpec({}), '_task_type': 'worker', '_task_id': 0, '_global_id_in_cluster': 0, '_master': '', '_evaluation_master': '', '_is_chief': True, '_num_ps_replicas': 0, '_num_worker_replicas': 1}\n"
          ]
        }
      ]
    },
    {
      "cell_type": "code",
      "source": [
        "classifier.train(input_fn=lambda: input_fn(train_features_under, train_label_under, training=True),steps=5000)\n",
        "# We include a lambda to avoid creating an inner function "
      ],
      "metadata": {
        "colab": {
          "base_uri": "https://localhost:8080/"
        },
        "outputId": "c99e4105-7b72-41aa-cf54-7c6e0e07fb2c",
        "id": "GCygWhEgBkcB"
      },
      "execution_count": null,
      "outputs": [
        {
          "output_type": "stream",
          "name": "stdout",
          "text": [
            "INFO:tensorflow:Calling model_fn.\n",
            "INFO:tensorflow:Done calling model_fn.\n",
            "INFO:tensorflow:Create CheckpointSaverHook.\n",
            "INFO:tensorflow:Graph was finalized.\n",
            "INFO:tensorflow:Restoring parameters from /tmp/tmpe6gz2waf/model.ckpt-5000\n",
            "WARNING:tensorflow:From /usr/local/lib/python3.7/dist-packages/tensorflow/python/training/saver.py:1161: get_checkpoint_mtimes (from tensorflow.python.training.checkpoint_management) is deprecated and will be removed in a future version.\n",
            "Instructions for updating:\n",
            "Use standard file utilities to get mtimes.\n",
            "INFO:tensorflow:Running local_init_op.\n",
            "INFO:tensorflow:Done running local_init_op.\n",
            "INFO:tensorflow:Calling checkpoint listeners before saving checkpoint 5000...\n",
            "INFO:tensorflow:Saving checkpoints for 5000 into /tmp/tmpe6gz2waf/model.ckpt.\n",
            "INFO:tensorflow:Calling checkpoint listeners after saving checkpoint 5000...\n",
            "INFO:tensorflow:loss = 0.66826135, step = 5000\n",
            "INFO:tensorflow:global_step/sec: 274.428\n",
            "INFO:tensorflow:loss = 0.6725922, step = 5100 (0.368 sec)\n",
            "INFO:tensorflow:global_step/sec: 355.6\n",
            "INFO:tensorflow:loss = 0.67754954, step = 5200 (0.281 sec)\n",
            "INFO:tensorflow:global_step/sec: 340.594\n",
            "INFO:tensorflow:loss = 0.65349394, step = 5300 (0.295 sec)\n",
            "INFO:tensorflow:global_step/sec: 320.683\n",
            "INFO:tensorflow:loss = 0.6822354, step = 5400 (0.311 sec)\n",
            "INFO:tensorflow:global_step/sec: 344.63\n",
            "INFO:tensorflow:loss = 0.6661034, step = 5500 (0.289 sec)\n",
            "INFO:tensorflow:global_step/sec: 356.571\n",
            "INFO:tensorflow:loss = 0.66307545, step = 5600 (0.282 sec)\n",
            "INFO:tensorflow:global_step/sec: 326.09\n",
            "INFO:tensorflow:loss = 0.667986, step = 5700 (0.307 sec)\n",
            "INFO:tensorflow:global_step/sec: 358.919\n",
            "INFO:tensorflow:loss = 0.6671116, step = 5800 (0.278 sec)\n",
            "INFO:tensorflow:global_step/sec: 354.453\n",
            "INFO:tensorflow:loss = 0.6672814, step = 5900 (0.283 sec)\n",
            "INFO:tensorflow:global_step/sec: 348.324\n",
            "INFO:tensorflow:loss = 0.6624296, step = 6000 (0.286 sec)\n",
            "INFO:tensorflow:global_step/sec: 338.548\n",
            "INFO:tensorflow:loss = 0.6514321, step = 6100 (0.296 sec)\n",
            "INFO:tensorflow:global_step/sec: 334.203\n",
            "INFO:tensorflow:loss = 0.6560369, step = 6200 (0.299 sec)\n",
            "INFO:tensorflow:global_step/sec: 364.437\n",
            "INFO:tensorflow:loss = 0.66813815, step = 6300 (0.274 sec)\n",
            "INFO:tensorflow:global_step/sec: 304.815\n",
            "INFO:tensorflow:loss = 0.6702972, step = 6400 (0.329 sec)\n",
            "INFO:tensorflow:global_step/sec: 369.486\n",
            "INFO:tensorflow:loss = 0.66669303, step = 6500 (0.268 sec)\n",
            "INFO:tensorflow:global_step/sec: 323.047\n",
            "INFO:tensorflow:loss = 0.67589664, step = 6600 (0.312 sec)\n",
            "INFO:tensorflow:global_step/sec: 343.169\n",
            "INFO:tensorflow:loss = 0.67430854, step = 6700 (0.291 sec)\n",
            "INFO:tensorflow:global_step/sec: 345.529\n",
            "INFO:tensorflow:loss = 0.6636614, step = 6800 (0.293 sec)\n",
            "INFO:tensorflow:global_step/sec: 358.868\n",
            "INFO:tensorflow:loss = 0.6677433, step = 6900 (0.275 sec)\n",
            "INFO:tensorflow:global_step/sec: 339.056\n",
            "INFO:tensorflow:loss = 0.66992766, step = 7000 (0.298 sec)\n",
            "INFO:tensorflow:global_step/sec: 315.151\n",
            "INFO:tensorflow:loss = 0.67001593, step = 7100 (0.315 sec)\n",
            "INFO:tensorflow:global_step/sec: 354.137\n",
            "INFO:tensorflow:loss = 0.6614558, step = 7200 (0.281 sec)\n",
            "INFO:tensorflow:global_step/sec: 347.494\n",
            "INFO:tensorflow:loss = 0.6690711, step = 7300 (0.286 sec)\n",
            "INFO:tensorflow:global_step/sec: 344.287\n",
            "INFO:tensorflow:loss = 0.66049314, step = 7400 (0.291 sec)\n",
            "INFO:tensorflow:global_step/sec: 326.607\n",
            "INFO:tensorflow:loss = 0.6609442, step = 7500 (0.307 sec)\n",
            "INFO:tensorflow:global_step/sec: 359.435\n",
            "INFO:tensorflow:loss = 0.66393787, step = 7600 (0.280 sec)\n",
            "INFO:tensorflow:global_step/sec: 377.706\n",
            "INFO:tensorflow:loss = 0.66102356, step = 7700 (0.262 sec)\n",
            "INFO:tensorflow:global_step/sec: 348.206\n",
            "INFO:tensorflow:loss = 0.6781437, step = 7800 (0.289 sec)\n",
            "INFO:tensorflow:global_step/sec: 358.535\n",
            "INFO:tensorflow:loss = 0.67084426, step = 7900 (0.276 sec)\n",
            "INFO:tensorflow:global_step/sec: 332.508\n",
            "INFO:tensorflow:loss = 0.6608909, step = 8000 (0.300 sec)\n",
            "INFO:tensorflow:global_step/sec: 343.519\n",
            "INFO:tensorflow:loss = 0.6650537, step = 8100 (0.296 sec)\n",
            "INFO:tensorflow:global_step/sec: 333.435\n",
            "INFO:tensorflow:loss = 0.6618671, step = 8200 (0.297 sec)\n",
            "INFO:tensorflow:global_step/sec: 348.597\n",
            "INFO:tensorflow:loss = 0.6556971, step = 8300 (0.288 sec)\n",
            "INFO:tensorflow:global_step/sec: 330.728\n",
            "INFO:tensorflow:loss = 0.65024495, step = 8400 (0.302 sec)\n",
            "INFO:tensorflow:global_step/sec: 337.802\n",
            "INFO:tensorflow:loss = 0.6693242, step = 8500 (0.296 sec)\n",
            "INFO:tensorflow:global_step/sec: 352.176\n",
            "INFO:tensorflow:loss = 0.66260916, step = 8600 (0.283 sec)\n",
            "INFO:tensorflow:global_step/sec: 373.037\n",
            "INFO:tensorflow:loss = 0.64605, step = 8700 (0.269 sec)\n",
            "INFO:tensorflow:global_step/sec: 343.594\n",
            "INFO:tensorflow:loss = 0.6694387, step = 8800 (0.292 sec)\n",
            "INFO:tensorflow:global_step/sec: 348.849\n",
            "INFO:tensorflow:loss = 0.67327064, step = 8900 (0.287 sec)\n",
            "INFO:tensorflow:global_step/sec: 356.482\n",
            "INFO:tensorflow:loss = 0.66730314, step = 9000 (0.282 sec)\n",
            "INFO:tensorflow:global_step/sec: 362.796\n",
            "INFO:tensorflow:loss = 0.66894656, step = 9100 (0.271 sec)\n",
            "INFO:tensorflow:global_step/sec: 363.149\n",
            "INFO:tensorflow:loss = 0.667659, step = 9200 (0.278 sec)\n",
            "INFO:tensorflow:global_step/sec: 338.604\n",
            "INFO:tensorflow:loss = 0.6633547, step = 9300 (0.293 sec)\n",
            "INFO:tensorflow:global_step/sec: 325.78\n",
            "INFO:tensorflow:loss = 0.64508533, step = 9400 (0.307 sec)\n",
            "INFO:tensorflow:global_step/sec: 250.89\n",
            "INFO:tensorflow:loss = 0.6651129, step = 9500 (0.406 sec)\n",
            "INFO:tensorflow:global_step/sec: 210.433\n",
            "INFO:tensorflow:loss = 0.6585248, step = 9600 (0.471 sec)\n",
            "INFO:tensorflow:global_step/sec: 336.074\n",
            "INFO:tensorflow:loss = 0.6576511, step = 9700 (0.295 sec)\n",
            "INFO:tensorflow:global_step/sec: 346.089\n",
            "INFO:tensorflow:loss = 0.65886474, step = 9800 (0.290 sec)\n",
            "INFO:tensorflow:global_step/sec: 327.559\n",
            "INFO:tensorflow:loss = 0.65890753, step = 9900 (0.308 sec)\n",
            "INFO:tensorflow:Calling checkpoint listeners before saving checkpoint 10000...\n",
            "INFO:tensorflow:Saving checkpoints for 10000 into /tmp/tmpe6gz2waf/model.ckpt.\n",
            "INFO:tensorflow:Calling checkpoint listeners after saving checkpoint 10000...\n",
            "INFO:tensorflow:Loss for final step: 0.65997654.\n"
          ]
        },
        {
          "output_type": "execute_result",
          "data": {
            "text/plain": [
              "<tensorflow_estimator.python.estimator.canned.dnn.DNNClassifierV2 at 0x7f11cd0bc5d0>"
            ]
          },
          "metadata": {},
          "execution_count": 1141
        }
      ]
    },
    {
      "cell_type": "markdown",
      "source": [
        "###Evaluating Classifier"
      ],
      "metadata": {
        "id": "7m_mQ38dtgRo"
      }
    },
    {
      "cell_type": "code",
      "source": [
        "#determine the accurracy of th classifier\n",
        "eval_result = classifier.evaluate(\n",
        "    input_fn=lambda: input_fn(test_features_under, test_label_under, training=False))\n",
        "print('\\nTest set accuracy: {accuracy:0.3f}\\n'.format(**eval_result))"
      ],
      "metadata": {
        "colab": {
          "base_uri": "https://localhost:8080/"
        },
        "outputId": "5eb9de51-1f26-40a5-a4af-e037f962180d",
        "id": "syOAkL5FBkcC"
      },
      "execution_count": null,
      "outputs": [
        {
          "output_type": "stream",
          "name": "stdout",
          "text": [
            "INFO:tensorflow:Calling model_fn.\n",
            "INFO:tensorflow:Done calling model_fn.\n",
            "INFO:tensorflow:Starting evaluation at 2022-04-08T14:10:33\n",
            "INFO:tensorflow:Graph was finalized.\n",
            "INFO:tensorflow:Restoring parameters from /tmp/tmpe6gz2waf/model.ckpt-10000\n",
            "INFO:tensorflow:Running local_init_op.\n",
            "INFO:tensorflow:Done running local_init_op.\n",
            "INFO:tensorflow:Inference Time : 0.73269s\n",
            "INFO:tensorflow:Finished evaluation at 2022-04-08-14:10:34\n",
            "INFO:tensorflow:Saving dict for global step 10000: accuracy = 0.66317415, accuracy_baseline = 0.50104773, auc = 0.67607296, auc_precision_recall = 0.6433748, average_loss = 0.6601647, global_step = 10000, label/mean = 0.50104773, loss = 0.65972394, precision = 0.6687061, prediction/mean = 0.5383084, recall = 0.64957076\n",
            "INFO:tensorflow:Saving 'checkpoint_path' summary for global step 10000: /tmp/tmpe6gz2waf/model.ckpt-10000\n",
            "\n",
            "Test set accuracy: 0.663\n",
            "\n"
          ]
        }
      ]
    },
    {
      "cell_type": "code",
      "source": [
        "#create predictions list for all test set\n",
        "predictions_under = list(classifier.predict(input_fn=lambda: input_fn(test_features_under, test_label_under, training=False)))"
      ],
      "metadata": {
        "outputId": "0b6d325b-a3b8-4f4f-e543-d601529d05b4",
        "colab": {
          "base_uri": "https://localhost:8080/"
        },
        "id": "y-dTV-wCBkcD"
      },
      "execution_count": null,
      "outputs": [
        {
          "output_type": "stream",
          "name": "stdout",
          "text": [
            "INFO:tensorflow:Calling model_fn.\n",
            "INFO:tensorflow:Done calling model_fn.\n",
            "INFO:tensorflow:Graph was finalized.\n",
            "INFO:tensorflow:Restoring parameters from /tmp/tmpe6gz2waf/model.ckpt-10000\n",
            "INFO:tensorflow:Running local_init_op.\n",
            "INFO:tensorflow:Done running local_init_op.\n"
          ]
        }
      ]
    },
    {
      "cell_type": "code",
      "source": [
        "#create a dataframe of predictions for test set\n",
        "df_predictions = pd.DataFrame(predictions_under)"
      ],
      "metadata": {
        "id": "0REokFMWEz8b"
      },
      "execution_count": null,
      "outputs": []
    },
    {
      "cell_type": "markdown",
      "source": [
        "###Plot of Results"
      ],
      "metadata": {
        "id": "Poobt2fy5GqN"
      }
    },
    {
      "cell_type": "code",
      "source": [
        "#add the actual matches to the prediciton dataframe\n",
        "df_predictions['actual label']=test_label_under.values"
      ],
      "metadata": {
        "id": "gxx64qCXSjMl"
      },
      "execution_count": null,
      "outputs": []
    },
    {
      "cell_type": "code",
      "source": [
        "#add the class predicitons from the DNN to the dataframe\n",
        "df_predictions['predicted label']=pd.DataFrame.from_records(df_predictions['class_ids'])"
      ],
      "metadata": {
        "id": "PBWF_w1jV3uf"
      },
      "execution_count": null,
      "outputs": []
    },
    {
      "cell_type": "code",
      "source": [
        "#add a binary column to show if the dnn predictions were correct\n",
        "df_predictions['match?']=df_predictions['predicted label']-df_predictions['actual label']\n",
        "df_predictions['match?']=df_predictions['match?'].replace(0,'match')\n",
        "df_predictions['match?']=df_predictions['match?'].replace(-1,'not match')\n",
        "df_predictions['match?']=df_predictions['match?'].replace(1,'not match')"
      ],
      "metadata": {
        "id": "Hv9wqseOSmk4"
      },
      "execution_count": null,
      "outputs": []
    },
    {
      "cell_type": "code",
      "source": [
        "#view the prdictions dataframe\n",
        "a=df_predictions[df_predictions['actual label']==1]\n",
        "a"
      ],
      "metadata": {
        "colab": {
          "base_uri": "https://localhost:8080/",
          "height": 424
        },
        "id": "Z400MOZZYj20",
        "outputId": "22202287-832c-4ed3-9e97-0275425ba58e"
      },
      "execution_count": null,
      "outputs": [
        {
          "output_type": "execute_result",
          "data": {
            "text/plain": [
              "             logits      logistic             probabilities class_ids classes  \\\n",
              "2     [-0.07688499]  [0.48078823]   [0.51921177, 0.4807882]       [0]  [b'0']   \n",
              "4      [0.11005997]   [0.5274872]   [0.47251275, 0.5274873]       [1]  [b'1']   \n",
              "5     [-0.07688499]  [0.48078823]   [0.51921177, 0.4807882]       [0]  [b'0']   \n",
              "7      [0.28512645]  [0.57080257]  [0.42919737, 0.57080257]       [1]  [b'1']   \n",
              "9     [-0.07688499]  [0.48078823]   [0.51921177, 0.4807882]       [0]  [b'0']   \n",
              "...             ...           ...                       ...       ...     ...   \n",
              "9060  [-0.07688499]  [0.48078823]   [0.51921177, 0.4807882]       [0]  [b'0']   \n",
              "9062   [0.47207093]  [0.61587375]   [0.38412622, 0.6158738]       [1]  [b'1']   \n",
              "9063  [-0.07688499]  [0.48078823]   [0.51921177, 0.4807882]       [0]  [b'0']   \n",
              "9065   [0.47207093]  [0.61587375]   [0.38412622, 0.6158738]       [1]  [b'1']   \n",
              "9066    [0.4661286]    [0.614467]    [0.38553298, 0.614467]       [1]  [b'1']   \n",
              "\n",
              "     all_class_ids   all_classes  actual label  predicted label     match?  \n",
              "2           [0, 1]  [b'0', b'1']             1                0  not match  \n",
              "4           [0, 1]  [b'0', b'1']             1                1      match  \n",
              "5           [0, 1]  [b'0', b'1']             1                0  not match  \n",
              "7           [0, 1]  [b'0', b'1']             1                1      match  \n",
              "9           [0, 1]  [b'0', b'1']             1                0  not match  \n",
              "...            ...           ...           ...              ...        ...  \n",
              "9060        [0, 1]  [b'0', b'1']             1                0  not match  \n",
              "9062        [0, 1]  [b'0', b'1']             1                1      match  \n",
              "9063        [0, 1]  [b'0', b'1']             1                0  not match  \n",
              "9065        [0, 1]  [b'0', b'1']             1                1      match  \n",
              "9066        [0, 1]  [b'0', b'1']             1                1      match  \n",
              "\n",
              "[4543 rows x 10 columns]"
            ],
            "text/html": [
              "\n",
              "  <div id=\"df-66a1770e-00c2-4adf-b2b1-fb3451868054\">\n",
              "    <div class=\"colab-df-container\">\n",
              "      <div>\n",
              "<style scoped>\n",
              "    .dataframe tbody tr th:only-of-type {\n",
              "        vertical-align: middle;\n",
              "    }\n",
              "\n",
              "    .dataframe tbody tr th {\n",
              "        vertical-align: top;\n",
              "    }\n",
              "\n",
              "    .dataframe thead th {\n",
              "        text-align: right;\n",
              "    }\n",
              "</style>\n",
              "<table border=\"1\" class=\"dataframe\">\n",
              "  <thead>\n",
              "    <tr style=\"text-align: right;\">\n",
              "      <th></th>\n",
              "      <th>logits</th>\n",
              "      <th>logistic</th>\n",
              "      <th>probabilities</th>\n",
              "      <th>class_ids</th>\n",
              "      <th>classes</th>\n",
              "      <th>all_class_ids</th>\n",
              "      <th>all_classes</th>\n",
              "      <th>actual label</th>\n",
              "      <th>predicted label</th>\n",
              "      <th>match?</th>\n",
              "    </tr>\n",
              "  </thead>\n",
              "  <tbody>\n",
              "    <tr>\n",
              "      <th>2</th>\n",
              "      <td>[-0.07688499]</td>\n",
              "      <td>[0.48078823]</td>\n",
              "      <td>[0.51921177, 0.4807882]</td>\n",
              "      <td>[0]</td>\n",
              "      <td>[b'0']</td>\n",
              "      <td>[0, 1]</td>\n",
              "      <td>[b'0', b'1']</td>\n",
              "      <td>1</td>\n",
              "      <td>0</td>\n",
              "      <td>not match</td>\n",
              "    </tr>\n",
              "    <tr>\n",
              "      <th>4</th>\n",
              "      <td>[0.11005997]</td>\n",
              "      <td>[0.5274872]</td>\n",
              "      <td>[0.47251275, 0.5274873]</td>\n",
              "      <td>[1]</td>\n",
              "      <td>[b'1']</td>\n",
              "      <td>[0, 1]</td>\n",
              "      <td>[b'0', b'1']</td>\n",
              "      <td>1</td>\n",
              "      <td>1</td>\n",
              "      <td>match</td>\n",
              "    </tr>\n",
              "    <tr>\n",
              "      <th>5</th>\n",
              "      <td>[-0.07688499]</td>\n",
              "      <td>[0.48078823]</td>\n",
              "      <td>[0.51921177, 0.4807882]</td>\n",
              "      <td>[0]</td>\n",
              "      <td>[b'0']</td>\n",
              "      <td>[0, 1]</td>\n",
              "      <td>[b'0', b'1']</td>\n",
              "      <td>1</td>\n",
              "      <td>0</td>\n",
              "      <td>not match</td>\n",
              "    </tr>\n",
              "    <tr>\n",
              "      <th>7</th>\n",
              "      <td>[0.28512645]</td>\n",
              "      <td>[0.57080257]</td>\n",
              "      <td>[0.42919737, 0.57080257]</td>\n",
              "      <td>[1]</td>\n",
              "      <td>[b'1']</td>\n",
              "      <td>[0, 1]</td>\n",
              "      <td>[b'0', b'1']</td>\n",
              "      <td>1</td>\n",
              "      <td>1</td>\n",
              "      <td>match</td>\n",
              "    </tr>\n",
              "    <tr>\n",
              "      <th>9</th>\n",
              "      <td>[-0.07688499]</td>\n",
              "      <td>[0.48078823]</td>\n",
              "      <td>[0.51921177, 0.4807882]</td>\n",
              "      <td>[0]</td>\n",
              "      <td>[b'0']</td>\n",
              "      <td>[0, 1]</td>\n",
              "      <td>[b'0', b'1']</td>\n",
              "      <td>1</td>\n",
              "      <td>0</td>\n",
              "      <td>not match</td>\n",
              "    </tr>\n",
              "    <tr>\n",
              "      <th>...</th>\n",
              "      <td>...</td>\n",
              "      <td>...</td>\n",
              "      <td>...</td>\n",
              "      <td>...</td>\n",
              "      <td>...</td>\n",
              "      <td>...</td>\n",
              "      <td>...</td>\n",
              "      <td>...</td>\n",
              "      <td>...</td>\n",
              "      <td>...</td>\n",
              "    </tr>\n",
              "    <tr>\n",
              "      <th>9060</th>\n",
              "      <td>[-0.07688499]</td>\n",
              "      <td>[0.48078823]</td>\n",
              "      <td>[0.51921177, 0.4807882]</td>\n",
              "      <td>[0]</td>\n",
              "      <td>[b'0']</td>\n",
              "      <td>[0, 1]</td>\n",
              "      <td>[b'0', b'1']</td>\n",
              "      <td>1</td>\n",
              "      <td>0</td>\n",
              "      <td>not match</td>\n",
              "    </tr>\n",
              "    <tr>\n",
              "      <th>9062</th>\n",
              "      <td>[0.47207093]</td>\n",
              "      <td>[0.61587375]</td>\n",
              "      <td>[0.38412622, 0.6158738]</td>\n",
              "      <td>[1]</td>\n",
              "      <td>[b'1']</td>\n",
              "      <td>[0, 1]</td>\n",
              "      <td>[b'0', b'1']</td>\n",
              "      <td>1</td>\n",
              "      <td>1</td>\n",
              "      <td>match</td>\n",
              "    </tr>\n",
              "    <tr>\n",
              "      <th>9063</th>\n",
              "      <td>[-0.07688499]</td>\n",
              "      <td>[0.48078823]</td>\n",
              "      <td>[0.51921177, 0.4807882]</td>\n",
              "      <td>[0]</td>\n",
              "      <td>[b'0']</td>\n",
              "      <td>[0, 1]</td>\n",
              "      <td>[b'0', b'1']</td>\n",
              "      <td>1</td>\n",
              "      <td>0</td>\n",
              "      <td>not match</td>\n",
              "    </tr>\n",
              "    <tr>\n",
              "      <th>9065</th>\n",
              "      <td>[0.47207093]</td>\n",
              "      <td>[0.61587375]</td>\n",
              "      <td>[0.38412622, 0.6158738]</td>\n",
              "      <td>[1]</td>\n",
              "      <td>[b'1']</td>\n",
              "      <td>[0, 1]</td>\n",
              "      <td>[b'0', b'1']</td>\n",
              "      <td>1</td>\n",
              "      <td>1</td>\n",
              "      <td>match</td>\n",
              "    </tr>\n",
              "    <tr>\n",
              "      <th>9066</th>\n",
              "      <td>[0.4661286]</td>\n",
              "      <td>[0.614467]</td>\n",
              "      <td>[0.38553298, 0.614467]</td>\n",
              "      <td>[1]</td>\n",
              "      <td>[b'1']</td>\n",
              "      <td>[0, 1]</td>\n",
              "      <td>[b'0', b'1']</td>\n",
              "      <td>1</td>\n",
              "      <td>1</td>\n",
              "      <td>match</td>\n",
              "    </tr>\n",
              "  </tbody>\n",
              "</table>\n",
              "<p>4543 rows × 10 columns</p>\n",
              "</div>\n",
              "      <button class=\"colab-df-convert\" onclick=\"convertToInteractive('df-66a1770e-00c2-4adf-b2b1-fb3451868054')\"\n",
              "              title=\"Convert this dataframe to an interactive table.\"\n",
              "              style=\"display:none;\">\n",
              "        \n",
              "  <svg xmlns=\"http://www.w3.org/2000/svg\" height=\"24px\"viewBox=\"0 0 24 24\"\n",
              "       width=\"24px\">\n",
              "    <path d=\"M0 0h24v24H0V0z\" fill=\"none\"/>\n",
              "    <path d=\"M18.56 5.44l.94 2.06.94-2.06 2.06-.94-2.06-.94-.94-2.06-.94 2.06-2.06.94zm-11 1L8.5 8.5l.94-2.06 2.06-.94-2.06-.94L8.5 2.5l-.94 2.06-2.06.94zm10 10l.94 2.06.94-2.06 2.06-.94-2.06-.94-.94-2.06-.94 2.06-2.06.94z\"/><path d=\"M17.41 7.96l-1.37-1.37c-.4-.4-.92-.59-1.43-.59-.52 0-1.04.2-1.43.59L10.3 9.45l-7.72 7.72c-.78.78-.78 2.05 0 2.83L4 21.41c.39.39.9.59 1.41.59.51 0 1.02-.2 1.41-.59l7.78-7.78 2.81-2.81c.8-.78.8-2.07 0-2.86zM5.41 20L4 18.59l7.72-7.72 1.47 1.35L5.41 20z\"/>\n",
              "  </svg>\n",
              "      </button>\n",
              "      \n",
              "  <style>\n",
              "    .colab-df-container {\n",
              "      display:flex;\n",
              "      flex-wrap:wrap;\n",
              "      gap: 12px;\n",
              "    }\n",
              "\n",
              "    .colab-df-convert {\n",
              "      background-color: #E8F0FE;\n",
              "      border: none;\n",
              "      border-radius: 50%;\n",
              "      cursor: pointer;\n",
              "      display: none;\n",
              "      fill: #1967D2;\n",
              "      height: 32px;\n",
              "      padding: 0 0 0 0;\n",
              "      width: 32px;\n",
              "    }\n",
              "\n",
              "    .colab-df-convert:hover {\n",
              "      background-color: #E2EBFA;\n",
              "      box-shadow: 0px 1px 2px rgba(60, 64, 67, 0.3), 0px 1px 3px 1px rgba(60, 64, 67, 0.15);\n",
              "      fill: #174EA6;\n",
              "    }\n",
              "\n",
              "    [theme=dark] .colab-df-convert {\n",
              "      background-color: #3B4455;\n",
              "      fill: #D2E3FC;\n",
              "    }\n",
              "\n",
              "    [theme=dark] .colab-df-convert:hover {\n",
              "      background-color: #434B5C;\n",
              "      box-shadow: 0px 1px 3px 1px rgba(0, 0, 0, 0.15);\n",
              "      filter: drop-shadow(0px 1px 2px rgba(0, 0, 0, 0.3));\n",
              "      fill: #FFFFFF;\n",
              "    }\n",
              "  </style>\n",
              "\n",
              "      <script>\n",
              "        const buttonEl =\n",
              "          document.querySelector('#df-66a1770e-00c2-4adf-b2b1-fb3451868054 button.colab-df-convert');\n",
              "        buttonEl.style.display =\n",
              "          google.colab.kernel.accessAllowed ? 'block' : 'none';\n",
              "\n",
              "        async function convertToInteractive(key) {\n",
              "          const element = document.querySelector('#df-66a1770e-00c2-4adf-b2b1-fb3451868054');\n",
              "          const dataTable =\n",
              "            await google.colab.kernel.invokeFunction('convertToInteractive',\n",
              "                                                     [key], {});\n",
              "          if (!dataTable) return;\n",
              "\n",
              "          const docLinkHtml = 'Like what you see? Visit the ' +\n",
              "            '<a target=\"_blank\" href=https://colab.research.google.com/notebooks/data_table.ipynb>data table notebook</a>'\n",
              "            + ' to learn more about interactive tables.';\n",
              "          element.innerHTML = '';\n",
              "          dataTable['output_type'] = 'display_data';\n",
              "          await google.colab.output.renderOutput(dataTable, element);\n",
              "          const docLink = document.createElement('div');\n",
              "          docLink.innerHTML = docLinkHtml;\n",
              "          element.appendChild(docLink);\n",
              "        }\n",
              "      </script>\n",
              "    </div>\n",
              "  </div>\n",
              "  "
            ]
          },
          "metadata": {},
          "execution_count": 1148
        }
      ]
    },
    {
      "cell_type": "code",
      "source": [
        "#create a new dataframe showing only the correct predictions\n",
        "correct_predictions = df_predictions[df_predictions['match?']=='match']\n",
        "#get the count of the correct predctions for eah label\n",
        "correct_pred_count_label_0 , correct_pred_count_label_1 = correct_predictions['predicted label'].value_counts()\n",
        "#get the actual label count for each label\n",
        "actual_count_label_0 , actual_count_label_1 = df_predictions['actual label'].value_counts()"
      ],
      "metadata": {
        "id": "hrRL4FhdYlli"
      },
      "execution_count": null,
      "outputs": []
    },
    {
      "cell_type": "code",
      "source": [
        "#get the accuracy of each labels predictions\n",
        "accuracy_label_0,accuracy_label_1 = correct_pred_count_label_0/actual_count_label_0 , correct_pred_count_label_1/actual_count_label_1\n",
        "accuracy=accuracy_label_0*100,accuracy_label_1*100\n",
        "accuracy=pd.Series(accuracy)\n",
        "print('Accuracy of label 0 (non-fatal): ', accuracy_label_0, '\\nAccuracy of label 1 (fatal): ', accuracy_label_1)"
      ],
      "metadata": {
        "colab": {
          "base_uri": "https://localhost:8080/"
        },
        "id": "nyPLvxHzaZFI",
        "outputId": "32105c58-33d2-40e4-b84b-5100f0ff7228"
      },
      "execution_count": null,
      "outputs": [
        {
          "output_type": "stream",
          "name": "stdout",
          "text": [
            "Accuracy of label 0 (non-fatal):  0.6740039621395554 \n",
            "Accuracy of label 1 (fatal):  0.6522988505747126\n"
          ]
        }
      ]
    },
    {
      "cell_type": "code",
      "source": [
        "#plot the accuracy of each labels predictions\n",
        "fig, axes = plt.subplots(figsize=(18, 10))\n",
        "accuracy.plot(kind='barh')\n",
        "plt.yticks((0,1), ('non-Fatal accident', 'Fatal accident'))\n",
        "plt.xticks((0,10,20,30,40,50,60), ('0%', '10%','20%','30%','40%','50%','60%'))\n",
        "plt.xlabel('prectange accuracy')\n",
        "plt.title('percentage accuracy for each class/label')"
      ],
      "metadata": {
        "colab": {
          "base_uri": "https://localhost:8080/",
          "height": 639
        },
        "id": "RUctVVxqa6Vo",
        "outputId": "8cbbec40-2d8d-468d-efae-f897b71fa6cc"
      },
      "execution_count": null,
      "outputs": [
        {
          "output_type": "execute_result",
          "data": {
            "text/plain": [
              "Text(0.5, 1.0, 'percentage accuracy for each class/label')"
            ]
          },
          "metadata": {},
          "execution_count": 1151
        },
        {
          "output_type": "display_data",
          "data": {
            "text/plain": [
              "<Figure size 1296x720 with 1 Axes>"
            ],
            "image/png": "[encoded data removed]"
          },
          "metadata": {
            "needs_background": "light"
          }
        }
      ]
    },
    {
      "cell_type": "markdown",
      "source": [
        "#Iteration 2 - 'weather_conditions', 'light_conditions','speed_limit'"
      ],
      "metadata": {
        "id": "dG_T2CK7_a5X"
      }
    },
    {
      "cell_type": "markdown",
      "source": [
        "##Features"
      ],
      "metadata": {
        "id": "ML2YnC8B_a5Z"
      }
    },
    {
      "cell_type": "markdown",
      "source": [
        "###Seleceting Features, checking correlation between them, cleaning missing data"
      ],
      "metadata": {
        "id": "rfIHgF-j_a5a"
      }
    },
    {
      "cell_type": "code",
      "source": [
        "df_features = df[['weather_conditions', 'light_conditions','speed_limit','accident_severity']]"
      ],
      "metadata": {
        "id": "ZFTxgttM_a5a"
      },
      "execution_count": null,
      "outputs": []
    },
    {
      "cell_type": "code",
      "source": [
        "#checking correlation between features\n",
        "df_features.corr()\n",
        "sns.heatmap(df_features.corr())"
      ],
      "metadata": {
        "colab": {
          "base_uri": "https://localhost:8080/",
          "height": 73
        },
        "outputId": "7aee7f9a-c2b0-496f-9531-03cfacd09f92",
        "id": "V3ra5dZc_a5c"
      },
      "execution_count": null,
      "outputs": [
        {
          "output_type": "execute_result",
          "data": {
            "text/plain": [
              "<matplotlib.axes._subplots.AxesSubplot at 0x7f11b4309290>"
            ]
          },
          "metadata": {},
          "execution_count": 2235
        },
        {
          "output_type": "display_data",
          "data": {
            "text/plain": [
              "<Figure size 432x288 with 2 Axes>"
            ],
            "image/png": "[encoded data removed]"
          },
          "metadata": {
            "needs_background": "light"
          }
        }
      ]
    },
    {
      "cell_type": "code",
      "source": [
        "#checking which values have missing data, note missing data is recorded as -1\n",
        "df_features.min()"
      ],
      "metadata": {
        "colab": {
          "base_uri": "https://localhost:8080/"
        },
        "outputId": "bf8ce2ee-845c-4b3d-e18c-bfb324bb22b0",
        "id": "RNCdbczJ_a5c"
      },
      "execution_count": null,
      "outputs": [
        {
          "output_type": "execute_result",
          "data": {
            "text/plain": [
              "weather_conditions   -1.0\n",
              "light_conditions     -1.0\n",
              "speed_limit          -1.0\n",
              "accident_severity     1.0\n",
              "dtype: float64"
            ]
          },
          "metadata": {},
          "execution_count": 2236
        }
      ]
    },
    {
      "cell_type": "code",
      "source": [
        "#there are 161 accident that do not have recorded weather conditions, will drop these\n",
        "df_features['weather_conditions'][df_features['weather_conditions']==-1].count()"
      ],
      "metadata": {
        "colab": {
          "base_uri": "https://localhost:8080/"
        },
        "outputId": "3d73ccd6-3ef5-4195-9bce-c8e217e1cd3e",
        "id": "08GsFgIW_a5d"
      },
      "execution_count": null,
      "outputs": [
        {
          "output_type": "execute_result",
          "data": {
            "text/plain": [
              "89"
            ]
          },
          "metadata": {},
          "execution_count": 2237
        }
      ]
    },
    {
      "cell_type": "code",
      "source": [
        "#removing all rows with (missing) data\n",
        "df_features = df_features[df_features['weather_conditions']!=-1]\n",
        "df_features = df_features[df_features['speed_limit']!=0]\n",
        "df_features = df_features[df_features['speed_limit']!=-1]\n",
        "df_features = df_features[df_features['light_conditions']!=-1]"
      ],
      "metadata": {
        "id": "shbWdLAj_a5d"
      },
      "execution_count": null,
      "outputs": []
    },
    {
      "cell_type": "code",
      "source": [
        "df_features['speed_limit']"
      ],
      "metadata": {
        "colab": {
          "base_uri": "https://localhost:8080/"
        },
        "id": "4XbR-boDc_lN",
        "outputId": "2ac7a244-2082-4adb-e2b0-507d4a3cb5ef"
      },
      "execution_count": null,
      "outputs": [
        {
          "output_type": "execute_result",
          "data": {
            "text/plain": [
              "7128354    30.0\n",
              "7128355    30.0\n",
              "7128356    30.0\n",
              "7128357    30.0\n",
              "7128358    30.0\n",
              "           ... \n",
              "8602819    30.0\n",
              "8602820    30.0\n",
              "8602821    60.0\n",
              "8602822    30.0\n",
              "8602823    30.0\n",
              "Name: speed_limit, Length: 1474286, dtype: float64"
            ]
          },
          "metadata": {},
          "execution_count": 2239
        }
      ]
    },
    {
      "cell_type": "code",
      "source": [
        "#bucketising weather condtion into 2 bins\n",
        "df_features['weather_conditions'] = df_features['weather_conditions'].replace(1,0)\n",
        "df_features['weather_conditions'] = df_features['weather_conditions'].replace(4,0)\n",
        "df_features['weather_conditions'] = df_features['weather_conditions'].replace(5,0)\n",
        "df_features['weather_conditions'] = df_features['weather_conditions'].replace(7,0)\n",
        "df_features['weather_conditions']= df_features['weather_conditions'].replace(2,1)\n",
        "df_features['weather_conditions']= df_features['weather_conditions'].replace(3,1)\n",
        "df_features['weather_conditions'] = df_features['weather_conditions'].replace(6,1)\n",
        "df_features['weather_conditions'] = df_features['weather_conditions'].replace(8,1)\n",
        "df_features['weather_conditions'] = df_features['weather_conditions'].replace(9,1)\n",
        "#bucketising light condtion into 2 bins\n",
        "df_features['light_conditions'] = df_features['light_conditions'].replace(1,0)\n",
        "df_features['light_conditions'] = df_features['light_conditions'].replace(7,0)\n",
        "df_features['light_conditions'] = df_features['light_conditions'].replace(4,0)\n",
        "df_features['light_conditions'] = df_features['light_conditions'].replace(5,1)\n",
        "df_features['light_conditions'] = df_features['light_conditions'].replace(6,1)"
      ],
      "metadata": {
        "id": "05VfDps3Ypx4"
      },
      "execution_count": null,
      "outputs": []
    },
    {
      "cell_type": "markdown",
      "source": [
        "df_features.count()"
      ],
      "metadata": {
        "id": "d5LF_-Zs_a5e"
      }
    },
    {
      "cell_type": "markdown",
      "source": [
        "### Cleaning Label (accident severity) so that there are 2 classes instead of 3"
      ],
      "metadata": {
        "id": "dYgubRIt_a5e"
      }
    },
    {
      "cell_type": "code",
      "source": [
        "#check count for each level of accident deverity\n",
        "df_features['accident_severity'].value_counts()"
      ],
      "metadata": {
        "colab": {
          "base_uri": "https://localhost:8080/"
        },
        "outputId": "71772ab6-6e6a-47b1-e283-694e6a899ef4",
        "id": "FpV0VYii_a5e"
      },
      "execution_count": null,
      "outputs": [
        {
          "output_type": "execute_result",
          "data": {
            "text/plain": [
              "3    1225492\n",
              "2     230660\n",
              "1      18134\n",
              "Name: accident_severity, dtype: int64"
            ]
          },
          "metadata": {},
          "execution_count": 2241
        }
      ]
    },
    {
      "cell_type": "code",
      "source": [
        "#replace all accident severities where severiry is 2 or 3 and group them into 1 bucket (non-fatal)\n",
        "df_features['accident_severity'] = df_features['accident_severity'].replace(2,0)\n",
        "df_features['accident_severity'] = df_features['accident_severity'].replace(3,0)"
      ],
      "metadata": {
        "id": "DrrIKj46_a5e"
      },
      "execution_count": null,
      "outputs": []
    },
    {
      "cell_type": "code",
      "source": [
        "#create 2 dataframe, 1 for each class, and print the size each\n",
        "class_1 = df_features[df_features['accident_severity'] == 1]\n",
        "class_0 = df_features[df_features['accident_severity'] == 0]\n",
        "print('class 1 (fatal):', len(class_1))\n",
        "print('class 0 (non-fatal):', len(class_0))"
      ],
      "metadata": {
        "colab": {
          "base_uri": "https://localhost:8080/"
        },
        "outputId": "8655e4d5-265a-408c-c522-059b6267e939",
        "id": "C9ey_f3n_a5f"
      },
      "execution_count": null,
      "outputs": [
        {
          "output_type": "stream",
          "name": "stdout",
          "text": [
            "class 1 (fatal): 18134\n",
            "class 0 (non-fatal): 1456152\n"
          ]
        }
      ]
    },
    {
      "cell_type": "code",
      "source": [
        ""
      ],
      "metadata": {
        "id": "i60FAuzG_38J"
      },
      "execution_count": null,
      "outputs": []
    },
    {
      "cell_type": "markdown",
      "source": [
        "###Accounting for imbalance in the dataset by undersampling"
      ],
      "metadata": {
        "id": "JacxnjhB_a5f"
      }
    },
    {
      "cell_type": "code",
      "source": [
        "#get the length of the dataset for each class/label\n",
        "class_count_0, class_count_1 = df_features['accident_severity'].value_counts()"
      ],
      "metadata": {
        "id": "-7WcZSLZ_a5f"
      },
      "execution_count": null,
      "outputs": []
    },
    {
      "cell_type": "code",
      "source": [
        "#undersampling of class 0 to balance the count of data for each class/label\n",
        "class_0_under = class_0.sample(class_count_1)\n",
        "df_features_under = pd.concat([class_0_under, class_1], axis=0)"
      ],
      "metadata": {
        "id": "P56rZDK5_a5g"
      },
      "execution_count": null,
      "outputs": []
    },
    {
      "cell_type": "code",
      "source": [
        "#print the size of the new dataset for each class/label after undersampling\n",
        "class_1 = df_features_under[df_features_under['accident_severity'] == 1]\n",
        "class_0 = df_features_under[df_features_under['accident_severity'] == 0]\n",
        "print('class 1 (fatal):', len(class_1))\n",
        "print('class 0 (non-fatal):', len(class_0))"
      ],
      "metadata": {
        "colab": {
          "base_uri": "https://localhost:8080/"
        },
        "outputId": "175a60ce-2853-4967-979c-a3dcd2499b95",
        "id": "Cn_tzYbS_a5g"
      },
      "execution_count": null,
      "outputs": [
        {
          "output_type": "stream",
          "name": "stdout",
          "text": [
            "class 1 (fatal): 18134\n",
            "class 0 (non-fatal): 18134\n"
          ]
        }
      ]
    },
    {
      "cell_type": "markdown",
      "source": [
        "###splitting the dataset in training and test datasets"
      ],
      "metadata": {
        "id": "W6m9Et_v_a5g"
      }
    },
    {
      "cell_type": "code",
      "source": [
        "#splitting the dataset into training and test sets\n",
        "train_features_under, test_features_under = train_test_split(df_features_under, test_size=0.25)"
      ],
      "metadata": {
        "id": "Q1Y-c-T7_a5h"
      },
      "execution_count": null,
      "outputs": []
    },
    {
      "cell_type": "code",
      "source": [
        "#pop out the label column from the train and test undersampled datasets\n",
        "train_label_under = train_features_under.pop('accident_severity')\n",
        "test_label_under = test_features_under.pop('accident_severity')"
      ],
      "metadata": {
        "id": "DqNs9GXq_a5h"
      },
      "execution_count": null,
      "outputs": []
    },
    {
      "cell_type": "markdown",
      "source": [
        "## DNN Classifier"
      ],
      "metadata": {
        "id": "iPkCNr9h_a5h"
      }
    },
    {
      "cell_type": "markdown",
      "source": [
        "###defining input function, creating classifier, training classifer"
      ],
      "metadata": {
        "id": "kYc-RI4M_a5h"
      }
    },
    {
      "cell_type": "code",
      "source": [
        "def input_fn(features, labels, training=True, batch_size=344):\n",
        "    # Convert the inputs to a Dataset.\n",
        "    dataset = tf.data.Dataset.from_tensor_slices((dict(features), labels))\n",
        "    # Shuffle and repeat if you are in training mode.\n",
        "    if training:\n",
        "        dataset = dataset.shuffle(1000).repeat()\n",
        "    return dataset.batch(batch_size)"
      ],
      "metadata": {
        "id": "Eg6D2vuL_a5i"
      },
      "execution_count": null,
      "outputs": []
    },
    {
      "cell_type": "code",
      "source": [
        "# creating a tensorflow Feature column list\n",
        "my_feature_columns = []\n",
        "for key in train_features_under.keys():\n",
        "    my_feature_columns.append(tf.feature_column.numeric_column(key=key))\n",
        "my_feature_columns"
      ],
      "metadata": {
        "colab": {
          "base_uri": "https://localhost:8080/"
        },
        "outputId": "f53373a7-45b6-4910-d1dc-bfad49578401",
        "id": "7aKVzPRJ_a5i"
      },
      "execution_count": null,
      "outputs": [
        {
          "output_type": "execute_result",
          "data": {
            "text/plain": [
              "[NumericColumn(key='weather_conditions', shape=(1,), default_value=None, dtype=tf.float32, normalizer_fn=None),\n",
              " NumericColumn(key='light_conditions', shape=(1,), default_value=None, dtype=tf.float32, normalizer_fn=None),\n",
              " NumericColumn(key='speed_limit', shape=(1,), default_value=None, dtype=tf.float32, normalizer_fn=None)]"
            ]
          },
          "metadata": {},
          "execution_count": 2250
        }
      ]
    },
    {
      "cell_type": "code",
      "source": [
        "# Build a DNN with 2 hidden layers with 30 and 10 hidden nodes each.\n",
        "classifier = tf.estimator.DNNClassifier(\n",
        "    feature_columns=my_feature_columns,\n",
        "    # Two hidden layers of 30 and 10 nodes respectively.\n",
        "    hidden_units=[30, 10],\n",
        "    # The model must choose between 2 classes.\n",
        "    n_classes=2)"
      ],
      "metadata": {
        "colab": {
          "base_uri": "https://localhost:8080/"
        },
        "outputId": "c5b1c087-8f1d-4100-e113-19cbe2392a87",
        "id": "Wp813v2e_a5i"
      },
      "execution_count": null,
      "outputs": [
        {
          "output_type": "stream",
          "name": "stdout",
          "text": [
            "INFO:tensorflow:Using default config.\n",
            "WARNING:tensorflow:Using temporary folder as model directory: /tmp/tmpdarz5ys5\n",
            "INFO:tensorflow:Using config: {'_model_dir': '/tmp/tmpdarz5ys5', '_tf_random_seed': None, '_save_summary_steps': 100, '_save_checkpoints_steps': None, '_save_checkpoints_secs': 600, '_session_config': allow_soft_placement: true\n",
            "graph_options {\n",
            "  rewrite_options {\n",
            "    meta_optimizer_iterations: ONE\n",
            "  }\n",
            "}\n",
            ", '_keep_checkpoint_max': 5, '_keep_checkpoint_every_n_hours': 10000, '_log_step_count_steps': 100, '_train_distribute': None, '_device_fn': None, '_protocol': None, '_eval_distribute': None, '_experimental_distribute': None, '_experimental_max_worker_delay_secs': None, '_session_creation_timeout_secs': 7200, '_checkpoint_save_graph_def': True, '_service': None, '_cluster_spec': ClusterSpec({}), '_task_type': 'worker', '_task_id': 0, '_global_id_in_cluster': 0, '_master': '', '_evaluation_master': '', '_is_chief': True, '_num_ps_replicas': 0, '_num_worker_replicas': 1}\n"
          ]
        }
      ]
    },
    {
      "cell_type": "code",
      "source": [
        "classifier.train(input_fn=lambda: input_fn(train_features_under, train_label_under, training=True),steps=5000)\n",
        "# We include a lambda to avoid creating an inner function previously"
      ],
      "metadata": {
        "colab": {
          "base_uri": "https://localhost:8080/"
        },
        "outputId": "a5548e49-3ebf-467e-c290-8642097f650d",
        "id": "EZRwz7Ki_a5j"
      },
      "execution_count": null,
      "outputs": [
        {
          "output_type": "stream",
          "name": "stdout",
          "text": [
            "INFO:tensorflow:Calling model_fn.\n",
            "INFO:tensorflow:Done calling model_fn.\n",
            "INFO:tensorflow:Create CheckpointSaverHook.\n",
            "INFO:tensorflow:Graph was finalized.\n",
            "INFO:tensorflow:Running local_init_op.\n",
            "INFO:tensorflow:Done running local_init_op.\n",
            "INFO:tensorflow:Calling checkpoint listeners before saving checkpoint 0...\n",
            "INFO:tensorflow:Saving checkpoints for 0 into /tmp/tmpdarz5ys5/model.ckpt.\n",
            "INFO:tensorflow:Calling checkpoint listeners after saving checkpoint 0...\n",
            "INFO:tensorflow:loss = 2.1688101, step = 0\n",
            "INFO:tensorflow:global_step/sec: 244.663\n",
            "INFO:tensorflow:loss = 0.68105775, step = 100 (0.417 sec)\n",
            "INFO:tensorflow:global_step/sec: 304.461\n",
            "INFO:tensorflow:loss = 0.68383557, step = 200 (0.325 sec)\n",
            "INFO:tensorflow:global_step/sec: 331.853\n",
            "INFO:tensorflow:loss = 0.6823104, step = 300 (0.302 sec)\n",
            "INFO:tensorflow:global_step/sec: 350.725\n",
            "INFO:tensorflow:loss = 0.6862741, step = 400 (0.285 sec)\n",
            "INFO:tensorflow:global_step/sec: 298.355\n",
            "INFO:tensorflow:loss = 0.67859375, step = 500 (0.335 sec)\n",
            "INFO:tensorflow:global_step/sec: 317.347\n",
            "INFO:tensorflow:loss = 0.68050826, step = 600 (0.318 sec)\n",
            "INFO:tensorflow:global_step/sec: 293.806\n",
            "INFO:tensorflow:loss = 0.6830778, step = 700 (0.335 sec)\n",
            "INFO:tensorflow:global_step/sec: 312.416\n",
            "INFO:tensorflow:loss = 0.6847749, step = 800 (0.324 sec)\n",
            "INFO:tensorflow:global_step/sec: 310.683\n",
            "INFO:tensorflow:loss = 0.6687718, step = 900 (0.320 sec)\n",
            "INFO:tensorflow:global_step/sec: 327.612\n",
            "INFO:tensorflow:loss = 0.68648016, step = 1000 (0.306 sec)\n",
            "INFO:tensorflow:global_step/sec: 299.259\n",
            "INFO:tensorflow:loss = 0.6782888, step = 1100 (0.336 sec)\n",
            "INFO:tensorflow:global_step/sec: 281.528\n",
            "INFO:tensorflow:loss = 0.6697916, step = 1200 (0.352 sec)\n",
            "INFO:tensorflow:global_step/sec: 284.16\n",
            "INFO:tensorflow:loss = 0.6716576, step = 1300 (0.352 sec)\n",
            "INFO:tensorflow:global_step/sec: 294.128\n",
            "INFO:tensorflow:loss = 0.66851115, step = 1400 (0.338 sec)\n",
            "INFO:tensorflow:global_step/sec: 315.988\n",
            "INFO:tensorflow:loss = 0.68147826, step = 1500 (0.317 sec)\n",
            "INFO:tensorflow:global_step/sec: 304.028\n",
            "INFO:tensorflow:loss = 0.67183656, step = 1600 (0.332 sec)\n",
            "INFO:tensorflow:global_step/sec: 316.32\n",
            "INFO:tensorflow:loss = 0.688816, step = 1700 (0.315 sec)\n",
            "INFO:tensorflow:global_step/sec: 330.106\n",
            "INFO:tensorflow:loss = 0.66974694, step = 1800 (0.304 sec)\n",
            "INFO:tensorflow:global_step/sec: 334.459\n",
            "INFO:tensorflow:loss = 0.6613037, step = 1900 (0.296 sec)\n",
            "INFO:tensorflow:global_step/sec: 327.07\n",
            "INFO:tensorflow:loss = 0.67666334, step = 2000 (0.306 sec)\n",
            "INFO:tensorflow:global_step/sec: 334.077\n",
            "INFO:tensorflow:loss = 0.68585974, step = 2100 (0.302 sec)\n",
            "INFO:tensorflow:global_step/sec: 339.06\n",
            "INFO:tensorflow:loss = 0.67798513, step = 2200 (0.294 sec)\n",
            "INFO:tensorflow:global_step/sec: 350.734\n",
            "INFO:tensorflow:loss = 0.6732783, step = 2300 (0.285 sec)\n",
            "INFO:tensorflow:global_step/sec: 309.97\n",
            "INFO:tensorflow:loss = 0.6662021, step = 2400 (0.322 sec)\n",
            "INFO:tensorflow:global_step/sec: 326.498\n",
            "INFO:tensorflow:loss = 0.6748651, step = 2500 (0.308 sec)\n",
            "INFO:tensorflow:global_step/sec: 300.909\n",
            "INFO:tensorflow:loss = 0.66977745, step = 2600 (0.332 sec)\n",
            "INFO:tensorflow:global_step/sec: 312.248\n",
            "INFO:tensorflow:loss = 0.6703368, step = 2700 (0.316 sec)\n",
            "INFO:tensorflow:global_step/sec: 311.378\n",
            "INFO:tensorflow:loss = 0.679774, step = 2800 (0.322 sec)\n",
            "INFO:tensorflow:global_step/sec: 310.047\n",
            "INFO:tensorflow:loss = 0.6637623, step = 2900 (0.325 sec)\n",
            "INFO:tensorflow:global_step/sec: 302.395\n",
            "INFO:tensorflow:loss = 0.6646504, step = 3000 (0.326 sec)\n",
            "INFO:tensorflow:global_step/sec: 314.264\n",
            "INFO:tensorflow:loss = 0.6638984, step = 3100 (0.319 sec)\n",
            "INFO:tensorflow:global_step/sec: 315.738\n",
            "INFO:tensorflow:loss = 0.6579334, step = 3200 (0.318 sec)\n",
            "INFO:tensorflow:global_step/sec: 340.525\n",
            "INFO:tensorflow:loss = 0.66309816, step = 3300 (0.295 sec)\n",
            "INFO:tensorflow:global_step/sec: 314.307\n",
            "INFO:tensorflow:loss = 0.66768134, step = 3400 (0.318 sec)\n",
            "INFO:tensorflow:global_step/sec: 318.565\n",
            "INFO:tensorflow:loss = 0.6584202, step = 3500 (0.314 sec)\n",
            "INFO:tensorflow:global_step/sec: 350.229\n",
            "INFO:tensorflow:loss = 0.6607468, step = 3600 (0.283 sec)\n",
            "INFO:tensorflow:global_step/sec: 341.082\n",
            "INFO:tensorflow:loss = 0.6753156, step = 3700 (0.295 sec)\n",
            "INFO:tensorflow:global_step/sec: 333.301\n",
            "INFO:tensorflow:loss = 0.6630928, step = 3800 (0.300 sec)\n",
            "INFO:tensorflow:global_step/sec: 322.413\n",
            "INFO:tensorflow:loss = 0.6533387, step = 3900 (0.315 sec)\n",
            "INFO:tensorflow:global_step/sec: 330.063\n",
            "INFO:tensorflow:loss = 0.6776094, step = 4000 (0.296 sec)\n",
            "INFO:tensorflow:global_step/sec: 327.884\n",
            "INFO:tensorflow:loss = 0.6693906, step = 4100 (0.308 sec)\n",
            "INFO:tensorflow:global_step/sec: 328.406\n",
            "INFO:tensorflow:loss = 0.67113423, step = 4200 (0.304 sec)\n",
            "INFO:tensorflow:global_step/sec: 347.514\n",
            "INFO:tensorflow:loss = 0.66705227, step = 4300 (0.286 sec)\n",
            "INFO:tensorflow:global_step/sec: 325.077\n",
            "INFO:tensorflow:loss = 0.65775883, step = 4400 (0.310 sec)\n",
            "INFO:tensorflow:global_step/sec: 347.296\n",
            "INFO:tensorflow:loss = 0.66543347, step = 4500 (0.289 sec)\n",
            "INFO:tensorflow:global_step/sec: 322.038\n",
            "INFO:tensorflow:loss = 0.6503165, step = 4600 (0.310 sec)\n",
            "INFO:tensorflow:global_step/sec: 333.93\n",
            "INFO:tensorflow:loss = 0.6601435, step = 4700 (0.300 sec)\n",
            "INFO:tensorflow:global_step/sec: 358.418\n",
            "INFO:tensorflow:loss = 0.6540264, step = 4800 (0.279 sec)\n",
            "INFO:tensorflow:global_step/sec: 341.327\n",
            "INFO:tensorflow:loss = 0.6575697, step = 4900 (0.294 sec)\n",
            "INFO:tensorflow:Calling checkpoint listeners before saving checkpoint 5000...\n",
            "INFO:tensorflow:Saving checkpoints for 5000 into /tmp/tmpdarz5ys5/model.ckpt.\n",
            "INFO:tensorflow:Calling checkpoint listeners after saving checkpoint 5000...\n",
            "INFO:tensorflow:Loss for final step: 0.6585899.\n"
          ]
        },
        {
          "output_type": "execute_result",
          "data": {
            "text/plain": [
              "<tensorflow_estimator.python.estimator.canned.dnn.DNNClassifierV2 at 0x7f1179c53190>"
            ]
          },
          "metadata": {},
          "execution_count": 2252
        }
      ]
    },
    {
      "cell_type": "markdown",
      "source": [
        "###Evaluating Classifier"
      ],
      "metadata": {
        "id": "wsJhPpSU_a5j"
      }
    },
    {
      "cell_type": "code",
      "source": [
        "#determine the accurracy of th classifier\n",
        "eval_result = classifier.evaluate(\n",
        "    input_fn=lambda: input_fn(test_features_under, test_label_under, training=False))\n",
        "print('\\nTest set accuracy: {accuracy:0.3f}\\n'.format(**eval_result))"
      ],
      "metadata": {
        "colab": {
          "base_uri": "https://localhost:8080/"
        },
        "outputId": "57e6e6fb-6a5f-4172-f13c-c50ab57168af",
        "id": "5-n7J_zN_a5j"
      },
      "execution_count": null,
      "outputs": [
        {
          "output_type": "stream",
          "name": "stdout",
          "text": [
            "INFO:tensorflow:Calling model_fn.\n",
            "INFO:tensorflow:Done calling model_fn.\n",
            "INFO:tensorflow:Starting evaluation at 2022-04-08T15:22:19\n",
            "INFO:tensorflow:Graph was finalized.\n",
            "INFO:tensorflow:Restoring parameters from /tmp/tmpdarz5ys5/model.ckpt-5000\n",
            "INFO:tensorflow:Running local_init_op.\n",
            "INFO:tensorflow:Done running local_init_op.\n",
            "INFO:tensorflow:Inference Time : 0.73545s\n",
            "INFO:tensorflow:Finished evaluation at 2022-04-08-15:22:20\n",
            "INFO:tensorflow:Saving dict for global step 5000: accuracy = 0.6647182, accuracy_baseline = 0.5040256, auc = 0.68672144, auc_precision_recall = 0.6821816, average_loss = 0.6575648, global_step = 5000, label/mean = 0.5040256, loss = 0.65727127, precision = 0.6682798, prediction/mean = 0.535775, recall = 0.66477025\n",
            "INFO:tensorflow:Saving 'checkpoint_path' summary for global step 5000: /tmp/tmpdarz5ys5/model.ckpt-5000\n",
            "\n",
            "Test set accuracy: 0.665\n",
            "\n"
          ]
        }
      ]
    },
    {
      "cell_type": "code",
      "source": [
        "#create predictions list for all test set\n",
        "predictions_under = list(classifier.predict(input_fn=lambda: input_fn(test_features_under, test_label_under, training=False)))"
      ],
      "metadata": {
        "outputId": "c03abaac-c0df-4f8a-a162-dda5e69f8f5a",
        "colab": {
          "base_uri": "https://localhost:8080/"
        },
        "id": "GnmBpzgS_a5k"
      },
      "execution_count": null,
      "outputs": [
        {
          "output_type": "stream",
          "name": "stdout",
          "text": [
            "INFO:tensorflow:Calling model_fn.\n",
            "INFO:tensorflow:Done calling model_fn.\n",
            "INFO:tensorflow:Graph was finalized.\n",
            "INFO:tensorflow:Restoring parameters from /tmp/tmpdarz5ys5/model.ckpt-5000\n",
            "INFO:tensorflow:Running local_init_op.\n",
            "INFO:tensorflow:Done running local_init_op.\n"
          ]
        }
      ]
    },
    {
      "cell_type": "code",
      "source": [
        "#create a dataframe of predictions for test set\n",
        "df_predictions = pd.DataFrame(predictions_under)"
      ],
      "metadata": {
        "id": "aItcfZNN_a5k"
      },
      "execution_count": null,
      "outputs": []
    },
    {
      "cell_type": "markdown",
      "source": [
        "###Plot of Results"
      ],
      "metadata": {
        "id": "ts91q6K2_a5l"
      }
    },
    {
      "cell_type": "code",
      "source": [
        "#add the actual matches to the prediciton dataframe\n",
        "df_predictions['actual label']=test_label_under.values"
      ],
      "metadata": {
        "id": "FEo5GMY3_a5l"
      },
      "execution_count": null,
      "outputs": []
    },
    {
      "cell_type": "code",
      "source": [
        "#add the class predicitons from the DNN to the dataframe\n",
        "df_predictions['predicted label']=pd.DataFrame.from_records(df_predictions['class_ids'])"
      ],
      "metadata": {
        "id": "-PybUwov_a5l"
      },
      "execution_count": null,
      "outputs": []
    },
    {
      "cell_type": "code",
      "source": [
        "#add a binary column to show if the dnn predictions were correct\n",
        "df_predictions['match?']=df_predictions['predicted label']-df_predictions['actual label']\n",
        "df_predictions['match?']=df_predictions['match?'].replace(0,'match')\n",
        "df_predictions['match?']=df_predictions['match?'].replace(-1,'not match')\n",
        "df_predictions['match?']=df_predictions['match?'].replace(1,'not match')"
      ],
      "metadata": {
        "id": "U53B19vJ_a5l"
      },
      "execution_count": null,
      "outputs": []
    },
    {
      "cell_type": "code",
      "source": [
        "#view the prdictions dataframe\n",
        "df_predictions.head()"
      ],
      "metadata": {
        "colab": {
          "base_uri": "https://localhost:8080/",
          "height": 206
        },
        "outputId": "943cde87-799f-4e9c-bfb0-fb0317b2d08e",
        "id": "7reJrYY4_a5m"
      },
      "execution_count": null,
      "outputs": [
        {
          "output_type": "execute_result",
          "data": {
            "text/plain": [
              "          logits      logistic            probabilities class_ids classes  \\\n",
              "0  [-0.08195573]  [0.47952253]  [0.5204775, 0.47952253]       [0]  [b'0']   \n",
              "1  [-0.07469532]  [0.48133487]  [0.51866513, 0.4813348]       [0]  [b'0']   \n",
              "2  [-0.07469532]  [0.48133487]  [0.51866513, 0.4813348]       [0]  [b'0']   \n",
              "3  [-0.07469532]  [0.48133487]  [0.51866513, 0.4813348]       [0]  [b'0']   \n",
              "4  [0.048842132]   [0.5122081]   [0.4877919, 0.5122081]       [1]  [b'1']   \n",
              "\n",
              "  all_class_ids   all_classes  actual label  predicted label     match?  \n",
              "0        [0, 1]  [b'0', b'1']             0                0      match  \n",
              "1        [0, 1]  [b'0', b'1']             0                0      match  \n",
              "2        [0, 1]  [b'0', b'1']             1                0  not match  \n",
              "3        [0, 1]  [b'0', b'1']             0                0      match  \n",
              "4        [0, 1]  [b'0', b'1']             0                1  not match  "
            ],
            "text/html": [
              "\n",
              "  <div id=\"df-9c409905-f0e6-4fc6-a965-3741b89e2a74\">\n",
              "    <div class=\"colab-df-container\">\n",
              "      <div>\n",
              "<style scoped>\n",
              "    .dataframe tbody tr th:only-of-type {\n",
              "        vertical-align: middle;\n",
              "    }\n",
              "\n",
              "    .dataframe tbody tr th {\n",
              "        vertical-align: top;\n",
              "    }\n",
              "\n",
              "    .dataframe thead th {\n",
              "        text-align: right;\n",
              "    }\n",
              "</style>\n",
              "<table border=\"1\" class=\"dataframe\">\n",
              "  <thead>\n",
              "    <tr style=\"text-align: right;\">\n",
              "      <th></th>\n",
              "      <th>logits</th>\n",
              "      <th>logistic</th>\n",
              "      <th>probabilities</th>\n",
              "      <th>class_ids</th>\n",
              "      <th>classes</th>\n",
              "      <th>all_class_ids</th>\n",
              "      <th>all_classes</th>\n",
              "      <th>actual label</th>\n",
              "      <th>predicted label</th>\n",
              "      <th>match?</th>\n",
              "    </tr>\n",
              "  </thead>\n",
              "  <tbody>\n",
              "    <tr>\n",
              "      <th>0</th>\n",
              "      <td>[-0.08195573]</td>\n",
              "      <td>[0.47952253]</td>\n",
              "      <td>[0.5204775, 0.47952253]</td>\n",
              "      <td>[0]</td>\n",
              "      <td>[b'0']</td>\n",
              "      <td>[0, 1]</td>\n",
              "      <td>[b'0', b'1']</td>\n",
              "      <td>0</td>\n",
              "      <td>0</td>\n",
              "      <td>match</td>\n",
              "    </tr>\n",
              "    <tr>\n",
              "      <th>1</th>\n",
              "      <td>[-0.07469532]</td>\n",
              "      <td>[0.48133487]</td>\n",
              "      <td>[0.51866513, 0.4813348]</td>\n",
              "      <td>[0]</td>\n",
              "      <td>[b'0']</td>\n",
              "      <td>[0, 1]</td>\n",
              "      <td>[b'0', b'1']</td>\n",
              "      <td>0</td>\n",
              "      <td>0</td>\n",
              "      <td>match</td>\n",
              "    </tr>\n",
              "    <tr>\n",
              "      <th>2</th>\n",
              "      <td>[-0.07469532]</td>\n",
              "      <td>[0.48133487]</td>\n",
              "      <td>[0.51866513, 0.4813348]</td>\n",
              "      <td>[0]</td>\n",
              "      <td>[b'0']</td>\n",
              "      <td>[0, 1]</td>\n",
              "      <td>[b'0', b'1']</td>\n",
              "      <td>1</td>\n",
              "      <td>0</td>\n",
              "      <td>not match</td>\n",
              "    </tr>\n",
              "    <tr>\n",
              "      <th>3</th>\n",
              "      <td>[-0.07469532]</td>\n",
              "      <td>[0.48133487]</td>\n",
              "      <td>[0.51866513, 0.4813348]</td>\n",
              "      <td>[0]</td>\n",
              "      <td>[b'0']</td>\n",
              "      <td>[0, 1]</td>\n",
              "      <td>[b'0', b'1']</td>\n",
              "      <td>0</td>\n",
              "      <td>0</td>\n",
              "      <td>match</td>\n",
              "    </tr>\n",
              "    <tr>\n",
              "      <th>4</th>\n",
              "      <td>[0.048842132]</td>\n",
              "      <td>[0.5122081]</td>\n",
              "      <td>[0.4877919, 0.5122081]</td>\n",
              "      <td>[1]</td>\n",
              "      <td>[b'1']</td>\n",
              "      <td>[0, 1]</td>\n",
              "      <td>[b'0', b'1']</td>\n",
              "      <td>0</td>\n",
              "      <td>1</td>\n",
              "      <td>not match</td>\n",
              "    </tr>\n",
              "  </tbody>\n",
              "</table>\n",
              "</div>\n",
              "      <button class=\"colab-df-convert\" onclick=\"convertToInteractive('df-9c409905-f0e6-4fc6-a965-3741b89e2a74')\"\n",
              "              title=\"Convert this dataframe to an interactive table.\"\n",
              "              style=\"display:none;\">\n",
              "        \n",
              "  <svg xmlns=\"http://www.w3.org/2000/svg\" height=\"24px\"viewBox=\"0 0 24 24\"\n",
              "       width=\"24px\">\n",
              "    <path d=\"M0 0h24v24H0V0z\" fill=\"none\"/>\n",
              "    <path d=\"M18.56 5.44l.94 2.06.94-2.06 2.06-.94-2.06-.94-.94-2.06-.94 2.06-2.06.94zm-11 1L8.5 8.5l.94-2.06 2.06-.94-2.06-.94L8.5 2.5l-.94 2.06-2.06.94zm10 10l.94 2.06.94-2.06 2.06-.94-2.06-.94-.94-2.06-.94 2.06-2.06.94z\"/><path d=\"M17.41 7.96l-1.37-1.37c-.4-.4-.92-.59-1.43-.59-.52 0-1.04.2-1.43.59L10.3 9.45l-7.72 7.72c-.78.78-.78 2.05 0 2.83L4 21.41c.39.39.9.59 1.41.59.51 0 1.02-.2 1.41-.59l7.78-7.78 2.81-2.81c.8-.78.8-2.07 0-2.86zM5.41 20L4 18.59l7.72-7.72 1.47 1.35L5.41 20z\"/>\n",
              "  </svg>\n",
              "      </button>\n",
              "      \n",
              "  <style>\n",
              "    .colab-df-container {\n",
              "      display:flex;\n",
              "      flex-wrap:wrap;\n",
              "      gap: 12px;\n",
              "    }\n",
              "\n",
              "    .colab-df-convert {\n",
              "      background-color: #E8F0FE;\n",
              "      border: none;\n",
              "      border-radius: 50%;\n",
              "      cursor: pointer;\n",
              "      display: none;\n",
              "      fill: #1967D2;\n",
              "      height: 32px;\n",
              "      padding: 0 0 0 0;\n",
              "      width: 32px;\n",
              "    }\n",
              "\n",
              "    .colab-df-convert:hover {\n",
              "      background-color: #E2EBFA;\n",
              "      box-shadow: 0px 1px 2px rgba(60, 64, 67, 0.3), 0px 1px 3px 1px rgba(60, 64, 67, 0.15);\n",
              "      fill: #174EA6;\n",
              "    }\n",
              "\n",
              "    [theme=dark] .colab-df-convert {\n",
              "      background-color: #3B4455;\n",
              "      fill: #D2E3FC;\n",
              "    }\n",
              "\n",
              "    [theme=dark] .colab-df-convert:hover {\n",
              "      background-color: #434B5C;\n",
              "      box-shadow: 0px 1px 3px 1px rgba(0, 0, 0, 0.15);\n",
              "      filter: drop-shadow(0px 1px 2px rgba(0, 0, 0, 0.3));\n",
              "      fill: #FFFFFF;\n",
              "    }\n",
              "  </style>\n",
              "\n",
              "      <script>\n",
              "        const buttonEl =\n",
              "          document.querySelector('#df-9c409905-f0e6-4fc6-a965-3741b89e2a74 button.colab-df-convert');\n",
              "        buttonEl.style.display =\n",
              "          google.colab.kernel.accessAllowed ? 'block' : 'none';\n",
              "\n",
              "        async function convertToInteractive(key) {\n",
              "          const element = document.querySelector('#df-9c409905-f0e6-4fc6-a965-3741b89e2a74');\n",
              "          const dataTable =\n",
              "            await google.colab.kernel.invokeFunction('convertToInteractive',\n",
              "                                                     [key], {});\n",
              "          if (!dataTable) return;\n",
              "\n",
              "          const docLinkHtml = 'Like what you see? Visit the ' +\n",
              "            '<a target=\"_blank\" href=https://colab.research.google.com/notebooks/data_table.ipynb>data table notebook</a>'\n",
              "            + ' to learn more about interactive tables.';\n",
              "          element.innerHTML = '';\n",
              "          dataTable['output_type'] = 'display_data';\n",
              "          await google.colab.output.renderOutput(dataTable, element);\n",
              "          const docLink = document.createElement('div');\n",
              "          docLink.innerHTML = docLinkHtml;\n",
              "          element.appendChild(docLink);\n",
              "        }\n",
              "      </script>\n",
              "    </div>\n",
              "  </div>\n",
              "  "
            ]
          },
          "metadata": {},
          "execution_count": 2259
        }
      ]
    },
    {
      "cell_type": "code",
      "source": [
        "#create a new dataframe showing only the correct predictions\n",
        "correct_predictions = df_predictions[df_predictions['match?']=='match']\n",
        "#get the count of the correct predctions for eah label\n",
        "correct_pred_count_label_0 , correct_pred_count_label_1 = correct_predictions['predicted label'].value_counts()\n",
        "#get the actual label count for each label\n",
        "actual_count_label_0 , actual_count_label_1 = df_predictions['actual label'].value_counts()"
      ],
      "metadata": {
        "id": "nqD7mevd_a5m"
      },
      "execution_count": null,
      "outputs": []
    },
    {
      "cell_type": "code",
      "source": [
        "#get the accuracy of each labels predictions\n",
        "accuracy_label_0,accuracy_label_1 = correct_pred_count_label_0/actual_count_label_0 , correct_pred_count_label_1/actual_count_label_1\n",
        "accuracy=accuracy_label_0*100,accuracy_label_1*100\n",
        "accuracy=pd.Series(accuracy)\n",
        "print('Accuracy of label 0 (non-fatal): ', accuracy_label_0, '\\nAccuracy of label 1 (fatal): ', accuracy_label_1)"
      ],
      "metadata": {
        "colab": {
          "base_uri": "https://localhost:8080/"
        },
        "outputId": "d4cdabd3-e61a-42a9-851c-cf77141216a6",
        "id": "T0_TptLm_a5m"
      },
      "execution_count": null,
      "outputs": [
        {
          "output_type": "stream",
          "name": "stdout",
          "text": [
            "Accuracy of label 0 (non-fatal):  0.6647702407002188 \n",
            "Accuracy of label 1 (fatal):  0.6646653324438515\n"
          ]
        }
      ]
    },
    {
      "cell_type": "code",
      "source": [
        "#plot the accuracy of each labels predictions\n",
        "fig, axes = plt.subplots(figsize=(18, 10))\n",
        "accuracy.plot(kind='barh')\n",
        "plt.yticks((0,1), ('non-Fatal accident', 'Fatal accident'))\n",
        "plt.xticks((0,10,20,30,40,50,60), ('0%', '10%','20%','30%','40%','50%','60%'))\n",
        "plt.xlabel('prectange accuracy')\n",
        "plt.title('percentage accuracy for each class/label')"
      ],
      "metadata": {
        "colab": {
          "base_uri": "https://localhost:8080/",
          "height": 639
        },
        "outputId": "1d2ae095-a015-4a49-d772-83a8cf511990",
        "id": "IvI5Xg7o_a5o"
      },
      "execution_count": null,
      "outputs": [
        {
          "output_type": "execute_result",
          "data": {
            "text/plain": [
              "Text(0.5, 1.0, 'percentage accuracy for each class/label')"
            ]
          },
          "metadata": {},
          "execution_count": 2262
        },
        {
          "output_type": "display_data",
          "data": {
            "text/plain": [
              "<Figure size 1296x720 with 1 Axes>"
            ],
            "image/png": "[encoded data removed]"
          },
          "metadata": {
            "needs_background": "light"
          }
        }
      ]
    },
    {
      "cell_type": "code",
      "source": [
        "a=df_predictions[df_predictions['actual label']==1]\n",
        "print('actual class qty:',len(a))\n",
        "a=a[a['predicted label']==0]\n",
        "print('false neg:',len(a))"
      ],
      "metadata": {
        "colab": {
          "base_uri": "https://localhost:8080/"
        },
        "id": "7c09hU9FxUcl",
        "outputId": "916e932a-d01d-408f-f777-2662033ca40e"
      },
      "execution_count": null,
      "outputs": [
        {
          "output_type": "stream",
          "name": "stdout",
          "text": [
            "actual class qty: 4570\n",
            "false neg: 1532\n"
          ]
        }
      ]
    },
    {
      "cell_type": "code",
      "source": [
        "a=df_predictions[df_predictions['predicted label']==1]\n",
        "print('predicted class qty: ',len(a))\n",
        "a=a[a['actual label']==0]\n",
        "print('false pos:',len(a))"
      ],
      "metadata": {
        "colab": {
          "base_uri": "https://localhost:8080/"
        },
        "id": "a6SUNu7EyiCv",
        "outputId": "3731ef4d-6810-4f51-a1df-404adae8fbf6"
      },
      "execution_count": null,
      "outputs": [
        {
          "output_type": "stream",
          "name": "stdout",
          "text": [
            "predicted class qty:  4546\n",
            "false pos: 1508\n"
          ]
        }
      ]
    },
    {
      "cell_type": "markdown",
      "source": [
        "#Iteration 3 - 'weather_conditions','speed_limit', 'road_surface_conditions'"
      ],
      "metadata": {
        "id": "PXoO-diEFc02"
      }
    },
    {
      "cell_type": "markdown",
      "source": [
        "##Features"
      ],
      "metadata": {
        "id": "9efkUu_qFc03"
      }
    },
    {
      "cell_type": "markdown",
      "source": [
        "###Seleceting Features, checking correlation between them, cleaning missing data"
      ],
      "metadata": {
        "id": "DKjkUQIGFc03"
      }
    },
    {
      "cell_type": "code",
      "source": [
        "df_features = df[['weather_conditions','speed_limit', 'road_surface_conditions','accident_severity']]"
      ],
      "metadata": {
        "id": "ZeMVhPpTFc04"
      },
      "execution_count": null,
      "outputs": []
    },
    {
      "cell_type": "code",
      "source": [
        "#checking correlation between features\n",
        "df_features.corr()\n",
        "sns.heatmap(df_features.corr())"
      ],
      "metadata": {
        "colab": {
          "base_uri": "https://localhost:8080/",
          "height": 398
        },
        "outputId": "58f94220-18c4-4ef2-c563-6a4f9d42fd27",
        "id": "FaOhwdzMFc05"
      },
      "execution_count": null,
      "outputs": [
        {
          "output_type": "execute_result",
          "data": {
            "text/plain": [
              "<matplotlib.axes._subplots.AxesSubplot at 0x7f11933da210>"
            ]
          },
          "metadata": {},
          "execution_count": 1743
        },
        {
          "output_type": "display_data",
          "data": {
            "text/plain": [
              "<Figure size 432x288 with 2 Axes>"
            ],
            "image/png": "[encoded data removed]"
          },
          "metadata": {
            "needs_background": "light"
          }
        }
      ]
    },
    {
      "cell_type": "code",
      "source": [
        "#checking which values have missing data, note missing data is recorded as -1\n",
        "df_features.min()"
      ],
      "metadata": {
        "colab": {
          "base_uri": "https://localhost:8080/"
        },
        "outputId": "e2c42755-6751-4803-edae-cf8120198edf",
        "id": "nHFJ-7dsFc05"
      },
      "execution_count": null,
      "outputs": [
        {
          "output_type": "execute_result",
          "data": {
            "text/plain": [
              "weather_conditions        -1.0\n",
              "speed_limit               -1.0\n",
              "road_surface_conditions   -1.0\n",
              "accident_severity          1.0\n",
              "dtype: float64"
            ]
          },
          "metadata": {},
          "execution_count": 1744
        }
      ]
    },
    {
      "cell_type": "code",
      "source": [
        "#there are 161 accident that do not have recorded weather conditions, will drop these\n",
        "df_features['weather_conditions'][df_features['weather_conditions']==-1].count()"
      ],
      "metadata": {
        "colab": {
          "base_uri": "https://localhost:8080/"
        },
        "outputId": "a2328e0c-3e10-40c4-be98-bb292314640c",
        "id": "0p6sC6PIFc06"
      },
      "execution_count": null,
      "outputs": [
        {
          "output_type": "execute_result",
          "data": {
            "text/plain": [
              "89"
            ]
          },
          "metadata": {},
          "execution_count": 1745
        }
      ]
    },
    {
      "cell_type": "code",
      "source": [
        "#removing all rows with (missing) data\n",
        "df_features = df_features[df_features['weather_conditions']!=-1]\n",
        "df_features = df_features[df_features['speed_limit']!=0]\n",
        "df_features = df_features[df_features['road_surface_conditions']!=-1]\n",
        "df_features = df_features[df_features['speed_limit']!=-1]"
      ],
      "metadata": {
        "id": "Mab_jy8cFc07"
      },
      "execution_count": null,
      "outputs": []
    },
    {
      "cell_type": "code",
      "source": [
        "#bucketising weather condtion into 2 bins\n",
        "df_features['weather_conditions'] = df_features['weather_conditions'].replace(1,0)\n",
        "df_features['weather_conditions'] = df_features['weather_conditions'].replace(4,0)\n",
        "df_features['weather_conditions'] = df_features['weather_conditions'].replace(5,0)\n",
        "df_features['weather_conditions'] = df_features['weather_conditions'].replace(7,0)\n",
        "df_features['weather_conditions']= df_features['weather_conditions'].replace(2,1)\n",
        "df_features['weather_conditions']= df_features['weather_conditions'].replace(3,1)\n",
        "df_features['weather_conditions'] = df_features['weather_conditions'].replace(6,1)\n",
        "df_features['weather_conditions'] = df_features['weather_conditions'].replace(8,1)\n",
        "df_features['weather_conditions'] = df_features['weather_conditions'].replace(9,1)\n",
        "#bucketising raod conditions into 3 bins\n",
        "df_features['road_surface_conditions'] = df_features['road_surface_conditions'].replace(9,0)\n",
        "df_features['road_surface_conditions'] = df_features['road_surface_conditions'].replace(3,0)\n",
        "df_features['road_surface_conditions'] = df_features['road_surface_conditions'].replace(4,0)\n",
        "df_features['road_surface_conditions'] = df_features['road_surface_conditions'].replace(1,0)\n",
        "df_features['road_surface_conditions']= df_features['road_surface_conditions'].replace(2,2)\n",
        "df_features['road_surface_conditions']= df_features['road_surface_conditions'].replace(5,2)"
      ],
      "metadata": {
        "id": "v4zurdcuY8YR"
      },
      "execution_count": null,
      "outputs": []
    },
    {
      "cell_type": "markdown",
      "source": [
        "df_features.count()"
      ],
      "metadata": {
        "id": "zIrioitkFc07"
      }
    },
    {
      "cell_type": "markdown",
      "source": [
        "### Cleaning Label (accident severity) so that there are 2 classes instead of 3"
      ],
      "metadata": {
        "id": "EB_AiHNfFc08"
      }
    },
    {
      "cell_type": "code",
      "source": [
        "#check count for each level of accident deverity\n",
        "df_features['accident_severity'].value_counts()"
      ],
      "metadata": {
        "colab": {
          "base_uri": "https://localhost:8080/"
        },
        "outputId": "7d2efa2e-2044-48aa-d9a8-77d17fb1824b",
        "id": "ShiRDkkqFc09"
      },
      "execution_count": null,
      "outputs": [
        {
          "output_type": "execute_result",
          "data": {
            "text/plain": [
              "3    1222651\n",
              "2     230352\n",
              "1      18118\n",
              "Name: accident_severity, dtype: int64"
            ]
          },
          "metadata": {},
          "execution_count": 1748
        }
      ]
    },
    {
      "cell_type": "code",
      "source": [
        "#replace all accident severities where severiry is 2 or 3 and group them into 1 bucket (non-fatal)\n",
        "df_features['accident_severity'] = df_features['accident_severity'].replace(2,0)\n",
        "df_features['accident_severity'] = df_features['accident_severity'].replace(3,0)"
      ],
      "metadata": {
        "id": "CFzDjw_cFc0-"
      },
      "execution_count": null,
      "outputs": []
    },
    {
      "cell_type": "code",
      "source": [
        "#create 2 dataframe, 1 for each class, and print the size each\n",
        "class_1 = df_features[df_features['accident_severity'] == 1]\n",
        "class_0 = df_features[df_features['accident_severity'] == 0]\n",
        "print('class 1 (fatal):', len(class_1))\n",
        "print('class 0 (non-fatal):', len(class_0))"
      ],
      "metadata": {
        "colab": {
          "base_uri": "https://localhost:8080/"
        },
        "outputId": "cccc1180-01e6-47a3-8504-05337328c8bf",
        "id": "xxSoa_hoFc0-"
      },
      "execution_count": null,
      "outputs": [
        {
          "output_type": "stream",
          "name": "stdout",
          "text": [
            "class 1 (fatal): 18118\n",
            "class 0 (non-fatal): 1453003\n"
          ]
        }
      ]
    },
    {
      "cell_type": "markdown",
      "source": [
        "###Accounting for imbalance in the dataset by undersampling"
      ],
      "metadata": {
        "id": "RMY7KSveFc0_"
      }
    },
    {
      "cell_type": "code",
      "source": [
        "#get the length of the dataset for each class/label\n",
        "class_count_0, class_count_1 = df_features['accident_severity'].value_counts()"
      ],
      "metadata": {
        "id": "89f3Q8P9Fc1A"
      },
      "execution_count": null,
      "outputs": []
    },
    {
      "cell_type": "code",
      "source": [
        "#undersampling of class 0 to balance the count of data for each class/label\n",
        "class_0_under = class_0.sample(class_count_1)\n",
        "df_features_under = pd.concat([class_0_under, class_1], axis=0)"
      ],
      "metadata": {
        "id": "zDMdEsBcFc1A"
      },
      "execution_count": null,
      "outputs": []
    },
    {
      "cell_type": "code",
      "source": [
        "#print the size of the new dataset for each class/label after undersampling\n",
        "class_1 = df_features_under[df_features_under['accident_severity'] == 1]\n",
        "class_0 = df_features_under[df_features_under['accident_severity'] == 0]\n",
        "print('class 1 (fatal):', len(class_1))\n",
        "print('class 0 (non-fatal):', len(class_0))"
      ],
      "metadata": {
        "colab": {
          "base_uri": "https://localhost:8080/"
        },
        "outputId": "5b099e09-a7cf-482c-8a99-562a0249d27e",
        "id": "xvXZ4vqcFc1B"
      },
      "execution_count": null,
      "outputs": [
        {
          "output_type": "stream",
          "name": "stdout",
          "text": [
            "class 1 (fatal): 18118\n",
            "class 0 (non-fatal): 18118\n"
          ]
        }
      ]
    },
    {
      "cell_type": "markdown",
      "source": [
        "###splitting the dataset in training and test datasets"
      ],
      "metadata": {
        "id": "9LmMygiwFc1B"
      }
    },
    {
      "cell_type": "code",
      "source": [
        "#splitting the dataset into training and test sets\n",
        "train_features_under, test_features_under = train_test_split(df_features_under, test_size=0.25)"
      ],
      "metadata": {
        "id": "iZy3SNgHFc1B"
      },
      "execution_count": null,
      "outputs": []
    },
    {
      "cell_type": "code",
      "source": [
        "#pop out the label column from the train and test undersampled datasets\n",
        "train_label_under = train_features_under.pop('accident_severity')\n",
        "test_label_under = test_features_under.pop('accident_severity')"
      ],
      "metadata": {
        "id": "WJvU3DCqFc1C"
      },
      "execution_count": null,
      "outputs": []
    },
    {
      "cell_type": "markdown",
      "source": [
        "## DNN Classifier"
      ],
      "metadata": {
        "id": "iO-aTOWRFc1C"
      }
    },
    {
      "cell_type": "markdown",
      "source": [
        "###defining input function, creating classifier, training classifer"
      ],
      "metadata": {
        "id": "Z_VPS7aoFc1D"
      }
    },
    {
      "cell_type": "code",
      "source": [
        "def input_fn(features, labels, training=True, batch_size=344):\n",
        "    # Convert the inputs to a Dataset.\n",
        "    dataset = tf.data.Dataset.from_tensor_slices((dict(features), labels))\n",
        "    # Shuffle and repeat if you are in training mode.\n",
        "    if training:\n",
        "        dataset = dataset.shuffle(1000).repeat()\n",
        "    return dataset.batch(batch_size)"
      ],
      "metadata": {
        "id": "S9l0rcpyFc1D"
      },
      "execution_count": null,
      "outputs": []
    },
    {
      "cell_type": "code",
      "source": [
        "# creating a tensorflow Feature column list\n",
        "my_feature_columns = []\n",
        "for key in train_features_under.keys():\n",
        "    my_feature_columns.append(tf.feature_column.numeric_column(key=key))\n",
        "my_feature_columns"
      ],
      "metadata": {
        "colab": {
          "base_uri": "https://localhost:8080/"
        },
        "outputId": "749f7712-9c80-40db-ec29-8ffca36f5d42",
        "id": "zcyun9j_Fc1D"
      },
      "execution_count": null,
      "outputs": [
        {
          "output_type": "execute_result",
          "data": {
            "text/plain": [
              "[NumericColumn(key='weather_conditions', shape=(1,), default_value=None, dtype=tf.float32, normalizer_fn=None),\n",
              " NumericColumn(key='speed_limit', shape=(1,), default_value=None, dtype=tf.float32, normalizer_fn=None),\n",
              " NumericColumn(key='road_surface_conditions', shape=(1,), default_value=None, dtype=tf.float32, normalizer_fn=None)]"
            ]
          },
          "metadata": {},
          "execution_count": 1757
        }
      ]
    },
    {
      "cell_type": "code",
      "source": [
        "# Build a DNN with 2 hidden layers with 30 and 10 hidden nodes each.\n",
        "classifier = tf.estimator.DNNClassifier(\n",
        "    feature_columns=my_feature_columns,\n",
        "    # Two hidden layers of 30 and 10 nodes respectively.\n",
        "    hidden_units=[30, 10],\n",
        "    # The model must choose between 2 classes.\n",
        "    n_classes=2)"
      ],
      "metadata": {
        "colab": {
          "base_uri": "https://localhost:8080/"
        },
        "outputId": "d6738dff-3e71-43b6-a7c2-2a3331783fb3",
        "id": "6M0o0JSCFc1E"
      },
      "execution_count": null,
      "outputs": [
        {
          "output_type": "stream",
          "name": "stdout",
          "text": [
            "INFO:tensorflow:Using default config.\n",
            "WARNING:tensorflow:Using temporary folder as model directory: /tmp/tmp7v1fvg81\n",
            "INFO:tensorflow:Using config: {'_model_dir': '/tmp/tmp7v1fvg81', '_tf_random_seed': None, '_save_summary_steps': 100, '_save_checkpoints_steps': None, '_save_checkpoints_secs': 600, '_session_config': allow_soft_placement: true\n",
            "graph_options {\n",
            "  rewrite_options {\n",
            "    meta_optimizer_iterations: ONE\n",
            "  }\n",
            "}\n",
            ", '_keep_checkpoint_max': 5, '_keep_checkpoint_every_n_hours': 10000, '_log_step_count_steps': 100, '_train_distribute': None, '_device_fn': None, '_protocol': None, '_eval_distribute': None, '_experimental_distribute': None, '_experimental_max_worker_delay_secs': None, '_session_creation_timeout_secs': 7200, '_checkpoint_save_graph_def': True, '_service': None, '_cluster_spec': ClusterSpec({}), '_task_type': 'worker', '_task_id': 0, '_global_id_in_cluster': 0, '_master': '', '_evaluation_master': '', '_is_chief': True, '_num_ps_replicas': 0, '_num_worker_replicas': 1}\n"
          ]
        }
      ]
    },
    {
      "cell_type": "code",
      "source": [
        "classifier.train(input_fn=lambda: input_fn(train_features_under, train_label_under, training=True),steps=5000)\n",
        "# We include a lambda to avoid creating an inner function "
      ],
      "metadata": {
        "colab": {
          "base_uri": "https://localhost:8080/"
        },
        "outputId": "aab8e147-df43-46df-a9bc-8671bfb7c2ba",
        "id": "Ex6zN7hNFc1E"
      },
      "execution_count": null,
      "outputs": [
        {
          "output_type": "stream",
          "name": "stdout",
          "text": [
            "INFO:tensorflow:Calling model_fn.\n",
            "INFO:tensorflow:Done calling model_fn.\n",
            "INFO:tensorflow:Create CheckpointSaverHook.\n",
            "INFO:tensorflow:Graph was finalized.\n",
            "INFO:tensorflow:Running local_init_op.\n",
            "INFO:tensorflow:Done running local_init_op.\n",
            "INFO:tensorflow:Calling checkpoint listeners before saving checkpoint 0...\n",
            "INFO:tensorflow:Saving checkpoints for 0 into /tmp/tmp7v1fvg81/model.ckpt.\n",
            "INFO:tensorflow:Calling checkpoint listeners after saving checkpoint 0...\n",
            "INFO:tensorflow:loss = 0.69969565, step = 0\n",
            "INFO:tensorflow:global_step/sec: 226.869\n",
            "INFO:tensorflow:loss = 0.69432557, step = 100 (0.447 sec)\n",
            "INFO:tensorflow:global_step/sec: 269.496\n",
            "INFO:tensorflow:loss = 0.68939584, step = 200 (0.370 sec)\n",
            "INFO:tensorflow:global_step/sec: 296.918\n",
            "INFO:tensorflow:loss = 0.6840781, step = 300 (0.335 sec)\n",
            "INFO:tensorflow:global_step/sec: 293.087\n",
            "INFO:tensorflow:loss = 0.6772505, step = 400 (0.345 sec)\n",
            "INFO:tensorflow:global_step/sec: 276.175\n",
            "INFO:tensorflow:loss = 0.7002744, step = 500 (0.361 sec)\n",
            "INFO:tensorflow:global_step/sec: 315.427\n",
            "INFO:tensorflow:loss = 0.68213165, step = 600 (0.314 sec)\n",
            "INFO:tensorflow:global_step/sec: 302.481\n",
            "INFO:tensorflow:loss = 0.7018925, step = 700 (0.334 sec)\n",
            "INFO:tensorflow:global_step/sec: 298.691\n",
            "INFO:tensorflow:loss = 0.6863478, step = 800 (0.333 sec)\n",
            "INFO:tensorflow:global_step/sec: 317.094\n",
            "INFO:tensorflow:loss = 0.6967901, step = 900 (0.319 sec)\n",
            "INFO:tensorflow:global_step/sec: 319.67\n",
            "INFO:tensorflow:loss = 0.69181186, step = 1000 (0.310 sec)\n",
            "INFO:tensorflow:global_step/sec: 301.439\n",
            "INFO:tensorflow:loss = 0.6871531, step = 1100 (0.329 sec)\n",
            "INFO:tensorflow:global_step/sec: 321.713\n",
            "INFO:tensorflow:loss = 0.6835212, step = 1200 (0.311 sec)\n",
            "INFO:tensorflow:global_step/sec: 322.713\n",
            "INFO:tensorflow:loss = 0.6866428, step = 1300 (0.310 sec)\n",
            "INFO:tensorflow:global_step/sec: 309.207\n",
            "INFO:tensorflow:loss = 0.6830007, step = 1400 (0.323 sec)\n",
            "INFO:tensorflow:global_step/sec: 298.803\n",
            "INFO:tensorflow:loss = 0.6806745, step = 1500 (0.334 sec)\n",
            "INFO:tensorflow:global_step/sec: 315.138\n",
            "INFO:tensorflow:loss = 0.67609066, step = 1600 (0.317 sec)\n",
            "INFO:tensorflow:global_step/sec: 300.654\n",
            "INFO:tensorflow:loss = 0.67032695, step = 1700 (0.333 sec)\n",
            "INFO:tensorflow:global_step/sec: 286.701\n",
            "INFO:tensorflow:loss = 0.67747647, step = 1800 (0.351 sec)\n",
            "INFO:tensorflow:global_step/sec: 308.846\n",
            "INFO:tensorflow:loss = 0.67639065, step = 1900 (0.321 sec)\n",
            "INFO:tensorflow:global_step/sec: 303.742\n",
            "INFO:tensorflow:loss = 0.6655489, step = 2000 (0.332 sec)\n",
            "INFO:tensorflow:global_step/sec: 316.123\n",
            "INFO:tensorflow:loss = 0.66645575, step = 2100 (0.315 sec)\n",
            "INFO:tensorflow:global_step/sec: 312.001\n",
            "INFO:tensorflow:loss = 0.663505, step = 2200 (0.321 sec)\n",
            "INFO:tensorflow:global_step/sec: 313.046\n",
            "INFO:tensorflow:loss = 0.6710583, step = 2300 (0.319 sec)\n",
            "INFO:tensorflow:global_step/sec: 293.128\n",
            "INFO:tensorflow:loss = 0.676158, step = 2400 (0.339 sec)\n",
            "INFO:tensorflow:global_step/sec: 314.879\n",
            "INFO:tensorflow:loss = 0.66615444, step = 2500 (0.320 sec)\n",
            "INFO:tensorflow:global_step/sec: 295.273\n",
            "INFO:tensorflow:loss = 0.6676445, step = 2600 (0.340 sec)\n",
            "INFO:tensorflow:global_step/sec: 284.449\n",
            "INFO:tensorflow:loss = 0.6743662, step = 2700 (0.351 sec)\n",
            "INFO:tensorflow:global_step/sec: 287.249\n",
            "INFO:tensorflow:loss = 0.6643917, step = 2800 (0.348 sec)\n",
            "INFO:tensorflow:global_step/sec: 286.665\n",
            "INFO:tensorflow:loss = 0.67400324, step = 2900 (0.347 sec)\n",
            "INFO:tensorflow:global_step/sec: 282.355\n",
            "INFO:tensorflow:loss = 0.6653516, step = 3000 (0.356 sec)\n",
            "INFO:tensorflow:global_step/sec: 303.907\n",
            "INFO:tensorflow:loss = 0.6657303, step = 3100 (0.330 sec)\n",
            "INFO:tensorflow:global_step/sec: 300.347\n",
            "INFO:tensorflow:loss = 0.65535223, step = 3200 (0.330 sec)\n",
            "INFO:tensorflow:global_step/sec: 292.709\n",
            "INFO:tensorflow:loss = 0.6708587, step = 3300 (0.344 sec)\n",
            "INFO:tensorflow:global_step/sec: 288.989\n",
            "INFO:tensorflow:loss = 0.65352255, step = 3400 (0.343 sec)\n",
            "INFO:tensorflow:global_step/sec: 300.412\n",
            "INFO:tensorflow:loss = 0.66331017, step = 3500 (0.336 sec)\n",
            "INFO:tensorflow:global_step/sec: 299.442\n",
            "INFO:tensorflow:loss = 0.667419, step = 3600 (0.336 sec)\n",
            "INFO:tensorflow:global_step/sec: 284.233\n",
            "INFO:tensorflow:loss = 0.67837906, step = 3700 (0.346 sec)\n",
            "INFO:tensorflow:global_step/sec: 274.952\n",
            "INFO:tensorflow:loss = 0.6799191, step = 3800 (0.364 sec)\n",
            "INFO:tensorflow:global_step/sec: 277.969\n",
            "INFO:tensorflow:loss = 0.64713085, step = 3900 (0.361 sec)\n",
            "INFO:tensorflow:global_step/sec: 277.076\n",
            "INFO:tensorflow:loss = 0.6623366, step = 4000 (0.359 sec)\n",
            "INFO:tensorflow:global_step/sec: 261.57\n",
            "INFO:tensorflow:loss = 0.65954995, step = 4100 (0.383 sec)\n",
            "INFO:tensorflow:global_step/sec: 262.469\n",
            "INFO:tensorflow:loss = 0.6530566, step = 4200 (0.381 sec)\n",
            "INFO:tensorflow:global_step/sec: 280.473\n",
            "INFO:tensorflow:loss = 0.64676225, step = 4300 (0.360 sec)\n",
            "INFO:tensorflow:global_step/sec: 242.927\n",
            "INFO:tensorflow:loss = 0.6746949, step = 4400 (0.409 sec)\n",
            "INFO:tensorflow:global_step/sec: 254.28\n",
            "INFO:tensorflow:loss = 0.6551886, step = 4500 (0.395 sec)\n",
            "INFO:tensorflow:global_step/sec: 285.636\n",
            "INFO:tensorflow:loss = 0.680578, step = 4600 (0.350 sec)\n",
            "INFO:tensorflow:global_step/sec: 260.517\n",
            "INFO:tensorflow:loss = 0.6478412, step = 4700 (0.381 sec)\n",
            "INFO:tensorflow:global_step/sec: 287.447\n",
            "INFO:tensorflow:loss = 0.6660285, step = 4800 (0.352 sec)\n",
            "INFO:tensorflow:global_step/sec: 290.08\n",
            "INFO:tensorflow:loss = 0.6637332, step = 4900 (0.342 sec)\n",
            "INFO:tensorflow:Calling checkpoint listeners before saving checkpoint 5000...\n",
            "INFO:tensorflow:Saving checkpoints for 5000 into /tmp/tmp7v1fvg81/model.ckpt.\n",
            "INFO:tensorflow:Calling checkpoint listeners after saving checkpoint 5000...\n",
            "INFO:tensorflow:Loss for final step: 0.6523612.\n"
          ]
        },
        {
          "output_type": "execute_result",
          "data": {
            "text/plain": [
              "<tensorflow_estimator.python.estimator.canned.dnn.DNNClassifierV2 at 0x7f1196a00690>"
            ]
          },
          "metadata": {},
          "execution_count": 1759
        }
      ]
    },
    {
      "cell_type": "markdown",
      "source": [
        "###Evaluating Classifier"
      ],
      "metadata": {
        "id": "y_4S_lixFc1E"
      }
    },
    {
      "cell_type": "code",
      "source": [
        "#determine the accurracy of th classifier\n",
        "eval_result = classifier.evaluate(\n",
        "    input_fn=lambda: input_fn(test_features_under, test_label_under, training=False))\n",
        "print('\\nTest set accuracy: {accuracy:0.3f}\\n'.format(**eval_result))"
      ],
      "metadata": {
        "colab": {
          "base_uri": "https://localhost:8080/"
        },
        "outputId": "4b55f443-0010-4030-99e1-4e3de157f982",
        "id": "tKokwrBYFc1F"
      },
      "execution_count": null,
      "outputs": [
        {
          "output_type": "stream",
          "name": "stdout",
          "text": [
            "INFO:tensorflow:Calling model_fn.\n",
            "INFO:tensorflow:Done calling model_fn.\n",
            "INFO:tensorflow:Starting evaluation at 2022-04-08T14:46:12\n",
            "INFO:tensorflow:Graph was finalized.\n",
            "INFO:tensorflow:Restoring parameters from /tmp/tmp7v1fvg81/model.ckpt-5000\n",
            "INFO:tensorflow:Running local_init_op.\n",
            "INFO:tensorflow:Done running local_init_op.\n",
            "INFO:tensorflow:Inference Time : 0.89634s\n",
            "INFO:tensorflow:Finished evaluation at 2022-04-08-14:46:13\n",
            "INFO:tensorflow:Saving dict for global step 5000: accuracy = 0.6549288, accuracy_baseline = 0.5001656, auc = 0.68178385, auc_precision_recall = 0.644542, average_loss = 0.6604279, global_step = 5000, label/mean = 0.5001656, loss = 0.6600173, precision = 0.64097935, prediction/mean = 0.5332264, recall = 0.70492166\n",
            "INFO:tensorflow:Saving 'checkpoint_path' summary for global step 5000: /tmp/tmp7v1fvg81/model.ckpt-5000\n",
            "\n",
            "Test set accuracy: 0.655\n",
            "\n"
          ]
        }
      ]
    },
    {
      "cell_type": "code",
      "source": [
        "#create predictions list for all test set\n",
        "predictions_under = list(classifier.predict(input_fn=lambda: input_fn(test_features_under, test_label_under, training=False)))"
      ],
      "metadata": {
        "outputId": "744faed5-2b4f-4e9f-bbc9-c1564f077a0f",
        "colab": {
          "base_uri": "https://localhost:8080/"
        },
        "id": "n5oxhL2DFc1F"
      },
      "execution_count": null,
      "outputs": [
        {
          "output_type": "stream",
          "name": "stdout",
          "text": [
            "INFO:tensorflow:Calling model_fn.\n",
            "INFO:tensorflow:Done calling model_fn.\n",
            "INFO:tensorflow:Graph was finalized.\n",
            "INFO:tensorflow:Restoring parameters from /tmp/tmp7v1fvg81/model.ckpt-5000\n",
            "INFO:tensorflow:Running local_init_op.\n",
            "INFO:tensorflow:Done running local_init_op.\n"
          ]
        }
      ]
    },
    {
      "cell_type": "code",
      "source": [
        "#create a dataframe of predictions for test set\n",
        "df_predictions = pd.DataFrame(predictions_under)"
      ],
      "metadata": {
        "id": "wU-J4L09Fc1G"
      },
      "execution_count": null,
      "outputs": []
    },
    {
      "cell_type": "markdown",
      "source": [
        "###Plot of Results"
      ],
      "metadata": {
        "id": "I68LpnuKFc1G"
      }
    },
    {
      "cell_type": "code",
      "source": [
        "#add the actual matches to the prediciton dataframe\n",
        "df_predictions['actual label']=test_label_under.values"
      ],
      "metadata": {
        "id": "MfbqIpIvFc1G"
      },
      "execution_count": null,
      "outputs": []
    },
    {
      "cell_type": "code",
      "source": [
        "#add the class predicitons from the DNN to the dataframe\n",
        "df_predictions['predicted label']=pd.DataFrame.from_records(df_predictions['class_ids'])"
      ],
      "metadata": {
        "id": "WKz3fcuCFc1H"
      },
      "execution_count": null,
      "outputs": []
    },
    {
      "cell_type": "code",
      "source": [
        "#add a binary column to show if the dnn predictions were correct\n",
        "df_predictions['match?']=df_predictions['predicted label']-df_predictions['actual label']\n",
        "df_predictions['match?']=df_predictions['match?'].replace(0,'match')\n",
        "df_predictions['match?']=df_predictions['match?'].replace(-1,'not match')\n",
        "df_predictions['match?']=df_predictions['match?'].replace(1,'not match')"
      ],
      "metadata": {
        "id": "mrRj8ya1Fc1H"
      },
      "execution_count": null,
      "outputs": []
    },
    {
      "cell_type": "code",
      "source": [
        "#view the prdictions dataframe\n",
        "df_predictions.head()"
      ],
      "metadata": {
        "colab": {
          "base_uri": "https://localhost:8080/",
          "height": 206
        },
        "outputId": "653c7d45-9715-4ada-c349-3ce6b0b2b260",
        "id": "SA_kOo_pFc1H"
      },
      "execution_count": null,
      "outputs": [
        {
          "output_type": "execute_result",
          "data": {
            "text/plain": [
              "          logits      logistic             probabilities class_ids classes  \\\n",
              "0   [0.08015597]   [0.5200283]   [0.4799717, 0.52002823]       [1]  [b'1']   \n",
              "1   [0.41925657]  [0.60330534]   [0.39669463, 0.6033053]       [1]  [b'1']   \n",
              "2  [-0.08939302]  [0.47766662]   [0.5223334, 0.47766662]       [0]  [b'0']   \n",
              "3   [-0.1502775]  [0.46250117]  [0.53749883, 0.46250117]       [0]  [b'0']   \n",
              "4    [0.5879892]   [0.6429036]   [0.35709634, 0.6429036]       [1]  [b'1']   \n",
              "\n",
              "  all_class_ids   all_classes  actual label  predicted label     match?  \n",
              "0        [0, 1]  [b'0', b'1']             0                1  not match  \n",
              "1        [0, 1]  [b'0', b'1']             1                1      match  \n",
              "2        [0, 1]  [b'0', b'1']             1                0  not match  \n",
              "3        [0, 1]  [b'0', b'1']             1                0  not match  \n",
              "4        [0, 1]  [b'0', b'1']             0                1  not match  "
            ],
            "text/html": [
              "\n",
              "  <div id=\"df-3a1d713b-60e6-4a16-92e0-1a21132cdae0\">\n",
              "    <div class=\"colab-df-container\">\n",
              "      <div>\n",
              "<style scoped>\n",
              "    .dataframe tbody tr th:only-of-type {\n",
              "        vertical-align: middle;\n",
              "    }\n",
              "\n",
              "    .dataframe tbody tr th {\n",
              "        vertical-align: top;\n",
              "    }\n",
              "\n",
              "    .dataframe thead th {\n",
              "        text-align: right;\n",
              "    }\n",
              "</style>\n",
              "<table border=\"1\" class=\"dataframe\">\n",
              "  <thead>\n",
              "    <tr style=\"text-align: right;\">\n",
              "      <th></th>\n",
              "      <th>logits</th>\n",
              "      <th>logistic</th>\n",
              "      <th>probabilities</th>\n",
              "      <th>class_ids</th>\n",
              "      <th>classes</th>\n",
              "      <th>all_class_ids</th>\n",
              "      <th>all_classes</th>\n",
              "      <th>actual label</th>\n",
              "      <th>predicted label</th>\n",
              "      <th>match?</th>\n",
              "    </tr>\n",
              "  </thead>\n",
              "  <tbody>\n",
              "    <tr>\n",
              "      <th>0</th>\n",
              "      <td>[0.08015597]</td>\n",
              "      <td>[0.5200283]</td>\n",
              "      <td>[0.4799717, 0.52002823]</td>\n",
              "      <td>[1]</td>\n",
              "      <td>[b'1']</td>\n",
              "      <td>[0, 1]</td>\n",
              "      <td>[b'0', b'1']</td>\n",
              "      <td>0</td>\n",
              "      <td>1</td>\n",
              "      <td>not match</td>\n",
              "    </tr>\n",
              "    <tr>\n",
              "      <th>1</th>\n",
              "      <td>[0.41925657]</td>\n",
              "      <td>[0.60330534]</td>\n",
              "      <td>[0.39669463, 0.6033053]</td>\n",
              "      <td>[1]</td>\n",
              "      <td>[b'1']</td>\n",
              "      <td>[0, 1]</td>\n",
              "      <td>[b'0', b'1']</td>\n",
              "      <td>1</td>\n",
              "      <td>1</td>\n",
              "      <td>match</td>\n",
              "    </tr>\n",
              "    <tr>\n",
              "      <th>2</th>\n",
              "      <td>[-0.08939302]</td>\n",
              "      <td>[0.47766662]</td>\n",
              "      <td>[0.5223334, 0.47766662]</td>\n",
              "      <td>[0]</td>\n",
              "      <td>[b'0']</td>\n",
              "      <td>[0, 1]</td>\n",
              "      <td>[b'0', b'1']</td>\n",
              "      <td>1</td>\n",
              "      <td>0</td>\n",
              "      <td>not match</td>\n",
              "    </tr>\n",
              "    <tr>\n",
              "      <th>3</th>\n",
              "      <td>[-0.1502775]</td>\n",
              "      <td>[0.46250117]</td>\n",
              "      <td>[0.53749883, 0.46250117]</td>\n",
              "      <td>[0]</td>\n",
              "      <td>[b'0']</td>\n",
              "      <td>[0, 1]</td>\n",
              "      <td>[b'0', b'1']</td>\n",
              "      <td>1</td>\n",
              "      <td>0</td>\n",
              "      <td>not match</td>\n",
              "    </tr>\n",
              "    <tr>\n",
              "      <th>4</th>\n",
              "      <td>[0.5879892]</td>\n",
              "      <td>[0.6429036]</td>\n",
              "      <td>[0.35709634, 0.6429036]</td>\n",
              "      <td>[1]</td>\n",
              "      <td>[b'1']</td>\n",
              "      <td>[0, 1]</td>\n",
              "      <td>[b'0', b'1']</td>\n",
              "      <td>0</td>\n",
              "      <td>1</td>\n",
              "      <td>not match</td>\n",
              "    </tr>\n",
              "  </tbody>\n",
              "</table>\n",
              "</div>\n",
              "      <button class=\"colab-df-convert\" onclick=\"convertToInteractive('df-3a1d713b-60e6-4a16-92e0-1a21132cdae0')\"\n",
              "              title=\"Convert this dataframe to an interactive table.\"\n",
              "              style=\"display:none;\">\n",
              "        \n",
              "  <svg xmlns=\"http://www.w3.org/2000/svg\" height=\"24px\"viewBox=\"0 0 24 24\"\n",
              "       width=\"24px\">\n",
              "    <path d=\"M0 0h24v24H0V0z\" fill=\"none\"/>\n",
              "    <path d=\"M18.56 5.44l.94 2.06.94-2.06 2.06-.94-2.06-.94-.94-2.06-.94 2.06-2.06.94zm-11 1L8.5 8.5l.94-2.06 2.06-.94-2.06-.94L8.5 2.5l-.94 2.06-2.06.94zm10 10l.94 2.06.94-2.06 2.06-.94-2.06-.94-.94-2.06-.94 2.06-2.06.94z\"/><path d=\"M17.41 7.96l-1.37-1.37c-.4-.4-.92-.59-1.43-.59-.52 0-1.04.2-1.43.59L10.3 9.45l-7.72 7.72c-.78.78-.78 2.05 0 2.83L4 21.41c.39.39.9.59 1.41.59.51 0 1.02-.2 1.41-.59l7.78-7.78 2.81-2.81c.8-.78.8-2.07 0-2.86zM5.41 20L4 18.59l7.72-7.72 1.47 1.35L5.41 20z\"/>\n",
              "  </svg>\n",
              "      </button>\n",
              "      \n",
              "  <style>\n",
              "    .colab-df-container {\n",
              "      display:flex;\n",
              "      flex-wrap:wrap;\n",
              "      gap: 12px;\n",
              "    }\n",
              "\n",
              "    .colab-df-convert {\n",
              "      background-color: #E8F0FE;\n",
              "      border: none;\n",
              "      border-radius: 50%;\n",
              "      cursor: pointer;\n",
              "      display: none;\n",
              "      fill: #1967D2;\n",
              "      height: 32px;\n",
              "      padding: 0 0 0 0;\n",
              "      width: 32px;\n",
              "    }\n",
              "\n",
              "    .colab-df-convert:hover {\n",
              "      background-color: #E2EBFA;\n",
              "      box-shadow: 0px 1px 2px rgba(60, 64, 67, 0.3), 0px 1px 3px 1px rgba(60, 64, 67, 0.15);\n",
              "      fill: #174EA6;\n",
              "    }\n",
              "\n",
              "    [theme=dark] .colab-df-convert {\n",
              "      background-color: #3B4455;\n",
              "      fill: #D2E3FC;\n",
              "    }\n",
              "\n",
              "    [theme=dark] .colab-df-convert:hover {\n",
              "      background-color: #434B5C;\n",
              "      box-shadow: 0px 1px 3px 1px rgba(0, 0, 0, 0.15);\n",
              "      filter: drop-shadow(0px 1px 2px rgba(0, 0, 0, 0.3));\n",
              "      fill: #FFFFFF;\n",
              "    }\n",
              "  </style>\n",
              "\n",
              "      <script>\n",
              "        const buttonEl =\n",
              "          document.querySelector('#df-3a1d713b-60e6-4a16-92e0-1a21132cdae0 button.colab-df-convert');\n",
              "        buttonEl.style.display =\n",
              "          google.colab.kernel.accessAllowed ? 'block' : 'none';\n",
              "\n",
              "        async function convertToInteractive(key) {\n",
              "          const element = document.querySelector('#df-3a1d713b-60e6-4a16-92e0-1a21132cdae0');\n",
              "          const dataTable =\n",
              "            await google.colab.kernel.invokeFunction('convertToInteractive',\n",
              "                                                     [key], {});\n",
              "          if (!dataTable) return;\n",
              "\n",
              "          const docLinkHtml = 'Like what you see? Visit the ' +\n",
              "            '<a target=\"_blank\" href=https://colab.research.google.com/notebooks/data_table.ipynb>data table notebook</a>'\n",
              "            + ' to learn more about interactive tables.';\n",
              "          element.innerHTML = '';\n",
              "          dataTable['output_type'] = 'display_data';\n",
              "          await google.colab.output.renderOutput(dataTable, element);\n",
              "          const docLink = document.createElement('div');\n",
              "          docLink.innerHTML = docLinkHtml;\n",
              "          element.appendChild(docLink);\n",
              "        }\n",
              "      </script>\n",
              "    </div>\n",
              "  </div>\n",
              "  "
            ]
          },
          "metadata": {},
          "execution_count": 1766
        }
      ]
    },
    {
      "cell_type": "code",
      "source": [
        "#create a new dataframe showing only the correct predictions\n",
        "correct_predictions = df_predictions[df_predictions['match?']=='match']\n",
        "#get the count of the correct predctions for eah label\n",
        "correct_pred_count_label_0 , correct_pred_count_label_1 = correct_predictions['predicted label'].value_counts()\n",
        "#get the actual label count for each label\n",
        "actual_count_label_0 , actual_count_label_1 = df_predictions['actual label'].value_counts()"
      ],
      "metadata": {
        "id": "OXNb_ukgFc1I"
      },
      "execution_count": null,
      "outputs": []
    },
    {
      "cell_type": "code",
      "source": [
        "#get the accuracy of each labels predictions\n",
        "accuracy_label_0,accuracy_label_1 = correct_pred_count_label_0/actual_count_label_0 , correct_pred_count_label_1/actual_count_label_1\n",
        "accuracy=accuracy_label_0*100,accuracy_label_1*100\n",
        "accuracy=pd.Series(accuracy)\n",
        "print('Accuracy of label 0 (non-fatal): ', accuracy_label_0, '\\nAccuracy of label 1 (fatal): ', accuracy_label_1)"
      ],
      "metadata": {
        "colab": {
          "base_uri": "https://localhost:8080/"
        },
        "outputId": "945aa051-2ebe-4e43-a844-e66043ffaed2",
        "id": "lsBFf6O3Fc1I"
      },
      "execution_count": null,
      "outputs": [
        {
          "output_type": "stream",
          "name": "stdout",
          "text": [
            "Accuracy of label 0 (non-fatal):  0.704921650849702 \n",
            "Accuracy of label 1 (fatal):  0.6049028268551236\n"
          ]
        }
      ]
    },
    {
      "cell_type": "code",
      "source": [
        "#plot the accuracy of each labels predictions\n",
        "fig, axes = plt.subplots(figsize=(18, 10))\n",
        "accuracy.plot(kind='barh')\n",
        "plt.yticks((0,1), ('non-Fatal accident', 'Fatal accident'))\n",
        "plt.xticks((0,10,20,30,40,50,60), ('0%', '10%','20%','30%','40%','50%','60%'))\n",
        "plt.xlabel('prectange accuracy')\n",
        "plt.title('percentage accuracy for each class/label')"
      ],
      "metadata": {
        "colab": {
          "base_uri": "https://localhost:8080/",
          "height": 639
        },
        "outputId": "625dc714-22db-44b4-b225-4ef46da193a1",
        "id": "J2R03YyYFc1J"
      },
      "execution_count": null,
      "outputs": [
        {
          "output_type": "execute_result",
          "data": {
            "text/plain": [
              "Text(0.5, 1.0, 'percentage accuracy for each class/label')"
            ]
          },
          "metadata": {},
          "execution_count": 1769
        },
        {
          "output_type": "display_data",
          "data": {
            "text/plain": [
              "<Figure size 1296x720 with 1 Axes>"
            ],
            "image/png": "[encoded data removed]"
          },
          "metadata": {
            "needs_background": "light"
          }
        }
      ]
    },
    {
      "cell_type": "markdown",
      "source": [
        "#Iteration 4 - 'weather_conditions'"
      ],
      "metadata": {
        "id": "0gcDab-GG-Ld"
      }
    },
    {
      "cell_type": "markdown",
      "source": [
        "##Features"
      ],
      "metadata": {
        "id": "T_Bgs1olG-Le"
      }
    },
    {
      "cell_type": "markdown",
      "source": [
        "###Seleceting Features, checking correlation between them, cleaning missing data"
      ],
      "metadata": {
        "id": "9lkxn1y3G-Lf"
      }
    },
    {
      "cell_type": "code",
      "source": [
        "df_features = df[['weather_conditions','accident_severity']]"
      ],
      "metadata": {
        "id": "XYyK8-3VG-Lf"
      },
      "execution_count": null,
      "outputs": []
    },
    {
      "cell_type": "code",
      "source": [
        "#checking correlation between features\n",
        "df_features.corr()\n",
        "sns.heatmap(df_features.corr())"
      ],
      "metadata": {
        "colab": {
          "base_uri": "https://localhost:8080/",
          "height": 288
        },
        "outputId": "4a65de86-ee2a-4744-cd00-9425fa83e0d9",
        "id": "jl30dI4lG-Lg"
      },
      "execution_count": null,
      "outputs": [
        {
          "output_type": "execute_result",
          "data": {
            "text/plain": [
              "<matplotlib.axes._subplots.AxesSubplot at 0x7f11caee6950>"
            ]
          },
          "metadata": {},
          "execution_count": 787
        },
        {
          "output_type": "display_data",
          "data": {
            "text/plain": [
              "<Figure size 432x288 with 2 Axes>"
            ],
            "image/png": "[encoded data removed]"
          },
          "metadata": {
            "needs_background": "light"
          }
        }
      ]
    },
    {
      "cell_type": "code",
      "source": [
        "#checking which values have missing data, note missing data is recorded as -1\n",
        "df_features.min()"
      ],
      "metadata": {
        "colab": {
          "base_uri": "https://localhost:8080/"
        },
        "outputId": "94ca609d-032e-4c72-da7d-189655481064",
        "id": "q9IeKu68G-Lh"
      },
      "execution_count": null,
      "outputs": [
        {
          "output_type": "execute_result",
          "data": {
            "text/plain": [
              "weather_conditions   -1\n",
              "accident_severity     1\n",
              "dtype: int64"
            ]
          },
          "metadata": {},
          "execution_count": 788
        }
      ]
    },
    {
      "cell_type": "code",
      "source": [
        "#there are 161 accident that do not have recorded weather conditions, will drop these\n",
        "df_features['weather_conditions'][df_features['weather_conditions']==-1].count()"
      ],
      "metadata": {
        "colab": {
          "base_uri": "https://localhost:8080/"
        },
        "outputId": "3932587e-1b48-4d41-bf62-ec0b7f297c82",
        "id": "iixAv5qcG-Lh"
      },
      "execution_count": null,
      "outputs": [
        {
          "output_type": "execute_result",
          "data": {
            "text/plain": [
              "89"
            ]
          },
          "metadata": {},
          "execution_count": 789
        }
      ]
    },
    {
      "cell_type": "code",
      "source": [
        "#removing all rows with (missing) data\n",
        "df_features = df_features[df_features['weather_conditions']!=-1]\n",
        "#df_features = df_features[df_features['speed_limit']!=0]"
      ],
      "metadata": {
        "id": "-IqxJ6T8G-Li"
      },
      "execution_count": null,
      "outputs": []
    },
    {
      "cell_type": "code",
      "source": [
        "#bucketising weather condtion into 2 bins\n",
        "df_features['weather_conditions'] = df_features['weather_conditions'].replace(1,0)\n",
        "df_features['weather_conditions'] = df_features['weather_conditions'].replace(4,0)\n",
        "df_features['weather_conditions'] = df_features['weather_conditions'].replace(5,0)\n",
        "df_features['weather_conditions'] = df_features['weather_conditions'].replace(7,0)\n",
        "df_features['weather_conditions']= df_features['weather_conditions'].replace(2,1)\n",
        "df_features['weather_conditions']= df_features['weather_conditions'].replace(3,1)\n",
        "df_features['weather_conditions'] = df_features['weather_conditions'].replace(6,1)\n",
        "df_features['weather_conditions'] = df_features['weather_conditions'].replace(8,1)\n",
        "df_features['weather_conditions'] = df_features['weather_conditions'].replace(9,1)"
      ],
      "metadata": {
        "colab": {
          "base_uri": "https://localhost:8080/"
        },
        "id": "nDVOwejnZAMa",
        "outputId": "d19af134-9c19-4e95-9d24-4c26fce65fc2"
      },
      "execution_count": null,
      "outputs": [
        {
          "output_type": "stream",
          "name": "stderr",
          "text": [
            "/usr/local/lib/python3.7/dist-packages/ipykernel_launcher.py:2: SettingWithCopyWarning: \n",
            "A value is trying to be set on a copy of a slice from a DataFrame.\n",
            "Try using .loc[row_indexer,col_indexer] = value instead\n",
            "\n",
            "See the caveats in the documentation: https://pandas.pydata.org/pandas-docs/stable/user_guide/indexing.html#returning-a-view-versus-a-copy\n",
            "  \n"
          ]
        }
      ]
    },
    {
      "cell_type": "markdown",
      "source": [
        "df_features.count()"
      ],
      "metadata": {
        "id": "eVfA_33kG-Ll"
      }
    },
    {
      "cell_type": "markdown",
      "source": [
        "### Cleaning Label (accident severity) so that there are 2 classes instead of 3"
      ],
      "metadata": {
        "id": "l1wJjmnpG-Ll"
      }
    },
    {
      "cell_type": "code",
      "source": [
        "#check count for each level of accident deverity\n",
        "df_features['accident_severity'].value_counts()"
      ],
      "metadata": {
        "colab": {
          "base_uri": "https://localhost:8080/"
        },
        "outputId": "f8c77dd9-5828-4dd4-91cb-ea41253b52c9",
        "id": "kzRDsEriG-Lm"
      },
      "execution_count": null,
      "outputs": [
        {
          "output_type": "execute_result",
          "data": {
            "text/plain": [
              "3    1225579\n",
              "2     230668\n",
              "1      18134\n",
              "Name: accident_severity, dtype: int64"
            ]
          },
          "metadata": {},
          "execution_count": 792
        }
      ]
    },
    {
      "cell_type": "code",
      "source": [
        "#replace all accident severities where severiry is 2 or 3 and group them into 1 bucket (non-fatal)\n",
        "df_features['accident_severity'] = df_features['accident_severity'].replace(2,0)\n",
        "df_features['accident_severity'] = df_features['accident_severity'].replace(3,0)"
      ],
      "metadata": {
        "id": "yk9gqycJG-Lm"
      },
      "execution_count": null,
      "outputs": []
    },
    {
      "cell_type": "code",
      "source": [
        "#create 2 dataframe, 1 for each class, and print the size each\n",
        "class_1 = df_features[df_features['accident_severity'] == 1]\n",
        "class_0 = df_features[df_features['accident_severity'] == 0]\n",
        "print('class 1 (fatal):', len(class_1))\n",
        "print('class 0 (non-fatal):', len(class_0))"
      ],
      "metadata": {
        "colab": {
          "base_uri": "https://localhost:8080/"
        },
        "outputId": "460f313c-aac8-47f3-8430-7a33c334b05c",
        "id": "R3YLoFK9G-Ln"
      },
      "execution_count": null,
      "outputs": [
        {
          "output_type": "stream",
          "name": "stdout",
          "text": [
            "class 1 (fatal): 18134\n",
            "class 0 (non-fatal): 1456247\n"
          ]
        }
      ]
    },
    {
      "cell_type": "markdown",
      "source": [
        "###Accounting for imbalance in the dataset by undersampling"
      ],
      "metadata": {
        "id": "v6J3tQHbG-Ln"
      }
    },
    {
      "cell_type": "code",
      "source": [
        "#get the length of the dataset for each class/label\n",
        "class_count_0, class_count_1 = df_features['accident_severity'].value_counts()"
      ],
      "metadata": {
        "id": "X_Kny5HHG-Ln"
      },
      "execution_count": null,
      "outputs": []
    },
    {
      "cell_type": "code",
      "source": [
        "#undersampling of class 0 to balance the count of data for each class/label\n",
        "class_0_under = class_0.sample(class_count_1)\n",
        "df_features_under = pd.concat([class_0_under, class_1], axis=0)"
      ],
      "metadata": {
        "id": "UJiNo2UtG-Lo"
      },
      "execution_count": null,
      "outputs": []
    },
    {
      "cell_type": "code",
      "source": [
        "#print the size of the new dataset for each class/label after undersampling\n",
        "class_1 = df_features_under[df_features_under['accident_severity'] == 1]\n",
        "class_0 = df_features_under[df_features_under['accident_severity'] == 0]\n",
        "print('class 1 (fatal):', len(class_1))\n",
        "print('class 0 (non-fatal):', len(class_0))"
      ],
      "metadata": {
        "colab": {
          "base_uri": "https://localhost:8080/"
        },
        "outputId": "15160add-f6e5-439c-f299-83eedcacfdf2",
        "id": "0eyLLnGSG-Lo"
      },
      "execution_count": null,
      "outputs": [
        {
          "output_type": "stream",
          "name": "stdout",
          "text": [
            "class 1 (fatal): 18134\n",
            "class 0 (non-fatal): 18134\n"
          ]
        }
      ]
    },
    {
      "cell_type": "markdown",
      "source": [
        "###splitting the dataset in training and test datasets"
      ],
      "metadata": {
        "id": "jn3-5sdCG-Lp"
      }
    },
    {
      "cell_type": "code",
      "source": [
        "#splitting the dataset into training and test sets\n",
        "train_features_under, test_features_under = train_test_split(df_features_under, test_size=0.25)"
      ],
      "metadata": {
        "id": "hVQ88kc6G-Lp"
      },
      "execution_count": null,
      "outputs": []
    },
    {
      "cell_type": "code",
      "source": [
        "#pop out the label column from the train and test undersampled datasets\n",
        "train_label_under = train_features_under.pop('accident_severity')\n",
        "test_label_under = test_features_under.pop('accident_severity')"
      ],
      "metadata": {
        "id": "-nUfj494G-Lq"
      },
      "execution_count": null,
      "outputs": []
    },
    {
      "cell_type": "markdown",
      "source": [
        "## DNN Classifier"
      ],
      "metadata": {
        "id": "o61RcWc4G-Lq"
      }
    },
    {
      "cell_type": "markdown",
      "source": [
        "###defining input function, creating classifier, training classifer"
      ],
      "metadata": {
        "id": "BqblYh8lG-Lq"
      }
    },
    {
      "cell_type": "code",
      "source": [
        "def input_fn(features, labels, training=True, batch_size=344):\n",
        "    # Convert the inputs to a Dataset.\n",
        "    dataset = tf.data.Dataset.from_tensor_slices((dict(features), labels))\n",
        "    # Shuffle and repeat if you are in training mode.\n",
        "    if training:\n",
        "        dataset = dataset.shuffle(1000).repeat()\n",
        "    return dataset.batch(batch_size)"
      ],
      "metadata": {
        "id": "g2LWRA_CG-Lq"
      },
      "execution_count": null,
      "outputs": []
    },
    {
      "cell_type": "code",
      "source": [
        "# creating a tensorflow Feature column list\n",
        "my_feature_columns = []\n",
        "for key in train_features_under.keys():\n",
        "    my_feature_columns.append(tf.feature_column.numeric_column(key=key))\n",
        "my_feature_columns"
      ],
      "metadata": {
        "colab": {
          "base_uri": "https://localhost:8080/"
        },
        "outputId": "ef4e01b5-5bbf-46a7-ce7a-a511151988e4",
        "id": "yDZBlQRTG-Lr"
      },
      "execution_count": null,
      "outputs": [
        {
          "output_type": "execute_result",
          "data": {
            "text/plain": [
              "[NumericColumn(key='weather_conditions', shape=(1,), default_value=None, dtype=tf.float32, normalizer_fn=None)]"
            ]
          },
          "metadata": {},
          "execution_count": 801
        }
      ]
    },
    {
      "cell_type": "code",
      "source": [
        "# Build a DNN with 2 hidden layers with 30 and 10 hidden nodes each.\n",
        "classifier = tf.estimator.DNNClassifier(\n",
        "    feature_columns=my_feature_columns,\n",
        "    # Two hidden layers of 30 and 10 nodes respectively.\n",
        "    hidden_units=[30, 10],\n",
        "    # The model must choose between 2 classes.\n",
        "    n_classes=2)"
      ],
      "metadata": {
        "colab": {
          "base_uri": "https://localhost:8080/"
        },
        "outputId": "fc1a9c93-c338-482e-e5f1-bb0d7f4b159c",
        "id": "uq31AgAeG-Lr"
      },
      "execution_count": null,
      "outputs": [
        {
          "output_type": "stream",
          "name": "stdout",
          "text": [
            "INFO:tensorflow:Using default config.\n",
            "WARNING:tensorflow:Using temporary folder as model directory: /tmp/tmp77qik2_t\n",
            "INFO:tensorflow:Using config: {'_model_dir': '/tmp/tmp77qik2_t', '_tf_random_seed': None, '_save_summary_steps': 100, '_save_checkpoints_steps': None, '_save_checkpoints_secs': 600, '_session_config': allow_soft_placement: true\n",
            "graph_options {\n",
            "  rewrite_options {\n",
            "    meta_optimizer_iterations: ONE\n",
            "  }\n",
            "}\n",
            ", '_keep_checkpoint_max': 5, '_keep_checkpoint_every_n_hours': 10000, '_log_step_count_steps': 100, '_train_distribute': None, '_device_fn': None, '_protocol': None, '_eval_distribute': None, '_experimental_distribute': None, '_experimental_max_worker_delay_secs': None, '_session_creation_timeout_secs': 7200, '_checkpoint_save_graph_def': True, '_service': None, '_cluster_spec': ClusterSpec({}), '_task_type': 'worker', '_task_id': 0, '_global_id_in_cluster': 0, '_master': '', '_evaluation_master': '', '_is_chief': True, '_num_ps_replicas': 0, '_num_worker_replicas': 1}\n"
          ]
        }
      ]
    },
    {
      "cell_type": "code",
      "source": [
        "classifier.train(input_fn=lambda: input_fn(train_features_under, train_label_under, training=True),steps=5000)\n",
        "# We include a lambda to avoid creating an inner function "
      ],
      "metadata": {
        "colab": {
          "base_uri": "https://localhost:8080/"
        },
        "outputId": "1a165418-983f-47c6-987c-cc979ad2db6b",
        "id": "gtpxzY1uG-Lr"
      },
      "execution_count": null,
      "outputs": [
        {
          "output_type": "stream",
          "name": "stdout",
          "text": [
            "INFO:tensorflow:Calling model_fn.\n",
            "INFO:tensorflow:Done calling model_fn.\n",
            "INFO:tensorflow:Create CheckpointSaverHook.\n",
            "INFO:tensorflow:Graph was finalized.\n",
            "INFO:tensorflow:Running local_init_op.\n",
            "INFO:tensorflow:Done running local_init_op.\n",
            "INFO:tensorflow:Calling checkpoint listeners before saving checkpoint 0...\n",
            "INFO:tensorflow:Saving checkpoints for 0 into /tmp/tmp77qik2_t/model.ckpt.\n",
            "INFO:tensorflow:Calling checkpoint listeners after saving checkpoint 0...\n",
            "INFO:tensorflow:loss = 0.69393, step = 0\n",
            "INFO:tensorflow:global_step/sec: 297.467\n",
            "INFO:tensorflow:loss = 0.69650084, step = 100 (0.342 sec)\n",
            "INFO:tensorflow:global_step/sec: 388.076\n",
            "INFO:tensorflow:loss = 0.6956068, step = 200 (0.257 sec)\n",
            "INFO:tensorflow:global_step/sec: 460.217\n",
            "INFO:tensorflow:loss = 0.69427127, step = 300 (0.218 sec)\n",
            "INFO:tensorflow:global_step/sec: 454.004\n",
            "INFO:tensorflow:loss = 0.6958731, step = 400 (0.220 sec)\n",
            "INFO:tensorflow:global_step/sec: 427.547\n",
            "INFO:tensorflow:loss = 0.6946303, step = 500 (0.234 sec)\n",
            "INFO:tensorflow:global_step/sec: 445.931\n",
            "INFO:tensorflow:loss = 0.6949403, step = 600 (0.221 sec)\n",
            "INFO:tensorflow:global_step/sec: 414.83\n",
            "INFO:tensorflow:loss = 0.69334906, step = 700 (0.244 sec)\n",
            "INFO:tensorflow:global_step/sec: 433.722\n",
            "INFO:tensorflow:loss = 0.69432455, step = 800 (0.230 sec)\n",
            "INFO:tensorflow:global_step/sec: 435.751\n",
            "INFO:tensorflow:loss = 0.6937596, step = 900 (0.231 sec)\n",
            "INFO:tensorflow:global_step/sec: 408.128\n",
            "INFO:tensorflow:loss = 0.6929579, step = 1000 (0.244 sec)\n",
            "INFO:tensorflow:global_step/sec: 386.964\n",
            "INFO:tensorflow:loss = 0.6943294, step = 1100 (0.259 sec)\n",
            "INFO:tensorflow:global_step/sec: 428.231\n",
            "INFO:tensorflow:loss = 0.69361836, step = 1200 (0.233 sec)\n",
            "INFO:tensorflow:global_step/sec: 427.693\n",
            "INFO:tensorflow:loss = 0.69345033, step = 1300 (0.234 sec)\n",
            "INFO:tensorflow:global_step/sec: 397.399\n",
            "INFO:tensorflow:loss = 0.6934261, step = 1400 (0.252 sec)\n",
            "INFO:tensorflow:global_step/sec: 370.94\n",
            "INFO:tensorflow:loss = 0.6938614, step = 1500 (0.270 sec)\n",
            "INFO:tensorflow:global_step/sec: 429.719\n",
            "INFO:tensorflow:loss = 0.6933442, step = 1600 (0.229 sec)\n",
            "INFO:tensorflow:global_step/sec: 426.257\n",
            "INFO:tensorflow:loss = 0.69330966, step = 1700 (0.237 sec)\n",
            "INFO:tensorflow:global_step/sec: 421.567\n",
            "INFO:tensorflow:loss = 0.6930066, step = 1800 (0.234 sec)\n",
            "INFO:tensorflow:global_step/sec: 401.264\n",
            "INFO:tensorflow:loss = 0.6937085, step = 1900 (0.252 sec)\n",
            "INFO:tensorflow:global_step/sec: 430.662\n",
            "INFO:tensorflow:loss = 0.6933102, step = 2000 (0.232 sec)\n",
            "INFO:tensorflow:global_step/sec: 416.916\n",
            "INFO:tensorflow:loss = 0.6934497, step = 2100 (0.238 sec)\n",
            "INFO:tensorflow:global_step/sec: 421.403\n",
            "INFO:tensorflow:loss = 0.6932011, step = 2200 (0.240 sec)\n",
            "INFO:tensorflow:global_step/sec: 402.764\n",
            "INFO:tensorflow:loss = 0.6932152, step = 2300 (0.248 sec)\n",
            "INFO:tensorflow:global_step/sec: 387.898\n",
            "INFO:tensorflow:loss = 0.69317573, step = 2400 (0.255 sec)\n",
            "INFO:tensorflow:global_step/sec: 389.619\n",
            "INFO:tensorflow:loss = 0.6929028, step = 2500 (0.256 sec)\n",
            "INFO:tensorflow:global_step/sec: 405.533\n",
            "INFO:tensorflow:loss = 0.6930504, step = 2600 (0.250 sec)\n",
            "INFO:tensorflow:global_step/sec: 398.6\n",
            "INFO:tensorflow:loss = 0.6930035, step = 2700 (0.252 sec)\n",
            "INFO:tensorflow:global_step/sec: 383.427\n",
            "INFO:tensorflow:loss = 0.6931479, step = 2800 (0.260 sec)\n",
            "INFO:tensorflow:global_step/sec: 448.63\n",
            "INFO:tensorflow:loss = 0.6926909, step = 2900 (0.222 sec)\n",
            "INFO:tensorflow:global_step/sec: 406.976\n",
            "INFO:tensorflow:loss = 0.69308585, step = 3000 (0.243 sec)\n",
            "INFO:tensorflow:global_step/sec: 402.582\n",
            "INFO:tensorflow:loss = 0.6931283, step = 3100 (0.251 sec)\n",
            "INFO:tensorflow:global_step/sec: 384.433\n",
            "INFO:tensorflow:loss = 0.6929851, step = 3200 (0.261 sec)\n",
            "INFO:tensorflow:global_step/sec: 415.304\n",
            "INFO:tensorflow:loss = 0.69252574, step = 3300 (0.239 sec)\n",
            "INFO:tensorflow:global_step/sec: 392.138\n",
            "INFO:tensorflow:loss = 0.69308114, step = 3400 (0.259 sec)\n",
            "INFO:tensorflow:global_step/sec: 364.498\n",
            "INFO:tensorflow:loss = 0.69318885, step = 3500 (0.272 sec)\n",
            "INFO:tensorflow:global_step/sec: 368.774\n",
            "INFO:tensorflow:loss = 0.69344914, step = 3600 (0.270 sec)\n",
            "INFO:tensorflow:global_step/sec: 426.111\n",
            "INFO:tensorflow:loss = 0.6932112, step = 3700 (0.234 sec)\n",
            "INFO:tensorflow:global_step/sec: 471.93\n",
            "INFO:tensorflow:loss = 0.69199556, step = 3800 (0.212 sec)\n",
            "INFO:tensorflow:global_step/sec: 421.804\n",
            "INFO:tensorflow:loss = 0.69304794, step = 3900 (0.234 sec)\n",
            "INFO:tensorflow:global_step/sec: 400.677\n",
            "INFO:tensorflow:loss = 0.69271415, step = 4000 (0.253 sec)\n",
            "INFO:tensorflow:global_step/sec: 403.48\n",
            "INFO:tensorflow:loss = 0.6927631, step = 4100 (0.245 sec)\n",
            "INFO:tensorflow:global_step/sec: 394.492\n",
            "INFO:tensorflow:loss = 0.69229895, step = 4200 (0.256 sec)\n",
            "INFO:tensorflow:global_step/sec: 363.535\n",
            "INFO:tensorflow:loss = 0.69257534, step = 4300 (0.277 sec)\n",
            "INFO:tensorflow:global_step/sec: 380.824\n",
            "INFO:tensorflow:loss = 0.6925536, step = 4400 (0.261 sec)\n",
            "INFO:tensorflow:global_step/sec: 411.906\n",
            "INFO:tensorflow:loss = 0.69233626, step = 4500 (0.240 sec)\n",
            "INFO:tensorflow:global_step/sec: 413.338\n",
            "INFO:tensorflow:loss = 0.6925089, step = 4600 (0.242 sec)\n",
            "INFO:tensorflow:global_step/sec: 396.072\n",
            "INFO:tensorflow:loss = 0.6922981, step = 4700 (0.253 sec)\n",
            "INFO:tensorflow:global_step/sec: 416.317\n",
            "INFO:tensorflow:loss = 0.69243187, step = 4800 (0.242 sec)\n",
            "INFO:tensorflow:global_step/sec: 422.27\n",
            "INFO:tensorflow:loss = 0.6924246, step = 4900 (0.245 sec)\n",
            "INFO:tensorflow:Calling checkpoint listeners before saving checkpoint 5000...\n",
            "INFO:tensorflow:Saving checkpoints for 5000 into /tmp/tmp77qik2_t/model.ckpt.\n",
            "INFO:tensorflow:Calling checkpoint listeners after saving checkpoint 5000...\n",
            "INFO:tensorflow:Loss for final step: 0.6910682.\n"
          ]
        },
        {
          "output_type": "execute_result",
          "data": {
            "text/plain": [
              "<tensorflow_estimator.python.estimator.canned.dnn.DNNClassifierV2 at 0x7f11cd06cb50>"
            ]
          },
          "metadata": {},
          "execution_count": 803
        }
      ]
    },
    {
      "cell_type": "markdown",
      "source": [
        "###Evaluating Classifier"
      ],
      "metadata": {
        "id": "lHAj7siVG-Ls"
      }
    },
    {
      "cell_type": "code",
      "source": [
        "#determine the accurracy of th classifier\n",
        "eval_result = classifier.evaluate(\n",
        "    input_fn=lambda: input_fn(test_features_under, test_label_under, training=False))\n",
        "print('\\nTest set accuracy: {accuracy:0.3f}\\n'.format(**eval_result))"
      ],
      "metadata": {
        "colab": {
          "base_uri": "https://localhost:8080/"
        },
        "outputId": "46e3bcc2-8b58-4ec2-ab0b-c88663ac167b",
        "id": "UNEsm0XUG-Ls"
      },
      "execution_count": null,
      "outputs": [
        {
          "output_type": "stream",
          "name": "stdout",
          "text": [
            "INFO:tensorflow:Calling model_fn.\n",
            "INFO:tensorflow:Done calling model_fn.\n",
            "INFO:tensorflow:Starting evaluation at 2022-04-08T13:44:12\n",
            "INFO:tensorflow:Graph was finalized.\n",
            "INFO:tensorflow:Restoring parameters from /tmp/tmp77qik2_t/model.ckpt-5000\n",
            "INFO:tensorflow:Running local_init_op.\n",
            "INFO:tensorflow:Done running local_init_op.\n",
            "INFO:tensorflow:Inference Time : 0.69508s\n",
            "INFO:tensorflow:Finished evaluation at 2022-04-08-13:44:12\n",
            "INFO:tensorflow:Saving dict for global step 5000: accuracy = 0.5195765, accuracy_baseline = 0.50104773, auc = 0.5203079, auc_precision_recall = 0.51008815, average_loss = 0.69239616, global_step = 5000, label/mean = 0.49895224, loss = 0.692373, precision = 0.51091194, prediction/mean = 0.49741647, recall = 0.86936337\n",
            "INFO:tensorflow:Saving 'checkpoint_path' summary for global step 5000: /tmp/tmp77qik2_t/model.ckpt-5000\n",
            "\n",
            "Test set accuracy: 0.520\n",
            "\n"
          ]
        }
      ]
    },
    {
      "cell_type": "code",
      "source": [
        "#create predictions list for all test set\n",
        "predictions_under = list(classifier.predict(input_fn=lambda: input_fn(test_features_under, test_label_under, training=False)))"
      ],
      "metadata": {
        "outputId": "decb76b0-191d-4fc7-9729-9b2ae619a9d9",
        "colab": {
          "base_uri": "https://localhost:8080/"
        },
        "id": "sIT4KouoG-Lt"
      },
      "execution_count": null,
      "outputs": [
        {
          "output_type": "stream",
          "name": "stdout",
          "text": [
            "INFO:tensorflow:Calling model_fn.\n",
            "INFO:tensorflow:Done calling model_fn.\n",
            "INFO:tensorflow:Graph was finalized.\n",
            "INFO:tensorflow:Restoring parameters from /tmp/tmp77qik2_t/model.ckpt-5000\n",
            "INFO:tensorflow:Running local_init_op.\n",
            "INFO:tensorflow:Done running local_init_op.\n"
          ]
        }
      ]
    },
    {
      "cell_type": "code",
      "source": [
        "#create a dataframe of predictions for test set\n",
        "df_predictions = pd.DataFrame(predictions_under)"
      ],
      "metadata": {
        "id": "-DK2iiCSG-Lt"
      },
      "execution_count": null,
      "outputs": []
    },
    {
      "cell_type": "markdown",
      "source": [
        "###Plot of Results"
      ],
      "metadata": {
        "id": "uUp6SYq9G-Lt"
      }
    },
    {
      "cell_type": "code",
      "source": [
        "#add the actual matches to the prediciton dataframe\n",
        "df_predictions['actual label']=test_label_under.values"
      ],
      "metadata": {
        "id": "lfP3RGA_G-Lu"
      },
      "execution_count": null,
      "outputs": []
    },
    {
      "cell_type": "code",
      "source": [
        "#add the class predicitons from the DNN to the dataframe\n",
        "df_predictions['predicted label']=pd.DataFrame.from_records(df_predictions['class_ids'])"
      ],
      "metadata": {
        "id": "j0VZZYBRG-Lu"
      },
      "execution_count": null,
      "outputs": []
    },
    {
      "cell_type": "code",
      "source": [
        "#add a binary column to show if the dnn predictions were correct\n",
        "df_predictions['match?']=df_predictions['predicted label']-df_predictions['actual label']\n",
        "df_predictions['match?']=df_predictions['match?'].replace(0,'match')\n",
        "df_predictions['match?']=df_predictions['match?'].replace(-1,'not match')\n",
        "df_predictions['match?']=df_predictions['match?'].replace(1,'not match')"
      ],
      "metadata": {
        "id": "I4g2G7vMG-Lu"
      },
      "execution_count": null,
      "outputs": []
    },
    {
      "cell_type": "code",
      "source": [
        "#view the prdictions dataframe\n",
        "df_predictions.head()"
      ],
      "metadata": {
        "colab": {
          "base_uri": "https://localhost:8080/",
          "height": 206
        },
        "outputId": "b35bc1e6-773c-4740-ff82-79ed4925621b",
        "id": "4L3kc9KgG-Lv"
      },
      "execution_count": null,
      "outputs": [
        {
          "output_type": "execute_result",
          "data": {
            "text/plain": [
              "           logits      logistic            probabilities class_ids classes  \\\n",
              "0  [0.0026190854]  [0.50065476]  [0.4993452, 0.50065476]       [1]  [b'1']   \n",
              "1  [0.0026190854]  [0.50065476]  [0.4993452, 0.50065476]       [1]  [b'1']   \n",
              "2  [-0.083217084]  [0.47920772]  [0.5207923, 0.47920775]       [0]  [b'0']   \n",
              "3  [-0.083217084]  [0.47920772]  [0.5207923, 0.47920775]       [0]  [b'0']   \n",
              "4  [0.0026190854]  [0.50065476]  [0.4993452, 0.50065476]       [1]  [b'1']   \n",
              "\n",
              "  all_class_ids   all_classes  actual label  predicted label     match?  \n",
              "0        [0, 1]  [b'0', b'1']             1                1      match  \n",
              "1        [0, 1]  [b'0', b'1']             1                1      match  \n",
              "2        [0, 1]  [b'0', b'1']             0                0      match  \n",
              "3        [0, 1]  [b'0', b'1']             1                0  not match  \n",
              "4        [0, 1]  [b'0', b'1']             1                1      match  "
            ],
            "text/html": [
              "\n",
              "  <div id=\"df-a6410501-cb13-4d3f-99f3-4d4e8ef16ae4\">\n",
              "    <div class=\"colab-df-container\">\n",
              "      <div>\n",
              "<style scoped>\n",
              "    .dataframe tbody tr th:only-of-type {\n",
              "        vertical-align: middle;\n",
              "    }\n",
              "\n",
              "    .dataframe tbody tr th {\n",
              "        vertical-align: top;\n",
              "    }\n",
              "\n",
              "    .dataframe thead th {\n",
              "        text-align: right;\n",
              "    }\n",
              "</style>\n",
              "<table border=\"1\" class=\"dataframe\">\n",
              "  <thead>\n",
              "    <tr style=\"text-align: right;\">\n",
              "      <th></th>\n",
              "      <th>logits</th>\n",
              "      <th>logistic</th>\n",
              "      <th>probabilities</th>\n",
              "      <th>class_ids</th>\n",
              "      <th>classes</th>\n",
              "      <th>all_class_ids</th>\n",
              "      <th>all_classes</th>\n",
              "      <th>actual label</th>\n",
              "      <th>predicted label</th>\n",
              "      <th>match?</th>\n",
              "    </tr>\n",
              "  </thead>\n",
              "  <tbody>\n",
              "    <tr>\n",
              "      <th>0</th>\n",
              "      <td>[0.0026190854]</td>\n",
              "      <td>[0.50065476]</td>\n",
              "      <td>[0.4993452, 0.50065476]</td>\n",
              "      <td>[1]</td>\n",
              "      <td>[b'1']</td>\n",
              "      <td>[0, 1]</td>\n",
              "      <td>[b'0', b'1']</td>\n",
              "      <td>1</td>\n",
              "      <td>1</td>\n",
              "      <td>match</td>\n",
              "    </tr>\n",
              "    <tr>\n",
              "      <th>1</th>\n",
              "      <td>[0.0026190854]</td>\n",
              "      <td>[0.50065476]</td>\n",
              "      <td>[0.4993452, 0.50065476]</td>\n",
              "      <td>[1]</td>\n",
              "      <td>[b'1']</td>\n",
              "      <td>[0, 1]</td>\n",
              "      <td>[b'0', b'1']</td>\n",
              "      <td>1</td>\n",
              "      <td>1</td>\n",
              "      <td>match</td>\n",
              "    </tr>\n",
              "    <tr>\n",
              "      <th>2</th>\n",
              "      <td>[-0.083217084]</td>\n",
              "      <td>[0.47920772]</td>\n",
              "      <td>[0.5207923, 0.47920775]</td>\n",
              "      <td>[0]</td>\n",
              "      <td>[b'0']</td>\n",
              "      <td>[0, 1]</td>\n",
              "      <td>[b'0', b'1']</td>\n",
              "      <td>0</td>\n",
              "      <td>0</td>\n",
              "      <td>match</td>\n",
              "    </tr>\n",
              "    <tr>\n",
              "      <th>3</th>\n",
              "      <td>[-0.083217084]</td>\n",
              "      <td>[0.47920772]</td>\n",
              "      <td>[0.5207923, 0.47920775]</td>\n",
              "      <td>[0]</td>\n",
              "      <td>[b'0']</td>\n",
              "      <td>[0, 1]</td>\n",
              "      <td>[b'0', b'1']</td>\n",
              "      <td>1</td>\n",
              "      <td>0</td>\n",
              "      <td>not match</td>\n",
              "    </tr>\n",
              "    <tr>\n",
              "      <th>4</th>\n",
              "      <td>[0.0026190854]</td>\n",
              "      <td>[0.50065476]</td>\n",
              "      <td>[0.4993452, 0.50065476]</td>\n",
              "      <td>[1]</td>\n",
              "      <td>[b'1']</td>\n",
              "      <td>[0, 1]</td>\n",
              "      <td>[b'0', b'1']</td>\n",
              "      <td>1</td>\n",
              "      <td>1</td>\n",
              "      <td>match</td>\n",
              "    </tr>\n",
              "  </tbody>\n",
              "</table>\n",
              "</div>\n",
              "      <button class=\"colab-df-convert\" onclick=\"convertToInteractive('df-a6410501-cb13-4d3f-99f3-4d4e8ef16ae4')\"\n",
              "              title=\"Convert this dataframe to an interactive table.\"\n",
              "              style=\"display:none;\">\n",
              "        \n",
              "  <svg xmlns=\"http://www.w3.org/2000/svg\" height=\"24px\"viewBox=\"0 0 24 24\"\n",
              "       width=\"24px\">\n",
              "    <path d=\"M0 0h24v24H0V0z\" fill=\"none\"/>\n",
              "    <path d=\"M18.56 5.44l.94 2.06.94-2.06 2.06-.94-2.06-.94-.94-2.06-.94 2.06-2.06.94zm-11 1L8.5 8.5l.94-2.06 2.06-.94-2.06-.94L8.5 2.5l-.94 2.06-2.06.94zm10 10l.94 2.06.94-2.06 2.06-.94-2.06-.94-.94-2.06-.94 2.06-2.06.94z\"/><path d=\"M17.41 7.96l-1.37-1.37c-.4-.4-.92-.59-1.43-.59-.52 0-1.04.2-1.43.59L10.3 9.45l-7.72 7.72c-.78.78-.78 2.05 0 2.83L4 21.41c.39.39.9.59 1.41.59.51 0 1.02-.2 1.41-.59l7.78-7.78 2.81-2.81c.8-.78.8-2.07 0-2.86zM5.41 20L4 18.59l7.72-7.72 1.47 1.35L5.41 20z\"/>\n",
              "  </svg>\n",
              "      </button>\n",
              "      \n",
              "  <style>\n",
              "    .colab-df-container {\n",
              "      display:flex;\n",
              "      flex-wrap:wrap;\n",
              "      gap: 12px;\n",
              "    }\n",
              "\n",
              "    .colab-df-convert {\n",
              "      background-color: #E8F0FE;\n",
              "      border: none;\n",
              "      border-radius: 50%;\n",
              "      cursor: pointer;\n",
              "      display: none;\n",
              "      fill: #1967D2;\n",
              "      height: 32px;\n",
              "      padding: 0 0 0 0;\n",
              "      width: 32px;\n",
              "    }\n",
              "\n",
              "    .colab-df-convert:hover {\n",
              "      background-color: #E2EBFA;\n",
              "      box-shadow: 0px 1px 2px rgba(60, 64, 67, 0.3), 0px 1px 3px 1px rgba(60, 64, 67, 0.15);\n",
              "      fill: #174EA6;\n",
              "    }\n",
              "\n",
              "    [theme=dark] .colab-df-convert {\n",
              "      background-color: #3B4455;\n",
              "      fill: #D2E3FC;\n",
              "    }\n",
              "\n",
              "    [theme=dark] .colab-df-convert:hover {\n",
              "      background-color: #434B5C;\n",
              "      box-shadow: 0px 1px 3px 1px rgba(0, 0, 0, 0.15);\n",
              "      filter: drop-shadow(0px 1px 2px rgba(0, 0, 0, 0.3));\n",
              "      fill: #FFFFFF;\n",
              "    }\n",
              "  </style>\n",
              "\n",
              "      <script>\n",
              "        const buttonEl =\n",
              "          document.querySelector('#df-a6410501-cb13-4d3f-99f3-4d4e8ef16ae4 button.colab-df-convert');\n",
              "        buttonEl.style.display =\n",
              "          google.colab.kernel.accessAllowed ? 'block' : 'none';\n",
              "\n",
              "        async function convertToInteractive(key) {\n",
              "          const element = document.querySelector('#df-a6410501-cb13-4d3f-99f3-4d4e8ef16ae4');\n",
              "          const dataTable =\n",
              "            await google.colab.kernel.invokeFunction('convertToInteractive',\n",
              "                                                     [key], {});\n",
              "          if (!dataTable) return;\n",
              "\n",
              "          const docLinkHtml = 'Like what you see? Visit the ' +\n",
              "            '<a target=\"_blank\" href=https://colab.research.google.com/notebooks/data_table.ipynb>data table notebook</a>'\n",
              "            + ' to learn more about interactive tables.';\n",
              "          element.innerHTML = '';\n",
              "          dataTable['output_type'] = 'display_data';\n",
              "          await google.colab.output.renderOutput(dataTable, element);\n",
              "          const docLink = document.createElement('div');\n",
              "          docLink.innerHTML = docLinkHtml;\n",
              "          element.appendChild(docLink);\n",
              "        }\n",
              "      </script>\n",
              "    </div>\n",
              "  </div>\n",
              "  "
            ]
          },
          "metadata": {},
          "execution_count": 810
        }
      ]
    },
    {
      "cell_type": "code",
      "source": [
        "#create a new dataframe showing only the correct predictions\n",
        "correct_predictions = df_predictions[df_predictions['match?']=='match']\n",
        "#get the count of the correct predctions for eah label\n",
        "correct_pred_count_label_0 , correct_pred_count_label_1 = correct_predictions['predicted label'].value_counts()\n",
        "#get the actual label count for each label\n",
        "actual_count_label_0 , actual_count_label_1 = df_predictions['actual label'].value_counts()"
      ],
      "metadata": {
        "id": "vB9uvi25G-Lv"
      },
      "execution_count": null,
      "outputs": []
    },
    {
      "cell_type": "code",
      "source": [
        "#get the accuracy of each labels predictions\n",
        "accuracy_label_0,accuracy_label_1 = correct_pred_count_label_0/actual_count_label_0 , correct_pred_count_label_1/actual_count_label_1\n",
        "accuracy=accuracy_label_0*100,accuracy_label_1*100\n",
        "accuracy=pd.Series(accuracy)\n",
        "print('Accuracy of label 0 (non-fatal): ', accuracy_label_0, '\\nAccuracy of label 1 (fatal): ', accuracy_label_1)"
      ],
      "metadata": {
        "colab": {
          "base_uri": "https://localhost:8080/"
        },
        "outputId": "e48c514f-fd67-4df6-bfc3-f98a9fc363f6",
        "id": "ubVidU2GG-Lv"
      },
      "execution_count": null,
      "outputs": [
        {
          "output_type": "stream",
          "name": "stdout",
          "text": [
            "Accuracy of label 0 (non-fatal):  0.8657274928461369 \n",
            "Accuracy of label 1 (fatal):  0.17197170645446508\n"
          ]
        }
      ]
    },
    {
      "cell_type": "code",
      "source": [
        "#plot the accuracy of each labels predictions\n",
        "fig, axes = plt.subplots(figsize=(18, 10))\n",
        "accuracy.plot(kind='barh')\n",
        "plt.yticks((0,1), ('non-Fatal accident', 'Fatal accident'))\n",
        "plt.xticks((0,10,20,30,40,50,60), ('0%', '10%','20%','30%','40%','50%','60%'))\n",
        "plt.xlabel('prectange accuracy')\n",
        "plt.title('percentage accuracy for each class/label')"
      ],
      "metadata": {
        "colab": {
          "base_uri": "https://localhost:8080/",
          "height": 639
        },
        "outputId": "30a637dd-d729-4c09-c407-1bee764dfc48",
        "id": "mqy9zIKyG-Lw"
      },
      "execution_count": null,
      "outputs": [
        {
          "output_type": "execute_result",
          "data": {
            "text/plain": [
              "Text(0.5, 1.0, 'percentage accuracy for each class/label')"
            ]
          },
          "metadata": {},
          "execution_count": 813
        },
        {
          "output_type": "display_data",
          "data": {
            "text/plain": [
              "<Figure size 1296x720 with 1 Axes>"
            ],
            "image/png": "[encoded data removed]"
          },
          "metadata": {
            "needs_background": "light"
          }
        }
      ]
    },
    {
      "cell_type": "code",
      "source": [
        ""
      ],
      "metadata": {
        "id": "TFlA4fj6pRLh"
      },
      "execution_count": null,
      "outputs": []
    },
    {
      "cell_type": "markdown",
      "source": [
        "#Iteration 5  - 'weather_conditions','speed_limit', 'road_surface_conditions', light"
      ],
      "metadata": {
        "id": "3lTz0PPspR04"
      }
    },
    {
      "cell_type": "markdown",
      "source": [
        "##Features"
      ],
      "metadata": {
        "id": "iG6ibP46pR07"
      }
    },
    {
      "cell_type": "markdown",
      "source": [
        "###Seleceting Features, checking correlation between them, cleaning missing data"
      ],
      "metadata": {
        "id": "TOZPp_7IpR09"
      }
    },
    {
      "cell_type": "code",
      "source": [
        "df_features = df[['weather_conditions','speed_limit', 'road_surface_conditions','light_conditions','accident_severity']]"
      ],
      "metadata": {
        "id": "Zxs1laDbpR0_"
      },
      "execution_count": null,
      "outputs": []
    },
    {
      "cell_type": "code",
      "source": [
        "#checking correlation between features\n",
        "df_features.corr()\n",
        "sns.heatmap(df_features.corr())"
      ],
      "metadata": {
        "colab": {
          "base_uri": "https://localhost:8080/",
          "height": 73
        },
        "outputId": "d2196a26-cf85-4771-b5fd-cdc644087ea8",
        "id": "X5c1ihD7pR1B"
      },
      "execution_count": null,
      "outputs": [
        {
          "output_type": "execute_result",
          "data": {
            "text/plain": [
              "<matplotlib.axes._subplots.AxesSubplot at 0x7f11b3f600d0>"
            ]
          },
          "metadata": {},
          "execution_count": 2357
        },
        {
          "output_type": "display_data",
          "data": {
            "text/plain": [
              "<Figure size 432x288 with 2 Axes>"
            ],
            "image/png": "[encoded data removed]"
          },
          "metadata": {
            "needs_background": "light"
          }
        }
      ]
    },
    {
      "cell_type": "code",
      "source": [
        "#checking which values have missing data, note missing data is recorded as -1\n",
        "df_features.min()"
      ],
      "metadata": {
        "colab": {
          "base_uri": "https://localhost:8080/"
        },
        "outputId": "07846f5b-8092-46f2-b768-726b2edb5fec",
        "id": "AzwM2bo5pR1C"
      },
      "execution_count": null,
      "outputs": [
        {
          "output_type": "execute_result",
          "data": {
            "text/plain": [
              "weather_conditions        -1.0\n",
              "speed_limit               -1.0\n",
              "road_surface_conditions   -1.0\n",
              "light_conditions          -1.0\n",
              "accident_severity          1.0\n",
              "dtype: float64"
            ]
          },
          "metadata": {},
          "execution_count": 2358
        }
      ]
    },
    {
      "cell_type": "code",
      "source": [
        "#there are 161 accident that do not have recorded weather conditions, will drop these\n",
        "df_features['weather_conditions'][df_features['weather_conditions']==-1].count()"
      ],
      "metadata": {
        "colab": {
          "base_uri": "https://localhost:8080/"
        },
        "outputId": "29cfdf83-b8ee-4516-a178-3b023c30789f",
        "id": "o000lR9ipR1E"
      },
      "execution_count": null,
      "outputs": [
        {
          "output_type": "execute_result",
          "data": {
            "text/plain": [
              "89"
            ]
          },
          "metadata": {},
          "execution_count": 2359
        }
      ]
    },
    {
      "cell_type": "code",
      "source": [
        "#removing all rows with (missing) data\n",
        "df_features = df_features[df_features['weather_conditions']!=-1]\n",
        "df_features = df_features[df_features['speed_limit']!=0]\n",
        "df_features = df_features[df_features['road_surface_conditions']!=-1]\n",
        "df_features = df_features[df_features['speed_limit']!=-1]\n",
        "df_features = df_features[df_features['light_conditions']!=-1]"
      ],
      "metadata": {
        "id": "kLzIarN4pR1G"
      },
      "execution_count": null,
      "outputs": []
    },
    {
      "cell_type": "code",
      "source": [
        "#bucketising weather condtion into 2 bins\n",
        "df_features['weather_conditions'] = df_features['weather_conditions'].replace(1,0)\n",
        "df_features['weather_conditions'] = df_features['weather_conditions'].replace(4,0)\n",
        "df_features['weather_conditions'] = df_features['weather_conditions'].replace(5,0)\n",
        "df_features['weather_conditions'] = df_features['weather_conditions'].replace(7,0)\n",
        "df_features['weather_conditions']= df_features['weather_conditions'].replace(2,1)\n",
        "df_features['weather_conditions']= df_features['weather_conditions'].replace(3,1)\n",
        "df_features['weather_conditions'] = df_features['weather_conditions'].replace(6,1)\n",
        "df_features['weather_conditions'] = df_features['weather_conditions'].replace(8,1)\n",
        "df_features['weather_conditions'] = df_features['weather_conditions'].replace(9,1)\n",
        "#bucketising raod conditions into 3 bins\n",
        "df_features['road_surface_conditions'] = df_features['road_surface_conditions'].replace(9,0)\n",
        "df_features['road_surface_conditions'] = df_features['road_surface_conditions'].replace(3,0)\n",
        "df_features['road_surface_conditions'] = df_features['road_surface_conditions'].replace(4,0)\n",
        "df_features['road_surface_conditions'] = df_features['road_surface_conditions'].replace(1,0)\n",
        "df_features['road_surface_conditions']= df_features['road_surface_conditions'].replace(2,2)\n",
        "df_features['road_surface_conditions']= df_features['road_surface_conditions'].replace(5,2)\n",
        "#bucketising light condtion into 2 bins\n",
        "df_features['light_conditions'] = df_features['light_conditions'].replace(1,0)\n",
        "df_features['light_conditions'] = df_features['light_conditions'].replace(7,0)\n",
        "df_features['light_conditions'] = df_features['light_conditions'].replace(4,0)\n",
        "df_features['light_conditions'] = df_features['light_conditions'].replace(5,1)\n",
        "df_features['light_conditions'] = df_features['light_conditions'].replace(6,1)"
      ],
      "metadata": {
        "id": "SqgQ-XpCpR1H"
      },
      "execution_count": null,
      "outputs": []
    },
    {
      "cell_type": "markdown",
      "source": [
        "df_features.count()"
      ],
      "metadata": {
        "id": "ZOv0rNbvpR1I"
      }
    },
    {
      "cell_type": "markdown",
      "source": [
        "### Cleaning Label (accident severity) so that there are 2 classes instead of 3"
      ],
      "metadata": {
        "id": "iG4_f0O_pR1J"
      }
    },
    {
      "cell_type": "code",
      "source": [
        "#check count for each level of accident deverity\n",
        "df_features['accident_severity'].value_counts()"
      ],
      "metadata": {
        "colab": {
          "base_uri": "https://localhost:8080/"
        },
        "outputId": "1823e0f4-4338-4a42-b0f5-f6ab63aad84d",
        "id": "vjOgyph7pR1K"
      },
      "execution_count": null,
      "outputs": [
        {
          "output_type": "execute_result",
          "data": {
            "text/plain": [
              "3    1222650\n",
              "2     230352\n",
              "1      18118\n",
              "Name: accident_severity, dtype: int64"
            ]
          },
          "metadata": {},
          "execution_count": 2362
        }
      ]
    },
    {
      "cell_type": "code",
      "source": [
        "#replace all accident severities where severiry is 2 or 3 and group them into 1 bucket (non-fatal)\n",
        "df_features['accident_severity'] = df_features['accident_severity'].replace(2,0)\n",
        "df_features['accident_severity'] = df_features['accident_severity'].replace(3,0)"
      ],
      "metadata": {
        "id": "OQsTF8aSpR1K"
      },
      "execution_count": null,
      "outputs": []
    },
    {
      "cell_type": "code",
      "source": [
        "#create 2 dataframe, 1 for each class, and print the size each\n",
        "class_1 = df_features[df_features['accident_severity'] == 1]\n",
        "class_0 = df_features[df_features['accident_severity'] == 0]\n",
        "print('class 1 (fatal):', len(class_1))\n",
        "print('class 0 (non-fatal):', len(class_0))"
      ],
      "metadata": {
        "colab": {
          "base_uri": "https://localhost:8080/"
        },
        "outputId": "c956ae57-963f-4154-b397-d75342ad3b7a",
        "id": "8vupSWxUpR1L"
      },
      "execution_count": null,
      "outputs": [
        {
          "output_type": "stream",
          "name": "stdout",
          "text": [
            "class 1 (fatal): 18118\n",
            "class 0 (non-fatal): 1453002\n"
          ]
        }
      ]
    },
    {
      "cell_type": "markdown",
      "source": [
        "###Accounting for imbalance in the dataset by undersampling"
      ],
      "metadata": {
        "id": "1Z9n0yjopR1M"
      }
    },
    {
      "cell_type": "code",
      "source": [
        "#get the length of the dataset for each class/label\n",
        "class_count_0, class_count_1 = df_features['accident_severity'].value_counts()"
      ],
      "metadata": {
        "id": "uYz1gY2lpR1M"
      },
      "execution_count": null,
      "outputs": []
    },
    {
      "cell_type": "code",
      "source": [
        "#undersampling of class 0 to balance the count of data for each class/label\n",
        "class_0_under = class_0.sample(class_count_1)\n",
        "df_features_under = pd.concat([class_0_under, class_1], axis=0)"
      ],
      "metadata": {
        "id": "Z0WrLdB5pR1N"
      },
      "execution_count": null,
      "outputs": []
    },
    {
      "cell_type": "code",
      "source": [
        "#print the size of the new dataset for each class/label after undersampling\n",
        "class_1 = df_features_under[df_features_under['accident_severity'] == 1]\n",
        "class_0 = df_features_under[df_features_under['accident_severity'] == 0]\n",
        "print('class 1 (fatal):', len(class_1))\n",
        "print('class 0 (non-fatal):', len(class_0))"
      ],
      "metadata": {
        "colab": {
          "base_uri": "https://localhost:8080/"
        },
        "outputId": "a25ec527-5abe-4acb-ca66-20c8c45e2598",
        "id": "sGd5GOWZpR1N"
      },
      "execution_count": null,
      "outputs": [
        {
          "output_type": "stream",
          "name": "stdout",
          "text": [
            "class 1 (fatal): 18118\n",
            "class 0 (non-fatal): 18118\n"
          ]
        }
      ]
    },
    {
      "cell_type": "markdown",
      "source": [
        "###splitting the dataset in training and test datasets"
      ],
      "metadata": {
        "id": "LoSeeXFDpR1O"
      }
    },
    {
      "cell_type": "code",
      "source": [
        "#splitting the dataset into training and test sets\n",
        "train_features_under, test_features_under = train_test_split(df_features_under, test_size=0.25)"
      ],
      "metadata": {
        "id": "YgR_mwVcpR1P"
      },
      "execution_count": null,
      "outputs": []
    },
    {
      "cell_type": "code",
      "source": [
        "#pop out the label column from the train and test undersampled datasets\n",
        "train_label_under = train_features_under.pop('accident_severity')\n",
        "test_label_under = test_features_under.pop('accident_severity')"
      ],
      "metadata": {
        "id": "IK2ueFyspR1P"
      },
      "execution_count": null,
      "outputs": []
    },
    {
      "cell_type": "markdown",
      "source": [
        "## DNN Classifier"
      ],
      "metadata": {
        "id": "OM5sLAKYpR1P"
      }
    },
    {
      "cell_type": "markdown",
      "source": [
        "###defining input function, creating classifier, training classifer"
      ],
      "metadata": {
        "id": "ESSvqWE-pR1Q"
      }
    },
    {
      "cell_type": "code",
      "source": [
        "def input_fn(features, labels, training=True, batch_size=344):\n",
        "    # Convert the inputs to a Dataset.\n",
        "    dataset = tf.data.Dataset.from_tensor_slices((dict(features), labels))\n",
        "    # Shuffle and repeat if you are in training mode.\n",
        "    if training:\n",
        "        dataset = dataset.shuffle(1000).repeat()\n",
        "    return dataset.batch(batch_size)"
      ],
      "metadata": {
        "id": "aTTb-CplpR1Q"
      },
      "execution_count": null,
      "outputs": []
    },
    {
      "cell_type": "code",
      "source": [
        "# creating a tensorflow Feature column list\n",
        "my_feature_columns = []\n",
        "for key in train_features_under.keys():\n",
        "    my_feature_columns.append(tf.feature_column.numeric_column(key=key))\n",
        "my_feature_columns"
      ],
      "metadata": {
        "colab": {
          "base_uri": "https://localhost:8080/"
        },
        "outputId": "b58cf9fa-2e93-4116-c54a-57a5159b12a7",
        "id": "LCsLYhkspR1Q"
      },
      "execution_count": null,
      "outputs": [
        {
          "output_type": "execute_result",
          "data": {
            "text/plain": [
              "[NumericColumn(key='weather_conditions', shape=(1,), default_value=None, dtype=tf.float32, normalizer_fn=None),\n",
              " NumericColumn(key='speed_limit', shape=(1,), default_value=None, dtype=tf.float32, normalizer_fn=None),\n",
              " NumericColumn(key='road_surface_conditions', shape=(1,), default_value=None, dtype=tf.float32, normalizer_fn=None),\n",
              " NumericColumn(key='light_conditions', shape=(1,), default_value=None, dtype=tf.float32, normalizer_fn=None)]"
            ]
          },
          "metadata": {},
          "execution_count": 2403
        }
      ]
    },
    {
      "cell_type": "code",
      "source": [
        "# Build a DNN with 2 hidden layers with 30 and 10 hidden nodes each.\n",
        "classifier = tf.estimator.DNNClassifier(\n",
        "    feature_columns=my_feature_columns,\n",
        "    # Two hidden layers of 30 and 10 nodes respectively.\n",
        "    hidden_units=[30, 10],\n",
        "    # The model must choose between 2 classes.\n",
        "    n_classes=2)"
      ],
      "metadata": {
        "colab": {
          "base_uri": "https://localhost:8080/"
        },
        "outputId": "e571890a-ba04-4684-c2fb-866237a25f9f",
        "id": "QwG5613KpR1Q"
      },
      "execution_count": null,
      "outputs": [
        {
          "output_type": "stream",
          "name": "stdout",
          "text": [
            "INFO:tensorflow:Using default config.\n",
            "WARNING:tensorflow:Using temporary folder as model directory: /tmp/tmp__i8au08\n",
            "INFO:tensorflow:Using config: {'_model_dir': '/tmp/tmp__i8au08', '_tf_random_seed': None, '_save_summary_steps': 100, '_save_checkpoints_steps': None, '_save_checkpoints_secs': 600, '_session_config': allow_soft_placement: true\n",
            "graph_options {\n",
            "  rewrite_options {\n",
            "    meta_optimizer_iterations: ONE\n",
            "  }\n",
            "}\n",
            ", '_keep_checkpoint_max': 5, '_keep_checkpoint_every_n_hours': 10000, '_log_step_count_steps': 100, '_train_distribute': None, '_device_fn': None, '_protocol': None, '_eval_distribute': None, '_experimental_distribute': None, '_experimental_max_worker_delay_secs': None, '_session_creation_timeout_secs': 7200, '_checkpoint_save_graph_def': True, '_service': None, '_cluster_spec': ClusterSpec({}), '_task_type': 'worker', '_task_id': 0, '_global_id_in_cluster': 0, '_master': '', '_evaluation_master': '', '_is_chief': True, '_num_ps_replicas': 0, '_num_worker_replicas': 1}\n"
          ]
        }
      ]
    },
    {
      "cell_type": "code",
      "source": [
        "classifier.train(input_fn=lambda: input_fn(train_features_under, train_label_under, training=True),steps=5000)\n",
        "# We include a lambda to avoid creating an inner function "
      ],
      "metadata": {
        "colab": {
          "base_uri": "https://localhost:8080/"
        },
        "outputId": "7ac02ab8-155c-4aaa-ea53-d6436574cf64",
        "id": "xrDte3hdpR1S"
      },
      "execution_count": null,
      "outputs": [
        {
          "output_type": "stream",
          "name": "stdout",
          "text": [
            "INFO:tensorflow:Calling model_fn.\n",
            "INFO:tensorflow:Done calling model_fn.\n",
            "INFO:tensorflow:Create CheckpointSaverHook.\n",
            "INFO:tensorflow:Graph was finalized.\n",
            "INFO:tensorflow:Running local_init_op.\n",
            "INFO:tensorflow:Done running local_init_op.\n",
            "INFO:tensorflow:Calling checkpoint listeners before saving checkpoint 0...\n",
            "INFO:tensorflow:Saving checkpoints for 0 into /tmp/tmp__i8au08/model.ckpt.\n",
            "INFO:tensorflow:Calling checkpoint listeners after saving checkpoint 0...\n",
            "INFO:tensorflow:loss = 0.77233833, step = 0\n",
            "INFO:tensorflow:global_step/sec: 221.294\n",
            "INFO:tensorflow:loss = 0.75547415, step = 100 (0.454 sec)\n",
            "INFO:tensorflow:global_step/sec: 259.013\n",
            "INFO:tensorflow:loss = 0.72239834, step = 200 (0.389 sec)\n",
            "INFO:tensorflow:global_step/sec: 267.972\n",
            "INFO:tensorflow:loss = 0.71983206, step = 300 (0.376 sec)\n",
            "INFO:tensorflow:global_step/sec: 257.448\n",
            "INFO:tensorflow:loss = 0.7275338, step = 400 (0.386 sec)\n",
            "INFO:tensorflow:global_step/sec: 259.202\n",
            "INFO:tensorflow:loss = 0.71819174, step = 500 (0.388 sec)\n",
            "INFO:tensorflow:global_step/sec: 254.05\n",
            "INFO:tensorflow:loss = 0.7074251, step = 600 (0.392 sec)\n",
            "INFO:tensorflow:global_step/sec: 268.671\n",
            "INFO:tensorflow:loss = 0.7080171, step = 700 (0.369 sec)\n",
            "INFO:tensorflow:global_step/sec: 257.743\n",
            "INFO:tensorflow:loss = 0.684239, step = 800 (0.390 sec)\n",
            "INFO:tensorflow:global_step/sec: 264.671\n",
            "INFO:tensorflow:loss = 0.69821, step = 900 (0.380 sec)\n",
            "INFO:tensorflow:global_step/sec: 258.729\n",
            "INFO:tensorflow:loss = 0.69031864, step = 1000 (0.385 sec)\n",
            "INFO:tensorflow:global_step/sec: 277.84\n",
            "INFO:tensorflow:loss = 0.6897316, step = 1100 (0.361 sec)\n",
            "INFO:tensorflow:global_step/sec: 266.857\n",
            "INFO:tensorflow:loss = 0.6863125, step = 1200 (0.375 sec)\n",
            "INFO:tensorflow:global_step/sec: 278.38\n",
            "INFO:tensorflow:loss = 0.7003178, step = 1300 (0.357 sec)\n",
            "INFO:tensorflow:global_step/sec: 252.886\n",
            "INFO:tensorflow:loss = 0.6864755, step = 1400 (0.399 sec)\n",
            "INFO:tensorflow:global_step/sec: 269.542\n",
            "INFO:tensorflow:loss = 0.6835525, step = 1500 (0.369 sec)\n",
            "INFO:tensorflow:global_step/sec: 273.878\n",
            "INFO:tensorflow:loss = 0.6791691, step = 1600 (0.366 sec)\n",
            "INFO:tensorflow:global_step/sec: 279.554\n",
            "INFO:tensorflow:loss = 0.6913006, step = 1700 (0.355 sec)\n",
            "INFO:tensorflow:global_step/sec: 276.06\n",
            "INFO:tensorflow:loss = 0.669936, step = 1800 (0.365 sec)\n",
            "INFO:tensorflow:global_step/sec: 280.29\n",
            "INFO:tensorflow:loss = 0.6696252, step = 1900 (0.356 sec)\n",
            "INFO:tensorflow:global_step/sec: 267.597\n",
            "INFO:tensorflow:loss = 0.6728675, step = 2000 (0.375 sec)\n",
            "INFO:tensorflow:global_step/sec: 266.801\n",
            "INFO:tensorflow:loss = 0.6706296, step = 2100 (0.374 sec)\n",
            "INFO:tensorflow:global_step/sec: 264.741\n",
            "INFO:tensorflow:loss = 0.6676234, step = 2200 (0.376 sec)\n",
            "INFO:tensorflow:global_step/sec: 256.32\n",
            "INFO:tensorflow:loss = 0.66761583, step = 2300 (0.391 sec)\n",
            "INFO:tensorflow:global_step/sec: 270.69\n",
            "INFO:tensorflow:loss = 0.67051905, step = 2400 (0.366 sec)\n",
            "INFO:tensorflow:global_step/sec: 262.761\n",
            "INFO:tensorflow:loss = 0.678354, step = 2500 (0.384 sec)\n",
            "INFO:tensorflow:global_step/sec: 262.556\n",
            "INFO:tensorflow:loss = 0.68615484, step = 2600 (0.379 sec)\n",
            "INFO:tensorflow:global_step/sec: 292.101\n",
            "INFO:tensorflow:loss = 0.6614064, step = 2700 (0.344 sec)\n",
            "INFO:tensorflow:global_step/sec: 268.084\n",
            "INFO:tensorflow:loss = 0.6758925, step = 2800 (0.372 sec)\n",
            "INFO:tensorflow:global_step/sec: 272.665\n",
            "INFO:tensorflow:loss = 0.6620504, step = 2900 (0.364 sec)\n",
            "INFO:tensorflow:global_step/sec: 274.883\n",
            "INFO:tensorflow:loss = 0.6768172, step = 3000 (0.364 sec)\n",
            "INFO:tensorflow:global_step/sec: 294.991\n",
            "INFO:tensorflow:loss = 0.6685342, step = 3100 (0.342 sec)\n",
            "INFO:tensorflow:global_step/sec: 287.103\n",
            "INFO:tensorflow:loss = 0.67523706, step = 3200 (0.348 sec)\n",
            "INFO:tensorflow:global_step/sec: 286.638\n",
            "INFO:tensorflow:loss = 0.6527195, step = 3300 (0.346 sec)\n",
            "INFO:tensorflow:global_step/sec: 288.127\n",
            "INFO:tensorflow:loss = 0.66888183, step = 3400 (0.351 sec)\n",
            "INFO:tensorflow:global_step/sec: 279.452\n",
            "INFO:tensorflow:loss = 0.663365, step = 3500 (0.360 sec)\n",
            "INFO:tensorflow:global_step/sec: 292.114\n",
            "INFO:tensorflow:loss = 0.66621965, step = 3600 (0.338 sec)\n",
            "INFO:tensorflow:global_step/sec: 291.442\n",
            "INFO:tensorflow:loss = 0.6771445, step = 3700 (0.345 sec)\n",
            "INFO:tensorflow:global_step/sec: 281.575\n",
            "INFO:tensorflow:loss = 0.65787035, step = 3800 (0.350 sec)\n",
            "INFO:tensorflow:global_step/sec: 279.803\n",
            "INFO:tensorflow:loss = 0.6685398, step = 3900 (0.361 sec)\n",
            "INFO:tensorflow:global_step/sec: 289.83\n",
            "INFO:tensorflow:loss = 0.66060627, step = 4000 (0.345 sec)\n",
            "INFO:tensorflow:global_step/sec: 265.101\n",
            "INFO:tensorflow:loss = 0.6637949, step = 4100 (0.380 sec)\n",
            "INFO:tensorflow:global_step/sec: 269.552\n",
            "INFO:tensorflow:loss = 0.66841555, step = 4200 (0.365 sec)\n",
            "INFO:tensorflow:global_step/sec: 280.228\n",
            "INFO:tensorflow:loss = 0.6516366, step = 4300 (0.360 sec)\n",
            "INFO:tensorflow:global_step/sec: 269.915\n",
            "INFO:tensorflow:loss = 0.66067517, step = 4400 (0.368 sec)\n",
            "INFO:tensorflow:global_step/sec: 276.155\n",
            "INFO:tensorflow:loss = 0.65779585, step = 4500 (0.367 sec)\n",
            "INFO:tensorflow:global_step/sec: 270.418\n",
            "INFO:tensorflow:loss = 0.6489262, step = 4600 (0.363 sec)\n",
            "INFO:tensorflow:global_step/sec: 276.687\n",
            "INFO:tensorflow:loss = 0.6618977, step = 4700 (0.361 sec)\n",
            "INFO:tensorflow:global_step/sec: 266.025\n",
            "INFO:tensorflow:loss = 0.66030407, step = 4800 (0.380 sec)\n",
            "INFO:tensorflow:global_step/sec: 272.609\n",
            "INFO:tensorflow:loss = 0.63946575, step = 4900 (0.364 sec)\n",
            "INFO:tensorflow:Calling checkpoint listeners before saving checkpoint 5000...\n",
            "INFO:tensorflow:Saving checkpoints for 5000 into /tmp/tmp__i8au08/model.ckpt.\n",
            "INFO:tensorflow:Calling checkpoint listeners after saving checkpoint 5000...\n",
            "INFO:tensorflow:Loss for final step: 0.6620484.\n"
          ]
        },
        {
          "output_type": "execute_result",
          "data": {
            "text/plain": [
              "<tensorflow_estimator.python.estimator.canned.dnn.DNNClassifierV2 at 0x7f1157c77e10>"
            ]
          },
          "metadata": {},
          "execution_count": 2419
        }
      ]
    },
    {
      "cell_type": "markdown",
      "source": [
        "###Evaluating Classifier"
      ],
      "metadata": {
        "id": "xz8ShhM7pR1S"
      }
    },
    {
      "cell_type": "code",
      "source": [
        "#determine the accurracy of th classifier\n",
        "eval_result = classifier.evaluate(\n",
        "    input_fn=lambda: input_fn(test_features_under, test_label_under, training=False))\n",
        "print('\\nTest set accuracy: {accuracy:0.3f}\\n'.format(**eval_result))"
      ],
      "metadata": {
        "colab": {
          "base_uri": "https://localhost:8080/"
        },
        "outputId": "629499dc-5645-40f8-e22f-ccf0ef873f1e",
        "id": "nL66XtmKpR1S"
      },
      "execution_count": null,
      "outputs": [
        {
          "output_type": "stream",
          "name": "stdout",
          "text": [
            "INFO:tensorflow:Calling model_fn.\n",
            "INFO:tensorflow:Done calling model_fn.\n",
            "INFO:tensorflow:Starting evaluation at 2022-04-08T15:37:18\n",
            "INFO:tensorflow:Graph was finalized.\n",
            "INFO:tensorflow:Restoring parameters from /tmp/tmp__i8au08/model.ckpt-5000\n",
            "INFO:tensorflow:Running local_init_op.\n",
            "INFO:tensorflow:Done running local_init_op.\n",
            "INFO:tensorflow:Inference Time : 2.08164s\n",
            "INFO:tensorflow:Finished evaluation at 2022-04-08-15:37:20\n",
            "INFO:tensorflow:Saving dict for global step 5000: accuracy = 0.6468705, accuracy_baseline = 0.5025941, auc = 0.6780145, auc_precision_recall = 0.6452011, average_loss = 0.66028553, global_step = 5000, label/mean = 0.4974059, loss = 0.6599911, precision = 0.6316744, prediction/mean = 0.5324506, recall = 0.69573903\n",
            "INFO:tensorflow:Saving 'checkpoint_path' summary for global step 5000: /tmp/tmp__i8au08/model.ckpt-5000\n",
            "\n",
            "Test set accuracy: 0.647\n",
            "\n"
          ]
        }
      ]
    },
    {
      "cell_type": "code",
      "source": [
        "#create predictions list for all test set\n",
        "predictions_under = list(classifier.predict(input_fn=lambda: input_fn(test_features_under, test_label_under, training=False)))"
      ],
      "metadata": {
        "outputId": "91c46670-050a-461a-c274-8d5007114edd",
        "colab": {
          "base_uri": "https://localhost:8080/"
        },
        "id": "VWWJKTq9pR1T"
      },
      "execution_count": null,
      "outputs": [
        {
          "output_type": "stream",
          "name": "stdout",
          "text": [
            "INFO:tensorflow:Calling model_fn.\n",
            "INFO:tensorflow:Done calling model_fn.\n",
            "INFO:tensorflow:Graph was finalized.\n",
            "INFO:tensorflow:Restoring parameters from /tmp/tmp__i8au08/model.ckpt-5000\n",
            "INFO:tensorflow:Running local_init_op.\n",
            "INFO:tensorflow:Done running local_init_op.\n"
          ]
        }
      ]
    },
    {
      "cell_type": "code",
      "source": [
        "#create a dataframe of predictions for test set\n",
        "df_predictions = pd.DataFrame(predictions_under)"
      ],
      "metadata": {
        "id": "O3n8IntjpR1T"
      },
      "execution_count": null,
      "outputs": []
    },
    {
      "cell_type": "markdown",
      "source": [
        "###Plot of Results"
      ],
      "metadata": {
        "id": "dL9g8Tg9pR1U"
      }
    },
    {
      "cell_type": "code",
      "source": [
        "#add the actual matches to the prediciton dataframe\n",
        "df_predictions['actual label']=test_label_under.values"
      ],
      "metadata": {
        "id": "-aJkfB7XpR1U"
      },
      "execution_count": null,
      "outputs": []
    },
    {
      "cell_type": "code",
      "source": [
        "#add the class predicitons from the DNN to the dataframe\n",
        "df_predictions['predicted label']=pd.DataFrame.from_records(df_predictions['class_ids'])"
      ],
      "metadata": {
        "id": "a_zvO0gOpR1U"
      },
      "execution_count": null,
      "outputs": []
    },
    {
      "cell_type": "code",
      "source": [
        "#add a binary column to show if the dnn predictions were correct\n",
        "df_predictions['match?']=df_predictions['predicted label']-df_predictions['actual label']\n",
        "df_predictions['match?']=df_predictions['match?'].replace(0,'match')\n",
        "df_predictions['match?']=df_predictions['match?'].replace(-1,'not match')\n",
        "df_predictions['match?']=df_predictions['match?'].replace(1,'not match')"
      ],
      "metadata": {
        "id": "KUsKRvL8pR1U"
      },
      "execution_count": null,
      "outputs": []
    },
    {
      "cell_type": "code",
      "source": [
        "#view the prdictions dataframe\n",
        "df_predictions.head()"
      ],
      "metadata": {
        "colab": {
          "base_uri": "https://localhost:8080/",
          "height": 206
        },
        "outputId": "ce253bf4-d06e-4caf-f9f5-6a40077b30d2",
        "id": "fVjG4FwdpR1V"
      },
      "execution_count": null,
      "outputs": [
        {
          "output_type": "execute_result",
          "data": {
            "text/plain": [
              "          logits      logistic             probabilities class_ids classes  \\\n",
              "0  [-0.13471857]   [0.4663712]  [0.53362876, 0.46637118]       [0]  [b'0']   \n",
              "1   [0.92226034]  [0.71550244]  [0.28449756, 0.71550244]       [1]  [b'1']   \n",
              "2   [0.14870963]    [0.537109]   [0.46289098, 0.5371091]       [1]  [b'1']   \n",
              "3  [-0.13471857]   [0.4663712]  [0.53362876, 0.46637118]       [0]  [b'0']   \n",
              "4   [0.58683544]   [0.6426387]   [0.3573613, 0.64263874]       [1]  [b'1']   \n",
              "\n",
              "  all_class_ids   all_classes  actual label  predicted label     match?  \n",
              "0        [0, 1]  [b'0', b'1']             0                0      match  \n",
              "1        [0, 1]  [b'0', b'1']             0                1  not match  \n",
              "2        [0, 1]  [b'0', b'1']             0                1  not match  \n",
              "3        [0, 1]  [b'0', b'1']             1                0  not match  \n",
              "4        [0, 1]  [b'0', b'1']             0                1  not match  "
            ],
            "text/html": [
              "\n",
              "  <div id=\"df-63024aa6-918d-4a86-995b-501a6109100d\">\n",
              "    <div class=\"colab-df-container\">\n",
              "      <div>\n",
              "<style scoped>\n",
              "    .dataframe tbody tr th:only-of-type {\n",
              "        vertical-align: middle;\n",
              "    }\n",
              "\n",
              "    .dataframe tbody tr th {\n",
              "        vertical-align: top;\n",
              "    }\n",
              "\n",
              "    .dataframe thead th {\n",
              "        text-align: right;\n",
              "    }\n",
              "</style>\n",
              "<table border=\"1\" class=\"dataframe\">\n",
              "  <thead>\n",
              "    <tr style=\"text-align: right;\">\n",
              "      <th></th>\n",
              "      <th>logits</th>\n",
              "      <th>logistic</th>\n",
              "      <th>probabilities</th>\n",
              "      <th>class_ids</th>\n",
              "      <th>classes</th>\n",
              "      <th>all_class_ids</th>\n",
              "      <th>all_classes</th>\n",
              "      <th>actual label</th>\n",
              "      <th>predicted label</th>\n",
              "      <th>match?</th>\n",
              "    </tr>\n",
              "  </thead>\n",
              "  <tbody>\n",
              "    <tr>\n",
              "      <th>0</th>\n",
              "      <td>[-0.13471857]</td>\n",
              "      <td>[0.4663712]</td>\n",
              "      <td>[0.53362876, 0.46637118]</td>\n",
              "      <td>[0]</td>\n",
              "      <td>[b'0']</td>\n",
              "      <td>[0, 1]</td>\n",
              "      <td>[b'0', b'1']</td>\n",
              "      <td>0</td>\n",
              "      <td>0</td>\n",
              "      <td>match</td>\n",
              "    </tr>\n",
              "    <tr>\n",
              "      <th>1</th>\n",
              "      <td>[0.92226034]</td>\n",
              "      <td>[0.71550244]</td>\n",
              "      <td>[0.28449756, 0.71550244]</td>\n",
              "      <td>[1]</td>\n",
              "      <td>[b'1']</td>\n",
              "      <td>[0, 1]</td>\n",
              "      <td>[b'0', b'1']</td>\n",
              "      <td>0</td>\n",
              "      <td>1</td>\n",
              "      <td>not match</td>\n",
              "    </tr>\n",
              "    <tr>\n",
              "      <th>2</th>\n",
              "      <td>[0.14870963]</td>\n",
              "      <td>[0.537109]</td>\n",
              "      <td>[0.46289098, 0.5371091]</td>\n",
              "      <td>[1]</td>\n",
              "      <td>[b'1']</td>\n",
              "      <td>[0, 1]</td>\n",
              "      <td>[b'0', b'1']</td>\n",
              "      <td>0</td>\n",
              "      <td>1</td>\n",
              "      <td>not match</td>\n",
              "    </tr>\n",
              "    <tr>\n",
              "      <th>3</th>\n",
              "      <td>[-0.13471857]</td>\n",
              "      <td>[0.4663712]</td>\n",
              "      <td>[0.53362876, 0.46637118]</td>\n",
              "      <td>[0]</td>\n",
              "      <td>[b'0']</td>\n",
              "      <td>[0, 1]</td>\n",
              "      <td>[b'0', b'1']</td>\n",
              "      <td>1</td>\n",
              "      <td>0</td>\n",
              "      <td>not match</td>\n",
              "    </tr>\n",
              "    <tr>\n",
              "      <th>4</th>\n",
              "      <td>[0.58683544]</td>\n",
              "      <td>[0.6426387]</td>\n",
              "      <td>[0.3573613, 0.64263874]</td>\n",
              "      <td>[1]</td>\n",
              "      <td>[b'1']</td>\n",
              "      <td>[0, 1]</td>\n",
              "      <td>[b'0', b'1']</td>\n",
              "      <td>0</td>\n",
              "      <td>1</td>\n",
              "      <td>not match</td>\n",
              "    </tr>\n",
              "  </tbody>\n",
              "</table>\n",
              "</div>\n",
              "      <button class=\"colab-df-convert\" onclick=\"convertToInteractive('df-63024aa6-918d-4a86-995b-501a6109100d')\"\n",
              "              title=\"Convert this dataframe to an interactive table.\"\n",
              "              style=\"display:none;\">\n",
              "        \n",
              "  <svg xmlns=\"http://www.w3.org/2000/svg\" height=\"24px\"viewBox=\"0 0 24 24\"\n",
              "       width=\"24px\">\n",
              "    <path d=\"M0 0h24v24H0V0z\" fill=\"none\"/>\n",
              "    <path d=\"M18.56 5.44l.94 2.06.94-2.06 2.06-.94-2.06-.94-.94-2.06-.94 2.06-2.06.94zm-11 1L8.5 8.5l.94-2.06 2.06-.94-2.06-.94L8.5 2.5l-.94 2.06-2.06.94zm10 10l.94 2.06.94-2.06 2.06-.94-2.06-.94-.94-2.06-.94 2.06-2.06.94z\"/><path d=\"M17.41 7.96l-1.37-1.37c-.4-.4-.92-.59-1.43-.59-.52 0-1.04.2-1.43.59L10.3 9.45l-7.72 7.72c-.78.78-.78 2.05 0 2.83L4 21.41c.39.39.9.59 1.41.59.51 0 1.02-.2 1.41-.59l7.78-7.78 2.81-2.81c.8-.78.8-2.07 0-2.86zM5.41 20L4 18.59l7.72-7.72 1.47 1.35L5.41 20z\"/>\n",
              "  </svg>\n",
              "      </button>\n",
              "      \n",
              "  <style>\n",
              "    .colab-df-container {\n",
              "      display:flex;\n",
              "      flex-wrap:wrap;\n",
              "      gap: 12px;\n",
              "    }\n",
              "\n",
              "    .colab-df-convert {\n",
              "      background-color: #E8F0FE;\n",
              "      border: none;\n",
              "      border-radius: 50%;\n",
              "      cursor: pointer;\n",
              "      display: none;\n",
              "      fill: #1967D2;\n",
              "      height: 32px;\n",
              "      padding: 0 0 0 0;\n",
              "      width: 32px;\n",
              "    }\n",
              "\n",
              "    .colab-df-convert:hover {\n",
              "      background-color: #E2EBFA;\n",
              "      box-shadow: 0px 1px 2px rgba(60, 64, 67, 0.3), 0px 1px 3px 1px rgba(60, 64, 67, 0.15);\n",
              "      fill: #174EA6;\n",
              "    }\n",
              "\n",
              "    [theme=dark] .colab-df-convert {\n",
              "      background-color: #3B4455;\n",
              "      fill: #D2E3FC;\n",
              "    }\n",
              "\n",
              "    [theme=dark] .colab-df-convert:hover {\n",
              "      background-color: #434B5C;\n",
              "      box-shadow: 0px 1px 3px 1px rgba(0, 0, 0, 0.15);\n",
              "      filter: drop-shadow(0px 1px 2px rgba(0, 0, 0, 0.3));\n",
              "      fill: #FFFFFF;\n",
              "    }\n",
              "  </style>\n",
              "\n",
              "      <script>\n",
              "        const buttonEl =\n",
              "          document.querySelector('#df-63024aa6-918d-4a86-995b-501a6109100d button.colab-df-convert');\n",
              "        buttonEl.style.display =\n",
              "          google.colab.kernel.accessAllowed ? 'block' : 'none';\n",
              "\n",
              "        async function convertToInteractive(key) {\n",
              "          const element = document.querySelector('#df-63024aa6-918d-4a86-995b-501a6109100d');\n",
              "          const dataTable =\n",
              "            await google.colab.kernel.invokeFunction('convertToInteractive',\n",
              "                                                     [key], {});\n",
              "          if (!dataTable) return;\n",
              "\n",
              "          const docLinkHtml = 'Like what you see? Visit the ' +\n",
              "            '<a target=\"_blank\" href=https://colab.research.google.com/notebooks/data_table.ipynb>data table notebook</a>'\n",
              "            + ' to learn more about interactive tables.';\n",
              "          element.innerHTML = '';\n",
              "          dataTable['output_type'] = 'display_data';\n",
              "          await google.colab.output.renderOutput(dataTable, element);\n",
              "          const docLink = document.createElement('div');\n",
              "          docLink.innerHTML = docLinkHtml;\n",
              "          element.appendChild(docLink);\n",
              "        }\n",
              "      </script>\n",
              "    </div>\n",
              "  </div>\n",
              "  "
            ]
          },
          "metadata": {},
          "execution_count": 2426
        }
      ]
    },
    {
      "cell_type": "code",
      "source": [
        "#create a new dataframe showing only the correct predictions\n",
        "correct_predictions = df_predictions[df_predictions['match?']=='match']\n",
        "#get the count of the correct predctions for eah label\n",
        "correct_pred_count_label_0 , correct_pred_count_label_1 = correct_predictions['predicted label'].value_counts()\n",
        "#get the actual label count for each label\n",
        "actual_count_label_0 , actual_count_label_1 = df_predictions['actual label'].value_counts()"
      ],
      "metadata": {
        "id": "x43JleJjpR1V"
      },
      "execution_count": null,
      "outputs": []
    },
    {
      "cell_type": "code",
      "source": [
        "#get the accuracy of each labels predictions\n",
        "accuracy_label_0,accuracy_label_1 = correct_pred_count_label_0/actual_count_label_0 , correct_pred_count_label_1/actual_count_label_1\n",
        "accuracy=accuracy_label_0*100,accuracy_label_1*100\n",
        "accuracy=pd.Series(accuracy)\n",
        "print('Accuracy of label 0 (non-fatal): ', accuracy_label_0, '\\nAccuracy of label 1 (fatal): ', accuracy_label_1)"
      ],
      "metadata": {
        "colab": {
          "base_uri": "https://localhost:8080/"
        },
        "outputId": "9bde2c2d-78d6-4f93-db13-bb650ee2657c",
        "id": "ywCKFPHLpR1W"
      },
      "execution_count": null,
      "outputs": [
        {
          "output_type": "stream",
          "name": "stdout",
          "text": [
            "Accuracy of label 0 (non-fatal):  0.6885569953876565 \n",
            "Accuracy of label 1 (fatal):  0.6047492232578784\n"
          ]
        }
      ]
    },
    {
      "cell_type": "code",
      "source": [
        "#plot the accuracy of each labels predictions\n",
        "fig, axes = plt.subplots(figsize=(18, 10))\n",
        "accuracy.plot(kind='barh')\n",
        "plt.yticks((0,1), ('non-Fatal accident', 'Fatal accident'))\n",
        "plt.xticks((0,10,20,30,40,50,60), ('0%', '10%','20%','30%','40%','50%','60%'))\n",
        "plt.xlabel('prectange accuracy')\n",
        "plt.title('percentage accuracy for each class/label')"
      ],
      "metadata": {
        "colab": {
          "base_uri": "https://localhost:8080/",
          "height": 639
        },
        "outputId": "5acc0b8f-4ff4-4244-a345-3f585ea67362",
        "id": "NfwpiwrepR1X"
      },
      "execution_count": null,
      "outputs": [
        {
          "output_type": "execute_result",
          "data": {
            "text/plain": [
              "Text(0.5, 1.0, 'percentage accuracy for each class/label')"
            ]
          },
          "metadata": {},
          "execution_count": 2429
        },
        {
          "output_type": "display_data",
          "data": {
            "text/plain": [
              "<Figure size 1296x720 with 1 Axes>"
            ],
            "image/png": "[encoded data removed]"
          },
          "metadata": {
            "needs_background": "light"
          }
        }
      ]
    },
    {
      "cell_type": "code",
      "source": [
        "a=df_predictions[df_predictions['actual label']==1]\n",
        "print('actual class qty:',len(a))\n",
        "a=a[a['predicted label']==0]\n",
        "print('false neg:',len(a))\n",
        "\n",
        "a=df_predictions[df_predictions['actual label']==1]\n",
        "a=a[a['predicted label']==1]\n",
        "print('true pos:',len(a))"
      ],
      "metadata": {
        "colab": {
          "base_uri": "https://localhost:8080/"
        },
        "outputId": "e8889b13-8bb3-4856-81af-9cf5f9a8496e",
        "id": "krk2Pnogzck7"
      },
      "execution_count": null,
      "outputs": [
        {
          "output_type": "stream",
          "name": "stdout",
          "text": [
            "actual class qty: 4506\n",
            "false neg: 1371\n",
            "true pos: 3135\n"
          ]
        }
      ]
    },
    {
      "cell_type": "code",
      "source": [
        "a=df_predictions[df_predictions['predicted label']==1]\n",
        "print('predicted class qty: ',len(a))\n",
        "a=a[a['actual label']==0]\n",
        "print('false pos:',len(a))"
      ],
      "metadata": {
        "colab": {
          "base_uri": "https://localhost:8080/"
        },
        "outputId": "51d174a8-e399-4faf-b48c-f8df6867bab5",
        "id": "Ike7-2xbzck8"
      },
      "execution_count": null,
      "outputs": [
        {
          "output_type": "stream",
          "name": "stdout",
          "text": [
            "predicted class qty:  4963\n",
            "false pos: 1828\n"
          ]
        }
      ]
    },
    {
      "cell_type": "markdown",
      "source": [
        "#Iteration 6 - 'speed_limit'"
      ],
      "metadata": {
        "id": "JHloOz2-Hbx5"
      }
    },
    {
      "cell_type": "markdown",
      "source": [
        "##Features"
      ],
      "metadata": {
        "id": "XdI6eCNKHbx6"
      }
    },
    {
      "cell_type": "markdown",
      "source": [
        "###Seleceting Features, checking correlation between them, cleaning missing data"
      ],
      "metadata": {
        "id": "wVeP2pQFHbx7"
      }
    },
    {
      "cell_type": "code",
      "source": [
        "df_features = df[['speed_limit','accident_severity']]"
      ],
      "metadata": {
        "id": "GdtTHQZwHbx8"
      },
      "execution_count": null,
      "outputs": []
    },
    {
      "cell_type": "code",
      "source": [
        "#checking correlation between features\n",
        "df_features.corr()\n",
        "sns.heatmap(df_features.corr())"
      ],
      "metadata": {
        "colab": {
          "base_uri": "https://localhost:8080/",
          "height": 288
        },
        "outputId": "b4d19d04-8eca-4b49-a4b0-ae5b3efe7174",
        "id": "7JwtzR3FHbx9"
      },
      "execution_count": null,
      "outputs": [
        {
          "output_type": "execute_result",
          "data": {
            "text/plain": [
              "<matplotlib.axes._subplots.AxesSubplot at 0x7f11b52f71d0>"
            ]
          },
          "metadata": {},
          "execution_count": 985
        },
        {
          "output_type": "display_data",
          "data": {
            "text/plain": [
              "<Figure size 432x288 with 2 Axes>"
            ],
            "image/png": "[encoded data removed]"
          },
          "metadata": {
            "needs_background": "light"
          }
        }
      ]
    },
    {
      "cell_type": "code",
      "source": [
        "#checking which values have missing data, note missing data is recorded as -1\n",
        "df_features.min()"
      ],
      "metadata": {
        "colab": {
          "base_uri": "https://localhost:8080/"
        },
        "outputId": "91534d87-f445-4059-a29f-29e652a5d402",
        "id": "gjOe12YkHbx-"
      },
      "execution_count": null,
      "outputs": [
        {
          "output_type": "execute_result",
          "data": {
            "text/plain": [
              "speed_limit         -1.0\n",
              "accident_severity    1.0\n",
              "dtype: float64"
            ]
          },
          "metadata": {},
          "execution_count": 986
        }
      ]
    },
    {
      "cell_type": "code",
      "source": [
        "#there are 161 accident that do not have recorded weather conditions, will drop these\n",
        "#df_features['weather_conditions'][df_features['weather_conditions']==-1].count()"
      ],
      "metadata": {
        "id": "wqd4pbfOHbyA"
      },
      "execution_count": null,
      "outputs": []
    },
    {
      "cell_type": "code",
      "source": [
        "#removing all rows with (missing) data\n",
        "#df_features = df_features[df_features['weather_conditions']!=-1]\n",
        "df_features = df_features[df_features['speed_limit']!=0]\n",
        "df_features = df_features[df_features['speed_limit']!=-1]"
      ],
      "metadata": {
        "id": "81GUQx9yHbyA"
      },
      "execution_count": null,
      "outputs": []
    },
    {
      "cell_type": "markdown",
      "source": [
        "df_features.count()"
      ],
      "metadata": {
        "id": "FwpEQ-3CHbyB"
      }
    },
    {
      "cell_type": "markdown",
      "source": [
        "### Cleaning Label (accident severity) so that there are 2 classes instead of 3"
      ],
      "metadata": {
        "id": "3bPFpTUiHbyB"
      }
    },
    {
      "cell_type": "code",
      "source": [
        "#check count for each level of accident deverity\n",
        "df_features['accident_severity'].value_counts()"
      ],
      "metadata": {
        "colab": {
          "base_uri": "https://localhost:8080/"
        },
        "outputId": "e806793e-dae6-4870-b16d-a53461b1d02b",
        "id": "XdW1_jv1HbyC"
      },
      "execution_count": null,
      "outputs": [
        {
          "output_type": "execute_result",
          "data": {
            "text/plain": [
              "3    1225574\n",
              "2     230665\n",
              "1      18138\n",
              "Name: accident_severity, dtype: int64"
            ]
          },
          "metadata": {},
          "execution_count": 989
        }
      ]
    },
    {
      "cell_type": "code",
      "source": [
        "#replace all accident severities where severiry is 2 or 3 and group them into 1 bucket (non-fatal)\n",
        "df_features['accident_severity'] = df_features['accident_severity'].replace(2,0)\n",
        "df_features['accident_severity'] = df_features['accident_severity'].replace(3,0)"
      ],
      "metadata": {
        "id": "CHd1tjIcHbyD"
      },
      "execution_count": null,
      "outputs": []
    },
    {
      "cell_type": "code",
      "source": [
        "#create 2 dataframe, 1 for each class, and print the size each\n",
        "class_1 = df_features[df_features['accident_severity'] == 1]\n",
        "class_0 = df_features[df_features['accident_severity'] == 0]\n",
        "print('class 1 (fatal):', len(class_1))\n",
        "print('class 0 (non-fatal):', len(class_0))"
      ],
      "metadata": {
        "colab": {
          "base_uri": "https://localhost:8080/"
        },
        "outputId": "afa86613-a8b8-4cba-bb45-839b27e3fd17",
        "id": "maybb9LEHbyD"
      },
      "execution_count": null,
      "outputs": [
        {
          "output_type": "stream",
          "name": "stdout",
          "text": [
            "class 1 (fatal): 18138\n",
            "class 0 (non-fatal): 1456239\n"
          ]
        }
      ]
    },
    {
      "cell_type": "markdown",
      "source": [
        "###Accounting for imbalance in the dataset by undersampling"
      ],
      "metadata": {
        "id": "gMpxqcvmHbyD"
      }
    },
    {
      "cell_type": "code",
      "source": [
        "#get the length of the dataset for each class/label\n",
        "class_count_0, class_count_1 = df_features['accident_severity'].value_counts()"
      ],
      "metadata": {
        "id": "QAu796WWHbyD"
      },
      "execution_count": null,
      "outputs": []
    },
    {
      "cell_type": "code",
      "source": [
        "#undersampling of class 0 to balance the count of data for each class/label\n",
        "class_0_under = class_0.sample(class_count_1)\n",
        "df_features_under = pd.concat([class_0_under, class_1], axis=0)"
      ],
      "metadata": {
        "id": "Ai0MWsm1HbyD"
      },
      "execution_count": null,
      "outputs": []
    },
    {
      "cell_type": "code",
      "source": [
        "#print the size of the new dataset for each class/label after undersampling\n",
        "class_1 = df_features_under[df_features_under['accident_severity'] == 1]\n",
        "class_0 = df_features_under[df_features_under['accident_severity'] == 0]\n",
        "print('class 1 (fatal):', len(class_1))\n",
        "print('class 0 (non-fatal):', len(class_0))"
      ],
      "metadata": {
        "colab": {
          "base_uri": "https://localhost:8080/"
        },
        "outputId": "d0ee686f-c060-4cf0-f54b-c6c5aa9ddae4",
        "id": "i4tnjKxoHbyE"
      },
      "execution_count": null,
      "outputs": [
        {
          "output_type": "stream",
          "name": "stdout",
          "text": [
            "class 1 (fatal): 18138\n",
            "class 0 (non-fatal): 18138\n"
          ]
        }
      ]
    },
    {
      "cell_type": "markdown",
      "source": [
        "###splitting the dataset in training and test datasets"
      ],
      "metadata": {
        "id": "oaQskrmKHbyE"
      }
    },
    {
      "cell_type": "code",
      "source": [
        "#splitting the dataset into training and test sets\n",
        "train_features_under, test_features_under = train_test_split(df_features_under, test_size=0.25)"
      ],
      "metadata": {
        "id": "s_vzdNklHbyF"
      },
      "execution_count": null,
      "outputs": []
    },
    {
      "cell_type": "code",
      "source": [
        "#pop out the label column from the train and test undersampled datasets\n",
        "train_label_under = train_features_under.pop('accident_severity')\n",
        "test_label_under = test_features_under.pop('accident_severity')"
      ],
      "metadata": {
        "id": "2kbId5HbHbyF"
      },
      "execution_count": null,
      "outputs": []
    },
    {
      "cell_type": "markdown",
      "source": [
        "## DNN Classifier"
      ],
      "metadata": {
        "id": "3gSY3U8kHbyF"
      }
    },
    {
      "cell_type": "markdown",
      "source": [
        "###defining input function, creating classifier, training classifer"
      ],
      "metadata": {
        "id": "jpLkBOhyHbyF"
      }
    },
    {
      "cell_type": "code",
      "source": [
        "def input_fn(features, labels, training=True, batch_size=344):\n",
        "    # Convert the inputs to a Dataset.\n",
        "    dataset = tf.data.Dataset.from_tensor_slices((dict(features), labels))\n",
        "    # Shuffle and repeat if you are in training mode.\n",
        "    if training:\n",
        "        dataset = dataset.shuffle(1000).repeat()\n",
        "    return dataset.batch(batch_size)"
      ],
      "metadata": {
        "id": "nAy0f7flHbyG"
      },
      "execution_count": null,
      "outputs": []
    },
    {
      "cell_type": "code",
      "source": [
        "# creating a tensorflow Feature column list\n",
        "my_feature_columns = []\n",
        "for key in train_features_under.keys():\n",
        "    my_feature_columns.append(tf.feature_column.numeric_column(key=key))\n",
        "my_feature_columns"
      ],
      "metadata": {
        "colab": {
          "base_uri": "https://localhost:8080/"
        },
        "outputId": "56866105-92cd-4905-fec7-ff47dc73f9d6",
        "id": "s9I8xqQ4HbyG"
      },
      "execution_count": null,
      "outputs": [
        {
          "output_type": "execute_result",
          "data": {
            "text/plain": [
              "[NumericColumn(key='speed_limit', shape=(1,), default_value=None, dtype=tf.float32, normalizer_fn=None)]"
            ]
          },
          "metadata": {},
          "execution_count": 1011
        }
      ]
    },
    {
      "cell_type": "code",
      "source": [
        "# Build a DNN with 2 hidden layers with 30 and 10 hidden nodes each.\n",
        "classifier = tf.estimator.DNNClassifier(\n",
        "    feature_columns=my_feature_columns,\n",
        "    # Two hidden layers of 30 and 10 nodes respectively.\n",
        "    hidden_units=[30, 10],\n",
        "    # The model must choose between 2 classes.\n",
        "    n_classes=2)"
      ],
      "metadata": {
        "colab": {
          "base_uri": "https://localhost:8080/"
        },
        "outputId": "01d1bc72-3bf9-4ac6-8689-037d651fb429",
        "id": "2dzfSJjfHbyG"
      },
      "execution_count": null,
      "outputs": [
        {
          "output_type": "stream",
          "name": "stdout",
          "text": [
            "INFO:tensorflow:Using default config.\n",
            "WARNING:tensorflow:Using temporary folder as model directory: /tmp/tmp7gb8kwcs\n",
            "INFO:tensorflow:Using config: {'_model_dir': '/tmp/tmp7gb8kwcs', '_tf_random_seed': None, '_save_summary_steps': 100, '_save_checkpoints_steps': None, '_save_checkpoints_secs': 600, '_session_config': allow_soft_placement: true\n",
            "graph_options {\n",
            "  rewrite_options {\n",
            "    meta_optimizer_iterations: ONE\n",
            "  }\n",
            "}\n",
            ", '_keep_checkpoint_max': 5, '_keep_checkpoint_every_n_hours': 10000, '_log_step_count_steps': 100, '_train_distribute': None, '_device_fn': None, '_protocol': None, '_eval_distribute': None, '_experimental_distribute': None, '_experimental_max_worker_delay_secs': None, '_session_creation_timeout_secs': 7200, '_checkpoint_save_graph_def': True, '_service': None, '_cluster_spec': ClusterSpec({}), '_task_type': 'worker', '_task_id': 0, '_global_id_in_cluster': 0, '_master': '', '_evaluation_master': '', '_is_chief': True, '_num_ps_replicas': 0, '_num_worker_replicas': 1}\n"
          ]
        }
      ]
    },
    {
      "cell_type": "code",
      "source": [
        "classifier.train(input_fn=lambda: input_fn(train_features_under, train_label_under, training=True),steps=10000)\n",
        "# We include a lambda to avoid creating an inner function "
      ],
      "metadata": {
        "colab": {
          "base_uri": "https://localhost:8080/"
        },
        "outputId": "c5c9e9ae-acbb-42f7-9d7d-184139cc65f8",
        "id": "Q23QEg9uHbyH"
      },
      "execution_count": null,
      "outputs": [
        {
          "output_type": "stream",
          "name": "stdout",
          "text": [
            "INFO:tensorflow:Calling model_fn.\n",
            "INFO:tensorflow:Done calling model_fn.\n",
            "INFO:tensorflow:Create CheckpointSaverHook.\n",
            "INFO:tensorflow:Graph was finalized.\n",
            "INFO:tensorflow:Running local_init_op.\n",
            "INFO:tensorflow:Done running local_init_op.\n",
            "INFO:tensorflow:Calling checkpoint listeners before saving checkpoint 0...\n",
            "INFO:tensorflow:Saving checkpoints for 0 into /tmp/tmp7gb8kwcs/model.ckpt.\n",
            "INFO:tensorflow:Calling checkpoint listeners after saving checkpoint 0...\n",
            "INFO:tensorflow:loss = 2.9115522, step = 0\n",
            "INFO:tensorflow:global_step/sec: 312.747\n",
            "INFO:tensorflow:loss = 0.69143826, step = 100 (0.322 sec)\n",
            "INFO:tensorflow:global_step/sec: 387.914\n",
            "INFO:tensorflow:loss = 0.6936507, step = 200 (0.261 sec)\n",
            "INFO:tensorflow:global_step/sec: 343.127\n",
            "INFO:tensorflow:loss = 0.68013597, step = 300 (0.288 sec)\n",
            "INFO:tensorflow:global_step/sec: 393.276\n",
            "INFO:tensorflow:loss = 0.6846656, step = 400 (0.257 sec)\n",
            "INFO:tensorflow:global_step/sec: 464.09\n",
            "INFO:tensorflow:loss = 0.6821859, step = 500 (0.215 sec)\n",
            "INFO:tensorflow:global_step/sec: 400.97\n",
            "INFO:tensorflow:loss = 0.6876953, step = 600 (0.250 sec)\n",
            "INFO:tensorflow:global_step/sec: 370.955\n",
            "INFO:tensorflow:loss = 0.6901154, step = 700 (0.270 sec)\n",
            "INFO:tensorflow:global_step/sec: 406.011\n",
            "INFO:tensorflow:loss = 0.6871814, step = 800 (0.250 sec)\n",
            "INFO:tensorflow:global_step/sec: 361.346\n",
            "INFO:tensorflow:loss = 0.6891569, step = 900 (0.273 sec)\n",
            "INFO:tensorflow:global_step/sec: 388.429\n",
            "INFO:tensorflow:loss = 0.6895675, step = 1000 (0.258 sec)\n",
            "WARNING:tensorflow:It seems that global step (tf.train.get_global_step) has not been increased. Current value (could be stable): 1002 vs previous value: 1002. You could increase the global step by passing tf.train.get_global_step() to Optimizer.apply_gradients or Optimizer.minimize.\n",
            "INFO:tensorflow:global_step/sec: 392.395\n",
            "INFO:tensorflow:loss = 0.6841351, step = 1100 (0.255 sec)\n",
            "INFO:tensorflow:global_step/sec: 382.785\n",
            "INFO:tensorflow:loss = 0.68930674, step = 1200 (0.262 sec)\n",
            "INFO:tensorflow:global_step/sec: 417.203\n",
            "INFO:tensorflow:loss = 0.6930614, step = 1300 (0.236 sec)\n",
            "INFO:tensorflow:global_step/sec: 468.603\n",
            "INFO:tensorflow:loss = 0.68033504, step = 1400 (0.217 sec)\n",
            "INFO:tensorflow:global_step/sec: 379.996\n",
            "INFO:tensorflow:loss = 0.6925064, step = 1500 (0.260 sec)\n",
            "INFO:tensorflow:global_step/sec: 384.349\n",
            "INFO:tensorflow:loss = 0.6835561, step = 1600 (0.264 sec)\n",
            "INFO:tensorflow:global_step/sec: 396.097\n",
            "INFO:tensorflow:loss = 0.6881646, step = 1700 (0.247 sec)\n",
            "INFO:tensorflow:global_step/sec: 415.373\n",
            "INFO:tensorflow:loss = 0.68872, step = 1800 (0.245 sec)\n",
            "INFO:tensorflow:global_step/sec: 406.959\n",
            "INFO:tensorflow:loss = 0.68155164, step = 1900 (0.243 sec)\n",
            "INFO:tensorflow:global_step/sec: 396.04\n",
            "INFO:tensorflow:loss = 0.6738512, step = 2000 (0.252 sec)\n",
            "INFO:tensorflow:global_step/sec: 421.82\n",
            "INFO:tensorflow:loss = 0.6799331, step = 2100 (0.237 sec)\n",
            "INFO:tensorflow:global_step/sec: 388.042\n",
            "INFO:tensorflow:loss = 0.6813253, step = 2200 (0.259 sec)\n",
            "INFO:tensorflow:global_step/sec: 351.82\n",
            "INFO:tensorflow:loss = 0.6906703, step = 2300 (0.286 sec)\n",
            "INFO:tensorflow:global_step/sec: 376.443\n",
            "INFO:tensorflow:loss = 0.67862684, step = 2400 (0.266 sec)\n",
            "INFO:tensorflow:global_step/sec: 391.423\n",
            "INFO:tensorflow:loss = 0.6867892, step = 2500 (0.258 sec)\n",
            "INFO:tensorflow:global_step/sec: 424.105\n",
            "INFO:tensorflow:loss = 0.68061525, step = 2600 (0.233 sec)\n",
            "INFO:tensorflow:global_step/sec: 396.028\n",
            "INFO:tensorflow:loss = 0.6870468, step = 2700 (0.252 sec)\n",
            "INFO:tensorflow:global_step/sec: 399.994\n",
            "INFO:tensorflow:loss = 0.6713374, step = 2800 (0.247 sec)\n",
            "INFO:tensorflow:global_step/sec: 396.998\n",
            "INFO:tensorflow:loss = 0.67207205, step = 2900 (0.252 sec)\n",
            "INFO:tensorflow:global_step/sec: 425.356\n",
            "INFO:tensorflow:loss = 0.674248, step = 3000 (0.237 sec)\n",
            "INFO:tensorflow:global_step/sec: 376.031\n",
            "INFO:tensorflow:loss = 0.6822136, step = 3100 (0.264 sec)\n",
            "INFO:tensorflow:global_step/sec: 441.865\n",
            "INFO:tensorflow:loss = 0.6823164, step = 3200 (0.226 sec)\n",
            "INFO:tensorflow:global_step/sec: 404.341\n",
            "INFO:tensorflow:loss = 0.68685734, step = 3300 (0.248 sec)\n",
            "INFO:tensorflow:global_step/sec: 387.848\n",
            "INFO:tensorflow:loss = 0.67629665, step = 3400 (0.261 sec)\n",
            "INFO:tensorflow:global_step/sec: 363.993\n",
            "INFO:tensorflow:loss = 0.68073237, step = 3500 (0.275 sec)\n",
            "INFO:tensorflow:global_step/sec: 418.042\n",
            "INFO:tensorflow:loss = 0.682004, step = 3600 (0.240 sec)\n",
            "INFO:tensorflow:global_step/sec: 419.926\n",
            "INFO:tensorflow:loss = 0.6823333, step = 3700 (0.237 sec)\n",
            "INFO:tensorflow:global_step/sec: 403.76\n",
            "INFO:tensorflow:loss = 0.69091445, step = 3800 (0.249 sec)\n",
            "INFO:tensorflow:global_step/sec: 371.048\n",
            "INFO:tensorflow:loss = 0.666634, step = 3900 (0.265 sec)\n",
            "INFO:tensorflow:global_step/sec: 363.22\n",
            "INFO:tensorflow:loss = 0.68287456, step = 4000 (0.282 sec)\n",
            "INFO:tensorflow:global_step/sec: 401.06\n",
            "INFO:tensorflow:loss = 0.6775278, step = 4100 (0.243 sec)\n",
            "INFO:tensorflow:global_step/sec: 399.061\n",
            "INFO:tensorflow:loss = 0.67554307, step = 4200 (0.252 sec)\n",
            "INFO:tensorflow:global_step/sec: 397.457\n",
            "INFO:tensorflow:loss = 0.67484325, step = 4300 (0.253 sec)\n",
            "INFO:tensorflow:global_step/sec: 429.148\n",
            "INFO:tensorflow:loss = 0.6796875, step = 4400 (0.230 sec)\n",
            "INFO:tensorflow:global_step/sec: 396.891\n",
            "INFO:tensorflow:loss = 0.66858095, step = 4500 (0.256 sec)\n",
            "INFO:tensorflow:global_step/sec: 396.318\n",
            "INFO:tensorflow:loss = 0.6764758, step = 4600 (0.252 sec)\n",
            "INFO:tensorflow:global_step/sec: 382.535\n",
            "INFO:tensorflow:loss = 0.6715731, step = 4700 (0.258 sec)\n",
            "INFO:tensorflow:global_step/sec: 434.874\n",
            "INFO:tensorflow:loss = 0.6763463, step = 4800 (0.229 sec)\n",
            "INFO:tensorflow:global_step/sec: 385.464\n",
            "INFO:tensorflow:loss = 0.66774726, step = 4900 (0.260 sec)\n",
            "INFO:tensorflow:global_step/sec: 395.013\n",
            "INFO:tensorflow:loss = 0.67525715, step = 5000 (0.256 sec)\n",
            "INFO:tensorflow:global_step/sec: 447.633\n",
            "INFO:tensorflow:loss = 0.6688777, step = 5100 (0.228 sec)\n",
            "INFO:tensorflow:global_step/sec: 370.465\n",
            "INFO:tensorflow:loss = 0.67100614, step = 5200 (0.265 sec)\n",
            "INFO:tensorflow:global_step/sec: 397.13\n",
            "INFO:tensorflow:loss = 0.6679515, step = 5300 (0.253 sec)\n",
            "INFO:tensorflow:global_step/sec: 388.135\n",
            "INFO:tensorflow:loss = 0.65797734, step = 5400 (0.257 sec)\n",
            "INFO:tensorflow:global_step/sec: 360.314\n",
            "INFO:tensorflow:loss = 0.6630255, step = 5500 (0.280 sec)\n",
            "INFO:tensorflow:global_step/sec: 370.032\n",
            "INFO:tensorflow:loss = 0.669069, step = 5600 (0.267 sec)\n",
            "INFO:tensorflow:global_step/sec: 392.243\n",
            "INFO:tensorflow:loss = 0.6803078, step = 5700 (0.258 sec)\n",
            "INFO:tensorflow:global_step/sec: 405.104\n",
            "INFO:tensorflow:loss = 0.6732703, step = 5800 (0.241 sec)\n",
            "INFO:tensorflow:global_step/sec: 377.194\n",
            "INFO:tensorflow:loss = 0.66846174, step = 5900 (0.267 sec)\n",
            "INFO:tensorflow:global_step/sec: 382.38\n",
            "INFO:tensorflow:loss = 0.67379534, step = 6000 (0.264 sec)\n",
            "INFO:tensorflow:global_step/sec: 391.127\n",
            "INFO:tensorflow:loss = 0.6681691, step = 6100 (0.256 sec)\n",
            "INFO:tensorflow:global_step/sec: 420.154\n",
            "INFO:tensorflow:loss = 0.6671331, step = 6200 (0.237 sec)\n",
            "INFO:tensorflow:global_step/sec: 409.269\n",
            "INFO:tensorflow:loss = 0.6709446, step = 6300 (0.242 sec)\n",
            "INFO:tensorflow:global_step/sec: 381.107\n",
            "INFO:tensorflow:loss = 0.66562396, step = 6400 (0.266 sec)\n",
            "INFO:tensorflow:global_step/sec: 409.805\n",
            "INFO:tensorflow:loss = 0.66052884, step = 6500 (0.243 sec)\n",
            "INFO:tensorflow:global_step/sec: 416.005\n",
            "INFO:tensorflow:loss = 0.6611283, step = 6600 (0.240 sec)\n",
            "INFO:tensorflow:global_step/sec: 425.577\n",
            "INFO:tensorflow:loss = 0.6677308, step = 6700 (0.236 sec)\n",
            "INFO:tensorflow:global_step/sec: 435.754\n",
            "INFO:tensorflow:loss = 0.6740762, step = 6800 (0.228 sec)\n",
            "INFO:tensorflow:global_step/sec: 461.908\n",
            "INFO:tensorflow:loss = 0.6691409, step = 6900 (0.217 sec)\n",
            "INFO:tensorflow:global_step/sec: 457.565\n",
            "INFO:tensorflow:loss = 0.67091835, step = 7000 (0.215 sec)\n",
            "INFO:tensorflow:global_step/sec: 489.684\n",
            "INFO:tensorflow:loss = 0.6643228, step = 7100 (0.208 sec)\n",
            "INFO:tensorflow:global_step/sec: 408.658\n",
            "INFO:tensorflow:loss = 0.67076397, step = 7200 (0.241 sec)\n",
            "INFO:tensorflow:global_step/sec: 403.683\n",
            "INFO:tensorflow:loss = 0.66254586, step = 7300 (0.251 sec)\n",
            "INFO:tensorflow:global_step/sec: 434.166\n",
            "INFO:tensorflow:loss = 0.664553, step = 7400 (0.231 sec)\n",
            "INFO:tensorflow:global_step/sec: 389.146\n",
            "INFO:tensorflow:loss = 0.66435933, step = 7500 (0.258 sec)\n",
            "INFO:tensorflow:global_step/sec: 374.314\n",
            "INFO:tensorflow:loss = 0.6709769, step = 7600 (0.264 sec)\n",
            "INFO:tensorflow:global_step/sec: 443.418\n",
            "INFO:tensorflow:loss = 0.66193867, step = 7700 (0.226 sec)\n",
            "INFO:tensorflow:global_step/sec: 436.902\n",
            "INFO:tensorflow:loss = 0.6698274, step = 7800 (0.230 sec)\n",
            "INFO:tensorflow:global_step/sec: 418.784\n",
            "INFO:tensorflow:loss = 0.6601728, step = 7900 (0.239 sec)\n",
            "INFO:tensorflow:global_step/sec: 405.853\n",
            "INFO:tensorflow:loss = 0.66071093, step = 8000 (0.245 sec)\n",
            "INFO:tensorflow:global_step/sec: 371.625\n",
            "INFO:tensorflow:loss = 0.6720967, step = 8100 (0.269 sec)\n",
            "INFO:tensorflow:global_step/sec: 373.021\n",
            "INFO:tensorflow:loss = 0.6641797, step = 8200 (0.270 sec)\n",
            "INFO:tensorflow:global_step/sec: 380.172\n",
            "INFO:tensorflow:loss = 0.66316384, step = 8300 (0.262 sec)\n",
            "INFO:tensorflow:global_step/sec: 393.315\n",
            "INFO:tensorflow:loss = 0.66214055, step = 8400 (0.254 sec)\n",
            "INFO:tensorflow:global_step/sec: 370.54\n",
            "INFO:tensorflow:loss = 0.67155266, step = 8500 (0.269 sec)\n",
            "INFO:tensorflow:global_step/sec: 396.991\n",
            "INFO:tensorflow:loss = 0.66907483, step = 8600 (0.252 sec)\n",
            "INFO:tensorflow:global_step/sec: 385.744\n",
            "INFO:tensorflow:loss = 0.67768246, step = 8700 (0.260 sec)\n",
            "INFO:tensorflow:global_step/sec: 387.825\n",
            "INFO:tensorflow:loss = 0.6740238, step = 8800 (0.259 sec)\n",
            "INFO:tensorflow:global_step/sec: 365.354\n",
            "INFO:tensorflow:loss = 0.6585521, step = 8900 (0.272 sec)\n",
            "INFO:tensorflow:global_step/sec: 334.763\n",
            "INFO:tensorflow:loss = 0.66817313, step = 9000 (0.296 sec)\n",
            "INFO:tensorflow:global_step/sec: 369.414\n",
            "INFO:tensorflow:loss = 0.6665773, step = 9100 (0.272 sec)\n",
            "INFO:tensorflow:global_step/sec: 381.269\n",
            "INFO:tensorflow:loss = 0.6665952, step = 9200 (0.260 sec)\n",
            "INFO:tensorflow:global_step/sec: 415.577\n",
            "INFO:tensorflow:loss = 0.66629696, step = 9300 (0.242 sec)\n",
            "INFO:tensorflow:global_step/sec: 384.879\n",
            "INFO:tensorflow:loss = 0.6545825, step = 9400 (0.258 sec)\n",
            "INFO:tensorflow:global_step/sec: 421.553\n",
            "INFO:tensorflow:loss = 0.65756375, step = 9500 (0.241 sec)\n",
            "INFO:tensorflow:global_step/sec: 395.773\n",
            "INFO:tensorflow:loss = 0.6539441, step = 9600 (0.253 sec)\n",
            "INFO:tensorflow:global_step/sec: 389.176\n",
            "INFO:tensorflow:loss = 0.66769797, step = 9700 (0.255 sec)\n",
            "INFO:tensorflow:global_step/sec: 381.563\n",
            "INFO:tensorflow:loss = 0.6721917, step = 9800 (0.265 sec)\n",
            "INFO:tensorflow:global_step/sec: 380.159\n",
            "INFO:tensorflow:loss = 0.6695202, step = 9900 (0.259 sec)\n",
            "INFO:tensorflow:Calling checkpoint listeners before saving checkpoint 10000...\n",
            "INFO:tensorflow:Saving checkpoints for 10000 into /tmp/tmp7gb8kwcs/model.ckpt.\n",
            "INFO:tensorflow:Calling checkpoint listeners after saving checkpoint 10000...\n",
            "INFO:tensorflow:Loss for final step: 0.667732.\n"
          ]
        },
        {
          "output_type": "execute_result",
          "data": {
            "text/plain": [
              "<tensorflow_estimator.python.estimator.canned.dnn.DNNClassifierV2 at 0x7f11d549e490>"
            ]
          },
          "metadata": {},
          "execution_count": 1013
        }
      ]
    },
    {
      "cell_type": "markdown",
      "source": [
        "###Evaluating Classifier"
      ],
      "metadata": {
        "id": "W7s-pDCpHbyH"
      }
    },
    {
      "cell_type": "code",
      "source": [
        "#determine the accurracy of th classifier\n",
        "eval_result = classifier.evaluate(\n",
        "    input_fn=lambda: input_fn(test_features_under, test_label_under, training=False))\n",
        "print('\\nTest set accuracy: {accuracy:0.3f}\\n'.format(**eval_result))"
      ],
      "metadata": {
        "colab": {
          "base_uri": "https://localhost:8080/"
        },
        "outputId": "5cce159e-e577-4341-9228-612d32a3d857",
        "id": "xa-kCaFzHbyH"
      },
      "execution_count": null,
      "outputs": [
        {
          "output_type": "stream",
          "name": "stdout",
          "text": [
            "INFO:tensorflow:Calling model_fn.\n",
            "INFO:tensorflow:Done calling model_fn.\n",
            "INFO:tensorflow:Starting evaluation at 2022-04-08T14:06:07\n",
            "INFO:tensorflow:Graph was finalized.\n",
            "INFO:tensorflow:Restoring parameters from /tmp/tmp7gb8kwcs/model.ckpt-10000\n",
            "INFO:tensorflow:Running local_init_op.\n",
            "INFO:tensorflow:Done running local_init_op.\n",
            "INFO:tensorflow:Inference Time : 0.72609s\n",
            "INFO:tensorflow:Finished evaluation at 2022-04-08-14:06:08\n",
            "INFO:tensorflow:Saving dict for global step 10000: accuracy = 0.65266293, accuracy_baseline = 0.5006065, auc = 0.66340894, auc_precision_recall = 0.63127637, average_loss = 0.6672481, global_step = 10000, label/mean = 0.5006065, loss = 0.66691446, precision = 0.65625, prediction/mean = 0.540932, recall = 0.64295155\n",
            "INFO:tensorflow:Saving 'checkpoint_path' summary for global step 10000: /tmp/tmp7gb8kwcs/model.ckpt-10000\n",
            "\n",
            "Test set accuracy: 0.653\n",
            "\n"
          ]
        }
      ]
    },
    {
      "cell_type": "code",
      "source": [
        "#create predictions list for all test set\n",
        "predictions_under = list(classifier.predict(input_fn=lambda: input_fn(test_features_under, test_label_under, training=False)))"
      ],
      "metadata": {
        "outputId": "383a0f95-fab8-4f4d-997b-f40aa1caf570",
        "colab": {
          "base_uri": "https://localhost:8080/"
        },
        "id": "6WkvsbaDHbyJ"
      },
      "execution_count": null,
      "outputs": [
        {
          "output_type": "stream",
          "name": "stdout",
          "text": [
            "INFO:tensorflow:Calling model_fn.\n",
            "INFO:tensorflow:Done calling model_fn.\n",
            "INFO:tensorflow:Graph was finalized.\n",
            "INFO:tensorflow:Restoring parameters from /tmp/tmp7gb8kwcs/model.ckpt-10000\n",
            "INFO:tensorflow:Running local_init_op.\n",
            "INFO:tensorflow:Done running local_init_op.\n"
          ]
        }
      ]
    },
    {
      "cell_type": "code",
      "source": [
        "#create a dataframe of predictions for test set\n",
        "df_predictions = pd.DataFrame(predictions_under)"
      ],
      "metadata": {
        "id": "EKFusTAYHbyO"
      },
      "execution_count": null,
      "outputs": []
    },
    {
      "cell_type": "markdown",
      "source": [
        "###Plot of Results"
      ],
      "metadata": {
        "id": "bM5TCLfiHbyO"
      }
    },
    {
      "cell_type": "code",
      "source": [
        "#add the actual matches to the prediciton dataframe\n",
        "df_predictions['actual label']=test_label_under.values"
      ],
      "metadata": {
        "id": "q1KC-3h9HbyP"
      },
      "execution_count": null,
      "outputs": []
    },
    {
      "cell_type": "code",
      "source": [
        "#add the class predicitons from the DNN to the dataframe\n",
        "df_predictions['predicted label']=pd.DataFrame.from_records(df_predictions['class_ids'])"
      ],
      "metadata": {
        "id": "F2wDdrnBHbyP"
      },
      "execution_count": null,
      "outputs": []
    },
    {
      "cell_type": "code",
      "source": [
        "#add a binary column to show if the dnn predictions were correct\n",
        "df_predictions['match?']=df_predictions['predicted label']-df_predictions['actual label']\n",
        "df_predictions['match?']=df_predictions['match?'].replace(0,'match')\n",
        "df_predictions['match?']=df_predictions['match?'].replace(-1,'not match')\n",
        "df_predictions['match?']=df_predictions['match?'].replace(1,'not match')"
      ],
      "metadata": {
        "id": "20ZCeoNFHbyP"
      },
      "execution_count": null,
      "outputs": []
    },
    {
      "cell_type": "code",
      "source": [
        "#create a new dataframe showing only the correct predictions\n",
        "correct_predictions = df_predictions[df_predictions['match?']=='match']\n",
        "#get the count of the correct predctions for eah label\n",
        "correct_pred_count_label_0 , correct_pred_count_label_1 = correct_predictions['predicted label'].value_counts()\n",
        "#get the actual label count for each label\n",
        "actual_count_label_0 , actual_count_label_1 = df_predictions['actual label'].value_counts()"
      ],
      "metadata": {
        "id": "O3UnEfHsHbyQ"
      },
      "execution_count": null,
      "outputs": []
    },
    {
      "cell_type": "code",
      "source": [
        "#get the accuracy of each labels predictions\n",
        "accuracy_label_0,accuracy_label_1 = correct_pred_count_label_0/actual_count_label_0 , correct_pred_count_label_1/actual_count_label_1\n",
        "accuracy=accuracy_label_0*100,accuracy_label_1*100\n",
        "accuracy=pd.Series(accuracy)\n",
        "print('Accuracy of label 0 (non-fatal): ', accuracy_label_0, '\\nAccuracy of label 1 (fatal): ', accuracy_label_1)"
      ],
      "metadata": {
        "colab": {
          "base_uri": "https://localhost:8080/"
        },
        "outputId": "6b5f0c92-0b11-4f39-fa01-b89f56a75dba",
        "id": "qQwKm1oIHbyQ"
      },
      "execution_count": null,
      "outputs": [
        {
          "output_type": "stream",
          "name": "stdout",
          "text": [
            "Accuracy of label 0 (non-fatal):  0.6607929515418502 \n",
            "Accuracy of label 1 (fatal):  0.6445131375579598\n"
          ]
        }
      ]
    },
    {
      "cell_type": "code",
      "source": [
        "#plot the accuracy of each labels predictions\n",
        "fig, axes = plt.subplots(figsize=(18, 10))\n",
        "accuracy.plot(kind='barh')\n",
        "plt.yticks((0,1), ('non-Fatal accident', 'Fatal accident'))\n",
        "plt.xticks((0,10,20,30,40,50,60), ('0%', '10%','20%','30%','40%','50%','60%'))\n",
        "plt.xlabel('prectange accuracy')\n",
        "plt.title('percentage accuracy for each class/label')"
      ],
      "metadata": {
        "colab": {
          "base_uri": "https://localhost:8080/",
          "height": 639
        },
        "outputId": "d73c8556-3908-4a0a-9c6c-d4eae48601c0",
        "id": "xRT8M9UMHbyQ"
      },
      "execution_count": null,
      "outputs": [
        {
          "output_type": "execute_result",
          "data": {
            "text/plain": [
              "Text(0.5, 1.0, 'percentage accuracy for each class/label')"
            ]
          },
          "metadata": {},
          "execution_count": 1022
        },
        {
          "output_type": "display_data",
          "data": {
            "text/plain": [
              "<Figure size 1296x720 with 1 Axes>"
            ],
            "image/png": "[encoded data removed]"
          },
          "metadata": {
            "needs_background": "light"
          }
        }
      ]
    },
    {
      "cell_type": "markdown",
      "source": [
        "#Iteration 7 - 'speed_limit', 'road_surface_conditions'"
      ],
      "metadata": {
        "id": "9Hn6odfsJfgs"
      }
    },
    {
      "cell_type": "markdown",
      "source": [
        "##Features"
      ],
      "metadata": {
        "id": "G9SinMkZJfgt"
      }
    },
    {
      "cell_type": "markdown",
      "source": [
        "###Seleceting Features, checking correlation between them, cleaning missing data"
      ],
      "metadata": {
        "id": "3msLMORXJfgu"
      }
    },
    {
      "cell_type": "code",
      "source": [
        "df_features = df[['speed_limit', 'road_surface_conditions','accident_severity']]"
      ],
      "metadata": {
        "id": "2kw6ecx8Jfgu"
      },
      "execution_count": null,
      "outputs": []
    },
    {
      "cell_type": "code",
      "source": [
        "#checking correlation between features\n",
        "df_features.corr()\n",
        "sns.heatmap(df_features.corr())"
      ],
      "metadata": {
        "colab": {
          "base_uri": "https://localhost:8080/",
          "height": 398
        },
        "outputId": "8045a792-0d1b-4922-fb7d-16e9f5d6c39a",
        "id": "nl3fLZ5YJfgv"
      },
      "execution_count": null,
      "outputs": [
        {
          "output_type": "execute_result",
          "data": {
            "text/plain": [
              "<matplotlib.axes._subplots.AxesSubplot at 0x7f11b3ece350>"
            ]
          },
          "metadata": {},
          "execution_count": 1910
        },
        {
          "output_type": "display_data",
          "data": {
            "text/plain": [
              "<Figure size 432x288 with 2 Axes>"
            ],
            "image/png": "[encoded data removed]"
          },
          "metadata": {
            "needs_background": "light"
          }
        }
      ]
    },
    {
      "cell_type": "code",
      "source": [
        "#checking which values have missing data, note missing data is recorded as -1\n",
        "df_features.min()"
      ],
      "metadata": {
        "colab": {
          "base_uri": "https://localhost:8080/"
        },
        "outputId": "cc5b0843-8d24-4e75-8159-7520a4ebea48",
        "id": "hThH9xffJfgw"
      },
      "execution_count": null,
      "outputs": [
        {
          "output_type": "execute_result",
          "data": {
            "text/plain": [
              "speed_limit               -1.0\n",
              "road_surface_conditions   -1.0\n",
              "accident_severity          1.0\n",
              "dtype: float64"
            ]
          },
          "metadata": {},
          "execution_count": 1911
        }
      ]
    },
    {
      "cell_type": "code",
      "source": [
        "#there are 161 accident that do not have recorded weather conditions, will drop these\n",
        "#df_features['weather_conditions'][df_features['weather_conditions']==-1].count()"
      ],
      "metadata": {
        "id": "sKB7BwpRJfgx"
      },
      "execution_count": null,
      "outputs": []
    },
    {
      "cell_type": "code",
      "source": [
        "#removing all rows with (missing) data\n",
        "df_features = df_features[df_features['road_surface_conditions']!=-1]\n",
        "df_features = df_features[df_features['speed_limit']!=0]\n",
        "df_features = df_features[df_features['speed_limit']!=-1]\n",
        "\n",
        "df_features['road_surface_conditions'] = df_features['road_surface_conditions'].replace(9,0)\n",
        "df_features['road_surface_conditions'] = df_features['road_surface_conditions'].replace(3,0)\n",
        "df_features['road_surface_conditions'] = df_features['road_surface_conditions'].replace(4,0)\n",
        "df_features['road_surface_conditions'] = df_features['road_surface_conditions'].replace(1,0)\n",
        "df_features['road_surface_conditions']= df_features['road_surface_conditions'].replace(2,2)\n",
        "df_features['road_surface_conditions']= df_features['road_surface_conditions'].replace(5,2)"
      ],
      "metadata": {
        "id": "lc2io0V4Jfgx"
      },
      "execution_count": null,
      "outputs": []
    },
    {
      "cell_type": "markdown",
      "source": [
        "df_features.count()"
      ],
      "metadata": {
        "id": "p5wmVKINJfgy"
      }
    },
    {
      "cell_type": "markdown",
      "source": [
        "### Cleaning Label (accident severity) so that there are 2 classes instead of 3"
      ],
      "metadata": {
        "id": "gdsUo3M2Jfgy"
      }
    },
    {
      "cell_type": "code",
      "source": [
        "#check count for each level of accident deverity\n",
        "df_features['accident_severity'].value_counts()"
      ],
      "metadata": {
        "colab": {
          "base_uri": "https://localhost:8080/"
        },
        "outputId": "d26ace0f-9665-49a4-dbdf-650358e6b3d0",
        "id": "d0hy2hbaJfg0"
      },
      "execution_count": null,
      "outputs": [
        {
          "output_type": "execute_result",
          "data": {
            "text/plain": [
              "3    1222701\n",
              "2     230356\n",
              "1      18119\n",
              "Name: accident_severity, dtype: int64"
            ]
          },
          "metadata": {},
          "execution_count": 1914
        }
      ]
    },
    {
      "cell_type": "code",
      "source": [
        "#replace all accident severities where severiry is 2 or 3 and group them into 1 bucket (non-fatal)\n",
        "df_features['accident_severity'] = df_features['accident_severity'].replace(2,0)\n",
        "df_features['accident_severity'] = df_features['accident_severity'].replace(3,0)"
      ],
      "metadata": {
        "id": "nkcfxpqgJfg0"
      },
      "execution_count": null,
      "outputs": []
    },
    {
      "cell_type": "code",
      "source": [
        "#create 2 dataframe, 1 for each class, and print the size each\n",
        "class_1 = df_features[df_features['accident_severity'] == 1]\n",
        "class_0 = df_features[df_features['accident_severity'] == 0]\n",
        "print('class 1 (fatal):', len(class_1))\n",
        "print('class 0 (non-fatal):', len(class_0))"
      ],
      "metadata": {
        "colab": {
          "base_uri": "https://localhost:8080/"
        },
        "outputId": "b976525f-6970-45f3-a84a-9eb536692838",
        "id": "xF8wfaYIJfg1"
      },
      "execution_count": null,
      "outputs": [
        {
          "output_type": "stream",
          "name": "stdout",
          "text": [
            "class 1 (fatal): 18119\n",
            "class 0 (non-fatal): 1453057\n"
          ]
        }
      ]
    },
    {
      "cell_type": "markdown",
      "source": [
        "###Accounting for imbalance in the dataset by undersampling"
      ],
      "metadata": {
        "id": "0KjDMUlnJfg1"
      }
    },
    {
      "cell_type": "code",
      "source": [
        "#get the length of the dataset for each class/label\n",
        "class_count_0, class_count_1 = df_features['accident_severity'].value_counts()"
      ],
      "metadata": {
        "id": "5rvrhxTwJfg1"
      },
      "execution_count": null,
      "outputs": []
    },
    {
      "cell_type": "code",
      "source": [
        "#undersampling of class 0 to balance the count of data for each class/label\n",
        "class_0_under = class_0.sample(class_count_1)\n",
        "df_features_under = pd.concat([class_0_under, class_1], axis=0)"
      ],
      "metadata": {
        "id": "fOokHOCsJfg2"
      },
      "execution_count": null,
      "outputs": []
    },
    {
      "cell_type": "code",
      "source": [
        "#print the size of the new dataset for each class/label after undersampling\n",
        "class_1 = df_features_under[df_features_under['accident_severity'] == 1]\n",
        "class_0 = df_features_under[df_features_under['accident_severity'] == 0]\n",
        "print('class 1 (fatal):', len(class_1))\n",
        "print('class 0 (non-fatal):', len(class_0))"
      ],
      "metadata": {
        "colab": {
          "base_uri": "https://localhost:8080/"
        },
        "outputId": "e4c0bde1-a449-4ec0-aa4b-f2c09440b984",
        "id": "d9pYHTNWJfg2"
      },
      "execution_count": null,
      "outputs": [
        {
          "output_type": "stream",
          "name": "stdout",
          "text": [
            "class 1 (fatal): 18119\n",
            "class 0 (non-fatal): 18119\n"
          ]
        }
      ]
    },
    {
      "cell_type": "markdown",
      "source": [
        "###splitting the dataset in training and test datasets"
      ],
      "metadata": {
        "id": "IdYCbYR8Jfg2"
      }
    },
    {
      "cell_type": "code",
      "source": [
        "#splitting the dataset into training and test sets\n",
        "train_features_under, test_features_under = train_test_split(df_features_under, test_size=0.25)"
      ],
      "metadata": {
        "id": "uoB-zHskJfg3"
      },
      "execution_count": null,
      "outputs": []
    },
    {
      "cell_type": "code",
      "source": [
        "#pop out the label column from the train and test undersampled datasets\n",
        "train_label_under = train_features_under.pop('accident_severity')\n",
        "test_label_under = test_features_under.pop('accident_severity')"
      ],
      "metadata": {
        "id": "oI0O9P-YJfg3"
      },
      "execution_count": null,
      "outputs": []
    },
    {
      "cell_type": "markdown",
      "source": [
        "## DNN Classifier"
      ],
      "metadata": {
        "id": "_ycFHlDOJfg4"
      }
    },
    {
      "cell_type": "markdown",
      "source": [
        "###defining input function, creating classifier, training classifer"
      ],
      "metadata": {
        "id": "adEZpVNHJfg4"
      }
    },
    {
      "cell_type": "code",
      "source": [
        "def input_fn(features, labels, training=True, batch_size=344):\n",
        "    # Convert the inputs to a Dataset.\n",
        "    dataset = tf.data.Dataset.from_tensor_slices((dict(features), labels))\n",
        "    # Shuffle and repeat if you are in training mode.\n",
        "    if training:\n",
        "        dataset = dataset.shuffle(1000).repeat()\n",
        "    return dataset.batch(batch_size)"
      ],
      "metadata": {
        "id": "0YIa2nVuJfg4"
      },
      "execution_count": null,
      "outputs": []
    },
    {
      "cell_type": "code",
      "source": [
        "# creating a tensorflow Feature column list\n",
        "my_feature_columns = []\n",
        "for key in train_features_under.keys():\n",
        "    my_feature_columns.append(tf.feature_column.numeric_column(key=key))\n",
        "my_feature_columns"
      ],
      "metadata": {
        "colab": {
          "base_uri": "https://localhost:8080/"
        },
        "outputId": "a4929ee7-246e-4edf-b94a-9b76d3dd5788",
        "id": "lZJADMIzJfg5"
      },
      "execution_count": null,
      "outputs": [
        {
          "output_type": "execute_result",
          "data": {
            "text/plain": [
              "[NumericColumn(key='speed_limit', shape=(1,), default_value=None, dtype=tf.float32, normalizer_fn=None),\n",
              " NumericColumn(key='road_surface_conditions', shape=(1,), default_value=None, dtype=tf.float32, normalizer_fn=None)]"
            ]
          },
          "metadata": {},
          "execution_count": 1963
        }
      ]
    },
    {
      "cell_type": "code",
      "source": [
        "# Build a DNN with 2 hidden layers with 30 and 10 hidden nodes each.\n",
        "classifier = tf.estimator.DNNClassifier(\n",
        "    feature_columns=my_feature_columns,\n",
        "    # Two hidden layers of 30 and 10 nodes respectively.\n",
        "    hidden_units=[30, 10],\n",
        "    # The model must choose between 2 classes.\n",
        "    n_classes=2)"
      ],
      "metadata": {
        "colab": {
          "base_uri": "https://localhost:8080/"
        },
        "outputId": "a0f70103-7e7b-4393-e23a-2e5c04e67074",
        "id": "_uJipr6VJfg5"
      },
      "execution_count": null,
      "outputs": [
        {
          "output_type": "stream",
          "name": "stdout",
          "text": [
            "INFO:tensorflow:Using default config.\n",
            "WARNING:tensorflow:Using temporary folder as model directory: /tmp/tmpbgxr_qzl\n",
            "INFO:tensorflow:Using config: {'_model_dir': '/tmp/tmpbgxr_qzl', '_tf_random_seed': None, '_save_summary_steps': 100, '_save_checkpoints_steps': None, '_save_checkpoints_secs': 600, '_session_config': allow_soft_placement: true\n",
            "graph_options {\n",
            "  rewrite_options {\n",
            "    meta_optimizer_iterations: ONE\n",
            "  }\n",
            "}\n",
            ", '_keep_checkpoint_max': 5, '_keep_checkpoint_every_n_hours': 10000, '_log_step_count_steps': 100, '_train_distribute': None, '_device_fn': None, '_protocol': None, '_eval_distribute': None, '_experimental_distribute': None, '_experimental_max_worker_delay_secs': None, '_session_creation_timeout_secs': 7200, '_checkpoint_save_graph_def': True, '_service': None, '_cluster_spec': ClusterSpec({}), '_task_type': 'worker', '_task_id': 0, '_global_id_in_cluster': 0, '_master': '', '_evaluation_master': '', '_is_chief': True, '_num_ps_replicas': 0, '_num_worker_replicas': 1}\n"
          ]
        }
      ]
    },
    {
      "cell_type": "code",
      "source": [
        "classifier.train(input_fn=lambda: input_fn(train_features_under, train_label_under, training=True),steps=2000)\n",
        "# We include a lambda to avoid creating an inner function "
      ],
      "metadata": {
        "colab": {
          "base_uri": "https://localhost:8080/"
        },
        "outputId": "acfc1e8d-b53a-4d71-82bb-874221a3bbd4",
        "id": "Nfkza_FgJfg5"
      },
      "execution_count": null,
      "outputs": [
        {
          "output_type": "stream",
          "name": "stdout",
          "text": [
            "INFO:tensorflow:Calling model_fn.\n",
            "INFO:tensorflow:Done calling model_fn.\n",
            "INFO:tensorflow:Create CheckpointSaverHook.\n",
            "INFO:tensorflow:Graph was finalized.\n",
            "INFO:tensorflow:Running local_init_op.\n",
            "INFO:tensorflow:Done running local_init_op.\n",
            "INFO:tensorflow:Calling checkpoint listeners before saving checkpoint 0...\n",
            "INFO:tensorflow:Saving checkpoints for 0 into /tmp/tmpbgxr_qzl/model.ckpt.\n",
            "INFO:tensorflow:Calling checkpoint listeners after saving checkpoint 0...\n",
            "INFO:tensorflow:loss = 0.7071343, step = 0\n",
            "INFO:tensorflow:global_step/sec: 239.11\n",
            "INFO:tensorflow:loss = 0.68440235, step = 100 (0.421 sec)\n",
            "INFO:tensorflow:global_step/sec: 317.963\n",
            "INFO:tensorflow:loss = 0.69962114, step = 200 (0.321 sec)\n",
            "INFO:tensorflow:global_step/sec: 303.198\n",
            "INFO:tensorflow:loss = 0.68094504, step = 300 (0.324 sec)\n",
            "INFO:tensorflow:global_step/sec: 321.775\n",
            "INFO:tensorflow:loss = 0.70301944, step = 400 (0.313 sec)\n",
            "INFO:tensorflow:global_step/sec: 335.325\n",
            "INFO:tensorflow:loss = 0.6929334, step = 500 (0.297 sec)\n",
            "INFO:tensorflow:global_step/sec: 334.291\n",
            "INFO:tensorflow:loss = 0.66507614, step = 600 (0.301 sec)\n",
            "INFO:tensorflow:global_step/sec: 344.512\n",
            "INFO:tensorflow:loss = 0.6937313, step = 700 (0.286 sec)\n",
            "INFO:tensorflow:global_step/sec: 356.264\n",
            "INFO:tensorflow:loss = 0.69188297, step = 800 (0.283 sec)\n",
            "INFO:tensorflow:global_step/sec: 344.216\n",
            "INFO:tensorflow:loss = 0.67837965, step = 900 (0.288 sec)\n",
            "INFO:tensorflow:global_step/sec: 366.161\n",
            "INFO:tensorflow:loss = 0.681107, step = 1000 (0.276 sec)\n",
            "INFO:tensorflow:global_step/sec: 323.061\n",
            "INFO:tensorflow:loss = 0.69032925, step = 1100 (0.307 sec)\n",
            "INFO:tensorflow:global_step/sec: 354.515\n",
            "INFO:tensorflow:loss = 0.6940744, step = 1200 (0.282 sec)\n",
            "INFO:tensorflow:global_step/sec: 339.17\n",
            "INFO:tensorflow:loss = 0.6898541, step = 1300 (0.298 sec)\n",
            "INFO:tensorflow:global_step/sec: 318.3\n",
            "INFO:tensorflow:loss = 0.6619545, step = 1400 (0.311 sec)\n",
            "INFO:tensorflow:global_step/sec: 329.226\n",
            "INFO:tensorflow:loss = 0.67489517, step = 1500 (0.307 sec)\n",
            "INFO:tensorflow:global_step/sec: 357.51\n",
            "INFO:tensorflow:loss = 0.67695194, step = 1600 (0.280 sec)\n",
            "INFO:tensorflow:global_step/sec: 343.154\n",
            "INFO:tensorflow:loss = 0.69113326, step = 1700 (0.293 sec)\n",
            "INFO:tensorflow:global_step/sec: 346.43\n",
            "INFO:tensorflow:loss = 0.6733971, step = 1800 (0.285 sec)\n",
            "INFO:tensorflow:global_step/sec: 329.988\n",
            "INFO:tensorflow:loss = 0.68084294, step = 1900 (0.302 sec)\n",
            "INFO:tensorflow:Calling checkpoint listeners before saving checkpoint 2000...\n",
            "INFO:tensorflow:Saving checkpoints for 2000 into /tmp/tmpbgxr_qzl/model.ckpt.\n",
            "INFO:tensorflow:Calling checkpoint listeners after saving checkpoint 2000...\n",
            "INFO:tensorflow:Loss for final step: 0.6779416.\n"
          ]
        },
        {
          "output_type": "execute_result",
          "data": {
            "text/plain": [
              "<tensorflow_estimator.python.estimator.canned.dnn.DNNClassifierV2 at 0x7f11a7584f10>"
            ]
          },
          "metadata": {},
          "execution_count": 1965
        }
      ]
    },
    {
      "cell_type": "markdown",
      "source": [
        "###Evaluating Classifier"
      ],
      "metadata": {
        "id": "is9SxqGVJfg6"
      }
    },
    {
      "cell_type": "code",
      "source": [
        "#determine the accurracy of th classifier\n",
        "eval_result = classifier.evaluate(\n",
        "    input_fn=lambda: input_fn(test_features_under, test_label_under, training=False))\n",
        "print('\\nTest set accuracy: {accuracy:0.3f}\\n'.format(**eval_result))"
      ],
      "metadata": {
        "colab": {
          "base_uri": "https://localhost:8080/"
        },
        "outputId": "cefd07dc-bad7-44f2-a0ab-e359c1e0e55e",
        "id": "azwZyiviJfg6"
      },
      "execution_count": null,
      "outputs": [
        {
          "output_type": "stream",
          "name": "stdout",
          "text": [
            "INFO:tensorflow:Calling model_fn.\n",
            "INFO:tensorflow:Done calling model_fn.\n",
            "INFO:tensorflow:Starting evaluation at 2022-04-08T14:56:48\n",
            "INFO:tensorflow:Graph was finalized.\n",
            "INFO:tensorflow:Restoring parameters from /tmp/tmpbgxr_qzl/model.ckpt-2000\n",
            "INFO:tensorflow:Running local_init_op.\n",
            "INFO:tensorflow:Done running local_init_op.\n",
            "INFO:tensorflow:Inference Time : 0.89138s\n",
            "INFO:tensorflow:Finished evaluation at 2022-04-08-14:56:48\n",
            "INFO:tensorflow:Saving dict for global step 2000: accuracy = 0.5296909, accuracy_baseline = 0.502649, auc = 0.60669506, auc_precision_recall = 0.6162578, average_loss = 0.6774239, global_step = 2000, label/mean = 0.502649, loss = 0.6770207, precision = 0.5197573, prediction/mean = 0.53902894, recall = 0.846289\n",
            "INFO:tensorflow:Saving 'checkpoint_path' summary for global step 2000: /tmp/tmpbgxr_qzl/model.ckpt-2000\n",
            "\n",
            "Test set accuracy: 0.530\n",
            "\n"
          ]
        }
      ]
    },
    {
      "cell_type": "code",
      "source": [
        "#create predictions list for all test set\n",
        "predictions_under = list(classifier.predict(input_fn=lambda: input_fn(test_features_under, test_label_under, training=False)))"
      ],
      "metadata": {
        "outputId": "23eed392-cd66-4772-f242-482e471b8b5d",
        "colab": {
          "base_uri": "https://localhost:8080/"
        },
        "id": "bh0JKyDaJfg6"
      },
      "execution_count": null,
      "outputs": [
        {
          "output_type": "stream",
          "name": "stdout",
          "text": [
            "INFO:tensorflow:Calling model_fn.\n",
            "INFO:tensorflow:Done calling model_fn.\n",
            "INFO:tensorflow:Graph was finalized.\n",
            "INFO:tensorflow:Restoring parameters from /tmp/tmpbgxr_qzl/model.ckpt-2000\n",
            "INFO:tensorflow:Running local_init_op.\n",
            "INFO:tensorflow:Done running local_init_op.\n"
          ]
        }
      ]
    },
    {
      "cell_type": "code",
      "source": [
        "#create a dataframe of predictions for test set\n",
        "df_predictions = pd.DataFrame(predictions_under)"
      ],
      "metadata": {
        "id": "FEzMhA72Jfg7"
      },
      "execution_count": null,
      "outputs": []
    },
    {
      "cell_type": "markdown",
      "source": [
        "###Plot of Results"
      ],
      "metadata": {
        "id": "ycj8kR_5Jfg7"
      }
    },
    {
      "cell_type": "code",
      "source": [
        "#add the actual matches to the prediciton dataframe\n",
        "df_predictions['actual label']=test_label_under.values"
      ],
      "metadata": {
        "id": "3L8OxMJEJfg7"
      },
      "execution_count": null,
      "outputs": []
    },
    {
      "cell_type": "code",
      "source": [
        "#add the class predicitons from the DNN to the dataframe\n",
        "df_predictions['predicted label']=pd.DataFrame.from_records(df_predictions['class_ids'])"
      ],
      "metadata": {
        "id": "AITPK55IJfg8"
      },
      "execution_count": null,
      "outputs": []
    },
    {
      "cell_type": "code",
      "source": [
        "#add a binary column to show if the dnn predictions were correct\n",
        "df_predictions['match?']=df_predictions['predicted label']-df_predictions['actual label']\n",
        "df_predictions['match?']=df_predictions['match?'].replace(0,'match')\n",
        "df_predictions['match?']=df_predictions['match?'].replace(-1,'not match')\n",
        "df_predictions['match?']=df_predictions['match?'].replace(1,'not match')"
      ],
      "metadata": {
        "id": "z5sRqhnHJfg8"
      },
      "execution_count": null,
      "outputs": []
    },
    {
      "cell_type": "code",
      "source": [
        "#view the prdictions dataframe\n",
        "df_predictions.head()"
      ],
      "metadata": {
        "colab": {
          "base_uri": "https://localhost:8080/",
          "height": 206
        },
        "outputId": "b04d638c-2d66-4e07-edb0-68ea8976431c",
        "id": "TGY4w3kAJfg8"
      },
      "execution_count": null,
      "outputs": [
        {
          "output_type": "execute_result",
          "data": {
            "text/plain": [
              "         logits     logistic            probabilities class_ids classes  \\\n",
              "0   [0.1337536]  [0.5333886]  [0.46661133, 0.5333886]       [1]  [b'1']   \n",
              "1   [0.1337536]  [0.5333886]  [0.46661133, 0.5333886]       [1]  [b'1']   \n",
              "2  [0.49256584]  [0.6207107]   [0.3792893, 0.6207107]       [1]  [b'1']   \n",
              "3   [0.1337536]  [0.5333886]  [0.46661133, 0.5333886]       [1]  [b'1']   \n",
              "4   [0.1337536]  [0.5333886]  [0.46661133, 0.5333886]       [1]  [b'1']   \n",
              "\n",
              "  all_class_ids   all_classes  actual label  predicted label     match?  \n",
              "0        [0, 1]  [b'0', b'1']             0                1  not match  \n",
              "1        [0, 1]  [b'0', b'1']             1                1      match  \n",
              "2        [0, 1]  [b'0', b'1']             1                1      match  \n",
              "3        [0, 1]  [b'0', b'1']             0                1  not match  \n",
              "4        [0, 1]  [b'0', b'1']             0                1  not match  "
            ],
            "text/html": [
              "\n",
              "  <div id=\"df-58de4bf5-1f59-4282-8e34-a62097f46b6c\">\n",
              "    <div class=\"colab-df-container\">\n",
              "      <div>\n",
              "<style scoped>\n",
              "    .dataframe tbody tr th:only-of-type {\n",
              "        vertical-align: middle;\n",
              "    }\n",
              "\n",
              "    .dataframe tbody tr th {\n",
              "        vertical-align: top;\n",
              "    }\n",
              "\n",
              "    .dataframe thead th {\n",
              "        text-align: right;\n",
              "    }\n",
              "</style>\n",
              "<table border=\"1\" class=\"dataframe\">\n",
              "  <thead>\n",
              "    <tr style=\"text-align: right;\">\n",
              "      <th></th>\n",
              "      <th>logits</th>\n",
              "      <th>logistic</th>\n",
              "      <th>probabilities</th>\n",
              "      <th>class_ids</th>\n",
              "      <th>classes</th>\n",
              "      <th>all_class_ids</th>\n",
              "      <th>all_classes</th>\n",
              "      <th>actual label</th>\n",
              "      <th>predicted label</th>\n",
              "      <th>match?</th>\n",
              "    </tr>\n",
              "  </thead>\n",
              "  <tbody>\n",
              "    <tr>\n",
              "      <th>0</th>\n",
              "      <td>[0.1337536]</td>\n",
              "      <td>[0.5333886]</td>\n",
              "      <td>[0.46661133, 0.5333886]</td>\n",
              "      <td>[1]</td>\n",
              "      <td>[b'1']</td>\n",
              "      <td>[0, 1]</td>\n",
              "      <td>[b'0', b'1']</td>\n",
              "      <td>0</td>\n",
              "      <td>1</td>\n",
              "      <td>not match</td>\n",
              "    </tr>\n",
              "    <tr>\n",
              "      <th>1</th>\n",
              "      <td>[0.1337536]</td>\n",
              "      <td>[0.5333886]</td>\n",
              "      <td>[0.46661133, 0.5333886]</td>\n",
              "      <td>[1]</td>\n",
              "      <td>[b'1']</td>\n",
              "      <td>[0, 1]</td>\n",
              "      <td>[b'0', b'1']</td>\n",
              "      <td>1</td>\n",
              "      <td>1</td>\n",
              "      <td>match</td>\n",
              "    </tr>\n",
              "    <tr>\n",
              "      <th>2</th>\n",
              "      <td>[0.49256584]</td>\n",
              "      <td>[0.6207107]</td>\n",
              "      <td>[0.3792893, 0.6207107]</td>\n",
              "      <td>[1]</td>\n",
              "      <td>[b'1']</td>\n",
              "      <td>[0, 1]</td>\n",
              "      <td>[b'0', b'1']</td>\n",
              "      <td>1</td>\n",
              "      <td>1</td>\n",
              "      <td>match</td>\n",
              "    </tr>\n",
              "    <tr>\n",
              "      <th>3</th>\n",
              "      <td>[0.1337536]</td>\n",
              "      <td>[0.5333886]</td>\n",
              "      <td>[0.46661133, 0.5333886]</td>\n",
              "      <td>[1]</td>\n",
              "      <td>[b'1']</td>\n",
              "      <td>[0, 1]</td>\n",
              "      <td>[b'0', b'1']</td>\n",
              "      <td>0</td>\n",
              "      <td>1</td>\n",
              "      <td>not match</td>\n",
              "    </tr>\n",
              "    <tr>\n",
              "      <th>4</th>\n",
              "      <td>[0.1337536]</td>\n",
              "      <td>[0.5333886]</td>\n",
              "      <td>[0.46661133, 0.5333886]</td>\n",
              "      <td>[1]</td>\n",
              "      <td>[b'1']</td>\n",
              "      <td>[0, 1]</td>\n",
              "      <td>[b'0', b'1']</td>\n",
              "      <td>0</td>\n",
              "      <td>1</td>\n",
              "      <td>not match</td>\n",
              "    </tr>\n",
              "  </tbody>\n",
              "</table>\n",
              "</div>\n",
              "      <button class=\"colab-df-convert\" onclick=\"convertToInteractive('df-58de4bf5-1f59-4282-8e34-a62097f46b6c')\"\n",
              "              title=\"Convert this dataframe to an interactive table.\"\n",
              "              style=\"display:none;\">\n",
              "        \n",
              "  <svg xmlns=\"http://www.w3.org/2000/svg\" height=\"24px\"viewBox=\"0 0 24 24\"\n",
              "       width=\"24px\">\n",
              "    <path d=\"M0 0h24v24H0V0z\" fill=\"none\"/>\n",
              "    <path d=\"M18.56 5.44l.94 2.06.94-2.06 2.06-.94-2.06-.94-.94-2.06-.94 2.06-2.06.94zm-11 1L8.5 8.5l.94-2.06 2.06-.94-2.06-.94L8.5 2.5l-.94 2.06-2.06.94zm10 10l.94 2.06.94-2.06 2.06-.94-2.06-.94-.94-2.06-.94 2.06-2.06.94z\"/><path d=\"M17.41 7.96l-1.37-1.37c-.4-.4-.92-.59-1.43-.59-.52 0-1.04.2-1.43.59L10.3 9.45l-7.72 7.72c-.78.78-.78 2.05 0 2.83L4 21.41c.39.39.9.59 1.41.59.51 0 1.02-.2 1.41-.59l7.78-7.78 2.81-2.81c.8-.78.8-2.07 0-2.86zM5.41 20L4 18.59l7.72-7.72 1.47 1.35L5.41 20z\"/>\n",
              "  </svg>\n",
              "      </button>\n",
              "      \n",
              "  <style>\n",
              "    .colab-df-container {\n",
              "      display:flex;\n",
              "      flex-wrap:wrap;\n",
              "      gap: 12px;\n",
              "    }\n",
              "\n",
              "    .colab-df-convert {\n",
              "      background-color: #E8F0FE;\n",
              "      border: none;\n",
              "      border-radius: 50%;\n",
              "      cursor: pointer;\n",
              "      display: none;\n",
              "      fill: #1967D2;\n",
              "      height: 32px;\n",
              "      padding: 0 0 0 0;\n",
              "      width: 32px;\n",
              "    }\n",
              "\n",
              "    .colab-df-convert:hover {\n",
              "      background-color: #E2EBFA;\n",
              "      box-shadow: 0px 1px 2px rgba(60, 64, 67, 0.3), 0px 1px 3px 1px rgba(60, 64, 67, 0.15);\n",
              "      fill: #174EA6;\n",
              "    }\n",
              "\n",
              "    [theme=dark] .colab-df-convert {\n",
              "      background-color: #3B4455;\n",
              "      fill: #D2E3FC;\n",
              "    }\n",
              "\n",
              "    [theme=dark] .colab-df-convert:hover {\n",
              "      background-color: #434B5C;\n",
              "      box-shadow: 0px 1px 3px 1px rgba(0, 0, 0, 0.15);\n",
              "      filter: drop-shadow(0px 1px 2px rgba(0, 0, 0, 0.3));\n",
              "      fill: #FFFFFF;\n",
              "    }\n",
              "  </style>\n",
              "\n",
              "      <script>\n",
              "        const buttonEl =\n",
              "          document.querySelector('#df-58de4bf5-1f59-4282-8e34-a62097f46b6c button.colab-df-convert');\n",
              "        buttonEl.style.display =\n",
              "          google.colab.kernel.accessAllowed ? 'block' : 'none';\n",
              "\n",
              "        async function convertToInteractive(key) {\n",
              "          const element = document.querySelector('#df-58de4bf5-1f59-4282-8e34-a62097f46b6c');\n",
              "          const dataTable =\n",
              "            await google.colab.kernel.invokeFunction('convertToInteractive',\n",
              "                                                     [key], {});\n",
              "          if (!dataTable) return;\n",
              "\n",
              "          const docLinkHtml = 'Like what you see? Visit the ' +\n",
              "            '<a target=\"_blank\" href=https://colab.research.google.com/notebooks/data_table.ipynb>data table notebook</a>'\n",
              "            + ' to learn more about interactive tables.';\n",
              "          element.innerHTML = '';\n",
              "          dataTable['output_type'] = 'display_data';\n",
              "          await google.colab.output.renderOutput(dataTable, element);\n",
              "          const docLink = document.createElement('div');\n",
              "          docLink.innerHTML = docLinkHtml;\n",
              "          element.appendChild(docLink);\n",
              "        }\n",
              "      </script>\n",
              "    </div>\n",
              "  </div>\n",
              "  "
            ]
          },
          "metadata": {},
          "execution_count": 1972
        }
      ]
    },
    {
      "cell_type": "code",
      "source": [
        "#create a new dataframe showing only the correct predictions\n",
        "correct_predictions = df_predictions[df_predictions['match?']=='match']\n",
        "#get the count of the correct predctions for eah label\n",
        "correct_pred_count_label_0 , correct_pred_count_label_1 = correct_predictions['predicted label'].value_counts()\n",
        "#get the actual label count for each label\n",
        "actual_count_label_0 , actual_count_label_1 = df_predictions['actual label'].value_counts()"
      ],
      "metadata": {
        "id": "1MeFfnPxJfg9"
      },
      "execution_count": null,
      "outputs": []
    },
    {
      "cell_type": "code",
      "source": [
        "#get the accuracy of each labels predictions\n",
        "accuracy_label_0,accuracy_label_1 = correct_pred_count_label_0/actual_count_label_0 , correct_pred_count_label_1/actual_count_label_1\n",
        "accuracy=accuracy_label_0*100,accuracy_label_1*100\n",
        "accuracy=pd.Series(accuracy)\n",
        "print('Accuracy of label 0 (non-fatal): ', accuracy_label_0, '\\nAccuracy of label 1 (fatal): ', accuracy_label_1)"
      ],
      "metadata": {
        "colab": {
          "base_uri": "https://localhost:8080/"
        },
        "outputId": "fcfa4547-fdd7-413a-cdb0-629e5b55877b",
        "id": "JMh0n5o_Jfg9"
      },
      "execution_count": null,
      "outputs": [
        {
          "output_type": "stream",
          "name": "stdout",
          "text": [
            "Accuracy of label 0 (non-fatal):  0.8462889767237594 \n",
            "Accuracy of label 1 (fatal):  0.2097203728362184\n"
          ]
        }
      ]
    },
    {
      "cell_type": "code",
      "source": [
        "#plot the accuracy of each labels predictions\n",
        "fig, axes = plt.subplots(figsize=(18, 10))\n",
        "accuracy.plot(kind='barh')\n",
        "plt.yticks((0,1), ('non-Fatal accident', 'Fatal accident'))\n",
        "plt.xticks((0,10,20,30,40,50,60), ('0%', '10%','20%','30%','40%','50%','60%'))\n",
        "plt.xlabel('prectange accuracy')\n",
        "plt.title('percentage accuracy for each class/label')"
      ],
      "metadata": {
        "colab": {
          "base_uri": "https://localhost:8080/",
          "height": 639
        },
        "outputId": "0e2f833a-59e8-4f03-e72d-d816df0b525f",
        "id": "jpKjeySzJfg9"
      },
      "execution_count": null,
      "outputs": [
        {
          "output_type": "execute_result",
          "data": {
            "text/plain": [
              "Text(0.5, 1.0, 'percentage accuracy for each class/label')"
            ]
          },
          "metadata": {},
          "execution_count": 1975
        },
        {
          "output_type": "display_data",
          "data": {
            "text/plain": [
              "<Figure size 1296x720 with 1 Axes>"
            ],
            "image/png": "[encoded data removed]"
          },
          "metadata": {
            "needs_background": "light"
          }
        }
      ]
    }
  ]
}