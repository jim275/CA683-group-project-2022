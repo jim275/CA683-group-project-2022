{
  "nbformat": 4,
  "nbformat_minor": 0,
  "metadata": {
    "colab": {
      "name": "CA683 DNN .ipynb",
      "provenance": [],
      "collapsed_sections": [
        "fXnvBLDysEgb",
        "szeeQrxUiI5O",
        "9U4UVH2tiR59",
        "ZFmM3eyrWSmD",
        "Z2hq4azLZP0q",
        "fPTlbO4fi89J",
        "T7-vFlYIqkdH",
        "QsfhNofwqxHX",
        "YAO07jYS_Ot3",
        "_DtYRqYgrEDd",
        "7m_mQ38dtgRo",
        "Poobt2fy5GqN",
        "dG_T2CK7_a5X",
        "ML2YnC8B_a5Z",
        "rfIHgF-j_a5a",
        "dYgubRIt_a5e",
        "JacxnjhB_a5f",
        "W6m9Et_v_a5g",
        "iPkCNr9h_a5h",
        "kYc-RI4M_a5h",
        "wsJhPpSU_a5j",
        "ts91q6K2_a5l",
        "vjGQGY5tBHGK",
        "6h0GX1OzBHGZ",
        "at_zulqLBHGb",
        "p7rBMxdbBHGd",
        "PXoO-diEFc02",
        "9efkUu_qFc03",
        "DKjkUQIGFc03",
        "EB_AiHNfFc08",
        "RMY7KSveFc0_",
        "9LmMygiwFc1B",
        "Z_VPS7aoFc1D",
        "y_4S_lixFc1E",
        "0gcDab-GG-Ld",
        "T_Bgs1olG-Le",
        "9lkxn1y3G-Lf",
        "o61RcWc4G-Lq",
        "BqblYh8lG-Lq",
        "lHAj7siVG-Ls",
        "uUp6SYq9G-Lt",
        "JHloOz2-Hbx5",
        "XdI6eCNKHbx6",
        "wVeP2pQFHbx7",
        "3bPFpTUiHbyB",
        "gMpxqcvmHbyD",
        "oaQskrmKHbyE",
        "jpLkBOhyHbyF",
        "W7s-pDCpHbyH",
        "9Hn6odfsJfgs",
        "G9SinMkZJfgt",
        "gdsUo3M2Jfgy",
        "_ycFHlDOJfg4",
        "adEZpVNHJfg4",
        "is9SxqGVJfg6",
        "ycj8kR_5Jfg7"
      ],
      "toc_visible": true
    },
    "kernelspec": {
      "name": "python3",
      "display_name": "Python 3"
    },
    "language_info": {
      "name": "python"
    }
  },
  "cells": [
    {
      "cell_type": "markdown",
      "source": [
        "#Imports,reading data and checking correlation between features"
      ],
      "metadata": {
        "id": "fXnvBLDysEgb"
      }
    },
    {
      "cell_type": "markdown",
      "source": [
        "##importing libraries, reading data"
      ],
      "metadata": {
        "id": "szeeQrxUiI5O"
      }
    },
    {
      "cell_type": "code",
      "execution_count": null,
      "metadata": {
        "id": "QMHHG7znF4S3",
        "colab": {
          "base_uri": "https://localhost:8080/"
        },
        "outputId": "02e2ba8e-b4c6-4e27-e6d9-372237de6368"
      },
      "outputs": [
        {
          "output_type": "stream",
          "name": "stderr",
          "text": [
            "/usr/local/lib/python3.7/dist-packages/statsmodels/tools/_testing.py:19: FutureWarning: pandas.util.testing is deprecated. Use the functions in the public API at pandas.testing instead.\n",
            "  import pandas.util.testing as tm\n"
          ]
        }
      ],
      "source": [
        "import pandas as pd\n",
        "import numpy as np\n",
        "from sklearn import preprocessing\n",
        "import seaborn as sns\n",
        "from statsmodels.compat import lzip\n",
        "import statsmodels.formula.api as sm\n",
        "import statsmodels.stats.stattools as st\n",
        "import statsmodels.stats.api as sms\n",
        "from sklearn.model_selection import train_test_split\n",
        "from sklearn.linear_model import LogisticRegression\n",
        "from sklearn.linear_model import LinearRegression\n",
        "from sklearn.metrics import r2_score\n",
        "import matplotlib.pyplot as plt\n",
        "import os\n",
        "import tensorflow as tf"
      ]
    },
    {
      "cell_type": "code",
      "source": [
        "#mount google drive\n",
        "from google.colab import drive\n",
        "drive.mount('/content/drive')\n",
        "#change directory and show files in it \n",
        "import os\n",
        "os.chdir(\"/content/drive/MyDrive/data for project ca683\")"
      ],
      "metadata": {
        "colab": {
          "base_uri": "https://localhost:8080/"
        },
        "id": "rfW77-CgF5-t",
        "outputId": "5f3a7fb5-91c7-4c6a-dd77-286460705f4a"
      },
      "execution_count": null,
      "outputs": [
        {
          "output_type": "stream",
          "name": "stdout",
          "text": [
            "Mounted at /content/drive\n"
          ]
        }
      ]
    },
    {
      "cell_type": "code",
      "source": [
        "df = pd.read_csv('Accidents0515.csv')"
      ],
      "metadata": {
        "id": "jr6fjvgHF_9g"
      },
      "execution_count": null,
      "outputs": []
    },
    {
      "cell_type": "markdown",
      "source": [
        "## checking correlation between features and Accident severity (label)"
      ],
      "metadata": {
        "id": "9U4UVH2tiR59"
      }
    },
    {
      "cell_type": "code",
      "source": [
        "corr = df.corr()['Accident_Severity']"
      ],
      "metadata": {
        "id": "plT_3JbYT9TP"
      },
      "execution_count": null,
      "outputs": []
    },
    {
      "cell_type": "code",
      "source": [
        "corr[corr.values>.01]"
      ],
      "metadata": {
        "colab": {
          "base_uri": "https://localhost:8080/"
        },
        "id": "odmkJnL3ULYF",
        "outputId": "6ad6bc7e-3c6c-4348-dfa2-2977ccecda63"
      },
      "execution_count": null,
      "outputs": [
        {
          "output_type": "execute_result",
          "data": {
            "text/plain": [
              "Location_Easting_OSGR                          0.016804\n",
              "Longitude                                      0.017292\n",
              "Accident_Severity                              1.000000\n",
              "Number_of_Vehicles                             0.074930\n",
              "1st_Road_Class                                 0.011923\n",
              "Junction_Detail                                0.045896\n",
              "Junction_Control                               0.068979\n",
              "2nd_Road_Class                                 0.064740\n",
              "2nd_Road_Number                                0.025432\n",
              "Weather_Conditions                             0.021672\n",
              "Did_Police_Officer_Attend_Scene_of_Accident    0.115559\n",
              "Name: Accident_Severity, dtype: float64"
            ]
          },
          "metadata": {},
          "execution_count": 5
        }
      ]
    },
    {
      "cell_type": "code",
      "source": [
        "corr[corr.values<-.03]"
      ],
      "metadata": {
        "colab": {
          "base_uri": "https://localhost:8080/"
        },
        "id": "1fW2UTGuihZl",
        "outputId": "7b6ea185-e7ff-4a3b-9488-fd98a110d7d9"
      },
      "execution_count": null,
      "outputs": [
        {
          "output_type": "execute_result",
          "data": {
            "text/plain": [
              "Location_Northing_OSGR       -0.032726\n",
              "Latitude                     -0.032694\n",
              "Police_Force                 -0.036083\n",
              "Number_of_Casualties         -0.084122\n",
              "Local_Authority_(District)   -0.036683\n",
              "Road_Type                    -0.038998\n",
              "Speed_limit                  -0.080647\n",
              "Light_Conditions             -0.063286\n",
              "Urban_or_Rural_Area          -0.083913\n",
              "Name: Accident_Severity, dtype: float64"
            ]
          },
          "metadata": {},
          "execution_count": 6
        }
      ]
    },
    {
      "cell_type": "code",
      "source": [
        "fig, axes = plt.subplots(figsize=(18, 10))\n",
        "sns.heatmap(df.corr())"
      ],
      "metadata": {
        "colab": {
          "base_uri": "https://localhost:8080/",
          "height": 73
        },
        "id": "QLuF2VVlSnAc",
        "outputId": "fd7e730e-f3be-497c-ac32-054c0581cd6d"
      },
      "execution_count": null,
      "outputs": [
        {
          "output_type": "execute_result",
          "data": {
            "text/plain": [
              "<matplotlib.axes._subplots.AxesSubplot at 0x7f224358df10>"
            ]
          },
          "metadata": {},
          "execution_count": 7
        },
        {
          "output_type": "display_data",
          "data": {
            "text/plain": [
              "<Figure size 1296x720 with 2 Axes>"
            ],
            "image/png": "[encoded data removed]"
          },
          "metadata": {
            "needs_background": "light"
          }
        }
      ]
    },
    {
      "cell_type": "markdown",
      "source": [
        "#DNN Iteration 1 - Features: 'Weather_Conditions','Speed_limit'"
      ],
      "metadata": {
        "id": "ZFmM3eyrWSmD"
      }
    },
    {
      "cell_type": "markdown",
      "source": [
        "##Features"
      ],
      "metadata": {
        "id": "Z2hq4azLZP0q"
      }
    },
    {
      "cell_type": "markdown",
      "source": [
        "###Seleceting Features, checking correlation between them, cleaning missing data"
      ],
      "metadata": {
        "id": "fPTlbO4fi89J"
      }
    },
    {
      "cell_type": "code",
      "source": [
        "df_features = df[['Weather_Conditions', 'Speed_limit', 'Accident_Severity']]"
      ],
      "metadata": {
        "id": "8YPaOyXSGCqv"
      },
      "execution_count": null,
      "outputs": []
    },
    {
      "cell_type": "code",
      "source": [
        "#checking correlation between features\n",
        "df_features.corr()\n",
        "sns.heatmap(df_features.corr())"
      ],
      "metadata": {
        "colab": {
          "base_uri": "https://localhost:8080/",
          "height": 73
        },
        "id": "mpYjZOSqGJUH",
        "outputId": "3c77b2ce-d301-4dd0-9c17-504a5a085129"
      },
      "execution_count": null,
      "outputs": [
        {
          "output_type": "execute_result",
          "data": {
            "text/plain": [
              "<matplotlib.axes._subplots.AxesSubplot at 0x7f223a47e650>"
            ]
          },
          "metadata": {},
          "execution_count": 9
        },
        {
          "output_type": "display_data",
          "data": {
            "text/plain": [
              "<Figure size 432x288 with 2 Axes>"
            ],
            "image/png": "[encoded data removed]"
          },
          "metadata": {
            "needs_background": "light"
          }
        }
      ]
    },
    {
      "cell_type": "code",
      "source": [
        "#checking which values have missing data, note missing data is recorded as -1\n",
        "df_features.min()"
      ],
      "metadata": {
        "colab": {
          "base_uri": "https://localhost:8080/"
        },
        "id": "zTylPeM6GMbu",
        "outputId": "4ebae69f-fda6-4e58-d2ca-19e29f8733bc"
      },
      "execution_count": null,
      "outputs": [
        {
          "output_type": "execute_result",
          "data": {
            "text/plain": [
              "Weather_Conditions   -1\n",
              "Speed_limit           0\n",
              "Accident_Severity     1\n",
              "dtype: int64"
            ]
          },
          "metadata": {},
          "execution_count": 10
        }
      ]
    },
    {
      "cell_type": "code",
      "source": [
        "#there are 161 accident that do not have recorded weather conditions, will drop these\n",
        "df_features['Weather_Conditions'][df_features['Weather_Conditions']==-1].count()"
      ],
      "metadata": {
        "colab": {
          "base_uri": "https://localhost:8080/"
        },
        "id": "N5eepXtIGQKz",
        "outputId": "1448de8a-43b6-4980-a679-fa2d82596fc3"
      },
      "execution_count": null,
      "outputs": [
        {
          "output_type": "execute_result",
          "data": {
            "text/plain": [
              "161"
            ]
          },
          "metadata": {},
          "execution_count": 11
        }
      ]
    },
    {
      "cell_type": "code",
      "source": [
        "#removing all rows with (missing) data\n",
        "df_features = df_features[df_features['Weather_Conditions']!=-1]\n",
        "df_features = df_features[df_features['Speed_limit']!=0]"
      ],
      "metadata": {
        "id": "zXR2v671GR1d"
      },
      "execution_count": null,
      "outputs": []
    },
    {
      "cell_type": "markdown",
      "source": [
        "df_features.count()"
      ],
      "metadata": {
        "id": "J7HObrM4qjhR"
      }
    },
    {
      "cell_type": "markdown",
      "source": [
        "### Cleaning Label (accident severity) so that there are 2 classes instead of 3"
      ],
      "metadata": {
        "id": "T7-vFlYIqkdH"
      }
    },
    {
      "cell_type": "code",
      "source": [
        "#check count for each level of accident deverity\n",
        "df_features['Accident_Severity'].value_counts()"
      ],
      "metadata": {
        "colab": {
          "base_uri": "https://localhost:8080/"
        },
        "id": "xrp3iXSWGVom",
        "outputId": "76c67a27-78c7-438f-a88e-262087dfa008"
      },
      "execution_count": null,
      "outputs": [
        {
          "output_type": "execute_result",
          "data": {
            "text/plain": [
              "3    1515429\n",
              "2     242067\n",
              "1      22995\n",
              "Name: Accident_Severity, dtype: int64"
            ]
          },
          "metadata": {},
          "execution_count": 13
        }
      ]
    },
    {
      "cell_type": "code",
      "source": [
        "#replace all accident severities where severiry is 2 or 3 and group them into 1 bucket (non-fatal)\n",
        "df_features['Accident_Severity'] = df_features['Accident_Severity'].replace(2,0)\n",
        "df_features['Accident_Severity'] = df_features['Accident_Severity'].replace(3,0)"
      ],
      "metadata": {
        "id": "S46-vEt-IIdt"
      },
      "execution_count": null,
      "outputs": []
    },
    {
      "cell_type": "code",
      "source": [
        "#create 2 dataframe, 1 for each class, and print the size each\n",
        "class_1 = df_features[df_features['Accident_Severity'] == 1]\n",
        "class_0 = df_features[df_features['Accident_Severity'] == 0]\n",
        "print('class 1 (fatal):', len(class_1))\n",
        "print('class 0 (non-fatal):', len(class_0))"
      ],
      "metadata": {
        "colab": {
          "base_uri": "https://localhost:8080/"
        },
        "id": "Si2pFQVpGYed",
        "outputId": "8f52f917-80cb-4cfb-c923-877ff4ca9d60"
      },
      "execution_count": null,
      "outputs": [
        {
          "output_type": "stream",
          "name": "stdout",
          "text": [
            "class 1 (fatal): 22995\n",
            "class 0 (non-fatal): 1757496\n"
          ]
        }
      ]
    },
    {
      "cell_type": "markdown",
      "source": [
        "###Accounting for imbalance in the dataset by undersampling"
      ],
      "metadata": {
        "id": "QsfhNofwqxHX"
      }
    },
    {
      "cell_type": "code",
      "source": [
        "#get the length of the dataset for each class/label\n",
        "class_count_0, class_count_1 = df_features['Accident_Severity'].value_counts()"
      ],
      "metadata": {
        "id": "jlbwQRYkGXO7"
      },
      "execution_count": null,
      "outputs": []
    },
    {
      "cell_type": "code",
      "source": [
        "#undersampling of class 0 to balance the count of data for each class/label\n",
        "class_0_under = class_0.sample(class_count_1)\n",
        "df_features_under = pd.concat([class_0_under, class_1], axis=0)"
      ],
      "metadata": {
        "id": "rcfNAlgKGZ45"
      },
      "execution_count": null,
      "outputs": []
    },
    {
      "cell_type": "code",
      "source": [
        "#print the size of the new dataset for each class/label after undersampling\n",
        "class_1 = df_features_under[df_features_under['Accident_Severity'] == 1]\n",
        "class_0 = df_features_under[df_features_under['Accident_Severity'] == 0]\n",
        "print('class 1 (fatal):', len(class_1))\n",
        "print('class 0 (non-fatal):', len(class_0))"
      ],
      "metadata": {
        "colab": {
          "base_uri": "https://localhost:8080/"
        },
        "id": "KW-bGJSdGbPy",
        "outputId": "04ae58a3-0c50-4ab3-cddf-5fc83a00f39a"
      },
      "execution_count": null,
      "outputs": [
        {
          "output_type": "stream",
          "name": "stdout",
          "text": [
            "class 1 (fatal): 22995\n",
            "class 0 (non-fatal): 22995\n"
          ]
        }
      ]
    },
    {
      "cell_type": "markdown",
      "source": [
        "###splitting the dataset in training and test datasets"
      ],
      "metadata": {
        "id": "8HV78KRBq6w7"
      }
    },
    {
      "cell_type": "code",
      "source": [
        "#splitting the dataset into training and test sets\n",
        "train_features_under, test_features_under = train_test_split(df_features_under, test_size=0.25)"
      ],
      "metadata": {
        "id": "4jG6VXFgBkb5"
      },
      "execution_count": null,
      "outputs": []
    },
    {
      "cell_type": "code",
      "source": [
        "#pop out the label column from the train and test undersampled datasets\n",
        "train_label_under = train_features_under.pop('Accident_Severity')\n",
        "test_label_under = test_features_under.pop('Accident_Severity')"
      ],
      "metadata": {
        "id": "1BaT8flCBkb8"
      },
      "execution_count": null,
      "outputs": []
    },
    {
      "cell_type": "markdown",
      "source": [
        "## DNN Classifier"
      ],
      "metadata": {
        "id": "YAO07jYS_Ot3"
      }
    },
    {
      "cell_type": "markdown",
      "source": [
        "###defining input function, creating classifier, training classifer"
      ],
      "metadata": {
        "id": "_DtYRqYgrEDd"
      }
    },
    {
      "cell_type": "code",
      "source": [
        "def input_fn(features, labels, training=True, batch_size=344):\n",
        "    # Convert the inputs to a Dataset.\n",
        "    dataset = tf.data.Dataset.from_tensor_slices((dict(features), labels))\n",
        "    # Shuffle and repeat if you are in training mode.\n",
        "    if training:\n",
        "        dataset = dataset.shuffle(1000).repeat()\n",
        "    return dataset.batch(batch_size)"
      ],
      "metadata": {
        "id": "xF5Afw1RBkb-"
      },
      "execution_count": null,
      "outputs": []
    },
    {
      "cell_type": "code",
      "source": [
        "# creating a tensorflow Feature column list\n",
        "my_feature_columns = []\n",
        "for key in train_features_under.keys():\n",
        "    my_feature_columns.append(tf.feature_column.numeric_column(key=key))\n",
        "my_feature_columns"
      ],
      "metadata": {
        "colab": {
          "base_uri": "https://localhost:8080/"
        },
        "outputId": "1a91de18-f391-4d82-8813-5645738b2af4",
        "id": "JdrP9-6xBkb_"
      },
      "execution_count": null,
      "outputs": [
        {
          "output_type": "execute_result",
          "data": {
            "text/plain": [
              "[NumericColumn(key='Weather_Conditions', shape=(1,), default_value=None, dtype=tf.float32, normalizer_fn=None),\n",
              " NumericColumn(key='Speed_limit', shape=(1,), default_value=None, dtype=tf.float32, normalizer_fn=None)]"
            ]
          },
          "metadata": {},
          "execution_count": 110
        }
      ]
    },
    {
      "cell_type": "code",
      "source": [
        "# Build a DNN with 2 hidden layers with 30 and 10 hidden nodes each.\n",
        "classifier = tf.estimator.DNNClassifier(\n",
        "    feature_columns=my_feature_columns,\n",
        "    # Two hidden layers of 30 and 10 nodes respectively.\n",
        "    hidden_units=[30, 10],\n",
        "    # The model must choose between 2 classes.\n",
        "    n_classes=2)"
      ],
      "metadata": {
        "colab": {
          "base_uri": "https://localhost:8080/"
        },
        "outputId": "3accf93e-3fa0-48d7-993b-e9c0a53d35a0",
        "id": "PgxqnyxhBkcA"
      },
      "execution_count": null,
      "outputs": [
        {
          "output_type": "stream",
          "name": "stdout",
          "text": [
            "INFO:tensorflow:Using default config.\n",
            "WARNING:tensorflow:Using temporary folder as model directory: /tmp/tmpz1oxit2u\n",
            "INFO:tensorflow:Using config: {'_model_dir': '/tmp/tmpz1oxit2u', '_tf_random_seed': None, '_save_summary_steps': 100, '_save_checkpoints_steps': None, '_save_checkpoints_secs': 600, '_session_config': allow_soft_placement: true\n",
            "graph_options {\n",
            "  rewrite_options {\n",
            "    meta_optimizer_iterations: ONE\n",
            "  }\n",
            "}\n",
            ", '_keep_checkpoint_max': 5, '_keep_checkpoint_every_n_hours': 10000, '_log_step_count_steps': 100, '_train_distribute': None, '_device_fn': None, '_protocol': None, '_eval_distribute': None, '_experimental_distribute': None, '_experimental_max_worker_delay_secs': None, '_session_creation_timeout_secs': 7200, '_checkpoint_save_graph_def': True, '_service': None, '_cluster_spec': ClusterSpec({}), '_task_type': 'worker', '_task_id': 0, '_global_id_in_cluster': 0, '_master': '', '_evaluation_master': '', '_is_chief': True, '_num_ps_replicas': 0, '_num_worker_replicas': 1}\n"
          ]
        }
      ]
    },
    {
      "cell_type": "code",
      "source": [
        "classifier.train(input_fn=lambda: input_fn(train_features_under, train_label_under, training=True),steps=5000)\n",
        "# We include a lambda to avoid creating an inner function "
      ],
      "metadata": {
        "colab": {
          "base_uri": "https://localhost:8080/"
        },
        "outputId": "e775a614-20d2-43bd-cf64-51e3944c2238",
        "id": "GCygWhEgBkcB"
      },
      "execution_count": null,
      "outputs": [
        {
          "output_type": "stream",
          "name": "stdout",
          "text": [
            "INFO:tensorflow:Calling model_fn.\n",
            "INFO:tensorflow:Done calling model_fn.\n",
            "INFO:tensorflow:Create CheckpointSaverHook.\n",
            "INFO:tensorflow:Graph was finalized.\n",
            "INFO:tensorflow:Restoring parameters from /tmp/tmpz1oxit2u/model.ckpt-5000\n",
            "INFO:tensorflow:Running local_init_op.\n",
            "INFO:tensorflow:Done running local_init_op.\n",
            "INFO:tensorflow:Calling checkpoint listeners before saving checkpoint 5000...\n",
            "INFO:tensorflow:Saving checkpoints for 5000 into /tmp/tmpz1oxit2u/model.ckpt.\n",
            "INFO:tensorflow:Calling checkpoint listeners after saving checkpoint 5000...\n",
            "INFO:tensorflow:loss = 0.6673688, step = 5000\n",
            "INFO:tensorflow:global_step/sec: 420.77\n",
            "INFO:tensorflow:loss = 0.6654921, step = 5100 (0.243 sec)\n",
            "INFO:tensorflow:global_step/sec: 508.852\n",
            "INFO:tensorflow:loss = 0.6705436, step = 5200 (0.195 sec)\n",
            "INFO:tensorflow:global_step/sec: 429.125\n",
            "INFO:tensorflow:loss = 0.67570686, step = 5300 (0.231 sec)\n",
            "INFO:tensorflow:global_step/sec: 203.706\n",
            "INFO:tensorflow:loss = 0.67145723, step = 5400 (0.491 sec)\n",
            "INFO:tensorflow:global_step/sec: 188.974\n",
            "INFO:tensorflow:loss = 0.66860205, step = 5500 (0.529 sec)\n",
            "INFO:tensorflow:global_step/sec: 253.755\n",
            "INFO:tensorflow:loss = 0.6581591, step = 5600 (0.396 sec)\n",
            "INFO:tensorflow:global_step/sec: 516.759\n",
            "INFO:tensorflow:loss = 0.6648512, step = 5700 (0.195 sec)\n",
            "INFO:tensorflow:global_step/sec: 491.806\n",
            "INFO:tensorflow:loss = 0.6762172, step = 5800 (0.202 sec)\n",
            "INFO:tensorflow:global_step/sec: 542.087\n",
            "INFO:tensorflow:loss = 0.6818443, step = 5900 (0.185 sec)\n",
            "INFO:tensorflow:global_step/sec: 532.162\n",
            "INFO:tensorflow:loss = 0.6662769, step = 6000 (0.187 sec)\n",
            "INFO:tensorflow:global_step/sec: 513.466\n",
            "INFO:tensorflow:loss = 0.6581143, step = 6100 (0.194 sec)\n",
            "INFO:tensorflow:global_step/sec: 522.219\n",
            "INFO:tensorflow:loss = 0.67657185, step = 6200 (0.189 sec)\n",
            "INFO:tensorflow:global_step/sec: 526.068\n",
            "INFO:tensorflow:loss = 0.65787745, step = 6300 (0.193 sec)\n",
            "INFO:tensorflow:global_step/sec: 533.639\n",
            "INFO:tensorflow:loss = 0.66589916, step = 6400 (0.187 sec)\n",
            "INFO:tensorflow:global_step/sec: 533.354\n",
            "INFO:tensorflow:loss = 0.6683477, step = 6500 (0.188 sec)\n",
            "INFO:tensorflow:global_step/sec: 532.422\n",
            "INFO:tensorflow:loss = 0.66091496, step = 6600 (0.185 sec)\n",
            "INFO:tensorflow:global_step/sec: 507.538\n",
            "INFO:tensorflow:loss = 0.65193844, step = 6700 (0.200 sec)\n",
            "INFO:tensorflow:global_step/sec: 533.02\n",
            "INFO:tensorflow:loss = 0.6543772, step = 6800 (0.188 sec)\n",
            "INFO:tensorflow:global_step/sec: 523.564\n",
            "INFO:tensorflow:loss = 0.6679339, step = 6900 (0.188 sec)\n",
            "INFO:tensorflow:global_step/sec: 520.475\n",
            "INFO:tensorflow:loss = 0.65535206, step = 7000 (0.192 sec)\n",
            "INFO:tensorflow:global_step/sec: 546.076\n",
            "INFO:tensorflow:loss = 0.65581477, step = 7100 (0.186 sec)\n",
            "INFO:tensorflow:global_step/sec: 507.779\n",
            "INFO:tensorflow:loss = 0.6619383, step = 7200 (0.195 sec)\n",
            "INFO:tensorflow:global_step/sec: 517.67\n",
            "INFO:tensorflow:loss = 0.66514975, step = 7300 (0.196 sec)\n",
            "INFO:tensorflow:global_step/sec: 502.823\n",
            "INFO:tensorflow:loss = 0.67166597, step = 7400 (0.196 sec)\n",
            "INFO:tensorflow:global_step/sec: 527.903\n",
            "INFO:tensorflow:loss = 0.65897954, step = 7500 (0.189 sec)\n",
            "INFO:tensorflow:global_step/sec: 480.753\n",
            "INFO:tensorflow:loss = 0.66805655, step = 7600 (0.208 sec)\n",
            "INFO:tensorflow:global_step/sec: 490.592\n",
            "INFO:tensorflow:loss = 0.658971, step = 7700 (0.207 sec)\n",
            "INFO:tensorflow:global_step/sec: 515.831\n",
            "INFO:tensorflow:loss = 0.6723082, step = 7800 (0.194 sec)\n",
            "INFO:tensorflow:global_step/sec: 523.878\n",
            "INFO:tensorflow:loss = 0.657366, step = 7900 (0.189 sec)\n",
            "INFO:tensorflow:global_step/sec: 518.387\n",
            "INFO:tensorflow:loss = 0.6616888, step = 8000 (0.193 sec)\n",
            "INFO:tensorflow:global_step/sec: 517.075\n",
            "INFO:tensorflow:loss = 0.65635663, step = 8100 (0.192 sec)\n",
            "INFO:tensorflow:global_step/sec: 537.868\n",
            "INFO:tensorflow:loss = 0.65616375, step = 8200 (0.190 sec)\n",
            "INFO:tensorflow:global_step/sec: 505.173\n",
            "INFO:tensorflow:loss = 0.659788, step = 8300 (0.196 sec)\n",
            "INFO:tensorflow:global_step/sec: 526.034\n",
            "INFO:tensorflow:loss = 0.6642503, step = 8400 (0.190 sec)\n",
            "INFO:tensorflow:global_step/sec: 510.922\n",
            "INFO:tensorflow:loss = 0.66105574, step = 8500 (0.196 sec)\n",
            "INFO:tensorflow:global_step/sec: 517.047\n",
            "INFO:tensorflow:loss = 0.6613668, step = 8600 (0.193 sec)\n",
            "INFO:tensorflow:global_step/sec: 525.965\n",
            "INFO:tensorflow:loss = 0.6735912, step = 8700 (0.187 sec)\n",
            "INFO:tensorflow:global_step/sec: 478.307\n",
            "INFO:tensorflow:loss = 0.6550878, step = 8800 (0.209 sec)\n",
            "INFO:tensorflow:global_step/sec: 516.714\n",
            "INFO:tensorflow:loss = 0.67763525, step = 8900 (0.194 sec)\n",
            "INFO:tensorflow:global_step/sec: 511.248\n",
            "INFO:tensorflow:loss = 0.6525957, step = 9000 (0.198 sec)\n",
            "INFO:tensorflow:global_step/sec: 541.565\n",
            "INFO:tensorflow:loss = 0.65206754, step = 9100 (0.184 sec)\n",
            "INFO:tensorflow:global_step/sec: 529.841\n",
            "INFO:tensorflow:loss = 0.6614543, step = 9200 (0.190 sec)\n",
            "INFO:tensorflow:global_step/sec: 503.778\n",
            "INFO:tensorflow:loss = 0.67131853, step = 9300 (0.198 sec)\n",
            "INFO:tensorflow:global_step/sec: 534.059\n",
            "INFO:tensorflow:loss = 0.6701294, step = 9400 (0.184 sec)\n",
            "INFO:tensorflow:global_step/sec: 452.894\n",
            "INFO:tensorflow:loss = 0.6608541, step = 9500 (0.223 sec)\n",
            "INFO:tensorflow:global_step/sec: 523.479\n",
            "INFO:tensorflow:loss = 0.657312, step = 9600 (0.189 sec)\n",
            "INFO:tensorflow:global_step/sec: 527.682\n",
            "INFO:tensorflow:loss = 0.6662018, step = 9700 (0.189 sec)\n",
            "INFO:tensorflow:global_step/sec: 498.058\n",
            "INFO:tensorflow:loss = 0.66035664, step = 9800 (0.203 sec)\n",
            "INFO:tensorflow:global_step/sec: 508.234\n",
            "INFO:tensorflow:loss = 0.66607034, step = 9900 (0.196 sec)\n",
            "INFO:tensorflow:Calling checkpoint listeners before saving checkpoint 10000...\n",
            "INFO:tensorflow:Saving checkpoints for 10000 into /tmp/tmpz1oxit2u/model.ckpt.\n",
            "INFO:tensorflow:Calling checkpoint listeners after saving checkpoint 10000...\n",
            "INFO:tensorflow:Loss for final step: 0.66084725.\n"
          ]
        },
        {
          "output_type": "execute_result",
          "data": {
            "text/plain": [
              "<tensorflow_estimator.python.estimator.canned.dnn.DNNClassifierV2 at 0x7f222ce73610>"
            ]
          },
          "metadata": {},
          "execution_count": 125
        }
      ]
    },
    {
      "cell_type": "markdown",
      "source": [
        "###Evaluating Classifier"
      ],
      "metadata": {
        "id": "7m_mQ38dtgRo"
      }
    },
    {
      "cell_type": "code",
      "source": [
        "#determine the accurracy of th classifier\n",
        "eval_result = classifier.evaluate(\n",
        "    input_fn=lambda: input_fn(test_features_under, test_label_under, training=False))\n",
        "print('\\nTest set accuracy: {accuracy:0.3f}\\n'.format(**eval_result))"
      ],
      "metadata": {
        "colab": {
          "base_uri": "https://localhost:8080/"
        },
        "outputId": "3f990c6a-c81d-49bd-b039-db4f5a7681e9",
        "id": "syOAkL5FBkcC"
      },
      "execution_count": null,
      "outputs": [
        {
          "output_type": "stream",
          "name": "stdout",
          "text": [
            "INFO:tensorflow:Calling model_fn.\n",
            "INFO:tensorflow:Done calling model_fn.\n",
            "INFO:tensorflow:Starting evaluation at 2022-03-26T16:35:15\n",
            "INFO:tensorflow:Graph was finalized.\n",
            "INFO:tensorflow:Restoring parameters from /tmp/tmpz1oxit2u/model.ckpt-10000\n",
            "INFO:tensorflow:Running local_init_op.\n",
            "INFO:tensorflow:Done running local_init_op.\n",
            "INFO:tensorflow:Inference Time : 0.46251s\n",
            "INFO:tensorflow:Finished evaluation at 2022-03-26-16:35:15\n",
            "INFO:tensorflow:Saving dict for global step 10000: accuracy = 0.66255003, accuracy_baseline = 0.5049574, auc = 0.6716393, auc_precision_recall = 0.6400628, average_loss = 0.6591132, global_step = 10000, label/mean = 0.49504262, loss = 0.6589566, precision = 0.6662996, prediction/mean = 0.53088385, recall = 0.63773715\n",
            "INFO:tensorflow:Saving 'checkpoint_path' summary for global step 10000: /tmp/tmpz1oxit2u/model.ckpt-10000\n",
            "\n",
            "Test set accuracy: 0.663\n",
            "\n"
          ]
        }
      ]
    },
    {
      "cell_type": "code",
      "source": [
        "#create predictions list for all test set\n",
        "predictions_under = list(classifier.predict(input_fn=lambda: input_fn(test_features_under, test_label_under, training=False)))"
      ],
      "metadata": {
        "outputId": "49dad4ff-78b1-4daf-bec9-5acde214b459",
        "colab": {
          "base_uri": "https://localhost:8080/"
        },
        "id": "y-dTV-wCBkcD"
      },
      "execution_count": null,
      "outputs": [
        {
          "output_type": "stream",
          "name": "stdout",
          "text": [
            "INFO:tensorflow:Calling model_fn.\n",
            "INFO:tensorflow:Done calling model_fn.\n",
            "INFO:tensorflow:Graph was finalized.\n",
            "INFO:tensorflow:Restoring parameters from /tmp/tmpz1oxit2u/model.ckpt-10000\n",
            "INFO:tensorflow:Running local_init_op.\n",
            "INFO:tensorflow:Done running local_init_op.\n"
          ]
        }
      ]
    },
    {
      "cell_type": "code",
      "source": [
        "#create a dataframe of predictions for test set\n",
        "df_predictions = pd.DataFrame(predictions_under)"
      ],
      "metadata": {
        "id": "0REokFMWEz8b"
      },
      "execution_count": null,
      "outputs": []
    },
    {
      "cell_type": "markdown",
      "source": [
        "###Plot of Results"
      ],
      "metadata": {
        "id": "Poobt2fy5GqN"
      }
    },
    {
      "cell_type": "code",
      "source": [
        "#add the actual matches to the prediciton dataframe\n",
        "df_predictions['actual label']=test_label_under.values"
      ],
      "metadata": {
        "id": "gxx64qCXSjMl"
      },
      "execution_count": null,
      "outputs": []
    },
    {
      "cell_type": "code",
      "source": [
        "#add the class predicitons from the DNN to the dataframe\n",
        "df_predictions['predicted label']=pd.DataFrame.from_records(df_predictions['class_ids'])"
      ],
      "metadata": {
        "id": "PBWF_w1jV3uf"
      },
      "execution_count": null,
      "outputs": []
    },
    {
      "cell_type": "code",
      "source": [
        "#add a binary column to show if the dnn predictions were correct\n",
        "df_predictions['match?']=df_predictions['predicted label']-df_predictions['actual label']\n",
        "df_predictions['match?']=df_predictions['match?'].replace(0,'match')\n",
        "df_predictions['match?']=df_predictions['match?'].replace(-1,'not match')\n",
        "df_predictions['match?']=df_predictions['match?'].replace(1,'not match')"
      ],
      "metadata": {
        "id": "Hv9wqseOSmk4"
      },
      "execution_count": null,
      "outputs": []
    },
    {
      "cell_type": "code",
      "source": [
        "#view the prdictions dataframe\n",
        "df_predictions.head()"
      ],
      "metadata": {
        "colab": {
          "base_uri": "https://localhost:8080/",
          "height": 206
        },
        "id": "Z400MOZZYj20",
        "outputId": "81b044de-2e04-4172-af77-de19670c4097"
      },
      "execution_count": null,
      "outputs": [
        {
          "output_type": "execute_result",
          "data": {
            "text/plain": [
              "           logits      logistic            probabilities class_ids classes  \\\n",
              "0  [-0.075762756]  [0.48106837]  [0.5189316, 0.48106834]       [0]  [b'0']   \n",
              "1  [-0.075762756]  [0.48106837]  [0.5189316, 0.48106834]       [0]  [b'0']   \n",
              "2    [-0.4266138]  [0.39493522]  [0.6050648, 0.39493522]       [0]  [b'0']   \n",
              "3     [0.4962144]   [0.6215693]  [0.37843072, 0.6215693]       [1]  [b'1']   \n",
              "4     [0.4962144]   [0.6215693]  [0.37843072, 0.6215693]       [1]  [b'1']   \n",
              "\n",
              "  all_class_ids   all_classes  actual label  predicted label     match?  \n",
              "0        [0, 1]  [b'0', b'1']             0                0      match  \n",
              "1        [0, 1]  [b'0', b'1']             1                0  not match  \n",
              "2        [0, 1]  [b'0', b'1']             1                0  not match  \n",
              "3        [0, 1]  [b'0', b'1']             0                1  not match  \n",
              "4        [0, 1]  [b'0', b'1']             1                1      match  "
            ],
            "text/html": [
              "\n",
              "  <div id=\"df-8e989b00-2f83-4c48-a863-d5318f94df84\">\n",
              "    <div class=\"colab-df-container\">\n",
              "      <div>\n",
              "<style scoped>\n",
              "    .dataframe tbody tr th:only-of-type {\n",
              "        vertical-align: middle;\n",
              "    }\n",
              "\n",
              "    .dataframe tbody tr th {\n",
              "        vertical-align: top;\n",
              "    }\n",
              "\n",
              "    .dataframe thead th {\n",
              "        text-align: right;\n",
              "    }\n",
              "</style>\n",
              "<table border=\"1\" class=\"dataframe\">\n",
              "  <thead>\n",
              "    <tr style=\"text-align: right;\">\n",
              "      <th></th>\n",
              "      <th>logits</th>\n",
              "      <th>logistic</th>\n",
              "      <th>probabilities</th>\n",
              "      <th>class_ids</th>\n",
              "      <th>classes</th>\n",
              "      <th>all_class_ids</th>\n",
              "      <th>all_classes</th>\n",
              "      <th>actual label</th>\n",
              "      <th>predicted label</th>\n",
              "      <th>match?</th>\n",
              "    </tr>\n",
              "  </thead>\n",
              "  <tbody>\n",
              "    <tr>\n",
              "      <th>0</th>\n",
              "      <td>[-0.075762756]</td>\n",
              "      <td>[0.48106837]</td>\n",
              "      <td>[0.5189316, 0.48106834]</td>\n",
              "      <td>[0]</td>\n",
              "      <td>[b'0']</td>\n",
              "      <td>[0, 1]</td>\n",
              "      <td>[b'0', b'1']</td>\n",
              "      <td>0</td>\n",
              "      <td>0</td>\n",
              "      <td>match</td>\n",
              "    </tr>\n",
              "    <tr>\n",
              "      <th>1</th>\n",
              "      <td>[-0.075762756]</td>\n",
              "      <td>[0.48106837]</td>\n",
              "      <td>[0.5189316, 0.48106834]</td>\n",
              "      <td>[0]</td>\n",
              "      <td>[b'0']</td>\n",
              "      <td>[0, 1]</td>\n",
              "      <td>[b'0', b'1']</td>\n",
              "      <td>1</td>\n",
              "      <td>0</td>\n",
              "      <td>not match</td>\n",
              "    </tr>\n",
              "    <tr>\n",
              "      <th>2</th>\n",
              "      <td>[-0.4266138]</td>\n",
              "      <td>[0.39493522]</td>\n",
              "      <td>[0.6050648, 0.39493522]</td>\n",
              "      <td>[0]</td>\n",
              "      <td>[b'0']</td>\n",
              "      <td>[0, 1]</td>\n",
              "      <td>[b'0', b'1']</td>\n",
              "      <td>1</td>\n",
              "      <td>0</td>\n",
              "      <td>not match</td>\n",
              "    </tr>\n",
              "    <tr>\n",
              "      <th>3</th>\n",
              "      <td>[0.4962144]</td>\n",
              "      <td>[0.6215693]</td>\n",
              "      <td>[0.37843072, 0.6215693]</td>\n",
              "      <td>[1]</td>\n",
              "      <td>[b'1']</td>\n",
              "      <td>[0, 1]</td>\n",
              "      <td>[b'0', b'1']</td>\n",
              "      <td>0</td>\n",
              "      <td>1</td>\n",
              "      <td>not match</td>\n",
              "    </tr>\n",
              "    <tr>\n",
              "      <th>4</th>\n",
              "      <td>[0.4962144]</td>\n",
              "      <td>[0.6215693]</td>\n",
              "      <td>[0.37843072, 0.6215693]</td>\n",
              "      <td>[1]</td>\n",
              "      <td>[b'1']</td>\n",
              "      <td>[0, 1]</td>\n",
              "      <td>[b'0', b'1']</td>\n",
              "      <td>1</td>\n",
              "      <td>1</td>\n",
              "      <td>match</td>\n",
              "    </tr>\n",
              "  </tbody>\n",
              "</table>\n",
              "</div>\n",
              "      <button class=\"colab-df-convert\" onclick=\"convertToInteractive('df-8e989b00-2f83-4c48-a863-d5318f94df84')\"\n",
              "              title=\"Convert this dataframe to an interactive table.\"\n",
              "              style=\"display:none;\">\n",
              "        \n",
              "  <svg xmlns=\"http://www.w3.org/2000/svg\" height=\"24px\"viewBox=\"0 0 24 24\"\n",
              "       width=\"24px\">\n",
              "    <path d=\"M0 0h24v24H0V0z\" fill=\"none\"/>\n",
              "    <path d=\"M18.56 5.44l.94 2.06.94-2.06 2.06-.94-2.06-.94-.94-2.06-.94 2.06-2.06.94zm-11 1L8.5 8.5l.94-2.06 2.06-.94-2.06-.94L8.5 2.5l-.94 2.06-2.06.94zm10 10l.94 2.06.94-2.06 2.06-.94-2.06-.94-.94-2.06-.94 2.06-2.06.94z\"/><path d=\"M17.41 7.96l-1.37-1.37c-.4-.4-.92-.59-1.43-.59-.52 0-1.04.2-1.43.59L10.3 9.45l-7.72 7.72c-.78.78-.78 2.05 0 2.83L4 21.41c.39.39.9.59 1.41.59.51 0 1.02-.2 1.41-.59l7.78-7.78 2.81-2.81c.8-.78.8-2.07 0-2.86zM5.41 20L4 18.59l7.72-7.72 1.47 1.35L5.41 20z\"/>\n",
              "  </svg>\n",
              "      </button>\n",
              "      \n",
              "  <style>\n",
              "    .colab-df-container {\n",
              "      display:flex;\n",
              "      flex-wrap:wrap;\n",
              "      gap: 12px;\n",
              "    }\n",
              "\n",
              "    .colab-df-convert {\n",
              "      background-color: #E8F0FE;\n",
              "      border: none;\n",
              "      border-radius: 50%;\n",
              "      cursor: pointer;\n",
              "      display: none;\n",
              "      fill: #1967D2;\n",
              "      height: 32px;\n",
              "      padding: 0 0 0 0;\n",
              "      width: 32px;\n",
              "    }\n",
              "\n",
              "    .colab-df-convert:hover {\n",
              "      background-color: #E2EBFA;\n",
              "      box-shadow: 0px 1px 2px rgba(60, 64, 67, 0.3), 0px 1px 3px 1px rgba(60, 64, 67, 0.15);\n",
              "      fill: #174EA6;\n",
              "    }\n",
              "\n",
              "    [theme=dark] .colab-df-convert {\n",
              "      background-color: #3B4455;\n",
              "      fill: #D2E3FC;\n",
              "    }\n",
              "\n",
              "    [theme=dark] .colab-df-convert:hover {\n",
              "      background-color: #434B5C;\n",
              "      box-shadow: 0px 1px 3px 1px rgba(0, 0, 0, 0.15);\n",
              "      filter: drop-shadow(0px 1px 2px rgba(0, 0, 0, 0.3));\n",
              "      fill: #FFFFFF;\n",
              "    }\n",
              "  </style>\n",
              "\n",
              "      <script>\n",
              "        const buttonEl =\n",
              "          document.querySelector('#df-8e989b00-2f83-4c48-a863-d5318f94df84 button.colab-df-convert');\n",
              "        buttonEl.style.display =\n",
              "          google.colab.kernel.accessAllowed ? 'block' : 'none';\n",
              "\n",
              "        async function convertToInteractive(key) {\n",
              "          const element = document.querySelector('#df-8e989b00-2f83-4c48-a863-d5318f94df84');\n",
              "          const dataTable =\n",
              "            await google.colab.kernel.invokeFunction('convertToInteractive',\n",
              "                                                     [key], {});\n",
              "          if (!dataTable) return;\n",
              "\n",
              "          const docLinkHtml = 'Like what you see? Visit the ' +\n",
              "            '<a target=\"_blank\" href=https://colab.research.google.com/notebooks/data_table.ipynb>data table notebook</a>'\n",
              "            + ' to learn more about interactive tables.';\n",
              "          element.innerHTML = '';\n",
              "          dataTable['output_type'] = 'display_data';\n",
              "          await google.colab.output.renderOutput(dataTable, element);\n",
              "          const docLink = document.createElement('div');\n",
              "          docLink.innerHTML = docLinkHtml;\n",
              "          element.appendChild(docLink);\n",
              "        }\n",
              "      </script>\n",
              "    </div>\n",
              "  </div>\n",
              "  "
            ]
          },
          "metadata": {},
          "execution_count": 132
        }
      ]
    },
    {
      "cell_type": "code",
      "source": [
        "#create a new dataframe showing only the correct predictions\n",
        "correct_predictions = df_predictions[df_predictions['match?']=='match']\n",
        "#get the count of the correct predctions for eah label\n",
        "correct_pred_count_label_0 , correct_pred_count_label_1 = correct_predictions['predicted label'].value_counts()\n",
        "#get the actual label count for each label\n",
        "actual_count_label_0 , actual_count_label_1 = df_predictions['actual label'].value_counts()"
      ],
      "metadata": {
        "id": "hrRL4FhdYlli"
      },
      "execution_count": null,
      "outputs": []
    },
    {
      "cell_type": "code",
      "source": [
        "#get the accuracy of each labels predictions\n",
        "accuracy_label_0,accuracy_label_1 = correct_pred_count_label_0/actual_count_label_0 , correct_pred_count_label_1/actual_count_label_1\n",
        "accuracy=accuracy_label_0*100,accuracy_label_1*100\n",
        "accuracy=pd.Series(accuracy)\n",
        "print('Accuracy of label 0 (non-fatal): ', accuracy_label_0, '\\nAccuracy of label 1 (fatal): ', accuracy_label_1)"
      ],
      "metadata": {
        "colab": {
          "base_uri": "https://localhost:8080/"
        },
        "id": "nyPLvxHzaZFI",
        "outputId": "5090d958-0470-4236-8b95-e783e2b05714"
      },
      "execution_count": null,
      "outputs": [
        {
          "output_type": "stream",
          "name": "stdout",
          "text": [
            "Accuracy of label 0 (non-fatal):  0.6868756458835688 \n",
            "Accuracy of label 1 (fatal):  0.6377371749824314\n"
          ]
        }
      ]
    },
    {
      "cell_type": "code",
      "source": [
        "#plot the accuracy of each labels predictions\n",
        "fig, axes = plt.subplots(figsize=(18, 10))\n",
        "accuracy.plot(kind='barh')\n",
        "plt.yticks((0,1), ('non-Fatal accident', 'Fatal accident'))\n",
        "plt.xticks((0,10,20,30,40,50,60), ('0%', '10%','20%','30%','40%','50%','60%'))\n",
        "plt.xlabel('prectange accuracy')\n",
        "plt.title('percentage accuracy for each class/label')"
      ],
      "metadata": {
        "colab": {
          "base_uri": "https://localhost:8080/",
          "height": 639
        },
        "id": "RUctVVxqa6Vo",
        "outputId": "62d7912c-029c-4490-e7bd-dcad36226170"
      },
      "execution_count": null,
      "outputs": [
        {
          "output_type": "execute_result",
          "data": {
            "text/plain": [
              "Text(0.5, 1.0, 'percentage accuracy for each class/label')"
            ]
          },
          "metadata": {},
          "execution_count": 135
        },
        {
          "output_type": "display_data",
          "data": {
            "text/plain": [
              "<Figure size 1296x720 with 1 Axes>"
            ],
            "image/png": "[encoded data removed]"
          },
          "metadata": {
            "needs_background": "light"
          }
        }
      ]
    },
    {
      "cell_type": "code",
      "source": [
        "#creating probabilty columns for each label\n",
        "df_predictions['prob fatal']=pd.DataFrame.from_records(df_predictions['probabilities'])[1]\n",
        "df_predictions['prob non-fatal']=pd.DataFrame.from_records(df_predictions['probabilities'])[0]"
      ],
      "metadata": {
        "id": "KgaJMKVRfNrr"
      },
      "execution_count": null,
      "outputs": []
    },
    {
      "cell_type": "code",
      "source": [
        "#create a data frame of only the correct predictions and filter it to rows with high probabilities\n",
        "dataframe_correct_predictions = df_predictions[df_predictions['match?']=='match']\n",
        "dataframe_correct_predictions[(dataframe_correct_predictions['prob non-fatal']>.70 )| (dataframe_correct_predictions['prob fatal']>.70)]\n",
        "#counting incorrect prediciton where prob was high\n",
        "dataframe_incorrect_predictions = df_predictions[df_predictions['match?']=='not match']\n",
        "dataframe_incorrect_predictions[(dataframe_incorrect_predictions['prob non-fatal']>.70 )| (dataframe_incorrect_predictions['prob fatal']>.70)].describe()"
      ],
      "metadata": {
        "colab": {
          "base_uri": "https://localhost:8080/",
          "height": 300
        },
        "id": "1S0LS-lYfn8i",
        "outputId": "6be897ea-ce8f-4b87-830f-f22c71a97399"
      },
      "execution_count": null,
      "outputs": [
        {
          "output_type": "execute_result",
          "data": {
            "text/plain": [
              "       actual label  predicted label  prob fatal  prob non-fatal\n",
              "count           0.0              0.0         0.0             0.0\n",
              "mean            NaN              NaN         NaN             NaN\n",
              "std             NaN              NaN         NaN             NaN\n",
              "min             NaN              NaN         NaN             NaN\n",
              "25%             NaN              NaN         NaN             NaN\n",
              "50%             NaN              NaN         NaN             NaN\n",
              "75%             NaN              NaN         NaN             NaN\n",
              "max             NaN              NaN         NaN             NaN"
            ],
            "text/html": [
              "\n",
              "  <div id=\"df-77720941-3a2b-4ce6-a776-223cc2512c4a\">\n",
              "    <div class=\"colab-df-container\">\n",
              "      <div>\n",
              "<style scoped>\n",
              "    .dataframe tbody tr th:only-of-type {\n",
              "        vertical-align: middle;\n",
              "    }\n",
              "\n",
              "    .dataframe tbody tr th {\n",
              "        vertical-align: top;\n",
              "    }\n",
              "\n",
              "    .dataframe thead th {\n",
              "        text-align: right;\n",
              "    }\n",
              "</style>\n",
              "<table border=\"1\" class=\"dataframe\">\n",
              "  <thead>\n",
              "    <tr style=\"text-align: right;\">\n",
              "      <th></th>\n",
              "      <th>actual label</th>\n",
              "      <th>predicted label</th>\n",
              "      <th>prob fatal</th>\n",
              "      <th>prob non-fatal</th>\n",
              "    </tr>\n",
              "  </thead>\n",
              "  <tbody>\n",
              "    <tr>\n",
              "      <th>count</th>\n",
              "      <td>0.0</td>\n",
              "      <td>0.0</td>\n",
              "      <td>0.0</td>\n",
              "      <td>0.0</td>\n",
              "    </tr>\n",
              "    <tr>\n",
              "      <th>mean</th>\n",
              "      <td>NaN</td>\n",
              "      <td>NaN</td>\n",
              "      <td>NaN</td>\n",
              "      <td>NaN</td>\n",
              "    </tr>\n",
              "    <tr>\n",
              "      <th>std</th>\n",
              "      <td>NaN</td>\n",
              "      <td>NaN</td>\n",
              "      <td>NaN</td>\n",
              "      <td>NaN</td>\n",
              "    </tr>\n",
              "    <tr>\n",
              "      <th>min</th>\n",
              "      <td>NaN</td>\n",
              "      <td>NaN</td>\n",
              "      <td>NaN</td>\n",
              "      <td>NaN</td>\n",
              "    </tr>\n",
              "    <tr>\n",
              "      <th>25%</th>\n",
              "      <td>NaN</td>\n",
              "      <td>NaN</td>\n",
              "      <td>NaN</td>\n",
              "      <td>NaN</td>\n",
              "    </tr>\n",
              "    <tr>\n",
              "      <th>50%</th>\n",
              "      <td>NaN</td>\n",
              "      <td>NaN</td>\n",
              "      <td>NaN</td>\n",
              "      <td>NaN</td>\n",
              "    </tr>\n",
              "    <tr>\n",
              "      <th>75%</th>\n",
              "      <td>NaN</td>\n",
              "      <td>NaN</td>\n",
              "      <td>NaN</td>\n",
              "      <td>NaN</td>\n",
              "    </tr>\n",
              "    <tr>\n",
              "      <th>max</th>\n",
              "      <td>NaN</td>\n",
              "      <td>NaN</td>\n",
              "      <td>NaN</td>\n",
              "      <td>NaN</td>\n",
              "    </tr>\n",
              "  </tbody>\n",
              "</table>\n",
              "</div>\n",
              "      <button class=\"colab-df-convert\" onclick=\"convertToInteractive('df-77720941-3a2b-4ce6-a776-223cc2512c4a')\"\n",
              "              title=\"Convert this dataframe to an interactive table.\"\n",
              "              style=\"display:none;\">\n",
              "        \n",
              "  <svg xmlns=\"http://www.w3.org/2000/svg\" height=\"24px\"viewBox=\"0 0 24 24\"\n",
              "       width=\"24px\">\n",
              "    <path d=\"M0 0h24v24H0V0z\" fill=\"none\"/>\n",
              "    <path d=\"M18.56 5.44l.94 2.06.94-2.06 2.06-.94-2.06-.94-.94-2.06-.94 2.06-2.06.94zm-11 1L8.5 8.5l.94-2.06 2.06-.94-2.06-.94L8.5 2.5l-.94 2.06-2.06.94zm10 10l.94 2.06.94-2.06 2.06-.94-2.06-.94-.94-2.06-.94 2.06-2.06.94z\"/><path d=\"M17.41 7.96l-1.37-1.37c-.4-.4-.92-.59-1.43-.59-.52 0-1.04.2-1.43.59L10.3 9.45l-7.72 7.72c-.78.78-.78 2.05 0 2.83L4 21.41c.39.39.9.59 1.41.59.51 0 1.02-.2 1.41-.59l7.78-7.78 2.81-2.81c.8-.78.8-2.07 0-2.86zM5.41 20L4 18.59l7.72-7.72 1.47 1.35L5.41 20z\"/>\n",
              "  </svg>\n",
              "      </button>\n",
              "      \n",
              "  <style>\n",
              "    .colab-df-container {\n",
              "      display:flex;\n",
              "      flex-wrap:wrap;\n",
              "      gap: 12px;\n",
              "    }\n",
              "\n",
              "    .colab-df-convert {\n",
              "      background-color: #E8F0FE;\n",
              "      border: none;\n",
              "      border-radius: 50%;\n",
              "      cursor: pointer;\n",
              "      display: none;\n",
              "      fill: #1967D2;\n",
              "      height: 32px;\n",
              "      padding: 0 0 0 0;\n",
              "      width: 32px;\n",
              "    }\n",
              "\n",
              "    .colab-df-convert:hover {\n",
              "      background-color: #E2EBFA;\n",
              "      box-shadow: 0px 1px 2px rgba(60, 64, 67, 0.3), 0px 1px 3px 1px rgba(60, 64, 67, 0.15);\n",
              "      fill: #174EA6;\n",
              "    }\n",
              "\n",
              "    [theme=dark] .colab-df-convert {\n",
              "      background-color: #3B4455;\n",
              "      fill: #D2E3FC;\n",
              "    }\n",
              "\n",
              "    [theme=dark] .colab-df-convert:hover {\n",
              "      background-color: #434B5C;\n",
              "      box-shadow: 0px 1px 3px 1px rgba(0, 0, 0, 0.15);\n",
              "      filter: drop-shadow(0px 1px 2px rgba(0, 0, 0, 0.3));\n",
              "      fill: #FFFFFF;\n",
              "    }\n",
              "  </style>\n",
              "\n",
              "      <script>\n",
              "        const buttonEl =\n",
              "          document.querySelector('#df-77720941-3a2b-4ce6-a776-223cc2512c4a button.colab-df-convert');\n",
              "        buttonEl.style.display =\n",
              "          google.colab.kernel.accessAllowed ? 'block' : 'none';\n",
              "\n",
              "        async function convertToInteractive(key) {\n",
              "          const element = document.querySelector('#df-77720941-3a2b-4ce6-a776-223cc2512c4a');\n",
              "          const dataTable =\n",
              "            await google.colab.kernel.invokeFunction('convertToInteractive',\n",
              "                                                     [key], {});\n",
              "          if (!dataTable) return;\n",
              "\n",
              "          const docLinkHtml = 'Like what you see? Visit the ' +\n",
              "            '<a target=\"_blank\" href=https://colab.research.google.com/notebooks/data_table.ipynb>data table notebook</a>'\n",
              "            + ' to learn more about interactive tables.';\n",
              "          element.innerHTML = '';\n",
              "          dataTable['output_type'] = 'display_data';\n",
              "          await google.colab.output.renderOutput(dataTable, element);\n",
              "          const docLink = document.createElement('div');\n",
              "          docLink.innerHTML = docLinkHtml;\n",
              "          element.appendChild(docLink);\n",
              "        }\n",
              "      </script>\n",
              "    </div>\n",
              "  </div>\n",
              "  "
            ]
          },
          "metadata": {},
          "execution_count": 137
        }
      ]
    },
    {
      "cell_type": "markdown",
      "source": [
        "#Iteration 2 - 'Weather_Conditions', 'Light_Conditions','Speed_limit'"
      ],
      "metadata": {
        "id": "dG_T2CK7_a5X"
      }
    },
    {
      "cell_type": "markdown",
      "source": [
        "##Features"
      ],
      "metadata": {
        "id": "ML2YnC8B_a5Z"
      }
    },
    {
      "cell_type": "markdown",
      "source": [
        "###Seleceting Features, checking correlation between them, cleaning missing data"
      ],
      "metadata": {
        "id": "rfIHgF-j_a5a"
      }
    },
    {
      "cell_type": "code",
      "source": [
        "df_features = df[['Weather_Conditions', 'Light_Conditions','Speed_limit','Accident_Severity']]"
      ],
      "metadata": {
        "id": "ZFTxgttM_a5a"
      },
      "execution_count": null,
      "outputs": []
    },
    {
      "cell_type": "code",
      "source": [
        "#checking correlation between features\n",
        "df_features.corr()\n",
        "sns.heatmap(df_features.corr())"
      ],
      "metadata": {
        "colab": {
          "base_uri": "https://localhost:8080/",
          "height": 377
        },
        "outputId": "eb37300b-18c7-4207-8610-30b827894eb7",
        "id": "V3ra5dZc_a5c"
      },
      "execution_count": null,
      "outputs": [
        {
          "output_type": "execute_result",
          "data": {
            "text/plain": [
              "<matplotlib.axes._subplots.AxesSubplot at 0x7f74d137f090>"
            ]
          },
          "metadata": {},
          "execution_count": 412
        },
        {
          "output_type": "display_data",
          "data": {
            "text/plain": [
              "<Figure size 432x288 with 2 Axes>"
            ],
            "image/png": "[encoded data removed]"
          },
          "metadata": {
            "needs_background": "light"
          }
        }
      ]
    },
    {
      "cell_type": "code",
      "source": [
        "#checking which values have missing data, note missing data is recorded as -1\n",
        "df_features.min()"
      ],
      "metadata": {
        "colab": {
          "base_uri": "https://localhost:8080/"
        },
        "outputId": "32d01b28-f248-43bb-fec5-3a053358c0b5",
        "id": "RNCdbczJ_a5c"
      },
      "execution_count": null,
      "outputs": [
        {
          "output_type": "execute_result",
          "data": {
            "text/plain": [
              "Weather_Conditions   -1\n",
              "Light_Conditions      1\n",
              "Speed_limit           0\n",
              "Accident_Severity     1\n",
              "dtype: int64"
            ]
          },
          "metadata": {},
          "execution_count": 413
        }
      ]
    },
    {
      "cell_type": "code",
      "source": [
        "#there are 161 accident that do not have recorded weather conditions, will drop these\n",
        "df_features['Weather_Conditions'][df_features['Weather_Conditions']==-1].count()"
      ],
      "metadata": {
        "colab": {
          "base_uri": "https://localhost:8080/"
        },
        "outputId": "191ecf9f-69c7-4fd2-ef9c-2b4ce868893d",
        "id": "08GsFgIW_a5d"
      },
      "execution_count": null,
      "outputs": [
        {
          "output_type": "execute_result",
          "data": {
            "text/plain": [
              "161"
            ]
          },
          "metadata": {},
          "execution_count": 414
        }
      ]
    },
    {
      "cell_type": "code",
      "source": [
        "#removing all rows with (missing) data\n",
        "df_features = df_features[df_features['Weather_Conditions']!=-1]\n",
        "df_features = df_features[df_features['Speed_limit']!=0]"
      ],
      "metadata": {
        "id": "shbWdLAj_a5d"
      },
      "execution_count": null,
      "outputs": []
    },
    {
      "cell_type": "markdown",
      "source": [
        "df_features.count()"
      ],
      "metadata": {
        "id": "d5LF_-Zs_a5e"
      }
    },
    {
      "cell_type": "markdown",
      "source": [
        "### Cleaning Label (accident severity) so that there are 2 classes instead of 3"
      ],
      "metadata": {
        "id": "dYgubRIt_a5e"
      }
    },
    {
      "cell_type": "code",
      "source": [
        "#check count for each level of accident deverity\n",
        "df_features['Accident_Severity'].value_counts()"
      ],
      "metadata": {
        "colab": {
          "base_uri": "https://localhost:8080/"
        },
        "outputId": "7e5cb688-f68b-4f2a-cad4-c33c936bf49a",
        "id": "FpV0VYii_a5e"
      },
      "execution_count": null,
      "outputs": [
        {
          "output_type": "execute_result",
          "data": {
            "text/plain": [
              "3    1515429\n",
              "2     242067\n",
              "1      22995\n",
              "Name: Accident_Severity, dtype: int64"
            ]
          },
          "metadata": {},
          "execution_count": 416
        }
      ]
    },
    {
      "cell_type": "code",
      "source": [
        "#replace all accident severities where severiry is 2 or 3 and group them into 1 bucket (non-fatal)\n",
        "df_features['Accident_Severity'] = df_features['Accident_Severity'].replace(2,0)\n",
        "df_features['Accident_Severity'] = df_features['Accident_Severity'].replace(3,0)"
      ],
      "metadata": {
        "id": "DrrIKj46_a5e"
      },
      "execution_count": null,
      "outputs": []
    },
    {
      "cell_type": "code",
      "source": [
        "#create 2 dataframe, 1 for each class, and print the size each\n",
        "class_1 = df_features[df_features['Accident_Severity'] == 1]\n",
        "class_0 = df_features[df_features['Accident_Severity'] == 0]\n",
        "print('class 1 (fatal):', len(class_1))\n",
        "print('class 0 (non-fatal):', len(class_0))"
      ],
      "metadata": {
        "colab": {
          "base_uri": "https://localhost:8080/"
        },
        "outputId": "6fa5b5ac-a07e-4970-d73b-c2b32244364f",
        "id": "C9ey_f3n_a5f"
      },
      "execution_count": null,
      "outputs": [
        {
          "output_type": "stream",
          "name": "stdout",
          "text": [
            "class 1 (fatal): 22995\n",
            "class 0 (non-fatal): 1757496\n"
          ]
        }
      ]
    },
    {
      "cell_type": "code",
      "source": [
        ""
      ],
      "metadata": {
        "id": "i60FAuzG_38J"
      },
      "execution_count": null,
      "outputs": []
    },
    {
      "cell_type": "markdown",
      "source": [
        "###Accounting for imbalance in the dataset by undersampling"
      ],
      "metadata": {
        "id": "JacxnjhB_a5f"
      }
    },
    {
      "cell_type": "code",
      "source": [
        "#get the length of the dataset for each class/label\n",
        "class_count_0, class_count_1 = df_features['Accident_Severity'].value_counts()"
      ],
      "metadata": {
        "id": "-7WcZSLZ_a5f"
      },
      "execution_count": null,
      "outputs": []
    },
    {
      "cell_type": "code",
      "source": [
        "#undersampling of class 0 to balance the count of data for each class/label\n",
        "class_0_under = class_0.sample(class_count_1)\n",
        "df_features_under = pd.concat([class_0_under, class_1], axis=0)"
      ],
      "metadata": {
        "id": "P56rZDK5_a5g"
      },
      "execution_count": null,
      "outputs": []
    },
    {
      "cell_type": "code",
      "source": [
        "#print the size of the new dataset for each class/label after undersampling\n",
        "class_1 = df_features_under[df_features_under['Accident_Severity'] == 1]\n",
        "class_0 = df_features_under[df_features_under['Accident_Severity'] == 0]\n",
        "print('class 1 (fatal):', len(class_1))\n",
        "print('class 0 (non-fatal):', len(class_0))"
      ],
      "metadata": {
        "colab": {
          "base_uri": "https://localhost:8080/"
        },
        "outputId": "e787f2c0-8eaa-4e5d-db6c-dcd747c1b66c",
        "id": "Cn_tzYbS_a5g"
      },
      "execution_count": null,
      "outputs": [
        {
          "output_type": "stream",
          "name": "stdout",
          "text": [
            "class 1 (fatal): 22995\n",
            "class 0 (non-fatal): 22995\n"
          ]
        }
      ]
    },
    {
      "cell_type": "markdown",
      "source": [
        "###splitting the dataset in training and test datasets"
      ],
      "metadata": {
        "id": "W6m9Et_v_a5g"
      }
    },
    {
      "cell_type": "code",
      "source": [
        "#splitting the dataset into training and test sets\n",
        "train_features_under, test_features_under = train_test_split(df_features_under, test_size=0.25)"
      ],
      "metadata": {
        "id": "Q1Y-c-T7_a5h"
      },
      "execution_count": null,
      "outputs": []
    },
    {
      "cell_type": "code",
      "source": [
        "#pop out the label column from the train and test undersampled datasets\n",
        "train_label_under = train_features_under.pop('Accident_Severity')\n",
        "test_label_under = test_features_under.pop('Accident_Severity')"
      ],
      "metadata": {
        "id": "DqNs9GXq_a5h"
      },
      "execution_count": null,
      "outputs": []
    },
    {
      "cell_type": "markdown",
      "source": [
        "## DNN Classifier"
      ],
      "metadata": {
        "id": "iPkCNr9h_a5h"
      }
    },
    {
      "cell_type": "markdown",
      "source": [
        "###defining input function, creating classifier, training classifer"
      ],
      "metadata": {
        "id": "kYc-RI4M_a5h"
      }
    },
    {
      "cell_type": "code",
      "source": [
        "def input_fn(features, labels, training=True, batch_size=344):\n",
        "    # Convert the inputs to a Dataset.\n",
        "    dataset = tf.data.Dataset.from_tensor_slices((dict(features), labels))\n",
        "    # Shuffle and repeat if you are in training mode.\n",
        "    if training:\n",
        "        dataset = dataset.shuffle(1000).repeat()\n",
        "    return dataset.batch(batch_size)"
      ],
      "metadata": {
        "id": "Eg6D2vuL_a5i"
      },
      "execution_count": null,
      "outputs": []
    },
    {
      "cell_type": "code",
      "source": [
        "# creating a tensorflow Feature column list\n",
        "my_feature_columns = []\n",
        "for key in train_features_under.keys():\n",
        "    my_feature_columns.append(tf.feature_column.numeric_column(key=key))\n",
        "my_feature_columns"
      ],
      "metadata": {
        "colab": {
          "base_uri": "https://localhost:8080/"
        },
        "outputId": "002fe9f2-87ad-4439-8c79-17bdf303a484",
        "id": "7aKVzPRJ_a5i"
      },
      "execution_count": null,
      "outputs": [
        {
          "output_type": "execute_result",
          "data": {
            "text/plain": [
              "[NumericColumn(key='Weather_Conditions', shape=(1,), default_value=None, dtype=tf.float32, normalizer_fn=None),\n",
              " NumericColumn(key='Light_Conditions', shape=(1,), default_value=None, dtype=tf.float32, normalizer_fn=None),\n",
              " NumericColumn(key='Speed_limit', shape=(1,), default_value=None, dtype=tf.float32, normalizer_fn=None)]"
            ]
          },
          "metadata": {},
          "execution_count": 509
        }
      ]
    },
    {
      "cell_type": "code",
      "source": [
        "# Build a DNN with 2 hidden layers with 30 and 10 hidden nodes each.\n",
        "classifier = tf.estimator.DNNClassifier(\n",
        "    feature_columns=my_feature_columns,\n",
        "    # Two hidden layers of 30 and 10 nodes respectively.\n",
        "    hidden_units=[30, 10],\n",
        "    # The model must choose between 2 classes.\n",
        "    n_classes=2)"
      ],
      "metadata": {
        "colab": {
          "base_uri": "https://localhost:8080/"
        },
        "outputId": "73b2e37d-29e1-4b3c-f33f-eb594321b7b4",
        "id": "Wp813v2e_a5i"
      },
      "execution_count": null,
      "outputs": [
        {
          "output_type": "stream",
          "name": "stdout",
          "text": [
            "INFO:tensorflow:Using default config.\n",
            "WARNING:tensorflow:Using temporary folder as model directory: /tmp/tmpc80bumyj\n",
            "INFO:tensorflow:Using config: {'_model_dir': '/tmp/tmpc80bumyj', '_tf_random_seed': None, '_save_summary_steps': 100, '_save_checkpoints_steps': None, '_save_checkpoints_secs': 600, '_session_config': allow_soft_placement: true\n",
            "graph_options {\n",
            "  rewrite_options {\n",
            "    meta_optimizer_iterations: ONE\n",
            "  }\n",
            "}\n",
            ", '_keep_checkpoint_max': 5, '_keep_checkpoint_every_n_hours': 10000, '_log_step_count_steps': 100, '_train_distribute': None, '_device_fn': None, '_protocol': None, '_eval_distribute': None, '_experimental_distribute': None, '_experimental_max_worker_delay_secs': None, '_session_creation_timeout_secs': 7200, '_checkpoint_save_graph_def': True, '_service': None, '_cluster_spec': ClusterSpec({}), '_task_type': 'worker', '_task_id': 0, '_global_id_in_cluster': 0, '_master': '', '_evaluation_master': '', '_is_chief': True, '_num_ps_replicas': 0, '_num_worker_replicas': 1}\n"
          ]
        }
      ]
    },
    {
      "cell_type": "code",
      "source": [
        "classifier.train(input_fn=lambda: input_fn(train_features_under, train_label_under, training=True),steps=1000)\n",
        "# We include a lambda to avoid creating an inner function previously"
      ],
      "metadata": {
        "colab": {
          "base_uri": "https://localhost:8080/"
        },
        "outputId": "9f40e0db-73d1-4f9e-9d2d-cb86b9127c07",
        "id": "EZRwz7Ki_a5j"
      },
      "execution_count": null,
      "outputs": [
        {
          "output_type": "stream",
          "name": "stdout",
          "text": [
            "INFO:tensorflow:Calling model_fn.\n",
            "INFO:tensorflow:Done calling model_fn.\n",
            "INFO:tensorflow:Create CheckpointSaverHook.\n",
            "INFO:tensorflow:Graph was finalized.\n",
            "INFO:tensorflow:Restoring parameters from /tmp/tmpc80bumyj/model.ckpt-1000\n",
            "INFO:tensorflow:Running local_init_op.\n",
            "INFO:tensorflow:Done running local_init_op.\n",
            "INFO:tensorflow:Calling checkpoint listeners before saving checkpoint 1000...\n",
            "INFO:tensorflow:Saving checkpoints for 1000 into /tmp/tmpc80bumyj/model.ckpt.\n",
            "INFO:tensorflow:Calling checkpoint listeners after saving checkpoint 1000...\n",
            "INFO:tensorflow:loss = 0.66376454, step = 1000\n",
            "INFO:tensorflow:global_step/sec: 295.087\n",
            "INFO:tensorflow:loss = 0.6761534, step = 1100 (0.345 sec)\n",
            "INFO:tensorflow:global_step/sec: 348.95\n",
            "INFO:tensorflow:loss = 0.6651354, step = 1200 (0.285 sec)\n",
            "INFO:tensorflow:global_step/sec: 397.075\n",
            "INFO:tensorflow:loss = 0.6641301, step = 1300 (0.252 sec)\n",
            "INFO:tensorflow:global_step/sec: 343.637\n",
            "INFO:tensorflow:loss = 0.6640954, step = 1400 (0.291 sec)\n",
            "INFO:tensorflow:global_step/sec: 369.864\n",
            "INFO:tensorflow:loss = 0.66558594, step = 1500 (0.271 sec)\n",
            "INFO:tensorflow:global_step/sec: 410.156\n",
            "INFO:tensorflow:loss = 0.6596162, step = 1600 (0.244 sec)\n",
            "INFO:tensorflow:global_step/sec: 384.44\n",
            "INFO:tensorflow:loss = 0.66617113, step = 1700 (0.257 sec)\n",
            "INFO:tensorflow:global_step/sec: 366.861\n",
            "INFO:tensorflow:loss = 0.66882724, step = 1800 (0.276 sec)\n",
            "INFO:tensorflow:global_step/sec: 385.503\n",
            "INFO:tensorflow:loss = 0.6552649, step = 1900 (0.256 sec)\n",
            "INFO:tensorflow:Calling checkpoint listeners before saving checkpoint 2000...\n",
            "INFO:tensorflow:Saving checkpoints for 2000 into /tmp/tmpc80bumyj/model.ckpt.\n",
            "INFO:tensorflow:Calling checkpoint listeners after saving checkpoint 2000...\n",
            "INFO:tensorflow:Loss for final step: 0.65569097.\n"
          ]
        },
        {
          "output_type": "execute_result",
          "data": {
            "text/plain": [
              "<tensorflow_estimator.python.estimator.canned.dnn.DNNClassifierV2 at 0x7f74d164bc10>"
            ]
          },
          "metadata": {},
          "execution_count": 524
        }
      ]
    },
    {
      "cell_type": "markdown",
      "source": [
        "###Evaluating Classifier"
      ],
      "metadata": {
        "id": "wsJhPpSU_a5j"
      }
    },
    {
      "cell_type": "code",
      "source": [
        "#determine the accurracy of th classifier\n",
        "eval_result = classifier.evaluate(\n",
        "    input_fn=lambda: input_fn(test_features_under, test_label_under, training=False))\n",
        "print('\\nTest set accuracy: {accuracy:0.3f}\\n'.format(**eval_result))"
      ],
      "metadata": {
        "colab": {
          "base_uri": "https://localhost:8080/"
        },
        "outputId": "bee9e1dc-0507-443f-85b9-5ce13278704c",
        "id": "5-n7J_zN_a5j"
      },
      "execution_count": null,
      "outputs": [
        {
          "output_type": "stream",
          "name": "stdout",
          "text": [
            "INFO:tensorflow:Calling model_fn.\n",
            "INFO:tensorflow:Done calling model_fn.\n",
            "INFO:tensorflow:Starting evaluation at 2022-03-26T16:15:54\n",
            "INFO:tensorflow:Graph was finalized.\n",
            "INFO:tensorflow:Restoring parameters from /tmp/tmpc80bumyj/model.ckpt-2000\n",
            "INFO:tensorflow:Running local_init_op.\n",
            "INFO:tensorflow:Done running local_init_op.\n",
            "INFO:tensorflow:Inference Time : 0.80529s\n",
            "INFO:tensorflow:Finished evaluation at 2022-03-26-16:15:54\n",
            "INFO:tensorflow:Saving dict for global step 2000: accuracy = 0.65315706, accuracy_baseline = 0.5008697, auc = 0.68928933, auc_precision_recall = 0.67850965, average_loss = 0.6564332, global_step = 2000, label/mean = 0.49913028, loss = 0.65602094, precision = 0.6292251, prediction/mean = 0.53448683, recall = 0.74281234\n",
            "INFO:tensorflow:Saving 'checkpoint_path' summary for global step 2000: /tmp/tmpc80bumyj/model.ckpt-2000\n",
            "\n",
            "Test set accuracy: 0.653\n",
            "\n"
          ]
        }
      ]
    },
    {
      "cell_type": "code",
      "source": [
        "#create predictions list for all test set\n",
        "predictions_under = list(classifier.predict(input_fn=lambda: input_fn(test_features_under, test_label_under, training=False)))"
      ],
      "metadata": {
        "outputId": "e970ce92-2ee1-42c0-d0b7-32693ce6132f",
        "colab": {
          "base_uri": "https://localhost:8080/"
        },
        "id": "GnmBpzgS_a5k"
      },
      "execution_count": null,
      "outputs": [
        {
          "output_type": "stream",
          "name": "stdout",
          "text": [
            "INFO:tensorflow:Calling model_fn.\n",
            "INFO:tensorflow:Done calling model_fn.\n",
            "INFO:tensorflow:Graph was finalized.\n",
            "INFO:tensorflow:Restoring parameters from /tmp/tmpc80bumyj/model.ckpt-2000\n",
            "INFO:tensorflow:Running local_init_op.\n",
            "INFO:tensorflow:Done running local_init_op.\n"
          ]
        }
      ]
    },
    {
      "cell_type": "code",
      "source": [
        "#create a dataframe of predictions for test set\n",
        "df_predictions = pd.DataFrame(predictions_under)"
      ],
      "metadata": {
        "id": "aItcfZNN_a5k"
      },
      "execution_count": null,
      "outputs": []
    },
    {
      "cell_type": "markdown",
      "source": [
        "###Plot of Results"
      ],
      "metadata": {
        "id": "ts91q6K2_a5l"
      }
    },
    {
      "cell_type": "code",
      "source": [
        "#add the actual matches to the prediciton dataframe\n",
        "df_predictions['actual label']=test_label_under.values"
      ],
      "metadata": {
        "id": "FEo5GMY3_a5l"
      },
      "execution_count": null,
      "outputs": []
    },
    {
      "cell_type": "code",
      "source": [
        "#add the class predicitons from the DNN to the dataframe\n",
        "df_predictions['predicted label']=pd.DataFrame.from_records(df_predictions['class_ids'])"
      ],
      "metadata": {
        "id": "-PybUwov_a5l"
      },
      "execution_count": null,
      "outputs": []
    },
    {
      "cell_type": "code",
      "source": [
        "#add a binary column to show if the dnn predictions were correct\n",
        "df_predictions['match?']=df_predictions['predicted label']-df_predictions['actual label']\n",
        "df_predictions['match?']=df_predictions['match?'].replace(0,'match')\n",
        "df_predictions['match?']=df_predictions['match?'].replace(-1,'not match')\n",
        "df_predictions['match?']=df_predictions['match?'].replace(1,'not match')"
      ],
      "metadata": {
        "id": "U53B19vJ_a5l"
      },
      "execution_count": null,
      "outputs": []
    },
    {
      "cell_type": "code",
      "source": [
        "#view the prdictions dataframe\n",
        "df_predictions.head()"
      ],
      "metadata": {
        "colab": {
          "base_uri": "https://localhost:8080/",
          "height": 206
        },
        "outputId": "e99d6247-3b2b-40cf-e1bd-48f0ba36f1a4",
        "id": "7reJrYY4_a5m"
      },
      "execution_count": null,
      "outputs": [
        {
          "output_type": "execute_result",
          "data": {
            "text/plain": [
              "          logits      logistic            probabilities class_ids classes  \\\n",
              "0    [0.8639078]   [0.7034764]  [0.29652357, 0.7034765]       [1]  [b'1']   \n",
              "1  [-0.08690309]   [0.4782879]   [0.5217121, 0.4782879]       [0]  [b'0']   \n",
              "2   [0.21017742]   [0.5523518]   [0.4476482, 0.5523518]       [1]  [b'1']   \n",
              "3   [0.52130127]  [0.62745196]     [0.372548, 0.627452]       [1]  [b'1']   \n",
              "4   [0.52130127]  [0.62745196]     [0.372548, 0.627452]       [1]  [b'1']   \n",
              "\n",
              "  all_class_ids   all_classes  actual label  predicted label     match?  \n",
              "0        [0, 1]  [b'0', b'1']             1                1      match  \n",
              "1        [0, 1]  [b'0', b'1']             0                0      match  \n",
              "2        [0, 1]  [b'0', b'1']             0                1  not match  \n",
              "3        [0, 1]  [b'0', b'1']             1                1      match  \n",
              "4        [0, 1]  [b'0', b'1']             1                1      match  "
            ],
            "text/html": [
              "\n",
              "  <div id=\"df-e7b2ce72-7485-42cb-8df0-05049d175258\">\n",
              "    <div class=\"colab-df-container\">\n",
              "      <div>\n",
              "<style scoped>\n",
              "    .dataframe tbody tr th:only-of-type {\n",
              "        vertical-align: middle;\n",
              "    }\n",
              "\n",
              "    .dataframe tbody tr th {\n",
              "        vertical-align: top;\n",
              "    }\n",
              "\n",
              "    .dataframe thead th {\n",
              "        text-align: right;\n",
              "    }\n",
              "</style>\n",
              "<table border=\"1\" class=\"dataframe\">\n",
              "  <thead>\n",
              "    <tr style=\"text-align: right;\">\n",
              "      <th></th>\n",
              "      <th>logits</th>\n",
              "      <th>logistic</th>\n",
              "      <th>probabilities</th>\n",
              "      <th>class_ids</th>\n",
              "      <th>classes</th>\n",
              "      <th>all_class_ids</th>\n",
              "      <th>all_classes</th>\n",
              "      <th>actual label</th>\n",
              "      <th>predicted label</th>\n",
              "      <th>match?</th>\n",
              "    </tr>\n",
              "  </thead>\n",
              "  <tbody>\n",
              "    <tr>\n",
              "      <th>0</th>\n",
              "      <td>[0.8639078]</td>\n",
              "      <td>[0.7034764]</td>\n",
              "      <td>[0.29652357, 0.7034765]</td>\n",
              "      <td>[1]</td>\n",
              "      <td>[b'1']</td>\n",
              "      <td>[0, 1]</td>\n",
              "      <td>[b'0', b'1']</td>\n",
              "      <td>1</td>\n",
              "      <td>1</td>\n",
              "      <td>match</td>\n",
              "    </tr>\n",
              "    <tr>\n",
              "      <th>1</th>\n",
              "      <td>[-0.08690309]</td>\n",
              "      <td>[0.4782879]</td>\n",
              "      <td>[0.5217121, 0.4782879]</td>\n",
              "      <td>[0]</td>\n",
              "      <td>[b'0']</td>\n",
              "      <td>[0, 1]</td>\n",
              "      <td>[b'0', b'1']</td>\n",
              "      <td>0</td>\n",
              "      <td>0</td>\n",
              "      <td>match</td>\n",
              "    </tr>\n",
              "    <tr>\n",
              "      <th>2</th>\n",
              "      <td>[0.21017742]</td>\n",
              "      <td>[0.5523518]</td>\n",
              "      <td>[0.4476482, 0.5523518]</td>\n",
              "      <td>[1]</td>\n",
              "      <td>[b'1']</td>\n",
              "      <td>[0, 1]</td>\n",
              "      <td>[b'0', b'1']</td>\n",
              "      <td>0</td>\n",
              "      <td>1</td>\n",
              "      <td>not match</td>\n",
              "    </tr>\n",
              "    <tr>\n",
              "      <th>3</th>\n",
              "      <td>[0.52130127]</td>\n",
              "      <td>[0.62745196]</td>\n",
              "      <td>[0.372548, 0.627452]</td>\n",
              "      <td>[1]</td>\n",
              "      <td>[b'1']</td>\n",
              "      <td>[0, 1]</td>\n",
              "      <td>[b'0', b'1']</td>\n",
              "      <td>1</td>\n",
              "      <td>1</td>\n",
              "      <td>match</td>\n",
              "    </tr>\n",
              "    <tr>\n",
              "      <th>4</th>\n",
              "      <td>[0.52130127]</td>\n",
              "      <td>[0.62745196]</td>\n",
              "      <td>[0.372548, 0.627452]</td>\n",
              "      <td>[1]</td>\n",
              "      <td>[b'1']</td>\n",
              "      <td>[0, 1]</td>\n",
              "      <td>[b'0', b'1']</td>\n",
              "      <td>1</td>\n",
              "      <td>1</td>\n",
              "      <td>match</td>\n",
              "    </tr>\n",
              "  </tbody>\n",
              "</table>\n",
              "</div>\n",
              "      <button class=\"colab-df-convert\" onclick=\"convertToInteractive('df-e7b2ce72-7485-42cb-8df0-05049d175258')\"\n",
              "              title=\"Convert this dataframe to an interactive table.\"\n",
              "              style=\"display:none;\">\n",
              "        \n",
              "  <svg xmlns=\"http://www.w3.org/2000/svg\" height=\"24px\"viewBox=\"0 0 24 24\"\n",
              "       width=\"24px\">\n",
              "    <path d=\"M0 0h24v24H0V0z\" fill=\"none\"/>\n",
              "    <path d=\"M18.56 5.44l.94 2.06.94-2.06 2.06-.94-2.06-.94-.94-2.06-.94 2.06-2.06.94zm-11 1L8.5 8.5l.94-2.06 2.06-.94-2.06-.94L8.5 2.5l-.94 2.06-2.06.94zm10 10l.94 2.06.94-2.06 2.06-.94-2.06-.94-.94-2.06-.94 2.06-2.06.94z\"/><path d=\"M17.41 7.96l-1.37-1.37c-.4-.4-.92-.59-1.43-.59-.52 0-1.04.2-1.43.59L10.3 9.45l-7.72 7.72c-.78.78-.78 2.05 0 2.83L4 21.41c.39.39.9.59 1.41.59.51 0 1.02-.2 1.41-.59l7.78-7.78 2.81-2.81c.8-.78.8-2.07 0-2.86zM5.41 20L4 18.59l7.72-7.72 1.47 1.35L5.41 20z\"/>\n",
              "  </svg>\n",
              "      </button>\n",
              "      \n",
              "  <style>\n",
              "    .colab-df-container {\n",
              "      display:flex;\n",
              "      flex-wrap:wrap;\n",
              "      gap: 12px;\n",
              "    }\n",
              "\n",
              "    .colab-df-convert {\n",
              "      background-color: #E8F0FE;\n",
              "      border: none;\n",
              "      border-radius: 50%;\n",
              "      cursor: pointer;\n",
              "      display: none;\n",
              "      fill: #1967D2;\n",
              "      height: 32px;\n",
              "      padding: 0 0 0 0;\n",
              "      width: 32px;\n",
              "    }\n",
              "\n",
              "    .colab-df-convert:hover {\n",
              "      background-color: #E2EBFA;\n",
              "      box-shadow: 0px 1px 2px rgba(60, 64, 67, 0.3), 0px 1px 3px 1px rgba(60, 64, 67, 0.15);\n",
              "      fill: #174EA6;\n",
              "    }\n",
              "\n",
              "    [theme=dark] .colab-df-convert {\n",
              "      background-color: #3B4455;\n",
              "      fill: #D2E3FC;\n",
              "    }\n",
              "\n",
              "    [theme=dark] .colab-df-convert:hover {\n",
              "      background-color: #434B5C;\n",
              "      box-shadow: 0px 1px 3px 1px rgba(0, 0, 0, 0.15);\n",
              "      filter: drop-shadow(0px 1px 2px rgba(0, 0, 0, 0.3));\n",
              "      fill: #FFFFFF;\n",
              "    }\n",
              "  </style>\n",
              "\n",
              "      <script>\n",
              "        const buttonEl =\n",
              "          document.querySelector('#df-e7b2ce72-7485-42cb-8df0-05049d175258 button.colab-df-convert');\n",
              "        buttonEl.style.display =\n",
              "          google.colab.kernel.accessAllowed ? 'block' : 'none';\n",
              "\n",
              "        async function convertToInteractive(key) {\n",
              "          const element = document.querySelector('#df-e7b2ce72-7485-42cb-8df0-05049d175258');\n",
              "          const dataTable =\n",
              "            await google.colab.kernel.invokeFunction('convertToInteractive',\n",
              "                                                     [key], {});\n",
              "          if (!dataTable) return;\n",
              "\n",
              "          const docLinkHtml = 'Like what you see? Visit the ' +\n",
              "            '<a target=\"_blank\" href=https://colab.research.google.com/notebooks/data_table.ipynb>data table notebook</a>'\n",
              "            + ' to learn more about interactive tables.';\n",
              "          element.innerHTML = '';\n",
              "          dataTable['output_type'] = 'display_data';\n",
              "          await google.colab.output.renderOutput(dataTable, element);\n",
              "          const docLink = document.createElement('div');\n",
              "          docLink.innerHTML = docLinkHtml;\n",
              "          element.appendChild(docLink);\n",
              "        }\n",
              "      </script>\n",
              "    </div>\n",
              "  </div>\n",
              "  "
            ]
          },
          "metadata": {},
          "execution_count": 531
        }
      ]
    },
    {
      "cell_type": "code",
      "source": [
        "#create a new dataframe showing only the correct predictions\n",
        "correct_predictions = df_predictions[df_predictions['match?']=='match']\n",
        "#get the count of the correct predctions for eah label\n",
        "correct_pred_count_label_0 , correct_pred_count_label_1 = correct_predictions['predicted label'].value_counts()\n",
        "#get the actual label count for each label\n",
        "actual_count_label_0 , actual_count_label_1 = df_predictions['actual label'].value_counts()"
      ],
      "metadata": {
        "id": "nqD7mevd_a5m"
      },
      "execution_count": null,
      "outputs": []
    },
    {
      "cell_type": "code",
      "source": [
        "#get the accuracy of each labels predictions\n",
        "accuracy_label_0,accuracy_label_1 = correct_pred_count_label_0/actual_count_label_0 , correct_pred_count_label_1/actual_count_label_1\n",
        "accuracy=accuracy_label_0*100,accuracy_label_1*100\n",
        "accuracy=pd.Series(accuracy)\n",
        "print('Accuracy of label 0 (non-fatal): ', accuracy_label_0, '\\nAccuracy of label 1 (fatal): ', accuracy_label_1)"
      ],
      "metadata": {
        "colab": {
          "base_uri": "https://localhost:8080/"
        },
        "outputId": "5905f477-8d56-4930-ef89-1b226fbaa25a",
        "id": "T0_TptLm_a5m"
      },
      "execution_count": null,
      "outputs": [
        {
          "output_type": "stream",
          "name": "stdout",
          "text": [
            "Accuracy of label 0 (non-fatal):  0.740232679284598 \n",
            "Accuracy of label 1 (fatal):  0.5657780101062903\n"
          ]
        }
      ]
    },
    {
      "cell_type": "code",
      "source": [
        "#plot the accuracy of each labels predictions\n",
        "fig, axes = plt.subplots(figsize=(18, 10))\n",
        "accuracy.plot(kind='barh')\n",
        "plt.yticks((0,1), ('non-Fatal accident', 'Fatal accident'))\n",
        "plt.xticks((0,10,20,30,40,50,60), ('0%', '10%','20%','30%','40%','50%','60%'))\n",
        "plt.xlabel('prectange accuracy')\n",
        "plt.title('percentage accuracy for each class/label')"
      ],
      "metadata": {
        "colab": {
          "base_uri": "https://localhost:8080/",
          "height": 639
        },
        "outputId": "088bbaf2-bc7e-4788-ab5c-6dfc1390e310",
        "id": "IvI5Xg7o_a5o"
      },
      "execution_count": null,
      "outputs": [
        {
          "output_type": "execute_result",
          "data": {
            "text/plain": [
              "Text(0.5, 1.0, 'percentage accuracy for each class/label')"
            ]
          },
          "metadata": {},
          "execution_count": 534
        },
        {
          "output_type": "display_data",
          "data": {
            "text/plain": [
              "<Figure size 1296x720 with 1 Axes>"
            ],
            "image/png": "[encoded data removed]"
          },
          "metadata": {
            "needs_background": "light"
          }
        }
      ]
    },
    {
      "cell_type": "code",
      "source": [
        "#creating probabilty columns for each label\n",
        "df_predictions['prob fatal']=pd.DataFrame.from_records(df_predictions['probabilities'])[1]\n",
        "df_predictions['prob non-fatal']=pd.DataFrame.from_records(df_predictions['probabilities'])[0]"
      ],
      "metadata": {
        "id": "Xk0iOspU_a5o"
      },
      "execution_count": null,
      "outputs": []
    },
    {
      "cell_type": "code",
      "source": [
        "#create a data frame of only the correct predictions and filter it to rows with high probabilities\n",
        "dataframe_correct_predictions = df_predictions[df_predictions['match?']=='match']\n",
        "dataframe_correct_predictions[(dataframe_correct_predictions['prob non-fatal']>.70 )| (dataframe_correct_predictions['prob fatal']>.70)]\n",
        "#counting incorrect prediciton where prob was high\n",
        "dataframe_incorrect_predictions = df_predictions[df_predictions['match?']=='not match']\n",
        "dataframe_incorrect_predictions[(dataframe_incorrect_predictions['prob non-fatal']>.70 )| (dataframe_incorrect_predictions['prob fatal']>.70)].describe()"
      ],
      "metadata": {
        "colab": {
          "base_uri": "https://localhost:8080/",
          "height": 300
        },
        "outputId": "b316776e-e0b0-48ab-bd82-e880ed667e29",
        "id": "SU_vVGRi_a5o"
      },
      "execution_count": null,
      "outputs": [
        {
          "output_type": "execute_result",
          "data": {
            "text/plain": [
              "       actual label  predicted label  prob fatal  prob non-fatal\n",
              "count    294.000000       294.000000  294.000000      294.000000\n",
              "mean       0.394558         0.605442    0.535162        0.464837\n",
              "std        0.489589         0.489589    0.220495        0.220495\n",
              "min        0.000000         0.000000    0.215576        0.246972\n",
              "25%        0.000000         0.000000    0.282471        0.296524\n",
              "50%        0.000000         1.000000    0.703476        0.296524\n",
              "75%        1.000000         1.000000    0.703476        0.717529\n",
              "max        1.000000         1.000000    0.753028        0.784424"
            ],
            "text/html": [
              "\n",
              "  <div id=\"df-e7b17ae4-5a6a-4d19-8b48-ad81eeef46ee\">\n",
              "    <div class=\"colab-df-container\">\n",
              "      <div>\n",
              "<style scoped>\n",
              "    .dataframe tbody tr th:only-of-type {\n",
              "        vertical-align: middle;\n",
              "    }\n",
              "\n",
              "    .dataframe tbody tr th {\n",
              "        vertical-align: top;\n",
              "    }\n",
              "\n",
              "    .dataframe thead th {\n",
              "        text-align: right;\n",
              "    }\n",
              "</style>\n",
              "<table border=\"1\" class=\"dataframe\">\n",
              "  <thead>\n",
              "    <tr style=\"text-align: right;\">\n",
              "      <th></th>\n",
              "      <th>actual label</th>\n",
              "      <th>predicted label</th>\n",
              "      <th>prob fatal</th>\n",
              "      <th>prob non-fatal</th>\n",
              "    </tr>\n",
              "  </thead>\n",
              "  <tbody>\n",
              "    <tr>\n",
              "      <th>count</th>\n",
              "      <td>294.000000</td>\n",
              "      <td>294.000000</td>\n",
              "      <td>294.000000</td>\n",
              "      <td>294.000000</td>\n",
              "    </tr>\n",
              "    <tr>\n",
              "      <th>mean</th>\n",
              "      <td>0.394558</td>\n",
              "      <td>0.605442</td>\n",
              "      <td>0.535162</td>\n",
              "      <td>0.464837</td>\n",
              "    </tr>\n",
              "    <tr>\n",
              "      <th>std</th>\n",
              "      <td>0.489589</td>\n",
              "      <td>0.489589</td>\n",
              "      <td>0.220495</td>\n",
              "      <td>0.220495</td>\n",
              "    </tr>\n",
              "    <tr>\n",
              "      <th>min</th>\n",
              "      <td>0.000000</td>\n",
              "      <td>0.000000</td>\n",
              "      <td>0.215576</td>\n",
              "      <td>0.246972</td>\n",
              "    </tr>\n",
              "    <tr>\n",
              "      <th>25%</th>\n",
              "      <td>0.000000</td>\n",
              "      <td>0.000000</td>\n",
              "      <td>0.282471</td>\n",
              "      <td>0.296524</td>\n",
              "    </tr>\n",
              "    <tr>\n",
              "      <th>50%</th>\n",
              "      <td>0.000000</td>\n",
              "      <td>1.000000</td>\n",
              "      <td>0.703476</td>\n",
              "      <td>0.296524</td>\n",
              "    </tr>\n",
              "    <tr>\n",
              "      <th>75%</th>\n",
              "      <td>1.000000</td>\n",
              "      <td>1.000000</td>\n",
              "      <td>0.703476</td>\n",
              "      <td>0.717529</td>\n",
              "    </tr>\n",
              "    <tr>\n",
              "      <th>max</th>\n",
              "      <td>1.000000</td>\n",
              "      <td>1.000000</td>\n",
              "      <td>0.753028</td>\n",
              "      <td>0.784424</td>\n",
              "    </tr>\n",
              "  </tbody>\n",
              "</table>\n",
              "</div>\n",
              "      <button class=\"colab-df-convert\" onclick=\"convertToInteractive('df-e7b17ae4-5a6a-4d19-8b48-ad81eeef46ee')\"\n",
              "              title=\"Convert this dataframe to an interactive table.\"\n",
              "              style=\"display:none;\">\n",
              "        \n",
              "  <svg xmlns=\"http://www.w3.org/2000/svg\" height=\"24px\"viewBox=\"0 0 24 24\"\n",
              "       width=\"24px\">\n",
              "    <path d=\"M0 0h24v24H0V0z\" fill=\"none\"/>\n",
              "    <path d=\"M18.56 5.44l.94 2.06.94-2.06 2.06-.94-2.06-.94-.94-2.06-.94 2.06-2.06.94zm-11 1L8.5 8.5l.94-2.06 2.06-.94-2.06-.94L8.5 2.5l-.94 2.06-2.06.94zm10 10l.94 2.06.94-2.06 2.06-.94-2.06-.94-.94-2.06-.94 2.06-2.06.94z\"/><path d=\"M17.41 7.96l-1.37-1.37c-.4-.4-.92-.59-1.43-.59-.52 0-1.04.2-1.43.59L10.3 9.45l-7.72 7.72c-.78.78-.78 2.05 0 2.83L4 21.41c.39.39.9.59 1.41.59.51 0 1.02-.2 1.41-.59l7.78-7.78 2.81-2.81c.8-.78.8-2.07 0-2.86zM5.41 20L4 18.59l7.72-7.72 1.47 1.35L5.41 20z\"/>\n",
              "  </svg>\n",
              "      </button>\n",
              "      \n",
              "  <style>\n",
              "    .colab-df-container {\n",
              "      display:flex;\n",
              "      flex-wrap:wrap;\n",
              "      gap: 12px;\n",
              "    }\n",
              "\n",
              "    .colab-df-convert {\n",
              "      background-color: #E8F0FE;\n",
              "      border: none;\n",
              "      border-radius: 50%;\n",
              "      cursor: pointer;\n",
              "      display: none;\n",
              "      fill: #1967D2;\n",
              "      height: 32px;\n",
              "      padding: 0 0 0 0;\n",
              "      width: 32px;\n",
              "    }\n",
              "\n",
              "    .colab-df-convert:hover {\n",
              "      background-color: #E2EBFA;\n",
              "      box-shadow: 0px 1px 2px rgba(60, 64, 67, 0.3), 0px 1px 3px 1px rgba(60, 64, 67, 0.15);\n",
              "      fill: #174EA6;\n",
              "    }\n",
              "\n",
              "    [theme=dark] .colab-df-convert {\n",
              "      background-color: #3B4455;\n",
              "      fill: #D2E3FC;\n",
              "    }\n",
              "\n",
              "    [theme=dark] .colab-df-convert:hover {\n",
              "      background-color: #434B5C;\n",
              "      box-shadow: 0px 1px 3px 1px rgba(0, 0, 0, 0.15);\n",
              "      filter: drop-shadow(0px 1px 2px rgba(0, 0, 0, 0.3));\n",
              "      fill: #FFFFFF;\n",
              "    }\n",
              "  </style>\n",
              "\n",
              "      <script>\n",
              "        const buttonEl =\n",
              "          document.querySelector('#df-e7b17ae4-5a6a-4d19-8b48-ad81eeef46ee button.colab-df-convert');\n",
              "        buttonEl.style.display =\n",
              "          google.colab.kernel.accessAllowed ? 'block' : 'none';\n",
              "\n",
              "        async function convertToInteractive(key) {\n",
              "          const element = document.querySelector('#df-e7b17ae4-5a6a-4d19-8b48-ad81eeef46ee');\n",
              "          const dataTable =\n",
              "            await google.colab.kernel.invokeFunction('convertToInteractive',\n",
              "                                                     [key], {});\n",
              "          if (!dataTable) return;\n",
              "\n",
              "          const docLinkHtml = 'Like what you see? Visit the ' +\n",
              "            '<a target=\"_blank\" href=https://colab.research.google.com/notebooks/data_table.ipynb>data table notebook</a>'\n",
              "            + ' to learn more about interactive tables.';\n",
              "          element.innerHTML = '';\n",
              "          dataTable['output_type'] = 'display_data';\n",
              "          await google.colab.output.renderOutput(dataTable, element);\n",
              "          const docLink = document.createElement('div');\n",
              "          docLink.innerHTML = docLinkHtml;\n",
              "          element.appendChild(docLink);\n",
              "        }\n",
              "      </script>\n",
              "    </div>\n",
              "  </div>\n",
              "  "
            ]
          },
          "metadata": {},
          "execution_count": 536
        }
      ]
    },
    {
      "cell_type": "markdown",
      "source": [
        "#Iteration 3 - 'Weather_Conditions', 'Local_Authority_(District)','Speed_limit'"
      ],
      "metadata": {
        "id": "vjGQGY5tBHGK"
      }
    },
    {
      "cell_type": "markdown",
      "source": [
        "##Features"
      ],
      "metadata": {
        "id": "zWE5_IATBHGM"
      }
    },
    {
      "cell_type": "markdown",
      "source": [
        "###Seleceting Features, checking correlation between them, cleaning missing data"
      ],
      "metadata": {
        "id": "DeQKOckkBHGO"
      }
    },
    {
      "cell_type": "code",
      "source": [
        "df_features = df[['Weather_Conditions', 'Local_Authority_(District)','Speed_limit','Accident_Severity']]\n",
        "df_features = df_features.rename(columns={'Local_Authority_(District)':'district'})"
      ],
      "metadata": {
        "id": "0WshyjKeBHGP"
      },
      "execution_count": null,
      "outputs": []
    },
    {
      "cell_type": "code",
      "source": [
        "#checking correlation between features\n",
        "df_features.corr()\n",
        "sns.heatmap(df_features.corr())"
      ],
      "metadata": {
        "colab": {
          "base_uri": "https://localhost:8080/",
          "height": 73
        },
        "outputId": "7a0bfd2c-489e-42e9-ebb7-e847acf03821",
        "id": "u0EsIOamBHGQ"
      },
      "execution_count": null,
      "outputs": [
        {
          "output_type": "execute_result",
          "data": {
            "text/plain": [
              "<matplotlib.axes._subplots.AxesSubplot at 0x7f74d59c9410>"
            ]
          },
          "metadata": {},
          "execution_count": 811
        },
        {
          "output_type": "display_data",
          "data": {
            "text/plain": [
              "<Figure size 432x288 with 2 Axes>"
            ],
            "image/png": "[encoded data removed]"
          },
          "metadata": {
            "needs_background": "light"
          }
        }
      ]
    },
    {
      "cell_type": "code",
      "source": [
        "#checking which values have missing data, note missing data is recorded as -1\n",
        "df_features.min()"
      ],
      "metadata": {
        "colab": {
          "base_uri": "https://localhost:8080/"
        },
        "outputId": "6e345bf1-7d90-409d-f487-3e7e0d9e2df4",
        "id": "qkVDbi1ABHGR"
      },
      "execution_count": null,
      "outputs": [
        {
          "output_type": "execute_result",
          "data": {
            "text/plain": [
              "Weather_Conditions   -1\n",
              "district              1\n",
              "Speed_limit           0\n",
              "Accident_Severity     1\n",
              "dtype: int64"
            ]
          },
          "metadata": {},
          "execution_count": 812
        }
      ]
    },
    {
      "cell_type": "code",
      "source": [
        "#there are 161 accident that do not have recorded weather conditions, will drop these\n",
        "df_features['Weather_Conditions'][df_features['Weather_Conditions']==-1].count()"
      ],
      "metadata": {
        "colab": {
          "base_uri": "https://localhost:8080/"
        },
        "outputId": "3b8ce2ad-f397-43cb-ca7e-405fe42b44ce",
        "id": "9lGDXEs6BHGR"
      },
      "execution_count": null,
      "outputs": [
        {
          "output_type": "execute_result",
          "data": {
            "text/plain": [
              "161"
            ]
          },
          "metadata": {},
          "execution_count": 813
        }
      ]
    },
    {
      "cell_type": "code",
      "source": [
        "#removing all rows with (missing) data\n",
        "df_features = df_features[df_features['Weather_Conditions']!=-1]\n",
        "df_features = df_features[df_features['Speed_limit']!=0]"
      ],
      "metadata": {
        "id": "JavDOicmBHGS"
      },
      "execution_count": null,
      "outputs": []
    },
    {
      "cell_type": "markdown",
      "source": [
        "df_features.count()"
      ],
      "metadata": {
        "id": "D_FR8LyIBHGT"
      }
    },
    {
      "cell_type": "markdown",
      "source": [
        "### Cleaning Label (accident severity) so that there are 2 classes instead of 3"
      ],
      "metadata": {
        "id": "qSKwefFlBHGT"
      }
    },
    {
      "cell_type": "code",
      "source": [
        "#check count for each level of accident deverity\n",
        "df_features['Accident_Severity'].value_counts()"
      ],
      "metadata": {
        "colab": {
          "base_uri": "https://localhost:8080/"
        },
        "outputId": "653ed04d-9ba6-4ab2-fdd8-c1ae45020758",
        "id": "vSuNbA19BHGU"
      },
      "execution_count": null,
      "outputs": [
        {
          "output_type": "execute_result",
          "data": {
            "text/plain": [
              "3    1515429\n",
              "2     242067\n",
              "1      22995\n",
              "Name: Accident_Severity, dtype: int64"
            ]
          },
          "metadata": {},
          "execution_count": 815
        }
      ]
    },
    {
      "cell_type": "code",
      "source": [
        "#replace all accident severities where severiry is 2 or 3 and group them into 1 bucket (non-fatal)\n",
        "df_features['Accident_Severity'] = df_features['Accident_Severity'].replace(2,0)\n",
        "df_features['Accident_Severity'] = df_features['Accident_Severity'].replace(3,0)"
      ],
      "metadata": {
        "id": "9HVTKR5ABHGU"
      },
      "execution_count": null,
      "outputs": []
    },
    {
      "cell_type": "code",
      "source": [
        "#create 2 dataframe, 1 for each class, and print the size each\n",
        "class_1 = df_features[df_features['Accident_Severity'] == 1]\n",
        "class_0 = df_features[df_features['Accident_Severity'] == 0]\n",
        "print('class 1 (fatal):', len(class_1))\n",
        "print('class 0 (non-fatal):', len(class_0))"
      ],
      "metadata": {
        "colab": {
          "base_uri": "https://localhost:8080/"
        },
        "outputId": "e432b1e4-5f13-4a6f-dbe6-187921b718b4",
        "id": "zj_TZDOiBHGV"
      },
      "execution_count": null,
      "outputs": [
        {
          "output_type": "stream",
          "name": "stdout",
          "text": [
            "class 1 (fatal): 22995\n",
            "class 0 (non-fatal): 1757496\n"
          ]
        }
      ]
    },
    {
      "cell_type": "markdown",
      "source": [
        "###Accounting for imbalance in the dataset by undersampling"
      ],
      "metadata": {
        "id": "D-2NLIKTBHGV"
      }
    },
    {
      "cell_type": "code",
      "source": [
        "#get the length of the dataset for each class/label\n",
        "class_count_0, class_count_1 = df_features['Accident_Severity'].value_counts()"
      ],
      "metadata": {
        "id": "fsN1tEjkBHGV"
      },
      "execution_count": null,
      "outputs": []
    },
    {
      "cell_type": "code",
      "source": [
        "#undersampling of class 0 to balance the count of data for each class/label\n",
        "class_0_under = class_0.sample(class_count_1)\n",
        "df_features_under = pd.concat([class_0_under, class_1], axis=0)"
      ],
      "metadata": {
        "id": "shFmk8ZcBHGX"
      },
      "execution_count": null,
      "outputs": []
    },
    {
      "cell_type": "code",
      "source": [
        "#print the size of the new dataset for each class/label after undersampling\n",
        "class_1 = df_features_under[df_features_under['Accident_Severity'] == 1]\n",
        "class_0 = df_features_under[df_features_under['Accident_Severity'] == 0]\n",
        "print('class 1 (fatal):', len(class_1))\n",
        "print('class 0 (non-fatal):', len(class_0))"
      ],
      "metadata": {
        "colab": {
          "base_uri": "https://localhost:8080/"
        },
        "outputId": "037ccba4-1d3d-4ac3-ac00-aa74f667fa07",
        "id": "mdSQ97nJBHGX"
      },
      "execution_count": null,
      "outputs": [
        {
          "output_type": "stream",
          "name": "stdout",
          "text": [
            "class 1 (fatal): 22995\n",
            "class 0 (non-fatal): 22995\n"
          ]
        }
      ]
    },
    {
      "cell_type": "markdown",
      "source": [
        "###splitting the dataset in training and test datasets"
      ],
      "metadata": {
        "id": "6h0GX1OzBHGZ"
      }
    },
    {
      "cell_type": "code",
      "source": [
        "#splitting the dataset into training and test sets\n",
        "train_features_under, test_features_under = train_test_split(df_features_under, test_size=0.25)"
      ],
      "metadata": {
        "id": "0IUtqvIpBHGZ"
      },
      "execution_count": null,
      "outputs": []
    },
    {
      "cell_type": "code",
      "source": [
        "#pop out the label column from the train and test undersampled datasets\n",
        "train_label_under = train_features_under.pop('Accident_Severity')\n",
        "test_label_under = test_features_under.pop('Accident_Severity')"
      ],
      "metadata": {
        "id": "R2KVXFbdBHGZ"
      },
      "execution_count": null,
      "outputs": []
    },
    {
      "cell_type": "markdown",
      "source": [
        "## DNN Classifier"
      ],
      "metadata": {
        "id": "IoCAXcHdBHGZ"
      }
    },
    {
      "cell_type": "markdown",
      "source": [
        "###defining input function, creating classifier, training classifer"
      ],
      "metadata": {
        "id": "at_zulqLBHGb"
      }
    },
    {
      "cell_type": "code",
      "source": [
        "def input_fn(features, labels, training=True, batch_size=344):\n",
        "    # Convert the inputs to a Dataset.\n",
        "    dataset = tf.data.Dataset.from_tensor_slices((dict(features), labels))\n",
        "    # Shuffle and repeat if you are in training mode.\n",
        "    if training:\n",
        "        dataset = dataset.shuffle(1000).repeat()\n",
        "    return dataset.batch(batch_size)"
      ],
      "metadata": {
        "id": "zTQ1tGAQBHGb"
      },
      "execution_count": null,
      "outputs": []
    },
    {
      "cell_type": "code",
      "source": [
        "# creating a tensorflow Feature column list\n",
        "my_feature_columns = []\n",
        "for key in train_features_under.keys():\n",
        "    my_feature_columns.append(tf.feature_column.numeric_column(key=key))\n",
        "my_feature_columns"
      ],
      "metadata": {
        "colab": {
          "base_uri": "https://localhost:8080/"
        },
        "outputId": "dbae1f6c-e67f-4a5f-f06f-124ad940012a",
        "id": "vU5g5VuMBHGb"
      },
      "execution_count": null,
      "outputs": [
        {
          "output_type": "execute_result",
          "data": {
            "text/plain": [
              "[NumericColumn(key='Weather_Conditions', shape=(1,), default_value=None, dtype=tf.float32, normalizer_fn=None),\n",
              " NumericColumn(key='district', shape=(1,), default_value=None, dtype=tf.float32, normalizer_fn=None),\n",
              " NumericColumn(key='Speed_limit', shape=(1,), default_value=None, dtype=tf.float32, normalizer_fn=None)]"
            ]
          },
          "metadata": {},
          "execution_count": 824
        }
      ]
    },
    {
      "cell_type": "code",
      "source": [
        "# Build a DNN with 2 hidden layers with 30 and 10 hidden nodes each.\n",
        "classifier = tf.estimator.DNNClassifier(\n",
        "    feature_columns=my_feature_columns,\n",
        "    # Two hidden layers of 30 and 10 nodes respectively.\n",
        "    hidden_units=[30, 10],\n",
        "    # The model must choose between 2 classes.\n",
        "    n_classes=2)"
      ],
      "metadata": {
        "colab": {
          "base_uri": "https://localhost:8080/"
        },
        "outputId": "09aa873f-531f-407a-beac-69c8043a5c30",
        "id": "evocTzvVBHGc"
      },
      "execution_count": null,
      "outputs": [
        {
          "output_type": "stream",
          "name": "stdout",
          "text": [
            "INFO:tensorflow:Using default config.\n",
            "WARNING:tensorflow:Using temporary folder as model directory: /tmp/tmp9l2p86q1\n",
            "INFO:tensorflow:Using config: {'_model_dir': '/tmp/tmp9l2p86q1', '_tf_random_seed': None, '_save_summary_steps': 100, '_save_checkpoints_steps': None, '_save_checkpoints_secs': 600, '_session_config': allow_soft_placement: true\n",
            "graph_options {\n",
            "  rewrite_options {\n",
            "    meta_optimizer_iterations: ONE\n",
            "  }\n",
            "}\n",
            ", '_keep_checkpoint_max': 5, '_keep_checkpoint_every_n_hours': 10000, '_log_step_count_steps': 100, '_train_distribute': None, '_device_fn': None, '_protocol': None, '_eval_distribute': None, '_experimental_distribute': None, '_experimental_max_worker_delay_secs': None, '_session_creation_timeout_secs': 7200, '_checkpoint_save_graph_def': True, '_service': None, '_cluster_spec': ClusterSpec({}), '_task_type': 'worker', '_task_id': 0, '_global_id_in_cluster': 0, '_master': '', '_evaluation_master': '', '_is_chief': True, '_num_ps_replicas': 0, '_num_worker_replicas': 1}\n"
          ]
        }
      ]
    },
    {
      "cell_type": "code",
      "source": [
        "classifier.train(input_fn=lambda: input_fn(train_features_under, train_label_under, training=True),steps=5000)\n",
        "# We include a lambda to avoid creating an inner function previously"
      ],
      "metadata": {
        "colab": {
          "base_uri": "https://localhost:8080/"
        },
        "outputId": "d23c60af-3b19-4d99-bd8f-3ba257b129eb",
        "id": "QVya3eT-BHGc"
      },
      "execution_count": null,
      "outputs": [
        {
          "output_type": "stream",
          "name": "stdout",
          "text": [
            "INFO:tensorflow:Calling model_fn.\n",
            "INFO:tensorflow:Done calling model_fn.\n",
            "INFO:tensorflow:Create CheckpointSaverHook.\n",
            "INFO:tensorflow:Graph was finalized.\n",
            "INFO:tensorflow:Restoring parameters from /tmp/tmp9l2p86q1/model.ckpt-5000\n",
            "INFO:tensorflow:Running local_init_op.\n",
            "INFO:tensorflow:Done running local_init_op.\n",
            "INFO:tensorflow:Calling checkpoint listeners before saving checkpoint 5000...\n",
            "INFO:tensorflow:Saving checkpoints for 5000 into /tmp/tmp9l2p86q1/model.ckpt.\n",
            "INFO:tensorflow:Calling checkpoint listeners after saving checkpoint 5000...\n",
            "INFO:tensorflow:loss = 0.6779279, step = 5000\n",
            "INFO:tensorflow:global_step/sec: 292.985\n",
            "INFO:tensorflow:loss = 0.66504884, step = 5100 (0.345 sec)\n",
            "INFO:tensorflow:global_step/sec: 367.576\n",
            "INFO:tensorflow:loss = 0.67332464, step = 5200 (0.271 sec)\n",
            "INFO:tensorflow:global_step/sec: 394.708\n",
            "INFO:tensorflow:loss = 0.67707276, step = 5300 (0.254 sec)\n",
            "INFO:tensorflow:global_step/sec: 372.458\n",
            "INFO:tensorflow:loss = 0.6867147, step = 5400 (0.270 sec)\n",
            "INFO:tensorflow:global_step/sec: 387.071\n",
            "INFO:tensorflow:loss = 0.6657639, step = 5500 (0.258 sec)\n",
            "INFO:tensorflow:global_step/sec: 365.33\n",
            "INFO:tensorflow:loss = 0.6852746, step = 5600 (0.271 sec)\n",
            "INFO:tensorflow:global_step/sec: 368.388\n",
            "INFO:tensorflow:loss = 0.6766338, step = 5700 (0.274 sec)\n",
            "INFO:tensorflow:global_step/sec: 391.517\n",
            "INFO:tensorflow:loss = 0.68588114, step = 5800 (0.258 sec)\n",
            "INFO:tensorflow:global_step/sec: 378.686\n",
            "INFO:tensorflow:loss = 0.68922746, step = 5900 (0.259 sec)\n",
            "INFO:tensorflow:global_step/sec: 400.057\n",
            "INFO:tensorflow:loss = 0.67512053, step = 6000 (0.253 sec)\n",
            "INFO:tensorflow:global_step/sec: 392.176\n",
            "INFO:tensorflow:loss = 0.6713162, step = 6100 (0.252 sec)\n",
            "INFO:tensorflow:global_step/sec: 393.404\n",
            "INFO:tensorflow:loss = 0.6765034, step = 6200 (0.256 sec)\n",
            "INFO:tensorflow:global_step/sec: 382.944\n",
            "INFO:tensorflow:loss = 0.6585467, step = 6300 (0.261 sec)\n",
            "INFO:tensorflow:global_step/sec: 368.967\n",
            "INFO:tensorflow:loss = 0.67151386, step = 6400 (0.272 sec)\n",
            "INFO:tensorflow:global_step/sec: 374.435\n",
            "INFO:tensorflow:loss = 0.68554527, step = 6500 (0.264 sec)\n",
            "INFO:tensorflow:global_step/sec: 377.756\n",
            "INFO:tensorflow:loss = 0.6651546, step = 6600 (0.268 sec)\n",
            "INFO:tensorflow:global_step/sec: 362.313\n",
            "INFO:tensorflow:loss = 0.64939404, step = 6700 (0.272 sec)\n",
            "INFO:tensorflow:global_step/sec: 370.528\n",
            "INFO:tensorflow:loss = 0.6792177, step = 6800 (0.273 sec)\n",
            "INFO:tensorflow:global_step/sec: 366.752\n",
            "INFO:tensorflow:loss = 0.65832824, step = 6900 (0.270 sec)\n",
            "INFO:tensorflow:global_step/sec: 371.432\n",
            "INFO:tensorflow:loss = 0.6664879, step = 7000 (0.269 sec)\n",
            "INFO:tensorflow:global_step/sec: 384.613\n",
            "INFO:tensorflow:loss = 0.6760159, step = 7100 (0.260 sec)\n",
            "INFO:tensorflow:global_step/sec: 357.107\n",
            "INFO:tensorflow:loss = 0.6659906, step = 7200 (0.284 sec)\n",
            "INFO:tensorflow:global_step/sec: 334.144\n",
            "INFO:tensorflow:loss = 0.6670416, step = 7300 (0.299 sec)\n",
            "INFO:tensorflow:global_step/sec: 373.66\n",
            "INFO:tensorflow:loss = 0.67189574, step = 7400 (0.266 sec)\n",
            "INFO:tensorflow:global_step/sec: 357.076\n",
            "INFO:tensorflow:loss = 0.6353347, step = 7500 (0.281 sec)\n",
            "INFO:tensorflow:global_step/sec: 345.469\n",
            "INFO:tensorflow:loss = 0.6509861, step = 7600 (0.289 sec)\n",
            "INFO:tensorflow:global_step/sec: 384.074\n",
            "INFO:tensorflow:loss = 0.66017354, step = 7700 (0.261 sec)\n",
            "INFO:tensorflow:global_step/sec: 380.214\n",
            "INFO:tensorflow:loss = 0.65891045, step = 7800 (0.262 sec)\n",
            "INFO:tensorflow:global_step/sec: 374.115\n",
            "INFO:tensorflow:loss = 0.6752147, step = 7900 (0.268 sec)\n",
            "INFO:tensorflow:global_step/sec: 374.276\n",
            "INFO:tensorflow:loss = 0.647685, step = 8000 (0.264 sec)\n",
            "INFO:tensorflow:global_step/sec: 393.409\n",
            "INFO:tensorflow:loss = 0.670666, step = 8100 (0.258 sec)\n",
            "INFO:tensorflow:global_step/sec: 386.418\n",
            "INFO:tensorflow:loss = 0.65109545, step = 8200 (0.258 sec)\n",
            "INFO:tensorflow:global_step/sec: 381.661\n",
            "INFO:tensorflow:loss = 0.6625891, step = 8300 (0.263 sec)\n",
            "INFO:tensorflow:global_step/sec: 378.65\n",
            "INFO:tensorflow:loss = 0.643323, step = 8400 (0.264 sec)\n",
            "INFO:tensorflow:global_step/sec: 368.16\n",
            "INFO:tensorflow:loss = 0.6527266, step = 8500 (0.268 sec)\n",
            "INFO:tensorflow:global_step/sec: 386.539\n",
            "INFO:tensorflow:loss = 0.66433704, step = 8600 (0.261 sec)\n",
            "INFO:tensorflow:global_step/sec: 390.181\n",
            "INFO:tensorflow:loss = 0.66272026, step = 8700 (0.257 sec)\n",
            "INFO:tensorflow:global_step/sec: 362.698\n",
            "INFO:tensorflow:loss = 0.65472275, step = 8800 (0.276 sec)\n",
            "INFO:tensorflow:global_step/sec: 360.768\n",
            "INFO:tensorflow:loss = 0.6703884, step = 8900 (0.274 sec)\n",
            "INFO:tensorflow:global_step/sec: 366.909\n",
            "INFO:tensorflow:loss = 0.68990517, step = 9000 (0.276 sec)\n",
            "INFO:tensorflow:global_step/sec: 382.802\n",
            "INFO:tensorflow:loss = 0.67419565, step = 9100 (0.258 sec)\n",
            "INFO:tensorflow:global_step/sec: 368.755\n",
            "INFO:tensorflow:loss = 0.665402, step = 9200 (0.274 sec)\n",
            "INFO:tensorflow:global_step/sec: 361.91\n",
            "INFO:tensorflow:loss = 0.6725967, step = 9300 (0.276 sec)\n",
            "INFO:tensorflow:global_step/sec: 367.955\n",
            "INFO:tensorflow:loss = 0.65444493, step = 9400 (0.273 sec)\n",
            "INFO:tensorflow:global_step/sec: 381.429\n",
            "INFO:tensorflow:loss = 0.6683446, step = 9500 (0.262 sec)\n",
            "INFO:tensorflow:global_step/sec: 386.012\n",
            "INFO:tensorflow:loss = 0.6671057, step = 9600 (0.258 sec)\n",
            "INFO:tensorflow:global_step/sec: 384.905\n",
            "INFO:tensorflow:loss = 0.65673196, step = 9700 (0.261 sec)\n",
            "INFO:tensorflow:global_step/sec: 375.175\n",
            "INFO:tensorflow:loss = 0.6604393, step = 9800 (0.263 sec)\n",
            "INFO:tensorflow:global_step/sec: 384.717\n",
            "INFO:tensorflow:loss = 0.66629845, step = 9900 (0.262 sec)\n",
            "INFO:tensorflow:Calling checkpoint listeners before saving checkpoint 10000...\n",
            "INFO:tensorflow:Saving checkpoints for 10000 into /tmp/tmp9l2p86q1/model.ckpt.\n",
            "INFO:tensorflow:Calling checkpoint listeners after saving checkpoint 10000...\n",
            "INFO:tensorflow:Loss for final step: 0.6591946.\n"
          ]
        },
        {
          "output_type": "execute_result",
          "data": {
            "text/plain": [
              "<tensorflow_estimator.python.estimator.canned.dnn.DNNClassifierV2 at 0x7f74dbce9950>"
            ]
          },
          "metadata": {},
          "execution_count": 839
        }
      ]
    },
    {
      "cell_type": "markdown",
      "source": [
        "###Evaluating Classifier"
      ],
      "metadata": {
        "id": "p7rBMxdbBHGd"
      }
    },
    {
      "cell_type": "code",
      "source": [
        "#determine the accurracy of th classifier\n",
        "eval_result = classifier.evaluate(\n",
        "    input_fn=lambda: input_fn(test_features_under, test_label_under, training=False))\n",
        "print('\\nTest set accuracy: {accuracy:0.3f}\\n'.format(**eval_result))"
      ],
      "metadata": {
        "colab": {
          "base_uri": "https://localhost:8080/"
        },
        "outputId": "98a6b357-16d8-4592-9ea4-579e6b8a1fb4",
        "id": "IQq20Mu1BHGd"
      },
      "execution_count": null,
      "outputs": [
        {
          "output_type": "stream",
          "name": "stdout",
          "text": [
            "INFO:tensorflow:Calling model_fn.\n",
            "INFO:tensorflow:Done calling model_fn.\n",
            "INFO:tensorflow:Starting evaluation at 2022-03-26T16:25:04\n",
            "INFO:tensorflow:Graph was finalized.\n",
            "INFO:tensorflow:Restoring parameters from /tmp/tmp9l2p86q1/model.ckpt-10000\n",
            "INFO:tensorflow:Running local_init_op.\n",
            "INFO:tensorflow:Done running local_init_op.\n",
            "INFO:tensorflow:Inference Time : 0.67605s\n",
            "INFO:tensorflow:Finished evaluation at 2022-03-26-16:25:05\n",
            "INFO:tensorflow:Saving dict for global step 10000: accuracy = 0.6221082, accuracy_baseline = 0.5043486, auc = 0.6590688, auc_precision_recall = 0.63611317, average_loss = 0.6592431, global_step = 10000, label/mean = 0.5043486, loss = 0.65972984, precision = 0.6118806, prediction/mean = 0.5292163, recall = 0.68563545\n",
            "INFO:tensorflow:Saving 'checkpoint_path' summary for global step 10000: /tmp/tmp9l2p86q1/model.ckpt-10000\n",
            "\n",
            "Test set accuracy: 0.622\n",
            "\n"
          ]
        }
      ]
    },
    {
      "cell_type": "code",
      "source": [
        "#create predictions list for all test set\n",
        "predictions_under = list(classifier.predict(input_fn=lambda: input_fn(test_features_under, test_label_under, training=False)))"
      ],
      "metadata": {
        "outputId": "7f25bd6c-0128-4272-a244-725dadee3365",
        "colab": {
          "base_uri": "https://localhost:8080/"
        },
        "id": "5mtfxqP7BHGe"
      },
      "execution_count": null,
      "outputs": [
        {
          "output_type": "stream",
          "name": "stdout",
          "text": [
            "INFO:tensorflow:Calling model_fn.\n",
            "INFO:tensorflow:Done calling model_fn.\n",
            "INFO:tensorflow:Graph was finalized.\n",
            "INFO:tensorflow:Restoring parameters from /tmp/tmp9l2p86q1/model.ckpt-10000\n",
            "INFO:tensorflow:Running local_init_op.\n",
            "INFO:tensorflow:Done running local_init_op.\n"
          ]
        }
      ]
    },
    {
      "cell_type": "code",
      "source": [
        "#create a dataframe of predictions for test set\n",
        "df_predictions = pd.DataFrame(predictions_under)"
      ],
      "metadata": {
        "id": "7R16NvV-BHGe"
      },
      "execution_count": null,
      "outputs": []
    },
    {
      "cell_type": "markdown",
      "source": [
        "###Plot of Results"
      ],
      "metadata": {
        "id": "PulpoSo1BHGe"
      }
    },
    {
      "cell_type": "code",
      "source": [
        "#add the actual matches to the prediciton dataframe\n",
        "df_predictions['actual label']=test_label_under.values"
      ],
      "metadata": {
        "id": "-Ci2MOVxBHGe"
      },
      "execution_count": null,
      "outputs": []
    },
    {
      "cell_type": "code",
      "source": [
        "#add the class predicitons from the DNN to the dataframe\n",
        "df_predictions['predicted label']=pd.DataFrame.from_records(df_predictions['class_ids'])"
      ],
      "metadata": {
        "id": "VU8conT-BHGf"
      },
      "execution_count": null,
      "outputs": []
    },
    {
      "cell_type": "code",
      "source": [
        "#add a binary column to show if the dnn predictions were correct\n",
        "df_predictions['match?']=df_predictions['predicted label']-df_predictions['actual label']\n",
        "df_predictions['match?']=df_predictions['match?'].replace(0,'match')\n",
        "df_predictions['match?']=df_predictions['match?'].replace(-1,'not match')\n",
        "df_predictions['match?']=df_predictions['match?'].replace(1,'not match')"
      ],
      "metadata": {
        "id": "AFTatxa7BHGf"
      },
      "execution_count": null,
      "outputs": []
    },
    {
      "cell_type": "code",
      "source": [
        "#view the prdictions dataframe\n",
        "df_predictions.head()"
      ],
      "metadata": {
        "colab": {
          "base_uri": "https://localhost:8080/",
          "height": 206
        },
        "outputId": "4804d469-90bc-4ab6-d339-4f108b011b1d",
        "id": "olen7lB9BHGg"
      },
      "execution_count": null,
      "outputs": [
        {
          "output_type": "execute_result",
          "data": {
            "text/plain": [
              "         logits      logistic             probabilities class_ids classes  \\\n",
              "0  [-0.3391452]  [0.41601714]   [0.5839829, 0.41601717]       [0]  [b'0']   \n",
              "1  [0.64586884]   [0.6560789]   [0.3439211, 0.65607893]       [1]  [b'1']   \n",
              "2  [-1.0125974]  [0.26647186]   [0.7335282, 0.26647183]       [0]  [b'0']   \n",
              "3   [-1.023959]  [0.26425695]  [0.73574305, 0.26425692]       [0]  [b'0']   \n",
              "4  [0.11738118]  [0.52931166]  [0.47068837, 0.52931166]       [1]  [b'1']   \n",
              "\n",
              "  all_class_ids   all_classes  actual label  predicted label     match?  \n",
              "0        [0, 1]  [b'0', b'1']             1                0  not match  \n",
              "1        [0, 1]  [b'0', b'1']             1                1      match  \n",
              "2        [0, 1]  [b'0', b'1']             0                0      match  \n",
              "3        [0, 1]  [b'0', b'1']             1                0  not match  \n",
              "4        [0, 1]  [b'0', b'1']             1                1      match  "
            ],
            "text/html": [
              "\n",
              "  <div id=\"df-1bf3628a-d62e-49d3-a8a4-1a88b756a55a\">\n",
              "    <div class=\"colab-df-container\">\n",
              "      <div>\n",
              "<style scoped>\n",
              "    .dataframe tbody tr th:only-of-type {\n",
              "        vertical-align: middle;\n",
              "    }\n",
              "\n",
              "    .dataframe tbody tr th {\n",
              "        vertical-align: top;\n",
              "    }\n",
              "\n",
              "    .dataframe thead th {\n",
              "        text-align: right;\n",
              "    }\n",
              "</style>\n",
              "<table border=\"1\" class=\"dataframe\">\n",
              "  <thead>\n",
              "    <tr style=\"text-align: right;\">\n",
              "      <th></th>\n",
              "      <th>logits</th>\n",
              "      <th>logistic</th>\n",
              "      <th>probabilities</th>\n",
              "      <th>class_ids</th>\n",
              "      <th>classes</th>\n",
              "      <th>all_class_ids</th>\n",
              "      <th>all_classes</th>\n",
              "      <th>actual label</th>\n",
              "      <th>predicted label</th>\n",
              "      <th>match?</th>\n",
              "    </tr>\n",
              "  </thead>\n",
              "  <tbody>\n",
              "    <tr>\n",
              "      <th>0</th>\n",
              "      <td>[-0.3391452]</td>\n",
              "      <td>[0.41601714]</td>\n",
              "      <td>[0.5839829, 0.41601717]</td>\n",
              "      <td>[0]</td>\n",
              "      <td>[b'0']</td>\n",
              "      <td>[0, 1]</td>\n",
              "      <td>[b'0', b'1']</td>\n",
              "      <td>1</td>\n",
              "      <td>0</td>\n",
              "      <td>not match</td>\n",
              "    </tr>\n",
              "    <tr>\n",
              "      <th>1</th>\n",
              "      <td>[0.64586884]</td>\n",
              "      <td>[0.6560789]</td>\n",
              "      <td>[0.3439211, 0.65607893]</td>\n",
              "      <td>[1]</td>\n",
              "      <td>[b'1']</td>\n",
              "      <td>[0, 1]</td>\n",
              "      <td>[b'0', b'1']</td>\n",
              "      <td>1</td>\n",
              "      <td>1</td>\n",
              "      <td>match</td>\n",
              "    </tr>\n",
              "    <tr>\n",
              "      <th>2</th>\n",
              "      <td>[-1.0125974]</td>\n",
              "      <td>[0.26647186]</td>\n",
              "      <td>[0.7335282, 0.26647183]</td>\n",
              "      <td>[0]</td>\n",
              "      <td>[b'0']</td>\n",
              "      <td>[0, 1]</td>\n",
              "      <td>[b'0', b'1']</td>\n",
              "      <td>0</td>\n",
              "      <td>0</td>\n",
              "      <td>match</td>\n",
              "    </tr>\n",
              "    <tr>\n",
              "      <th>3</th>\n",
              "      <td>[-1.023959]</td>\n",
              "      <td>[0.26425695]</td>\n",
              "      <td>[0.73574305, 0.26425692]</td>\n",
              "      <td>[0]</td>\n",
              "      <td>[b'0']</td>\n",
              "      <td>[0, 1]</td>\n",
              "      <td>[b'0', b'1']</td>\n",
              "      <td>1</td>\n",
              "      <td>0</td>\n",
              "      <td>not match</td>\n",
              "    </tr>\n",
              "    <tr>\n",
              "      <th>4</th>\n",
              "      <td>[0.11738118]</td>\n",
              "      <td>[0.52931166]</td>\n",
              "      <td>[0.47068837, 0.52931166]</td>\n",
              "      <td>[1]</td>\n",
              "      <td>[b'1']</td>\n",
              "      <td>[0, 1]</td>\n",
              "      <td>[b'0', b'1']</td>\n",
              "      <td>1</td>\n",
              "      <td>1</td>\n",
              "      <td>match</td>\n",
              "    </tr>\n",
              "  </tbody>\n",
              "</table>\n",
              "</div>\n",
              "      <button class=\"colab-df-convert\" onclick=\"convertToInteractive('df-1bf3628a-d62e-49d3-a8a4-1a88b756a55a')\"\n",
              "              title=\"Convert this dataframe to an interactive table.\"\n",
              "              style=\"display:none;\">\n",
              "        \n",
              "  <svg xmlns=\"http://www.w3.org/2000/svg\" height=\"24px\"viewBox=\"0 0 24 24\"\n",
              "       width=\"24px\">\n",
              "    <path d=\"M0 0h24v24H0V0z\" fill=\"none\"/>\n",
              "    <path d=\"M18.56 5.44l.94 2.06.94-2.06 2.06-.94-2.06-.94-.94-2.06-.94 2.06-2.06.94zm-11 1L8.5 8.5l.94-2.06 2.06-.94-2.06-.94L8.5 2.5l-.94 2.06-2.06.94zm10 10l.94 2.06.94-2.06 2.06-.94-2.06-.94-.94-2.06-.94 2.06-2.06.94z\"/><path d=\"M17.41 7.96l-1.37-1.37c-.4-.4-.92-.59-1.43-.59-.52 0-1.04.2-1.43.59L10.3 9.45l-7.72 7.72c-.78.78-.78 2.05 0 2.83L4 21.41c.39.39.9.59 1.41.59.51 0 1.02-.2 1.41-.59l7.78-7.78 2.81-2.81c.8-.78.8-2.07 0-2.86zM5.41 20L4 18.59l7.72-7.72 1.47 1.35L5.41 20z\"/>\n",
              "  </svg>\n",
              "      </button>\n",
              "      \n",
              "  <style>\n",
              "    .colab-df-container {\n",
              "      display:flex;\n",
              "      flex-wrap:wrap;\n",
              "      gap: 12px;\n",
              "    }\n",
              "\n",
              "    .colab-df-convert {\n",
              "      background-color: #E8F0FE;\n",
              "      border: none;\n",
              "      border-radius: 50%;\n",
              "      cursor: pointer;\n",
              "      display: none;\n",
              "      fill: #1967D2;\n",
              "      height: 32px;\n",
              "      padding: 0 0 0 0;\n",
              "      width: 32px;\n",
              "    }\n",
              "\n",
              "    .colab-df-convert:hover {\n",
              "      background-color: #E2EBFA;\n",
              "      box-shadow: 0px 1px 2px rgba(60, 64, 67, 0.3), 0px 1px 3px 1px rgba(60, 64, 67, 0.15);\n",
              "      fill: #174EA6;\n",
              "    }\n",
              "\n",
              "    [theme=dark] .colab-df-convert {\n",
              "      background-color: #3B4455;\n",
              "      fill: #D2E3FC;\n",
              "    }\n",
              "\n",
              "    [theme=dark] .colab-df-convert:hover {\n",
              "      background-color: #434B5C;\n",
              "      box-shadow: 0px 1px 3px 1px rgba(0, 0, 0, 0.15);\n",
              "      filter: drop-shadow(0px 1px 2px rgba(0, 0, 0, 0.3));\n",
              "      fill: #FFFFFF;\n",
              "    }\n",
              "  </style>\n",
              "\n",
              "      <script>\n",
              "        const buttonEl =\n",
              "          document.querySelector('#df-1bf3628a-d62e-49d3-a8a4-1a88b756a55a button.colab-df-convert');\n",
              "        buttonEl.style.display =\n",
              "          google.colab.kernel.accessAllowed ? 'block' : 'none';\n",
              "\n",
              "        async function convertToInteractive(key) {\n",
              "          const element = document.querySelector('#df-1bf3628a-d62e-49d3-a8a4-1a88b756a55a');\n",
              "          const dataTable =\n",
              "            await google.colab.kernel.invokeFunction('convertToInteractive',\n",
              "                                                     [key], {});\n",
              "          if (!dataTable) return;\n",
              "\n",
              "          const docLinkHtml = 'Like what you see? Visit the ' +\n",
              "            '<a target=\"_blank\" href=https://colab.research.google.com/notebooks/data_table.ipynb>data table notebook</a>'\n",
              "            + ' to learn more about interactive tables.';\n",
              "          element.innerHTML = '';\n",
              "          dataTable['output_type'] = 'display_data';\n",
              "          await google.colab.output.renderOutput(dataTable, element);\n",
              "          const docLink = document.createElement('div');\n",
              "          docLink.innerHTML = docLinkHtml;\n",
              "          element.appendChild(docLink);\n",
              "        }\n",
              "      </script>\n",
              "    </div>\n",
              "  </div>\n",
              "  "
            ]
          },
          "metadata": {},
          "execution_count": 846
        }
      ]
    },
    {
      "cell_type": "code",
      "source": [
        "#create a new dataframe showing only the correct predictions\n",
        "correct_predictions = df_predictions[df_predictions['match?']=='match']\n",
        "#get the count of the correct predctions for eah label\n",
        "correct_pred_count_label_0 , correct_pred_count_label_1 = correct_predictions['predicted label'].value_counts()\n",
        "#get the actual label count for each label\n",
        "actual_count_label_0 , actual_count_label_1 = df_predictions['actual label'].value_counts()"
      ],
      "metadata": {
        "id": "eV6xJTpUBHGg"
      },
      "execution_count": null,
      "outputs": []
    },
    {
      "cell_type": "code",
      "source": [
        "#get the accuracy of each labels predictions\n",
        "accuracy_label_0,accuracy_label_1 = correct_pred_count_label_0/actual_count_label_0 , correct_pred_count_label_1/actual_count_label_1\n",
        "accuracy=accuracy_label_0*100,accuracy_label_1*100\n",
        "accuracy=pd.Series(accuracy)\n",
        "print('Accuracy of label 0 (non-fatal): ', accuracy_label_0, '\\nAccuracy of label 1 (fatal): ', accuracy_label_1)"
      ],
      "metadata": {
        "colab": {
          "base_uri": "https://localhost:8080/"
        },
        "outputId": "7c445975-b82d-4d6d-a3a1-6216f621a3eb",
        "id": "eH9yLCqFBHGg"
      },
      "execution_count": null,
      "outputs": [
        {
          "output_type": "stream",
          "name": "stdout",
          "text": [
            "Accuracy of label 0 (non-fatal):  0.6856354543886877 \n",
            "Accuracy of label 1 (fatal):  0.5574662221442358\n"
          ]
        }
      ]
    },
    {
      "cell_type": "code",
      "source": [
        "#plot the accuracy of each labels predictions\n",
        "fig, axes = plt.subplots(figsize=(18, 10))\n",
        "accuracy.plot(kind='barh')\n",
        "plt.yticks((0,1), ('non-Fatal accident', 'Fatal accident'))\n",
        "plt.xticks((0,10,20,30,40,50,60), ('0%', '10%','20%','30%','40%','50%','60%'))\n",
        "plt.xlabel('prectange accuracy')\n",
        "plt.title('percentage accuracy for each class/label')"
      ],
      "metadata": {
        "colab": {
          "base_uri": "https://localhost:8080/",
          "height": 639
        },
        "outputId": "0976c904-6bb6-47b9-c7e7-307569614c7a",
        "id": "XOaShmklBHGh"
      },
      "execution_count": null,
      "outputs": [
        {
          "output_type": "execute_result",
          "data": {
            "text/plain": [
              "Text(0.5, 1.0, 'percentage accuracy for each class/label')"
            ]
          },
          "metadata": {},
          "execution_count": 854
        },
        {
          "output_type": "display_data",
          "data": {
            "text/plain": [
              "<Figure size 1296x720 with 1 Axes>"
            ],
            "image/png": "[encoded data removed]"
          },
          "metadata": {
            "needs_background": "light"
          }
        }
      ]
    },
    {
      "cell_type": "code",
      "source": [
        "#creating probabilty columns for each label\n",
        "df_predictions['prob fatal']=pd.DataFrame.from_records(df_predictions['probabilities'])[1]\n",
        "df_predictions['prob non-fatal']=pd.DataFrame.from_records(df_predictions['probabilities'])[0]"
      ],
      "metadata": {
        "id": "aweaqGTLBHGh"
      },
      "execution_count": null,
      "outputs": []
    },
    {
      "cell_type": "code",
      "source": [
        "#create a data frame of only the correct predictions and filter it to rows with high probabilities\n",
        "dataframe_correct_predictions = df_predictions[df_predictions['match?']=='match']\n",
        "dataframe_correct_predictions[(dataframe_correct_predictions['prob non-fatal']>.70 )| (dataframe_correct_predictions['prob fatal']>.70)]\n",
        "#counting incorrect prediciton where prob was high\n",
        "dataframe_incorrect_predictions = df_predictions[df_predictions['match?']=='not match']\n",
        "dataframe_incorrect_predictions[(dataframe_incorrect_predictions['prob non-fatal']>.70 )| (dataframe_incorrect_predictions['prob fatal']>.70)].describe()"
      ],
      "metadata": {
        "colab": {
          "base_uri": "https://localhost:8080/",
          "height": 300
        },
        "outputId": "2fe86586-af91-410b-c13d-3caac0a239db",
        "id": "vpN17FaRBHGh"
      },
      "execution_count": null,
      "outputs": [
        {
          "output_type": "execute_result",
          "data": {
            "text/plain": [
              "       actual label  predicted label  prob fatal  prob non-fatal\n",
              "count    261.000000       261.000000  261.000000      261.000000\n",
              "mean       0.291188         0.708812    0.591912        0.408088\n",
              "std        0.455183         0.455183    0.207478        0.207478\n",
              "min        0.000000         0.000000    0.194449        0.219129\n",
              "25%        0.000000         0.000000    0.294799        0.266613\n",
              "50%        0.000000         1.000000    0.712399        0.287601\n",
              "75%        1.000000         1.000000    0.733387        0.705201\n",
              "max        1.000000         1.000000    0.780871        0.805551"
            ],
            "text/html": [
              "\n",
              "  <div id=\"df-e0065083-2d9b-4ca6-9409-746f1fe1aa4d\">\n",
              "    <div class=\"colab-df-container\">\n",
              "      <div>\n",
              "<style scoped>\n",
              "    .dataframe tbody tr th:only-of-type {\n",
              "        vertical-align: middle;\n",
              "    }\n",
              "\n",
              "    .dataframe tbody tr th {\n",
              "        vertical-align: top;\n",
              "    }\n",
              "\n",
              "    .dataframe thead th {\n",
              "        text-align: right;\n",
              "    }\n",
              "</style>\n",
              "<table border=\"1\" class=\"dataframe\">\n",
              "  <thead>\n",
              "    <tr style=\"text-align: right;\">\n",
              "      <th></th>\n",
              "      <th>actual label</th>\n",
              "      <th>predicted label</th>\n",
              "      <th>prob fatal</th>\n",
              "      <th>prob non-fatal</th>\n",
              "    </tr>\n",
              "  </thead>\n",
              "  <tbody>\n",
              "    <tr>\n",
              "      <th>count</th>\n",
              "      <td>261.000000</td>\n",
              "      <td>261.000000</td>\n",
              "      <td>261.000000</td>\n",
              "      <td>261.000000</td>\n",
              "    </tr>\n",
              "    <tr>\n",
              "      <th>mean</th>\n",
              "      <td>0.291188</td>\n",
              "      <td>0.708812</td>\n",
              "      <td>0.591912</td>\n",
              "      <td>0.408088</td>\n",
              "    </tr>\n",
              "    <tr>\n",
              "      <th>std</th>\n",
              "      <td>0.455183</td>\n",
              "      <td>0.455183</td>\n",
              "      <td>0.207478</td>\n",
              "      <td>0.207478</td>\n",
              "    </tr>\n",
              "    <tr>\n",
              "      <th>min</th>\n",
              "      <td>0.000000</td>\n",
              "      <td>0.000000</td>\n",
              "      <td>0.194449</td>\n",
              "      <td>0.219129</td>\n",
              "    </tr>\n",
              "    <tr>\n",
              "      <th>25%</th>\n",
              "      <td>0.000000</td>\n",
              "      <td>0.000000</td>\n",
              "      <td>0.294799</td>\n",
              "      <td>0.266613</td>\n",
              "    </tr>\n",
              "    <tr>\n",
              "      <th>50%</th>\n",
              "      <td>0.000000</td>\n",
              "      <td>1.000000</td>\n",
              "      <td>0.712399</td>\n",
              "      <td>0.287601</td>\n",
              "    </tr>\n",
              "    <tr>\n",
              "      <th>75%</th>\n",
              "      <td>1.000000</td>\n",
              "      <td>1.000000</td>\n",
              "      <td>0.733387</td>\n",
              "      <td>0.705201</td>\n",
              "    </tr>\n",
              "    <tr>\n",
              "      <th>max</th>\n",
              "      <td>1.000000</td>\n",
              "      <td>1.000000</td>\n",
              "      <td>0.780871</td>\n",
              "      <td>0.805551</td>\n",
              "    </tr>\n",
              "  </tbody>\n",
              "</table>\n",
              "</div>\n",
              "      <button class=\"colab-df-convert\" onclick=\"convertToInteractive('df-e0065083-2d9b-4ca6-9409-746f1fe1aa4d')\"\n",
              "              title=\"Convert this dataframe to an interactive table.\"\n",
              "              style=\"display:none;\">\n",
              "        \n",
              "  <svg xmlns=\"http://www.w3.org/2000/svg\" height=\"24px\"viewBox=\"0 0 24 24\"\n",
              "       width=\"24px\">\n",
              "    <path d=\"M0 0h24v24H0V0z\" fill=\"none\"/>\n",
              "    <path d=\"M18.56 5.44l.94 2.06.94-2.06 2.06-.94-2.06-.94-.94-2.06-.94 2.06-2.06.94zm-11 1L8.5 8.5l.94-2.06 2.06-.94-2.06-.94L8.5 2.5l-.94 2.06-2.06.94zm10 10l.94 2.06.94-2.06 2.06-.94-2.06-.94-.94-2.06-.94 2.06-2.06.94z\"/><path d=\"M17.41 7.96l-1.37-1.37c-.4-.4-.92-.59-1.43-.59-.52 0-1.04.2-1.43.59L10.3 9.45l-7.72 7.72c-.78.78-.78 2.05 0 2.83L4 21.41c.39.39.9.59 1.41.59.51 0 1.02-.2 1.41-.59l7.78-7.78 2.81-2.81c.8-.78.8-2.07 0-2.86zM5.41 20L4 18.59l7.72-7.72 1.47 1.35L5.41 20z\"/>\n",
              "  </svg>\n",
              "      </button>\n",
              "      \n",
              "  <style>\n",
              "    .colab-df-container {\n",
              "      display:flex;\n",
              "      flex-wrap:wrap;\n",
              "      gap: 12px;\n",
              "    }\n",
              "\n",
              "    .colab-df-convert {\n",
              "      background-color: #E8F0FE;\n",
              "      border: none;\n",
              "      border-radius: 50%;\n",
              "      cursor: pointer;\n",
              "      display: none;\n",
              "      fill: #1967D2;\n",
              "      height: 32px;\n",
              "      padding: 0 0 0 0;\n",
              "      width: 32px;\n",
              "    }\n",
              "\n",
              "    .colab-df-convert:hover {\n",
              "      background-color: #E2EBFA;\n",
              "      box-shadow: 0px 1px 2px rgba(60, 64, 67, 0.3), 0px 1px 3px 1px rgba(60, 64, 67, 0.15);\n",
              "      fill: #174EA6;\n",
              "    }\n",
              "\n",
              "    [theme=dark] .colab-df-convert {\n",
              "      background-color: #3B4455;\n",
              "      fill: #D2E3FC;\n",
              "    }\n",
              "\n",
              "    [theme=dark] .colab-df-convert:hover {\n",
              "      background-color: #434B5C;\n",
              "      box-shadow: 0px 1px 3px 1px rgba(0, 0, 0, 0.15);\n",
              "      filter: drop-shadow(0px 1px 2px rgba(0, 0, 0, 0.3));\n",
              "      fill: #FFFFFF;\n",
              "    }\n",
              "  </style>\n",
              "\n",
              "      <script>\n",
              "        const buttonEl =\n",
              "          document.querySelector('#df-e0065083-2d9b-4ca6-9409-746f1fe1aa4d button.colab-df-convert');\n",
              "        buttonEl.style.display =\n",
              "          google.colab.kernel.accessAllowed ? 'block' : 'none';\n",
              "\n",
              "        async function convertToInteractive(key) {\n",
              "          const element = document.querySelector('#df-e0065083-2d9b-4ca6-9409-746f1fe1aa4d');\n",
              "          const dataTable =\n",
              "            await google.colab.kernel.invokeFunction('convertToInteractive',\n",
              "                                                     [key], {});\n",
              "          if (!dataTable) return;\n",
              "\n",
              "          const docLinkHtml = 'Like what you see? Visit the ' +\n",
              "            '<a target=\"_blank\" href=https://colab.research.google.com/notebooks/data_table.ipynb>data table notebook</a>'\n",
              "            + ' to learn more about interactive tables.';\n",
              "          element.innerHTML = '';\n",
              "          dataTable['output_type'] = 'display_data';\n",
              "          await google.colab.output.renderOutput(dataTable, element);\n",
              "          const docLink = document.createElement('div');\n",
              "          docLink.innerHTML = docLinkHtml;\n",
              "          element.appendChild(docLink);\n",
              "        }\n",
              "      </script>\n",
              "    </div>\n",
              "  </div>\n",
              "  "
            ]
          },
          "metadata": {},
          "execution_count": 851
        }
      ]
    },
    {
      "cell_type": "markdown",
      "source": [
        ""
      ],
      "metadata": {
        "id": "sZNIl_laFcbR"
      }
    },
    {
      "cell_type": "markdown",
      "source": [
        "#Iteration 4 - 'Weather_Conditions','Speed_limit', 'Day_of_Week'"
      ],
      "metadata": {
        "id": "PXoO-diEFc02"
      }
    },
    {
      "cell_type": "markdown",
      "source": [
        "##Features"
      ],
      "metadata": {
        "id": "9efkUu_qFc03"
      }
    },
    {
      "cell_type": "markdown",
      "source": [
        "###Seleceting Features, checking correlation between them, cleaning missing data"
      ],
      "metadata": {
        "id": "DKjkUQIGFc03"
      }
    },
    {
      "cell_type": "code",
      "source": [
        "df_features = df[['Weather_Conditions','Speed_limit', 'Day_of_Week','Accident_Severity']]"
      ],
      "metadata": {
        "id": "ZeMVhPpTFc04"
      },
      "execution_count": null,
      "outputs": []
    },
    {
      "cell_type": "code",
      "source": [
        "#checking correlation between features\n",
        "df_features.corr()\n",
        "sns.heatmap(df_features.corr())"
      ],
      "metadata": {
        "colab": {
          "base_uri": "https://localhost:8080/",
          "height": 73
        },
        "outputId": "d87652e8-1d67-44ac-85a3-dd254c974629",
        "id": "FaOhwdzMFc05"
      },
      "execution_count": null,
      "outputs": [
        {
          "output_type": "execute_result",
          "data": {
            "text/plain": [
              "<matplotlib.axes._subplots.AxesSubplot at 0x7f22304cedd0>"
            ]
          },
          "metadata": {},
          "execution_count": 139
        },
        {
          "output_type": "display_data",
          "data": {
            "text/plain": [
              "<Figure size 432x288 with 2 Axes>"
            ],
            "image/png": "[encoded data removed]"
          },
          "metadata": {
            "needs_background": "light"
          }
        }
      ]
    },
    {
      "cell_type": "code",
      "source": [
        "#checking which values have missing data, note missing data is recorded as -1\n",
        "df_features.min()"
      ],
      "metadata": {
        "colab": {
          "base_uri": "https://localhost:8080/"
        },
        "outputId": "698dad9c-057a-4b21-dfa5-96cc49146d11",
        "id": "nHFJ-7dsFc05"
      },
      "execution_count": null,
      "outputs": [
        {
          "output_type": "execute_result",
          "data": {
            "text/plain": [
              "Weather_Conditions   -1\n",
              "Speed_limit           0\n",
              "Day_of_Week           1\n",
              "Accident_Severity     1\n",
              "dtype: int64"
            ]
          },
          "metadata": {},
          "execution_count": 140
        }
      ]
    },
    {
      "cell_type": "code",
      "source": [
        "#there are 161 accident that do not have recorded weather conditions, will drop these\n",
        "df_features['Weather_Conditions'][df_features['Weather_Conditions']==-1].count()"
      ],
      "metadata": {
        "colab": {
          "base_uri": "https://localhost:8080/"
        },
        "outputId": "bec508fd-cc87-493c-d181-3dd0d99e806e",
        "id": "0p6sC6PIFc06"
      },
      "execution_count": null,
      "outputs": [
        {
          "output_type": "execute_result",
          "data": {
            "text/plain": [
              "161"
            ]
          },
          "metadata": {},
          "execution_count": 141
        }
      ]
    },
    {
      "cell_type": "code",
      "source": [
        "#removing all rows with (missing) data\n",
        "df_features = df_features[df_features['Weather_Conditions']!=-1]\n",
        "df_features = df_features[df_features['Speed_limit']!=0]"
      ],
      "metadata": {
        "id": "Mab_jy8cFc07"
      },
      "execution_count": null,
      "outputs": []
    },
    {
      "cell_type": "markdown",
      "source": [
        "df_features.count()"
      ],
      "metadata": {
        "id": "zIrioitkFc07"
      }
    },
    {
      "cell_type": "markdown",
      "source": [
        "### Cleaning Label (accident severity) so that there are 2 classes instead of 3"
      ],
      "metadata": {
        "id": "EB_AiHNfFc08"
      }
    },
    {
      "cell_type": "code",
      "source": [
        "#check count for each level of accident deverity\n",
        "df_features['Accident_Severity'].value_counts()"
      ],
      "metadata": {
        "colab": {
          "base_uri": "https://localhost:8080/"
        },
        "outputId": "374f6722-c0de-44cf-f1bd-3f199aedd732",
        "id": "ShiRDkkqFc09"
      },
      "execution_count": null,
      "outputs": [
        {
          "output_type": "execute_result",
          "data": {
            "text/plain": [
              "3    1515429\n",
              "2     242067\n",
              "1      22995\n",
              "Name: Accident_Severity, dtype: int64"
            ]
          },
          "metadata": {},
          "execution_count": 143
        }
      ]
    },
    {
      "cell_type": "code",
      "source": [
        "#replace all accident severities where severiry is 2 or 3 and group them into 1 bucket (non-fatal)\n",
        "df_features['Accident_Severity'] = df_features['Accident_Severity'].replace(2,0)\n",
        "df_features['Accident_Severity'] = df_features['Accident_Severity'].replace(3,0)"
      ],
      "metadata": {
        "id": "CFzDjw_cFc0-"
      },
      "execution_count": null,
      "outputs": []
    },
    {
      "cell_type": "code",
      "source": [
        "#create 2 dataframe, 1 for each class, and print the size each\n",
        "class_1 = df_features[df_features['Accident_Severity'] == 1]\n",
        "class_0 = df_features[df_features['Accident_Severity'] == 0]\n",
        "print('class 1 (fatal):', len(class_1))\n",
        "print('class 0 (non-fatal):', len(class_0))"
      ],
      "metadata": {
        "colab": {
          "base_uri": "https://localhost:8080/"
        },
        "outputId": "1410c0fd-feaa-4ad9-b8a9-d834074a3d5b",
        "id": "xxSoa_hoFc0-"
      },
      "execution_count": null,
      "outputs": [
        {
          "output_type": "stream",
          "name": "stdout",
          "text": [
            "class 1 (fatal): 22995\n",
            "class 0 (non-fatal): 1757496\n"
          ]
        }
      ]
    },
    {
      "cell_type": "markdown",
      "source": [
        "###Accounting for imbalance in the dataset by undersampling"
      ],
      "metadata": {
        "id": "RMY7KSveFc0_"
      }
    },
    {
      "cell_type": "code",
      "source": [
        "#get the length of the dataset for each class/label\n",
        "class_count_0, class_count_1 = df_features['Accident_Severity'].value_counts()"
      ],
      "metadata": {
        "id": "89f3Q8P9Fc1A"
      },
      "execution_count": null,
      "outputs": []
    },
    {
      "cell_type": "code",
      "source": [
        "#undersampling of class 0 to balance the count of data for each class/label\n",
        "class_0_under = class_0.sample(class_count_1)\n",
        "df_features_under = pd.concat([class_0_under, class_1], axis=0)"
      ],
      "metadata": {
        "id": "zDMdEsBcFc1A"
      },
      "execution_count": null,
      "outputs": []
    },
    {
      "cell_type": "code",
      "source": [
        "#print the size of the new dataset for each class/label after undersampling\n",
        "class_1 = df_features_under[df_features_under['Accident_Severity'] == 1]\n",
        "class_0 = df_features_under[df_features_under['Accident_Severity'] == 0]\n",
        "print('class 1 (fatal):', len(class_1))\n",
        "print('class 0 (non-fatal):', len(class_0))"
      ],
      "metadata": {
        "colab": {
          "base_uri": "https://localhost:8080/"
        },
        "outputId": "b8fdf3af-f908-4fb3-85c1-6631797eb102",
        "id": "xvXZ4vqcFc1B"
      },
      "execution_count": null,
      "outputs": [
        {
          "output_type": "stream",
          "name": "stdout",
          "text": [
            "class 1 (fatal): 22995\n",
            "class 0 (non-fatal): 22995\n"
          ]
        }
      ]
    },
    {
      "cell_type": "markdown",
      "source": [
        "###splitting the dataset in training and test datasets"
      ],
      "metadata": {
        "id": "9LmMygiwFc1B"
      }
    },
    {
      "cell_type": "code",
      "source": [
        "#splitting the dataset into training and test sets\n",
        "train_features_under, test_features_under = train_test_split(df_features_under, test_size=0.25)"
      ],
      "metadata": {
        "id": "iZy3SNgHFc1B"
      },
      "execution_count": null,
      "outputs": []
    },
    {
      "cell_type": "code",
      "source": [
        "#pop out the label column from the train and test undersampled datasets\n",
        "train_label_under = train_features_under.pop('Accident_Severity')\n",
        "test_label_under = test_features_under.pop('Accident_Severity')"
      ],
      "metadata": {
        "id": "WJvU3DCqFc1C"
      },
      "execution_count": null,
      "outputs": []
    },
    {
      "cell_type": "markdown",
      "source": [
        "## DNN Classifier"
      ],
      "metadata": {
        "id": "iO-aTOWRFc1C"
      }
    },
    {
      "cell_type": "markdown",
      "source": [
        "###defining input function, creating classifier, training classifer"
      ],
      "metadata": {
        "id": "Z_VPS7aoFc1D"
      }
    },
    {
      "cell_type": "code",
      "source": [
        "def input_fn(features, labels, training=True, batch_size=344):\n",
        "    # Convert the inputs to a Dataset.\n",
        "    dataset = tf.data.Dataset.from_tensor_slices((dict(features), labels))\n",
        "    # Shuffle and repeat if you are in training mode.\n",
        "    if training:\n",
        "        dataset = dataset.shuffle(1000).repeat()\n",
        "    return dataset.batch(batch_size)"
      ],
      "metadata": {
        "id": "S9l0rcpyFc1D"
      },
      "execution_count": null,
      "outputs": []
    },
    {
      "cell_type": "code",
      "source": [
        "# creating a tensorflow Feature column list\n",
        "my_feature_columns = []\n",
        "for key in train_features_under.keys():\n",
        "    my_feature_columns.append(tf.feature_column.numeric_column(key=key))\n",
        "my_feature_columns"
      ],
      "metadata": {
        "colab": {
          "base_uri": "https://localhost:8080/"
        },
        "outputId": "709e610e-f846-4e9b-8dfa-d4a48fc3764d",
        "id": "zcyun9j_Fc1D"
      },
      "execution_count": null,
      "outputs": [
        {
          "output_type": "execute_result",
          "data": {
            "text/plain": [
              "[NumericColumn(key='Weather_Conditions', shape=(1,), default_value=None, dtype=tf.float32, normalizer_fn=None),\n",
              " NumericColumn(key='Speed_limit', shape=(1,), default_value=None, dtype=tf.float32, normalizer_fn=None),\n",
              " NumericColumn(key='Day_of_Week', shape=(1,), default_value=None, dtype=tf.float32, normalizer_fn=None)]"
            ]
          },
          "metadata": {},
          "execution_count": 194
        }
      ]
    },
    {
      "cell_type": "code",
      "source": [
        "# Build a DNN with 2 hidden layers with 30 and 10 hidden nodes each.\n",
        "classifier = tf.estimator.DNNClassifier(\n",
        "    feature_columns=my_feature_columns,\n",
        "    # Two hidden layers of 30 and 10 nodes respectively.\n",
        "    hidden_units=[30, 10],\n",
        "    # The model must choose between 2 classes.\n",
        "    n_classes=2)"
      ],
      "metadata": {
        "colab": {
          "base_uri": "https://localhost:8080/"
        },
        "outputId": "d7984123-9e1b-4f90-d32c-7cdb7a5502ef",
        "id": "6M0o0JSCFc1E"
      },
      "execution_count": null,
      "outputs": [
        {
          "output_type": "stream",
          "name": "stdout",
          "text": [
            "INFO:tensorflow:Using default config.\n",
            "WARNING:tensorflow:Using temporary folder as model directory: /tmp/tmp_dm3pyni\n",
            "INFO:tensorflow:Using config: {'_model_dir': '/tmp/tmp_dm3pyni', '_tf_random_seed': None, '_save_summary_steps': 100, '_save_checkpoints_steps': None, '_save_checkpoints_secs': 600, '_session_config': allow_soft_placement: true\n",
            "graph_options {\n",
            "  rewrite_options {\n",
            "    meta_optimizer_iterations: ONE\n",
            "  }\n",
            "}\n",
            ", '_keep_checkpoint_max': 5, '_keep_checkpoint_every_n_hours': 10000, '_log_step_count_steps': 100, '_train_distribute': None, '_device_fn': None, '_protocol': None, '_eval_distribute': None, '_experimental_distribute': None, '_experimental_max_worker_delay_secs': None, '_session_creation_timeout_secs': 7200, '_checkpoint_save_graph_def': True, '_service': None, '_cluster_spec': ClusterSpec({}), '_task_type': 'worker', '_task_id': 0, '_global_id_in_cluster': 0, '_master': '', '_evaluation_master': '', '_is_chief': True, '_num_ps_replicas': 0, '_num_worker_replicas': 1}\n"
          ]
        }
      ]
    },
    {
      "cell_type": "code",
      "source": [
        "classifier.train(input_fn=lambda: input_fn(train_features_under, train_label_under, training=True),steps=2000)\n",
        "# We include a lambda to avoid creating an inner function "
      ],
      "metadata": {
        "colab": {
          "base_uri": "https://localhost:8080/"
        },
        "outputId": "221704d8-51f3-498a-b80c-004cea063d87",
        "id": "Ex6zN7hNFc1E"
      },
      "execution_count": null,
      "outputs": [
        {
          "output_type": "stream",
          "name": "stdout",
          "text": [
            "INFO:tensorflow:Calling model_fn.\n",
            "INFO:tensorflow:Done calling model_fn.\n",
            "INFO:tensorflow:Create CheckpointSaverHook.\n",
            "INFO:tensorflow:Graph was finalized.\n",
            "INFO:tensorflow:Restoring parameters from /tmp/tmp_dm3pyni/model.ckpt-2000\n",
            "INFO:tensorflow:Running local_init_op.\n",
            "INFO:tensorflow:Done running local_init_op.\n",
            "INFO:tensorflow:Calling checkpoint listeners before saving checkpoint 2000...\n",
            "INFO:tensorflow:Saving checkpoints for 2000 into /tmp/tmp_dm3pyni/model.ckpt.\n",
            "INFO:tensorflow:Calling checkpoint listeners after saving checkpoint 2000...\n",
            "INFO:tensorflow:loss = 0.64827144, step = 2000\n",
            "INFO:tensorflow:global_step/sec: 367.664\n",
            "INFO:tensorflow:loss = 0.6568535, step = 2100 (0.277 sec)\n",
            "INFO:tensorflow:global_step/sec: 475.35\n",
            "INFO:tensorflow:loss = 0.67439246, step = 2200 (0.207 sec)\n",
            "INFO:tensorflow:global_step/sec: 493.846\n",
            "INFO:tensorflow:loss = 0.64421374, step = 2300 (0.205 sec)\n",
            "INFO:tensorflow:global_step/sec: 469.718\n",
            "INFO:tensorflow:loss = 0.65210176, step = 2400 (0.212 sec)\n",
            "INFO:tensorflow:global_step/sec: 490.226\n",
            "INFO:tensorflow:loss = 0.6522607, step = 2500 (0.205 sec)\n",
            "INFO:tensorflow:global_step/sec: 456.775\n",
            "INFO:tensorflow:loss = 0.6561525, step = 2600 (0.216 sec)\n",
            "INFO:tensorflow:global_step/sec: 467.3\n",
            "INFO:tensorflow:loss = 0.6426141, step = 2700 (0.217 sec)\n",
            "INFO:tensorflow:global_step/sec: 481.872\n",
            "INFO:tensorflow:loss = 0.64642507, step = 2800 (0.207 sec)\n",
            "INFO:tensorflow:global_step/sec: 474.856\n",
            "INFO:tensorflow:loss = 0.6521715, step = 2900 (0.209 sec)\n",
            "INFO:tensorflow:global_step/sec: 454.688\n",
            "INFO:tensorflow:loss = 0.65999544, step = 3000 (0.219 sec)\n",
            "INFO:tensorflow:global_step/sec: 493.56\n",
            "INFO:tensorflow:loss = 0.6501629, step = 3100 (0.202 sec)\n",
            "INFO:tensorflow:global_step/sec: 485.739\n",
            "INFO:tensorflow:loss = 0.65323853, step = 3200 (0.209 sec)\n",
            "INFO:tensorflow:global_step/sec: 506.583\n",
            "INFO:tensorflow:loss = 0.6442878, step = 3300 (0.197 sec)\n",
            "INFO:tensorflow:global_step/sec: 463.667\n",
            "INFO:tensorflow:loss = 0.65448964, step = 3400 (0.215 sec)\n",
            "INFO:tensorflow:global_step/sec: 444.489\n",
            "INFO:tensorflow:loss = 0.6569153, step = 3500 (0.222 sec)\n",
            "INFO:tensorflow:global_step/sec: 445.778\n",
            "INFO:tensorflow:loss = 0.6399598, step = 3600 (0.228 sec)\n",
            "INFO:tensorflow:global_step/sec: 479.816\n",
            "INFO:tensorflow:loss = 0.6567375, step = 3700 (0.206 sec)\n",
            "INFO:tensorflow:global_step/sec: 480.112\n",
            "INFO:tensorflow:loss = 0.6559775, step = 3800 (0.209 sec)\n",
            "INFO:tensorflow:global_step/sec: 469.16\n",
            "INFO:tensorflow:loss = 0.6616855, step = 3900 (0.214 sec)\n",
            "INFO:tensorflow:Calling checkpoint listeners before saving checkpoint 4000...\n",
            "INFO:tensorflow:Saving checkpoints for 4000 into /tmp/tmp_dm3pyni/model.ckpt.\n",
            "INFO:tensorflow:Calling checkpoint listeners after saving checkpoint 4000...\n",
            "INFO:tensorflow:Loss for final step: 0.6630957.\n"
          ]
        },
        {
          "output_type": "execute_result",
          "data": {
            "text/plain": [
              "<tensorflow_estimator.python.estimator.canned.dnn.DNNClassifierV2 at 0x7f222fb54d90>"
            ]
          },
          "metadata": {},
          "execution_count": 209
        }
      ]
    },
    {
      "cell_type": "markdown",
      "source": [
        "###Evaluating Classifier"
      ],
      "metadata": {
        "id": "y_4S_lixFc1E"
      }
    },
    {
      "cell_type": "code",
      "source": [
        "#determine the accurracy of th classifier\n",
        "eval_result = classifier.evaluate(\n",
        "    input_fn=lambda: input_fn(test_features_under, test_label_under, training=False))\n",
        "print('\\nTest set accuracy: {accuracy:0.3f}\\n'.format(**eval_result))"
      ],
      "metadata": {
        "colab": {
          "base_uri": "https://localhost:8080/"
        },
        "outputId": "add3a405-920a-4453-e117-f8fd44b46e89",
        "id": "tKokwrBYFc1F"
      },
      "execution_count": null,
      "outputs": [
        {
          "output_type": "stream",
          "name": "stdout",
          "text": [
            "INFO:tensorflow:Calling model_fn.\n",
            "INFO:tensorflow:Done calling model_fn.\n",
            "INFO:tensorflow:Starting evaluation at 2022-03-26T16:41:13\n",
            "INFO:tensorflow:Graph was finalized.\n",
            "INFO:tensorflow:Restoring parameters from /tmp/tmp_dm3pyni/model.ckpt-4000\n",
            "INFO:tensorflow:Running local_init_op.\n",
            "INFO:tensorflow:Done running local_init_op.\n",
            "INFO:tensorflow:Inference Time : 0.52482s\n",
            "INFO:tensorflow:Finished evaluation at 2022-03-26-16:41:13\n",
            "INFO:tensorflow:Saving dict for global step 4000: accuracy = 0.6267177, accuracy_baseline = 0.5021743, auc = 0.6647515, auc_precision_recall = 0.64488995, average_loss = 0.6544166, global_step = 4000, label/mean = 0.4978257, loss = 0.6540678, precision = 0.6124019, prediction/mean = 0.5253167, recall = 0.6815164\n",
            "INFO:tensorflow:Saving 'checkpoint_path' summary for global step 4000: /tmp/tmp_dm3pyni/model.ckpt-4000\n",
            "\n",
            "Test set accuracy: 0.627\n",
            "\n"
          ]
        }
      ]
    },
    {
      "cell_type": "code",
      "source": [
        "#create predictions list for all test set\n",
        "predictions_under = list(classifier.predict(input_fn=lambda: input_fn(test_features_under, test_label_under, training=False)))"
      ],
      "metadata": {
        "outputId": "5e098621-cbd9-4729-d386-8abc51384d7c",
        "colab": {
          "base_uri": "https://localhost:8080/"
        },
        "id": "n5oxhL2DFc1F"
      },
      "execution_count": null,
      "outputs": [
        {
          "output_type": "stream",
          "name": "stdout",
          "text": [
            "INFO:tensorflow:Calling model_fn.\n",
            "INFO:tensorflow:Done calling model_fn.\n",
            "INFO:tensorflow:Graph was finalized.\n",
            "INFO:tensorflow:Restoring parameters from /tmp/tmp_dm3pyni/model.ckpt-4000\n",
            "INFO:tensorflow:Running local_init_op.\n",
            "INFO:tensorflow:Done running local_init_op.\n"
          ]
        }
      ]
    },
    {
      "cell_type": "code",
      "source": [
        "#create a dataframe of predictions for test set\n",
        "df_predictions = pd.DataFrame(predictions_under)"
      ],
      "metadata": {
        "id": "wU-J4L09Fc1G"
      },
      "execution_count": null,
      "outputs": []
    },
    {
      "cell_type": "markdown",
      "source": [
        "###Plot of Results"
      ],
      "metadata": {
        "id": "I68LpnuKFc1G"
      }
    },
    {
      "cell_type": "code",
      "source": [
        "#add the actual matches to the prediciton dataframe\n",
        "df_predictions['actual label']=test_label_under.values"
      ],
      "metadata": {
        "id": "MfbqIpIvFc1G"
      },
      "execution_count": null,
      "outputs": []
    },
    {
      "cell_type": "code",
      "source": [
        "#add the class predicitons from the DNN to the dataframe\n",
        "df_predictions['predicted label']=pd.DataFrame.from_records(df_predictions['class_ids'])"
      ],
      "metadata": {
        "id": "WKz3fcuCFc1H"
      },
      "execution_count": null,
      "outputs": []
    },
    {
      "cell_type": "code",
      "source": [
        "#add a binary column to show if the dnn predictions were correct\n",
        "df_predictions['match?']=df_predictions['predicted label']-df_predictions['actual label']\n",
        "df_predictions['match?']=df_predictions['match?'].replace(0,'match')\n",
        "df_predictions['match?']=df_predictions['match?'].replace(-1,'not match')\n",
        "df_predictions['match?']=df_predictions['match?'].replace(1,'not match')"
      ],
      "metadata": {
        "id": "mrRj8ya1Fc1H"
      },
      "execution_count": null,
      "outputs": []
    },
    {
      "cell_type": "code",
      "source": [
        "#view the prdictions dataframe\n",
        "df_predictions.head()"
      ],
      "metadata": {
        "colab": {
          "base_uri": "https://localhost:8080/",
          "height": 206
        },
        "outputId": "bfa6510f-23c2-40b7-e993-dbaa42de0367",
        "id": "SA_kOo_pFc1H"
      },
      "execution_count": null,
      "outputs": [
        {
          "output_type": "execute_result",
          "data": {
            "text/plain": [
              "          logits      logistic             probabilities class_ids classes  \\\n",
              "0  [-0.28904212]   [0.4282384]   [0.5717616, 0.42823836]       [0]  [b'0']   \n",
              "1    [0.6930474]  [0.66664445]   [0.33335552, 0.6666445]       [1]  [b'1']   \n",
              "2   [-0.5142714]  [0.37419277]    [0.6258072, 0.3741927]       [0]  [b'0']   \n",
              "3  [-0.28904212]   [0.4282384]   [0.5717616, 0.42823836]       [0]  [b'0']   \n",
              "4  [-0.18493474]  [0.45389766]  [0.54610234, 0.45389763]       [0]  [b'0']   \n",
              "\n",
              "  all_class_ids   all_classes  actual label  predicted label     match?  \n",
              "0        [0, 1]  [b'0', b'1']             1                0  not match  \n",
              "1        [0, 1]  [b'0', b'1']             0                1  not match  \n",
              "2        [0, 1]  [b'0', b'1']             0                0      match  \n",
              "3        [0, 1]  [b'0', b'1']             1                0  not match  \n",
              "4        [0, 1]  [b'0', b'1']             0                0      match  "
            ],
            "text/html": [
              "\n",
              "  <div id=\"df-526ccd17-2575-4d51-a86c-16fa55209344\">\n",
              "    <div class=\"colab-df-container\">\n",
              "      <div>\n",
              "<style scoped>\n",
              "    .dataframe tbody tr th:only-of-type {\n",
              "        vertical-align: middle;\n",
              "    }\n",
              "\n",
              "    .dataframe tbody tr th {\n",
              "        vertical-align: top;\n",
              "    }\n",
              "\n",
              "    .dataframe thead th {\n",
              "        text-align: right;\n",
              "    }\n",
              "</style>\n",
              "<table border=\"1\" class=\"dataframe\">\n",
              "  <thead>\n",
              "    <tr style=\"text-align: right;\">\n",
              "      <th></th>\n",
              "      <th>logits</th>\n",
              "      <th>logistic</th>\n",
              "      <th>probabilities</th>\n",
              "      <th>class_ids</th>\n",
              "      <th>classes</th>\n",
              "      <th>all_class_ids</th>\n",
              "      <th>all_classes</th>\n",
              "      <th>actual label</th>\n",
              "      <th>predicted label</th>\n",
              "      <th>match?</th>\n",
              "    </tr>\n",
              "  </thead>\n",
              "  <tbody>\n",
              "    <tr>\n",
              "      <th>0</th>\n",
              "      <td>[-0.28904212]</td>\n",
              "      <td>[0.4282384]</td>\n",
              "      <td>[0.5717616, 0.42823836]</td>\n",
              "      <td>[0]</td>\n",
              "      <td>[b'0']</td>\n",
              "      <td>[0, 1]</td>\n",
              "      <td>[b'0', b'1']</td>\n",
              "      <td>1</td>\n",
              "      <td>0</td>\n",
              "      <td>not match</td>\n",
              "    </tr>\n",
              "    <tr>\n",
              "      <th>1</th>\n",
              "      <td>[0.6930474]</td>\n",
              "      <td>[0.66664445]</td>\n",
              "      <td>[0.33335552, 0.6666445]</td>\n",
              "      <td>[1]</td>\n",
              "      <td>[b'1']</td>\n",
              "      <td>[0, 1]</td>\n",
              "      <td>[b'0', b'1']</td>\n",
              "      <td>0</td>\n",
              "      <td>1</td>\n",
              "      <td>not match</td>\n",
              "    </tr>\n",
              "    <tr>\n",
              "      <th>2</th>\n",
              "      <td>[-0.5142714]</td>\n",
              "      <td>[0.37419277]</td>\n",
              "      <td>[0.6258072, 0.3741927]</td>\n",
              "      <td>[0]</td>\n",
              "      <td>[b'0']</td>\n",
              "      <td>[0, 1]</td>\n",
              "      <td>[b'0', b'1']</td>\n",
              "      <td>0</td>\n",
              "      <td>0</td>\n",
              "      <td>match</td>\n",
              "    </tr>\n",
              "    <tr>\n",
              "      <th>3</th>\n",
              "      <td>[-0.28904212]</td>\n",
              "      <td>[0.4282384]</td>\n",
              "      <td>[0.5717616, 0.42823836]</td>\n",
              "      <td>[0]</td>\n",
              "      <td>[b'0']</td>\n",
              "      <td>[0, 1]</td>\n",
              "      <td>[b'0', b'1']</td>\n",
              "      <td>1</td>\n",
              "      <td>0</td>\n",
              "      <td>not match</td>\n",
              "    </tr>\n",
              "    <tr>\n",
              "      <th>4</th>\n",
              "      <td>[-0.18493474]</td>\n",
              "      <td>[0.45389766]</td>\n",
              "      <td>[0.54610234, 0.45389763]</td>\n",
              "      <td>[0]</td>\n",
              "      <td>[b'0']</td>\n",
              "      <td>[0, 1]</td>\n",
              "      <td>[b'0', b'1']</td>\n",
              "      <td>0</td>\n",
              "      <td>0</td>\n",
              "      <td>match</td>\n",
              "    </tr>\n",
              "  </tbody>\n",
              "</table>\n",
              "</div>\n",
              "      <button class=\"colab-df-convert\" onclick=\"convertToInteractive('df-526ccd17-2575-4d51-a86c-16fa55209344')\"\n",
              "              title=\"Convert this dataframe to an interactive table.\"\n",
              "              style=\"display:none;\">\n",
              "        \n",
              "  <svg xmlns=\"http://www.w3.org/2000/svg\" height=\"24px\"viewBox=\"0 0 24 24\"\n",
              "       width=\"24px\">\n",
              "    <path d=\"M0 0h24v24H0V0z\" fill=\"none\"/>\n",
              "    <path d=\"M18.56 5.44l.94 2.06.94-2.06 2.06-.94-2.06-.94-.94-2.06-.94 2.06-2.06.94zm-11 1L8.5 8.5l.94-2.06 2.06-.94-2.06-.94L8.5 2.5l-.94 2.06-2.06.94zm10 10l.94 2.06.94-2.06 2.06-.94-2.06-.94-.94-2.06-.94 2.06-2.06.94z\"/><path d=\"M17.41 7.96l-1.37-1.37c-.4-.4-.92-.59-1.43-.59-.52 0-1.04.2-1.43.59L10.3 9.45l-7.72 7.72c-.78.78-.78 2.05 0 2.83L4 21.41c.39.39.9.59 1.41.59.51 0 1.02-.2 1.41-.59l7.78-7.78 2.81-2.81c.8-.78.8-2.07 0-2.86zM5.41 20L4 18.59l7.72-7.72 1.47 1.35L5.41 20z\"/>\n",
              "  </svg>\n",
              "      </button>\n",
              "      \n",
              "  <style>\n",
              "    .colab-df-container {\n",
              "      display:flex;\n",
              "      flex-wrap:wrap;\n",
              "      gap: 12px;\n",
              "    }\n",
              "\n",
              "    .colab-df-convert {\n",
              "      background-color: #E8F0FE;\n",
              "      border: none;\n",
              "      border-radius: 50%;\n",
              "      cursor: pointer;\n",
              "      display: none;\n",
              "      fill: #1967D2;\n",
              "      height: 32px;\n",
              "      padding: 0 0 0 0;\n",
              "      width: 32px;\n",
              "    }\n",
              "\n",
              "    .colab-df-convert:hover {\n",
              "      background-color: #E2EBFA;\n",
              "      box-shadow: 0px 1px 2px rgba(60, 64, 67, 0.3), 0px 1px 3px 1px rgba(60, 64, 67, 0.15);\n",
              "      fill: #174EA6;\n",
              "    }\n",
              "\n",
              "    [theme=dark] .colab-df-convert {\n",
              "      background-color: #3B4455;\n",
              "      fill: #D2E3FC;\n",
              "    }\n",
              "\n",
              "    [theme=dark] .colab-df-convert:hover {\n",
              "      background-color: #434B5C;\n",
              "      box-shadow: 0px 1px 3px 1px rgba(0, 0, 0, 0.15);\n",
              "      filter: drop-shadow(0px 1px 2px rgba(0, 0, 0, 0.3));\n",
              "      fill: #FFFFFF;\n",
              "    }\n",
              "  </style>\n",
              "\n",
              "      <script>\n",
              "        const buttonEl =\n",
              "          document.querySelector('#df-526ccd17-2575-4d51-a86c-16fa55209344 button.colab-df-convert');\n",
              "        buttonEl.style.display =\n",
              "          google.colab.kernel.accessAllowed ? 'block' : 'none';\n",
              "\n",
              "        async function convertToInteractive(key) {\n",
              "          const element = document.querySelector('#df-526ccd17-2575-4d51-a86c-16fa55209344');\n",
              "          const dataTable =\n",
              "            await google.colab.kernel.invokeFunction('convertToInteractive',\n",
              "                                                     [key], {});\n",
              "          if (!dataTable) return;\n",
              "\n",
              "          const docLinkHtml = 'Like what you see? Visit the ' +\n",
              "            '<a target=\"_blank\" href=https://colab.research.google.com/notebooks/data_table.ipynb>data table notebook</a>'\n",
              "            + ' to learn more about interactive tables.';\n",
              "          element.innerHTML = '';\n",
              "          dataTable['output_type'] = 'display_data';\n",
              "          await google.colab.output.renderOutput(dataTable, element);\n",
              "          const docLink = document.createElement('div');\n",
              "          docLink.innerHTML = docLinkHtml;\n",
              "          element.appendChild(docLink);\n",
              "        }\n",
              "      </script>\n",
              "    </div>\n",
              "  </div>\n",
              "  "
            ]
          },
          "metadata": {},
          "execution_count": 216
        }
      ]
    },
    {
      "cell_type": "code",
      "source": [
        "#create a new dataframe showing only the correct predictions\n",
        "correct_predictions = df_predictions[df_predictions['match?']=='match']\n",
        "#get the count of the correct predctions for eah label\n",
        "correct_pred_count_label_0 , correct_pred_count_label_1 = correct_predictions['predicted label'].value_counts()\n",
        "#get the actual label count for each label\n",
        "actual_count_label_0 , actual_count_label_1 = df_predictions['actual label'].value_counts()"
      ],
      "metadata": {
        "id": "OXNb_ukgFc1I"
      },
      "execution_count": null,
      "outputs": []
    },
    {
      "cell_type": "code",
      "source": [
        "#get the accuracy of each labels predictions\n",
        "accuracy_label_0,accuracy_label_1 = correct_pred_count_label_0/actual_count_label_0 , correct_pred_count_label_1/actual_count_label_1\n",
        "accuracy=accuracy_label_0*100,accuracy_label_1*100\n",
        "accuracy=pd.Series(accuracy)\n",
        "print('Accuracy of label 0 (non-fatal): ', accuracy_label_0, '\\nAccuracy of label 1 (fatal): ', accuracy_label_1)"
      ],
      "metadata": {
        "colab": {
          "base_uri": "https://localhost:8080/"
        },
        "outputId": "f59736da-4535-4ef6-b1dd-932194790678",
        "id": "lsBFf6O3Fc1I"
      },
      "execution_count": null,
      "outputs": [
        {
          "output_type": "stream",
          "name": "stdout",
          "text": [
            "Accuracy of label 0 (non-fatal):  0.6756148250779356 \n",
            "Accuracy of label 1 (fatal):  0.577393431167016\n"
          ]
        }
      ]
    },
    {
      "cell_type": "code",
      "source": [
        "#plot the accuracy of each labels predictions\n",
        "fig, axes = plt.subplots(figsize=(18, 10))\n",
        "accuracy.plot(kind='barh')\n",
        "plt.yticks((0,1), ('non-Fatal accident', 'Fatal accident'))\n",
        "plt.xticks((0,10,20,30,40,50,60), ('0%', '10%','20%','30%','40%','50%','60%'))\n",
        "plt.xlabel('prectange accuracy')\n",
        "plt.title('percentage accuracy for each class/label')"
      ],
      "metadata": {
        "colab": {
          "base_uri": "https://localhost:8080/",
          "height": 639
        },
        "outputId": "9f3b5159-2fb3-4613-9e04-ad582dbd00d3",
        "id": "J2R03YyYFc1J"
      },
      "execution_count": null,
      "outputs": [
        {
          "output_type": "execute_result",
          "data": {
            "text/plain": [
              "Text(0.5, 1.0, 'percentage accuracy for each class/label')"
            ]
          },
          "metadata": {},
          "execution_count": 219
        },
        {
          "output_type": "display_data",
          "data": {
            "text/plain": [
              "<Figure size 1296x720 with 1 Axes>"
            ],
            "image/png": "[encoded data removed]"
          },
          "metadata": {
            "needs_background": "light"
          }
        }
      ]
    },
    {
      "cell_type": "code",
      "source": [
        "#creating probabilty columns for each label\n",
        "df_predictions['prob fatal']=pd.DataFrame.from_records(df_predictions['probabilities'])[1]\n",
        "df_predictions['prob non-fatal']=pd.DataFrame.from_records(df_predictions['probabilities'])[0]"
      ],
      "metadata": {
        "id": "rrHgZASCFc1J"
      },
      "execution_count": null,
      "outputs": []
    },
    {
      "cell_type": "code",
      "source": [
        "#create a data frame of only the correct predictions and filter it to rows with high probabilities\n",
        "dataframe_correct_predictions = df_predictions[df_predictions['match?']=='match']\n",
        "dataframe_correct_predictions[(dataframe_correct_predictions['prob non-fatal']>.70 )| (dataframe_correct_predictions['prob fatal']>.70)]\n",
        "#counting incorrect prediciton where prob was high\n",
        "dataframe_incorrect_predictions = df_predictions[df_predictions['match?']=='not match']\n",
        "dataframe_incorrect_predictions[(dataframe_incorrect_predictions['prob non-fatal']>.70 )| (dataframe_incorrect_predictions['prob fatal']>.70)].describe()"
      ],
      "metadata": {
        "colab": {
          "base_uri": "https://localhost:8080/",
          "height": 300
        },
        "outputId": "7f890829-4c6c-49a3-b9d6-5aa8344bee78",
        "id": "Bs2FPOFeFc1J"
      },
      "execution_count": null,
      "outputs": [
        {
          "output_type": "execute_result",
          "data": {
            "text/plain": [
              "       actual label  predicted label  prob fatal  prob non-fatal\n",
              "count    276.000000       276.000000  276.000000      276.000000\n",
              "mean       0.188406         0.811594    0.642193        0.357807\n",
              "std        0.391746         0.391746    0.181419        0.181420\n",
              "min        0.000000         0.000000    0.229098        0.238809\n",
              "25%        0.000000         1.000000    0.711208        0.258244\n",
              "50%        0.000000         1.000000    0.715465        0.284535\n",
              "75%        0.000000         1.000000    0.741756        0.288792\n",
              "max        1.000000         1.000000    0.761191        0.770902"
            ],
            "text/html": [
              "\n",
              "  <div id=\"df-432ca162-cf0c-47fe-a1b2-49d7de82b2c8\">\n",
              "    <div class=\"colab-df-container\">\n",
              "      <div>\n",
              "<style scoped>\n",
              "    .dataframe tbody tr th:only-of-type {\n",
              "        vertical-align: middle;\n",
              "    }\n",
              "\n",
              "    .dataframe tbody tr th {\n",
              "        vertical-align: top;\n",
              "    }\n",
              "\n",
              "    .dataframe thead th {\n",
              "        text-align: right;\n",
              "    }\n",
              "</style>\n",
              "<table border=\"1\" class=\"dataframe\">\n",
              "  <thead>\n",
              "    <tr style=\"text-align: right;\">\n",
              "      <th></th>\n",
              "      <th>actual label</th>\n",
              "      <th>predicted label</th>\n",
              "      <th>prob fatal</th>\n",
              "      <th>prob non-fatal</th>\n",
              "    </tr>\n",
              "  </thead>\n",
              "  <tbody>\n",
              "    <tr>\n",
              "      <th>count</th>\n",
              "      <td>276.000000</td>\n",
              "      <td>276.000000</td>\n",
              "      <td>276.000000</td>\n",
              "      <td>276.000000</td>\n",
              "    </tr>\n",
              "    <tr>\n",
              "      <th>mean</th>\n",
              "      <td>0.188406</td>\n",
              "      <td>0.811594</td>\n",
              "      <td>0.642193</td>\n",
              "      <td>0.357807</td>\n",
              "    </tr>\n",
              "    <tr>\n",
              "      <th>std</th>\n",
              "      <td>0.391746</td>\n",
              "      <td>0.391746</td>\n",
              "      <td>0.181419</td>\n",
              "      <td>0.181420</td>\n",
              "    </tr>\n",
              "    <tr>\n",
              "      <th>min</th>\n",
              "      <td>0.000000</td>\n",
              "      <td>0.000000</td>\n",
              "      <td>0.229098</td>\n",
              "      <td>0.238809</td>\n",
              "    </tr>\n",
              "    <tr>\n",
              "      <th>25%</th>\n",
              "      <td>0.000000</td>\n",
              "      <td>1.000000</td>\n",
              "      <td>0.711208</td>\n",
              "      <td>0.258244</td>\n",
              "    </tr>\n",
              "    <tr>\n",
              "      <th>50%</th>\n",
              "      <td>0.000000</td>\n",
              "      <td>1.000000</td>\n",
              "      <td>0.715465</td>\n",
              "      <td>0.284535</td>\n",
              "    </tr>\n",
              "    <tr>\n",
              "      <th>75%</th>\n",
              "      <td>0.000000</td>\n",
              "      <td>1.000000</td>\n",
              "      <td>0.741756</td>\n",
              "      <td>0.288792</td>\n",
              "    </tr>\n",
              "    <tr>\n",
              "      <th>max</th>\n",
              "      <td>1.000000</td>\n",
              "      <td>1.000000</td>\n",
              "      <td>0.761191</td>\n",
              "      <td>0.770902</td>\n",
              "    </tr>\n",
              "  </tbody>\n",
              "</table>\n",
              "</div>\n",
              "      <button class=\"colab-df-convert\" onclick=\"convertToInteractive('df-432ca162-cf0c-47fe-a1b2-49d7de82b2c8')\"\n",
              "              title=\"Convert this dataframe to an interactive table.\"\n",
              "              style=\"display:none;\">\n",
              "        \n",
              "  <svg xmlns=\"http://www.w3.org/2000/svg\" height=\"24px\"viewBox=\"0 0 24 24\"\n",
              "       width=\"24px\">\n",
              "    <path d=\"M0 0h24v24H0V0z\" fill=\"none\"/>\n",
              "    <path d=\"M18.56 5.44l.94 2.06.94-2.06 2.06-.94-2.06-.94-.94-2.06-.94 2.06-2.06.94zm-11 1L8.5 8.5l.94-2.06 2.06-.94-2.06-.94L8.5 2.5l-.94 2.06-2.06.94zm10 10l.94 2.06.94-2.06 2.06-.94-2.06-.94-.94-2.06-.94 2.06-2.06.94z\"/><path d=\"M17.41 7.96l-1.37-1.37c-.4-.4-.92-.59-1.43-.59-.52 0-1.04.2-1.43.59L10.3 9.45l-7.72 7.72c-.78.78-.78 2.05 0 2.83L4 21.41c.39.39.9.59 1.41.59.51 0 1.02-.2 1.41-.59l7.78-7.78 2.81-2.81c.8-.78.8-2.07 0-2.86zM5.41 20L4 18.59l7.72-7.72 1.47 1.35L5.41 20z\"/>\n",
              "  </svg>\n",
              "      </button>\n",
              "      \n",
              "  <style>\n",
              "    .colab-df-container {\n",
              "      display:flex;\n",
              "      flex-wrap:wrap;\n",
              "      gap: 12px;\n",
              "    }\n",
              "\n",
              "    .colab-df-convert {\n",
              "      background-color: #E8F0FE;\n",
              "      border: none;\n",
              "      border-radius: 50%;\n",
              "      cursor: pointer;\n",
              "      display: none;\n",
              "      fill: #1967D2;\n",
              "      height: 32px;\n",
              "      padding: 0 0 0 0;\n",
              "      width: 32px;\n",
              "    }\n",
              "\n",
              "    .colab-df-convert:hover {\n",
              "      background-color: #E2EBFA;\n",
              "      box-shadow: 0px 1px 2px rgba(60, 64, 67, 0.3), 0px 1px 3px 1px rgba(60, 64, 67, 0.15);\n",
              "      fill: #174EA6;\n",
              "    }\n",
              "\n",
              "    [theme=dark] .colab-df-convert {\n",
              "      background-color: #3B4455;\n",
              "      fill: #D2E3FC;\n",
              "    }\n",
              "\n",
              "    [theme=dark] .colab-df-convert:hover {\n",
              "      background-color: #434B5C;\n",
              "      box-shadow: 0px 1px 3px 1px rgba(0, 0, 0, 0.15);\n",
              "      filter: drop-shadow(0px 1px 2px rgba(0, 0, 0, 0.3));\n",
              "      fill: #FFFFFF;\n",
              "    }\n",
              "  </style>\n",
              "\n",
              "      <script>\n",
              "        const buttonEl =\n",
              "          document.querySelector('#df-432ca162-cf0c-47fe-a1b2-49d7de82b2c8 button.colab-df-convert');\n",
              "        buttonEl.style.display =\n",
              "          google.colab.kernel.accessAllowed ? 'block' : 'none';\n",
              "\n",
              "        async function convertToInteractive(key) {\n",
              "          const element = document.querySelector('#df-432ca162-cf0c-47fe-a1b2-49d7de82b2c8');\n",
              "          const dataTable =\n",
              "            await google.colab.kernel.invokeFunction('convertToInteractive',\n",
              "                                                     [key], {});\n",
              "          if (!dataTable) return;\n",
              "\n",
              "          const docLinkHtml = 'Like what you see? Visit the ' +\n",
              "            '<a target=\"_blank\" href=https://colab.research.google.com/notebooks/data_table.ipynb>data table notebook</a>'\n",
              "            + ' to learn more about interactive tables.';\n",
              "          element.innerHTML = '';\n",
              "          dataTable['output_type'] = 'display_data';\n",
              "          await google.colab.output.renderOutput(dataTable, element);\n",
              "          const docLink = document.createElement('div');\n",
              "          docLink.innerHTML = docLinkHtml;\n",
              "          element.appendChild(docLink);\n",
              "        }\n",
              "      </script>\n",
              "    </div>\n",
              "  </div>\n",
              "  "
            ]
          },
          "metadata": {},
          "execution_count": 221
        }
      ]
    },
    {
      "cell_type": "markdown",
      "source": [
        ""
      ],
      "metadata": {
        "id": "CA8k6CIbG98R"
      }
    },
    {
      "cell_type": "markdown",
      "source": [
        "#Iteration 5 - 'Weather_Conditions'"
      ],
      "metadata": {
        "id": "0gcDab-GG-Ld"
      }
    },
    {
      "cell_type": "markdown",
      "source": [
        "##Features"
      ],
      "metadata": {
        "id": "T_Bgs1olG-Le"
      }
    },
    {
      "cell_type": "markdown",
      "source": [
        "###Seleceting Features, checking correlation between them, cleaning missing data"
      ],
      "metadata": {
        "id": "9lkxn1y3G-Lf"
      }
    },
    {
      "cell_type": "code",
      "source": [
        "df_features = df[['Weather_Conditions','Accident_Severity']]"
      ],
      "metadata": {
        "id": "XYyK8-3VG-Lf"
      },
      "execution_count": null,
      "outputs": []
    },
    {
      "cell_type": "code",
      "source": [
        "#checking correlation between features\n",
        "df_features.corr()\n",
        "sns.heatmap(df_features.corr())"
      ],
      "metadata": {
        "colab": {
          "base_uri": "https://localhost:8080/",
          "height": 73
        },
        "outputId": "193906b7-1dda-465b-fe45-ef9eb1e72a3f",
        "id": "jl30dI4lG-Lg"
      },
      "execution_count": null,
      "outputs": [
        {
          "output_type": "execute_result",
          "data": {
            "text/plain": [
              "<matplotlib.axes._subplots.AxesSubplot at 0x7f22306e13d0>"
            ]
          },
          "metadata": {},
          "execution_count": 248
        },
        {
          "output_type": "display_data",
          "data": {
            "text/plain": [
              "<Figure size 432x288 with 2 Axes>"
            ],
            "image/png": "[encoded data removed]"
          },
          "metadata": {
            "needs_background": "light"
          }
        }
      ]
    },
    {
      "cell_type": "code",
      "source": [
        "#checking which values have missing data, note missing data is recorded as -1\n",
        "df_features.min()"
      ],
      "metadata": {
        "colab": {
          "base_uri": "https://localhost:8080/"
        },
        "outputId": "b70fdf89-c322-423b-83d5-71b8172e88ce",
        "id": "q9IeKu68G-Lh"
      },
      "execution_count": null,
      "outputs": [
        {
          "output_type": "execute_result",
          "data": {
            "text/plain": [
              "Weather_Conditions   -1\n",
              "Accident_Severity     1\n",
              "dtype: int64"
            ]
          },
          "metadata": {},
          "execution_count": 249
        }
      ]
    },
    {
      "cell_type": "code",
      "source": [
        "#there are 161 accident that do not have recorded weather conditions, will drop these\n",
        "df_features['Weather_Conditions'][df_features['Weather_Conditions']==-1].count()"
      ],
      "metadata": {
        "colab": {
          "base_uri": "https://localhost:8080/"
        },
        "outputId": "44b2c09a-baab-44aa-aa8b-742d8243c2df",
        "id": "iixAv5qcG-Lh"
      },
      "execution_count": null,
      "outputs": [
        {
          "output_type": "execute_result",
          "data": {
            "text/plain": [
              "161"
            ]
          },
          "metadata": {},
          "execution_count": 250
        }
      ]
    },
    {
      "cell_type": "code",
      "source": [
        "#removing all rows with (missing) data\n",
        "df_features = df_features[df_features['Weather_Conditions']!=-1]\n",
        "#df_features = df_features[df_features['Speed_limit']!=0]"
      ],
      "metadata": {
        "id": "-IqxJ6T8G-Li"
      },
      "execution_count": null,
      "outputs": []
    },
    {
      "cell_type": "markdown",
      "source": [
        "df_features.count()"
      ],
      "metadata": {
        "id": "eVfA_33kG-Ll"
      }
    },
    {
      "cell_type": "markdown",
      "source": [
        "### Cleaning Label (accident severity) so that there are 2 classes instead of 3"
      ],
      "metadata": {
        "id": "l1wJjmnpG-Ll"
      }
    },
    {
      "cell_type": "code",
      "source": [
        "#check count for each level of accident deverity\n",
        "df_features['Accident_Severity'].value_counts()"
      ],
      "metadata": {
        "colab": {
          "base_uri": "https://localhost:8080/"
        },
        "outputId": "75c22356-678b-4c5a-d8a5-07c3c23975e5",
        "id": "kzRDsEriG-Lm"
      },
      "execution_count": null,
      "outputs": [
        {
          "output_type": "execute_result",
          "data": {
            "text/plain": [
              "3    1515430\n",
              "2     242067\n",
              "1      22995\n",
              "Name: Accident_Severity, dtype: int64"
            ]
          },
          "metadata": {},
          "execution_count": 252
        }
      ]
    },
    {
      "cell_type": "code",
      "source": [
        "#replace all accident severities where severiry is 2 or 3 and group them into 1 bucket (non-fatal)\n",
        "df_features['Accident_Severity'] = df_features['Accident_Severity'].replace(2,0)\n",
        "df_features['Accident_Severity'] = df_features['Accident_Severity'].replace(3,0)"
      ],
      "metadata": {
        "colab": {
          "base_uri": "https://localhost:8080/"
        },
        "id": "yk9gqycJG-Lm",
        "outputId": "5ef3b57d-5d0b-4103-c136-7622e7539f9c"
      },
      "execution_count": null,
      "outputs": [
        {
          "output_type": "stream",
          "name": "stderr",
          "text": [
            "/usr/local/lib/python3.7/dist-packages/ipykernel_launcher.py:2: SettingWithCopyWarning: \n",
            "A value is trying to be set on a copy of a slice from a DataFrame.\n",
            "Try using .loc[row_indexer,col_indexer] = value instead\n",
            "\n",
            "See the caveats in the documentation: https://pandas.pydata.org/pandas-docs/stable/user_guide/indexing.html#returning-a-view-versus-a-copy\n",
            "  \n"
          ]
        }
      ]
    },
    {
      "cell_type": "code",
      "source": [
        "#create 2 dataframe, 1 for each class, and print the size each\n",
        "class_1 = df_features[df_features['Accident_Severity'] == 1]\n",
        "class_0 = df_features[df_features['Accident_Severity'] == 0]\n",
        "print('class 1 (fatal):', len(class_1))\n",
        "print('class 0 (non-fatal):', len(class_0))"
      ],
      "metadata": {
        "colab": {
          "base_uri": "https://localhost:8080/"
        },
        "outputId": "380358fd-1a05-4eda-b723-1321d8c7aa5b",
        "id": "R3YLoFK9G-Ln"
      },
      "execution_count": null,
      "outputs": [
        {
          "output_type": "stream",
          "name": "stdout",
          "text": [
            "class 1 (fatal): 22995\n",
            "class 0 (non-fatal): 1757497\n"
          ]
        }
      ]
    },
    {
      "cell_type": "markdown",
      "source": [
        "###Accounting for imbalance in the dataset by undersampling"
      ],
      "metadata": {
        "id": "v6J3tQHbG-Ln"
      }
    },
    {
      "cell_type": "code",
      "source": [
        "#get the length of the dataset for each class/label\n",
        "class_count_0, class_count_1 = df_features['Accident_Severity'].value_counts()"
      ],
      "metadata": {
        "id": "X_Kny5HHG-Ln"
      },
      "execution_count": null,
      "outputs": []
    },
    {
      "cell_type": "code",
      "source": [
        "#undersampling of class 0 to balance the count of data for each class/label\n",
        "class_0_under = class_0.sample(class_count_1)\n",
        "df_features_under = pd.concat([class_0_under, class_1], axis=0)"
      ],
      "metadata": {
        "id": "UJiNo2UtG-Lo"
      },
      "execution_count": null,
      "outputs": []
    },
    {
      "cell_type": "code",
      "source": [
        "#print the size of the new dataset for each class/label after undersampling\n",
        "class_1 = df_features_under[df_features_under['Accident_Severity'] == 1]\n",
        "class_0 = df_features_under[df_features_under['Accident_Severity'] == 0]\n",
        "print('class 1 (fatal):', len(class_1))\n",
        "print('class 0 (non-fatal):', len(class_0))"
      ],
      "metadata": {
        "colab": {
          "base_uri": "https://localhost:8080/"
        },
        "outputId": "8d1a9aa7-81ab-4aef-c22c-a61bcd4fe6c8",
        "id": "0eyLLnGSG-Lo"
      },
      "execution_count": null,
      "outputs": [
        {
          "output_type": "stream",
          "name": "stdout",
          "text": [
            "class 1 (fatal): 22995\n",
            "class 0 (non-fatal): 22995\n"
          ]
        }
      ]
    },
    {
      "cell_type": "markdown",
      "source": [
        "###splitting the dataset in training and test datasets"
      ],
      "metadata": {
        "id": "jn3-5sdCG-Lp"
      }
    },
    {
      "cell_type": "code",
      "source": [
        "#splitting the dataset into training and test sets\n",
        "train_features_under, test_features_under = train_test_split(df_features_under, test_size=0.25)"
      ],
      "metadata": {
        "id": "hVQ88kc6G-Lp"
      },
      "execution_count": null,
      "outputs": []
    },
    {
      "cell_type": "code",
      "source": [
        "#pop out the label column from the train and test undersampled datasets\n",
        "train_label_under = train_features_under.pop('Accident_Severity')\n",
        "test_label_under = test_features_under.pop('Accident_Severity')"
      ],
      "metadata": {
        "id": "-nUfj494G-Lq"
      },
      "execution_count": null,
      "outputs": []
    },
    {
      "cell_type": "markdown",
      "source": [
        "## DNN Classifier"
      ],
      "metadata": {
        "id": "o61RcWc4G-Lq"
      }
    },
    {
      "cell_type": "markdown",
      "source": [
        "###defining input function, creating classifier, training classifer"
      ],
      "metadata": {
        "id": "BqblYh8lG-Lq"
      }
    },
    {
      "cell_type": "code",
      "source": [
        "def input_fn(features, labels, training=True, batch_size=344):\n",
        "    # Convert the inputs to a Dataset.\n",
        "    dataset = tf.data.Dataset.from_tensor_slices((dict(features), labels))\n",
        "    # Shuffle and repeat if you are in training mode.\n",
        "    if training:\n",
        "        dataset = dataset.shuffle(1000).repeat()\n",
        "    return dataset.batch(batch_size)"
      ],
      "metadata": {
        "id": "g2LWRA_CG-Lq"
      },
      "execution_count": null,
      "outputs": []
    },
    {
      "cell_type": "code",
      "source": [
        "# creating a tensorflow Feature column list\n",
        "my_feature_columns = []\n",
        "for key in train_features_under.keys():\n",
        "    my_feature_columns.append(tf.feature_column.numeric_column(key=key))\n",
        "my_feature_columns"
      ],
      "metadata": {
        "colab": {
          "base_uri": "https://localhost:8080/"
        },
        "outputId": "29876c03-d92b-4b60-e425-378a05e7d55a",
        "id": "yDZBlQRTG-Lr"
      },
      "execution_count": null,
      "outputs": [
        {
          "output_type": "execute_result",
          "data": {
            "text/plain": [
              "[NumericColumn(key='Weather_Conditions', shape=(1,), default_value=None, dtype=tf.float32, normalizer_fn=None)]"
            ]
          },
          "metadata": {},
          "execution_count": 261
        }
      ]
    },
    {
      "cell_type": "code",
      "source": [
        "# Build a DNN with 2 hidden layers with 30 and 10 hidden nodes each.\n",
        "classifier = tf.estimator.DNNClassifier(\n",
        "    feature_columns=my_feature_columns,\n",
        "    # Two hidden layers of 30 and 10 nodes respectively.\n",
        "    hidden_units=[30, 10],\n",
        "    # The model must choose between 2 classes.\n",
        "    n_classes=2)"
      ],
      "metadata": {
        "colab": {
          "base_uri": "https://localhost:8080/"
        },
        "outputId": "a7a88fb3-cccd-4d99-cd37-2be6d7d60d51",
        "id": "uq31AgAeG-Lr"
      },
      "execution_count": null,
      "outputs": [
        {
          "output_type": "stream",
          "name": "stdout",
          "text": [
            "INFO:tensorflow:Using default config.\n",
            "WARNING:tensorflow:Using temporary folder as model directory: /tmp/tmp1kkz0041\n",
            "INFO:tensorflow:Using config: {'_model_dir': '/tmp/tmp1kkz0041', '_tf_random_seed': None, '_save_summary_steps': 100, '_save_checkpoints_steps': None, '_save_checkpoints_secs': 600, '_session_config': allow_soft_placement: true\n",
            "graph_options {\n",
            "  rewrite_options {\n",
            "    meta_optimizer_iterations: ONE\n",
            "  }\n",
            "}\n",
            ", '_keep_checkpoint_max': 5, '_keep_checkpoint_every_n_hours': 10000, '_log_step_count_steps': 100, '_train_distribute': None, '_device_fn': None, '_protocol': None, '_eval_distribute': None, '_experimental_distribute': None, '_experimental_max_worker_delay_secs': None, '_session_creation_timeout_secs': 7200, '_checkpoint_save_graph_def': True, '_service': None, '_cluster_spec': ClusterSpec({}), '_task_type': 'worker', '_task_id': 0, '_global_id_in_cluster': 0, '_master': '', '_evaluation_master': '', '_is_chief': True, '_num_ps_replicas': 0, '_num_worker_replicas': 1}\n"
          ]
        }
      ]
    },
    {
      "cell_type": "code",
      "source": [
        "classifier.train(input_fn=lambda: input_fn(train_features_under, train_label_under, training=True),steps=5000)\n",
        "# We include a lambda to avoid creating an inner function "
      ],
      "metadata": {
        "colab": {
          "base_uri": "https://localhost:8080/"
        },
        "outputId": "77add0ae-1269-4656-e876-edf341bed634",
        "id": "gtpxzY1uG-Lr"
      },
      "execution_count": null,
      "outputs": [
        {
          "output_type": "stream",
          "name": "stdout",
          "text": [
            "INFO:tensorflow:Calling model_fn.\n",
            "INFO:tensorflow:Done calling model_fn.\n",
            "INFO:tensorflow:Create CheckpointSaverHook.\n",
            "INFO:tensorflow:Graph was finalized.\n",
            "INFO:tensorflow:Running local_init_op.\n",
            "INFO:tensorflow:Done running local_init_op.\n",
            "INFO:tensorflow:Calling checkpoint listeners before saving checkpoint 0...\n",
            "INFO:tensorflow:Saving checkpoints for 0 into /tmp/tmp1kkz0041/model.ckpt.\n",
            "INFO:tensorflow:Calling checkpoint listeners after saving checkpoint 0...\n",
            "INFO:tensorflow:loss = 0.70474756, step = 0\n",
            "WARNING:tensorflow:It seems that global step (tf.train.get_global_step) has not been increased. Current value (could be stable): 64 vs previous value: 64. You could increase the global step by passing tf.train.get_global_step() to Optimizer.apply_gradients or Optimizer.minimize.\n",
            "INFO:tensorflow:global_step/sec: 435.541\n",
            "INFO:tensorflow:loss = 0.69713235, step = 100 (0.234 sec)\n",
            "INFO:tensorflow:global_step/sec: 577.703\n",
            "INFO:tensorflow:loss = 0.6932862, step = 200 (0.173 sec)\n",
            "INFO:tensorflow:global_step/sec: 563.495\n",
            "INFO:tensorflow:loss = 0.692989, step = 300 (0.178 sec)\n",
            "INFO:tensorflow:global_step/sec: 550.403\n",
            "INFO:tensorflow:loss = 0.69356793, step = 400 (0.181 sec)\n",
            "INFO:tensorflow:global_step/sec: 582.548\n",
            "INFO:tensorflow:loss = 0.69353443, step = 500 (0.174 sec)\n",
            "INFO:tensorflow:global_step/sec: 576.187\n",
            "INFO:tensorflow:loss = 0.69247544, step = 600 (0.171 sec)\n",
            "INFO:tensorflow:global_step/sec: 556.312\n",
            "INFO:tensorflow:loss = 0.6931597, step = 700 (0.180 sec)\n",
            "INFO:tensorflow:global_step/sec: 584.608\n",
            "INFO:tensorflow:loss = 0.69248384, step = 800 (0.171 sec)\n",
            "INFO:tensorflow:global_step/sec: 558.687\n",
            "INFO:tensorflow:loss = 0.69196564, step = 900 (0.177 sec)\n",
            "INFO:tensorflow:global_step/sec: 576.142\n",
            "INFO:tensorflow:loss = 0.6925225, step = 1000 (0.173 sec)\n",
            "INFO:tensorflow:global_step/sec: 569.183\n",
            "INFO:tensorflow:loss = 0.6927012, step = 1100 (0.175 sec)\n",
            "INFO:tensorflow:global_step/sec: 588.673\n",
            "INFO:tensorflow:loss = 0.692711, step = 1200 (0.173 sec)\n",
            "INFO:tensorflow:global_step/sec: 587.792\n",
            "INFO:tensorflow:loss = 0.6936627, step = 1300 (0.170 sec)\n",
            "INFO:tensorflow:global_step/sec: 563.181\n",
            "INFO:tensorflow:loss = 0.69380367, step = 1400 (0.176 sec)\n",
            "INFO:tensorflow:global_step/sec: 582.512\n",
            "INFO:tensorflow:loss = 0.6920838, step = 1500 (0.171 sec)\n",
            "INFO:tensorflow:global_step/sec: 567.314\n",
            "INFO:tensorflow:loss = 0.6923587, step = 1600 (0.175 sec)\n",
            "INFO:tensorflow:global_step/sec: 589.531\n",
            "INFO:tensorflow:loss = 0.69338405, step = 1700 (0.172 sec)\n",
            "INFO:tensorflow:global_step/sec: 562.741\n",
            "INFO:tensorflow:loss = 0.69464535, step = 1800 (0.175 sec)\n",
            "INFO:tensorflow:global_step/sec: 537.334\n",
            "INFO:tensorflow:loss = 0.6931647, step = 1900 (0.196 sec)\n",
            "INFO:tensorflow:global_step/sec: 521.272\n",
            "INFO:tensorflow:loss = 0.69381917, step = 2000 (0.186 sec)\n",
            "INFO:tensorflow:global_step/sec: 527.827\n",
            "INFO:tensorflow:loss = 0.6931193, step = 2100 (0.189 sec)\n",
            "INFO:tensorflow:global_step/sec: 580.18\n",
            "INFO:tensorflow:loss = 0.6915569, step = 2200 (0.173 sec)\n",
            "INFO:tensorflow:global_step/sec: 564.264\n",
            "INFO:tensorflow:loss = 0.693882, step = 2300 (0.176 sec)\n",
            "INFO:tensorflow:global_step/sec: 555.963\n",
            "INFO:tensorflow:loss = 0.69256413, step = 2400 (0.181 sec)\n",
            "INFO:tensorflow:global_step/sec: 584.67\n",
            "INFO:tensorflow:loss = 0.6921709, step = 2500 (0.171 sec)\n",
            "INFO:tensorflow:global_step/sec: 585.775\n",
            "INFO:tensorflow:loss = 0.69201136, step = 2600 (0.168 sec)\n",
            "INFO:tensorflow:global_step/sec: 514.98\n",
            "INFO:tensorflow:loss = 0.69223076, step = 2700 (0.194 sec)\n",
            "INFO:tensorflow:global_step/sec: 573.751\n",
            "INFO:tensorflow:loss = 0.693825, step = 2800 (0.176 sec)\n",
            "INFO:tensorflow:global_step/sec: 564.268\n",
            "INFO:tensorflow:loss = 0.69306403, step = 2900 (0.177 sec)\n",
            "INFO:tensorflow:global_step/sec: 584.243\n",
            "INFO:tensorflow:loss = 0.69458497, step = 3000 (0.169 sec)\n",
            "INFO:tensorflow:global_step/sec: 565.61\n",
            "INFO:tensorflow:loss = 0.692482, step = 3100 (0.177 sec)\n",
            "INFO:tensorflow:global_step/sec: 589.315\n",
            "INFO:tensorflow:loss = 0.6920512, step = 3200 (0.172 sec)\n",
            "INFO:tensorflow:global_step/sec: 545.055\n",
            "INFO:tensorflow:loss = 0.6915281, step = 3300 (0.181 sec)\n",
            "INFO:tensorflow:global_step/sec: 584.39\n",
            "INFO:tensorflow:loss = 0.69536203, step = 3400 (0.171 sec)\n",
            "INFO:tensorflow:global_step/sec: 592.161\n",
            "INFO:tensorflow:loss = 0.6926565, step = 3500 (0.169 sec)\n",
            "INFO:tensorflow:global_step/sec: 590.636\n",
            "INFO:tensorflow:loss = 0.6921873, step = 3600 (0.170 sec)\n",
            "INFO:tensorflow:global_step/sec: 607.426\n",
            "INFO:tensorflow:loss = 0.69238096, step = 3700 (0.165 sec)\n",
            "INFO:tensorflow:global_step/sec: 581.276\n",
            "INFO:tensorflow:loss = 0.69325894, step = 3800 (0.172 sec)\n",
            "INFO:tensorflow:global_step/sec: 587.39\n",
            "INFO:tensorflow:loss = 0.6917377, step = 3900 (0.174 sec)\n",
            "INFO:tensorflow:global_step/sec: 594.402\n",
            "INFO:tensorflow:loss = 0.6946628, step = 4000 (0.169 sec)\n",
            "INFO:tensorflow:global_step/sec: 572.862\n",
            "INFO:tensorflow:loss = 0.6930551, step = 4100 (0.171 sec)\n",
            "INFO:tensorflow:global_step/sec: 555.953\n",
            "INFO:tensorflow:loss = 0.69262046, step = 4200 (0.183 sec)\n",
            "INFO:tensorflow:global_step/sec: 569.727\n",
            "INFO:tensorflow:loss = 0.694254, step = 4300 (0.174 sec)\n",
            "INFO:tensorflow:global_step/sec: 557.728\n",
            "INFO:tensorflow:loss = 0.6914233, step = 4400 (0.182 sec)\n",
            "INFO:tensorflow:global_step/sec: 541.716\n",
            "INFO:tensorflow:loss = 0.69231725, step = 4500 (0.181 sec)\n",
            "INFO:tensorflow:global_step/sec: 549.188\n",
            "INFO:tensorflow:loss = 0.6936949, step = 4600 (0.182 sec)\n",
            "INFO:tensorflow:global_step/sec: 577.894\n",
            "INFO:tensorflow:loss = 0.6923915, step = 4700 (0.175 sec)\n",
            "INFO:tensorflow:global_step/sec: 542.42\n",
            "INFO:tensorflow:loss = 0.6922664, step = 4800 (0.185 sec)\n",
            "INFO:tensorflow:global_step/sec: 586.077\n",
            "INFO:tensorflow:loss = 0.692936, step = 4900 (0.168 sec)\n",
            "INFO:tensorflow:Calling checkpoint listeners before saving checkpoint 5000...\n",
            "INFO:tensorflow:Saving checkpoints for 5000 into /tmp/tmp1kkz0041/model.ckpt.\n",
            "INFO:tensorflow:Calling checkpoint listeners after saving checkpoint 5000...\n",
            "INFO:tensorflow:Loss for final step: 0.6936974.\n"
          ]
        },
        {
          "output_type": "execute_result",
          "data": {
            "text/plain": [
              "<tensorflow_estimator.python.estimator.canned.dnn.DNNClassifierV2 at 0x7f223423e650>"
            ]
          },
          "metadata": {},
          "execution_count": 263
        }
      ]
    },
    {
      "cell_type": "markdown",
      "source": [
        "###Evaluating Classifier"
      ],
      "metadata": {
        "id": "lHAj7siVG-Ls"
      }
    },
    {
      "cell_type": "code",
      "source": [
        "#determine the accurracy of th classifier\n",
        "eval_result = classifier.evaluate(\n",
        "    input_fn=lambda: input_fn(test_features_under, test_label_under, training=False))\n",
        "print('\\nTest set accuracy: {accuracy:0.3f}\\n'.format(**eval_result))"
      ],
      "metadata": {
        "colab": {
          "base_uri": "https://localhost:8080/"
        },
        "outputId": "19a1fba7-e456-4597-df1b-14a0bd94aaef",
        "id": "UNEsm0XUG-Ls"
      },
      "execution_count": null,
      "outputs": [
        {
          "output_type": "stream",
          "name": "stdout",
          "text": [
            "INFO:tensorflow:Calling model_fn.\n",
            "INFO:tensorflow:Done calling model_fn.\n",
            "INFO:tensorflow:Starting evaluation at 2022-03-26T16:44:24\n",
            "INFO:tensorflow:Graph was finalized.\n",
            "INFO:tensorflow:Restoring parameters from /tmp/tmp1kkz0041/model.ckpt-5000\n",
            "INFO:tensorflow:Running local_init_op.\n",
            "INFO:tensorflow:Done running local_init_op.\n",
            "INFO:tensorflow:Inference Time : 0.52556s\n",
            "INFO:tensorflow:Finished evaluation at 2022-03-26-16:44:24\n",
            "INFO:tensorflow:Saving dict for global step 5000: accuracy = 0.51356757, accuracy_baseline = 0.5046095, auc = 0.5164937, auc_precision_recall = 0.5046074, average_loss = 0.69267344, global_step = 5000, label/mean = 0.4953905, loss = 0.6926561, precision = 0.5055394, prediction/mean = 0.49980763, recall = 0.8251405\n",
            "INFO:tensorflow:Saving 'checkpoint_path' summary for global step 5000: /tmp/tmp1kkz0041/model.ckpt-5000\n",
            "\n",
            "Test set accuracy: 0.514\n",
            "\n"
          ]
        }
      ]
    },
    {
      "cell_type": "code",
      "source": [
        "#create predictions list for all test set\n",
        "predictions_under = list(classifier.predict(input_fn=lambda: input_fn(test_features_under, test_label_under, training=False)))"
      ],
      "metadata": {
        "outputId": "52083bbe-f554-46cf-927b-b83432a4fa2b",
        "colab": {
          "base_uri": "https://localhost:8080/"
        },
        "id": "sIT4KouoG-Lt"
      },
      "execution_count": null,
      "outputs": [
        {
          "output_type": "stream",
          "name": "stdout",
          "text": [
            "INFO:tensorflow:Calling model_fn.\n",
            "INFO:tensorflow:Done calling model_fn.\n",
            "INFO:tensorflow:Graph was finalized.\n",
            "INFO:tensorflow:Restoring parameters from /tmp/tmp1kkz0041/model.ckpt-5000\n",
            "INFO:tensorflow:Running local_init_op.\n",
            "INFO:tensorflow:Done running local_init_op.\n"
          ]
        }
      ]
    },
    {
      "cell_type": "code",
      "source": [
        "#create a dataframe of predictions for test set\n",
        "df_predictions = pd.DataFrame(predictions_under)"
      ],
      "metadata": {
        "id": "-DK2iiCSG-Lt"
      },
      "execution_count": null,
      "outputs": []
    },
    {
      "cell_type": "markdown",
      "source": [
        "###Plot of Results"
      ],
      "metadata": {
        "id": "uUp6SYq9G-Lt"
      }
    },
    {
      "cell_type": "code",
      "source": [
        "#add the actual matches to the prediciton dataframe\n",
        "df_predictions['actual label']=test_label_under.values"
      ],
      "metadata": {
        "id": "lfP3RGA_G-Lu"
      },
      "execution_count": null,
      "outputs": []
    },
    {
      "cell_type": "code",
      "source": [
        "#add the class predicitons from the DNN to the dataframe\n",
        "df_predictions['predicted label']=pd.DataFrame.from_records(df_predictions['class_ids'])"
      ],
      "metadata": {
        "id": "j0VZZYBRG-Lu"
      },
      "execution_count": null,
      "outputs": []
    },
    {
      "cell_type": "code",
      "source": [
        "#add a binary column to show if the dnn predictions were correct\n",
        "df_predictions['match?']=df_predictions['predicted label']-df_predictions['actual label']\n",
        "df_predictions['match?']=df_predictions['match?'].replace(0,'match')\n",
        "df_predictions['match?']=df_predictions['match?'].replace(-1,'not match')\n",
        "df_predictions['match?']=df_predictions['match?'].replace(1,'not match')"
      ],
      "metadata": {
        "id": "I4g2G7vMG-Lu"
      },
      "execution_count": null,
      "outputs": []
    },
    {
      "cell_type": "code",
      "source": [
        "#view the prdictions dataframe\n",
        "df_predictions.head()"
      ],
      "metadata": {
        "colab": {
          "base_uri": "https://localhost:8080/",
          "height": 206
        },
        "outputId": "6fedbc5b-1c87-4187-db23-decffcef4586",
        "id": "4L3kc9KgG-Lv"
      },
      "execution_count": null,
      "outputs": [
        {
          "output_type": "execute_result",
          "data": {
            "text/plain": [
              "          logits     logistic           probabilities class_ids classes  \\\n",
              "0  [0.012208205]   [0.503052]  [0.496948, 0.50305206]       [1]  [b'1']   \n",
              "1  [0.012208205]   [0.503052]  [0.496948, 0.50305206]       [1]  [b'1']   \n",
              "2  [-0.18512656]  [0.4538501]  [0.5461499, 0.4538501]       [0]  [b'0']   \n",
              "3  [0.012208205]   [0.503052]  [0.496948, 0.50305206]       [1]  [b'1']   \n",
              "4  [0.012208205]   [0.503052]  [0.496948, 0.50305206]       [1]  [b'1']   \n",
              "\n",
              "  all_class_ids   all_classes  actual label  predicted label     match?  \n",
              "0        [0, 1]  [b'0', b'1']             0                1  not match  \n",
              "1        [0, 1]  [b'0', b'1']             0                1  not match  \n",
              "2        [0, 1]  [b'0', b'1']             1                0  not match  \n",
              "3        [0, 1]  [b'0', b'1']             1                1      match  \n",
              "4        [0, 1]  [b'0', b'1']             1                1      match  "
            ],
            "text/html": [
              "\n",
              "  <div id=\"df-e86ef1c0-cfda-4306-8124-79d2743bfcc3\">\n",
              "    <div class=\"colab-df-container\">\n",
              "      <div>\n",
              "<style scoped>\n",
              "    .dataframe tbody tr th:only-of-type {\n",
              "        vertical-align: middle;\n",
              "    }\n",
              "\n",
              "    .dataframe tbody tr th {\n",
              "        vertical-align: top;\n",
              "    }\n",
              "\n",
              "    .dataframe thead th {\n",
              "        text-align: right;\n",
              "    }\n",
              "</style>\n",
              "<table border=\"1\" class=\"dataframe\">\n",
              "  <thead>\n",
              "    <tr style=\"text-align: right;\">\n",
              "      <th></th>\n",
              "      <th>logits</th>\n",
              "      <th>logistic</th>\n",
              "      <th>probabilities</th>\n",
              "      <th>class_ids</th>\n",
              "      <th>classes</th>\n",
              "      <th>all_class_ids</th>\n",
              "      <th>all_classes</th>\n",
              "      <th>actual label</th>\n",
              "      <th>predicted label</th>\n",
              "      <th>match?</th>\n",
              "    </tr>\n",
              "  </thead>\n",
              "  <tbody>\n",
              "    <tr>\n",
              "      <th>0</th>\n",
              "      <td>[0.012208205]</td>\n",
              "      <td>[0.503052]</td>\n",
              "      <td>[0.496948, 0.50305206]</td>\n",
              "      <td>[1]</td>\n",
              "      <td>[b'1']</td>\n",
              "      <td>[0, 1]</td>\n",
              "      <td>[b'0', b'1']</td>\n",
              "      <td>0</td>\n",
              "      <td>1</td>\n",
              "      <td>not match</td>\n",
              "    </tr>\n",
              "    <tr>\n",
              "      <th>1</th>\n",
              "      <td>[0.012208205]</td>\n",
              "      <td>[0.503052]</td>\n",
              "      <td>[0.496948, 0.50305206]</td>\n",
              "      <td>[1]</td>\n",
              "      <td>[b'1']</td>\n",
              "      <td>[0, 1]</td>\n",
              "      <td>[b'0', b'1']</td>\n",
              "      <td>0</td>\n",
              "      <td>1</td>\n",
              "      <td>not match</td>\n",
              "    </tr>\n",
              "    <tr>\n",
              "      <th>2</th>\n",
              "      <td>[-0.18512656]</td>\n",
              "      <td>[0.4538501]</td>\n",
              "      <td>[0.5461499, 0.4538501]</td>\n",
              "      <td>[0]</td>\n",
              "      <td>[b'0']</td>\n",
              "      <td>[0, 1]</td>\n",
              "      <td>[b'0', b'1']</td>\n",
              "      <td>1</td>\n",
              "      <td>0</td>\n",
              "      <td>not match</td>\n",
              "    </tr>\n",
              "    <tr>\n",
              "      <th>3</th>\n",
              "      <td>[0.012208205]</td>\n",
              "      <td>[0.503052]</td>\n",
              "      <td>[0.496948, 0.50305206]</td>\n",
              "      <td>[1]</td>\n",
              "      <td>[b'1']</td>\n",
              "      <td>[0, 1]</td>\n",
              "      <td>[b'0', b'1']</td>\n",
              "      <td>1</td>\n",
              "      <td>1</td>\n",
              "      <td>match</td>\n",
              "    </tr>\n",
              "    <tr>\n",
              "      <th>4</th>\n",
              "      <td>[0.012208205]</td>\n",
              "      <td>[0.503052]</td>\n",
              "      <td>[0.496948, 0.50305206]</td>\n",
              "      <td>[1]</td>\n",
              "      <td>[b'1']</td>\n",
              "      <td>[0, 1]</td>\n",
              "      <td>[b'0', b'1']</td>\n",
              "      <td>1</td>\n",
              "      <td>1</td>\n",
              "      <td>match</td>\n",
              "    </tr>\n",
              "  </tbody>\n",
              "</table>\n",
              "</div>\n",
              "      <button class=\"colab-df-convert\" onclick=\"convertToInteractive('df-e86ef1c0-cfda-4306-8124-79d2743bfcc3')\"\n",
              "              title=\"Convert this dataframe to an interactive table.\"\n",
              "              style=\"display:none;\">\n",
              "        \n",
              "  <svg xmlns=\"http://www.w3.org/2000/svg\" height=\"24px\"viewBox=\"0 0 24 24\"\n",
              "       width=\"24px\">\n",
              "    <path d=\"M0 0h24v24H0V0z\" fill=\"none\"/>\n",
              "    <path d=\"M18.56 5.44l.94 2.06.94-2.06 2.06-.94-2.06-.94-.94-2.06-.94 2.06-2.06.94zm-11 1L8.5 8.5l.94-2.06 2.06-.94-2.06-.94L8.5 2.5l-.94 2.06-2.06.94zm10 10l.94 2.06.94-2.06 2.06-.94-2.06-.94-.94-2.06-.94 2.06-2.06.94z\"/><path d=\"M17.41 7.96l-1.37-1.37c-.4-.4-.92-.59-1.43-.59-.52 0-1.04.2-1.43.59L10.3 9.45l-7.72 7.72c-.78.78-.78 2.05 0 2.83L4 21.41c.39.39.9.59 1.41.59.51 0 1.02-.2 1.41-.59l7.78-7.78 2.81-2.81c.8-.78.8-2.07 0-2.86zM5.41 20L4 18.59l7.72-7.72 1.47 1.35L5.41 20z\"/>\n",
              "  </svg>\n",
              "      </button>\n",
              "      \n",
              "  <style>\n",
              "    .colab-df-container {\n",
              "      display:flex;\n",
              "      flex-wrap:wrap;\n",
              "      gap: 12px;\n",
              "    }\n",
              "\n",
              "    .colab-df-convert {\n",
              "      background-color: #E8F0FE;\n",
              "      border: none;\n",
              "      border-radius: 50%;\n",
              "      cursor: pointer;\n",
              "      display: none;\n",
              "      fill: #1967D2;\n",
              "      height: 32px;\n",
              "      padding: 0 0 0 0;\n",
              "      width: 32px;\n",
              "    }\n",
              "\n",
              "    .colab-df-convert:hover {\n",
              "      background-color: #E2EBFA;\n",
              "      box-shadow: 0px 1px 2px rgba(60, 64, 67, 0.3), 0px 1px 3px 1px rgba(60, 64, 67, 0.15);\n",
              "      fill: #174EA6;\n",
              "    }\n",
              "\n",
              "    [theme=dark] .colab-df-convert {\n",
              "      background-color: #3B4455;\n",
              "      fill: #D2E3FC;\n",
              "    }\n",
              "\n",
              "    [theme=dark] .colab-df-convert:hover {\n",
              "      background-color: #434B5C;\n",
              "      box-shadow: 0px 1px 3px 1px rgba(0, 0, 0, 0.15);\n",
              "      filter: drop-shadow(0px 1px 2px rgba(0, 0, 0, 0.3));\n",
              "      fill: #FFFFFF;\n",
              "    }\n",
              "  </style>\n",
              "\n",
              "      <script>\n",
              "        const buttonEl =\n",
              "          document.querySelector('#df-e86ef1c0-cfda-4306-8124-79d2743bfcc3 button.colab-df-convert');\n",
              "        buttonEl.style.display =\n",
              "          google.colab.kernel.accessAllowed ? 'block' : 'none';\n",
              "\n",
              "        async function convertToInteractive(key) {\n",
              "          const element = document.querySelector('#df-e86ef1c0-cfda-4306-8124-79d2743bfcc3');\n",
              "          const dataTable =\n",
              "            await google.colab.kernel.invokeFunction('convertToInteractive',\n",
              "                                                     [key], {});\n",
              "          if (!dataTable) return;\n",
              "\n",
              "          const docLinkHtml = 'Like what you see? Visit the ' +\n",
              "            '<a target=\"_blank\" href=https://colab.research.google.com/notebooks/data_table.ipynb>data table notebook</a>'\n",
              "            + ' to learn more about interactive tables.';\n",
              "          element.innerHTML = '';\n",
              "          dataTable['output_type'] = 'display_data';\n",
              "          await google.colab.output.renderOutput(dataTable, element);\n",
              "          const docLink = document.createElement('div');\n",
              "          docLink.innerHTML = docLinkHtml;\n",
              "          element.appendChild(docLink);\n",
              "        }\n",
              "      </script>\n",
              "    </div>\n",
              "  </div>\n",
              "  "
            ]
          },
          "metadata": {},
          "execution_count": 270
        }
      ]
    },
    {
      "cell_type": "code",
      "source": [
        "#create a new dataframe showing only the correct predictions\n",
        "correct_predictions = df_predictions[df_predictions['match?']=='match']\n",
        "#get the count of the correct predctions for eah label\n",
        "correct_pred_count_label_0 , correct_pred_count_label_1 = correct_predictions['predicted label'].value_counts()\n",
        "#get the actual label count for each label\n",
        "actual_count_label_0 , actual_count_label_1 = df_predictions['actual label'].value_counts()"
      ],
      "metadata": {
        "id": "vB9uvi25G-Lv"
      },
      "execution_count": null,
      "outputs": []
    },
    {
      "cell_type": "code",
      "source": [
        "#get the accuracy of each labels predictions\n",
        "accuracy_label_0,accuracy_label_1 = correct_pred_count_label_0/actual_count_label_0 , correct_pred_count_label_1/actual_count_label_1\n",
        "accuracy=accuracy_label_0*100,accuracy_label_1*100\n",
        "accuracy=pd.Series(accuracy)\n",
        "print('Accuracy of label 0 (non-fatal): ', accuracy_label_0, '\\nAccuracy of label 1 (fatal): ', accuracy_label_1)"
      ],
      "metadata": {
        "colab": {
          "base_uri": "https://localhost:8080/"
        },
        "outputId": "a3d3e665-42f9-4812-bc5f-129fbf8a6925",
        "id": "ubVidU2GG-Lv"
      },
      "execution_count": null,
      "outputs": [
        {
          "output_type": "stream",
          "name": "stdout",
          "text": [
            "Accuracy of label 0 (non-fatal):  0.8100654946570148 \n",
            "Accuracy of label 1 (fatal):  0.21155196629213482\n"
          ]
        }
      ]
    },
    {
      "cell_type": "code",
      "source": [
        "#plot the accuracy of each labels predictions\n",
        "fig, axes = plt.subplots(figsize=(18, 10))\n",
        "accuracy.plot(kind='barh')\n",
        "plt.yticks((0,1), ('non-Fatal accident', 'Fatal accident'))\n",
        "plt.xticks((0,10,20,30,40,50,60), ('0%', '10%','20%','30%','40%','50%','60%'))\n",
        "plt.xlabel('prectange accuracy')\n",
        "plt.title('percentage accuracy for each class/label')"
      ],
      "metadata": {
        "colab": {
          "base_uri": "https://localhost:8080/",
          "height": 639
        },
        "outputId": "14916d5e-5d33-4145-e3b5-92a1dcbab8dd",
        "id": "mqy9zIKyG-Lw"
      },
      "execution_count": null,
      "outputs": [
        {
          "output_type": "execute_result",
          "data": {
            "text/plain": [
              "Text(0.5, 1.0, 'percentage accuracy for each class/label')"
            ]
          },
          "metadata": {},
          "execution_count": 273
        },
        {
          "output_type": "display_data",
          "data": {
            "text/plain": [
              "<Figure size 1296x720 with 1 Axes>"
            ],
            "image/png": "[encoded data removed]"
          },
          "metadata": {
            "needs_background": "light"
          }
        }
      ]
    },
    {
      "cell_type": "code",
      "source": [
        "#creating probabilty columns for each label\n",
        "df_predictions['prob fatal']=pd.DataFrame.from_records(df_predictions['probabilities'])[1]\n",
        "df_predictions['prob non-fatal']=pd.DataFrame.from_records(df_predictions['probabilities'])[0]"
      ],
      "metadata": {
        "id": "5wwZoAW_G-Lw"
      },
      "execution_count": null,
      "outputs": []
    },
    {
      "cell_type": "code",
      "source": [
        "#create a data frame of only the correct predictions and filter it to rows with high probabilities\n",
        "dataframe_correct_predictions = df_predictions[df_predictions['match?']=='match']\n",
        "dataframe_correct_predictions[(dataframe_correct_predictions['prob non-fatal']>.70 )| (dataframe_correct_predictions['prob fatal']>.70)]\n",
        "#counting incorrect prediciton where prob was high\n",
        "dataframe_incorrect_predictions = df_predictions[df_predictions['match?']=='not match']\n",
        "dataframe_incorrect_predictions[(dataframe_incorrect_predictions['prob non-fatal']>.70 )| (dataframe_incorrect_predictions['prob fatal']>.70)].describe()"
      ],
      "metadata": {
        "colab": {
          "base_uri": "https://localhost:8080/",
          "height": 300
        },
        "outputId": "84721f96-c7ea-4da1-9c85-0b086e00158d",
        "id": "d0Dao9uBG-Lw"
      },
      "execution_count": null,
      "outputs": [
        {
          "output_type": "execute_result",
          "data": {
            "text/plain": [
              "       actual label  predicted label  prob fatal  prob non-fatal\n",
              "count           0.0              0.0         0.0             0.0\n",
              "mean            NaN              NaN         NaN             NaN\n",
              "std             NaN              NaN         NaN             NaN\n",
              "min             NaN              NaN         NaN             NaN\n",
              "25%             NaN              NaN         NaN             NaN\n",
              "50%             NaN              NaN         NaN             NaN\n",
              "75%             NaN              NaN         NaN             NaN\n",
              "max             NaN              NaN         NaN             NaN"
            ],
            "text/html": [
              "\n",
              "  <div id=\"df-eb418a43-bf7d-4cd5-acf9-937c29044498\">\n",
              "    <div class=\"colab-df-container\">\n",
              "      <div>\n",
              "<style scoped>\n",
              "    .dataframe tbody tr th:only-of-type {\n",
              "        vertical-align: middle;\n",
              "    }\n",
              "\n",
              "    .dataframe tbody tr th {\n",
              "        vertical-align: top;\n",
              "    }\n",
              "\n",
              "    .dataframe thead th {\n",
              "        text-align: right;\n",
              "    }\n",
              "</style>\n",
              "<table border=\"1\" class=\"dataframe\">\n",
              "  <thead>\n",
              "    <tr style=\"text-align: right;\">\n",
              "      <th></th>\n",
              "      <th>actual label</th>\n",
              "      <th>predicted label</th>\n",
              "      <th>prob fatal</th>\n",
              "      <th>prob non-fatal</th>\n",
              "    </tr>\n",
              "  </thead>\n",
              "  <tbody>\n",
              "    <tr>\n",
              "      <th>count</th>\n",
              "      <td>0.0</td>\n",
              "      <td>0.0</td>\n",
              "      <td>0.0</td>\n",
              "      <td>0.0</td>\n",
              "    </tr>\n",
              "    <tr>\n",
              "      <th>mean</th>\n",
              "      <td>NaN</td>\n",
              "      <td>NaN</td>\n",
              "      <td>NaN</td>\n",
              "      <td>NaN</td>\n",
              "    </tr>\n",
              "    <tr>\n",
              "      <th>std</th>\n",
              "      <td>NaN</td>\n",
              "      <td>NaN</td>\n",
              "      <td>NaN</td>\n",
              "      <td>NaN</td>\n",
              "    </tr>\n",
              "    <tr>\n",
              "      <th>min</th>\n",
              "      <td>NaN</td>\n",
              "      <td>NaN</td>\n",
              "      <td>NaN</td>\n",
              "      <td>NaN</td>\n",
              "    </tr>\n",
              "    <tr>\n",
              "      <th>25%</th>\n",
              "      <td>NaN</td>\n",
              "      <td>NaN</td>\n",
              "      <td>NaN</td>\n",
              "      <td>NaN</td>\n",
              "    </tr>\n",
              "    <tr>\n",
              "      <th>50%</th>\n",
              "      <td>NaN</td>\n",
              "      <td>NaN</td>\n",
              "      <td>NaN</td>\n",
              "      <td>NaN</td>\n",
              "    </tr>\n",
              "    <tr>\n",
              "      <th>75%</th>\n",
              "      <td>NaN</td>\n",
              "      <td>NaN</td>\n",
              "      <td>NaN</td>\n",
              "      <td>NaN</td>\n",
              "    </tr>\n",
              "    <tr>\n",
              "      <th>max</th>\n",
              "      <td>NaN</td>\n",
              "      <td>NaN</td>\n",
              "      <td>NaN</td>\n",
              "      <td>NaN</td>\n",
              "    </tr>\n",
              "  </tbody>\n",
              "</table>\n",
              "</div>\n",
              "      <button class=\"colab-df-convert\" onclick=\"convertToInteractive('df-eb418a43-bf7d-4cd5-acf9-937c29044498')\"\n",
              "              title=\"Convert this dataframe to an interactive table.\"\n",
              "              style=\"display:none;\">\n",
              "        \n",
              "  <svg xmlns=\"http://www.w3.org/2000/svg\" height=\"24px\"viewBox=\"0 0 24 24\"\n",
              "       width=\"24px\">\n",
              "    <path d=\"M0 0h24v24H0V0z\" fill=\"none\"/>\n",
              "    <path d=\"M18.56 5.44l.94 2.06.94-2.06 2.06-.94-2.06-.94-.94-2.06-.94 2.06-2.06.94zm-11 1L8.5 8.5l.94-2.06 2.06-.94-2.06-.94L8.5 2.5l-.94 2.06-2.06.94zm10 10l.94 2.06.94-2.06 2.06-.94-2.06-.94-.94-2.06-.94 2.06-2.06.94z\"/><path d=\"M17.41 7.96l-1.37-1.37c-.4-.4-.92-.59-1.43-.59-.52 0-1.04.2-1.43.59L10.3 9.45l-7.72 7.72c-.78.78-.78 2.05 0 2.83L4 21.41c.39.39.9.59 1.41.59.51 0 1.02-.2 1.41-.59l7.78-7.78 2.81-2.81c.8-.78.8-2.07 0-2.86zM5.41 20L4 18.59l7.72-7.72 1.47 1.35L5.41 20z\"/>\n",
              "  </svg>\n",
              "      </button>\n",
              "      \n",
              "  <style>\n",
              "    .colab-df-container {\n",
              "      display:flex;\n",
              "      flex-wrap:wrap;\n",
              "      gap: 12px;\n",
              "    }\n",
              "\n",
              "    .colab-df-convert {\n",
              "      background-color: #E8F0FE;\n",
              "      border: none;\n",
              "      border-radius: 50%;\n",
              "      cursor: pointer;\n",
              "      display: none;\n",
              "      fill: #1967D2;\n",
              "      height: 32px;\n",
              "      padding: 0 0 0 0;\n",
              "      width: 32px;\n",
              "    }\n",
              "\n",
              "    .colab-df-convert:hover {\n",
              "      background-color: #E2EBFA;\n",
              "      box-shadow: 0px 1px 2px rgba(60, 64, 67, 0.3), 0px 1px 3px 1px rgba(60, 64, 67, 0.15);\n",
              "      fill: #174EA6;\n",
              "    }\n",
              "\n",
              "    [theme=dark] .colab-df-convert {\n",
              "      background-color: #3B4455;\n",
              "      fill: #D2E3FC;\n",
              "    }\n",
              "\n",
              "    [theme=dark] .colab-df-convert:hover {\n",
              "      background-color: #434B5C;\n",
              "      box-shadow: 0px 1px 3px 1px rgba(0, 0, 0, 0.15);\n",
              "      filter: drop-shadow(0px 1px 2px rgba(0, 0, 0, 0.3));\n",
              "      fill: #FFFFFF;\n",
              "    }\n",
              "  </style>\n",
              "\n",
              "      <script>\n",
              "        const buttonEl =\n",
              "          document.querySelector('#df-eb418a43-bf7d-4cd5-acf9-937c29044498 button.colab-df-convert');\n",
              "        buttonEl.style.display =\n",
              "          google.colab.kernel.accessAllowed ? 'block' : 'none';\n",
              "\n",
              "        async function convertToInteractive(key) {\n",
              "          const element = document.querySelector('#df-eb418a43-bf7d-4cd5-acf9-937c29044498');\n",
              "          const dataTable =\n",
              "            await google.colab.kernel.invokeFunction('convertToInteractive',\n",
              "                                                     [key], {});\n",
              "          if (!dataTable) return;\n",
              "\n",
              "          const docLinkHtml = 'Like what you see? Visit the ' +\n",
              "            '<a target=\"_blank\" href=https://colab.research.google.com/notebooks/data_table.ipynb>data table notebook</a>'\n",
              "            + ' to learn more about interactive tables.';\n",
              "          element.innerHTML = '';\n",
              "          dataTable['output_type'] = 'display_data';\n",
              "          await google.colab.output.renderOutput(dataTable, element);\n",
              "          const docLink = document.createElement('div');\n",
              "          docLink.innerHTML = docLinkHtml;\n",
              "          element.appendChild(docLink);\n",
              "        }\n",
              "      </script>\n",
              "    </div>\n",
              "  </div>\n",
              "  "
            ]
          },
          "metadata": {},
          "execution_count": 275
        }
      ]
    },
    {
      "cell_type": "markdown",
      "source": [
        "#Iteration 6 - 'Speed_limit'"
      ],
      "metadata": {
        "id": "JHloOz2-Hbx5"
      }
    },
    {
      "cell_type": "markdown",
      "source": [
        "##Features"
      ],
      "metadata": {
        "id": "XdI6eCNKHbx6"
      }
    },
    {
      "cell_type": "markdown",
      "source": [
        "###Seleceting Features, checking correlation between them, cleaning missing data"
      ],
      "metadata": {
        "id": "wVeP2pQFHbx7"
      }
    },
    {
      "cell_type": "code",
      "source": [
        "df_features = df[['Speed_limit','Accident_Severity']]"
      ],
      "metadata": {
        "id": "GdtTHQZwHbx8"
      },
      "execution_count": null,
      "outputs": []
    },
    {
      "cell_type": "code",
      "source": [
        "#checking correlation between features\n",
        "df_features.corr()\n",
        "sns.heatmap(df_features.corr())"
      ],
      "metadata": {
        "colab": {
          "base_uri": "https://localhost:8080/",
          "height": 73
        },
        "outputId": "e739a87e-a28d-47df-dfba-7dc01efcef8b",
        "id": "7JwtzR3FHbx9"
      },
      "execution_count": null,
      "outputs": [
        {
          "output_type": "execute_result",
          "data": {
            "text/plain": [
              "<matplotlib.axes._subplots.AxesSubplot at 0x7f221c619050>"
            ]
          },
          "metadata": {},
          "execution_count": 281
        },
        {
          "output_type": "display_data",
          "data": {
            "text/plain": [
              "<Figure size 432x288 with 2 Axes>"
            ],
            "image/png": "[encoded data removed]"
          },
          "metadata": {
            "needs_background": "light"
          }
        }
      ]
    },
    {
      "cell_type": "code",
      "source": [
        "#checking which values have missing data, note missing data is recorded as -1\n",
        "df_features.min()"
      ],
      "metadata": {
        "colab": {
          "base_uri": "https://localhost:8080/"
        },
        "outputId": "7a0a67fa-63f7-4314-dddc-9de99ee24bec",
        "id": "gjOe12YkHbx-"
      },
      "execution_count": null,
      "outputs": [
        {
          "output_type": "execute_result",
          "data": {
            "text/plain": [
              "Speed_limit          0\n",
              "Accident_Severity    1\n",
              "dtype: int64"
            ]
          },
          "metadata": {},
          "execution_count": 282
        }
      ]
    },
    {
      "cell_type": "code",
      "source": [
        "#there are 161 accident that do not have recorded weather conditions, will drop these\n",
        "#df_features['Weather_Conditions'][df_features['Weather_Conditions']==-1].count()"
      ],
      "metadata": {
        "id": "wqd4pbfOHbyA"
      },
      "execution_count": null,
      "outputs": []
    },
    {
      "cell_type": "code",
      "source": [
        "#removing all rows with (missing) data\n",
        "#df_features = df_features[df_features['Weather_Conditions']!=-1]\n",
        "df_features = df_features[df_features['Speed_limit']!=0]"
      ],
      "metadata": {
        "id": "81GUQx9yHbyA"
      },
      "execution_count": null,
      "outputs": []
    },
    {
      "cell_type": "markdown",
      "source": [
        "df_features.count()"
      ],
      "metadata": {
        "id": "FwpEQ-3CHbyB"
      }
    },
    {
      "cell_type": "markdown",
      "source": [
        "### Cleaning Label (accident severity) so that there are 2 classes instead of 3"
      ],
      "metadata": {
        "id": "3bPFpTUiHbyB"
      }
    },
    {
      "cell_type": "code",
      "source": [
        "#check count for each level of accident deverity\n",
        "df_features['Accident_Severity'].value_counts()"
      ],
      "metadata": {
        "colab": {
          "base_uri": "https://localhost:8080/"
        },
        "outputId": "d6c9cfa5-1ca2-4123-f2ad-f2a893947bef",
        "id": "XdW1_jv1HbyC"
      },
      "execution_count": null,
      "outputs": [
        {
          "output_type": "execute_result",
          "data": {
            "text/plain": [
              "3    1515574\n",
              "2     242080\n",
              "1      22998\n",
              "Name: Accident_Severity, dtype: int64"
            ]
          },
          "metadata": {},
          "execution_count": 285
        }
      ]
    },
    {
      "cell_type": "code",
      "source": [
        "#replace all accident severities where severiry is 2 or 3 and group them into 1 bucket (non-fatal)\n",
        "df_features['Accident_Severity'] = df_features['Accident_Severity'].replace(2,0)\n",
        "df_features['Accident_Severity'] = df_features['Accident_Severity'].replace(3,0)"
      ],
      "metadata": {
        "colab": {
          "base_uri": "https://localhost:8080/"
        },
        "outputId": "6125a6b3-4929-47eb-84eb-df4889c05922",
        "id": "CHd1tjIcHbyD"
      },
      "execution_count": null,
      "outputs": [
        {
          "output_type": "stream",
          "name": "stderr",
          "text": [
            "/usr/local/lib/python3.7/dist-packages/ipykernel_launcher.py:2: SettingWithCopyWarning: \n",
            "A value is trying to be set on a copy of a slice from a DataFrame.\n",
            "Try using .loc[row_indexer,col_indexer] = value instead\n",
            "\n",
            "See the caveats in the documentation: https://pandas.pydata.org/pandas-docs/stable/user_guide/indexing.html#returning-a-view-versus-a-copy\n",
            "  \n",
            "/usr/local/lib/python3.7/dist-packages/ipykernel_launcher.py:3: SettingWithCopyWarning: \n",
            "A value is trying to be set on a copy of a slice from a DataFrame.\n",
            "Try using .loc[row_indexer,col_indexer] = value instead\n",
            "\n",
            "See the caveats in the documentation: https://pandas.pydata.org/pandas-docs/stable/user_guide/indexing.html#returning-a-view-versus-a-copy\n",
            "  This is separate from the ipykernel package so we can avoid doing imports until\n"
          ]
        }
      ]
    },
    {
      "cell_type": "code",
      "source": [
        "#create 2 dataframe, 1 for each class, and print the size each\n",
        "class_1 = df_features[df_features['Accident_Severity'] == 1]\n",
        "class_0 = df_features[df_features['Accident_Severity'] == 0]\n",
        "print('class 1 (fatal):', len(class_1))\n",
        "print('class 0 (non-fatal):', len(class_0))"
      ],
      "metadata": {
        "colab": {
          "base_uri": "https://localhost:8080/"
        },
        "outputId": "47d2a1d7-6766-459f-8051-cc0ef521f202",
        "id": "maybb9LEHbyD"
      },
      "execution_count": null,
      "outputs": [
        {
          "output_type": "stream",
          "name": "stdout",
          "text": [
            "class 1 (fatal): 22998\n",
            "class 0 (non-fatal): 1757654\n"
          ]
        }
      ]
    },
    {
      "cell_type": "markdown",
      "source": [
        "###Accounting for imbalance in the dataset by undersampling"
      ],
      "metadata": {
        "id": "gMpxqcvmHbyD"
      }
    },
    {
      "cell_type": "code",
      "source": [
        "#get the length of the dataset for each class/label\n",
        "class_count_0, class_count_1 = df_features['Accident_Severity'].value_counts()"
      ],
      "metadata": {
        "id": "QAu796WWHbyD"
      },
      "execution_count": null,
      "outputs": []
    },
    {
      "cell_type": "code",
      "source": [
        "#undersampling of class 0 to balance the count of data for each class/label\n",
        "class_0_under = class_0.sample(class_count_1)\n",
        "df_features_under = pd.concat([class_0_under, class_1], axis=0)"
      ],
      "metadata": {
        "id": "Ai0MWsm1HbyD"
      },
      "execution_count": null,
      "outputs": []
    },
    {
      "cell_type": "code",
      "source": [
        "#print the size of the new dataset for each class/label after undersampling\n",
        "class_1 = df_features_under[df_features_under['Accident_Severity'] == 1]\n",
        "class_0 = df_features_under[df_features_under['Accident_Severity'] == 0]\n",
        "print('class 1 (fatal):', len(class_1))\n",
        "print('class 0 (non-fatal):', len(class_0))"
      ],
      "metadata": {
        "colab": {
          "base_uri": "https://localhost:8080/"
        },
        "outputId": "3ad71cba-3fe7-4724-a382-7ab9abfa5a5c",
        "id": "i4tnjKxoHbyE"
      },
      "execution_count": null,
      "outputs": [
        {
          "output_type": "stream",
          "name": "stdout",
          "text": [
            "class 1 (fatal): 22998\n",
            "class 0 (non-fatal): 22998\n"
          ]
        }
      ]
    },
    {
      "cell_type": "markdown",
      "source": [
        "###splitting the dataset in training and test datasets"
      ],
      "metadata": {
        "id": "oaQskrmKHbyE"
      }
    },
    {
      "cell_type": "code",
      "source": [
        "#splitting the dataset into training and test sets\n",
        "train_features_under, test_features_under = train_test_split(df_features_under, test_size=0.25)"
      ],
      "metadata": {
        "id": "s_vzdNklHbyF"
      },
      "execution_count": null,
      "outputs": []
    },
    {
      "cell_type": "code",
      "source": [
        "#pop out the label column from the train and test undersampled datasets\n",
        "train_label_under = train_features_under.pop('Accident_Severity')\n",
        "test_label_under = test_features_under.pop('Accident_Severity')"
      ],
      "metadata": {
        "id": "2kbId5HbHbyF"
      },
      "execution_count": null,
      "outputs": []
    },
    {
      "cell_type": "markdown",
      "source": [
        "## DNN Classifier"
      ],
      "metadata": {
        "id": "3gSY3U8kHbyF"
      }
    },
    {
      "cell_type": "markdown",
      "source": [
        "###defining input function, creating classifier, training classifer"
      ],
      "metadata": {
        "id": "jpLkBOhyHbyF"
      }
    },
    {
      "cell_type": "code",
      "source": [
        "def input_fn(features, labels, training=True, batch_size=344):\n",
        "    # Convert the inputs to a Dataset.\n",
        "    dataset = tf.data.Dataset.from_tensor_slices((dict(features), labels))\n",
        "    # Shuffle and repeat if you are in training mode.\n",
        "    if training:\n",
        "        dataset = dataset.shuffle(1000).repeat()\n",
        "    return dataset.batch(batch_size)"
      ],
      "metadata": {
        "id": "nAy0f7flHbyG"
      },
      "execution_count": null,
      "outputs": []
    },
    {
      "cell_type": "code",
      "source": [
        "# creating a tensorflow Feature column list\n",
        "my_feature_columns = []\n",
        "for key in train_features_under.keys():\n",
        "    my_feature_columns.append(tf.feature_column.numeric_column(key=key))\n",
        "my_feature_columns"
      ],
      "metadata": {
        "colab": {
          "base_uri": "https://localhost:8080/"
        },
        "outputId": "0c852374-8c89-4229-b375-58db2a25784a",
        "id": "s9I8xqQ4HbyG"
      },
      "execution_count": null,
      "outputs": [
        {
          "output_type": "execute_result",
          "data": {
            "text/plain": [
              "[NumericColumn(key='Speed_limit', shape=(1,), default_value=None, dtype=tf.float32, normalizer_fn=None)]"
            ]
          },
          "metadata": {},
          "execution_count": 397
        }
      ]
    },
    {
      "cell_type": "code",
      "source": [
        "# Build a DNN with 2 hidden layers with 30 and 10 hidden nodes each.\n",
        "classifier = tf.estimator.DNNClassifier(\n",
        "    feature_columns=my_feature_columns,\n",
        "    # Two hidden layers of 30 and 10 nodes respectively.\n",
        "    hidden_units=[30, 10],\n",
        "    # The model must choose between 2 classes.\n",
        "    n_classes=2)"
      ],
      "metadata": {
        "colab": {
          "base_uri": "https://localhost:8080/"
        },
        "outputId": "370a8585-6a6c-4b32-d5ac-d1ad9e8ff71d",
        "id": "2dzfSJjfHbyG"
      },
      "execution_count": null,
      "outputs": [
        {
          "output_type": "stream",
          "name": "stdout",
          "text": [
            "INFO:tensorflow:Using default config.\n",
            "WARNING:tensorflow:Using temporary folder as model directory: /tmp/tmpb3ci128o\n",
            "INFO:tensorflow:Using config: {'_model_dir': '/tmp/tmpb3ci128o', '_tf_random_seed': None, '_save_summary_steps': 100, '_save_checkpoints_steps': None, '_save_checkpoints_secs': 600, '_session_config': allow_soft_placement: true\n",
            "graph_options {\n",
            "  rewrite_options {\n",
            "    meta_optimizer_iterations: ONE\n",
            "  }\n",
            "}\n",
            ", '_keep_checkpoint_max': 5, '_keep_checkpoint_every_n_hours': 10000, '_log_step_count_steps': 100, '_train_distribute': None, '_device_fn': None, '_protocol': None, '_eval_distribute': None, '_experimental_distribute': None, '_experimental_max_worker_delay_secs': None, '_session_creation_timeout_secs': 7200, '_checkpoint_save_graph_def': True, '_service': None, '_cluster_spec': ClusterSpec({}), '_task_type': 'worker', '_task_id': 0, '_global_id_in_cluster': 0, '_master': '', '_evaluation_master': '', '_is_chief': True, '_num_ps_replicas': 0, '_num_worker_replicas': 1}\n"
          ]
        }
      ]
    },
    {
      "cell_type": "code",
      "source": [
        "classifier.train(input_fn=lambda: input_fn(train_features_under, train_label_under, training=True),steps=10000)\n",
        "# We include a lambda to avoid creating an inner function "
      ],
      "metadata": {
        "colab": {
          "base_uri": "https://localhost:8080/"
        },
        "outputId": "5c7afb9c-9750-4a78-8758-834e5ad1d57e",
        "id": "Q23QEg9uHbyH"
      },
      "execution_count": null,
      "outputs": [
        {
          "output_type": "stream",
          "name": "stdout",
          "text": [
            "INFO:tensorflow:Calling model_fn.\n",
            "INFO:tensorflow:Done calling model_fn.\n",
            "INFO:tensorflow:Create CheckpointSaverHook.\n",
            "INFO:tensorflow:Graph was finalized.\n",
            "INFO:tensorflow:Running local_init_op.\n",
            "INFO:tensorflow:Done running local_init_op.\n",
            "INFO:tensorflow:Calling checkpoint listeners before saving checkpoint 0...\n",
            "INFO:tensorflow:Saving checkpoints for 0 into /tmp/tmpb3ci128o/model.ckpt.\n",
            "INFO:tensorflow:Calling checkpoint listeners after saving checkpoint 0...\n",
            "INFO:tensorflow:loss = 1.738029, step = 0\n",
            "INFO:tensorflow:global_step/sec: 435.413\n",
            "INFO:tensorflow:loss = 0.69362634, step = 100 (0.231 sec)\n",
            "INFO:tensorflow:global_step/sec: 611.5\n",
            "INFO:tensorflow:loss = 0.69662786, step = 200 (0.167 sec)\n",
            "INFO:tensorflow:global_step/sec: 591.489\n",
            "INFO:tensorflow:loss = 0.6819017, step = 300 (0.168 sec)\n",
            "INFO:tensorflow:global_step/sec: 569.912\n",
            "INFO:tensorflow:loss = 0.6901018, step = 400 (0.176 sec)\n",
            "INFO:tensorflow:global_step/sec: 563.482\n",
            "INFO:tensorflow:loss = 0.69911814, step = 500 (0.179 sec)\n",
            "INFO:tensorflow:global_step/sec: 573.629\n",
            "INFO:tensorflow:loss = 0.68364656, step = 600 (0.169 sec)\n",
            "INFO:tensorflow:global_step/sec: 560.136\n",
            "INFO:tensorflow:loss = 0.6882916, step = 700 (0.179 sec)\n",
            "INFO:tensorflow:global_step/sec: 609.203\n",
            "INFO:tensorflow:loss = 0.6846094, step = 800 (0.164 sec)\n",
            "INFO:tensorflow:global_step/sec: 619.013\n",
            "INFO:tensorflow:loss = 0.6833108, step = 900 (0.162 sec)\n",
            "INFO:tensorflow:global_step/sec: 583.969\n",
            "INFO:tensorflow:loss = 0.6835009, step = 1000 (0.174 sec)\n",
            "INFO:tensorflow:global_step/sec: 558.805\n",
            "INFO:tensorflow:loss = 0.6784735, step = 1100 (0.180 sec)\n",
            "INFO:tensorflow:global_step/sec: 578.458\n",
            "INFO:tensorflow:loss = 0.67403215, step = 1200 (0.172 sec)\n",
            "INFO:tensorflow:global_step/sec: 566.81\n",
            "INFO:tensorflow:loss = 0.69123715, step = 1300 (0.174 sec)\n",
            "INFO:tensorflow:global_step/sec: 590.857\n",
            "INFO:tensorflow:loss = 0.6898468, step = 1400 (0.173 sec)\n",
            "INFO:tensorflow:global_step/sec: 594.642\n",
            "INFO:tensorflow:loss = 0.6829763, step = 1500 (0.168 sec)\n",
            "INFO:tensorflow:global_step/sec: 602.049\n",
            "INFO:tensorflow:loss = 0.68731076, step = 1600 (0.166 sec)\n",
            "INFO:tensorflow:global_step/sec: 539.065\n",
            "INFO:tensorflow:loss = 0.6881143, step = 1700 (0.186 sec)\n",
            "INFO:tensorflow:global_step/sec: 593.208\n",
            "INFO:tensorflow:loss = 0.68226045, step = 1800 (0.168 sec)\n",
            "INFO:tensorflow:global_step/sec: 580.174\n",
            "INFO:tensorflow:loss = 0.6892944, step = 1900 (0.173 sec)\n",
            "INFO:tensorflow:global_step/sec: 567.311\n",
            "INFO:tensorflow:loss = 0.66903436, step = 2000 (0.176 sec)\n",
            "INFO:tensorflow:global_step/sec: 585.745\n",
            "INFO:tensorflow:loss = 0.68680286, step = 2100 (0.171 sec)\n",
            "INFO:tensorflow:global_step/sec: 592.029\n",
            "INFO:tensorflow:loss = 0.6814867, step = 2200 (0.166 sec)\n",
            "INFO:tensorflow:global_step/sec: 584.732\n",
            "INFO:tensorflow:loss = 0.68868893, step = 2300 (0.171 sec)\n",
            "INFO:tensorflow:global_step/sec: 570.51\n",
            "INFO:tensorflow:loss = 0.68373287, step = 2400 (0.175 sec)\n",
            "INFO:tensorflow:global_step/sec: 596.113\n",
            "INFO:tensorflow:loss = 0.6919768, step = 2500 (0.168 sec)\n",
            "INFO:tensorflow:global_step/sec: 584.921\n",
            "INFO:tensorflow:loss = 0.68685263, step = 2600 (0.173 sec)\n",
            "INFO:tensorflow:global_step/sec: 567.901\n",
            "INFO:tensorflow:loss = 0.68195695, step = 2700 (0.174 sec)\n",
            "INFO:tensorflow:global_step/sec: 572.857\n",
            "INFO:tensorflow:loss = 0.69381356, step = 2800 (0.177 sec)\n",
            "INFO:tensorflow:global_step/sec: 545.136\n",
            "INFO:tensorflow:loss = 0.68365437, step = 2900 (0.184 sec)\n",
            "INFO:tensorflow:global_step/sec: 619.669\n",
            "INFO:tensorflow:loss = 0.6861104, step = 3000 (0.159 sec)\n",
            "INFO:tensorflow:global_step/sec: 582.424\n",
            "INFO:tensorflow:loss = 0.6795279, step = 3100 (0.172 sec)\n",
            "INFO:tensorflow:global_step/sec: 595.141\n",
            "INFO:tensorflow:loss = 0.6858933, step = 3200 (0.172 sec)\n",
            "INFO:tensorflow:global_step/sec: 585.481\n",
            "INFO:tensorflow:loss = 0.6927822, step = 3300 (0.167 sec)\n",
            "INFO:tensorflow:global_step/sec: 611.757\n",
            "INFO:tensorflow:loss = 0.6767851, step = 3400 (0.163 sec)\n",
            "INFO:tensorflow:global_step/sec: 571.697\n",
            "INFO:tensorflow:loss = 0.68632865, step = 3500 (0.177 sec)\n",
            "INFO:tensorflow:global_step/sec: 583.892\n",
            "INFO:tensorflow:loss = 0.6847374, step = 3600 (0.169 sec)\n",
            "INFO:tensorflow:global_step/sec: 601.789\n",
            "INFO:tensorflow:loss = 0.67836654, step = 3700 (0.166 sec)\n",
            "INFO:tensorflow:global_step/sec: 607.849\n",
            "INFO:tensorflow:loss = 0.6757302, step = 3800 (0.164 sec)\n",
            "INFO:tensorflow:global_step/sec: 579.588\n",
            "INFO:tensorflow:loss = 0.6846745, step = 3900 (0.175 sec)\n",
            "INFO:tensorflow:global_step/sec: 578.334\n",
            "INFO:tensorflow:loss = 0.6817007, step = 4000 (0.171 sec)\n",
            "INFO:tensorflow:global_step/sec: 579.046\n",
            "INFO:tensorflow:loss = 0.6730934, step = 4100 (0.175 sec)\n",
            "INFO:tensorflow:global_step/sec: 586.2\n",
            "INFO:tensorflow:loss = 0.6755669, step = 4200 (0.170 sec)\n",
            "INFO:tensorflow:global_step/sec: 531.383\n",
            "INFO:tensorflow:loss = 0.6704598, step = 4300 (0.190 sec)\n",
            "INFO:tensorflow:global_step/sec: 583.382\n",
            "INFO:tensorflow:loss = 0.6871963, step = 4400 (0.170 sec)\n",
            "INFO:tensorflow:global_step/sec: 574.799\n",
            "INFO:tensorflow:loss = 0.6786795, step = 4500 (0.174 sec)\n",
            "INFO:tensorflow:global_step/sec: 567.44\n",
            "INFO:tensorflow:loss = 0.67653495, step = 4600 (0.175 sec)\n",
            "INFO:tensorflow:global_step/sec: 609.003\n",
            "INFO:tensorflow:loss = 0.6748225, step = 4700 (0.163 sec)\n",
            "INFO:tensorflow:global_step/sec: 589.329\n",
            "INFO:tensorflow:loss = 0.6711645, step = 4800 (0.170 sec)\n",
            "INFO:tensorflow:global_step/sec: 589.276\n",
            "INFO:tensorflow:loss = 0.67339194, step = 4900 (0.170 sec)\n",
            "INFO:tensorflow:global_step/sec: 588.047\n",
            "INFO:tensorflow:loss = 0.6782217, step = 5000 (0.173 sec)\n",
            "INFO:tensorflow:global_step/sec: 573.375\n",
            "INFO:tensorflow:loss = 0.67810744, step = 5100 (0.174 sec)\n",
            "INFO:tensorflow:global_step/sec: 575.072\n",
            "INFO:tensorflow:loss = 0.68588156, step = 5200 (0.171 sec)\n",
            "INFO:tensorflow:global_step/sec: 597.888\n",
            "INFO:tensorflow:loss = 0.6811861, step = 5300 (0.169 sec)\n",
            "INFO:tensorflow:global_step/sec: 586.854\n",
            "INFO:tensorflow:loss = 0.66858506, step = 5400 (0.170 sec)\n",
            "INFO:tensorflow:global_step/sec: 609.495\n",
            "INFO:tensorflow:loss = 0.6757958, step = 5500 (0.162 sec)\n",
            "INFO:tensorflow:global_step/sec: 595.217\n",
            "INFO:tensorflow:loss = 0.67190737, step = 5600 (0.170 sec)\n",
            "INFO:tensorflow:global_step/sec: 603.129\n",
            "INFO:tensorflow:loss = 0.6752922, step = 5700 (0.166 sec)\n",
            "INFO:tensorflow:global_step/sec: 574.938\n",
            "INFO:tensorflow:loss = 0.67428005, step = 5800 (0.174 sec)\n",
            "INFO:tensorflow:global_step/sec: 588.745\n",
            "INFO:tensorflow:loss = 0.6684257, step = 5900 (0.170 sec)\n",
            "INFO:tensorflow:global_step/sec: 571.905\n",
            "INFO:tensorflow:loss = 0.67561334, step = 6000 (0.175 sec)\n",
            "INFO:tensorflow:global_step/sec: 612.97\n",
            "INFO:tensorflow:loss = 0.6763551, step = 6100 (0.168 sec)\n",
            "INFO:tensorflow:global_step/sec: 530.866\n",
            "INFO:tensorflow:loss = 0.66695994, step = 6200 (0.183 sec)\n",
            "INFO:tensorflow:global_step/sec: 592.025\n",
            "INFO:tensorflow:loss = 0.6748216, step = 6300 (0.169 sec)\n",
            "INFO:tensorflow:global_step/sec: 575.658\n",
            "INFO:tensorflow:loss = 0.6720696, step = 6400 (0.171 sec)\n",
            "INFO:tensorflow:global_step/sec: 613.978\n",
            "INFO:tensorflow:loss = 0.6703263, step = 6500 (0.163 sec)\n",
            "INFO:tensorflow:global_step/sec: 579.258\n",
            "INFO:tensorflow:loss = 0.67465043, step = 6600 (0.173 sec)\n",
            "INFO:tensorflow:global_step/sec: 607.063\n",
            "INFO:tensorflow:loss = 0.67049515, step = 6700 (0.165 sec)\n",
            "INFO:tensorflow:global_step/sec: 586.888\n",
            "INFO:tensorflow:loss = 0.6680098, step = 6800 (0.173 sec)\n",
            "INFO:tensorflow:global_step/sec: 588.636\n",
            "INFO:tensorflow:loss = 0.6735655, step = 6900 (0.168 sec)\n",
            "INFO:tensorflow:global_step/sec: 576.594\n",
            "INFO:tensorflow:loss = 0.6718821, step = 7000 (0.173 sec)\n",
            "INFO:tensorflow:global_step/sec: 575.447\n",
            "INFO:tensorflow:loss = 0.67890894, step = 7100 (0.176 sec)\n",
            "INFO:tensorflow:global_step/sec: 615.907\n",
            "INFO:tensorflow:loss = 0.6707382, step = 7200 (0.162 sec)\n",
            "INFO:tensorflow:global_step/sec: 575.42\n",
            "INFO:tensorflow:loss = 0.6677502, step = 7300 (0.174 sec)\n",
            "INFO:tensorflow:global_step/sec: 560.22\n",
            "INFO:tensorflow:loss = 0.67141783, step = 7400 (0.176 sec)\n",
            "INFO:tensorflow:global_step/sec: 598.844\n",
            "INFO:tensorflow:loss = 0.68200916, step = 7500 (0.169 sec)\n",
            "INFO:tensorflow:global_step/sec: 557.065\n",
            "INFO:tensorflow:loss = 0.68150634, step = 7600 (0.179 sec)\n",
            "INFO:tensorflow:global_step/sec: 594.22\n",
            "INFO:tensorflow:loss = 0.6750098, step = 7700 (0.166 sec)\n",
            "INFO:tensorflow:global_step/sec: 602.442\n",
            "INFO:tensorflow:loss = 0.68467474, step = 7800 (0.169 sec)\n",
            "INFO:tensorflow:global_step/sec: 590.38\n",
            "INFO:tensorflow:loss = 0.66573375, step = 7900 (0.167 sec)\n",
            "INFO:tensorflow:global_step/sec: 583.427\n",
            "INFO:tensorflow:loss = 0.6679319, step = 8000 (0.174 sec)\n",
            "INFO:tensorflow:global_step/sec: 587.374\n",
            "INFO:tensorflow:loss = 0.66673625, step = 8100 (0.171 sec)\n",
            "INFO:tensorflow:global_step/sec: 576.58\n",
            "INFO:tensorflow:loss = 0.66492665, step = 8200 (0.173 sec)\n",
            "INFO:tensorflow:global_step/sec: 576.813\n",
            "INFO:tensorflow:loss = 0.6738317, step = 8300 (0.174 sec)\n",
            "INFO:tensorflow:global_step/sec: 606.595\n",
            "INFO:tensorflow:loss = 0.67099, step = 8400 (0.164 sec)\n",
            "INFO:tensorflow:global_step/sec: 600.214\n",
            "INFO:tensorflow:loss = 0.6624178, step = 8500 (0.164 sec)\n",
            "INFO:tensorflow:global_step/sec: 563.904\n",
            "INFO:tensorflow:loss = 0.667525, step = 8600 (0.180 sec)\n",
            "INFO:tensorflow:global_step/sec: 606.43\n",
            "INFO:tensorflow:loss = 0.6692991, step = 8700 (0.162 sec)\n",
            "INFO:tensorflow:global_step/sec: 559.091\n",
            "INFO:tensorflow:loss = 0.6792902, step = 8800 (0.181 sec)\n",
            "INFO:tensorflow:global_step/sec: 570.325\n",
            "INFO:tensorflow:loss = 0.6791531, step = 8900 (0.174 sec)\n",
            "INFO:tensorflow:global_step/sec: 611.048\n",
            "INFO:tensorflow:loss = 0.6664354, step = 9000 (0.162 sec)\n",
            "INFO:tensorflow:global_step/sec: 581.754\n",
            "INFO:tensorflow:loss = 0.6774135, step = 9100 (0.174 sec)\n",
            "INFO:tensorflow:global_step/sec: 591.836\n",
            "INFO:tensorflow:loss = 0.66493136, step = 9200 (0.169 sec)\n",
            "INFO:tensorflow:global_step/sec: 590.284\n",
            "INFO:tensorflow:loss = 0.6703871, step = 9300 (0.170 sec)\n",
            "INFO:tensorflow:global_step/sec: 567.044\n",
            "INFO:tensorflow:loss = 0.67786604, step = 9400 (0.175 sec)\n",
            "INFO:tensorflow:global_step/sec: 592.606\n",
            "INFO:tensorflow:loss = 0.66728044, step = 9500 (0.167 sec)\n",
            "INFO:tensorflow:global_step/sec: 560.07\n",
            "INFO:tensorflow:loss = 0.6811178, step = 9600 (0.180 sec)\n",
            "INFO:tensorflow:global_step/sec: 563.029\n",
            "INFO:tensorflow:loss = 0.67563796, step = 9700 (0.178 sec)\n",
            "INFO:tensorflow:global_step/sec: 583.786\n",
            "INFO:tensorflow:loss = 0.67766786, step = 9800 (0.172 sec)\n",
            "INFO:tensorflow:global_step/sec: 598.466\n",
            "INFO:tensorflow:loss = 0.6720329, step = 9900 (0.167 sec)\n",
            "INFO:tensorflow:Calling checkpoint listeners before saving checkpoint 10000...\n",
            "INFO:tensorflow:Saving checkpoints for 10000 into /tmp/tmpb3ci128o/model.ckpt.\n",
            "INFO:tensorflow:Calling checkpoint listeners after saving checkpoint 10000...\n",
            "INFO:tensorflow:Loss for final step: 0.66539586.\n"
          ]
        },
        {
          "output_type": "execute_result",
          "data": {
            "text/plain": [
              "<tensorflow_estimator.python.estimator.canned.dnn.DNNClassifierV2 at 0x7f221faf2090>"
            ]
          },
          "metadata": {},
          "execution_count": 399
        }
      ]
    },
    {
      "cell_type": "markdown",
      "source": [
        "###Evaluating Classifier"
      ],
      "metadata": {
        "id": "W7s-pDCpHbyH"
      }
    },
    {
      "cell_type": "code",
      "source": [
        "#determine the accurracy of th classifier\n",
        "eval_result = classifier.evaluate(\n",
        "    input_fn=lambda: input_fn(test_features_under, test_label_under, training=False))\n",
        "print('\\nTest set accuracy: {accuracy:0.3f}\\n'.format(**eval_result))"
      ],
      "metadata": {
        "colab": {
          "base_uri": "https://localhost:8080/"
        },
        "outputId": "50b125eb-bc24-4840-b0e9-6adb112350ee",
        "id": "xa-kCaFzHbyH"
      },
      "execution_count": null,
      "outputs": [
        {
          "output_type": "stream",
          "name": "stdout",
          "text": [
            "INFO:tensorflow:Calling model_fn.\n",
            "INFO:tensorflow:Done calling model_fn.\n",
            "INFO:tensorflow:Starting evaluation at 2022-03-26T16:50:55\n",
            "INFO:tensorflow:Graph was finalized.\n",
            "INFO:tensorflow:Restoring parameters from /tmp/tmpb3ci128o/model.ckpt-10000\n",
            "INFO:tensorflow:Running local_init_op.\n",
            "INFO:tensorflow:Done running local_init_op.\n",
            "INFO:tensorflow:Inference Time : 0.53688s\n",
            "INFO:tensorflow:Finished evaluation at 2022-03-26-16:50:56\n",
            "INFO:tensorflow:Saving dict for global step 10000: accuracy = 0.6626663, accuracy_baseline = 0.5065658, auc = 0.67256147, auc_precision_recall = 0.6430437, average_loss = 0.6682089, global_step = 10000, label/mean = 0.5065658, loss = 0.6680098, precision = 0.66816455, prediction/mean = 0.53713256, recall = 0.663691\n",
            "INFO:tensorflow:Saving 'checkpoint_path' summary for global step 10000: /tmp/tmpb3ci128o/model.ckpt-10000\n",
            "\n",
            "Test set accuracy: 0.663\n",
            "\n"
          ]
        }
      ]
    },
    {
      "cell_type": "code",
      "source": [
        "#create predictions list for all test set\n",
        "predictions_under = list(classifier.predict(input_fn=lambda: input_fn(test_features_under, test_label_under, training=False)))"
      ],
      "metadata": {
        "outputId": "cde3fa36-c137-4d47-9ac4-eb176fc77e85",
        "colab": {
          "base_uri": "https://localhost:8080/"
        },
        "id": "6WkvsbaDHbyJ"
      },
      "execution_count": null,
      "outputs": [
        {
          "output_type": "stream",
          "name": "stdout",
          "text": [
            "INFO:tensorflow:Calling model_fn.\n",
            "INFO:tensorflow:Done calling model_fn.\n",
            "INFO:tensorflow:Graph was finalized.\n",
            "INFO:tensorflow:Restoring parameters from /tmp/tmpb3ci128o/model.ckpt-10000\n",
            "INFO:tensorflow:Running local_init_op.\n",
            "INFO:tensorflow:Done running local_init_op.\n"
          ]
        }
      ]
    },
    {
      "cell_type": "code",
      "source": [
        "#create a dataframe of predictions for test set\n",
        "df_predictions = pd.DataFrame(predictions_under)"
      ],
      "metadata": {
        "id": "EKFusTAYHbyO"
      },
      "execution_count": null,
      "outputs": []
    },
    {
      "cell_type": "markdown",
      "source": [
        "###Plot of Results"
      ],
      "metadata": {
        "id": "bM5TCLfiHbyO"
      }
    },
    {
      "cell_type": "code",
      "source": [
        "#add the actual matches to the prediciton dataframe\n",
        "df_predictions['actual label']=test_label_under.values"
      ],
      "metadata": {
        "id": "q1KC-3h9HbyP"
      },
      "execution_count": null,
      "outputs": []
    },
    {
      "cell_type": "code",
      "source": [
        "#add the class predicitons from the DNN to the dataframe\n",
        "df_predictions['predicted label']=pd.DataFrame.from_records(df_predictions['class_ids'])"
      ],
      "metadata": {
        "id": "F2wDdrnBHbyP"
      },
      "execution_count": null,
      "outputs": []
    },
    {
      "cell_type": "code",
      "source": [
        "#add a binary column to show if the dnn predictions were correct\n",
        "df_predictions['match?']=df_predictions['predicted label']-df_predictions['actual label']\n",
        "df_predictions['match?']=df_predictions['match?'].replace(0,'match')\n",
        "df_predictions['match?']=df_predictions['match?'].replace(-1,'not match')\n",
        "df_predictions['match?']=df_predictions['match?'].replace(1,'not match')"
      ],
      "metadata": {
        "id": "20ZCeoNFHbyP"
      },
      "execution_count": null,
      "outputs": []
    },
    {
      "cell_type": "code",
      "source": [
        "#view the prdictions dataframe\n",
        "df_predictions.head()"
      ],
      "metadata": {
        "colab": {
          "base_uri": "https://localhost:8080/",
          "height": 206
        },
        "outputId": "fa45a528-350b-4fdf-8719-fcedf4ba5ce2",
        "id": "0RWUaLPRHbyQ"
      },
      "execution_count": null,
      "outputs": [
        {
          "output_type": "execute_result",
          "data": {
            "text/plain": [
              "           logits      logistic             probabilities class_ids classes  \\\n",
              "0     [0.1027479]   [0.5256644]   [0.47433558, 0.5256644]       [1]  [b'1']   \n",
              "1  [-0.024172947]  [0.49395707]  [0.50604296, 0.49395704]       [0]  [b'0']   \n",
              "2     [0.2296712]   [0.5571667]   [0.44283324, 0.5571667]       [1]  [b'1']   \n",
              "3     [0.1027479]   [0.5256644]   [0.47433558, 0.5256644]       [1]  [b'1']   \n",
              "4    [0.35659057]   [0.5882149]   [0.41178516, 0.5882148]       [1]  [b'1']   \n",
              "\n",
              "  all_class_ids   all_classes  actual label  predicted label     match?  \n",
              "0        [0, 1]  [b'0', b'1']             1                1      match  \n",
              "1        [0, 1]  [b'0', b'1']             0                0      match  \n",
              "2        [0, 1]  [b'0', b'1']             1                1      match  \n",
              "3        [0, 1]  [b'0', b'1']             1                1      match  \n",
              "4        [0, 1]  [b'0', b'1']             0                1  not match  "
            ],
            "text/html": [
              "\n",
              "  <div id=\"df-dc4ff818-c50a-4ff3-a676-de5d97ed87be\">\n",
              "    <div class=\"colab-df-container\">\n",
              "      <div>\n",
              "<style scoped>\n",
              "    .dataframe tbody tr th:only-of-type {\n",
              "        vertical-align: middle;\n",
              "    }\n",
              "\n",
              "    .dataframe tbody tr th {\n",
              "        vertical-align: top;\n",
              "    }\n",
              "\n",
              "    .dataframe thead th {\n",
              "        text-align: right;\n",
              "    }\n",
              "</style>\n",
              "<table border=\"1\" class=\"dataframe\">\n",
              "  <thead>\n",
              "    <tr style=\"text-align: right;\">\n",
              "      <th></th>\n",
              "      <th>logits</th>\n",
              "      <th>logistic</th>\n",
              "      <th>probabilities</th>\n",
              "      <th>class_ids</th>\n",
              "      <th>classes</th>\n",
              "      <th>all_class_ids</th>\n",
              "      <th>all_classes</th>\n",
              "      <th>actual label</th>\n",
              "      <th>predicted label</th>\n",
              "      <th>match?</th>\n",
              "    </tr>\n",
              "  </thead>\n",
              "  <tbody>\n",
              "    <tr>\n",
              "      <th>0</th>\n",
              "      <td>[0.1027479]</td>\n",
              "      <td>[0.5256644]</td>\n",
              "      <td>[0.47433558, 0.5256644]</td>\n",
              "      <td>[1]</td>\n",
              "      <td>[b'1']</td>\n",
              "      <td>[0, 1]</td>\n",
              "      <td>[b'0', b'1']</td>\n",
              "      <td>1</td>\n",
              "      <td>1</td>\n",
              "      <td>match</td>\n",
              "    </tr>\n",
              "    <tr>\n",
              "      <th>1</th>\n",
              "      <td>[-0.024172947]</td>\n",
              "      <td>[0.49395707]</td>\n",
              "      <td>[0.50604296, 0.49395704]</td>\n",
              "      <td>[0]</td>\n",
              "      <td>[b'0']</td>\n",
              "      <td>[0, 1]</td>\n",
              "      <td>[b'0', b'1']</td>\n",
              "      <td>0</td>\n",
              "      <td>0</td>\n",
              "      <td>match</td>\n",
              "    </tr>\n",
              "    <tr>\n",
              "      <th>2</th>\n",
              "      <td>[0.2296712]</td>\n",
              "      <td>[0.5571667]</td>\n",
              "      <td>[0.44283324, 0.5571667]</td>\n",
              "      <td>[1]</td>\n",
              "      <td>[b'1']</td>\n",
              "      <td>[0, 1]</td>\n",
              "      <td>[b'0', b'1']</td>\n",
              "      <td>1</td>\n",
              "      <td>1</td>\n",
              "      <td>match</td>\n",
              "    </tr>\n",
              "    <tr>\n",
              "      <th>3</th>\n",
              "      <td>[0.1027479]</td>\n",
              "      <td>[0.5256644]</td>\n",
              "      <td>[0.47433558, 0.5256644]</td>\n",
              "      <td>[1]</td>\n",
              "      <td>[b'1']</td>\n",
              "      <td>[0, 1]</td>\n",
              "      <td>[b'0', b'1']</td>\n",
              "      <td>1</td>\n",
              "      <td>1</td>\n",
              "      <td>match</td>\n",
              "    </tr>\n",
              "    <tr>\n",
              "      <th>4</th>\n",
              "      <td>[0.35659057]</td>\n",
              "      <td>[0.5882149]</td>\n",
              "      <td>[0.41178516, 0.5882148]</td>\n",
              "      <td>[1]</td>\n",
              "      <td>[b'1']</td>\n",
              "      <td>[0, 1]</td>\n",
              "      <td>[b'0', b'1']</td>\n",
              "      <td>0</td>\n",
              "      <td>1</td>\n",
              "      <td>not match</td>\n",
              "    </tr>\n",
              "  </tbody>\n",
              "</table>\n",
              "</div>\n",
              "      <button class=\"colab-df-convert\" onclick=\"convertToInteractive('df-dc4ff818-c50a-4ff3-a676-de5d97ed87be')\"\n",
              "              title=\"Convert this dataframe to an interactive table.\"\n",
              "              style=\"display:none;\">\n",
              "        \n",
              "  <svg xmlns=\"http://www.w3.org/2000/svg\" height=\"24px\"viewBox=\"0 0 24 24\"\n",
              "       width=\"24px\">\n",
              "    <path d=\"M0 0h24v24H0V0z\" fill=\"none\"/>\n",
              "    <path d=\"M18.56 5.44l.94 2.06.94-2.06 2.06-.94-2.06-.94-.94-2.06-.94 2.06-2.06.94zm-11 1L8.5 8.5l.94-2.06 2.06-.94-2.06-.94L8.5 2.5l-.94 2.06-2.06.94zm10 10l.94 2.06.94-2.06 2.06-.94-2.06-.94-.94-2.06-.94 2.06-2.06.94z\"/><path d=\"M17.41 7.96l-1.37-1.37c-.4-.4-.92-.59-1.43-.59-.52 0-1.04.2-1.43.59L10.3 9.45l-7.72 7.72c-.78.78-.78 2.05 0 2.83L4 21.41c.39.39.9.59 1.41.59.51 0 1.02-.2 1.41-.59l7.78-7.78 2.81-2.81c.8-.78.8-2.07 0-2.86zM5.41 20L4 18.59l7.72-7.72 1.47 1.35L5.41 20z\"/>\n",
              "  </svg>\n",
              "      </button>\n",
              "      \n",
              "  <style>\n",
              "    .colab-df-container {\n",
              "      display:flex;\n",
              "      flex-wrap:wrap;\n",
              "      gap: 12px;\n",
              "    }\n",
              "\n",
              "    .colab-df-convert {\n",
              "      background-color: #E8F0FE;\n",
              "      border: none;\n",
              "      border-radius: 50%;\n",
              "      cursor: pointer;\n",
              "      display: none;\n",
              "      fill: #1967D2;\n",
              "      height: 32px;\n",
              "      padding: 0 0 0 0;\n",
              "      width: 32px;\n",
              "    }\n",
              "\n",
              "    .colab-df-convert:hover {\n",
              "      background-color: #E2EBFA;\n",
              "      box-shadow: 0px 1px 2px rgba(60, 64, 67, 0.3), 0px 1px 3px 1px rgba(60, 64, 67, 0.15);\n",
              "      fill: #174EA6;\n",
              "    }\n",
              "\n",
              "    [theme=dark] .colab-df-convert {\n",
              "      background-color: #3B4455;\n",
              "      fill: #D2E3FC;\n",
              "    }\n",
              "\n",
              "    [theme=dark] .colab-df-convert:hover {\n",
              "      background-color: #434B5C;\n",
              "      box-shadow: 0px 1px 3px 1px rgba(0, 0, 0, 0.15);\n",
              "      filter: drop-shadow(0px 1px 2px rgba(0, 0, 0, 0.3));\n",
              "      fill: #FFFFFF;\n",
              "    }\n",
              "  </style>\n",
              "\n",
              "      <script>\n",
              "        const buttonEl =\n",
              "          document.querySelector('#df-dc4ff818-c50a-4ff3-a676-de5d97ed87be button.colab-df-convert');\n",
              "        buttonEl.style.display =\n",
              "          google.colab.kernel.accessAllowed ? 'block' : 'none';\n",
              "\n",
              "        async function convertToInteractive(key) {\n",
              "          const element = document.querySelector('#df-dc4ff818-c50a-4ff3-a676-de5d97ed87be');\n",
              "          const dataTable =\n",
              "            await google.colab.kernel.invokeFunction('convertToInteractive',\n",
              "                                                     [key], {});\n",
              "          if (!dataTable) return;\n",
              "\n",
              "          const docLinkHtml = 'Like what you see? Visit the ' +\n",
              "            '<a target=\"_blank\" href=https://colab.research.google.com/notebooks/data_table.ipynb>data table notebook</a>'\n",
              "            + ' to learn more about interactive tables.';\n",
              "          element.innerHTML = '';\n",
              "          dataTable['output_type'] = 'display_data';\n",
              "          await google.colab.output.renderOutput(dataTable, element);\n",
              "          const docLink = document.createElement('div');\n",
              "          docLink.innerHTML = docLinkHtml;\n",
              "          element.appendChild(docLink);\n",
              "        }\n",
              "      </script>\n",
              "    </div>\n",
              "  </div>\n",
              "  "
            ]
          },
          "metadata": {},
          "execution_count": 406
        }
      ]
    },
    {
      "cell_type": "code",
      "source": [
        "#create a new dataframe showing only the correct predictions\n",
        "correct_predictions = df_predictions[df_predictions['match?']=='match']\n",
        "#get the count of the correct predctions for eah label\n",
        "correct_pred_count_label_0 , correct_pred_count_label_1 = correct_predictions['predicted label'].value_counts()\n",
        "#get the actual label count for each label\n",
        "actual_count_label_0 , actual_count_label_1 = df_predictions['actual label'].value_counts()"
      ],
      "metadata": {
        "id": "O3UnEfHsHbyQ"
      },
      "execution_count": null,
      "outputs": []
    },
    {
      "cell_type": "code",
      "source": [
        "#get the accuracy of each labels predictions\n",
        "accuracy_label_0,accuracy_label_1 = correct_pred_count_label_0/actual_count_label_0 , correct_pred_count_label_1/actual_count_label_1\n",
        "accuracy=accuracy_label_0*100,accuracy_label_1*100\n",
        "accuracy=pd.Series(accuracy)\n",
        "print('Accuracy of label 0 (non-fatal): ', accuracy_label_0, '\\nAccuracy of label 1 (fatal): ', accuracy_label_1)"
      ],
      "metadata": {
        "colab": {
          "base_uri": "https://localhost:8080/"
        },
        "outputId": "e7f1bd76-940c-4746-92af-7f897971b77e",
        "id": "qQwKm1oIHbyQ"
      },
      "execution_count": null,
      "outputs": [
        {
          "output_type": "stream",
          "name": "stdout",
          "text": [
            "Accuracy of label 0 (non-fatal):  0.6636909871244635 \n",
            "Accuracy of label 1 (fatal):  0.661614381388791\n"
          ]
        }
      ]
    },
    {
      "cell_type": "code",
      "source": [
        "#plot the accuracy of each labels predictions\n",
        "fig, axes = plt.subplots(figsize=(18, 10))\n",
        "accuracy.plot(kind='barh')\n",
        "plt.yticks((0,1), ('non-Fatal accident', 'Fatal accident'))\n",
        "plt.xticks((0,10,20,30,40,50,60), ('0%', '10%','20%','30%','40%','50%','60%'))\n",
        "plt.xlabel('prectange accuracy')\n",
        "plt.title('percentage accuracy for each class/label')"
      ],
      "metadata": {
        "colab": {
          "base_uri": "https://localhost:8080/",
          "height": 639
        },
        "outputId": "94d493a9-ca37-4312-f014-0262cb45d098",
        "id": "xRT8M9UMHbyQ"
      },
      "execution_count": null,
      "outputs": [
        {
          "output_type": "execute_result",
          "data": {
            "text/plain": [
              "Text(0.5, 1.0, 'percentage accuracy for each class/label')"
            ]
          },
          "metadata": {},
          "execution_count": 409
        },
        {
          "output_type": "display_data",
          "data": {
            "text/plain": [
              "<Figure size 1296x720 with 1 Axes>"
            ],
            "image/png": "[encoded data removed]"
          },
          "metadata": {
            "needs_background": "light"
          }
        }
      ]
    },
    {
      "cell_type": "code",
      "source": [
        "#creating probabilty columns for each label\n",
        "df_predictions['prob fatal']=pd.DataFrame.from_records(df_predictions['probabilities'])[1]\n",
        "df_predictions['prob non-fatal']=pd.DataFrame.from_records(df_predictions['probabilities'])[0]"
      ],
      "metadata": {
        "id": "ZVnAZRPnHbyR"
      },
      "execution_count": null,
      "outputs": []
    },
    {
      "cell_type": "code",
      "source": [
        "#create a data frame of only the correct predictions and filter it to rows with high probabilities\n",
        "dataframe_correct_predictions = df_predictions[df_predictions['match?']=='match']\n",
        "dataframe_correct_predictions[(dataframe_correct_predictions['prob non-fatal']>.70 )| (dataframe_correct_predictions['prob fatal']>.70)]\n",
        "#counting incorrect prediciton where prob was high\n",
        "dataframe_incorrect_predictions = df_predictions[df_predictions['match?']=='not match']\n",
        "dataframe_incorrect_predictions[(dataframe_incorrect_predictions['prob non-fatal']>.70 )| (dataframe_incorrect_predictions['prob fatal']>.70)].describe()"
      ],
      "metadata": {
        "colab": {
          "base_uri": "https://localhost:8080/",
          "height": 300
        },
        "outputId": "338b1934-54cb-4c14-d63e-48fe31d8990f",
        "id": "BnCEdcohHbyR"
      },
      "execution_count": null,
      "outputs": [
        {
          "output_type": "execute_result",
          "data": {
            "text/plain": [
              "       actual label  predicted label  prob fatal  prob non-fatal\n",
              "count           0.0              0.0         0.0             0.0\n",
              "mean            NaN              NaN         NaN             NaN\n",
              "std             NaN              NaN         NaN             NaN\n",
              "min             NaN              NaN         NaN             NaN\n",
              "25%             NaN              NaN         NaN             NaN\n",
              "50%             NaN              NaN         NaN             NaN\n",
              "75%             NaN              NaN         NaN             NaN\n",
              "max             NaN              NaN         NaN             NaN"
            ],
            "text/html": [
              "\n",
              "  <div id=\"df-00564756-ffa9-4a0b-ae1b-7c68c91ba83f\">\n",
              "    <div class=\"colab-df-container\">\n",
              "      <div>\n",
              "<style scoped>\n",
              "    .dataframe tbody tr th:only-of-type {\n",
              "        vertical-align: middle;\n",
              "    }\n",
              "\n",
              "    .dataframe tbody tr th {\n",
              "        vertical-align: top;\n",
              "    }\n",
              "\n",
              "    .dataframe thead th {\n",
              "        text-align: right;\n",
              "    }\n",
              "</style>\n",
              "<table border=\"1\" class=\"dataframe\">\n",
              "  <thead>\n",
              "    <tr style=\"text-align: right;\">\n",
              "      <th></th>\n",
              "      <th>actual label</th>\n",
              "      <th>predicted label</th>\n",
              "      <th>prob fatal</th>\n",
              "      <th>prob non-fatal</th>\n",
              "    </tr>\n",
              "  </thead>\n",
              "  <tbody>\n",
              "    <tr>\n",
              "      <th>count</th>\n",
              "      <td>0.0</td>\n",
              "      <td>0.0</td>\n",
              "      <td>0.0</td>\n",
              "      <td>0.0</td>\n",
              "    </tr>\n",
              "    <tr>\n",
              "      <th>mean</th>\n",
              "      <td>NaN</td>\n",
              "      <td>NaN</td>\n",
              "      <td>NaN</td>\n",
              "      <td>NaN</td>\n",
              "    </tr>\n",
              "    <tr>\n",
              "      <th>std</th>\n",
              "      <td>NaN</td>\n",
              "      <td>NaN</td>\n",
              "      <td>NaN</td>\n",
              "      <td>NaN</td>\n",
              "    </tr>\n",
              "    <tr>\n",
              "      <th>min</th>\n",
              "      <td>NaN</td>\n",
              "      <td>NaN</td>\n",
              "      <td>NaN</td>\n",
              "      <td>NaN</td>\n",
              "    </tr>\n",
              "    <tr>\n",
              "      <th>25%</th>\n",
              "      <td>NaN</td>\n",
              "      <td>NaN</td>\n",
              "      <td>NaN</td>\n",
              "      <td>NaN</td>\n",
              "    </tr>\n",
              "    <tr>\n",
              "      <th>50%</th>\n",
              "      <td>NaN</td>\n",
              "      <td>NaN</td>\n",
              "      <td>NaN</td>\n",
              "      <td>NaN</td>\n",
              "    </tr>\n",
              "    <tr>\n",
              "      <th>75%</th>\n",
              "      <td>NaN</td>\n",
              "      <td>NaN</td>\n",
              "      <td>NaN</td>\n",
              "      <td>NaN</td>\n",
              "    </tr>\n",
              "    <tr>\n",
              "      <th>max</th>\n",
              "      <td>NaN</td>\n",
              "      <td>NaN</td>\n",
              "      <td>NaN</td>\n",
              "      <td>NaN</td>\n",
              "    </tr>\n",
              "  </tbody>\n",
              "</table>\n",
              "</div>\n",
              "      <button class=\"colab-df-convert\" onclick=\"convertToInteractive('df-00564756-ffa9-4a0b-ae1b-7c68c91ba83f')\"\n",
              "              title=\"Convert this dataframe to an interactive table.\"\n",
              "              style=\"display:none;\">\n",
              "        \n",
              "  <svg xmlns=\"http://www.w3.org/2000/svg\" height=\"24px\"viewBox=\"0 0 24 24\"\n",
              "       width=\"24px\">\n",
              "    <path d=\"M0 0h24v24H0V0z\" fill=\"none\"/>\n",
              "    <path d=\"M18.56 5.44l.94 2.06.94-2.06 2.06-.94-2.06-.94-.94-2.06-.94 2.06-2.06.94zm-11 1L8.5 8.5l.94-2.06 2.06-.94-2.06-.94L8.5 2.5l-.94 2.06-2.06.94zm10 10l.94 2.06.94-2.06 2.06-.94-2.06-.94-.94-2.06-.94 2.06-2.06.94z\"/><path d=\"M17.41 7.96l-1.37-1.37c-.4-.4-.92-.59-1.43-.59-.52 0-1.04.2-1.43.59L10.3 9.45l-7.72 7.72c-.78.78-.78 2.05 0 2.83L4 21.41c.39.39.9.59 1.41.59.51 0 1.02-.2 1.41-.59l7.78-7.78 2.81-2.81c.8-.78.8-2.07 0-2.86zM5.41 20L4 18.59l7.72-7.72 1.47 1.35L5.41 20z\"/>\n",
              "  </svg>\n",
              "      </button>\n",
              "      \n",
              "  <style>\n",
              "    .colab-df-container {\n",
              "      display:flex;\n",
              "      flex-wrap:wrap;\n",
              "      gap: 12px;\n",
              "    }\n",
              "\n",
              "    .colab-df-convert {\n",
              "      background-color: #E8F0FE;\n",
              "      border: none;\n",
              "      border-radius: 50%;\n",
              "      cursor: pointer;\n",
              "      display: none;\n",
              "      fill: #1967D2;\n",
              "      height: 32px;\n",
              "      padding: 0 0 0 0;\n",
              "      width: 32px;\n",
              "    }\n",
              "\n",
              "    .colab-df-convert:hover {\n",
              "      background-color: #E2EBFA;\n",
              "      box-shadow: 0px 1px 2px rgba(60, 64, 67, 0.3), 0px 1px 3px 1px rgba(60, 64, 67, 0.15);\n",
              "      fill: #174EA6;\n",
              "    }\n",
              "\n",
              "    [theme=dark] .colab-df-convert {\n",
              "      background-color: #3B4455;\n",
              "      fill: #D2E3FC;\n",
              "    }\n",
              "\n",
              "    [theme=dark] .colab-df-convert:hover {\n",
              "      background-color: #434B5C;\n",
              "      box-shadow: 0px 1px 3px 1px rgba(0, 0, 0, 0.15);\n",
              "      filter: drop-shadow(0px 1px 2px rgba(0, 0, 0, 0.3));\n",
              "      fill: #FFFFFF;\n",
              "    }\n",
              "  </style>\n",
              "\n",
              "      <script>\n",
              "        const buttonEl =\n",
              "          document.querySelector('#df-00564756-ffa9-4a0b-ae1b-7c68c91ba83f button.colab-df-convert');\n",
              "        buttonEl.style.display =\n",
              "          google.colab.kernel.accessAllowed ? 'block' : 'none';\n",
              "\n",
              "        async function convertToInteractive(key) {\n",
              "          const element = document.querySelector('#df-00564756-ffa9-4a0b-ae1b-7c68c91ba83f');\n",
              "          const dataTable =\n",
              "            await google.colab.kernel.invokeFunction('convertToInteractive',\n",
              "                                                     [key], {});\n",
              "          if (!dataTable) return;\n",
              "\n",
              "          const docLinkHtml = 'Like what you see? Visit the ' +\n",
              "            '<a target=\"_blank\" href=https://colab.research.google.com/notebooks/data_table.ipynb>data table notebook</a>'\n",
              "            + ' to learn more about interactive tables.';\n",
              "          element.innerHTML = '';\n",
              "          dataTable['output_type'] = 'display_data';\n",
              "          await google.colab.output.renderOutput(dataTable, element);\n",
              "          const docLink = document.createElement('div');\n",
              "          docLink.innerHTML = docLinkHtml;\n",
              "          element.appendChild(docLink);\n",
              "        }\n",
              "      </script>\n",
              "    </div>\n",
              "  </div>\n",
              "  "
            ]
          },
          "metadata": {},
          "execution_count": 411
        }
      ]
    },
    {
      "cell_type": "markdown",
      "source": [
        ""
      ],
      "metadata": {
        "id": "EEIIU2VYJbls"
      }
    },
    {
      "cell_type": "markdown",
      "source": [
        ""
      ],
      "metadata": {
        "id": "b8yrNhJ3JfVA"
      }
    },
    {
      "cell_type": "markdown",
      "source": [
        "#Iteration 7 - 'Speed_limit', 'district'"
      ],
      "metadata": {
        "id": "9Hn6odfsJfgs"
      }
    },
    {
      "cell_type": "markdown",
      "source": [
        "##Features"
      ],
      "metadata": {
        "id": "G9SinMkZJfgt"
      }
    },
    {
      "cell_type": "markdown",
      "source": [
        "###Seleceting Features, checking correlation between them, cleaning missing data"
      ],
      "metadata": {
        "id": "3msLMORXJfgu"
      }
    },
    {
      "cell_type": "code",
      "source": [
        "df_features = df[['Speed_limit', 'Local_Authority_(District)','Accident_Severity']]\n",
        "df_features = df_features.rename(columns={'Local_Authority_(District)':'district'})"
      ],
      "metadata": {
        "id": "2kw6ecx8Jfgu"
      },
      "execution_count": null,
      "outputs": []
    },
    {
      "cell_type": "code",
      "source": [
        "#checking correlation between features\n",
        "df_features.corr()\n",
        "sns.heatmap(df_features.corr())"
      ],
      "metadata": {
        "colab": {
          "base_uri": "https://localhost:8080/",
          "height": 288
        },
        "outputId": "3a3bfc10-b963-4235-f7c3-9e590b18bad8",
        "id": "nl3fLZ5YJfgv"
      },
      "execution_count": null,
      "outputs": [
        {
          "output_type": "execute_result",
          "data": {
            "text/plain": [
              "<matplotlib.axes._subplots.AxesSubplot at 0x7f2208689a50>"
            ]
          },
          "metadata": {},
          "execution_count": 570
        },
        {
          "output_type": "display_data",
          "data": {
            "text/plain": [
              "<Figure size 432x288 with 2 Axes>"
            ],
            "image/png": "[encoded data removed]"
          },
          "metadata": {
            "needs_background": "light"
          }
        }
      ]
    },
    {
      "cell_type": "code",
      "source": [
        "#checking which values have missing data, note missing data is recorded as -1\n",
        "df_features.min()"
      ],
      "metadata": {
        "colab": {
          "base_uri": "https://localhost:8080/"
        },
        "outputId": "b42b74b5-c973-413e-9ac9-f8a977dd7f2d",
        "id": "hThH9xffJfgw"
      },
      "execution_count": null,
      "outputs": [
        {
          "output_type": "execute_result",
          "data": {
            "text/plain": [
              "Speed_limit          0\n",
              "district             1\n",
              "Accident_Severity    1\n",
              "dtype: int64"
            ]
          },
          "metadata": {},
          "execution_count": 571
        }
      ]
    },
    {
      "cell_type": "code",
      "source": [
        "#there are 161 accident that do not have recorded weather conditions, will drop these\n",
        "#df_features['Weather_Conditions'][df_features['Weather_Conditions']==-1].count()"
      ],
      "metadata": {
        "id": "sKB7BwpRJfgx"
      },
      "execution_count": null,
      "outputs": []
    },
    {
      "cell_type": "code",
      "source": [
        "#removing all rows with (missing) data\n",
        "#df_features = df_features[df_features['Weather_Conditions']!=-1]\n",
        "df_features = df_features[df_features['Speed_limit']!=0]"
      ],
      "metadata": {
        "id": "lc2io0V4Jfgx"
      },
      "execution_count": null,
      "outputs": []
    },
    {
      "cell_type": "markdown",
      "source": [
        "df_features.count()"
      ],
      "metadata": {
        "id": "p5wmVKINJfgy"
      }
    },
    {
      "cell_type": "markdown",
      "source": [
        "### Cleaning Label (accident severity) so that there are 2 classes instead of 3"
      ],
      "metadata": {
        "id": "gdsUo3M2Jfgy"
      }
    },
    {
      "cell_type": "code",
      "source": [
        "#check count for each level of accident deverity\n",
        "df_features['Accident_Severity'].value_counts()"
      ],
      "metadata": {
        "colab": {
          "base_uri": "https://localhost:8080/"
        },
        "outputId": "677e3cc9-129b-4077-d4ec-bd59fbc864be",
        "id": "d0hy2hbaJfg0"
      },
      "execution_count": null,
      "outputs": [
        {
          "output_type": "execute_result",
          "data": {
            "text/plain": [
              "3    1515574\n",
              "2     242080\n",
              "1      22998\n",
              "Name: Accident_Severity, dtype: int64"
            ]
          },
          "metadata": {},
          "execution_count": 574
        }
      ]
    },
    {
      "cell_type": "code",
      "source": [
        "#replace all accident severities where severiry is 2 or 3 and group them into 1 bucket (non-fatal)\n",
        "df_features['Accident_Severity'] = df_features['Accident_Severity'].replace(2,0)\n",
        "df_features['Accident_Severity'] = df_features['Accident_Severity'].replace(3,0)"
      ],
      "metadata": {
        "id": "nkcfxpqgJfg0"
      },
      "execution_count": null,
      "outputs": []
    },
    {
      "cell_type": "code",
      "source": [
        "#create 2 dataframe, 1 for each class, and print the size each\n",
        "class_1 = df_features[df_features['Accident_Severity'] == 1]\n",
        "class_0 = df_features[df_features['Accident_Severity'] == 0]\n",
        "print('class 1 (fatal):', len(class_1))\n",
        "print('class 0 (non-fatal):', len(class_0))"
      ],
      "metadata": {
        "colab": {
          "base_uri": "https://localhost:8080/"
        },
        "outputId": "51d59047-d89c-4eac-e79d-d6746eb15632",
        "id": "xF8wfaYIJfg1"
      },
      "execution_count": null,
      "outputs": [
        {
          "output_type": "stream",
          "name": "stdout",
          "text": [
            "class 1 (fatal): 22998\n",
            "class 0 (non-fatal): 1757654\n"
          ]
        }
      ]
    },
    {
      "cell_type": "markdown",
      "source": [
        "###Accounting for imbalance in the dataset by undersampling"
      ],
      "metadata": {
        "id": "0KjDMUlnJfg1"
      }
    },
    {
      "cell_type": "code",
      "source": [
        "#get the length of the dataset for each class/label\n",
        "class_count_0, class_count_1 = df_features['Accident_Severity'].value_counts()"
      ],
      "metadata": {
        "id": "5rvrhxTwJfg1"
      },
      "execution_count": null,
      "outputs": []
    },
    {
      "cell_type": "code",
      "source": [
        "#undersampling of class 0 to balance the count of data for each class/label\n",
        "class_0_under = class_0.sample(class_count_1)\n",
        "df_features_under = pd.concat([class_0_under, class_1], axis=0)"
      ],
      "metadata": {
        "id": "fOokHOCsJfg2"
      },
      "execution_count": null,
      "outputs": []
    },
    {
      "cell_type": "code",
      "source": [
        "#print the size of the new dataset for each class/label after undersampling\n",
        "class_1 = df_features_under[df_features_under['Accident_Severity'] == 1]\n",
        "class_0 = df_features_under[df_features_under['Accident_Severity'] == 0]\n",
        "print('class 1 (fatal):', len(class_1))\n",
        "print('class 0 (non-fatal):', len(class_0))"
      ],
      "metadata": {
        "colab": {
          "base_uri": "https://localhost:8080/"
        },
        "outputId": "99ad90cc-b674-44a1-cfc7-22dfa06be0f0",
        "id": "d9pYHTNWJfg2"
      },
      "execution_count": null,
      "outputs": [
        {
          "output_type": "stream",
          "name": "stdout",
          "text": [
            "class 1 (fatal): 22998\n",
            "class 0 (non-fatal): 22998\n"
          ]
        }
      ]
    },
    {
      "cell_type": "markdown",
      "source": [
        "###splitting the dataset in training and test datasets"
      ],
      "metadata": {
        "id": "IdYCbYR8Jfg2"
      }
    },
    {
      "cell_type": "code",
      "source": [
        "#splitting the dataset into training and test sets\n",
        "train_features_under, test_features_under = train_test_split(df_features_under, test_size=0.25)"
      ],
      "metadata": {
        "id": "uoB-zHskJfg3"
      },
      "execution_count": null,
      "outputs": []
    },
    {
      "cell_type": "code",
      "source": [
        "#pop out the label column from the train and test undersampled datasets\n",
        "train_label_under = train_features_under.pop('Accident_Severity')\n",
        "test_label_under = test_features_under.pop('Accident_Severity')"
      ],
      "metadata": {
        "id": "oI0O9P-YJfg3"
      },
      "execution_count": null,
      "outputs": []
    },
    {
      "cell_type": "markdown",
      "source": [
        "## DNN Classifier"
      ],
      "metadata": {
        "id": "_ycFHlDOJfg4"
      }
    },
    {
      "cell_type": "markdown",
      "source": [
        "###defining input function, creating classifier, training classifer"
      ],
      "metadata": {
        "id": "adEZpVNHJfg4"
      }
    },
    {
      "cell_type": "code",
      "source": [
        "def input_fn(features, labels, training=True, batch_size=344):\n",
        "    # Convert the inputs to a Dataset.\n",
        "    dataset = tf.data.Dataset.from_tensor_slices((dict(features), labels))\n",
        "    # Shuffle and repeat if you are in training mode.\n",
        "    if training:\n",
        "        dataset = dataset.shuffle(1000).repeat()\n",
        "    return dataset.batch(batch_size)"
      ],
      "metadata": {
        "id": "0YIa2nVuJfg4"
      },
      "execution_count": null,
      "outputs": []
    },
    {
      "cell_type": "code",
      "source": [
        "# creating a tensorflow Feature column list\n",
        "my_feature_columns = []\n",
        "for key in train_features_under.keys():\n",
        "    my_feature_columns.append(tf.feature_column.numeric_column(key=key))\n",
        "my_feature_columns"
      ],
      "metadata": {
        "colab": {
          "base_uri": "https://localhost:8080/"
        },
        "outputId": "5d516a64-2709-4c02-9082-8f5e062f9a1e",
        "id": "lZJADMIzJfg5"
      },
      "execution_count": null,
      "outputs": [
        {
          "output_type": "execute_result",
          "data": {
            "text/plain": [
              "[NumericColumn(key='Speed_limit', shape=(1,), default_value=None, dtype=tf.float32, normalizer_fn=None),\n",
              " NumericColumn(key='district', shape=(1,), default_value=None, dtype=tf.float32, normalizer_fn=None)]"
            ]
          },
          "metadata": {},
          "execution_count": 583
        }
      ]
    },
    {
      "cell_type": "code",
      "source": [
        "# Build a DNN with 2 hidden layers with 30 and 10 hidden nodes each.\n",
        "classifier = tf.estimator.DNNClassifier(\n",
        "    feature_columns=my_feature_columns,\n",
        "    # Two hidden layers of 30 and 10 nodes respectively.\n",
        "    hidden_units=[30, 10],\n",
        "    # The model must choose between 2 classes.\n",
        "    n_classes=2)"
      ],
      "metadata": {
        "colab": {
          "base_uri": "https://localhost:8080/"
        },
        "outputId": "bed6c1ef-fb09-4a65-b44d-a7bf5598046c",
        "id": "_uJipr6VJfg5"
      },
      "execution_count": null,
      "outputs": [
        {
          "output_type": "stream",
          "name": "stdout",
          "text": [
            "INFO:tensorflow:Using default config.\n",
            "WARNING:tensorflow:Using temporary folder as model directory: /tmp/tmp25z9i_ud\n",
            "INFO:tensorflow:Using config: {'_model_dir': '/tmp/tmp25z9i_ud', '_tf_random_seed': None, '_save_summary_steps': 100, '_save_checkpoints_steps': None, '_save_checkpoints_secs': 600, '_session_config': allow_soft_placement: true\n",
            "graph_options {\n",
            "  rewrite_options {\n",
            "    meta_optimizer_iterations: ONE\n",
            "  }\n",
            "}\n",
            ", '_keep_checkpoint_max': 5, '_keep_checkpoint_every_n_hours': 10000, '_log_step_count_steps': 100, '_train_distribute': None, '_device_fn': None, '_protocol': None, '_eval_distribute': None, '_experimental_distribute': None, '_experimental_max_worker_delay_secs': None, '_session_creation_timeout_secs': 7200, '_checkpoint_save_graph_def': True, '_service': None, '_cluster_spec': ClusterSpec({}), '_task_type': 'worker', '_task_id': 0, '_global_id_in_cluster': 0, '_master': '', '_evaluation_master': '', '_is_chief': True, '_num_ps_replicas': 0, '_num_worker_replicas': 1}\n"
          ]
        }
      ]
    },
    {
      "cell_type": "code",
      "source": [
        "classifier.train(input_fn=lambda: input_fn(train_features_under, train_label_under, training=True),steps=2000)\n",
        "# We include a lambda to avoid creating an inner function "
      ],
      "metadata": {
        "colab": {
          "base_uri": "https://localhost:8080/"
        },
        "outputId": "ac1dafe9-b0a5-4d8e-93cd-a1d70574487a",
        "id": "Nfkza_FgJfg5"
      },
      "execution_count": null,
      "outputs": [
        {
          "output_type": "stream",
          "name": "stdout",
          "text": [
            "INFO:tensorflow:Calling model_fn.\n",
            "INFO:tensorflow:Done calling model_fn.\n",
            "INFO:tensorflow:Create CheckpointSaverHook.\n",
            "INFO:tensorflow:Graph was finalized.\n",
            "INFO:tensorflow:Running local_init_op.\n",
            "INFO:tensorflow:Done running local_init_op.\n",
            "INFO:tensorflow:Calling checkpoint listeners before saving checkpoint 0...\n",
            "INFO:tensorflow:Saving checkpoints for 0 into /tmp/tmp25z9i_ud/model.ckpt.\n",
            "INFO:tensorflow:Calling checkpoint listeners after saving checkpoint 0...\n",
            "INFO:tensorflow:loss = 3.8365319, step = 0\n",
            "INFO:tensorflow:global_step/sec: 406.495\n",
            "INFO:tensorflow:loss = 0.66069525, step = 100 (0.250 sec)\n",
            "INFO:tensorflow:global_step/sec: 523.466\n",
            "INFO:tensorflow:loss = 0.66006166, step = 200 (0.192 sec)\n",
            "INFO:tensorflow:global_step/sec: 536.433\n",
            "INFO:tensorflow:loss = 0.6899964, step = 300 (0.185 sec)\n",
            "WARNING:tensorflow:It seems that global step (tf.train.get_global_step) has not been increased. Current value (could be stable): 375 vs previous value: 375. You could increase the global step by passing tf.train.get_global_step() to Optimizer.apply_gradients or Optimizer.minimize.\n",
            "INFO:tensorflow:global_step/sec: 496.934\n",
            "INFO:tensorflow:loss = 0.6934933, step = 400 (0.202 sec)\n",
            "INFO:tensorflow:global_step/sec: 527.723\n",
            "INFO:tensorflow:loss = 0.70491016, step = 500 (0.189 sec)\n",
            "INFO:tensorflow:global_step/sec: 515.452\n",
            "INFO:tensorflow:loss = 0.6931292, step = 600 (0.195 sec)\n",
            "INFO:tensorflow:global_step/sec: 502.191\n",
            "INFO:tensorflow:loss = 0.69378126, step = 700 (0.196 sec)\n",
            "INFO:tensorflow:global_step/sec: 539.9\n",
            "INFO:tensorflow:loss = 0.6721892, step = 800 (0.188 sec)\n",
            "INFO:tensorflow:global_step/sec: 537.767\n",
            "INFO:tensorflow:loss = 0.6748437, step = 900 (0.186 sec)\n",
            "INFO:tensorflow:global_step/sec: 504.156\n",
            "INFO:tensorflow:loss = 0.6931606, step = 1000 (0.198 sec)\n",
            "INFO:tensorflow:global_step/sec: 536.596\n",
            "INFO:tensorflow:loss = 0.67118084, step = 1100 (0.184 sec)\n",
            "INFO:tensorflow:global_step/sec: 533.69\n",
            "INFO:tensorflow:loss = 0.6848127, step = 1200 (0.189 sec)\n",
            "INFO:tensorflow:global_step/sec: 534.002\n",
            "INFO:tensorflow:loss = 0.6818205, step = 1300 (0.188 sec)\n",
            "INFO:tensorflow:global_step/sec: 533.404\n",
            "INFO:tensorflow:loss = 0.66569006, step = 1400 (0.192 sec)\n",
            "INFO:tensorflow:global_step/sec: 526.612\n",
            "INFO:tensorflow:loss = 0.6763042, step = 1500 (0.182 sec)\n",
            "INFO:tensorflow:global_step/sec: 490.063\n",
            "INFO:tensorflow:loss = 0.67542833, step = 1600 (0.205 sec)\n",
            "INFO:tensorflow:global_step/sec: 532.217\n",
            "INFO:tensorflow:loss = 0.6929932, step = 1700 (0.190 sec)\n",
            "INFO:tensorflow:global_step/sec: 536.863\n",
            "INFO:tensorflow:loss = 0.6706422, step = 1800 (0.187 sec)\n",
            "INFO:tensorflow:global_step/sec: 514.425\n",
            "INFO:tensorflow:loss = 0.66464067, step = 1900 (0.193 sec)\n",
            "INFO:tensorflow:Calling checkpoint listeners before saving checkpoint 2000...\n",
            "INFO:tensorflow:Saving checkpoints for 2000 into /tmp/tmp25z9i_ud/model.ckpt.\n",
            "INFO:tensorflow:Calling checkpoint listeners after saving checkpoint 2000...\n",
            "INFO:tensorflow:Loss for final step: 0.6804152.\n"
          ]
        },
        {
          "output_type": "execute_result",
          "data": {
            "text/plain": [
              "<tensorflow_estimator.python.estimator.canned.dnn.DNNClassifierV2 at 0x7f2209e1d410>"
            ]
          },
          "metadata": {},
          "execution_count": 585
        }
      ]
    },
    {
      "cell_type": "markdown",
      "source": [
        "###Evaluating Classifier"
      ],
      "metadata": {
        "id": "is9SxqGVJfg6"
      }
    },
    {
      "cell_type": "code",
      "source": [
        "#determine the accurracy of th classifier\n",
        "eval_result = classifier.evaluate(\n",
        "    input_fn=lambda: input_fn(test_features_under, test_label_under, training=False))\n",
        "print('\\nTest set accuracy: {accuracy:0.3f}\\n'.format(**eval_result))"
      ],
      "metadata": {
        "colab": {
          "base_uri": "https://localhost:8080/"
        },
        "outputId": "de36cb0d-085e-4402-eccf-39e9e593b6a8",
        "id": "azwZyiviJfg6"
      },
      "execution_count": null,
      "outputs": [
        {
          "output_type": "stream",
          "name": "stdout",
          "text": [
            "INFO:tensorflow:Calling model_fn.\n",
            "INFO:tensorflow:Done calling model_fn.\n",
            "INFO:tensorflow:Starting evaluation at 2022-03-26T16:57:51\n",
            "INFO:tensorflow:Graph was finalized.\n",
            "INFO:tensorflow:Restoring parameters from /tmp/tmp25z9i_ud/model.ckpt-2000\n",
            "INFO:tensorflow:Running local_init_op.\n",
            "INFO:tensorflow:Done running local_init_op.\n",
            "INFO:tensorflow:Inference Time : 0.49457s\n",
            "INFO:tensorflow:Finished evaluation at 2022-03-26-16:57:52\n",
            "INFO:tensorflow:Saving dict for global step 2000: accuracy = 0.59474736, accuracy_baseline = 0.5001305, auc = 0.65455943, auc_precision_recall = 0.62742674, average_loss = 0.6670738, global_step = 2000, label/mean = 0.5001305, loss = 0.6669917, precision = 0.5669243, prediction/mean = 0.5293427, recall = 0.80351245\n",
            "INFO:tensorflow:Saving 'checkpoint_path' summary for global step 2000: /tmp/tmp25z9i_ud/model.ckpt-2000\n",
            "\n",
            "Test set accuracy: 0.595\n",
            "\n"
          ]
        }
      ]
    },
    {
      "cell_type": "code",
      "source": [
        "#create predictions list for all test set\n",
        "predictions_under = list(classifier.predict(input_fn=lambda: input_fn(test_features_under, test_label_under, training=False)))"
      ],
      "metadata": {
        "outputId": "35e46fcf-d2ec-4a38-d3fc-f0091aadea8e",
        "colab": {
          "base_uri": "https://localhost:8080/"
        },
        "id": "bh0JKyDaJfg6"
      },
      "execution_count": null,
      "outputs": [
        {
          "output_type": "stream",
          "name": "stdout",
          "text": [
            "INFO:tensorflow:Calling model_fn.\n",
            "INFO:tensorflow:Done calling model_fn.\n",
            "INFO:tensorflow:Graph was finalized.\n",
            "INFO:tensorflow:Restoring parameters from /tmp/tmp25z9i_ud/model.ckpt-2000\n",
            "INFO:tensorflow:Running local_init_op.\n",
            "INFO:tensorflow:Done running local_init_op.\n"
          ]
        }
      ]
    },
    {
      "cell_type": "code",
      "source": [
        "#create a dataframe of predictions for test set\n",
        "df_predictions = pd.DataFrame(predictions_under)"
      ],
      "metadata": {
        "id": "FEzMhA72Jfg7"
      },
      "execution_count": null,
      "outputs": []
    },
    {
      "cell_type": "markdown",
      "source": [
        "###Plot of Results"
      ],
      "metadata": {
        "id": "ycj8kR_5Jfg7"
      }
    },
    {
      "cell_type": "code",
      "source": [
        "#add the actual matches to the prediciton dataframe\n",
        "df_predictions['actual label']=test_label_under.values"
      ],
      "metadata": {
        "id": "3L8OxMJEJfg7"
      },
      "execution_count": null,
      "outputs": []
    },
    {
      "cell_type": "code",
      "source": [
        "#add the class predicitons from the DNN to the dataframe\n",
        "df_predictions['predicted label']=pd.DataFrame.from_records(df_predictions['class_ids'])"
      ],
      "metadata": {
        "id": "AITPK55IJfg8"
      },
      "execution_count": null,
      "outputs": []
    },
    {
      "cell_type": "code",
      "source": [
        "#add a binary column to show if the dnn predictions were correct\n",
        "df_predictions['match?']=df_predictions['predicted label']-df_predictions['actual label']\n",
        "df_predictions['match?']=df_predictions['match?'].replace(0,'match')\n",
        "df_predictions['match?']=df_predictions['match?'].replace(-1,'not match')\n",
        "df_predictions['match?']=df_predictions['match?'].replace(1,'not match')"
      ],
      "metadata": {
        "id": "z5sRqhnHJfg8"
      },
      "execution_count": null,
      "outputs": []
    },
    {
      "cell_type": "code",
      "source": [
        "#view the prdictions dataframe\n",
        "df_predictions.head()"
      ],
      "metadata": {
        "colab": {
          "base_uri": "https://localhost:8080/",
          "height": 206
        },
        "outputId": "00d1293f-6248-493a-baf3-c22a293542c3",
        "id": "TGY4w3kAJfg8"
      },
      "execution_count": null,
      "outputs": [
        {
          "output_type": "execute_result",
          "data": {
            "text/plain": [
              "         logits      logistic             probabilities class_ids classes  \\\n",
              "0   [0.4801847]   [0.6177915]   [0.38220853, 0.6177915]       [1]  [b'1']   \n",
              "1  [0.40348163]  [0.59952384]  [0.40047613, 0.59952384]       [1]  [b'1']   \n",
              "2   [0.6813613]   [0.6640425]   [0.33595756, 0.6640425]       [1]  [b'1']   \n",
              "3   [0.5923518]  [0.64390457]   [0.3560954, 0.64390457]       [1]  [b'1']   \n",
              "4  [0.15346965]   [0.5382923]    [0.4617077, 0.5382923]       [1]  [b'1']   \n",
              "\n",
              "  all_class_ids   all_classes  actual label  predicted label     match?  \n",
              "0        [0, 1]  [b'0', b'1']             0                1  not match  \n",
              "1        [0, 1]  [b'0', b'1']             1                1      match  \n",
              "2        [0, 1]  [b'0', b'1']             1                1      match  \n",
              "3        [0, 1]  [b'0', b'1']             0                1  not match  \n",
              "4        [0, 1]  [b'0', b'1']             0                1  not match  "
            ],
            "text/html": [
              "\n",
              "  <div id=\"df-72a0be38-2702-48de-bb21-cf2e49239ecd\">\n",
              "    <div class=\"colab-df-container\">\n",
              "      <div>\n",
              "<style scoped>\n",
              "    .dataframe tbody tr th:only-of-type {\n",
              "        vertical-align: middle;\n",
              "    }\n",
              "\n",
              "    .dataframe tbody tr th {\n",
              "        vertical-align: top;\n",
              "    }\n",
              "\n",
              "    .dataframe thead th {\n",
              "        text-align: right;\n",
              "    }\n",
              "</style>\n",
              "<table border=\"1\" class=\"dataframe\">\n",
              "  <thead>\n",
              "    <tr style=\"text-align: right;\">\n",
              "      <th></th>\n",
              "      <th>logits</th>\n",
              "      <th>logistic</th>\n",
              "      <th>probabilities</th>\n",
              "      <th>class_ids</th>\n",
              "      <th>classes</th>\n",
              "      <th>all_class_ids</th>\n",
              "      <th>all_classes</th>\n",
              "      <th>actual label</th>\n",
              "      <th>predicted label</th>\n",
              "      <th>match?</th>\n",
              "    </tr>\n",
              "  </thead>\n",
              "  <tbody>\n",
              "    <tr>\n",
              "      <th>0</th>\n",
              "      <td>[0.4801847]</td>\n",
              "      <td>[0.6177915]</td>\n",
              "      <td>[0.38220853, 0.6177915]</td>\n",
              "      <td>[1]</td>\n",
              "      <td>[b'1']</td>\n",
              "      <td>[0, 1]</td>\n",
              "      <td>[b'0', b'1']</td>\n",
              "      <td>0</td>\n",
              "      <td>1</td>\n",
              "      <td>not match</td>\n",
              "    </tr>\n",
              "    <tr>\n",
              "      <th>1</th>\n",
              "      <td>[0.40348163]</td>\n",
              "      <td>[0.59952384]</td>\n",
              "      <td>[0.40047613, 0.59952384]</td>\n",
              "      <td>[1]</td>\n",
              "      <td>[b'1']</td>\n",
              "      <td>[0, 1]</td>\n",
              "      <td>[b'0', b'1']</td>\n",
              "      <td>1</td>\n",
              "      <td>1</td>\n",
              "      <td>match</td>\n",
              "    </tr>\n",
              "    <tr>\n",
              "      <th>2</th>\n",
              "      <td>[0.6813613]</td>\n",
              "      <td>[0.6640425]</td>\n",
              "      <td>[0.33595756, 0.6640425]</td>\n",
              "      <td>[1]</td>\n",
              "      <td>[b'1']</td>\n",
              "      <td>[0, 1]</td>\n",
              "      <td>[b'0', b'1']</td>\n",
              "      <td>1</td>\n",
              "      <td>1</td>\n",
              "      <td>match</td>\n",
              "    </tr>\n",
              "    <tr>\n",
              "      <th>3</th>\n",
              "      <td>[0.5923518]</td>\n",
              "      <td>[0.64390457]</td>\n",
              "      <td>[0.3560954, 0.64390457]</td>\n",
              "      <td>[1]</td>\n",
              "      <td>[b'1']</td>\n",
              "      <td>[0, 1]</td>\n",
              "      <td>[b'0', b'1']</td>\n",
              "      <td>0</td>\n",
              "      <td>1</td>\n",
              "      <td>not match</td>\n",
              "    </tr>\n",
              "    <tr>\n",
              "      <th>4</th>\n",
              "      <td>[0.15346965]</td>\n",
              "      <td>[0.5382923]</td>\n",
              "      <td>[0.4617077, 0.5382923]</td>\n",
              "      <td>[1]</td>\n",
              "      <td>[b'1']</td>\n",
              "      <td>[0, 1]</td>\n",
              "      <td>[b'0', b'1']</td>\n",
              "      <td>0</td>\n",
              "      <td>1</td>\n",
              "      <td>not match</td>\n",
              "    </tr>\n",
              "  </tbody>\n",
              "</table>\n",
              "</div>\n",
              "      <button class=\"colab-df-convert\" onclick=\"convertToInteractive('df-72a0be38-2702-48de-bb21-cf2e49239ecd')\"\n",
              "              title=\"Convert this dataframe to an interactive table.\"\n",
              "              style=\"display:none;\">\n",
              "        \n",
              "  <svg xmlns=\"http://www.w3.org/2000/svg\" height=\"24px\"viewBox=\"0 0 24 24\"\n",
              "       width=\"24px\">\n",
              "    <path d=\"M0 0h24v24H0V0z\" fill=\"none\"/>\n",
              "    <path d=\"M18.56 5.44l.94 2.06.94-2.06 2.06-.94-2.06-.94-.94-2.06-.94 2.06-2.06.94zm-11 1L8.5 8.5l.94-2.06 2.06-.94-2.06-.94L8.5 2.5l-.94 2.06-2.06.94zm10 10l.94 2.06.94-2.06 2.06-.94-2.06-.94-.94-2.06-.94 2.06-2.06.94z\"/><path d=\"M17.41 7.96l-1.37-1.37c-.4-.4-.92-.59-1.43-.59-.52 0-1.04.2-1.43.59L10.3 9.45l-7.72 7.72c-.78.78-.78 2.05 0 2.83L4 21.41c.39.39.9.59 1.41.59.51 0 1.02-.2 1.41-.59l7.78-7.78 2.81-2.81c.8-.78.8-2.07 0-2.86zM5.41 20L4 18.59l7.72-7.72 1.47 1.35L5.41 20z\"/>\n",
              "  </svg>\n",
              "      </button>\n",
              "      \n",
              "  <style>\n",
              "    .colab-df-container {\n",
              "      display:flex;\n",
              "      flex-wrap:wrap;\n",
              "      gap: 12px;\n",
              "    }\n",
              "\n",
              "    .colab-df-convert {\n",
              "      background-color: #E8F0FE;\n",
              "      border: none;\n",
              "      border-radius: 50%;\n",
              "      cursor: pointer;\n",
              "      display: none;\n",
              "      fill: #1967D2;\n",
              "      height: 32px;\n",
              "      padding: 0 0 0 0;\n",
              "      width: 32px;\n",
              "    }\n",
              "\n",
              "    .colab-df-convert:hover {\n",
              "      background-color: #E2EBFA;\n",
              "      box-shadow: 0px 1px 2px rgba(60, 64, 67, 0.3), 0px 1px 3px 1px rgba(60, 64, 67, 0.15);\n",
              "      fill: #174EA6;\n",
              "    }\n",
              "\n",
              "    [theme=dark] .colab-df-convert {\n",
              "      background-color: #3B4455;\n",
              "      fill: #D2E3FC;\n",
              "    }\n",
              "\n",
              "    [theme=dark] .colab-df-convert:hover {\n",
              "      background-color: #434B5C;\n",
              "      box-shadow: 0px 1px 3px 1px rgba(0, 0, 0, 0.15);\n",
              "      filter: drop-shadow(0px 1px 2px rgba(0, 0, 0, 0.3));\n",
              "      fill: #FFFFFF;\n",
              "    }\n",
              "  </style>\n",
              "\n",
              "      <script>\n",
              "        const buttonEl =\n",
              "          document.querySelector('#df-72a0be38-2702-48de-bb21-cf2e49239ecd button.colab-df-convert');\n",
              "        buttonEl.style.display =\n",
              "          google.colab.kernel.accessAllowed ? 'block' : 'none';\n",
              "\n",
              "        async function convertToInteractive(key) {\n",
              "          const element = document.querySelector('#df-72a0be38-2702-48de-bb21-cf2e49239ecd');\n",
              "          const dataTable =\n",
              "            await google.colab.kernel.invokeFunction('convertToInteractive',\n",
              "                                                     [key], {});\n",
              "          if (!dataTable) return;\n",
              "\n",
              "          const docLinkHtml = 'Like what you see? Visit the ' +\n",
              "            '<a target=\"_blank\" href=https://colab.research.google.com/notebooks/data_table.ipynb>data table notebook</a>'\n",
              "            + ' to learn more about interactive tables.';\n",
              "          element.innerHTML = '';\n",
              "          dataTable['output_type'] = 'display_data';\n",
              "          await google.colab.output.renderOutput(dataTable, element);\n",
              "          const docLink = document.createElement('div');\n",
              "          docLink.innerHTML = docLinkHtml;\n",
              "          element.appendChild(docLink);\n",
              "        }\n",
              "      </script>\n",
              "    </div>\n",
              "  </div>\n",
              "  "
            ]
          },
          "metadata": {},
          "execution_count": 592
        }
      ]
    },
    {
      "cell_type": "code",
      "source": [
        "#create a new dataframe showing only the correct predictions\n",
        "correct_predictions = df_predictions[df_predictions['match?']=='match']\n",
        "#get the count of the correct predctions for eah label\n",
        "correct_pred_count_label_0 , correct_pred_count_label_1 = correct_predictions['predicted label'].value_counts()\n",
        "#get the actual label count for each label\n",
        "actual_count_label_0 , actual_count_label_1 = df_predictions['actual label'].value_counts()"
      ],
      "metadata": {
        "id": "1MeFfnPxJfg9"
      },
      "execution_count": null,
      "outputs": []
    },
    {
      "cell_type": "code",
      "source": [
        "#get the accuracy of each labels predictions\n",
        "accuracy_label_0,accuracy_label_1 = correct_pred_count_label_0/actual_count_label_0 , correct_pred_count_label_1/actual_count_label_1\n",
        "accuracy=accuracy_label_0*100,accuracy_label_1*100\n",
        "accuracy=pd.Series(accuracy)\n",
        "print('Accuracy of label 0 (non-fatal): ', accuracy_label_0, '\\nAccuracy of label 1 (fatal): ', accuracy_label_1)"
      ],
      "metadata": {
        "colab": {
          "base_uri": "https://localhost:8080/"
        },
        "outputId": "e9be5ae3-b5a6-45b2-bfc6-570ace6405a6",
        "id": "JMh0n5o_Jfg9"
      },
      "execution_count": null,
      "outputs": [
        {
          "output_type": "stream",
          "name": "stdout",
          "text": [
            "Accuracy of label 0 (non-fatal):  0.8035124326204138 \n",
            "Accuracy of label 1 (fatal):  0.3858733472512178\n"
          ]
        }
      ]
    },
    {
      "cell_type": "code",
      "source": [
        "#plot the accuracy of each labels predictions\n",
        "fig, axes = plt.subplots(figsize=(18, 10))\n",
        "accuracy.plot(kind='barh')\n",
        "plt.yticks((0,1), ('non-Fatal accident', 'Fatal accident'))\n",
        "plt.xticks((0,10,20,30,40,50,60), ('0%', '10%','20%','30%','40%','50%','60%'))\n",
        "plt.xlabel('prectange accuracy')\n",
        "plt.title('percentage accuracy for each class/label')"
      ],
      "metadata": {
        "colab": {
          "base_uri": "https://localhost:8080/",
          "height": 639
        },
        "outputId": "bde52036-b1a1-4c60-99db-bea5a499edc7",
        "id": "jpKjeySzJfg9"
      },
      "execution_count": null,
      "outputs": [
        {
          "output_type": "execute_result",
          "data": {
            "text/plain": [
              "Text(0.5, 1.0, 'percentage accuracy for each class/label')"
            ]
          },
          "metadata": {},
          "execution_count": 595
        },
        {
          "output_type": "display_data",
          "data": {
            "text/plain": [
              "<Figure size 1296x720 with 1 Axes>"
            ],
            "image/png": "[encoded data removed]"
          },
          "metadata": {
            "needs_background": "light"
          }
        }
      ]
    },
    {
      "cell_type": "code",
      "source": [
        "#creating probabilty columns for each label\n",
        "df_predictions['prob fatal']=pd.DataFrame.from_records(df_predictions['probabilities'])[1]\n",
        "df_predictions['prob non-fatal']=pd.DataFrame.from_records(df_predictions['probabilities'])[0]"
      ],
      "metadata": {
        "id": "k0KgSnfeJfg-"
      },
      "execution_count": null,
      "outputs": []
    },
    {
      "cell_type": "code",
      "source": [
        "#create a data frame of only the correct predictions and filter it to rows with high probabilities\n",
        "dataframe_correct_predictions = df_predictions[df_predictions['match?']=='match']\n",
        "dataframe_correct_predictions[(dataframe_correct_predictions['prob non-fatal']>.70 )| (dataframe_correct_predictions['prob fatal']>.70)]\n",
        "#counting incorrect prediciton where prob was high\n",
        "dataframe_incorrect_predictions = df_predictions[df_predictions['match?']=='not match']\n",
        "dataframe_incorrect_predictions[(dataframe_incorrect_predictions['prob non-fatal']>.70 )| (dataframe_incorrect_predictions['prob fatal']>.70)].describe()"
      ],
      "metadata": {
        "colab": {
          "base_uri": "https://localhost:8080/",
          "height": 300
        },
        "outputId": "43e9bb1d-88f6-4b4b-8e48-4d74b4c06e65",
        "id": "hmW0XgsFJfg-"
      },
      "execution_count": null,
      "outputs": [
        {
          "output_type": "execute_result",
          "data": {
            "text/plain": [
              "       actual label  predicted label  prob fatal  prob non-fatal\n",
              "count    121.000000       121.000000  121.000000      121.000000\n",
              "mean       0.545455         0.454545    0.464963        0.535037\n",
              "std        0.500000         0.500000    0.246898        0.246898\n",
              "min        0.000000         0.000000    0.115471        0.198653\n",
              "25%        0.000000         0.000000    0.257704        0.285473\n",
              "50%        1.000000         0.000000    0.281261        0.718739\n",
              "75%        1.000000         1.000000    0.714527        0.742296\n",
              "max        1.000000         1.000000    0.801346        0.884528"
            ],
            "text/html": [
              "\n",
              "  <div id=\"df-3b23c024-ecaa-43ed-90f8-d2970d193e7e\">\n",
              "    <div class=\"colab-df-container\">\n",
              "      <div>\n",
              "<style scoped>\n",
              "    .dataframe tbody tr th:only-of-type {\n",
              "        vertical-align: middle;\n",
              "    }\n",
              "\n",
              "    .dataframe tbody tr th {\n",
              "        vertical-align: top;\n",
              "    }\n",
              "\n",
              "    .dataframe thead th {\n",
              "        text-align: right;\n",
              "    }\n",
              "</style>\n",
              "<table border=\"1\" class=\"dataframe\">\n",
              "  <thead>\n",
              "    <tr style=\"text-align: right;\">\n",
              "      <th></th>\n",
              "      <th>actual label</th>\n",
              "      <th>predicted label</th>\n",
              "      <th>prob fatal</th>\n",
              "      <th>prob non-fatal</th>\n",
              "    </tr>\n",
              "  </thead>\n",
              "  <tbody>\n",
              "    <tr>\n",
              "      <th>count</th>\n",
              "      <td>121.000000</td>\n",
              "      <td>121.000000</td>\n",
              "      <td>121.000000</td>\n",
              "      <td>121.000000</td>\n",
              "    </tr>\n",
              "    <tr>\n",
              "      <th>mean</th>\n",
              "      <td>0.545455</td>\n",
              "      <td>0.454545</td>\n",
              "      <td>0.464963</td>\n",
              "      <td>0.535037</td>\n",
              "    </tr>\n",
              "    <tr>\n",
              "      <th>std</th>\n",
              "      <td>0.500000</td>\n",
              "      <td>0.500000</td>\n",
              "      <td>0.246898</td>\n",
              "      <td>0.246898</td>\n",
              "    </tr>\n",
              "    <tr>\n",
              "      <th>min</th>\n",
              "      <td>0.000000</td>\n",
              "      <td>0.000000</td>\n",
              "      <td>0.115471</td>\n",
              "      <td>0.198653</td>\n",
              "    </tr>\n",
              "    <tr>\n",
              "      <th>25%</th>\n",
              "      <td>0.000000</td>\n",
              "      <td>0.000000</td>\n",
              "      <td>0.257704</td>\n",
              "      <td>0.285473</td>\n",
              "    </tr>\n",
              "    <tr>\n",
              "      <th>50%</th>\n",
              "      <td>1.000000</td>\n",
              "      <td>0.000000</td>\n",
              "      <td>0.281261</td>\n",
              "      <td>0.718739</td>\n",
              "    </tr>\n",
              "    <tr>\n",
              "      <th>75%</th>\n",
              "      <td>1.000000</td>\n",
              "      <td>1.000000</td>\n",
              "      <td>0.714527</td>\n",
              "      <td>0.742296</td>\n",
              "    </tr>\n",
              "    <tr>\n",
              "      <th>max</th>\n",
              "      <td>1.000000</td>\n",
              "      <td>1.000000</td>\n",
              "      <td>0.801346</td>\n",
              "      <td>0.884528</td>\n",
              "    </tr>\n",
              "  </tbody>\n",
              "</table>\n",
              "</div>\n",
              "      <button class=\"colab-df-convert\" onclick=\"convertToInteractive('df-3b23c024-ecaa-43ed-90f8-d2970d193e7e')\"\n",
              "              title=\"Convert this dataframe to an interactive table.\"\n",
              "              style=\"display:none;\">\n",
              "        \n",
              "  <svg xmlns=\"http://www.w3.org/2000/svg\" height=\"24px\"viewBox=\"0 0 24 24\"\n",
              "       width=\"24px\">\n",
              "    <path d=\"M0 0h24v24H0V0z\" fill=\"none\"/>\n",
              "    <path d=\"M18.56 5.44l.94 2.06.94-2.06 2.06-.94-2.06-.94-.94-2.06-.94 2.06-2.06.94zm-11 1L8.5 8.5l.94-2.06 2.06-.94-2.06-.94L8.5 2.5l-.94 2.06-2.06.94zm10 10l.94 2.06.94-2.06 2.06-.94-2.06-.94-.94-2.06-.94 2.06-2.06.94z\"/><path d=\"M17.41 7.96l-1.37-1.37c-.4-.4-.92-.59-1.43-.59-.52 0-1.04.2-1.43.59L10.3 9.45l-7.72 7.72c-.78.78-.78 2.05 0 2.83L4 21.41c.39.39.9.59 1.41.59.51 0 1.02-.2 1.41-.59l7.78-7.78 2.81-2.81c.8-.78.8-2.07 0-2.86zM5.41 20L4 18.59l7.72-7.72 1.47 1.35L5.41 20z\"/>\n",
              "  </svg>\n",
              "      </button>\n",
              "      \n",
              "  <style>\n",
              "    .colab-df-container {\n",
              "      display:flex;\n",
              "      flex-wrap:wrap;\n",
              "      gap: 12px;\n",
              "    }\n",
              "\n",
              "    .colab-df-convert {\n",
              "      background-color: #E8F0FE;\n",
              "      border: none;\n",
              "      border-radius: 50%;\n",
              "      cursor: pointer;\n",
              "      display: none;\n",
              "      fill: #1967D2;\n",
              "      height: 32px;\n",
              "      padding: 0 0 0 0;\n",
              "      width: 32px;\n",
              "    }\n",
              "\n",
              "    .colab-df-convert:hover {\n",
              "      background-color: #E2EBFA;\n",
              "      box-shadow: 0px 1px 2px rgba(60, 64, 67, 0.3), 0px 1px 3px 1px rgba(60, 64, 67, 0.15);\n",
              "      fill: #174EA6;\n",
              "    }\n",
              "\n",
              "    [theme=dark] .colab-df-convert {\n",
              "      background-color: #3B4455;\n",
              "      fill: #D2E3FC;\n",
              "    }\n",
              "\n",
              "    [theme=dark] .colab-df-convert:hover {\n",
              "      background-color: #434B5C;\n",
              "      box-shadow: 0px 1px 3px 1px rgba(0, 0, 0, 0.15);\n",
              "      filter: drop-shadow(0px 1px 2px rgba(0, 0, 0, 0.3));\n",
              "      fill: #FFFFFF;\n",
              "    }\n",
              "  </style>\n",
              "\n",
              "      <script>\n",
              "        const buttonEl =\n",
              "          document.querySelector('#df-3b23c024-ecaa-43ed-90f8-d2970d193e7e button.colab-df-convert');\n",
              "        buttonEl.style.display =\n",
              "          google.colab.kernel.accessAllowed ? 'block' : 'none';\n",
              "\n",
              "        async function convertToInteractive(key) {\n",
              "          const element = document.querySelector('#df-3b23c024-ecaa-43ed-90f8-d2970d193e7e');\n",
              "          const dataTable =\n",
              "            await google.colab.kernel.invokeFunction('convertToInteractive',\n",
              "                                                     [key], {});\n",
              "          if (!dataTable) return;\n",
              "\n",
              "          const docLinkHtml = 'Like what you see? Visit the ' +\n",
              "            '<a target=\"_blank\" href=https://colab.research.google.com/notebooks/data_table.ipynb>data table notebook</a>'\n",
              "            + ' to learn more about interactive tables.';\n",
              "          element.innerHTML = '';\n",
              "          dataTable['output_type'] = 'display_data';\n",
              "          await google.colab.output.renderOutput(dataTable, element);\n",
              "          const docLink = document.createElement('div');\n",
              "          docLink.innerHTML = docLinkHtml;\n",
              "          element.appendChild(docLink);\n",
              "        }\n",
              "      </script>\n",
              "    </div>\n",
              "  </div>\n",
              "  "
            ]
          },
          "metadata": {},
          "execution_count": 597
        }
      ]
    },
    {
      "cell_type": "markdown",
      "source": [
        ""
      ],
      "metadata": {
        "id": "G8RwtDd_Jfg-"
      }
    }
  ]
}